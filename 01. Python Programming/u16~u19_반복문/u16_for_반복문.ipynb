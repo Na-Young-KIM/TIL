{
  "nbformat": 4,
  "nbformat_minor": 0,
  "metadata": {
    "colab": {
      "name": "u16_for 반복문.ipynb",
      "provenance": [],
      "collapsed_sections": []
    },
    "kernelspec": {
      "name": "python3",
      "display_name": "Python 3"
    },
    "language_info": {
      "name": "python"
    }
  },
  "cells": [
    {
      "cell_type": "markdown",
      "metadata": {
        "id": "U2pPTg6voewk"
      },
      "source": [
        "# Unit 16. for 반복문으로 Hello, world! 100번 출력하기"
      ]
    },
    {
      "cell_type": "markdown",
      "metadata": {
        "id": "o5j75pQmokz-"
      },
      "source": [
        "## 16.1 for와 range 사용하기"
      ]
    },
    {
      "cell_type": "code",
      "metadata": {
        "colab": {
          "base_uri": "https://localhost:8080/"
        },
        "id": "IsCvaLwwoTRQ",
        "outputId": "b15e3aa5-8236-45fa-f0f0-6e7ecfa9a5f2"
      },
      "source": [
        "for i in range(5):\n",
        "  print('Hello, world!')"
      ],
      "execution_count": 5,
      "outputs": [
        {
          "output_type": "stream",
          "text": [
            "Hello, world!\n",
            "Hello, world!\n",
            "Hello, world!\n",
            "Hello, world!\n",
            "Hello, world!\n"
          ],
          "name": "stdout"
        }
      ]
    },
    {
      "cell_type": "code",
      "metadata": {
        "colab": {
          "base_uri": "https://localhost:8080/"
        },
        "id": "uA4B0UV7pize",
        "outputId": "c4f6902b-cbe6-4f42-c5eb-807e076355f9"
      },
      "source": [
        "## 16.1.1  반복문에서 변수의 변화 알아보기\n",
        "for i in range(5) :\n",
        "  print('hello, world', i)"
      ],
      "execution_count": 6,
      "outputs": [
        {
          "output_type": "stream",
          "text": [
            "hello, world 0\n",
            "hello, world 1\n",
            "hello, world 2\n",
            "hello, world 3\n",
            "hello, world 4\n"
          ],
          "name": "stdout"
        }
      ]
    },
    {
      "cell_type": "markdown",
      "metadata": {
        "id": "mEm7r5Clp1U8"
      },
      "source": [
        "## 16.2 for와 range 응용하기"
      ]
    },
    {
      "cell_type": "code",
      "metadata": {
        "colab": {
          "base_uri": "https://localhost:8080/"
        },
        "id": "saEQESkkprFd",
        "outputId": "d13a90d6-2d92-4ec4-abc3-2395b2307112"
      },
      "source": [
        "## 16.2.1  시작하는 숫자와 끝나는 숫자 지정하기\n",
        "for i in range(5, 12):\n",
        "  print('hello, world', i)"
      ],
      "execution_count": 8,
      "outputs": [
        {
          "output_type": "stream",
          "text": [
            "hello, world 5\n",
            "hello, world 6\n",
            "hello, world 7\n",
            "hello, world 8\n",
            "hello, world 9\n",
            "hello, world 10\n",
            "hello, world 11\n"
          ],
          "name": "stdout"
        }
      ]
    },
    {
      "cell_type": "code",
      "metadata": {
        "colab": {
          "base_uri": "https://localhost:8080/"
        },
        "id": "cFVHejDtqCIr",
        "outputId": "b54add7e-22c4-47a3-95a4-9913fc3e53df"
      },
      "source": [
        "## 16.2.2  증가폭 사용하기\n",
        "for i in range(0, 10, 2):\n",
        "  print('hello, world', i)"
      ],
      "execution_count": 11,
      "outputs": [
        {
          "output_type": "stream",
          "text": [
            "hello, world 0\n",
            "hello, world 2\n",
            "hello, world 4\n",
            "hello, world 6\n",
            "hello, world 8\n"
          ],
          "name": "stdout"
        }
      ]
    },
    {
      "cell_type": "code",
      "metadata": {
        "colab": {
          "base_uri": "https://localhost:8080/"
        },
        "id": "NWxo6ay7qQ8t",
        "outputId": "20786ed6-8ead-4538-d68a-cf54a1673ddf"
      },
      "source": [
        "## 16.2.3  숫자를 감소시키기\n",
        "for i in range(10, 0, -1):\n",
        "  print(i, end = \" \")"
      ],
      "execution_count": 14,
      "outputs": [
        {
          "output_type": "stream",
          "text": [
            "10 9 8 7 6 5 4 3 2 1 "
          ],
          "name": "stdout"
        }
      ]
    },
    {
      "cell_type": "code",
      "metadata": {
        "colab": {
          "base_uri": "https://localhost:8080/"
        },
        "id": "7khCygZSrlCH",
        "outputId": "ab4333a2-2fab-401a-81dc-015e0c3a3093"
      },
      "source": [
        "## 16.2.4  입력한 횟수대로 반복하기\n",
        "count = int(input('반복할 횟수를 입력하세요: '))\n",
        " \n",
        "for i in range(count):\n",
        "    print('Hello, world!', i)"
      ],
      "execution_count": 15,
      "outputs": [
        {
          "output_type": "stream",
          "text": [
            "반복할 횟수를 입력하세요: 4\n",
            "Hello, world! 0\n",
            "Hello, world! 1\n",
            "Hello, world! 2\n",
            "Hello, world! 3\n"
          ],
          "name": "stdout"
        }
      ]
    },
    {
      "cell_type": "markdown",
      "metadata": {
        "id": "lV5XD4CcrujX"
      },
      "source": [
        "## 16.3 시퀀스 객체로 반복하기"
      ]
    },
    {
      "cell_type": "code",
      "metadata": {
        "colab": {
          "base_uri": "https://localhost:8080/"
        },
        "id": "DL2AgjmarxsN",
        "outputId": "da24544b-9a4b-446b-eeb8-8df5d1c51b2d"
      },
      "source": [
        "a = [10, 20, 30, 40, 50]\n",
        "\n",
        "for i in a :\n",
        "  print(i)"
      ],
      "execution_count": 17,
      "outputs": [
        {
          "output_type": "stream",
          "text": [
            "10\n",
            "20\n",
            "30\n",
            "40\n",
            "50\n"
          ],
          "name": "stdout"
        }
      ]
    },
    {
      "cell_type": "code",
      "metadata": {
        "colab": {
          "base_uri": "https://localhost:8080/"
        },
        "id": "F-v_oCYDr7en",
        "outputId": "b230eab5-25b9-4290-b438-09c3a6d9539a"
      },
      "source": [
        "fruits = ('apple', 'orange', 'grape')\n",
        "\n",
        "for i in fruits:\n",
        "  print(i)"
      ],
      "execution_count": 19,
      "outputs": [
        {
          "output_type": "stream",
          "text": [
            "apple\n",
            "orange\n",
            "grape\n"
          ],
          "name": "stdout"
        }
      ]
    },
    {
      "cell_type": "code",
      "metadata": {
        "colab": {
          "base_uri": "https://localhost:8080/"
        },
        "id": "-Z2t9c50sDv2",
        "outputId": "c81a71cd-6ec8-4266-95f7-f4d52546b872"
      },
      "source": [
        "for letter in 'python':\n",
        "  print(letter, end = ' ')"
      ],
      "execution_count": 23,
      "outputs": [
        {
          "output_type": "stream",
          "text": [
            "p y t h o n "
          ],
          "name": "stdout"
        }
      ]
    },
    {
      "cell_type": "code",
      "metadata": {
        "colab": {
          "base_uri": "https://localhost:8080/"
        },
        "id": "YhHgEylFzBTL",
        "outputId": "44d19340-db85-4519-d9ca-db7fffd1910f"
      },
      "source": [
        "# 퀴즈\n",
        "# 1~100까지 3의 배수면 Fizz, 5의 배수면 Buzz, 15의 배수면 FizzBuzz를 출력\n",
        "for num in range(1, 101) :\n",
        "  if num % 15 == 0 :\n",
        "    print('Fizzbuzz', end = ' ')\n",
        "  elif num % 3 == 0 :\n",
        "    print('Fizz', end = ' ')\n",
        "  elif num % 5 == 0 :\n",
        "    print('Buzz', end = ' ')\n",
        "  else :\n",
        "    print(num, end = ' ')\n",
        "  if (num % 10 == 0) :    # 10의 배수마다 줄바꿈\n",
        "    print()"
      ],
      "execution_count": 30,
      "outputs": [
        {
          "output_type": "stream",
          "text": [
            "1 2 Fizz 4 Buzz Fizz 7 8 Fizz Buzz \n",
            "11 Fizz 13 14 Fizzbuzz 16 17 Fizz 19 Buzz \n",
            "Fizz 22 23 Fizz Buzz 26 Fizz 28 29 Fizzbuzz \n",
            "31 32 Fizz 34 Buzz Fizz 37 38 Fizz Buzz \n",
            "41 Fizz 43 44 Fizzbuzz 46 47 Fizz 49 Buzz \n",
            "Fizz 52 53 Fizz Buzz 56 Fizz 58 59 Fizzbuzz \n",
            "61 62 Fizz 64 Buzz Fizz 67 68 Fizz Buzz \n",
            "71 Fizz 73 74 Fizzbuzz 76 77 Fizz 79 Buzz \n",
            "Fizz 82 83 Fizz Buzz 86 Fizz 88 89 Fizzbuzz \n",
            "91 92 Fizz 94 Buzz Fizz 97 98 Fizz Buzz \n"
          ],
          "name": "stdout"
        }
      ]
    },
    {
      "cell_type": "code",
      "metadata": {
        "colab": {
          "base_uri": "https://localhost:8080/"
        },
        "id": "vFHLzcQ13Zz_",
        "outputId": "7dae8c22-20e9-405f-fc0d-ca8724b047dd"
      },
      "source": [
        "## 퀴즈 \n",
        "## 10000까지의 숫자 중에서 자기 자신을 제외한 약수의 합이 자기자신과 같은 수 (perfect number)\n",
        "for num in range(2, 10001):\n",
        "  sum = 0\n",
        "  for i in range(1, num) :\n",
        "    if num % i == 0 :\n",
        "      sum += i\n",
        "      \n",
        "  if sum == num :\n",
        "    print(num)"
      ],
      "execution_count": 40,
      "outputs": [
        {
          "output_type": "stream",
          "text": [
            "6\n",
            "28\n",
            "496\n",
            "8128\n"
          ],
          "name": "stdout"
        }
      ]
    },
    {
      "cell_type": "markdown",
      "metadata": {
        "id": "N9dtoxFFtLL1"
      },
      "source": [
        "## 16.6 심사문제 : 구구단 출력하기\n",
        "표준 입력으로 정수가 입력됩니다. 입력된 정수의 구구단을 출력하는 프로그램을 만드세요(input에서 안내 문자열은 출력하지 않아야 합니다). 출력 형식은 숫자 * 숫자 = 숫자처럼 만들고 숫자와 *, = 사이는 공백을 한 칸 띄웁니다."
      ]
    },
    {
      "cell_type": "code",
      "metadata": {
        "colab": {
          "base_uri": "https://localhost:8080/"
        },
        "id": "rRQ-zyTzsMJ9",
        "outputId": "f47b757f-6cf6-41a8-eb41-5e777609055d"
      },
      "source": [
        "num = int(input())\n",
        "\n",
        "for i in range(1, 10):\n",
        "  print(str(num) + ' * ' + str(i) + ' = ' + str(num*i))"
      ],
      "execution_count": 26,
      "outputs": [
        {
          "output_type": "stream",
          "text": [
            "7\n",
            "7 * 1 = 7\n",
            "7 * 2 = 14\n",
            "7 * 3 = 21\n",
            "7 * 4 = 28\n",
            "7 * 5 = 35\n",
            "7 * 6 = 42\n",
            "7 * 7 = 49\n",
            "7 * 8 = 56\n",
            "7 * 9 = 63\n"
          ],
          "name": "stdout"
        }
      ]
    }
  ]
}