{
  "nbformat": 4,
  "nbformat_minor": 0,
  "metadata": {
    "colab": {
      "name": "u19_계단식.ipynb",
      "provenance": [],
      "collapsed_sections": []
    },
    "kernelspec": {
      "name": "python3",
      "display_name": "Python 3"
    },
    "language_info": {
      "name": "python"
    }
  },
  "cells": [
    {
      "cell_type": "markdown",
      "metadata": {
        "id": "1cEa18YSFBGX"
      },
      "source": [
        "## 19.1 중첩 루프 사용하기"
      ]
    },
    {
      "cell_type": "code",
      "metadata": {
        "colab": {
          "base_uri": "https://localhost:8080/"
        },
        "id": "SjAmxTzwClto",
        "outputId": "7a22fa77-f26b-410f-dafc-148ece73f5bd"
      },
      "source": [
        "for i in range(5):          # 5번 반복. 바깥쪽 루프는 세로 방향\n",
        "    for j in range(5):      # 5번 반복. 안쪽 루프는 가로 방향\n",
        "        print('j:', j, sep='', end=' ')    # j값 출력. end에 ' '를 지정하여 줄바꿈 대신 한 칸 띄움\n",
        "    print('i:', i, '\\\\n', sep='')    # i값 출력, 개행 문자 모양도 출력\n",
        "                                     # 가로 방향으로 숫자를 모두 출력한 뒤 다음 줄로 넘어감\n",
        "                                     # (print는 기본적으로 출력 후 다음 줄로 넘어감)"
      ],
      "execution_count": 1,
      "outputs": [
        {
          "output_type": "stream",
          "text": [
            "j:0 j:1 j:2 j:3 j:4 i:0\\n\n",
            "j:0 j:1 j:2 j:3 j:4 i:1\\n\n",
            "j:0 j:1 j:2 j:3 j:4 i:2\\n\n",
            "j:0 j:1 j:2 j:3 j:4 i:3\\n\n",
            "j:0 j:1 j:2 j:3 j:4 i:4\\n\n"
          ],
          "name": "stdout"
        }
      ]
    },
    {
      "cell_type": "markdown",
      "metadata": {
        "id": "eY02mIohFW_k"
      },
      "source": [
        "## 19.2 사각형으로 별 출력하기"
      ]
    },
    {
      "cell_type": "code",
      "metadata": {
        "colab": {
          "base_uri": "https://localhost:8080/"
        },
        "id": "Ijvl03B8FKWI",
        "outputId": "58e85ffc-7308-40a9-e8c1-67234964c39d"
      },
      "source": [
        "for i in range(5):\n",
        "  for j in range(5):\n",
        "    print('*', end='')\n",
        "  print()"
      ],
      "execution_count": 5,
      "outputs": [
        {
          "output_type": "stream",
          "text": [
            "*****\n",
            "*****\n",
            "*****\n",
            "*****\n",
            "*****\n"
          ],
          "name": "stdout"
        }
      ]
    },
    {
      "cell_type": "code",
      "metadata": {
        "colab": {
          "base_uri": "https://localhost:8080/"
        },
        "id": "WtywnnN-Fote",
        "outputId": "865a08e6-8d98-47a4-ad98-a6966c54bd43"
      },
      "source": [
        "## 19.2.1 사각형 모양 바꾸기\n",
        "for i in range(3):\n",
        "  for j in range(7):\n",
        "    print('*', end='')\n",
        "  print()"
      ],
      "execution_count": 8,
      "outputs": [
        {
          "output_type": "stream",
          "text": [
            "*******\n",
            "*******\n",
            "*******\n"
          ],
          "name": "stdout"
        }
      ]
    },
    {
      "cell_type": "code",
      "metadata": {
        "colab": {
          "base_uri": "https://localhost:8080/"
        },
        "id": "FKCGzwL2dazv",
        "outputId": "df8446d8-b124-4894-bd73-d0b8264a966f"
      },
      "source": [
        "## 퀴즈 : 평행사변형 출려하기\n",
        "for i in range(5):\n",
        "  for k in range(0,i):\n",
        "    print(' ', end = '')\n",
        "  for k in range(5): \n",
        "    print('*', end='')\n",
        "  print()"
      ],
      "execution_count": 55,
      "outputs": [
        {
          "output_type": "stream",
          "text": [
            "*****\n",
            " *****\n",
            "  *****\n",
            "   *****\n",
            "    *****\n"
          ],
          "name": "stdout"
        }
      ]
    },
    {
      "cell_type": "markdown",
      "metadata": {
        "id": "wkDC9OYXF4mk"
      },
      "source": [
        "## 19.3 계단식으로 별 출력하기"
      ]
    },
    {
      "cell_type": "code",
      "metadata": {
        "colab": {
          "base_uri": "https://localhost:8080/"
        },
        "id": "bMErf_aBFz56",
        "outputId": "df754f37-ed21-4df3-b73b-667471fa3fc4"
      },
      "source": [
        "for i in range(5):\n",
        "  for j in range(5):\n",
        "    if j <= i :\n",
        "      print('*', end='')\n",
        "  print()"
      ],
      "execution_count": 12,
      "outputs": [
        {
          "output_type": "stream",
          "text": [
            "*\n",
            "**\n",
            "***\n",
            "****\n",
            "*****\n"
          ],
          "name": "stdout"
        }
      ]
    },
    {
      "cell_type": "code",
      "metadata": {
        "colab": {
          "base_uri": "https://localhost:8080/"
        },
        "id": "kFk9B6Y_f-Rt",
        "outputId": "e2973cf8-0e53-42e7-a423-f4d78995748f"
      },
      "source": [
        "for i in range(5):\n",
        "  for j in range(i):\n",
        "    print(' ', end = '')\n",
        "  for j in range(5-i):\n",
        "    print('*', end = '')\n",
        "  print()"
      ],
      "execution_count": 57,
      "outputs": [
        {
          "output_type": "stream",
          "text": [
            "*****\n",
            " ****\n",
            "  ***\n",
            "   **\n",
            "    *\n"
          ],
          "name": "stdout"
        }
      ]
    },
    {
      "cell_type": "code",
      "metadata": {
        "colab": {
          "base_uri": "https://localhost:8080/"
        },
        "id": "VEoDsk2qGuc9",
        "outputId": "99b59f6c-1a0e-48f5-9dfd-0527db2ea382"
      },
      "source": [
        "## 19.3.1 대각선으로 별 출력하기\n",
        "for i in range(5):\n",
        "  for j in range(5):\n",
        "    if i == j:\n",
        "      print('*', end='')\n",
        "    else :\n",
        "      print(\" \", end='')\n",
        "  print()"
      ],
      "execution_count": 26,
      "outputs": [
        {
          "output_type": "stream",
          "text": [
            "*    \n",
            " *   \n",
            "  *  \n",
            "   * \n",
            "    *\n"
          ],
          "name": "stdout"
        }
      ]
    },
    {
      "cell_type": "code",
      "metadata": {
        "colab": {
          "base_uri": "https://localhost:8080/"
        },
        "id": "JsGLJseTkq8R",
        "outputId": "eaa361a8-d86a-4f23-e125-d5ffcc22f5db"
      },
      "source": [
        "# 퀴즈 : 다이아몬드 만들기\n",
        "for i in range(5):\n",
        "  for _ in range(4-i):\n",
        "    print(' ', end = '')\n",
        "  for _ in range(2*i+1):\n",
        "    print('*', end = '')\n",
        "  print()\n",
        "\n",
        "for i in range(5):\n",
        "  for _ in range(i):\n",
        "    print(' ', end = '')\n",
        "  for _ in range(2*(4-i)+1):\n",
        "    print('*', end = '')\n",
        "  print()"
      ],
      "execution_count": 78,
      "outputs": [
        {
          "output_type": "stream",
          "text": [
            "    *\n",
            "   ***\n",
            "  *****\n",
            " *******\n",
            "*********\n",
            "*********\n",
            " *******\n",
            "  *****\n",
            "   ***\n",
            "    *\n"
          ],
          "name": "stdout"
        }
      ]
    },
    {
      "cell_type": "code",
      "metadata": {
        "colab": {
          "base_uri": "https://localhost:8080/"
        },
        "id": "tEuz8io9hoGR",
        "outputId": "9396073e-ae19-4907-a328-2f22aea2fde5"
      },
      "source": [
        "## 퀴즈 : 다이아몬드 만들기(일반화)\n",
        "dia = 9\n",
        "\n",
        "for i in range((dia-1)//2+1):\n",
        "  for _ in range((dia-1)//2-i):\n",
        "    print(' ', end='')\n",
        "  for _ in range(2*i+1) :\n",
        "    print('*', end='')\n",
        "  print()\n",
        "for i in range((dia-1)//2+1):\n",
        "  for _ in range(i):\n",
        "    print(' ', end='')\n",
        "  for _ in range(dia-2*i) :\n",
        "    print('*', end='')\n",
        "  print()"
      ],
      "execution_count": 86,
      "outputs": [
        {
          "output_type": "stream",
          "text": [
            "    *\n",
            "   ***\n",
            "  *****\n",
            " *******\n",
            "*********\n",
            "*********\n",
            " *******\n",
            "  *****\n",
            "   ***\n",
            "    *\n"
          ],
          "name": "stdout"
        }
      ]
    },
    {
      "cell_type": "markdown",
      "metadata": {
        "id": "Ib0o-Dc0InR3"
      },
      "source": [
        "## 19.6 심사문제: 산 모양으로 별 출력하기\n",
        "표준 입력으로 삼각형의 높이가 입력됩니다. 입력된 높이만큼 산 모양으로 별을 출력하는 프로그램을 만드세요(input에서 안내 문자열은 출력하지 않아야 합니다). 이때 출력 결과는 예제와 정확히 일치해야 합니다. 모양이 같더라도 공백이나 빈 줄이 더 들어가면 틀린 것으로 처리됩니다."
      ]
    },
    {
      "cell_type": "code",
      "metadata": {
        "colab": {
          "base_uri": "https://localhost:8080/"
        },
        "id": "4EB-I-JGHYdD",
        "outputId": "9fc45bb3-b8d8-4a26-d6b7-fd208632d036"
      },
      "source": [
        "num = int(input())\n",
        "for i in range(num):\n",
        "  for j in range(num*2):\n",
        "    if j < num-i-1 or j > num+i-1 : \n",
        "      print(' ', end = '')\n",
        "    else :\n",
        "      print(\"*\", end='')\n",
        "  print()"
      ],
      "execution_count": 44,
      "outputs": [
        {
          "output_type": "stream",
          "text": [
            "3\n",
            "  *   \n",
            " ***  \n",
            "***** \n"
          ],
          "name": "stdout"
        }
      ]
    }
  ]
}