{
  "nbformat": 4,
  "nbformat_minor": 0,
  "metadata": {
    "colab": {
      "name": "u17_while 반복문.ipynb",
      "provenance": [],
      "collapsed_sections": []
    },
    "kernelspec": {
      "name": "python3",
      "display_name": "Python 3"
    },
    "language_info": {
      "name": "python"
    }
  },
  "cells": [
    {
      "cell_type": "markdown",
      "metadata": {
        "id": "8t8cWjaLuMdE"
      },
      "source": [
        "\n",
        "# Unit 17. while 반복문으로 Hello, world! 100번 출력하기\n",
        "\n"
      ]
    },
    {
      "cell_type": "markdown",
      "metadata": {
        "id": "ZndTabL5uSa2"
      },
      "source": [
        "## 17.1 while 반복문 사용하기"
      ]
    },
    {
      "cell_type": "code",
      "metadata": {
        "colab": {
          "base_uri": "https://localhost:8080/"
        },
        "id": "m-JIVrP2uHw1",
        "outputId": "027c2f1d-bc06-4fa0-94b2-cb8024e7abd6"
      },
      "source": [
        "i = 0 \n",
        "\n",
        "while i < 5 :\n",
        "  print('hello, world!')\n",
        "  i += 1"
      ],
      "execution_count": 3,
      "outputs": [
        {
          "output_type": "stream",
          "text": [
            "hello, world!\n",
            "hello, world!\n",
            "hello, world!\n",
            "hello, world!\n",
            "hello, world!\n"
          ],
          "name": "stdout"
        }
      ]
    },
    {
      "cell_type": "code",
      "metadata": {
        "colab": {
          "base_uri": "https://localhost:8080/"
        },
        "id": "pLoY0Cq2utsf",
        "outputId": "fb01276e-81e0-47cb-b2a0-b92b24026a87"
      },
      "source": [
        "## 17.1.1  초깃값을 1부터 시작하기\n",
        "i = 1\n",
        "while i <= 5 :\n",
        "  print(i)\n",
        "  i += 1"
      ],
      "execution_count": 7,
      "outputs": [
        {
          "output_type": "stream",
          "text": [
            "1\n",
            "2\n",
            "3\n",
            "4\n",
            "5\n"
          ],
          "name": "stdout"
        }
      ]
    },
    {
      "cell_type": "code",
      "metadata": {
        "colab": {
          "base_uri": "https://localhost:8080/"
        },
        "id": "XJDJEzfGu7Ql",
        "outputId": "c1a50b19-f7b8-478a-82de-0847fcc8a849"
      },
      "source": [
        "## 17.1.2  초깃값을 감소시키기\n",
        "i = 10\n",
        "\n",
        "while i > 0 :\n",
        "  print(i, end = ' ')\n",
        "  i -= 1 "
      ],
      "execution_count": 9,
      "outputs": [
        {
          "output_type": "stream",
          "text": [
            "10 9 8 7 6 5 4 3 2 1 "
          ],
          "name": "stdout"
        }
      ]
    },
    {
      "cell_type": "code",
      "metadata": {
        "colab": {
          "base_uri": "https://localhost:8080/"
        },
        "id": "GLrauby5vKw2",
        "outputId": "7804ed75-b1d5-4f85-8270-98ac8ec13977"
      },
      "source": [
        "## 17.1.3 입력한 횟수대로 반복하기\n",
        "count = int(input())\n",
        "\n",
        "i = 0\n",
        "while i < count :\n",
        "  print(i, end = ' ')\n",
        "  i += 1"
      ],
      "execution_count": 13,
      "outputs": [
        {
          "output_type": "stream",
          "text": [
            "3\n",
            "0 1 2 "
          ],
          "name": "stdout"
        }
      ]
    },
    {
      "cell_type": "code",
      "metadata": {
        "colab": {
          "base_uri": "https://localhost:8080/"
        },
        "id": "CL1tAmUwvlr_",
        "outputId": "c7accc98-4f35-42be-a53b-ecc4d93adfb9"
      },
      "source": [
        "count = int(input())\n",
        "\n",
        "while count > 0 :\n",
        "  print(count, end = ' ')\n",
        "  count -= 1"
      ],
      "execution_count": 16,
      "outputs": [
        {
          "output_type": "stream",
          "text": [
            "3\n",
            "3 2 1 "
          ],
          "name": "stdout"
        }
      ]
    },
    {
      "cell_type": "markdown",
      "metadata": {
        "id": "HPxUjvNcxZCc"
      },
      "source": [
        "## 17.2 반복 횟수가 정해지지 않은 경우"
      ]
    },
    {
      "cell_type": "code",
      "metadata": {
        "id": "9ejBeFkWxcm4"
      },
      "source": [
        "import random"
      ],
      "execution_count": 17,
      "outputs": []
    },
    {
      "cell_type": "code",
      "metadata": {
        "colab": {
          "base_uri": "https://localhost:8080/"
        },
        "id": "UF-Y25KPxnq8",
        "outputId": "2a18a61f-da52-4450-cb3a-65b61a5770ee"
      },
      "source": [
        "print(random.random())\n",
        "print(random.random())\n",
        "print(random.random())"
      ],
      "execution_count": 19,
      "outputs": [
        {
          "output_type": "stream",
          "text": [
            "0.3518566366493351\n",
            "0.008697551379197366\n",
            "0.3570596512167904\n"
          ],
          "name": "stdout"
        }
      ]
    },
    {
      "cell_type": "code",
      "metadata": {
        "colab": {
          "base_uri": "https://localhost:8080/"
        },
        "id": "DVWHLfEaxu-b",
        "outputId": "52e92bbf-6918-4f5d-94fc-e80d41ac5fbf"
      },
      "source": [
        "print(random.randint(1,10))\n",
        "print(random.randint(1,10))\n",
        "print(random.randint(1,10))"
      ],
      "execution_count": 21,
      "outputs": [
        {
          "output_type": "stream",
          "text": [
            "4\n",
            "9\n",
            "5\n"
          ],
          "name": "stdout"
        }
      ]
    },
    {
      "cell_type": "code",
      "metadata": {
        "colab": {
          "base_uri": "https://localhost:8080/"
        },
        "id": "NNxQNS0Dx4Iy",
        "outputId": "243c739f-bd56-45ca-8d48-a165a6fcef23"
      },
      "source": [
        "import random\n",
        "\n",
        "i = 0 \n",
        "while i != 3 :\n",
        "  i = random.randint(1,6)\n",
        "  print(i, end = ' ')"
      ],
      "execution_count": 23,
      "outputs": [
        {
          "output_type": "stream",
          "text": [
            "2 3 "
          ],
          "name": "stdout"
        }
      ]
    },
    {
      "cell_type": "code",
      "metadata": {
        "colab": {
          "base_uri": "https://localhost:8080/"
        },
        "id": "WYD1R40HyIUC",
        "outputId": "12ede9e6-d37a-43f4-8aec-ea635de04176"
      },
      "source": [
        "## 참고 : random.choice\n",
        "dice = [1, 2, 3, 4, 5, 6]\n",
        "print(random.choice(dice))\n",
        "print(random.choice(dice))\n",
        "print(random.choice(dice))"
      ],
      "execution_count": 24,
      "outputs": [
        {
          "output_type": "stream",
          "text": [
            "4\n",
            "2\n",
            "5\n"
          ],
          "name": "stdout"
        }
      ]
    },
    {
      "cell_type": "markdown",
      "metadata": {
        "id": "mqr-YIEpygpf"
      },
      "source": [
        "## 17.3 while 반복문으로 무한 루프 만들기"
      ]
    },
    {
      "cell_type": "code",
      "metadata": {
        "id": "wOmFOueVywvr"
      },
      "source": [
        "while True :\n",
        "  print('hello')"
      ],
      "execution_count": null,
      "outputs": []
    },
    {
      "cell_type": "code",
      "metadata": {
        "id": "VcG0l7Odz2ka"
      },
      "source": [
        "while 1 :\n",
        "  print('hello')"
      ],
      "execution_count": null,
      "outputs": []
    },
    {
      "cell_type": "code",
      "metadata": {
        "id": "_qGeFwHIz5wF"
      },
      "source": [
        "while 'python':\n",
        "  print('hello')"
      ],
      "execution_count": null,
      "outputs": []
    },
    {
      "cell_type": "markdown",
      "metadata": {
        "id": "7rGWW03u1Gdl"
      },
      "source": [
        "## 17.6 심사문제 : 교통카드 잔액 출력하기\n",
        "표준 입력으로 금액(정수)이 입력됩니다. 1회당 요금은 1,350원이고, 교통카드를 사용했을 때마다의 잔액을 각 줄에 출력하는 프로그램을 만드세요(input에서 안내 문자열은 출력하지 않아야 합니다). 단, 최초 금액은 출력하지 않아야 합니다. 그리고 잔액은 음수가 될 수 없으며 잔액이 부족하면 출력을 끝냅니다."
      ]
    },
    {
      "cell_type": "code",
      "metadata": {
        "colab": {
          "base_uri": "https://localhost:8080/"
        },
        "id": "y8A7YwQF1O31",
        "outputId": "f8cfe8a5-41c1-4d51-f548-ddcf5d66e14e"
      },
      "source": [
        "balance = int(input())\n",
        "\n",
        "while balance >= 1350 :\n",
        "  balance -= 1350\n",
        "  print(balance )"
      ],
      "execution_count": 33,
      "outputs": [
        {
          "output_type": "stream",
          "text": [
            "13500\n",
            "12150\n",
            "10800\n",
            "9450\n",
            "8100\n",
            "6750\n",
            "5400\n",
            "4050\n",
            "2700\n",
            "1350\n",
            "0\n"
          ],
          "name": "stdout"
        }
      ]
    }
  ]
}