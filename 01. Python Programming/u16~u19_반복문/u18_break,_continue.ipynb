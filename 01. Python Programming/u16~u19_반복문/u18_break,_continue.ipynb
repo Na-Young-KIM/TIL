{
  "nbformat": 4,
  "nbformat_minor": 0,
  "metadata": {
    "colab": {
      "name": "u18_break, continue.ipynb",
      "provenance": [],
      "collapsed_sections": []
    },
    "kernelspec": {
      "name": "python3",
      "display_name": "Python 3"
    },
    "language_info": {
      "name": "python"
    }
  },
  "cells": [
    {
      "cell_type": "markdown",
      "metadata": {
        "id": "0ccp3T-Z2pbQ"
      },
      "source": [
        "# Unit 18. break, continue로 반복문 제어하기\n",
        "- break: 제어흐름 중단\n",
        "- continue: 제어흐름 유지, 코드 실행만 건너뜀"
      ]
    },
    {
      "cell_type": "markdown",
      "metadata": {
        "id": "Eq3536YI2t0G"
      },
      "source": [
        "## 18.1 break로 반복문 끝내기"
      ]
    },
    {
      "cell_type": "code",
      "metadata": {
        "colab": {
          "base_uri": "https://localhost:8080/"
        },
        "id": "awFATtMR2enb",
        "outputId": "9b06c663-02b7-4854-bbc0-5c5d5cd54ce5"
      },
      "source": [
        "## 18.1.1 while에서 break로 반복문 끝내기\n",
        "i = 0\n",
        "while True :\n",
        "  print(i, end = ' ')\n",
        "  i += 1\n",
        "  if i == 10 :\n",
        "    break"
      ],
      "execution_count": 2,
      "outputs": [
        {
          "output_type": "stream",
          "text": [
            "0 1 2 3 4 5 6 7 8 9 "
          ],
          "name": "stdout"
        }
      ]
    },
    {
      "cell_type": "code",
      "metadata": {
        "colab": {
          "base_uri": "https://localhost:8080/"
        },
        "id": "009aiFzK3J9k",
        "outputId": "cd1d13c4-29a3-4cca-c66c-5cbe74bee855"
      },
      "source": [
        "## 18.1.2 for에서 break로 반복문 끝내기\n",
        "for i in range(1000):\n",
        "  print(i, end = ' ')\n",
        "  if i == 10:\n",
        "    break"
      ],
      "execution_count": 3,
      "outputs": [
        {
          "output_type": "stream",
          "text": [
            "0 1 2 3 4 5 6 7 8 9 10 "
          ],
          "name": "stdout"
        }
      ]
    },
    {
      "cell_type": "markdown",
      "metadata": {
        "id": "An3k0x1j3enG"
      },
      "source": [
        "## 18.2 continue로 코드 실행 건너뛰기"
      ]
    },
    {
      "cell_type": "code",
      "metadata": {
        "colab": {
          "base_uri": "https://localhost:8080/"
        },
        "id": "zHW9u6Ml3XiK",
        "outputId": "f0c5fa59-0ad8-40ca-ad22-d465c2e68055"
      },
      "source": [
        "## 18.2.1 for에서 condinum로 코드 실행 건너뛰기\n",
        "# 1~10까지 홀수만 출력\n",
        "for i in range(10):\n",
        "  if i % 2 == 0 :\n",
        "    continue\n",
        "  print(i)"
      ],
      "execution_count": 7,
      "outputs": [
        {
          "output_type": "stream",
          "text": [
            "1\n",
            "3\n",
            "5\n",
            "7\n",
            "9\n"
          ],
          "name": "stdout"
        }
      ]
    },
    {
      "cell_type": "code",
      "metadata": {
        "colab": {
          "base_uri": "https://localhost:8080/"
        },
        "id": "Swx3KCjj596D",
        "outputId": "f2274c5c-1114-414f-adaa-6f7edc1e555b"
      },
      "source": [
        "## 18.2.2 while 반복문에서 continue로 코드 실행 건너뛰기\n",
        "i = 0\n",
        "while i < 10 :\n",
        "  i += 1\n",
        "  if i % 2 == 0 :\n",
        "    continue      \n",
        "  print(i)"
      ],
      "execution_count": 11,
      "outputs": [
        {
          "output_type": "stream",
          "text": [
            "1\n",
            "3\n",
            "5\n",
            "7\n",
            "9\n"
          ],
          "name": "stdout"
        }
      ]
    },
    {
      "cell_type": "code",
      "metadata": {
        "colab": {
          "base_uri": "https://localhost:8080/",
          "height": 216
        },
        "id": "w_W4Tve36vJi",
        "outputId": "fb4a03eb-5596-48e3-ea62-79b1c9d50e71"
      },
      "source": [
        "## 참고 : 반복문과 pass\n",
        "# for, while의 반복할 코드에서 아무 일도 하지 않지만, 반복문의 형태를 유지하고 싶다면 pass를 사용\n",
        "for i in range(10):    # 10번 반복\n",
        "    pass               # 아무 일도 하지 않음\n",
        "\n",
        "while True:    # 무한 루프\n",
        "    pass       # 아무 일도 하지 않음"
      ],
      "execution_count": 12,
      "outputs": [
        {
          "output_type": "error",
          "ename": "KeyboardInterrupt",
          "evalue": "ignored",
          "traceback": [
            "\u001b[0;31m---------------------------------------------------------------------------\u001b[0m",
            "\u001b[0;31mKeyboardInterrupt\u001b[0m                         Traceback (most recent call last)",
            "\u001b[0;32m<ipython-input-12-e322380e9d2e>\u001b[0m in \u001b[0;36m<module>\u001b[0;34m()\u001b[0m\n\u001b[1;32m      5\u001b[0m \u001b[0;34m\u001b[0m\u001b[0m\n\u001b[1;32m      6\u001b[0m \u001b[0;32mwhile\u001b[0m \u001b[0;32mTrue\u001b[0m\u001b[0;34m:\u001b[0m    \u001b[0;31m# 무한 루프\u001b[0m\u001b[0;34m\u001b[0m\u001b[0;34m\u001b[0m\u001b[0m\n\u001b[0;32m----> 7\u001b[0;31m     \u001b[0;32mpass\u001b[0m       \u001b[0;31m# 아무 일도 하지 않음\u001b[0m\u001b[0;34m\u001b[0m\u001b[0;34m\u001b[0m\u001b[0m\n\u001b[0m",
            "\u001b[0;31mKeyboardInterrupt\u001b[0m: "
          ]
        }
      ]
    },
    {
      "cell_type": "markdown",
      "metadata": {
        "id": "DtKDaCqJ7Mb_"
      },
      "source": [
        "## 18.3 입력한 횟수대로 반복하기"
      ]
    },
    {
      "cell_type": "code",
      "metadata": {
        "colab": {
          "base_uri": "https://localhost:8080/"
        },
        "id": "JJNZwKTx6_uL",
        "outputId": "53b49caf-4e73-4e59-8cc7-826026bb3a6f"
      },
      "source": [
        "count = int(input('반복할 횟수를 입력하세요'))\n",
        "\n",
        "i = 0\n",
        "while True :\n",
        "  print(i)\n",
        "  i += 1\n",
        "  if i == count :\n",
        "    break"
      ],
      "execution_count": 17,
      "outputs": [
        {
          "output_type": "stream",
          "text": [
            "반복할 횟수를 입력하세요3\n",
            "0\n",
            "1\n",
            "2\n"
          ],
          "name": "stdout"
        }
      ]
    },
    {
      "cell_type": "code",
      "metadata": {
        "colab": {
          "base_uri": "https://localhost:8080/"
        },
        "id": "kcu85sho8Ou-",
        "outputId": "256a3e55-e3a1-4737-a7eb-2976f4e5f8e4"
      },
      "source": [
        "## 18.3.1 입력한 숫자까지 홀수 출력하기\n",
        "count = int(input())\n",
        "\n",
        "i = 1\n",
        "for i in range(count+1):\n",
        "  if i % 2 == 0 :\n",
        "    continue\n",
        "  print(i)"
      ],
      "execution_count": 20,
      "outputs": [
        {
          "output_type": "stream",
          "text": [
            "9\n",
            "1\n",
            "3\n",
            "5\n",
            "7\n",
            "9\n"
          ],
          "name": "stdout"
        }
      ]
    },
    {
      "cell_type": "markdown",
      "metadata": {
        "id": "tNXXXGd09kZJ"
      },
      "source": [
        "## 18.6 심사문제: 두 수 사이의 숫자 중 3으로 끝나지 않는 숫자 출력하기\n",
        "표준 입력으로 정수 두 개가 입력됩니다 첫 번째 입력 값의 범위는 1 ~ 200, 두 번째 입력 값의 범위는 10~200이며 첫 번째 입력 값은 두 번째 입력 값보다 항상 작습니다. 다음 소스 코드를 완성하여 첫 번째 정수와 두 번째 정수 사이의 숫자 중 3으로 끝나지 않는 숫자가 출력되게 만드세요. 정답에 코드를 작성할 때는 while True:에 맞춰서 들여쓰기를 해주세요."
      ]
    },
    {
      "cell_type": "code",
      "metadata": {
        "colab": {
          "base_uri": "https://localhost:8080/"
        },
        "id": "KfFo93kW9o9x",
        "outputId": "23fb0dda-d6df-43bd-face-f5ea94f70bba"
      },
      "source": [
        "start, stop = map(int, input().split())\n",
        " \n",
        "i = start\n",
        " \n",
        "while True:\n",
        "  if i % 10 == 3 :\n",
        "    i += 1\n",
        "    continue \n",
        "  if i > stop:\n",
        "    break\n",
        "  print(i, end=' ')\n",
        "  i += 1"
      ],
      "execution_count": 35,
      "outputs": [
        {
          "output_type": "stream",
          "text": [
            "1 20\n",
            "1 2 4 5 6 7 8 9 10 11 12 14 15 16 17 18 19 20 "
          ],
          "name": "stdout"
        }
      ]
    }
  ]
}