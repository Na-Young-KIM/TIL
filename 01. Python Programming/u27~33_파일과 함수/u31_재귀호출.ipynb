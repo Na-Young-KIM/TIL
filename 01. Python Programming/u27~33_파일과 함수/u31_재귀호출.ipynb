{
  "nbformat": 4,
  "nbformat_minor": 0,
  "metadata": {
    "colab": {
      "name": "u31_재귀호출.ipynb",
      "provenance": [],
      "collapsed_sections": []
    },
    "kernelspec": {
      "name": "python3",
      "display_name": "Python 3"
    },
    "language_info": {
      "name": "python"
    }
  },
  "cells": [
    {
      "cell_type": "markdown",
      "metadata": {
        "id": "1nMJnbxTuGXx"
      },
      "source": [
        "# Unit 31. 함수에서 재귀호출 사용하기"
      ]
    },
    {
      "cell_type": "markdown",
      "metadata": {
        "id": "kM3uzhEIuJOb"
      },
      "source": [
        "## 31.2 재귀호출로 팩토리얼 구하기"
      ]
    },
    {
      "cell_type": "code",
      "metadata": {
        "colab": {
          "base_uri": "https://localhost:8080/"
        },
        "id": "e4gOtZzmt_yB",
        "outputId": "510fe6d9-bf5a-4471-c203-ad8f348e7983"
      },
      "source": [
        "def factorial(n):\n",
        "  if n == 0:\n",
        "    return 1\n",
        "  return n * factorial(n-1)\n",
        "\n",
        "print(factorial(5))"
      ],
      "execution_count": 2,
      "outputs": [
        {
          "output_type": "stream",
          "text": [
            "120\n"
          ],
          "name": "stdout"
        }
      ]
    },
    {
      "cell_type": "markdown",
      "metadata": {
        "id": "2XmUuH6SvSt1"
      },
      "source": [
        "## 31.5 심사문제: 재귀호출로 피보나치 수 구하기\n",
        "표준 입력으로 정수 한 개가 입력됩니다(입력 값의 범위는 10~30). 다음 소스 코드를 완성하여 입력된 정수에 해당하는 피보나치 수가 출력되게 만드세요.\n",
        "\n",
        "피보나치 수는 0과 1로 시작하며, 다음 번 피보나치 수는 바로 앞의 두 피보나치 수의 합입니다."
      ]
    },
    {
      "cell_type": "code",
      "metadata": {
        "id": "PZYcqks0vSVt"
      },
      "source": [
        "def fib(n):\n",
        "  i = 2\n",
        "  a = [0, 1]\n",
        "  while i <= n :\n",
        "    a.append(a[i-1] + a[i-2])\n",
        "    i += 1\n",
        "  return(a[n])\n",
        "\n",
        "n = int(input())\n",
        "print(fib(n))"
      ],
      "execution_count": 16,
      "outputs": []
    },
    {
      "cell_type": "code",
      "metadata": {
        "id": "VI1JKa-B0nk5"
      },
      "source": [
        "# 다른 풀이법\n",
        "def fibo(n):\n",
        "  if n ==1 or n == 2:\n",
        "    return 1\n",
        "  return fibo(n-1) + fibo(n-2)\n",
        "\n",
        "n = int(input())\n",
        "\n",
        "print(fib(10))"
      ],
      "execution_count": 19,
      "outputs": []
    }
  ]
}