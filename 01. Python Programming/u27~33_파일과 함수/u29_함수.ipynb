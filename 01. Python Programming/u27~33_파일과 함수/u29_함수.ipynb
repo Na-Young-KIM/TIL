{
  "nbformat": 4,
  "nbformat_minor": 0,
  "metadata": {
    "colab": {
      "name": "u29_함수.ipynb",
      "provenance": [],
      "collapsed_sections": []
    },
    "kernelspec": {
      "name": "python3",
      "display_name": "Python 3"
    },
    "language_info": {
      "name": "python"
    }
  },
  "cells": [
    {
      "cell_type": "markdown",
      "metadata": {
        "id": "C0w61J98MdKM"
      },
      "source": [
        "# Unit 29. 함수 사용하기 "
      ]
    },
    {
      "cell_type": "markdown",
      "metadata": {
        "id": "A-1vmUvCMsTi"
      },
      "source": [
        "## 29.1 Hello, world! 출력 함수 만들기"
      ]
    },
    {
      "cell_type": "code",
      "metadata": {
        "id": "3ZDA3XJ_MYT-"
      },
      "source": [
        "## 29.1.1 함수 만들기\n",
        "def hello():\n",
        "  print('hello, world!')"
      ],
      "execution_count": 1,
      "outputs": []
    },
    {
      "cell_type": "code",
      "metadata": {
        "colab": {
          "base_uri": "https://localhost:8080/"
        },
        "id": "qsV4fbc_NIXb",
        "outputId": "4801e50c-1e1a-48d4-f651-415d39dec21b"
      },
      "source": [
        "## 29.1.2 함수 호출하기\n",
        "hello()"
      ],
      "execution_count": 2,
      "outputs": [
        {
          "output_type": "stream",
          "text": [
            "hello, world!\n"
          ],
          "name": "stdout"
        }
      ]
    },
    {
      "cell_type": "markdown",
      "metadata": {
        "id": "GoJrV70rNe_g"
      },
      "source": [
        "## 29.2 덧셈 함수 만들기"
      ]
    },
    {
      "cell_type": "code",
      "metadata": {
        "colab": {
          "base_uri": "https://localhost:8080/"
        },
        "id": "KJievjWVNK30",
        "outputId": "025080d8-1ed6-47d4-e791-ff5408db23c4"
      },
      "source": [
        "## 참고 : docstrings\n",
        "def add(a,b):\n",
        "  ''' 이 함수는 a와 b를 더한 뒤 결과를 반환하는 함수입니다.'''\n",
        "  print(a + b)\n",
        "\n",
        "add(10, 30)\n",
        "\n",
        "print(add.__doc__)    # 함수의 __doc__로 독스트링 출력"
      ],
      "execution_count": 8,
      "outputs": [
        {
          "output_type": "stream",
          "text": [
            "40\n",
            " 이 함수는 a와 b를 더한 뒤 결과를 반환하는 함수입니다.\n"
          ],
          "name": "stdout"
        }
      ]
    },
    {
      "cell_type": "markdown",
      "metadata": {
        "id": "qI2GaZe4OGaY"
      },
      "source": [
        "## 29.3 함수의 결과를 반환하기"
      ]
    },
    {
      "cell_type": "code",
      "metadata": {
        "id": "zK3XoYa7Npv4"
      },
      "source": [
        "def add(a, b):\n",
        "  return a + b"
      ],
      "execution_count": 9,
      "outputs": []
    },
    {
      "cell_type": "code",
      "metadata": {
        "colab": {
          "base_uri": "https://localhost:8080/"
        },
        "id": "8iDJYOBrOUlu",
        "outputId": "b1b4397e-884a-4351-8f51-7c502b7441dc"
      },
      "source": [
        "x = add(10, 20)\n",
        "x"
      ],
      "execution_count": 10,
      "outputs": [
        {
          "output_type": "execute_result",
          "data": {
            "text/plain": [
              "30"
            ]
          },
          "metadata": {
            "tags": []
          },
          "execution_count": 10
        }
      ]
    },
    {
      "cell_type": "code",
      "metadata": {
        "colab": {
          "base_uri": "https://localhost:8080/"
        },
        "id": "5JxL15pMOWoC",
        "outputId": "e17222e2-8fd7-4a01-f3f0-bd384d70a531"
      },
      "source": [
        "print(add(10, 20))"
      ],
      "execution_count": 11,
      "outputs": [
        {
          "output_type": "stream",
          "text": [
            "30\n"
          ],
          "name": "stdout"
        }
      ]
    },
    {
      "cell_type": "code",
      "metadata": {
        "id": "2S7e5Yj3Obvk"
      },
      "source": [
        "## return으로 함수 중간에서 빠져나오기\n",
        "def non_ten(a):\n",
        "  if a == 10:\n",
        "    return\n",
        "  print(f'{a}입니다 ')"
      ],
      "execution_count": 14,
      "outputs": []
    },
    {
      "cell_type": "code",
      "metadata": {
        "id": "mZgAJCs8Oy78"
      },
      "source": [
        "non_ten(10)"
      ],
      "execution_count": 18,
      "outputs": []
    },
    {
      "cell_type": "markdown",
      "metadata": {
        "id": "Gi1XXDnyPCCs"
      },
      "source": [
        "## 29.4 함수에서 값을 여러개 반환하기"
      ]
    },
    {
      "cell_type": "code",
      "metadata": {
        "id": "6lguLndKO08h"
      },
      "source": [
        "def add_sub(a, b):\n",
        "  return a + b, a - b"
      ],
      "execution_count": 19,
      "outputs": []
    },
    {
      "cell_type": "code",
      "metadata": {
        "colab": {
          "base_uri": "https://localhost:8080/"
        },
        "id": "oyuvxhPsPQvV",
        "outputId": "b29628e4-eef8-47af-ce9b-7127f435836b"
      },
      "source": [
        "x, y = add_sub(10, 20)\n",
        "x, y"
      ],
      "execution_count": 21,
      "outputs": [
        {
          "output_type": "execute_result",
          "data": {
            "text/plain": [
              "(30, -10)"
            ]
          },
          "metadata": {
            "tags": []
          },
          "execution_count": 21
        }
      ]
    },
    {
      "cell_type": "code",
      "metadata": {
        "colab": {
          "base_uri": "https://localhost:8080/"
        },
        "id": "aEQgOP5cPT0l",
        "outputId": "20908c3c-05f0-4e31-db69-bb023b7764b3"
      },
      "source": [
        "x = add_sub(10, 20)\n",
        "x"
      ],
      "execution_count": 22,
      "outputs": [
        {
          "output_type": "execute_result",
          "data": {
            "text/plain": [
              "(30, -10)"
            ]
          },
          "metadata": {
            "tags": []
          },
          "execution_count": 22
        }
      ]
    },
    {
      "cell_type": "markdown",
      "metadata": {
        "id": "sYZC9W6DPpim"
      },
      "source": [
        "## 29.5 함수의 호출 과정 알아보기"
      ]
    },
    {
      "cell_type": "code",
      "metadata": {
        "colab": {
          "base_uri": "https://localhost:8080/"
        },
        "id": "9pv7OvyePgfG",
        "outputId": "0033574a-8284-4df4-a80a-b1516b55892f"
      },
      "source": [
        "def mul(a, b):\n",
        "  c = a * b\n",
        "  return c\n",
        "\n",
        "def add(a, b):\n",
        "  c = a + b\n",
        "  print(c)\n",
        "  d = mul(a, b)\n",
        "  print(d)\n",
        "\n",
        "x = 10\n",
        "y = 20\n",
        "add(x, y)"
      ],
      "execution_count": 23,
      "outputs": [
        {
          "output_type": "stream",
          "text": [
            "30\n",
            "200\n"
          ],
          "name": "stdout"
        }
      ]
    },
    {
      "cell_type": "code",
      "metadata": {
        "colab": {
          "base_uri": "https://localhost:8080/"
        },
        "id": "XoXHkl1GVOsK",
        "outputId": "4db1cc91-c151-4419-d938-c777f70712c2"
      },
      "source": [
        "# 퀴즈\n",
        "# 3자리수 정수 두개를 곱해서 나온 결과가 팔린드롬(palindrome)이 되도록 할 때, 가장 큰 숫자는?\n",
        "def is_palindrome(x):\n",
        "  s = str(x)\n",
        "  return s == s[::-1]\n",
        "\n",
        "max_pal, m, n = 0, 0, 0\n",
        "for i in range(100,1000):\n",
        "  for k in range(i,1000):\n",
        "    if is_palindrome(i*k)==True:\n",
        "      if max_pal < i*k :\n",
        "        max_pal = i*k \n",
        "        m = i\n",
        "        n = k\n",
        "\n",
        "print(f'{m} * {n} = {max_pal}')"
      ],
      "execution_count": 49,
      "outputs": [
        {
          "output_type": "stream",
          "text": [
            "913 * 993 = 906609\n"
          ],
          "name": "stdout"
        }
      ]
    },
    {
      "cell_type": "markdown",
      "metadata": {
        "id": "dbZfLchnQ_O1"
      },
      "source": [
        "## 29.4 심사문제: 사칙 연산 함수 만들기\n",
        "표준 입력으로 숫자 두 개가 입력됩니다. 다음 소스 코드를 완성하여 두 숫자의 덧셈, 뺄셈, 곱셈, 나눗셈의 결과가 출력되게 만드세요. 이때 나눗셈의 결과는 실수라야 합니다.\n"
      ]
    },
    {
      "cell_type": "code",
      "metadata": {
        "colab": {
          "base_uri": "https://localhost:8080/"
        },
        "id": "S9RJUSEcP-_G",
        "outputId": "7b3a42d3-5e0b-4f42-b9ae-e612219188b2"
      },
      "source": [
        "x, y = map(int, input().split())\n",
        "\n",
        "def calc(x, y):\n",
        "  return (x + y, x - y, x * y, x / y)\n",
        "\n",
        "a, s, m, d = calc(x, y)\n",
        "print('덧셈: {0}, 뺄셈: {1}, 곱셈: {2}, 나눗셈: {3}'.format(a, s, m, d))\n"
      ],
      "execution_count": 25,
      "outputs": [
        {
          "output_type": "stream",
          "text": [
            "40 8\n",
            "덧셈: 48, 뺄셈: 32, 곱셈: 320, 나눗셈: 5.0\n"
          ],
          "name": "stdout"
        }
      ]
    }
  ]
}