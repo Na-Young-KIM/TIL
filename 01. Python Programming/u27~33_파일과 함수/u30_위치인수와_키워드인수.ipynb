{
  "nbformat": 4,
  "nbformat_minor": 0,
  "metadata": {
    "colab": {
      "name": "u30_위치인수와 키워드인수.ipynb",
      "provenance": [],
      "collapsed_sections": []
    },
    "kernelspec": {
      "name": "python3",
      "display_name": "Python 3"
    },
    "language_info": {
      "name": "python"
    }
  },
  "cells": [
    {
      "cell_type": "markdown",
      "metadata": {
        "id": "wxmnXJ7VRugl"
      },
      "source": [
        "# Unit 30. 함수에서 위치 인수와 키워드 인수 사용하기"
      ]
    },
    {
      "cell_type": "markdown",
      "metadata": {
        "id": "ueo35pPxRw8g"
      },
      "source": [
        "## 30.1 위치 인수와 리스트 언패킹 사용하기"
      ]
    },
    {
      "cell_type": "code",
      "metadata": {
        "colab": {
          "base_uri": "https://localhost:8080/"
        },
        "id": "xjKNhes9RpL8",
        "outputId": "38588672-a7d4-46f2-e449-a3ceca72d68e"
      },
      "source": [
        "## 30.1.1 위치 인수를 사용하는 함수를 만들고 호출하기\n",
        "def print_number(a, b, c):\n",
        "  print(a)\n",
        "  print(b)\n",
        "  print(c)\n",
        "\n",
        "print_number(10, 20, 30)"
      ],
      "execution_count": 3,
      "outputs": [
        {
          "output_type": "stream",
          "text": [
            "10\n",
            "20\n",
            "30\n"
          ],
          "name": "stdout"
        }
      ]
    },
    {
      "cell_type": "code",
      "metadata": {
        "colab": {
          "base_uri": "https://localhost:8080/"
        },
        "id": "FJE-hZnSSC3H",
        "outputId": "860d6e12-6ad5-4098-ad51-22a2b4733c0c"
      },
      "source": [
        "## 30.1.2 언패킹 사용하기\n",
        "x = [10, 20, 30]\n",
        "print_number(*x)\n",
        "print_number(*[10, 20, 30])"
      ],
      "execution_count": 7,
      "outputs": [
        {
          "output_type": "stream",
          "text": [
            "10\n",
            "20\n",
            "30\n",
            "10\n",
            "20\n",
            "30\n"
          ],
          "name": "stdout"
        }
      ]
    },
    {
      "cell_type": "code",
      "metadata": {
        "id": "DlLgk32yTRAv"
      },
      "source": [
        "## 30.1.3 가변 인수 함수 만들기\n",
        "def print_numbers(*args):\n",
        "  for arg in args:\n",
        "    print(arg)"
      ],
      "execution_count": 14,
      "outputs": []
    },
    {
      "cell_type": "code",
      "metadata": {
        "colab": {
          "base_uri": "https://localhost:8080/"
        },
        "id": "4Ex2EKRyTbke",
        "outputId": "7bcb1f64-8212-44ea-fbba-4dbf336482ef"
      },
      "source": [
        "print_numbers(10)\n",
        "print_numbers(10,20,30,40)"
      ],
      "execution_count": 15,
      "outputs": [
        {
          "output_type": "stream",
          "text": [
            "10\n",
            "10\n",
            "20\n",
            "30\n",
            "40\n"
          ],
          "name": "stdout"
        }
      ]
    },
    {
      "cell_type": "code",
      "metadata": {
        "colab": {
          "base_uri": "https://localhost:8080/"
        },
        "id": "LScBIdDpTsM7",
        "outputId": "34c1d405-a831-49c1-99f7-6d51da8868fc"
      },
      "source": [
        "x = [10]\n",
        "print_numbers(*x)\n",
        "\n",
        "y = [10, 30, 20]\n",
        "print_numbers(*y)"
      ],
      "execution_count": 16,
      "outputs": [
        {
          "output_type": "stream",
          "text": [
            "10\n",
            "10\n",
            "30\n",
            "20\n"
          ],
          "name": "stdout"
        }
      ]
    },
    {
      "cell_type": "markdown",
      "metadata": {
        "id": "qKqG3Z2mT8e4"
      },
      "source": [
        "## 30.2 키워드 인수 사용하기"
      ]
    },
    {
      "cell_type": "code",
      "metadata": {
        "id": "iBHx8JeoTysj"
      },
      "source": [
        "def personal_info(name, age, address):\n",
        "  print(f'이름: {name}')\n",
        "  print(f'나이: {age}')\n",
        "  print(f'주소: {address}')"
      ],
      "execution_count": 19,
      "outputs": []
    },
    {
      "cell_type": "code",
      "metadata": {
        "colab": {
          "base_uri": "https://localhost:8080/"
        },
        "id": "B4NEC5gaUSTU",
        "outputId": "73d0e645-ca6e-4db7-9c38-a0e226df0ca2"
      },
      "source": [
        "personal_info('홍길동', 30, '서울시 용산구 이촌동')"
      ],
      "execution_count": 20,
      "outputs": [
        {
          "output_type": "stream",
          "text": [
            "이름: 홍길동\n",
            "나이: 30\n",
            "주소: 서울시 용산구 이촌동\n"
          ],
          "name": "stdout"
        }
      ]
    },
    {
      "cell_type": "code",
      "metadata": {
        "colab": {
          "base_uri": "https://localhost:8080/"
        },
        "id": "DfQlRj6TUTjC",
        "outputId": "2ffe771d-e902-4b85-f3a6-16b7d087359b"
      },
      "source": [
        "personal_info(name='홍길동', age=30, address='서울시 용산구 이촌동')"
      ],
      "execution_count": 21,
      "outputs": [
        {
          "output_type": "stream",
          "text": [
            "이름: 홍길동\n",
            "나이: 30\n",
            "주소: 서울시 용산구 이촌동\n"
          ],
          "name": "stdout"
        }
      ]
    },
    {
      "cell_type": "code",
      "metadata": {
        "colab": {
          "base_uri": "https://localhost:8080/"
        },
        "id": "zajrLLZYUbe9",
        "outputId": "f283ce5b-7aca-479b-bb43-11598ac22776"
      },
      "source": [
        "personal_info(age=30, address='서울시 용산구 이촌동', name='홍길동')"
      ],
      "execution_count": 22,
      "outputs": [
        {
          "output_type": "stream",
          "text": [
            "이름: 홍길동\n",
            "나이: 30\n",
            "주소: 서울시 용산구 이촌동\n"
          ],
          "name": "stdout"
        }
      ]
    },
    {
      "cell_type": "markdown",
      "metadata": {
        "id": "o4sebETuUhlS"
      },
      "source": [
        "## 30.3 키워드 인수와 딕셔너리 언패킹 사용하기"
      ]
    },
    {
      "cell_type": "code",
      "metadata": {
        "id": "uCdwLJQ3UeOT"
      },
      "source": [
        "def personal_info(name, age, address):\n",
        "  print(f'이름: {name}')\n",
        "  print(f'나이: {age}')\n",
        "  print(f'주소: {address}')"
      ],
      "execution_count": 23,
      "outputs": []
    },
    {
      "cell_type": "code",
      "metadata": {
        "colab": {
          "base_uri": "https://localhost:8080/"
        },
        "id": "v8Wac3ypUyGi",
        "outputId": "725c4b15-f130-482d-e6b8-f5eb6c041ade"
      },
      "source": [
        "x = {'name': '홍길동', 'age': 30, 'address': '서울시 용산구 이촌동'}\n",
        "personal_info(**x)"
      ],
      "execution_count": 25,
      "outputs": [
        {
          "output_type": "stream",
          "text": [
            "이름: 홍길동\n",
            "나이: 30\n",
            "주소: 서울시 용산구 이촌동\n"
          ],
          "name": "stdout"
        }
      ]
    },
    {
      "cell_type": "code",
      "metadata": {
        "colab": {
          "base_uri": "https://localhost:8080/"
        },
        "id": "i5b3pK7SU0j-",
        "outputId": "b6f281a8-4c42-4f68-adfa-6b7dc14f41f7"
      },
      "source": [
        "personal_info(**{'name': '홍길동', 'age': 30, 'address': '서울시 용산구 이촌동'})"
      ],
      "execution_count": 26,
      "outputs": [
        {
          "output_type": "stream",
          "text": [
            "이름: 홍길동\n",
            "나이: 30\n",
            "주소: 서울시 용산구 이촌동\n"
          ],
          "name": "stdout"
        }
      ]
    },
    {
      "cell_type": "code",
      "metadata": {
        "id": "UA-x0cc4U9NP"
      },
      "source": [
        "## 30.3.2 키워드 인수를 사용하는 가변 함수 만들기\n",
        "def personal_info(**kwargs):\n",
        "  for kw, arg in kwargs.items():\n",
        "    print(kw,': ', arg, sep='')"
      ],
      "execution_count": 27,
      "outputs": []
    },
    {
      "cell_type": "code",
      "metadata": {
        "colab": {
          "base_uri": "https://localhost:8080/"
        },
        "id": "PBieQpwockEA",
        "outputId": "a95281c3-c219-4af2-beb2-db0882ad6931"
      },
      "source": [
        "personal_info(name='홍길동')"
      ],
      "execution_count": 28,
      "outputs": [
        {
          "output_type": "stream",
          "text": [
            "name: 홍길동\n"
          ],
          "name": "stdout"
        }
      ]
    },
    {
      "cell_type": "code",
      "metadata": {
        "colab": {
          "base_uri": "https://localhost:8080/"
        },
        "id": "OHOQg_21cpxp",
        "outputId": "1ff58620-74c5-4c65-ab2c-a5112fe790c6"
      },
      "source": [
        "personal_info(name='홍길동', age=30, address='서울시 용산구 이촌동')"
      ],
      "execution_count": 29,
      "outputs": [
        {
          "output_type": "stream",
          "text": [
            "name: 홍길동\n",
            "age: 30\n",
            "address: 서울시 용산구 이촌동\n"
          ],
          "name": "stdout"
        }
      ]
    },
    {
      "cell_type": "code",
      "metadata": {
        "colab": {
          "base_uri": "https://localhost:8080/"
        },
        "id": "ZpuP48KVcure",
        "outputId": "497e3555-843a-41fe-f6fa-b7101d668515"
      },
      "source": [
        "y = {'name': '홍길동', 'age': 30, 'address': '서울시 용산구 이촌동'}\n",
        "personal_info(**y)"
      ],
      "execution_count": 60,
      "outputs": [
        {
          "output_type": "stream",
          "text": [
            "이름:  홍길동\n",
            "나이:  30\n",
            "주소:  서울시 용산구 이촌동\n"
          ],
          "name": "stdout"
        }
      ]
    },
    {
      "cell_type": "markdown",
      "metadata": {
        "id": "1miNf0kgeuaU"
      },
      "source": [
        "## 20.4 매개변수에 초깃값 지정하기"
      ]
    },
    {
      "cell_type": "code",
      "metadata": {
        "id": "LuceyWrNczDE"
      },
      "source": [
        "def personal_info(name, age, address='비공개'):\n",
        "  print('이름: ', name)\n",
        "  print('나이: ', age)\n",
        "  print('주소: ', address)"
      ],
      "execution_count": 31,
      "outputs": []
    },
    {
      "cell_type": "code",
      "metadata": {
        "colab": {
          "base_uri": "https://localhost:8080/"
        },
        "id": "9tY7NmFze-8v",
        "outputId": "6cf134ed-fe18-47dc-b68a-9ff46bdd7b4b"
      },
      "source": [
        "personal_info('홍길동', 30)"
      ],
      "execution_count": 32,
      "outputs": [
        {
          "output_type": "stream",
          "text": [
            "이름:  홍길동\n",
            "나이:  30\n",
            "주소:  비공개\n"
          ],
          "name": "stdout"
        }
      ]
    },
    {
      "cell_type": "code",
      "metadata": {
        "colab": {
          "base_uri": "https://localhost:8080/"
        },
        "id": "Mh2QD6BEfBYB",
        "outputId": "8cb200ee-2316-4a5c-8140-790817a00a25"
      },
      "source": [
        "personal_info('홍길동', 30, '서울시 용산구 이촌동')"
      ],
      "execution_count": 33,
      "outputs": [
        {
          "output_type": "stream",
          "text": [
            "이름:  홍길동\n",
            "나이:  30\n",
            "주소:  서울시 용산구 이촌동\n"
          ],
          "name": "stdout"
        }
      ]
    },
    {
      "cell_type": "markdown",
      "metadata": {
        "id": "otA5WjDlfsVy"
      },
      "source": [
        "## 30.7 심사문제: 가장 낮은 점수, 높은 점수와 평균 점수를 구하는 함수 만들기 \n",
        "표준 입력으로 국어, 영어, 수학, 과학 점수가 입력됩니다. 다음 소스 코드를 완성하여 가장 높은 점수, 가장 낮은 점수, 평균 점수가 출력되게 만드세요. 평균 점수는 실수로 출력되어야 합니다.\n"
      ]
    },
    {
      "cell_type": "code",
      "metadata": {
        "colab": {
          "base_uri": "https://localhost:8080/"
        },
        "id": "yY5mdYb6fDeE",
        "outputId": "8688247e-91ed-481b-bd56-225b6cbf1af3"
      },
      "source": [
        "korean, english, mathematics, science = map(int, input().split())\n",
        "\n",
        "def get_min_max_score(*arg):\n",
        "  return min(arg), max(arg)\n",
        "def get_average(**karg):\n",
        "  return sum(karg.values())/len(karg)\n",
        "\n",
        "min_score, max_score = get_min_max_score(korean, english, mathematics, science)\n",
        "average_score = get_average(korean=korean, english=english, mathematics=mathematics, science=science)\n",
        "print('낮은 점수: {0:.2f}, 높은 점수: {1:.2f}, 평균 점수: {2:.2f}'\n",
        "      .format(min_score, max_score, average_score))\n",
        "\n",
        "min_score, max_score = get_min_max_score(english, science)\n",
        "average_score = get_average(english=english, science=science)\n",
        "print('낮은 점수: {0:.2f}, 높은 점수: {1:.2f}, 평균 점수: {2:.2f}'\n",
        "      .format(min_score, max_score, average_score))"
      ],
      "execution_count": 67,
      "outputs": [
        {
          "output_type": "stream",
          "text": [
            "89 92 73 83\n",
            "낮은 점수: 73.00, 높은 점수: 92.00, 평균 점수: 84.25\n",
            "낮은 점수: 83.00, 높은 점수: 92.00, 평균 점수: 87.50\n"
          ],
          "name": "stdout"
        }
      ]
    }
  ]
}