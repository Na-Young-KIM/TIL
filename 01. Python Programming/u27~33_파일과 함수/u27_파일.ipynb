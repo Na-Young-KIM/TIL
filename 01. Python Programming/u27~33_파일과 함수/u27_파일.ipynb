{
  "nbformat": 4,
  "nbformat_minor": 0,
  "metadata": {
    "colab": {
      "name": "u27_파일.ipynb",
      "provenance": [],
      "collapsed_sections": []
    },
    "kernelspec": {
      "name": "python3",
      "display_name": "Python 3"
    },
    "language_info": {
      "name": "python"
    }
  },
  "cells": [
    {
      "cell_type": "markdown",
      "metadata": {
        "id": "yVxbYXPblRh5"
      },
      "source": [
        "# Unit 27. 파일 사용하기"
      ]
    },
    {
      "cell_type": "markdown",
      "metadata": {
        "id": "nAXKKrgKlUTM"
      },
      "source": [
        "## 27.1 파일에 문자열 쓰기, 읽기"
      ]
    },
    {
      "cell_type": "code",
      "metadata": {
        "id": "VnMWDQISk1ii"
      },
      "source": [
        "## 27.1.1 파일에 문자열 쓰기\n",
        "file = open('hello.txt', 'w')\n",
        "file.write('hello, world!')\n",
        "file.close()"
      ],
      "execution_count": null,
      "outputs": []
    },
    {
      "cell_type": "code",
      "metadata": {
        "colab": {
          "base_uri": "https://localhost:8080/"
        },
        "id": "HpKuAMkKmAd-",
        "outputId": "2cd4ab8b-58cf-46ae-b958-28680d832108"
      },
      "source": [
        "## 27.1.2 파일에서 문자열 읽기\n",
        "file = open('hello.txt', 'r')\n",
        "s = file.read()\n",
        "print(s)\n",
        "file.close()"
      ],
      "execution_count": null,
      "outputs": [
        {
          "output_type": "stream",
          "text": [
            "hello, world!\n"
          ],
          "name": "stdout"
        }
      ]
    },
    {
      "cell_type": "code",
      "metadata": {
        "colab": {
          "base_uri": "https://localhost:8080/"
        },
        "id": "Dpko4XPLmyD_",
        "outputId": "77b8468f-dfc2-4414-ccc4-68b2009f9d69"
      },
      "source": [
        "## 27.1.3 자동으로 파일 객체 닫기\n",
        "with open('hello.txt', 'r') as file :\n",
        "  s = file.read()\n",
        "  print(s)"
      ],
      "execution_count": null,
      "outputs": [
        {
          "output_type": "stream",
          "text": [
            "hello, world!\n"
          ],
          "name": "stdout"
        }
      ]
    },
    {
      "cell_type": "markdown",
      "metadata": {
        "id": "ZQnLmVtBnSg9"
      },
      "source": [
        "## 27.2 문자열 여러 줄을 파일에 쓰기, 읽기"
      ]
    },
    {
      "cell_type": "code",
      "metadata": {
        "id": "EmbRbFqonQuk"
      },
      "source": [
        "## 27.2.1  반복문으로 문자열 여러 줄을 파일에 쓰기\n",
        "with open('hello.txt', 'w') as file :\n",
        "  for i in range(3):\n",
        "    file.write(f'hello, world! {i}\\n')"
      ],
      "execution_count": 10,
      "outputs": []
    },
    {
      "cell_type": "code",
      "metadata": {
        "id": "lRioTDi9nuOC"
      },
      "source": [
        "## 27.2.2 리스트에 들어있는 문자열을 파일에 쓰기\n",
        "lines = ['안녕하세요.\\n', '파이썬\\n', '코딩 도장입니다.\\n']\n",
        "\n",
        "with open('hello.txt', 'w', encoding='utf-8') as file:\n",
        "  file.writelines(lines)"
      ],
      "execution_count": 12,
      "outputs": []
    },
    {
      "cell_type": "code",
      "metadata": {
        "colab": {
          "base_uri": "https://localhost:8080/"
        },
        "id": "wvIFGmfQoZbD",
        "outputId": "044f23ba-53ee-4faf-def4-ed9c7f3de15b"
      },
      "source": [
        "\n",
        "## 27.2.3 파일의 내용을 한 줄씩 리스트로 가져오기\n",
        "with open('hello.txt', 'r') as file :\n",
        "  lines = file.readlines()\n",
        "  print(lines)"
      ],
      "execution_count": 13,
      "outputs": [
        {
          "output_type": "stream",
          "text": [
            "['안녕하세요.\\n', '파이썬\\n', '코딩 도장입니다.\\n']\n"
          ],
          "name": "stdout"
        }
      ]
    },
    {
      "cell_type": "code",
      "metadata": {
        "colab": {
          "base_uri": "https://localhost:8080/"
        },
        "id": "wiwEmHnLoqoy",
        "outputId": "60bf7f31-06fe-4394-a7b3-d32452100c7f"
      },
      "source": [
        "## 27.2.4 파일의 내용을 한 줄씩 읽기\n",
        "with open('hello.txt', 'r') as file :\n",
        "  line = None\n",
        "  while line != '':\n",
        "    line = file.readline()\n",
        "    print(line.strip('\\n'))"
      ],
      "execution_count": 14,
      "outputs": [
        {
          "output_type": "stream",
          "text": [
            "안녕하세요.\n",
            "파이썬\n",
            "코딩 도장입니다.\n",
            "\n"
          ],
          "name": "stdout"
        }
      ]
    },
    {
      "cell_type": "code",
      "metadata": {
        "colab": {
          "base_uri": "https://localhost:8080/"
        },
        "id": "WDXEf1lJo9Q-",
        "outputId": "278e3eb9-305c-4119-f98a-5e0a45b52a3b"
      },
      "source": [
        "## 27.2.5 for 반복문으로 파일의 내용을 준 단위로 읽기\n",
        "with open('hello.txt', 'r') as file:\n",
        "  for line in file:\n",
        "    print(line.strip('\\n'))"
      ],
      "execution_count": 16,
      "outputs": [
        {
          "output_type": "stream",
          "text": [
            "안녕하세요.\n",
            "파이썬\n",
            "코딩 도장입니다.\n"
          ],
          "name": "stdout"
        }
      ]
    },
    {
      "cell_type": "markdown",
      "metadata": {
        "id": "yoH3Y43ypW0k"
      },
      "source": [
        "## 27.3 파이썬 객체를 파일에 저장하기, 가져오기"
      ]
    },
    {
      "cell_type": "code",
      "metadata": {
        "id": "JFDldG_YpPTH"
      },
      "source": [
        "## 27.3.1 파이썬 객체를 파일에 저장하기\n",
        "import pickle\n",
        "\n",
        "name = 'james'\n",
        "age = 17\n",
        "address = '서울시 서초구 반포동'\n",
        "scores = {'korean': 90, 'english': 95, 'mathematics': 85, 'science': 82}\n",
        "\n",
        "with open('james.p', 'wb') as file:\n",
        "  pickle.dump(name, file)\n",
        "  pickle.dump(age, file)\n",
        "  pickle.dump(address, file)\n",
        "  pickle.dump(scores, file)"
      ],
      "execution_count": 17,
      "outputs": []
    },
    {
      "cell_type": "code",
      "metadata": {
        "colab": {
          "base_uri": "https://localhost:8080/"
        },
        "id": "gEbag7t_p9iK",
        "outputId": "41116126-3258-44a0-c83e-e9091f3e99d3"
      },
      "source": [
        "## 27.3.2 파일에서 파이썬 객체 읽기\n",
        "import pickle\n",
        "\n",
        "with open('james.p', 'rb') as file:\n",
        "  name = pickle.load(file)\n",
        "  age = pickle.load(file)\n",
        "  address = pickle.load(file)\n",
        "  scores = pickle.load(file)\n",
        "\n",
        "  print(name)\n",
        "  print(age)\n",
        "  print(address)\n",
        "  print(scores)"
      ],
      "execution_count": 20,
      "outputs": [
        {
          "output_type": "stream",
          "text": [
            "james\n",
            "17\n",
            "서울시 서초구 반포동\n",
            "{'korean': 90, 'english': 95, 'mathematics': 85, 'science': 82}\n"
          ],
          "name": "stdout"
        }
      ]
    },
    {
      "cell_type": "markdown",
      "metadata": {
        "id": "p7fyLILfrhyr"
      },
      "source": [
        "## 27.6 심사문제: 특정 문자가 들어있는 단어 찾기\n",
        "문자열이 저장된 words.txt 파일이 주어집니다(문자열은 한 줄로 저장되어 있습니다). words.txt 파일에서 문자 c가 포함된 단어를 각 줄에 출력하는 프로그램을 만드세요. 단어를 출력할 때는 등장한 순서대로 출력해야 하며 ,(콤마)와 .(점)은 출력하지 않아야 합니다."
      ]
    },
    {
      "cell_type": "code",
      "metadata": {
        "id": "X_i77GMJqnZN"
      },
      "source": [
        "with open('word.txt', 'w') as file:\n",
        "  file.write('Fortunately, however, for the reputation of Asteroid B-612, a Turkish dictator made a law that his subjects, under pain of death, should change to European costume. So in 1920 the astronomer gave his demonstration all over again, dressed with impressive style and elegance. And this time everybody accepted his report.')"
      ],
      "execution_count": 21,
      "outputs": []
    },
    {
      "cell_type": "code",
      "metadata": {
        "colab": {
          "base_uri": "https://localhost:8080/"
        },
        "id": "cjit0lslr2fB",
        "outputId": "7fd32874-66d8-4b7b-a97a-67de6013e2e7"
      },
      "source": [
        "with open('word.txt', 'r') as file:\n",
        "  for words in file :\n",
        "    words_list = words.split(' ')\n",
        "\n",
        "for i in range(len(words_list)):\n",
        "  if 'c' in words_list[i] :\n",
        "    print(words_list[i].strip(',.'))"
      ],
      "execution_count": 41,
      "outputs": [
        {
          "output_type": "stream",
          "text": [
            "dictator\n",
            "subjects\n",
            "change\n",
            "costume\n",
            "elegance\n",
            "accepted\n"
          ],
          "name": "stdout"
        }
      ]
    }
  ]
}