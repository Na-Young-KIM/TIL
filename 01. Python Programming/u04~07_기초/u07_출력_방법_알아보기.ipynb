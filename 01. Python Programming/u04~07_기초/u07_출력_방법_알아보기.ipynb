{
  "nbformat": 4,
  "nbformat_minor": 0,
  "metadata": {
    "colab": {
      "name": "u07_출력 방법 알아보기.ipynb",
      "provenance": []
    },
    "kernelspec": {
      "name": "python3",
      "display_name": "Python 3"
    },
    "language_info": {
      "name": "python"
    }
  },
  "cells": [
    {
      "cell_type": "markdown",
      "metadata": {
        "id": "btJvojE7Z_2Z"
      },
      "source": [
        "# Unit 7. 출력 방법 알아보기\n"
      ]
    },
    {
      "cell_type": "markdown",
      "metadata": {
        "id": "MLnaz6jlaGYY"
      },
      "source": [
        "## 7.1 값을 여러 개 출력하기"
      ]
    },
    {
      "cell_type": "code",
      "metadata": {
        "colab": {
          "base_uri": "https://localhost:8080/"
        },
        "id": "Tukogto-ZnGN",
        "outputId": "d22c849b-efc9-4c79-dc98-fdf29a10f24d"
      },
      "source": [
        "print(1, 2, 3)\n",
        "print('hello','python')"
      ],
      "execution_count": 2,
      "outputs": [
        {
          "output_type": "stream",
          "text": [
            "1 2 3\n",
            "hello python\n"
          ],
          "name": "stdout"
        }
      ]
    },
    {
      "cell_type": "code",
      "metadata": {
        "colab": {
          "base_uri": "https://localhost:8080/"
        },
        "id": "sIViwF6ZaP_S",
        "outputId": "0dc07b89-9c76-4820-abd9-db74010205c1"
      },
      "source": [
        "# 7.1.1 sep로 값 사이에 문자 넣기\n",
        "print(1, 2, 3, sep=',')\n",
        "print('hello', 'python', sep='')\n",
        "print(1920, 1000, sep='x')"
      ],
      "execution_count": 5,
      "outputs": [
        {
          "output_type": "stream",
          "text": [
            "1,2,3\n",
            "hellopython\n",
            "1920x1000\n"
          ],
          "name": "stdout"
        }
      ]
    },
    {
      "cell_type": "markdown",
      "metadata": {
        "id": "Y_bOFeThbC86"
      },
      "source": [
        "## 7.2 줄바꿈 활용하기"
      ]
    },
    {
      "cell_type": "code",
      "metadata": {
        "colab": {
          "base_uri": "https://localhost:8080/"
        },
        "id": "rqvDQ98jau1t",
        "outputId": "3d7ed0e9-814f-4746-ca02-1e6a5b8a2247"
      },
      "source": [
        "print(1, 2, 3, sep='\\n')"
      ],
      "execution_count": 6,
      "outputs": [
        {
          "output_type": "stream",
          "text": [
            "1\n",
            "2\n",
            "3\n"
          ],
          "name": "stdout"
        }
      ]
    },
    {
      "cell_type": "code",
      "metadata": {
        "colab": {
          "base_uri": "https://localhost:8080/"
        },
        "id": "8VzYCv10bLJc",
        "outputId": "cbbd04b9-2140-4e2c-a239-e9b87be1e0d6"
      },
      "source": [
        "print('1\\n2\\n3\\n')"
      ],
      "execution_count": 7,
      "outputs": [
        {
          "output_type": "stream",
          "text": [
            "1\n",
            "2\n",
            "3\n",
            "\n"
          ],
          "name": "stdout"
        }
      ]
    },
    {
      "cell_type": "code",
      "metadata": {
        "colab": {
          "base_uri": "https://localhost:8080/"
        },
        "id": "RRpyGHuQb2YE",
        "outputId": "1918a163-8b7a-47b9-d0e4-fa993d3952e7"
      },
      "source": [
        "print(1, 2, sep='/\\\\')"
      ],
      "execution_count": 10,
      "outputs": [
        {
          "output_type": "stream",
          "text": [
            "1/\\2\n"
          ],
          "name": "stdout"
        }
      ]
    },
    {
      "cell_type": "code",
      "metadata": {
        "colab": {
          "base_uri": "https://localhost:8080/"
        },
        "id": "fbvXAojJbUX5",
        "outputId": "f056f9fd-2bcd-40cd-bd4f-f1a919fddb84"
      },
      "source": [
        "# 7.2.1 end 사용하기\n",
        "print(1, end='')\n",
        "print(2, end='')\n",
        "print(3)"
      ],
      "execution_count": 8,
      "outputs": [
        {
          "output_type": "stream",
          "text": [
            "123\n"
          ],
          "name": "stdout"
        }
      ]
    }
  ]
}