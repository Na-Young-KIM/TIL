{
  "nbformat": 4,
  "nbformat_minor": 0,
  "metadata": {
    "colab": {
      "name": "u06_변수와 입력 사용하기 .ipynb",
      "provenance": []
    },
    "kernelspec": {
      "name": "python3",
      "display_name": "Python 3"
    },
    "language_info": {
      "name": "python"
    }
  },
  "cells": [
    {
      "cell_type": "markdown",
      "metadata": {
        "id": "ySDcjg22LSua"
      },
      "source": [
        "# Unit 6. 변수와 입력 사용하기\n"
      ]
    },
    {
      "cell_type": "markdown",
      "metadata": {
        "id": "RNITo87bLcGF"
      },
      "source": [
        "## 6.1 변수 만들기\n",
        "- 영문 문자와 숫자를 사용할 수 있습니다.\n",
        "- 대소문자를 구분합니다.\n",
        "- 문자부터 시작해야하며 숫자부터 시작하면 안됩니다.\n",
        "- _(밑줄 문자)로 시작할 수 있습니다.\n",
        "- 특수 문자(+, -, *, /, $, @, &, % 등)는 사용할 수 없습니다.\n",
        "- 파이썬의 키워드(if, for, while, and, or 등)는 사용할 수 없습니다."
      ]
    },
    {
      "cell_type": "code",
      "metadata": {
        "colab": {
          "base_uri": "https://localhost:8080/"
        },
        "id": "ghpAcDYlLLwc",
        "outputId": "edc892fc-c138-41c9-d7ff-5b01872d00b2"
      },
      "source": [
        "x = 10\n",
        "x"
      ],
      "execution_count": 1,
      "outputs": [
        {
          "output_type": "execute_result",
          "data": {
            "text/plain": [
              "10"
            ]
          },
          "metadata": {
            "tags": []
          },
          "execution_count": 1
        }
      ]
    },
    {
      "cell_type": "code",
      "metadata": {
        "colab": {
          "base_uri": "https://localhost:8080/",
          "height": 36
        },
        "id": "kYIMa_NmLkK_",
        "outputId": "13214242-b276-48a8-f0e3-279b1f3d6272"
      },
      "source": [
        "y = 'Hello, world!'\n",
        "y"
      ],
      "execution_count": 2,
      "outputs": [
        {
          "output_type": "execute_result",
          "data": {
            "application/vnd.google.colaboratory.intrinsic+json": {
              "type": "string"
            },
            "text/plain": [
              "'Hello, world!'"
            ]
          },
          "metadata": {
            "tags": []
          },
          "execution_count": 2
        }
      ]
    },
    {
      "cell_type": "code",
      "metadata": {
        "colab": {
          "base_uri": "https://localhost:8080/"
        },
        "id": "jwuhd_S0LndK",
        "outputId": "edf59088-c62e-478e-a24b-07b4e753f02e"
      },
      "source": [
        "# 6.1.1 변수의 자료형 알아내기\n",
        "type(x), type(y)"
      ],
      "execution_count": 3,
      "outputs": [
        {
          "output_type": "execute_result",
          "data": {
            "text/plain": [
              "(int, str)"
            ]
          },
          "metadata": {
            "tags": []
          },
          "execution_count": 3
        }
      ]
    },
    {
      "cell_type": "code",
      "metadata": {
        "colab": {
          "base_uri": "https://localhost:8080/"
        },
        "id": "Cw-mSG3_L1tE",
        "outputId": "e736a2da-1ca2-481c-d83a-03b5f8d5cf77"
      },
      "source": [
        "# 6.1.2 변수 여러 개를 한 번에 만들기\n",
        "x, y, z = 10, 20, 30\n",
        "print(x, y, z)\n",
        "\n",
        "x = y = z = 10\n",
        "print(x, y , z)\n",
        "\n",
        "x, y = 10, 20\n",
        "x, y = y,x\n",
        "print(x, y)"
      ],
      "execution_count": 8,
      "outputs": [
        {
          "output_type": "stream",
          "text": [
            "10 20 30\n",
            "10 10 10\n",
            "20 10\n"
          ],
          "name": "stdout"
        }
      ]
    },
    {
      "cell_type": "code",
      "metadata": {
        "colab": {
          "base_uri": "https://localhost:8080/"
        },
        "id": "RapR8wLIL7pt",
        "outputId": "da5a00d6-7ad8-40a4-8240-823f06420766"
      },
      "source": [
        "# 빈 변수 만들기\n",
        "x = None\n",
        "print(x)"
      ],
      "execution_count": 9,
      "outputs": [
        {
          "output_type": "stream",
          "text": [
            "None\n"
          ],
          "name": "stdout"
        }
      ]
    },
    {
      "cell_type": "markdown",
      "metadata": {
        "id": "-1OmdvXhOaqN"
      },
      "source": [
        "## 6.2 변수로 계산하기"
      ]
    },
    {
      "cell_type": "code",
      "metadata": {
        "colab": {
          "base_uri": "https://localhost:8080/"
        },
        "id": "OEW8YclFOUX3",
        "outputId": "879ecbdd-fc49-405f-937a-a01b6904a227"
      },
      "source": [
        "a , b = 10, 20\n",
        "c = a + b\n",
        "print(c)  "
      ],
      "execution_count": 10,
      "outputs": [
        {
          "output_type": "stream",
          "text": [
            "30\n"
          ],
          "name": "stdout"
        }
      ]
    },
    {
      "cell_type": "markdown",
      "metadata": {
        "id": "I4jp6rc9O7r3"
      },
      "source": [
        "### 6.2.1 산술 연산 후 할당 연산자 사용하기"
      ]
    },
    {
      "cell_type": "code",
      "metadata": {
        "colab": {
          "base_uri": "https://localhost:8080/"
        },
        "id": "iTp_pdxAOmPY",
        "outputId": "331a4528-9ccb-4895-a087-e5d426954af6"
      },
      "source": [
        "a = 10\n",
        "print(a +20)\n",
        "print(a)"
      ],
      "execution_count": 11,
      "outputs": [
        {
          "output_type": "stream",
          "text": [
            "30\n",
            "10\n"
          ],
          "name": "stdout"
        }
      ]
    },
    {
      "cell_type": "code",
      "metadata": {
        "colab": {
          "base_uri": "https://localhost:8080/"
        },
        "id": "7Ofwx3NTOywU",
        "outputId": "abc184bb-950b-4e8b-b2f0-2bb248e47889"
      },
      "source": [
        "a = 10\n",
        "a = a + 20\n",
        "a"
      ],
      "execution_count": 13,
      "outputs": [
        {
          "output_type": "execute_result",
          "data": {
            "text/plain": [
              "30"
            ]
          },
          "metadata": {
            "tags": []
          },
          "execution_count": 13
        }
      ]
    },
    {
      "cell_type": "code",
      "metadata": {
        "colab": {
          "base_uri": "https://localhost:8080/"
        },
        "id": "bYgpWPTMPE4b",
        "outputId": "ef4192b1-c241-4032-9412-96b8f646a472"
      },
      "source": [
        "a = 10\n",
        "a += 20\n",
        "a"
      ],
      "execution_count": 14,
      "outputs": [
        {
          "output_type": "execute_result",
          "data": {
            "text/plain": [
              "30"
            ]
          },
          "metadata": {
            "tags": []
          },
          "execution_count": 14
        }
      ]
    },
    {
      "cell_type": "markdown",
      "metadata": {
        "id": "5V2PgNi2QXXY"
      },
      "source": [
        "## 6.3 입력 값을 변수에 저장하기 (input)"
      ]
    },
    {
      "cell_type": "code",
      "metadata": {
        "colab": {
          "base_uri": "https://localhost:8080/",
          "height": 55
        },
        "id": "SUCU9pD5PIj2",
        "outputId": "5d4f4ee8-945a-4fba-9892-bfc215558472"
      },
      "source": [
        "# 6.3.2 input함수의 결과를 변수에 할당하기  \n",
        "x = input()\n",
        "x"
      ],
      "execution_count": 17,
      "outputs": [
        {
          "output_type": "stream",
          "text": [
            "Hello, world!\n"
          ],
          "name": "stdout"
        },
        {
          "output_type": "execute_result",
          "data": {
            "application/vnd.google.colaboratory.intrinsic+json": {
              "type": "string"
            },
            "text/plain": [
              "'Hello, world!'"
            ]
          },
          "metadata": {
            "tags": []
          },
          "execution_count": 17
        }
      ]
    },
    {
      "cell_type": "code",
      "metadata": {
        "colab": {
          "base_uri": "https://localhost:8080/"
        },
        "id": "-VG6i1ylQnAS",
        "outputId": "738cf129-0c2a-4a56-8085-e57ee5ad669b"
      },
      "source": [
        "# 6.3.3 두 숫자의 합 구하기\n",
        "a = input('첫번째 숫자를 입력하세요: ')\n",
        "b = input('두번째 숫자를 입력하세요: ')\n",
        "\n",
        "print(a + b)"
      ],
      "execution_count": 18,
      "outputs": [
        {
          "output_type": "stream",
          "text": [
            "첫번째 숫자를 입력하세요: 10\n",
            "두번째 숫자를 입력하세요: 20\n",
            "1020\n"
          ],
          "name": "stdout"
        }
      ]
    },
    {
      "cell_type": "code",
      "metadata": {
        "colab": {
          "base_uri": "https://localhost:8080/"
        },
        "id": "uaYuwd0hRNEJ",
        "outputId": "fc9aee08-3418-4752-a92b-8bfe96e5db3d"
      },
      "source": [
        "# 6.3.4 입력 값을 정수로 변환하기\n",
        "a = int(input('첫번째 숫자를 입력하세요: '))\n",
        "b = int(input('두번째 숫자를 입력하세요: '))\n",
        "\n",
        "print(a + b)"
      ],
      "execution_count": 20,
      "outputs": [
        {
          "output_type": "stream",
          "text": [
            "첫번째 숫자를 입력하세요: 10\n",
            "두번째 숫자를 입력하세요: 20\n",
            "30\n"
          ],
          "name": "stdout"
        }
      ]
    },
    {
      "cell_type": "markdown",
      "metadata": {
        "id": "TqmJ2SWFRpdj"
      },
      "source": [
        "## 6.4 입력 값을 변수 두 개에 저장하기"
      ]
    },
    {
      "cell_type": "code",
      "metadata": {
        "colab": {
          "base_uri": "https://localhost:8080/"
        },
        "id": "pFDvWWWVRbK8",
        "outputId": "1c0ac4e8-ee8f-40fe-f82c-03587428dcef"
      },
      "source": [
        "a, b = input('문자열 두 개를 입력하세요: ').split()\n",
        "print(a, b)"
      ],
      "execution_count": 23,
      "outputs": [
        {
          "output_type": "stream",
          "text": [
            "문자열 두 개를 입력하세요: hello python\n",
            "hello python\n"
          ],
          "name": "stdout"
        }
      ]
    },
    {
      "cell_type": "code",
      "metadata": {
        "colab": {
          "base_uri": "https://localhost:8080/"
        },
        "id": "hxsEBs6WR4dL",
        "outputId": "31b3a695-a98c-49f7-f6a0-dabd6c9a4c8f"
      },
      "source": [
        "# 6.4.1 두 숫자의 합 구하기\n",
        "a, b = input('숫자 두 개를 입력하세요: ').split()\n",
        "a = int(a)\n",
        "b = int(b)\n",
        "print(a + b)"
      ],
      "execution_count": 26,
      "outputs": [
        {
          "output_type": "stream",
          "text": [
            "숫자 두 개를 입력하세요: 10 20 \n",
            "30\n"
          ],
          "name": "stdout"
        }
      ]
    },
    {
      "cell_type": "code",
      "metadata": {
        "colab": {
          "base_uri": "https://localhost:8080/"
        },
        "id": "0vKZVnNRWUqD",
        "outputId": "7cafe1c9-4195-451e-e3ea-6f013628343f"
      },
      "source": [
        "# 6.4.3 map을 사용하여 정수로 변환하기\n",
        "a, b = map(int, input('숫자 두 개를 입력하세요: ').split())\n",
        "print(a + b)"
      ],
      "execution_count": 29,
      "outputs": [
        {
          "output_type": "stream",
          "text": [
            "숫자 두 개를 입력하세요: 10 20\n",
            "30\n"
          ],
          "name": "stdout"
        }
      ]
    },
    {
      "cell_type": "markdown",
      "metadata": {
        "id": "xX29rIICY_NP"
      },
      "source": [
        ""
      ]
    },
    {
      "cell_type": "code",
      "metadata": {
        "colab": {
          "base_uri": "https://localhost:8080/"
        },
        "id": "C6loWw3TWveW",
        "outputId": "bc00ae83-8de5-4229-8e08-9b3c08ebc424"
      },
      "source": [
        "# 6.4.4 입력받은 값을 콤마를 기준으로 분리하기 \n",
        "a, b = map(int,input('숫자 두 개를 입력, comma로 구분하세요: ').split(','))\n",
        "print(a + b)"
      ],
      "execution_count": 31,
      "outputs": [
        {
          "output_type": "stream",
          "text": [
            "숫자 두 개를 입력, comma로 구분하세요: 10,20\n",
            "30\n"
          ],
          "name": "stdout"
        }
      ]
    }
  ]
}