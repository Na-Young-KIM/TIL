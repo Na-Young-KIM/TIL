{
  "nbformat": 4,
  "nbformat_minor": 0,
  "metadata": {
    "colab": {
      "name": "u04_기본문법.ipynb",
      "provenance": []
    },
    "kernelspec": {
      "name": "python3",
      "display_name": "Python 3"
    },
    "language_info": {
      "name": "python"
    }
  },
  "cells": [
    {
      "cell_type": "markdown",
      "metadata": {
        "id": "swkbxo3Ea3sG"
      },
      "source": [
        "# Unit 4. 기본 문법 알아보기"
      ]
    },
    {
      "cell_type": "markdown",
      "metadata": {
        "id": "G8PA6b11bDfj"
      },
      "source": [
        "## 4.1 세미콜론"
      ]
    },
    {
      "cell_type": "code",
      "metadata": {
        "colab": {
          "base_uri": "https://localhost:8080/"
        },
        "id": "D_53mRzzbBpq",
        "outputId": "d0680a07-1a67-42bd-e658-4bdc93512d2c"
      },
      "source": [
        "print('Hello, world!')"
      ],
      "execution_count": 3,
      "outputs": [
        {
          "output_type": "stream",
          "text": [
            "Hello, world!\n"
          ],
          "name": "stdout"
        }
      ]
    },
    {
      "cell_type": "code",
      "metadata": {
        "colab": {
          "base_uri": "https://localhost:8080/"
        },
        "id": "4S42MigsbUB2",
        "outputId": "27261877-3db9-4fa7-c323-8477aeb51eb1"
      },
      "source": [
        "print('Hello'); print('1234')"
      ],
      "execution_count": 5,
      "outputs": [
        {
          "output_type": "stream",
          "text": [
            "Hello\n",
            "1234\n"
          ],
          "name": "stdout"
        }
      ]
    },
    {
      "cell_type": "markdown",
      "metadata": {
        "id": "_exNheAzbz__"
      },
      "source": [
        "## 4.2 주석"
      ]
    },
    {
      "cell_type": "markdown",
      "metadata": {
        "id": "X4_OszeycAfA"
      },
      "source": [
        "### 4.2.1 한 줄 주석"
      ]
    },
    {
      "cell_type": "code",
      "metadata": {
        "colab": {
          "base_uri": "https://localhost:8080/"
        },
        "id": "eyTB6cc2bhe3",
        "outputId": "971a6fb8-34d4-4cf3-aa0e-f1782594f085"
      },
      "source": [
        "# Hello, world! 출력\n",
        "print('Hello, world!')"
      ],
      "execution_count": 6,
      "outputs": [
        {
          "output_type": "stream",
          "text": [
            "Hello, world!\n"
          ],
          "name": "stdout"
        }
      ]
    },
    {
      "cell_type": "code",
      "metadata": {
        "colab": {
          "base_uri": "https://localhost:8080/"
        },
        "id": "GFW2dq1GcXG0",
        "outputId": "8776889a-b864-4b06-f74b-2d5bf1362a5a"
      },
      "source": [
        "print('Hello, world!')  #comment"
      ],
      "execution_count": 7,
      "outputs": [
        {
          "output_type": "stream",
          "text": [
            "Hello, world!\n"
          ],
          "name": "stdout"
        }
      ]
    },
    {
      "cell_type": "markdown",
      "metadata": {
        "id": "Gbzl7pDqe-Ca"
      },
      "source": [
        "### 4.2.2 블록 주석"
      ]
    },
    {
      "cell_type": "code",
      "metadata": {
        "colab": {
          "base_uri": "https://localhost:8080/",
          "height": 36
        },
        "id": "Kf9iyi4HcdJ7",
        "outputId": "5abf0981-f1b7-420c-eb03-f1bddf86a64b"
      },
      "source": [
        "# 더하기\n",
        "''' a = 1 + 2\n",
        "print('Hello, world!')'''"
      ],
      "execution_count": 13,
      "outputs": [
        {
          "output_type": "execute_result",
          "data": {
            "application/vnd.google.colaboratory.intrinsic+json": {
              "type": "string"
            },
            "text/plain": [
              "\" a = 1 + 2\\nprint('Hello, world!')\""
            ]
          },
          "metadata": {
            "tags": []
          },
          "execution_count": 13
        }
      ]
    },
    {
      "cell_type": "code",
      "metadata": {
        "colab": {
          "base_uri": "https://localhost:8080/",
          "height": 36
        },
        "id": "t-jMhgmGfnTU",
        "outputId": "60fda837-f554-432a-b75f-29f6256c2d8a"
      },
      "source": [
        "\"\"\" \n",
        "이 내용이 포함된 내용이 블록 주석 \n",
        "\"\"\""
      ],
      "execution_count": 10,
      "outputs": [
        {
          "output_type": "execute_result",
          "data": {
            "application/vnd.google.colaboratory.intrinsic+json": {
              "type": "string"
            },
            "text/plain": [
              "' \\n이 내용이 포함된 내용이 블록 주석 \\n'"
            ]
          },
          "metadata": {
            "tags": []
          },
          "execution_count": 10
        }
      ]
    },
    {
      "cell_type": "markdown",
      "metadata": {
        "id": "9R0U4bLkiswq"
      },
      "source": [
        "## 들여쓰기 (Indentation)"
      ]
    },
    {
      "cell_type": "code",
      "metadata": {
        "id": "hbbjxWCii17O"
      },
      "source": [
        "\"\"\" C 프로그래밍 예\n",
        "sum =0;\n",
        "for (i=1, i<=10 i++){\n",
        "    sum += i;\n",
        "}\n",
        "printif(sum);\n",
        "\"\"\""
      ],
      "execution_count": null,
      "outputs": []
    },
    {
      "cell_type": "code",
      "metadata": {
        "colab": {
          "base_uri": "https://localhost:8080/"
        },
        "id": "8IUAPGFHjJWX",
        "outputId": "7e230e19-f92c-4b2d-d888-b0795cfe301e"
      },
      "source": [
        "# 파이썬 예\n",
        "sum = 0\n",
        "for i in range(1,11):\n",
        "  sum += i\n",
        "print(sum)"
      ],
      "execution_count": 15,
      "outputs": [
        {
          "output_type": "stream",
          "text": [
            "55\n"
          ],
          "name": "stdout"
        }
      ]
    },
    {
      "cell_type": "code",
      "metadata": {
        "colab": {
          "base_uri": "https://localhost:8080/"
        },
        "id": "pFDCs7l8jcz-",
        "outputId": "11ca56b7-6d31-478d-8f51-da5afce30182"
      },
      "source": [
        "# 기본 공백 : 공백 4개, 탭/백탭(Shift+TAB)\n",
        "sum = 0\n",
        "for i in range(1,11):\n",
        "  sum += i\n",
        "  if (i>9):\n",
        "    print(i)\n",
        "print(sum)"
      ],
      "execution_count": 16,
      "outputs": [
        {
          "output_type": "stream",
          "text": [
            "10\n",
            "55\n"
          ],
          "name": "stdout"
        }
      ]
    }
  ]
}