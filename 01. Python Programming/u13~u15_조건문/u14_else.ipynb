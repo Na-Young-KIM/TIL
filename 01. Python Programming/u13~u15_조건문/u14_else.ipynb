{
  "nbformat": 4,
  "nbformat_minor": 0,
  "metadata": {
    "colab": {
      "name": "u14_else.ipynb",
      "provenance": [],
      "collapsed_sections": []
    },
    "kernelspec": {
      "name": "python3",
      "display_name": "Python 3"
    },
    "language_info": {
      "name": "python"
    }
  },
  "cells": [
    {
      "cell_type": "markdown",
      "metadata": {
        "id": "4JeVewKbmCtN"
      },
      "source": [
        "# Unit 14. else를 사용하여 두 방향으로 분기하기"
      ]
    },
    {
      "cell_type": "markdown",
      "metadata": {
        "id": "IDbfUKlpmFzc"
      },
      "source": [
        "## 14.1 else 사용하기"
      ]
    },
    {
      "cell_type": "code",
      "metadata": {
        "colab": {
          "base_uri": "https://localhost:8080/"
        },
        "id": "KzqYffBwl85n",
        "outputId": "05b8c8db-d45b-4ab1-b699-fe1444c43db7"
      },
      "source": [
        "x = 5\n",
        "if x == 10:\n",
        "  print('10입니다.')\n",
        "else :\n",
        "  print('10이 아닙니다.')"
      ],
      "execution_count": 1,
      "outputs": [
        {
          "output_type": "stream",
          "text": [
            "10이 아닙니다.\n"
          ],
          "name": "stdout"
        }
      ]
    },
    {
      "cell_type": "code",
      "metadata": {
        "colab": {
          "base_uri": "https://localhost:8080/"
        },
        "id": "RsM8TOZwmQ-_",
        "outputId": "e3ee66bf-19e0-4140-b1a0-e2e3eda2afc9"
      },
      "source": [
        "# 참고 : 변수에 값 할당을 if, else로 축약하기 (3항 연산자)\n",
        "x =5\n",
        "y = 10 if x == 10 else 0\n",
        "y"
      ],
      "execution_count": 2,
      "outputs": [
        {
          "output_type": "execute_result",
          "data": {
            "text/plain": [
              "0"
            ]
          },
          "metadata": {
            "tags": []
          },
          "execution_count": 2
        }
      ]
    },
    {
      "cell_type": "code",
      "metadata": {
        "colab": {
          "base_uri": "https://localhost:8080/"
        },
        "id": "c9pys-BLmnE6",
        "outputId": "a603fce7-bf49-4740-d336-2da0b0030ab7"
      },
      "source": [
        "# 문제 : 90점 이상이면 'A', 80~89 : B, 70~79 : C, 60~69 : D, ~59 : F\n",
        "score = int(input('점수입력 : '))\n",
        "\n",
        "if score >= 90:\n",
        "  print('A')\n",
        "else :\n",
        "  if 80 <= score :\n",
        "    print('B')\n",
        "  else :\n",
        "    if 70 <= score :\n",
        "      print('C')\n",
        "    else :\n",
        "      if 60 <= score :\n",
        "        print(\"D\")\n",
        "      else :\n",
        "        print('F')"
      ],
      "execution_count": 4,
      "outputs": [
        {
          "output_type": "stream",
          "text": [
            "점수입력 : 50\n",
            "F\n"
          ],
          "name": "stdout"
        }
      ]
    },
    {
      "cell_type": "code",
      "metadata": {
        "colab": {
          "base_uri": "https://localhost:8080/",
          "height": 36
        },
        "id": "ykAmJ38ArIlM",
        "outputId": "6384d904-6c75-439b-e484-94c85964206b"
      },
      "source": [
        "score = 68\n",
        "grade = 'A' if score >= 90 else \\\n",
        "        'B' if score >= 80 else \\\n",
        "        'C' if score >= 70 else \\\n",
        "        'D' if score >= 60 else 'F'\n",
        "grade"
      ],
      "execution_count": 17,
      "outputs": [
        {
          "output_type": "execute_result",
          "data": {
            "application/vnd.google.colaboratory.intrinsic+json": {
              "type": "string"
            },
            "text/plain": [
              "'D'"
            ]
          },
          "metadata": {
            "tags": []
          },
          "execution_count": 17
        }
      ]
    },
    {
      "cell_type": "markdown",
      "metadata": {
        "id": "QiNtNgD1qrJ5"
      },
      "source": [
        "## 14.3 if 조건문의 동작 방식 알아보기"
      ]
    },
    {
      "cell_type": "code",
      "metadata": {
        "colab": {
          "base_uri": "https://localhost:8080/"
        },
        "id": "ZI_AlJFjqWE2",
        "outputId": "071a3696-c5db-4c47-c00f-ab25a611e026"
      },
      "source": [
        "if True:\n",
        "    print('참')    # True는 참\n",
        "else:\n",
        "    print('거짓')\n",
        " \n",
        "if False:\n",
        "    print('참')\n",
        "else:\n",
        "    print('거짓')    # False는 거짓\n",
        " \n",
        "if None:\n",
        "    print('참')\n",
        "else:\n",
        "    print('거짓')    # None은 거짓"
      ],
      "execution_count": 5,
      "outputs": [
        {
          "output_type": "stream",
          "text": [
            "참\n",
            "거짓\n",
            "거짓\n"
          ],
          "name": "stdout"
        }
      ]
    },
    {
      "cell_type": "code",
      "metadata": {
        "colab": {
          "base_uri": "https://localhost:8080/"
        },
        "id": "TFB2v_K6qwaI",
        "outputId": "6bd7b456-f4b7-45eb-c7a7-d29801afef0b"
      },
      "source": [
        "## 14.3.1  if 조건문에 숫자 지정하기\n",
        "if 0:\n",
        "    print('참')\n",
        "else:\n",
        "    print('거짓')    # 0은 거짓\n",
        " \n",
        "if 1:\n",
        "    print('참')    # 1은 참\n",
        "else:\n",
        "    print('거짓')\n",
        " \n",
        "if 0x1F:    # 16진수\n",
        "    print('참')    # 0x1F는 참\n",
        "else:\n",
        "    print('거짓')\n",
        " \n",
        "if 0b1000:    # 2진수\n",
        "    print('참')    # 0b1000은 참\n",
        "else:\n",
        "    print('거짓')\n",
        " \n",
        "if 13.5:    # 실수\n",
        "    print('참')    # 13.5는 참\n",
        "else:\n",
        "    print('거짓')"
      ],
      "execution_count": 6,
      "outputs": [
        {
          "output_type": "stream",
          "text": [
            "거짓\n",
            "참\n",
            "참\n",
            "참\n",
            "참\n"
          ],
          "name": "stdout"
        }
      ]
    },
    {
      "cell_type": "code",
      "metadata": {
        "colab": {
          "base_uri": "https://localhost:8080/"
        },
        "id": "6jyDYxubq7n0",
        "outputId": "2a87dd2e-8615-4731-d104-35d8f852aae9"
      },
      "source": [
        "## 14.3.2  if 조건문에 문자열 지정하기\n",
        "if 'Hello':    # 문자열\n",
        "    print('참')    # 문자열은 참\n",
        "else:\n",
        "    print('거짓')\n",
        " \n",
        "if '':    # 빈 문자열\n",
        "    print('참')\n",
        "else:\n",
        "    print('거짓')    # 빈 문자열은 거짓"
      ],
      "execution_count": 18,
      "outputs": [
        {
          "output_type": "stream",
          "text": [
            "참\n",
            "거짓\n"
          ],
          "name": "stdout"
        }
      ]
    },
    {
      "cell_type": "markdown",
      "metadata": {
        "id": "kW2EysJXuvHy"
      },
      "source": [
        "## 14.7 심사문제: 합격 여부 판단하기\n",
        "표준 입력으로 국어, 영어, 수학, 과학 점수가 입력됩니다. 여기서 네 과목의 평균 점수가 80점 이상일 때 합격이라고 정했습니다. 평균 점수에 따라 '합격', '불합격'을 출력하는 프로그램을 만드세요(input에서 안내 문자열은 출력하지 않아야 합니다). 단, 점수는 0점부터 100점까지만 입력받을 수 있으며 범위를 벗어났다면 '잘못된 점수'를 출력하고 합격, 불합격 여부는 출력하지 않아야 합니다."
      ]
    },
    {
      "cell_type": "code",
      "metadata": {
        "colab": {
          "base_uri": "https://localhost:8080/"
        },
        "id": "TpMlXVhXtdA9",
        "outputId": "7c097abc-b1f0-4f8d-e166-6b621108ea90"
      },
      "source": [
        "kor, eng, math, sci = map(int, input().split())\n",
        "if 0<=kor<=100 and 0<=eng<=100 and 0<=math<=100 and 0<=sci<=100 :\n",
        "  avg = (kor + eng + math + sci) / 4\n",
        "  if avg >= 80 :\n",
        "    print('합격')\n",
        "  else :\n",
        "    print('불합격')\n",
        "else : \n",
        "  print('잘못된 점수')"
      ],
      "execution_count": 22,
      "outputs": [
        {
          "output_type": "stream",
          "text": [
            "99 85 101 90\n",
            "잘못된 점수\n"
          ],
          "name": "stdout"
        }
      ]
    }
  ]
}