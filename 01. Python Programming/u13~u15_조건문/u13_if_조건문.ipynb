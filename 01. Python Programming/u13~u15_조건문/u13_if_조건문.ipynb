{
  "nbformat": 4,
  "nbformat_minor": 0,
  "metadata": {
    "colab": {
      "name": "u13_if 조건문.ipynb",
      "provenance": [],
      "collapsed_sections": []
    },
    "kernelspec": {
      "name": "python3",
      "display_name": "Python 3"
    },
    "language_info": {
      "name": "python"
    }
  },
  "cells": [
    {
      "cell_type": "markdown",
      "metadata": {
        "id": "0UKQnbM2jCdn"
      },
      "source": [
        "# Unit 13. if 조건문으로 특정 조건일 때 코드 실행하기"
      ]
    },
    {
      "cell_type": "markdown",
      "metadata": {
        "id": "E8MHngFzjJTW"
      },
      "source": [
        "## 13.1 if조건문 사용하기"
      ]
    },
    {
      "cell_type": "code",
      "metadata": {
        "colab": {
          "base_uri": "https://localhost:8080/"
        },
        "id": "rStqj-_UgJZa",
        "outputId": "9de0cef7-7bc6-46f2-ac31-b6daadd812b1"
      },
      "source": [
        "x = 10\n",
        "if x == 10:\n",
        "  print('10입니다.')"
      ],
      "execution_count": 1,
      "outputs": [
        {
          "output_type": "stream",
          "text": [
            "10입니다.\n"
          ],
          "name": "stdout"
        }
      ]
    },
    {
      "cell_type": "code",
      "metadata": {
        "id": "Q12GO53qjaXa"
      },
      "source": [
        "## 13.1.3 if조건문에서 코드를 생략하기\n",
        "x = 10\n",
        "if x == 10:\n",
        "  pass    # TODO: x가 10일 때 처리가 필요함"
      ],
      "execution_count": 4,
      "outputs": []
    },
    {
      "cell_type": "markdown",
      "metadata": {
        "id": "AqBzd1dGjx-b"
      },
      "source": [
        "## 13.2 if 조건문과 들여쓰기"
      ]
    },
    {
      "cell_type": "code",
      "metadata": {
        "colab": {
          "base_uri": "https://localhost:8080/",
          "height": 140
        },
        "id": "qmgY3VJ2jpLl",
        "outputId": "10c15f97-c826-4a06-811c-bac265db02ad"
      },
      "source": [
        "if x == 10:\n",
        "     print('x에 들어있는 숫자는')\n",
        "         print('10입니다.') "
      ],
      "execution_count": 5,
      "outputs": [
        {
          "output_type": "error",
          "ename": "IndentationError",
          "evalue": "ignored",
          "traceback": [
            "\u001b[0;36m  File \u001b[0;32m\"<ipython-input-5-5eb48b1575e6>\"\u001b[0;36m, line \u001b[0;32m3\u001b[0m\n\u001b[0;31m    print('10입니다.')\u001b[0m\n\u001b[0m    ^\u001b[0m\n\u001b[0;31mIndentationError\u001b[0m\u001b[0;31m:\u001b[0m unexpected indent\n"
          ]
        }
      ]
    },
    {
      "cell_type": "code",
      "metadata": {
        "colab": {
          "base_uri": "https://localhost:8080/"
        },
        "id": "q_RV1bHYj5Tb",
        "outputId": "e3337813-d4ba-43d7-e732-e3a67c6e9386"
      },
      "source": [
        "x = 10\n",
        " \n",
        "if x == 10:\n",
        "     print('x에 들어있는 숫자는')\n",
        "     print('10입니다.')"
      ],
      "execution_count": 6,
      "outputs": [
        {
          "output_type": "stream",
          "text": [
            "x에 들어있는 숫자는\n",
            "10입니다.\n"
          ],
          "name": "stdout"
        }
      ]
    },
    {
      "cell_type": "code",
      "metadata": {
        "colab": {
          "base_uri": "https://localhost:8080/"
        },
        "id": "GyIefXpdj8Rv",
        "outputId": "d2e10759-aa4c-4e40-e98d-0eeb7a6e9f73"
      },
      "source": [
        "x = 5          # x에 5를 할당\n",
        " \n",
        "if x == 10:    # x가 5라서 조건식을 만족하지 않음\n",
        "     print('x에 들어있는 숫자는')\n",
        "print ('10입니다.')"
      ],
      "execution_count": 7,
      "outputs": [
        {
          "output_type": "stream",
          "text": [
            "10입니다.\n"
          ],
          "name": "stdout"
        }
      ]
    },
    {
      "cell_type": "markdown",
      "metadata": {
        "id": "I-8GvCQokD6y"
      },
      "source": [
        "## 13.3 중첩 if 조건문 사용하기"
      ]
    },
    {
      "cell_type": "code",
      "metadata": {
        "colab": {
          "base_uri": "https://localhost:8080/"
        },
        "id": "kOb4AMOWj_7P",
        "outputId": "f73e5019-7175-4aff-e277-beaa3e9bf261"
      },
      "source": [
        "x = 15\n",
        " \n",
        "if x >= 10:\n",
        "     print('10 이상입니다.')\n",
        " \n",
        "     if x == 15:\n",
        "         print('15입니다.')\n",
        " \n",
        "     if x == 20:\n",
        "         print('20입니다.')"
      ],
      "execution_count": 8,
      "outputs": [
        {
          "output_type": "stream",
          "text": [
            "10 이상입니다.\n",
            "15입니다.\n"
          ],
          "name": "stdout"
        }
      ]
    },
    {
      "cell_type": "markdown",
      "metadata": {
        "id": "eKtRPH7pkXM5"
      },
      "source": [
        "## 13.4 사용자가 입력한 값에 if 조건문 사용하기"
      ]
    },
    {
      "cell_type": "code",
      "metadata": {
        "colab": {
          "base_uri": "https://localhost:8080/"
        },
        "id": "l3jaLC-tkN9X",
        "outputId": "297da4a0-6bfb-4238-804a-c89520a8ae76"
      },
      "source": [
        "x = int(input())          # 입력받은 값을 변수에 저장\n",
        " \n",
        "if x == 10:               # x가 10이면\n",
        "    print('10입니다.')    # '10입니다.'를 출력\n",
        " \n",
        "if x == 20:               # x가 20이면\n",
        "    print('20입니다.')    # '20입니다.'를 출력"
      ],
      "execution_count": 9,
      "outputs": [
        {
          "output_type": "stream",
          "text": [
            "10\n",
            "10입니다.\n"
          ],
          "name": "stdout"
        }
      ]
    },
    {
      "cell_type": "markdown",
      "metadata": {
        "id": "G46LXlvfkkCV"
      },
      "source": [
        "## 13.7 심사문제: 온라인 할인 쿠폰 시스템 만들기\n",
        "표준 입력으로 가격(정수)과 쿠폰 이름이 각 줄에 입력됩니다. Cash3000 쿠폰은 3,000원, Cash5000 쿠폰은 5,000원을 할인합니다. 쿠폰에 따라 할인된 가격을 출력하는 프로그램을 만드세요(input에서 안내 문자열은 출력하지 않아야 합니다)."
      ]
    },
    {
      "cell_type": "code",
      "metadata": {
        "colab": {
          "base_uri": "https://localhost:8080/"
        },
        "id": "QPWqpwi6lBxe",
        "outputId": "cb366fa1-1e8e-45c6-9f72-3466923c838e"
      },
      "source": [
        "price = int(input())\n",
        "coupon = input()\n",
        "\n",
        "if coupon == 'Cash3000':\n",
        "  price -= 3000\n",
        "if coupon == \"Cash5000\":\n",
        "  price -= 5000\n",
        "  \n",
        "print(price)"
      ],
      "execution_count": 11,
      "outputs": [
        {
          "output_type": "stream",
          "text": [
            "72000\n",
            "Cash5000\n",
            "67000\n"
          ],
          "name": "stdout"
        }
      ]
    }
  ]
}