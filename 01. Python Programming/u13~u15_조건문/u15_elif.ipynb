{
  "nbformat": 4,
  "nbformat_minor": 0,
  "metadata": {
    "colab": {
      "name": "u15_elif.ipynb",
      "provenance": [],
      "collapsed_sections": []
    },
    "kernelspec": {
      "name": "python3",
      "display_name": "Python 3"
    },
    "language_info": {
      "name": "python"
    }
  },
  "cells": [
    {
      "cell_type": "markdown",
      "metadata": {
        "id": "yhoWSISjlobr"
      },
      "source": [
        "# Unit 15. elif를 사용하여 여러 방향으로 분기하기"
      ]
    },
    {
      "cell_type": "markdown",
      "metadata": {
        "id": "oGu5M8Adlsdr"
      },
      "source": [
        "## 15.1 elif 사용하기"
      ]
    },
    {
      "cell_type": "code",
      "metadata": {
        "colab": {
          "base_uri": "https://localhost:8080/"
        },
        "id": "J205taig3LfN",
        "outputId": "1454b454-a9f5-4c1f-f85b-05a9e556dfa3"
      },
      "source": [
        "x = 20\n",
        "\n",
        "if x == 10:\n",
        "  print('10입니다')\n",
        "elif x == 20:\n",
        "  print('20입니다.')"
      ],
      "execution_count": 1,
      "outputs": [
        {
          "output_type": "stream",
          "text": [
            "20입니다.\n"
          ],
          "name": "stdout"
        }
      ]
    },
    {
      "cell_type": "code",
      "metadata": {
        "colab": {
          "base_uri": "https://localhost:8080/"
        },
        "id": "cF5LyCBhl5_b",
        "outputId": "739c230a-6a56-40be-eadb-d5af8405a369"
      },
      "source": [
        "## 15.1.1 if, elif, else를 모두 사용하기\n",
        "x = 30\n",
        "\n",
        "if x == 10:\n",
        "  print('10입니다.')\n",
        "elif x == 20:\n",
        "  print('20입니다.')\n",
        "else :\n",
        "  print('10도 20도 아닙니다.')"
      ],
      "execution_count": 2,
      "outputs": [
        {
          "output_type": "stream",
          "text": [
            "10도 20도 아닙니다.\n"
          ],
          "name": "stdout"
        }
      ]
    },
    {
      "cell_type": "code",
      "metadata": {
        "colab": {
          "base_uri": "https://localhost:8080/"
        },
        "id": "RKCarZFTm17E",
        "outputId": "0696046d-0b5f-4d8e-a346-176267cfeec0"
      },
      "source": [
        "## 15.1.2 음료수 자판기 만들기\n",
        "button = int(input())\n",
        " \n",
        "if button == 1:\n",
        "    print('콜라')\n",
        "elif button == 2:\n",
        "    print('사이다')\n",
        "elif button == 3:\n",
        "    print('환타')\n",
        "else:\n",
        "    print('제공하지 않는 메뉴')"
      ],
      "execution_count": 3,
      "outputs": [
        {
          "output_type": "stream",
          "text": [
            "2\n",
            "사이다\n"
          ],
          "name": "stdout"
        }
      ]
    },
    {
      "cell_type": "code",
      "metadata": {
        "colab": {
          "base_uri": "https://localhost:8080/"
        },
        "id": "SKHFwLfJo08i",
        "outputId": "6cc52e69-4902-4531-d787-7b1677a6c940"
      },
      "source": [
        "# 퀴즈\n",
        "# 숫자를 입력받아서 3의 배수면 Fizz, 5의 배수면 Buzz, 15의 배수면 FizzBuzz를 출력\n",
        "num = int(input())\n",
        "\n",
        "if num % 15 == 0 :\n",
        "  print('Fizzbuzz')\n",
        "elif num % 3 == 0 :\n",
        "  print('Fizz')\n",
        "elif num % 5 == 0 :\n",
        "  print('Buzz')\n",
        "else :\n",
        "  print(num)"
      ],
      "execution_count": 8,
      "outputs": [
        {
          "output_type": "stream",
          "text": [
            "3\n",
            "Fizz\n"
          ],
          "name": "stdout"
        }
      ]
    },
    {
      "cell_type": "code",
      "metadata": {
        "colab": {
          "base_uri": "https://localhost:8080/"
        },
        "id": "IvNaoVZXqzi1",
        "outputId": "aa870778-c620-4b43-ad64-bfbe7d7a152a"
      },
      "source": [
        "# 위의 퀴즈 다른 풀이법\n",
        "num = int(input())\n",
        "print('Fizz' * (num % 3 == 0) + 'Buzz' * (num % 5 == 0) or num)"
      ],
      "execution_count": 14,
      "outputs": [
        {
          "output_type": "stream",
          "text": [
            "46\n",
            "46\n"
          ],
          "name": "stdout"
        }
      ]
    },
    {
      "cell_type": "markdown",
      "metadata": {
        "id": "er8c-Fu4naN2"
      },
      "source": [
        "## 15.4 심사문제 : 교통카드 시스템 만들기\n",
        "표준 입력으로 나이(만 나이)가 입력됩니다(입력 값은 7 이상 입력됨). 교통카드 시스템에서 시내버스 요금은 다음과 같으며 각 나이에 맞게 요금을 차감한 뒤 잔액이 출력되게 만드세요(if, elif 사용). 현재 교통카드에는 9,000원이 들어있습니다.\n",
        "\n",
        "- 어린이(초등학생, 만 7세 이상 12세 이하): 650원\n",
        "- 청소년(중∙고등학생, 만 13세 이상 18세 이하): 1,050원\n",
        "- 어른(일반, 만 19세 이상): 1,250원"
      ]
    },
    {
      "cell_type": "code",
      "metadata": {
        "colab": {
          "base_uri": "https://localhost:8080/"
        },
        "id": "CNWc9SUDm6eY",
        "outputId": "2a299d33-d3e5-40e0-9eb5-c3d1261aa0b9"
      },
      "source": [
        "age = int(input())\n",
        "balance = 9000    # 교통카드 잔액\n",
        "\n",
        "if 7 <= age <= 12 :\n",
        "  balance -= 650\n",
        "elif 13 <= age <= 18 :\n",
        "  balance -= 1050\n",
        "else :\n",
        "  balance -= 1250\n",
        "\n",
        "print(balance)"
      ],
      "execution_count": 4,
      "outputs": [
        {
          "output_type": "stream",
          "text": [
            "12\n",
            "8350\n"
          ],
          "name": "stdout"
        }
      ]
    }
  ]
}