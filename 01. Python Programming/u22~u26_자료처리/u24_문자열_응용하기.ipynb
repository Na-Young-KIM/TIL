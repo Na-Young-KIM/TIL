{
  "nbformat": 4,
  "nbformat_minor": 0,
  "metadata": {
    "colab": {
      "name": "u24_문자열 응용하기.ipynb",
      "provenance": [],
      "collapsed_sections": []
    },
    "kernelspec": {
      "name": "python3",
      "display_name": "Python 3"
    },
    "language_info": {
      "name": "python"
    }
  },
  "cells": [
    {
      "cell_type": "markdown",
      "metadata": {
        "id": "532jd10RJS0O"
      },
      "source": [
        "## Unit 24. 문자열 응용하기"
      ]
    },
    {
      "cell_type": "markdown",
      "metadata": {
        "id": "sNiLj4OfJXar"
      },
      "source": [
        "## 24.1 문자열 조작하기"
      ]
    },
    {
      "cell_type": "code",
      "metadata": {
        "colab": {
          "base_uri": "https://localhost:8080/"
        },
        "id": "qOWxYQkHSmJO",
        "outputId": "fd791e61-c5b1-4111-9b13-cd8cf5e247ee"
      },
      "source": [
        "## 24.1.1 문자열 바꾸기 : replace('바꿀문자열','새문자열')\n",
        "s = 'hello, python'\n",
        "\n",
        "s.replace('python','world')\n",
        "print(s)\n",
        "\n",
        "s = s.replace('python','world')\n",
        "print(s)"
      ],
      "execution_count": 34,
      "outputs": [
        {
          "output_type": "stream",
          "text": [
            "hello, python\n",
            "hello, world\n"
          ],
          "name": "stdout"
        }
      ]
    },
    {
      "cell_type": "code",
      "metadata": {
        "colab": {
          "base_uri": "https://localhost:8080/",
          "height": 36
        },
        "id": "0YU9nFOSSmBL",
        "outputId": "1436ae41-d8bb-4415-f862-b3f5fbb74dcf"
      },
      "source": [
        "## 24.1.2 문자 바꾸기 : translate('바꿀문자', '새문자')\n",
        "s = 'hello, python'\n",
        "\n",
        "table = str.maketrans('hello', '12345')\n",
        "s.translate(table)"
      ],
      "execution_count": 40,
      "outputs": [
        {
          "output_type": "execute_result",
          "data": {
            "application/vnd.google.colaboratory.intrinsic+json": {
              "type": "string"
            },
            "text/plain": [
              "'12445, pyt15n'"
            ]
          },
          "metadata": {
            "tags": []
          },
          "execution_count": 40
        }
      ]
    },
    {
      "cell_type": "code",
      "metadata": {
        "colab": {
          "base_uri": "https://localhost:8080/"
        },
        "id": "8R9i__SiSl6I",
        "outputId": "71a63ff9-f53e-41ce-f76a-cbb57d7a1b38"
      },
      "source": [
        "## 24.1.3 문자열 분리하기\n",
        "'apple pear grape pineapple orange'.split()"
      ],
      "execution_count": 41,
      "outputs": [
        {
          "output_type": "execute_result",
          "data": {
            "text/plain": [
              "['apple', 'pear', 'grape', 'pineapple', 'orange']"
            ]
          },
          "metadata": {
            "tags": []
          },
          "execution_count": 41
        }
      ]
    },
    {
      "cell_type": "code",
      "metadata": {
        "colab": {
          "base_uri": "https://localhost:8080/"
        },
        "id": "3TqKmiPAUD2P",
        "outputId": "60c489ff-d35a-4ecb-b4b7-f36c549790ed"
      },
      "source": [
        "## 24.1.4 구분자 문자열과 문자열 리스트 연결하기\n",
        "print(' '.join(['apple', 'pear', 'grape', 'pineapple', 'orange']))\n",
        "print('-'.join(['apple', 'pear', 'grape', 'pineapple', 'orange']))"
      ],
      "execution_count": 43,
      "outputs": [
        {
          "output_type": "stream",
          "text": [
            "apple pear grape pineapple orange\n",
            "apple-pear-grape-pineapple-orange\n"
          ],
          "name": "stdout"
        }
      ]
    },
    {
      "cell_type": "code",
      "metadata": {
        "colab": {
          "base_uri": "https://localhost:8080/",
          "height": 36
        },
        "id": "jEZhXlMCUDsv",
        "outputId": "a28fa3d2-389d-46bb-a049-bbdd1e3045a5"
      },
      "source": [
        "## 24.1.5 소문자를 대문자로 바꾸기\n",
        "s = 'Hello, Python'\n",
        "s.upper()"
      ],
      "execution_count": 45,
      "outputs": [
        {
          "output_type": "execute_result",
          "data": {
            "application/vnd.google.colaboratory.intrinsic+json": {
              "type": "string"
            },
            "text/plain": [
              "'HELLO, PYTHON'"
            ]
          },
          "metadata": {
            "tags": []
          },
          "execution_count": 45
        }
      ]
    },
    {
      "cell_type": "code",
      "metadata": {
        "colab": {
          "base_uri": "https://localhost:8080/",
          "height": 36
        },
        "id": "wEdN7vXSUDZ7",
        "outputId": "3669220c-1522-4f0c-e897-b8ef3543c0ad"
      },
      "source": [
        "## 24.1.6 대문자를 소문자로 바꾸기\n",
        "s = 'Hello, Python'\n",
        "s.lower()"
      ],
      "execution_count": 46,
      "outputs": [
        {
          "output_type": "execute_result",
          "data": {
            "application/vnd.google.colaboratory.intrinsic+json": {
              "type": "string"
            },
            "text/plain": [
              "'hello, python'"
            ]
          },
          "metadata": {
            "tags": []
          },
          "execution_count": 46
        }
      ]
    },
    {
      "cell_type": "code",
      "metadata": {
        "colab": {
          "base_uri": "https://localhost:8080/"
        },
        "id": "kZkytoCBUrW9",
        "outputId": "fc4273fe-4ee2-4dce-94c0-9c00972342b6"
      },
      "source": [
        "## 24.1.7~9 공백 삭제하기\n",
        "print('   Python   '.lstrip())   #왼쪽 공백삭제\n",
        "print('   Python   '.rstrip())   #오른쪽 공백삭제\n",
        "print('   Python   '.strip())    #양쪽 공백삭제"
      ],
      "execution_count": 47,
      "outputs": [
        {
          "output_type": "stream",
          "text": [
            "Python   \n",
            "   Python\n",
            "Python\n"
          ],
          "name": "stdout"
        }
      ]
    },
    {
      "cell_type": "code",
      "metadata": {
        "colab": {
          "base_uri": "https://localhost:8080/"
        },
        "id": "KHdDJ21uUrQ_",
        "outputId": "86d941b3-a890-4f71-9bc6-4423c41e5d13"
      },
      "source": [
        "## 24.19~12 특정 문자 삭제하기\n",
        "print(', python.'.lstrip(',.'))   #왼쪽 특정 문자 삭제\n",
        "print(', python.'.rstrip(',.'))   #오른쪽 특정 문자 삭제\n",
        "print(', python.'.strip(',.'))    #양쪽 특정 문자 삭제"
      ],
      "execution_count": 54,
      "outputs": [
        {
          "output_type": "stream",
          "text": [
            " python.\n",
            ", python\n",
            " python\n"
          ],
          "name": "stdout"
        }
      ]
    },
    {
      "cell_type": "code",
      "metadata": {
        "colab": {
          "base_uri": "https://localhost:8080/"
        },
        "id": "YLfD1n66UrNV",
        "outputId": "400f089b-4092-4076-acab-a8496378b9c3"
      },
      "source": [
        "## 24.1.13~15 문자열 정렬하기\n",
        "print('python'.ljust(10))       #왼쪽 정렬\n",
        "print('python'.rjust(10))       #오른쪽 정렬\n",
        "print('python'.center(10))      #양쪽 정렬"
      ],
      "execution_count": 55,
      "outputs": [
        {
          "output_type": "stream",
          "text": [
            "python    \n",
            "    python\n",
            "  python  \n"
          ],
          "name": "stdout"
        }
      ]
    },
    {
      "cell_type": "code",
      "metadata": {
        "colab": {
          "base_uri": "https://localhost:8080/",
          "height": 36
        },
        "id": "e_xdztnAJMja",
        "outputId": "15605120-d229-4fec-fa00-de6b1082aaae"
      },
      "source": [
        "## 24.1.16 메서드 체이닝\n",
        "'python'.rjust(10).upper()"
      ],
      "execution_count": 1,
      "outputs": [
        {
          "output_type": "execute_result",
          "data": {
            "application/vnd.google.colaboratory.intrinsic+json": {
              "type": "string"
            },
            "text/plain": [
              "'    PYTHON'"
            ]
          },
          "metadata": {
            "tags": []
          },
          "execution_count": 1
        }
      ]
    },
    {
      "cell_type": "code",
      "metadata": {
        "colab": {
          "base_uri": "https://localhost:8080/"
        },
        "id": "grZIurduJ-hU",
        "outputId": "dee9c833-213f-4c7c-9b53-7b948a282d0d"
      },
      "source": [
        "## 24.1.18 문자열 위치 찾기 : find('찾을문자열')\n",
        "f = 'apple pineapple'\n",
        " \n",
        "print(f.find('pl'))       # 처음 찾은 것만 반환\n",
        "print(f.find('ba'))       # 문자열이 없으면 -1반환"
      ],
      "execution_count": 6,
      "outputs": [
        {
          "output_type": "stream",
          "text": [
            "2\n",
            "-1\n"
          ],
          "name": "stdout"
        }
      ]
    },
    {
      "cell_type": "code",
      "metadata": {
        "id": "wU-P66FzK1ul"
      },
      "source": [
        "seek = 'fi'\n",
        "if f.find(seek) >= 0 :\n",
        "  pass                    # 찾고자 하는 문자열이 있는 경우\n",
        "else :\n",
        "  pass                    # 찾고자 하는 문자열이 없는 경우"
      ],
      "execution_count": 7,
      "outputs": []
    },
    {
      "cell_type": "code",
      "metadata": {
        "colab": {
          "base_uri": "https://localhost:8080/"
        },
        "id": "S-e7Wal-KG8x",
        "outputId": "edc89bc5-0142-44f7-fdd5-a60a1f630bbb"
      },
      "source": [
        "## 24.1.9 오른쪽에서부터 문자열 위치 찾기 : rfind('찾을문자열')\n",
        "f = 'apple pineapple'\n",
        "\n",
        "print(f.rfind('pl'))\n",
        "print(f.rfind('xy'))"
      ],
      "execution_count": 10,
      "outputs": [
        {
          "output_type": "stream",
          "text": [
            "12\n",
            "-1\n"
          ],
          "name": "stdout"
        }
      ]
    },
    {
      "cell_type": "code",
      "metadata": {
        "colab": {
          "base_uri": "https://localhost:8080/",
          "height": 235
        },
        "id": "c_r9IqrMLYCm",
        "outputId": "c254eed0-dcf0-4fb7-9fd9-c6a2b7c72e88"
      },
      "source": [
        "## 24.1.10 문자열 위치 찾기 : index('찾을문자열')\n",
        "f = 'apple pineapple'\n",
        "\n",
        "print(f.index('pl'))        # 처음 찾은 것만 반환\n",
        "print(f.index('xy'))        # 찾는 문자열이 없는 경우 에러가 남."
      ],
      "execution_count": 13,
      "outputs": [
        {
          "output_type": "stream",
          "text": [
            "2\n"
          ],
          "name": "stdout"
        },
        {
          "output_type": "error",
          "ename": "ValueError",
          "evalue": "ignored",
          "traceback": [
            "\u001b[0;31m---------------------------------------------------------------------------\u001b[0m",
            "\u001b[0;31mValueError\u001b[0m                                Traceback (most recent call last)",
            "\u001b[0;32m<ipython-input-13-e04f8a0e3894>\u001b[0m in \u001b[0;36m<module>\u001b[0;34m()\u001b[0m\n\u001b[1;32m      3\u001b[0m \u001b[0;34m\u001b[0m\u001b[0m\n\u001b[1;32m      4\u001b[0m \u001b[0mprint\u001b[0m\u001b[0;34m(\u001b[0m\u001b[0mf\u001b[0m\u001b[0;34m.\u001b[0m\u001b[0mindex\u001b[0m\u001b[0;34m(\u001b[0m\u001b[0;34m'pl'\u001b[0m\u001b[0;34m)\u001b[0m\u001b[0;34m)\u001b[0m\u001b[0;34m\u001b[0m\u001b[0;34m\u001b[0m\u001b[0m\n\u001b[0;32m----> 5\u001b[0;31m \u001b[0mprint\u001b[0m\u001b[0;34m(\u001b[0m\u001b[0mf\u001b[0m\u001b[0;34m.\u001b[0m\u001b[0mindex\u001b[0m\u001b[0;34m(\u001b[0m\u001b[0;34m'xy'\u001b[0m\u001b[0;34m)\u001b[0m\u001b[0;34m)\u001b[0m\u001b[0;34m\u001b[0m\u001b[0;34m\u001b[0m\u001b[0m\n\u001b[0m",
            "\u001b[0;31mValueError\u001b[0m: substring not found"
          ]
        }
      ]
    },
    {
      "cell_type": "code",
      "metadata": {
        "colab": {
          "base_uri": "https://localhost:8080/"
        },
        "id": "Mm5Pus4aLoCo",
        "outputId": "2e66deb1-e3aa-4902-ce9b-a8f887637a3a"
      },
      "source": [
        "## 24.1.22 문자열 개수 세기 : count('문자열')\n",
        "f = 'apple pineapple'\n",
        "\n",
        "f.count('pl')"
      ],
      "execution_count": 14,
      "outputs": [
        {
          "output_type": "execute_result",
          "data": {
            "text/plain": [
              "2"
            ]
          },
          "metadata": {
            "tags": []
          },
          "execution_count": 14
        }
      ]
    },
    {
      "cell_type": "markdown",
      "metadata": {
        "id": "BlVKs_PBMSo1"
      },
      "source": [
        "## 24.2 문자열 서식 지정자와 포매팅 사용하기\n"
      ]
    },
    {
      "cell_type": "code",
      "metadata": {
        "colab": {
          "base_uri": "https://localhost:8080/"
        },
        "id": "EgKmQd2iMEi1",
        "outputId": "16d358fa-080e-4e0e-8490-02e275f2ed20"
      },
      "source": [
        "## 24.2.1 서식 지정자로 문자열 넣기 \n",
        "name = 'maria'\n",
        "\n",
        "print(f'I am {name}.')"
      ],
      "execution_count": 21,
      "outputs": [
        {
          "output_type": "stream",
          "text": [
            "I am maria\n"
          ],
          "name": "stdout"
        }
      ]
    },
    {
      "cell_type": "code",
      "metadata": {
        "colab": {
          "base_uri": "https://localhost:8080/"
        },
        "id": "pWy9VrSoNshy",
        "outputId": "b58ba8df-71f9-454d-df32-f440508f4762"
      },
      "source": [
        "## 24.2.2 서식 지정자로 숫자 넣기\n",
        "age = 20\n",
        "print(f'I am {age} old years.')"
      ],
      "execution_count": 20,
      "outputs": [
        {
          "output_type": "stream",
          "text": [
            "I am 20 old years\n"
          ],
          "name": "stdout"
        }
      ]
    },
    {
      "cell_type": "code",
      "metadata": {
        "colab": {
          "base_uri": "https://localhost:8080/"
        },
        "id": "EOiOGhisOFEs",
        "outputId": "e0874c4f-8ccc-4566-cd43-16ceab314a9f"
      },
      "source": [
        "## 24.2.3 서식 지정자로 소수점 표현하기 \n",
        "pi = 3.1415926535\n",
        "print(f'{pi:.4f}')"
      ],
      "execution_count": 24,
      "outputs": [
        {
          "output_type": "stream",
          "text": [
            "3.1416\n"
          ],
          "name": "stdout"
        }
      ]
    },
    {
      "cell_type": "code",
      "metadata": {
        "colab": {
          "base_uri": "https://localhost:8080/"
        },
        "id": "ibpX2iJHOcWp",
        "outputId": "881f41cb-6e1d-476a-a750-9052e678520b"
      },
      "source": [
        "## 참고 : 자릿수가 다른 숫자 출력하기\n",
        "hour, minute = 9, 5\n",
        "print(f'{hour:02d} : {minute:02d}')"
      ],
      "execution_count": 29,
      "outputs": [
        {
          "output_type": "stream",
          "text": [
            "09 : 05\n"
          ],
          "name": "stdout"
        }
      ]
    },
    {
      "cell_type": "markdown",
      "metadata": {
        "id": "00ew3ttgXuS1"
      },
      "source": [
        "## 24.5 심사문제: 특정 단어 개수 세기\n",
        "표준 입력으로 문자열이 입력됩니다. 입력된 문자열에서 'the'의 개수를 출력하는 프로그램을 만드세요(input에서 안내 문자열은 출력하지 않아야 합니다). 단, 모든 문자가 소문자인 'the'만 찾으면 되며 'them', 'there', 'their' 등은 포함하지 않아야 합니다."
      ]
    },
    {
      "cell_type": "code",
      "metadata": {
        "colab": {
          "base_uri": "https://localhost:8080/"
        },
        "id": "LNP7kJ-LX2db",
        "outputId": "55ad93af-f7e6-4475-dee7-07350578a400"
      },
      "source": [
        "text = input().replace(',',' ')\n",
        "text = text.replace('-',' ')\n",
        "text = text.replace('\\'',' ')\n",
        "text = text.replace('.',' ')\n",
        "\n",
        "print(text.split(' ').count('the'))"
      ],
      "execution_count": 73,
      "outputs": [
        {
          "output_type": "stream",
          "text": [
            "the grown-ups' response, this time, was to advise me to lay aside my drawings of boa constrictors, whether from the inside or the outside, and devote myself instead to geography, history, arithmetic, and grammar. That is why, at the, age of six, I gave up what might have been a magnificent career as a painter. I had been disheartened by the failure of my Drawing Number One and my Drawing Number Two. Grown-ups never understand anything by themselves, and it is tiresome for children to be always and forever explaining things to the.\n",
            "6\n"
          ],
          "name": "stdout"
        }
      ]
    },
    {
      "cell_type": "markdown",
      "metadata": {
        "id": "FN_p5vLxdpBk"
      },
      "source": [
        "## 24.6 심사문제: 높은 가격순으로 출력하기\n",
        "표준 입력으로 물품 가격 여러 개가 문자열 한 줄로 입력되고, 각 가격은 ;(세미콜론)으로 구분되어 있습니다. 입력된 가격을 높은 가격순으로 출력하는 프로그램을 만드세요(input에서 안내 문자열은 출력하지 않아야 합니다). 이때 가격은 길이를 9로 만든 뒤 오른쪽으로 정렬하고 천단위로 ,(콤마)를 넣으세요."
      ]
    },
    {
      "cell_type": "code",
      "metadata": {
        "colab": {
          "base_uri": "https://localhost:8080/"
        },
        "id": "eeQi02T0bjvt",
        "outputId": "fe78607b-30c2-4fff-c2fe-f67b85ad04ff"
      },
      "source": [
        "price = list(map(int,input().split(';')))\n",
        "price.sort(reverse=True)\n",
        "for i in range(len(price)):\n",
        "  print(f'{price[i]:>9,}')"
      ],
      "execution_count": 120,
      "outputs": [
        {
          "output_type": "stream",
          "text": [
            "51900;83000;158000;367500;250000;59200;128500;1304000\n",
            "1,304,000\n",
            "  367,500\n",
            "  250,000\n",
            "  158,000\n",
            "  128,500\n",
            "   83,000\n",
            "   59,200\n",
            "   51,900\n"
          ],
          "name": "stdout"
        }
      ]
    }
  ]
}