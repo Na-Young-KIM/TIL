{
  "nbformat": 4,
  "nbformat_minor": 0,
  "metadata": {
    "colab": {
      "name": "u25_딕셔너리.ipynb",
      "provenance": [],
      "collapsed_sections": []
    },
    "kernelspec": {
      "name": "python3",
      "display_name": "Python 3"
    },
    "language_info": {
      "name": "python"
    }
  },
  "cells": [
    {
      "cell_type": "markdown",
      "metadata": {
        "id": "yLpnVwF1ohBS"
      },
      "source": [
        "# Unit 25. 딕셔너리 응용하기"
      ]
    },
    {
      "cell_type": "markdown",
      "metadata": {
        "id": "ICbYxCdWopMT"
      },
      "source": [
        "## 25.1 딕셔너리 조작하기"
      ]
    },
    {
      "cell_type": "code",
      "metadata": {
        "colab": {
          "base_uri": "https://localhost:8080/"
        },
        "id": "v6CozU8sogay",
        "outputId": "3acf8c5f-607b-47ff-c57c-be07e8191393"
      },
      "source": [
        "## 25.1.1 딕셔너리에 키와 기본값 저장하기\n",
        "x = {'a': 10, 'b': 20, 'c': 30, 'd': 40}\n",
        "y = x.setdefault('e', 100)\n",
        "x, y"
      ],
      "execution_count": 6,
      "outputs": [
        {
          "output_type": "execute_result",
          "data": {
            "text/plain": [
              "({'a': 10, 'b': 20, 'c': 30, 'd': 40, 'e': 100}, 100)"
            ]
          },
          "metadata": {
            "tags": []
          },
          "execution_count": 6
        }
      ]
    },
    {
      "cell_type": "code",
      "metadata": {
        "colab": {
          "base_uri": "https://localhost:8080/"
        },
        "id": "9ixsaP36oWCe",
        "outputId": "da03334a-5e18-4629-fd52-99e113fc5a84"
      },
      "source": [
        "## 25.1.3 딕셔너리에서 키의 값 수정하기\n",
        "x = {'a': 10, 'b': 20, 'c': 30, 'd': 40}\n",
        "\n",
        "x.update(a=90)\n",
        "print(x)\n",
        "\n",
        "x['b'] = 70     # 주로 사용\n",
        "print(x)"
      ],
      "execution_count": 11,
      "outputs": [
        {
          "output_type": "stream",
          "text": [
            "{'a': 90, 'b': 20, 'c': 30, 'd': 40}\n",
            "{'a': 90, 'b': 70, 'c': 30, 'd': 40}\n"
          ],
          "name": "stdout"
        }
      ]
    },
    {
      "cell_type": "code",
      "metadata": {
        "colab": {
          "base_uri": "https://localhost:8080/"
        },
        "id": "9QzbdRuZq28C",
        "outputId": "52e7a085-7523-4590-a25f-a6da3e856211"
      },
      "source": [
        "## 25.1.4 딕셔너리에서 키-값 쌍 삭제학\n",
        "x = {'a': 10, 'b': 20, 'c': 30, 'd': 40}\n",
        "\n",
        "del x['a']\n",
        "print(x)"
      ],
      "execution_count": 12,
      "outputs": [
        {
          "output_type": "stream",
          "text": [
            "{'b': 20, 'c': 30, 'd': 40}\n"
          ],
          "name": "stdout"
        }
      ]
    },
    {
      "cell_type": "code",
      "metadata": {
        "colab": {
          "base_uri": "https://localhost:8080/"
        },
        "id": "LREBPJoHqfNk",
        "outputId": "04d5c257-887f-4489-ca79-d6ba2694ecd7"
      },
      "source": [
        "## 키-값쌍 모두 가져오기\n",
        "x = {'a': 10, 'b': 20, 'c': 30, 'd': 40}\n",
        "\n",
        "print(x.items())\n",
        "print(x.keys())\n",
        "print(x.values())"
      ],
      "execution_count": 13,
      "outputs": [
        {
          "output_type": "stream",
          "text": [
            "dict_items([('a', 10), ('b', 20), ('c', 30), ('d', 40)])\n",
            "dict_keys(['a', 'b', 'c', 'd'])\n",
            "dict_values([10, 20, 30, 40])\n"
          ],
          "name": "stdout"
        }
      ]
    },
    {
      "cell_type": "code",
      "metadata": {
        "colab": {
          "base_uri": "https://localhost:8080/"
        },
        "id": "ePTgJ5Raqi9Q",
        "outputId": "c9842125-50a1-4a9c-d34f-8699c8de723c"
      },
      "source": [
        "## 키-값을 서로 바꾸고 싶을때\n",
        "\n",
        "dict(zip(x.values(),x.keys()))"
      ],
      "execution_count": 15,
      "outputs": [
        {
          "output_type": "execute_result",
          "data": {
            "text/plain": [
              "{10: 'a', 20: 'b', 30: 'c', 40: 'd'}"
            ]
          },
          "metadata": {
            "tags": []
          },
          "execution_count": 15
        }
      ]
    },
    {
      "cell_type": "code",
      "metadata": {
        "colab": {
          "base_uri": "https://localhost:8080/"
        },
        "id": "T8xRj80ErYOY",
        "outputId": "aea897b7-4d84-4090-9a0c-ee1c51ca21c9"
      },
      "source": [
        "## 25.1.9 리스트와 튜플로 딕셔너리 만들기\n",
        "\n",
        "k = ('a','b', 'c', 'd')\n",
        "v = (10, 20, 30, 40)\n",
        "dict(zip(k, v))"
      ],
      "execution_count": 16,
      "outputs": [
        {
          "output_type": "execute_result",
          "data": {
            "text/plain": [
              "{'a': 10, 'b': 20, 'c': 30, 'd': 40}"
            ]
          },
          "metadata": {
            "tags": []
          },
          "execution_count": 16
        }
      ]
    },
    {
      "cell_type": "markdown",
      "metadata": {
        "id": "0etMtesrr5vD"
      },
      "source": [
        "## 25.2 반복문으로 딕셔너리의 키-값 쌍을 모두 출력하기"
      ]
    },
    {
      "cell_type": "code",
      "metadata": {
        "colab": {
          "base_uri": "https://localhost:8080/"
        },
        "id": "2jtbUUXSr2HQ",
        "outputId": "3dd66c9b-f273-46c6-fae1-69b071130128"
      },
      "source": [
        "x = {'a': 10, 'b': 20, 'c': 30, 'd': 40}\n",
        "\n",
        "for key, value in x.items():\n",
        "  print(f'{key} : {value}')"
      ],
      "execution_count": 25,
      "outputs": [
        {
          "output_type": "stream",
          "text": [
            "a : 10\n",
            "b : 20\n",
            "c : 30\n",
            "d : 40\n"
          ],
          "name": "stdout"
        }
      ]
    },
    {
      "cell_type": "code",
      "metadata": {
        "colab": {
          "base_uri": "https://localhost:8080/"
        },
        "id": "GpUfuLaJtM2l",
        "outputId": "f23fe4a5-5f9c-4bf7-9047-216fc6c563d2"
      },
      "source": [
        "for i, (k, v) in enumerate(x.items()):\n",
        "  print(i, k, v)"
      ],
      "execution_count": 33,
      "outputs": [
        {
          "output_type": "stream",
          "text": [
            "0 a 10\n",
            "1 b 20\n",
            "2 c 30\n",
            "3 d 40\n"
          ],
          "name": "stdout"
        }
      ]
    },
    {
      "cell_type": "code",
      "metadata": {
        "colab": {
          "base_uri": "https://localhost:8080/"
        },
        "id": "k0BYu8TesDPv",
        "outputId": "04059140-cefd-486f-ebc6-ee0e8d551898"
      },
      "source": [
        "## 25.2.1 딕셔너리의 키만 출력하기\n",
        "x = {'a': 10, 'b': 20, 'c': 30, 'd': 40}\n",
        "\n",
        "for key in x.keys():\n",
        "  print(f'{key} : {x[key]}')"
      ],
      "execution_count": 32,
      "outputs": [
        {
          "output_type": "stream",
          "text": [
            "a : 10\n",
            "b : 20\n",
            "c : 30\n",
            "d : 40\n"
          ],
          "name": "stdout"
        }
      ]
    },
    {
      "cell_type": "code",
      "metadata": {
        "colab": {
          "base_uri": "https://localhost:8080/"
        },
        "id": "WQogTleqsaPh",
        "outputId": "e7f66f51-d9cf-4826-fc63-d32e28cce59f"
      },
      "source": [
        "## 25.2.2 딕셔너리의 값만 출력하기\n",
        "x = {'a': 10, 'b': 20, 'c': 30, 'd': 40}\n",
        "\n",
        "for value in x.values():\n",
        "  print(f'{value}', end = ' ')"
      ],
      "execution_count": 28,
      "outputs": [
        {
          "output_type": "stream",
          "text": [
            "10 20 30 40 "
          ],
          "name": "stdout"
        }
      ]
    },
    {
      "cell_type": "markdown",
      "metadata": {
        "id": "g6jjp2nUtXau"
      },
      "source": [
        "## 25.3 딕셔너리 표현식 사용하기"
      ]
    },
    {
      "cell_type": "code",
      "metadata": {
        "colab": {
          "base_uri": "https://localhost:8080/"
        },
        "id": "nSArLWFls71V",
        "outputId": "6453c31f-1b32-4bbc-b470-4457892c2b6e"
      },
      "source": [
        "x = {'a': 10, 'b': 20, 'c': 30, 'd': 40}\n",
        "x2 = {key: value*value for key, value in x.items()}\n",
        "print(x2)"
      ],
      "execution_count": 36,
      "outputs": [
        {
          "output_type": "stream",
          "text": [
            "{'a': 100, 'b': 400, 'c': 900, 'd': 1600}\n"
          ],
          "name": "stdout"
        }
      ]
    },
    {
      "cell_type": "code",
      "metadata": {
        "colab": {
          "base_uri": "https://localhost:8080/"
        },
        "id": "yg-E2PxQuOLs",
        "outputId": "30bbb421-e5d4-4f2d-a498-e12eb7434e6f"
      },
      "source": [
        "## 25.3.1 딕셔너리 표현식에서 if 조건문 사용하기\n",
        "x = {'a': 10, 'b': 20, 'c': 30, 'd': 40}\n",
        "\n",
        "x = {key: value for key, value in x.items() if value != 20}\n",
        "print(x)"
      ],
      "execution_count": 47,
      "outputs": [
        {
          "output_type": "stream",
          "text": [
            "{'a': 10, 'c': 30, 'd': 40}\n"
          ],
          "name": "stdout"
        }
      ]
    },
    {
      "cell_type": "markdown",
      "metadata": {
        "id": "m7FEkJIsvOMO"
      },
      "source": [
        "## 25.4 딕셔너리 안에서 딕셔너리 사용하기"
      ]
    },
    {
      "cell_type": "code",
      "metadata": {
        "colab": {
          "base_uri": "https://localhost:8080/"
        },
        "id": "WeSzjINEutJo",
        "outputId": "8aa5fee4-9a77-4652-87e0-deeac1e13776"
      },
      "source": [
        "terrestrial_planet = {\n",
        "    'Mercury': {\n",
        "        'mean_radius': 2439.7,\n",
        "        'mass': 3.3022E+23,\n",
        "        'orbital_period': 87.969\n",
        "    },\n",
        "    'Venus': {\n",
        "        'mean_radius': 6051.8,\n",
        "        'mass': 4.8676E+24,\n",
        "        'orbital_period': 224.70069,\n",
        "    },\n",
        "    'Earth': {\n",
        "        'mean_radius': 6371.0,\n",
        "        'mass': 5.97219E+24,\n",
        "        'orbital_period': 365.25641,\n",
        "    },\n",
        "    'Mars': {\n",
        "        'mean_radius': 3389.5,\n",
        "        'mass': 6.4185E+23,\n",
        "        'orbital_period': 686.9600,\n",
        "    }\n",
        "}\n",
        " \n",
        "print(terrestrial_planet['Venus']['mean_radius'])"
      ],
      "execution_count": 51,
      "outputs": [
        {
          "output_type": "stream",
          "text": [
            "6051.8\n"
          ],
          "name": "stdout"
        }
      ]
    },
    {
      "cell_type": "code",
      "metadata": {
        "colab": {
          "base_uri": "https://localhost:8080/"
        },
        "id": "o0hqp_sGytmv",
        "outputId": "9ef70075-00e1-44ea-cba7-8fc60307538a"
      },
      "source": [
        "## 예제1\n",
        "result = {'results': {'common': {'countPerPage': '10',\n",
        "   'currentPage': '1',\n",
        "   'errorCode': '0',\n",
        "   'errorMessage': '정상',\n",
        "   'totalCount': '1'},\n",
        "  'juso': [{'admCd': '4215013700',\n",
        "    'bdKdcd': '0',\n",
        "    'bdMgtSn': '4215013700100940000017657',\n",
        "    'bdNm': '경포대',\n",
        "    'buldMnnm': '365',\n",
        "    'buldSlno': '0',\n",
        "    'detBdNmList': '',\n",
        "    'emdNm': '저동',\n",
        "    'emdNo': '03',\n",
        "    'engAddr': '365, Gyeongpo-ro, Gangneung-si, Gangwon-do',\n",
        "    'jibunAddr': '강원도 강릉시 저동 94 경포대',\n",
        "    'liNm': '',\n",
        "    'lnbrMnnm': '94',\n",
        "    'lnbrSlno': '0',\n",
        "    'mtYn': '0',\n",
        "    'rn': '경포로',\n",
        "    'rnMgtSn': '421503220002',\n",
        "    'roadAddr': '강원도 강릉시 경포로 365(저동)',\n",
        "    'roadAddrPart1': '강원도 강릉시 경포로 365',\n",
        "    'roadAddrPart2': '(저동)',\n",
        "    'sggNm': '강릉시',\n",
        "    'siNm': '강원도',\n",
        "    'udrtYn': '0',\n",
        "    'zipNo': '25461'}]}}\n",
        "\n",
        "print(result['results']['juso'][0]['roadAddr'])\n"
      ],
      "execution_count": 70,
      "outputs": [
        {
          "output_type": "stream",
          "text": [
            "강원도 강릉시 경포로 365(저동)\n"
          ],
          "name": "stdout"
        }
      ]
    },
    {
      "cell_type": "code",
      "metadata": {
        "colab": {
          "base_uri": "https://localhost:8080/"
        },
        "id": "WDEEQDgY1Ot2",
        "outputId": "8e9141b0-d0a4-48e0-8c07-a19f9b0e9efe"
      },
      "source": [
        "## 예제2\n",
        "document = {'documents': [{'address': {'address_name': '강원 강릉시 저동 94',\n",
        "    'b_code': '4215013700',\n",
        "    'h_code': '4215066500',\n",
        "    'main_address_no': '94',\n",
        "    'mountain_yn': 'N',\n",
        "    'region_1depth_name': '강원',\n",
        "    'region_2depth_name': '강릉시',\n",
        "    'region_3depth_h_name': '경포동',\n",
        "    'region_3depth_name': '저동',\n",
        "    'sub_address_no': '',\n",
        "    'x': '128.896538649542',\n",
        "    'y': '37.7955687639648'},\n",
        "   'address_name': '강원 강릉시 경포로 365',\n",
        "   'address_type': 'ROAD_ADDR',\n",
        "   'road_address': {'address_name': '강원 강릉시 경포로 365',\n",
        "    'building_name': '경포대',\n",
        "    'main_building_no': '365',\n",
        "    'region_1depth_name': '강원',\n",
        "    'region_2depth_name': '강릉시',\n",
        "    'region_3depth_name': '저동',\n",
        "    'road_name': '경포로',\n",
        "    'sub_building_no': '',\n",
        "    'underground_yn': 'N',\n",
        "    'x': '128.896538649542',\n",
        "    'y': '37.7955687639648',\n",
        "    'zone_no': '25461'},\n",
        "   'x': '128.896538649542',\n",
        "   'y': '37.7955687639648'}],\n",
        " 'meta': {'is_end': True, 'pageable_count': 1, 'total_count': 1}}\n",
        "\n",
        "lng = float(document['documents'][0]['x'])\n",
        "lat = float(document['documents'][0]['y']) \n",
        "print(f'위도 : {lat:6f}, 경도 : {lng:6f}')"
      ],
      "execution_count": 90,
      "outputs": [
        {
          "output_type": "stream",
          "text": [
            "위도 : 37.795569, 경도 : 128.896539\n"
          ],
          "name": "stdout"
        }
      ]
    },
    {
      "cell_type": "markdown",
      "metadata": {
        "id": "RMItLQ4DQv7A"
      },
      "source": [
        "## 25.8 심사문제: 딕셔너리에서 특정 값 삭제하기\n",
        "표준 입력으로 문자열 여러 개와 숫자 여러 개가 두 줄로 입력되고, 첫 번째 줄은 키, 두 번째 줄은 값으로 하여 딕셔너리를 생성합니다. 다음 코드를 완성하여 딕셔너리에서 키가 'delta'인 키-값 쌍과 값이 30인 키-값 쌍을 삭제하도록 만드세요."
      ]
    },
    {
      "cell_type": "code",
      "metadata": {
        "colab": {
          "base_uri": "https://localhost:8080/"
        },
        "id": "Kyk1j93EQ0jC",
        "outputId": "4dcd58f0-6aef-475d-86df-f2946c9ac61a"
      },
      "source": [
        "keys = input().split()\n",
        "values = map(int, input().split())\n",
        " \n",
        "x = dict(zip(keys, values))\n",
        "\n",
        "del x['delta']\n",
        "x = {key:value for key, value in x.items() if value != 30}\n",
        "\n",
        "print(x)"
      ],
      "execution_count": 101,
      "outputs": [
        {
          "output_type": "stream",
          "text": [
            "alpha bravo charlie delta echo foxtrot golf\n",
            "30 40 50 60 70 80 90\n",
            "{'bravo': 40, 'charlie': 50, 'echo': 70, 'foxtrot': 80, 'golf': 90}\n"
          ],
          "name": "stdout"
        }
      ]
    }
  ]
}