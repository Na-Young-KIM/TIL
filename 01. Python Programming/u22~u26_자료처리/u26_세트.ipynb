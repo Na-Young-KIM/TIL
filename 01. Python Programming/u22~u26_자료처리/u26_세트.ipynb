{
  "nbformat": 4,
  "nbformat_minor": 0,
  "metadata": {
    "colab": {
      "name": "u26_세트.ipynb",
      "provenance": [],
      "collapsed_sections": []
    },
    "kernelspec": {
      "name": "python3",
      "display_name": "Python 3"
    },
    "language_info": {
      "name": "python"
    }
  },
  "cells": [
    {
      "cell_type": "markdown",
      "metadata": {
        "id": "I62yxRN54CW_"
      },
      "source": [
        "# Unit 26. 세트 사용하기"
      ]
    },
    {
      "cell_type": "markdown",
      "metadata": {
        "id": "Ws1bn-Me4FkI"
      },
      "source": [
        "## 26.1 세트 만들기"
      ]
    },
    {
      "cell_type": "code",
      "metadata": {
        "colab": {
          "base_uri": "https://localhost:8080/"
        },
        "id": "21VjXBA8394H",
        "outputId": "80cac544-5dcc-45e1-a711-a243c2015309"
      },
      "source": [
        "fruits = {'strawberry', 'grape', 'orange', 'pineapple', 'cherry'}\n",
        "print(fruits)"
      ],
      "execution_count": 1,
      "outputs": [
        {
          "output_type": "stream",
          "text": [
            "{'grape', 'cherry', 'strawberry', 'orange', 'pineapple'}\n"
          ],
          "name": "stdout"
        }
      ]
    },
    {
      "cell_type": "code",
      "metadata": {
        "colab": {
          "base_uri": "https://localhost:8080/"
        },
        "id": "8pdRh8hH4SOF",
        "outputId": "eb7880cf-8786-4b24-b2b7-7091e552aad7"
      },
      "source": [
        "fruits = {'orange', 'orange', 'cherry'}\n",
        "print(fruits)       # 같은 값은 한번만 들어간다."
      ],
      "execution_count": 4,
      "outputs": [
        {
          "output_type": "stream",
          "text": [
            "{'cherry', 'orange'}\n"
          ],
          "name": "stdout"
        }
      ]
    },
    {
      "cell_type": "code",
      "metadata": {
        "colab": {
          "base_uri": "https://localhost:8080/"
        },
        "id": "docW07TS4a1d",
        "outputId": "4694b7e6-6082-4ec1-f908-451b26b7c331"
      },
      "source": [
        "## 26.1.1 세트에 특정 값이 있는지 확인하기\n",
        "fruits = {'strawberry', 'grape', 'orange', 'pineapple', 'cherry'}\n",
        "\n",
        "print('grape' in fruits)\n",
        "print('peach' in fruits)"
      ],
      "execution_count": 7,
      "outputs": [
        {
          "output_type": "stream",
          "text": [
            "True\n",
            "False\n"
          ],
          "name": "stdout"
        }
      ]
    },
    {
      "cell_type": "code",
      "metadata": {
        "colab": {
          "base_uri": "https://localhost:8080/"
        },
        "id": "819H43834k2J",
        "outputId": "aa34afe4-8bd3-479d-9848-6404438a59fc"
      },
      "source": [
        "## 26.1.2 set를 사용하여 세트 만들기\n",
        "a = set('apple')\n",
        "print(a)\n",
        "\n",
        "b = set(range(5))\n",
        "print(b)\n",
        "\n",
        "c = set()\n",
        "print(c)"
      ],
      "execution_count": 12,
      "outputs": [
        {
          "output_type": "stream",
          "text": [
            "{'p', 'e', 'l', 'a'}\n",
            "{0, 1, 2, 3, 4}\n",
            "set()\n"
          ],
          "name": "stdout"
        }
      ]
    },
    {
      "cell_type": "markdown",
      "metadata": {
        "id": "pA1MZUfy5Uy5"
      },
      "source": [
        "## 26.2 집합 연산 사용하기"
      ]
    },
    {
      "cell_type": "code",
      "metadata": {
        "colab": {
          "base_uri": "https://localhost:8080/"
        },
        "id": "eCurHd_J46Ma",
        "outputId": "c3674ae9-f7fd-4aa3-8f42-b2df7448c561"
      },
      "source": [
        "a = {1, 2, 3, 4}\n",
        "b = {3, 4, 5, 6}\n",
        "\n",
        "print(set.union(a, b))\n",
        "print(set.intersection(a, b))\n",
        "print(a - b)\n",
        "print(set.symetric_difference(a, b))    # 대칭차집합"
      ],
      "execution_count": 17,
      "outputs": [
        {
          "output_type": "stream",
          "text": [
            "{1, 2, 3, 4, 5, 6}\n",
            "{3, 4}\n",
            "{1, 2}\n"
          ],
          "name": "stdout"
        }
      ]
    },
    {
      "cell_type": "code",
      "metadata": {
        "colab": {
          "base_uri": "https://localhost:8080/"
        },
        "id": "8gUCHcMo5d-0",
        "outputId": "76e8d7ba-1388-4338-b3c7-6b1b6e4d98d1"
      },
      "source": [
        "## 26.2.2 부분 집합과 상위집합 확인하기\n",
        "a = {1, 2, 3, 4}\n",
        "\n",
        "print(a <= {1, 2, 3, 4})\n",
        "print(a.issubset({1, 2, 3,4}))\n",
        "print(a.issubset({1, 2, 3, 4, 5}))\n",
        "\n",
        "print(a > {1, 2, 3})\n",
        "print(a.issuperset({1, 2, 3, 4}))"
      ],
      "execution_count": 27,
      "outputs": [
        {
          "output_type": "stream",
          "text": [
            "True\n",
            "True\n",
            "True\n",
            "True\n",
            "True\n"
          ],
          "name": "stdout"
        }
      ]
    },
    {
      "cell_type": "code",
      "metadata": {
        "colab": {
          "base_uri": "https://localhost:8080/"
        },
        "id": "d2fA1hxs7XVl",
        "outputId": "3ccf84b7-1629-4dd1-aa2e-7e31fc4bbad4"
      },
      "source": [
        "## 26.2.4 세트가 겹치지 않는지 확인하기\n",
        "a = {1, 2, 3, 4}\n",
        "\n",
        "print(a.isdisjoint({5, 6, 7, 8}))\n",
        "print(a.isdisjoint({3, 4, 5, 6}))"
      ],
      "execution_count": 30,
      "outputs": [
        {
          "output_type": "stream",
          "text": [
            "True\n",
            "False\n"
          ],
          "name": "stdout"
        }
      ]
    },
    {
      "cell_type": "markdown",
      "metadata": {
        "id": "XbSlhZ3S8eIw"
      },
      "source": [
        "## 26.3 세트 조작하기"
      ]
    },
    {
      "cell_type": "code",
      "metadata": {
        "colab": {
          "base_uri": "https://localhost:8080/"
        },
        "id": "jI4GHVEH8WcH",
        "outputId": "ae76d7a3-1608-4f46-d698-dc1d80d4611a"
      },
      "source": [
        "## 26.3.1 세트에 요소 추가하기\n",
        "a = {1, 2, 3, 4}\n",
        "\n",
        "a.add(5)\n",
        "print(a)"
      ],
      "execution_count": 31,
      "outputs": [
        {
          "output_type": "stream",
          "text": [
            "{1, 2, 3, 4, 5}\n"
          ],
          "name": "stdout"
        }
      ]
    },
    {
      "cell_type": "code",
      "metadata": {
        "colab": {
          "base_uri": "https://localhost:8080/",
          "height": 255
        },
        "id": "MlaZ81kT8ojg",
        "outputId": "1c7e5881-7358-46f6-833c-da6551634bf8"
      },
      "source": [
        "## 26.3.2 세트에서 특정 요소를 삭제하기\n",
        "a = {1, 2, 3, 4}\n",
        "\n",
        "a.remove(3)\n",
        "print(a)\n",
        "a.remove(5)\n",
        "print(a)"
      ],
      "execution_count": 33,
      "outputs": [
        {
          "output_type": "stream",
          "text": [
            "{1, 2, 4}\n"
          ],
          "name": "stdout"
        },
        {
          "output_type": "error",
          "ename": "KeyError",
          "evalue": "ignored",
          "traceback": [
            "\u001b[0;31m---------------------------------------------------------------------------\u001b[0m",
            "\u001b[0;31mKeyError\u001b[0m                                  Traceback (most recent call last)",
            "\u001b[0;32m<ipython-input-33-17f4a1fb1701>\u001b[0m in \u001b[0;36m<module>\u001b[0;34m()\u001b[0m\n\u001b[1;32m      4\u001b[0m \u001b[0ma\u001b[0m\u001b[0;34m.\u001b[0m\u001b[0mremove\u001b[0m\u001b[0;34m(\u001b[0m\u001b[0;36m3\u001b[0m\u001b[0;34m)\u001b[0m\u001b[0;34m\u001b[0m\u001b[0;34m\u001b[0m\u001b[0m\n\u001b[1;32m      5\u001b[0m \u001b[0mprint\u001b[0m\u001b[0;34m(\u001b[0m\u001b[0ma\u001b[0m\u001b[0;34m)\u001b[0m\u001b[0;34m\u001b[0m\u001b[0;34m\u001b[0m\u001b[0m\n\u001b[0;32m----> 6\u001b[0;31m \u001b[0ma\u001b[0m\u001b[0;34m.\u001b[0m\u001b[0mremove\u001b[0m\u001b[0;34m(\u001b[0m\u001b[0;36m5\u001b[0m\u001b[0;34m)\u001b[0m\u001b[0;34m\u001b[0m\u001b[0;34m\u001b[0m\u001b[0m\n\u001b[0m\u001b[1;32m      7\u001b[0m \u001b[0mprint\u001b[0m\u001b[0;34m(\u001b[0m\u001b[0ma\u001b[0m\u001b[0;34m)\u001b[0m\u001b[0;34m\u001b[0m\u001b[0;34m\u001b[0m\u001b[0m\n",
            "\u001b[0;31mKeyError\u001b[0m: 5"
          ]
        }
      ]
    },
    {
      "cell_type": "code",
      "metadata": {
        "colab": {
          "base_uri": "https://localhost:8080/"
        },
        "id": "wJqM7jSo8vRO",
        "outputId": "b73213ab-5609-4c4e-fe3e-64e4b2061da4"
      },
      "source": [
        "a = {1, 2, 3, 4}\n",
        "\n",
        "a.discard(2)\n",
        "a.discard(5)\n",
        "print(a)"
      ],
      "execution_count": 34,
      "outputs": [
        {
          "output_type": "stream",
          "text": [
            "{1, 3, 4}\n"
          ],
          "name": "stdout"
        }
      ]
    },
    {
      "cell_type": "markdown",
      "metadata": {
        "id": "PycOVpRR9M_D"
      },
      "source": [
        "## 26.5 반복문으로 세트의 요소를 모두 출력하기"
      ]
    },
    {
      "cell_type": "code",
      "metadata": {
        "colab": {
          "base_uri": "https://localhost:8080/"
        },
        "id": "Hj2RbNgN85jE",
        "outputId": "28a83994-f8d7-4e60-c1ce-5b250f17838a"
      },
      "source": [
        "a = {1, 2, 3, 4}\n",
        "\n",
        "for i in a :\n",
        "  print(i)"
      ],
      "execution_count": 37,
      "outputs": [
        {
          "output_type": "stream",
          "text": [
            "1\n",
            "2\n",
            "3\n",
            "4\n"
          ],
          "name": "stdout"
        }
      ]
    },
    {
      "cell_type": "markdown",
      "metadata": {
        "id": "GIdbLZmh9mtv"
      },
      "source": [
        "## 26.6 세트 표현식 사용하기"
      ]
    },
    {
      "cell_type": "code",
      "metadata": {
        "colab": {
          "base_uri": "https://localhost:8080/"
        },
        "id": "VbErUphu9DdJ",
        "outputId": "b7c1e782-f60a-43aa-e62c-7f01438eeab6"
      },
      "source": [
        "a = {i for i in 'apple'}\n",
        "a"
      ],
      "execution_count": 40,
      "outputs": [
        {
          "output_type": "execute_result",
          "data": {
            "text/plain": [
              "{'a', 'e', 'l', 'p'}"
            ]
          },
          "metadata": {
            "tags": []
          },
          "execution_count": 40
        }
      ]
    },
    {
      "cell_type": "code",
      "metadata": {
        "colab": {
          "base_uri": "https://localhost:8080/"
        },
        "id": "djONmtJD9sZ2",
        "outputId": "a0bab0f3-fc59-4bdc-ba10-5c02e19b1e2a"
      },
      "source": [
        "## 26.6.1 세트 표현식에 if \n",
        "a = {i for i in 'apple' if i != 'e'}\n",
        "print(a)"
      ],
      "execution_count": 41,
      "outputs": [
        {
          "output_type": "stream",
          "text": [
            "{'p', 'l', 'a'}\n"
          ],
          "name": "stdout"
        }
      ]
    },
    {
      "cell_type": "markdown",
      "metadata": {
        "id": "JgH_P5p7IA91"
      },
      "source": [
        "## 26.9 심사문제: 공약수 구하기\n",
        "표준 입력으로 양의 정수 두 개가 입력됩니다. 다음 소스 코드를 완성하여 두 숫자의 공약수를 세트 형태로 구하도록 만드세요. 단, 최종 결과는 공약수의 합으로 판단합니다."
      ]
    },
    {
      "cell_type": "code",
      "metadata": {
        "colab": {
          "base_uri": "https://localhost:8080/"
        },
        "id": "GvGT7WfIIICJ",
        "outputId": "5034e186-89db-42b8-d646-45891a2e6be3"
      },
      "source": [
        "num1, num2 = map(int, input().split())\n",
        "a = set()\n",
        "b = set()\n",
        "for i in range(1, num1+1):\n",
        "  if num1 % i == 0 :\n",
        "    a.add(i)\n",
        "for i in range(1, num2+1):\n",
        "  if num2 % i == 0 :\n",
        "    b.add(i)\n",
        "\n",
        "divisor = a & b\n",
        " \n",
        "result = 0\n",
        "if type(divisor) == set:\n",
        "    result = sum(divisor)\n",
        " \n",
        "print(result)"
      ],
      "execution_count": 54,
      "outputs": [
        {
          "output_type": "stream",
          "text": [
            "100 200\n",
            "217\n"
          ],
          "name": "stdout"
        }
      ]
    },
    {
      "cell_type": "code",
      "metadata": {
        "colab": {
          "base_uri": "https://localhost:8080/"
        },
        "id": "EMKMT_GnJYJa",
        "outputId": "debbf18f-f898-44c6-d9a2-67f734f4a5ce"
      },
      "source": [
        "## 심사문제 개선\n",
        "num1, num2 = map(int, input().split())\n",
        "a = {i for i in range(1, num1+1) if num1 % i == 0}\n",
        "b = {i for i in range(1, num2+1) if num2 % i == 0}\n",
        "\n",
        "divisor = a & b\n",
        " \n",
        "result = 0\n",
        "if type(divisor) == set:\n",
        "    result = sum(divisor)\n",
        " \n",
        "print(result)"
      ],
      "execution_count": 56,
      "outputs": [
        {
          "output_type": "stream",
          "text": [
            "10 20\n",
            "18\n"
          ],
          "name": "stdout"
        }
      ]
    }
  ]
}