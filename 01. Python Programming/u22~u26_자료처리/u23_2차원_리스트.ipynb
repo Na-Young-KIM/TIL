{
  "nbformat": 4,
  "nbformat_minor": 0,
  "metadata": {
    "colab": {
      "name": "u23_2차원 리스트.ipynb",
      "provenance": [],
      "collapsed_sections": []
    },
    "kernelspec": {
      "name": "python3",
      "display_name": "Python 3"
    },
    "language_info": {
      "name": "python"
    }
  },
  "cells": [
    {
      "cell_type": "markdown",
      "metadata": {
        "id": "XWAtxlvh0sJ2"
      },
      "source": [
        "# Unit 23. 2차원 리스트 사용하기"
      ]
    },
    {
      "cell_type": "markdown",
      "metadata": {
        "id": "9tU_f2qR0vXz"
      },
      "source": [
        "## 23.1 2차원 리스트를 만들고 요소에 접근하기"
      ]
    },
    {
      "cell_type": "code",
      "metadata": {
        "colab": {
          "base_uri": "https://localhost:8080/"
        },
        "id": "fURYOlBV-7UR",
        "outputId": "b8bdf2ef-7874-4d12-a548-aa82882d0b16"
      },
      "source": [
        "a = [[10, 20], \n",
        "     [30, 40], \n",
        "     [50, 60]]\n",
        "print(a)"
      ],
      "execution_count": null,
      "outputs": [
        {
          "output_type": "stream",
          "text": [
            "[[10, 20], [30, 40], [50, 60]]\n"
          ],
          "name": "stdout"
        }
      ]
    },
    {
      "cell_type": "code",
      "metadata": {
        "colab": {
          "base_uri": "https://localhost:8080/"
        },
        "id": "AMP3Gd2a0843",
        "outputId": "8d9b0f70-a0ce-4932-a942-de523b50892f"
      },
      "source": [
        "## 23.1.1  2차원 리스트의 요소에 접근하기 (a[행인덱스][[열인덱스]])\n",
        "a = [[10, 20], \n",
        "     [30, 40], \n",
        "     [50, 60]]\n",
        "\n",
        "print(a[1][0])\n",
        "a[1][1] = 100\n",
        "print(a)"
      ],
      "execution_count": null,
      "outputs": [
        {
          "output_type": "stream",
          "text": [
            "30\n",
            "[[10, 20], [30, 100], [50, 60]]\n"
          ],
          "name": "stdout"
        }
      ]
    },
    {
      "cell_type": "code",
      "metadata": {
        "colab": {
          "base_uri": "https://localhost:8080/"
        },
        "id": "6uksNUZ41lNo",
        "outputId": "c9fb5da8-18f9-4734-d3d4-8a4917ecc560"
      },
      "source": [
        "import numpy as np\n",
        "b = np.arange(16).reshape(4,4)\n",
        "print(b)\n",
        "print(b[1, 1])\n",
        "print(b[1:-1,1:-1])"
      ],
      "execution_count": null,
      "outputs": [
        {
          "output_type": "stream",
          "text": [
            "[[ 0  1  2  3]\n",
            " [ 4  5  6  7]\n",
            " [ 8  9 10 11]\n",
            " [12 13 14 15]]\n",
            "5\n",
            "[[ 5  6]\n",
            " [ 9 10]]\n"
          ],
          "name": "stdout"
        }
      ]
    },
    {
      "cell_type": "code",
      "metadata": {
        "colab": {
          "base_uri": "https://localhost:8080/"
        },
        "id": "T66c--5b1Sow",
        "outputId": "577ba51c-828b-439d-e187-e92a1017b6f1"
      },
      "source": [
        "## 참고 : 톱니형 리스트 \n",
        "a = [[10, 20],\n",
        "     [500, 600, 700],\n",
        "     [9],\n",
        "     [30, 40],\n",
        "     [8],\n",
        "     [800, 900, 1000]]\n",
        "\n",
        "print(a)"
      ],
      "execution_count": null,
      "outputs": [
        {
          "output_type": "stream",
          "text": [
            "[[10, 20], [500, 600, 700], [9], [30, 40], [8], [800, 900, 1000]]\n"
          ],
          "name": "stdout"
        }
      ]
    },
    {
      "cell_type": "code",
      "metadata": {
        "colab": {
          "base_uri": "https://localhost:8080/"
        },
        "id": "z3wD5da73RL7",
        "outputId": "57c5aac5-6eb6-42dd-aded-1a8446a1cb6d"
      },
      "source": [
        "## 참고 \n",
        "a = []\n",
        "for i in range(4):\n",
        "  t = []\n",
        "  for k in range(4):\n",
        "    t.append(i*4+k)\n",
        "  a.append(t)\n",
        "\n",
        "print(a)"
      ],
      "execution_count": null,
      "outputs": [
        {
          "output_type": "stream",
          "text": [
            "[[0, 1, 2, 3], [4, 5, 6, 7], [8, 9, 10, 11], [12, 13, 14, 15]]\n"
          ],
          "name": "stdout"
        }
      ]
    },
    {
      "cell_type": "code",
      "metadata": {
        "colab": {
          "base_uri": "https://localhost:8080/"
        },
        "id": "0gCeHqbQ1v0W",
        "outputId": "7fc8e510-c5a9-482d-d5ea-7cb49ac58ad9"
      },
      "source": [
        "## 참고 : 사람이 알아보기 쉽게 출력하기\n",
        "a = [[10, 20], \n",
        "     [30, 40], \n",
        "     [50, 60]]\n",
        "\n",
        "print(a)\n",
        "\n",
        "from pprint import pprint\n",
        "pprint(a, indent = 4, width = 20)   # indent : 들여쓰기 칸 수, width : 가로폭"
      ],
      "execution_count": null,
      "outputs": [
        {
          "output_type": "stream",
          "text": [
            "[[10, 20], [30, 40], [50, 60]]\n",
            "[   [10, 20],\n",
            "    [30, 40],\n",
            "    [50, 60]]\n"
          ],
          "name": "stdout"
        }
      ]
    },
    {
      "cell_type": "markdown",
      "metadata": {
        "id": "quL-z5YV3J0-"
      },
      "source": [
        "## 23.2 반복문으로 2차원 리스트의 요소를 모두 출력하기"
      ]
    },
    {
      "cell_type": "code",
      "metadata": {
        "colab": {
          "base_uri": "https://localhost:8080/"
        },
        "id": "Oa4w3Kjp2p98",
        "outputId": "6092e9e5-bf88-47c4-d59a-ca7eb9db99d7"
      },
      "source": [
        "## 23.2.1  for 반복문을 한 번만 사용하기\n",
        "a = [[10, 20], [30, 40], [50, 60]]\n",
        "\n",
        "for x, y in a:\n",
        "  print(x, y)"
      ],
      "execution_count": null,
      "outputs": [
        {
          "output_type": "stream",
          "text": [
            "10 20\n",
            "30 40\n",
            "50 60\n"
          ],
          "name": "stdout"
        }
      ]
    },
    {
      "cell_type": "code",
      "metadata": {
        "colab": {
          "base_uri": "https://localhost:8080/"
        },
        "id": "qyaw01K34TX6",
        "outputId": "2ad32a2c-fd9e-4992-f189-4456e8566eb3"
      },
      "source": [
        "## 23.2.2  for 반복문을 두 번 사용하기\n",
        "a = [[10, 20], [30, 40], [50, 60]]\n",
        "\n",
        "for i in a:\n",
        "  for j in i:\n",
        "    print(j, end =' ')\n",
        "  print()"
      ],
      "execution_count": null,
      "outputs": [
        {
          "output_type": "stream",
          "text": [
            "10 20 \n",
            "30 40 \n",
            "50 60 \n"
          ],
          "name": "stdout"
        }
      ]
    },
    {
      "cell_type": "code",
      "metadata": {
        "colab": {
          "base_uri": "https://localhost:8080/"
        },
        "id": "wCF1RGxb4nGp",
        "outputId": "8fe4f6b1-6fa7-43f7-e5e4-e246824bd0fe"
      },
      "source": [
        "## 23.2.3  for와 range 사용하기\n",
        "a = [[10, 20], [30, 40], [50, 60]]\n",
        "\n",
        "for i in range(len(a)):\n",
        "  for j in range(len(a[i])):\n",
        "    print(a[i][j], end =' ')\n",
        "  print()"
      ],
      "execution_count": null,
      "outputs": [
        {
          "output_type": "stream",
          "text": [
            "10 20 \n",
            "30 40 \n",
            "50 60 \n"
          ],
          "name": "stdout"
        }
      ]
    },
    {
      "cell_type": "code",
      "metadata": {
        "id": "ARvaGGhZ42ON"
      },
      "source": [
        ""
      ],
      "execution_count": null,
      "outputs": []
    },
    {
      "cell_type": "markdown",
      "metadata": {
        "id": "BmT5ZANsyUiG"
      },
      "source": [
        "## 23.7 심사문제 : 지뢰찾기\n",
        "표준 입력으로 2차원 리스트의 가로(col)와 세로(row)가 입력되고 그 다음 줄부터 리스트의 요소로 들어갈 문자가 입력됩니다. 이때 2차원 리스트 안에서 *는 지뢰이고 .은 지뢰가 아닙니다. 지뢰가 아닌 요소에는 인접한 지뢰의 개수를 출력하는 프로그램을 만드세요(input에서 안내 문자열은 출력하지 않아야 합니다).\n",
        "\n",
        "여러 줄을 입력 받으려면 다음과 같이 for 반복문에서 input을 호출한 뒤 append로 각 줄을 추가하면 됩니다(list 안에 문자열을 넣으면 문자열이 문자 리스트로 변환됩니다).\n",
        "\n",
        "```\n",
        "matrix = [] \n",
        "for i in range(row):\n",
        "    matrix.append(list(input()))\n",
        "```\n",
        "\n"
      ]
    },
    {
      "cell_type": "code",
      "metadata": {
        "id": "Uf6BphR_V2J_"
      },
      "source": [
        "import random\n",
        "mines = []\n",
        "for _ in range(9):\n",
        "  row = ''\n",
        "  for _ in range(9):\n",
        "    if random.random() > 0.6 :\n",
        "      row += \"*\"\n",
        "    else :\n",
        "      row += '.'\n",
        "  mines.append(row)"
      ],
      "execution_count": 9,
      "outputs": []
    },
    {
      "cell_type": "code",
      "metadata": {
        "colab": {
          "base_uri": "https://localhost:8080/"
        },
        "id": "0RmuaeFRWQcV",
        "outputId": "f9176fee-9525-462f-cfdf-1b5bdaae97d3"
      },
      "source": [
        "def print_matrix(mat):\n",
        "  for i in range(len(mat)):\n",
        "    for k in range(len(mat)):\n",
        "      print(mat[i][k], end=' ')\n",
        "    print()\n",
        "\n",
        "print_matrix(mines)"
      ],
      "execution_count": 10,
      "outputs": [
        {
          "output_type": "stream",
          "text": [
            ". . * * . . . . . \n",
            ". . . . * . * . . \n",
            "* * * . . . * . . \n",
            "* * . . . * . . . \n",
            ". . . . . . * . * \n",
            "* . . * . * . * . \n",
            "* . * . . . * . . \n",
            "* * . . * * . * . \n",
            "* * . * * . . * . \n"
          ],
          "name": "stdout"
        }
      ]
    },
    {
      "cell_type": "code",
      "metadata": {
        "colab": {
          "base_uri": "https://localhost:8080/"
        },
        "id": "TjXOLhkIXRz3",
        "outputId": "e2a3beca-34d1-4786-abea-493a6094dac2"
      },
      "source": [
        "pad_mines = []\n",
        "pad_mines.append('............')\n",
        "for i in range(9):\n",
        "  row = '.'\n",
        "  for k in range(9):\n",
        "    row += mines[i][k]\n",
        "  row += '.'\n",
        "  pad_mines.append(row)\n",
        "pad_mines.append('............')\n",
        "print_matrix(pad_mines)"
      ],
      "execution_count": 13,
      "outputs": [
        {
          "output_type": "stream",
          "text": [
            ". . . . . . . . . . . \n",
            ". . . * * . . . . . . \n",
            ". . . . . * . * . . . \n",
            ". * * * . . . * . . . \n",
            ". * * . . . * . . . . \n",
            ". . . . . . . * . * . \n",
            ". * . . * . * . * . . \n",
            ". * . * . . . * . . . \n",
            ". * * . . * * . * . . \n",
            ". * * . * * . . * . . \n",
            ". . . . . . . . . . . \n"
          ],
          "name": "stdout"
        }
      ]
    },
    {
      "cell_type": "code",
      "metadata": {
        "colab": {
          "base_uri": "https://localhost:8080/"
        },
        "id": "ftCfkYLeYSCJ",
        "outputId": "d66da2ca-3692-417e-9f78-58870ea76925"
      },
      "source": [
        "final_mines = []\n",
        "\n",
        "for i in range(1, 10):\n",
        "  row = ''\n",
        "  for k in range(1,10):\n",
        "    if pad_mines[i][k] == '*':\n",
        "      row += '*'\n",
        "    else:\n",
        "      count = (pad_mines[i-1][k-1]==\"*\")  + (pad_mines[i-1][k]=='*')+\\\n",
        "              (pad_mines[i-1][k+1]==\"*\") + (pad_mines[i][k-1]=='*')+\\\n",
        "              (pad_mines[i][k+1]==\"*\") + (pad_mines[i+1][k-1]=='*')+\\\n",
        "              (pad_mines[i+1][k]==\"*\") + (pad_mines[i+1][k+1]=='*')\n",
        "      row += str(count)\n",
        "  final_mines.append(row)\n",
        "\n",
        "print_matrix(final_mines)"
      ],
      "execution_count": 17,
      "outputs": [
        {
          "output_type": "stream",
          "text": [
            "0 1 * * 2 2 1 1 0 \n",
            "2 4 4 4 * 3 * 2 0 \n",
            "* * * 2 2 4 * 2 0 \n",
            "* * 3 1 1 * 3 3 1 \n",
            "3 3 2 1 3 3 * 3 * \n",
            "* 3 2 * 2 * 4 * 2 \n",
            "* 5 * 3 4 4 * 3 2 \n",
            "* * 4 4 * * 4 * 2 \n",
            "* * 3 * * 3 3 * 2 \n"
          ],
          "name": "stdout"
        }
      ]
    },
    {
      "cell_type": "code",
      "metadata": {
        "colab": {
          "base_uri": "https://localhost:8080/"
        },
        "id": "CGIuWb0v2cZs",
        "outputId": "d8f9daa7-876b-4933-c30f-e3365fa88a13"
      },
      "source": [
        "row, col = map(int, input().split())\n",
        "matrix = []\n",
        "for i in range(row):\n",
        "    matrix.append(list(input()))\n",
        "print()\n",
        "for i in range(row):\n",
        "    for j in range(col):\n",
        "        cnt = 0\n",
        "        if matrix[i][j] == \".\":\n",
        "            if i != 0 and j != 0: \n",
        "                if matrix[i-1][j-1] == \"*\": cnt += 1\n",
        "            if i != row-1 and j != col-1:\n",
        "                if matrix[i+1][j+1] == \"*\": cnt += 1\n",
        "            if i != 0:\n",
        "                if matrix[i-1][j] == \"*\": cnt += 1\n",
        "            if i != 0 and j != col-1:\n",
        "                if matrix[i-1][j+1] == \"*\": cnt += 1\n",
        "            if j != 0:\n",
        "                if matrix[i][j-1] == \"*\": cnt += 1\n",
        "            if i != row - 1 and j != 0:\n",
        "                if matrix[i+1][j-1] == \"*\": cnt += 1\n",
        "            if j != col -1:\n",
        "                if matrix[i][j+1] == \"*\": cnt += 1\n",
        "            if i != row -1:\n",
        "                if matrix[i+1][j] ==\"*\": cnt += 1\n",
        "            matrix[i][j] = cnt\n",
        "            print(matrix[i][j], end=\"\")\n",
        "        else:\n",
        "            print(matrix[i][j], end=\"\")\n",
        "    print()"
      ],
      "execution_count": 51,
      "outputs": [
        {
          "output_type": "stream",
          "text": [
            "3 3\n",
            ".**\n",
            "*..\n",
            ".*.\n",
            "\n",
            "2**\n",
            "*43\n",
            "2*1\n"
          ],
          "name": "stdout"
        },
        {
          "output_type": "execute_result",
          "data": {
            "text/plain": [
              "8"
            ]
          },
          "metadata": {
            "tags": []
          },
          "execution_count": 51
        }
      ]
    },
    {
      "cell_type": "code",
      "metadata": {
        "id": "ynczui_73Lxr"
      },
      "source": [
        ""
      ],
      "execution_count": null,
      "outputs": []
    }
  ]
}