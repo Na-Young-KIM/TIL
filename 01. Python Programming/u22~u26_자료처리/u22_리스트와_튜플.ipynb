{
  "nbformat": 4,
  "nbformat_minor": 0,
  "metadata": {
    "colab": {
      "name": "u22_리스트와 튜플.ipynb",
      "provenance": [],
      "collapsed_sections": []
    },
    "kernelspec": {
      "name": "python3",
      "display_name": "Python 3"
    },
    "language_info": {
      "name": "python"
    }
  },
  "cells": [
    {
      "cell_type": "markdown",
      "metadata": {
        "id": "I2GmUngYqyDq"
      },
      "source": [
        "## 22.1 리스트 조작하기"
      ]
    },
    {
      "cell_type": "code",
      "metadata": {
        "colab": {
          "base_uri": "https://localhost:8080/"
        },
        "id": "_QJHW1TAqiyK",
        "outputId": "cc13184e-7a69-4dd8-e18b-cd6f14965ae0"
      },
      "source": [
        "## 22.1.2 리스트에 요소 하나 추가하기\n",
        "a = [10, 20, 30]\n",
        "a.append(40)\n",
        "print(a)"
      ],
      "execution_count": 1,
      "outputs": [
        {
          "output_type": "stream",
          "text": [
            "[10, 20, 30, 40]\n"
          ],
          "name": "stdout"
        }
      ]
    },
    {
      "cell_type": "code",
      "metadata": {
        "colab": {
          "base_uri": "https://localhost:8080/"
        },
        "id": "Ipmm-Tqoriux",
        "outputId": "9d7cf140-5383-4aee-8ff4-8162f0b5fa82"
      },
      "source": [
        "## 22.1.3 리스트 안에 리스트 추가하기(append())\n",
        "a = [10, 20, 30]\n",
        "a.append([500, 600])\n",
        "print(a)\n",
        "print(len(a))"
      ],
      "execution_count": 4,
      "outputs": [
        {
          "output_type": "stream",
          "text": [
            "[10, 20, 30, [500, 600]]\n",
            "4\n"
          ],
          "name": "stdout"
        }
      ]
    },
    {
      "cell_type": "code",
      "metadata": {
        "colab": {
          "base_uri": "https://localhost:8080/"
        },
        "id": "a2fPV-sZr1pp",
        "outputId": "ae5a2dda-d22b-48e0-bd74-63e65410a44a"
      },
      "source": [
        "## 22.1.4 리스트 확장하기(extend())\n",
        "a = [10, 20, 30]\n",
        "a.extend([500, 600])\n",
        "print(a)\n",
        "len(a)"
      ],
      "execution_count": 7,
      "outputs": [
        {
          "output_type": "stream",
          "text": [
            "[10, 20, 30, 500, 600]\n"
          ],
          "name": "stdout"
        },
        {
          "output_type": "execute_result",
          "data": {
            "text/plain": [
              "5"
            ]
          },
          "metadata": {
            "tags": []
          },
          "execution_count": 7
        }
      ]
    },
    {
      "cell_type": "code",
      "metadata": {
        "colab": {
          "base_uri": "https://localhost:8080/"
        },
        "id": "K9EfxNlosJRJ",
        "outputId": "99a09390-594d-4062-f636-45fc4c061f0e"
      },
      "source": [
        "## 22.1.5 리스트의 특정 인덱스에 요소 추가하기(insert())\n",
        "a = [10, 20, 30]\n",
        "a.insert(2, 500)\n",
        "print(a)\n",
        "print(len(a))"
      ],
      "execution_count": 9,
      "outputs": [
        {
          "output_type": "stream",
          "text": [
            "[10, 20, 500, 30]\n",
            "4\n"
          ],
          "name": "stdout"
        }
      ]
    },
    {
      "cell_type": "code",
      "metadata": {
        "colab": {
          "base_uri": "https://localhost:8080/"
        },
        "id": "aQHPKv6isa55",
        "outputId": "cb6a929a-40db-4879-c1d4-3f01a81c633d"
      },
      "source": [
        "a = [10, 20, 30]\n",
        "a.insert(len(a), 500)\n",
        "print(a)\n",
        "print(len(a))"
      ],
      "execution_count": 11,
      "outputs": [
        {
          "output_type": "stream",
          "text": [
            "[10, 20, 30, 500]\n",
            "4\n"
          ],
          "name": "stdout"
        }
      ]
    },
    {
      "cell_type": "code",
      "metadata": {
        "colab": {
          "base_uri": "https://localhost:8080/"
        },
        "id": "ZCV8Fk9UsrNN",
        "outputId": "233a8f4f-1cbd-443d-ab60-9eccd042a77e"
      },
      "source": [
        "## 22.1.7 리스트에서 특정 인덱스의 요소 삭제하기 (pop(), del())\n",
        "a = [10, 20, 30]\n",
        "a.pop()\n",
        "print(a)\n",
        "\n",
        "a = [10, 20, 30]\n",
        "del a[2]\n",
        "print(a)"
      ],
      "execution_count": 14,
      "outputs": [
        {
          "output_type": "stream",
          "text": [
            "[10, 20]\n",
            "[10, 20]\n"
          ],
          "name": "stdout"
        }
      ]
    },
    {
      "cell_type": "code",
      "metadata": {
        "colab": {
          "base_uri": "https://localhost:8080/"
        },
        "id": "8-055FSFtbHw",
        "outputId": "49d92a29-dcf1-4d89-9d92-6a77aa35fda6"
      },
      "source": [
        "## 22.1.8 리스트에서 특정 값을 찾아서 삭제하기(remove())\n",
        "a = [10, 20, 30]\n",
        "a.remove(20)\n",
        "print(a)\n",
        "\n",
        "a = [10, 20, 30, 20]\n",
        "a.remove(20)\n",
        "print(a)    #첫번째로 찾은 것만 삭제"
      ],
      "execution_count": 18,
      "outputs": [
        {
          "output_type": "stream",
          "text": [
            "[10, 30]\n",
            "[10, 30, 20]\n"
          ],
          "name": "stdout"
        }
      ]
    },
    {
      "cell_type": "code",
      "metadata": {
        "colab": {
          "base_uri": "https://localhost:8080/"
        },
        "id": "9LqTZlh5tsPg",
        "outputId": "4686bb71-fe52-43d3-839f-2d496d8f1b94"
      },
      "source": [
        "## 참고 \n",
        "## 스택(stack) : last in last out\n",
        "stack = []\n",
        "stack.append(1);  stack.append(2);  stack.append(3);\n",
        "print(stack)\n",
        "print(stack.pop())\n",
        "print(stack)"
      ],
      "execution_count": 23,
      "outputs": [
        {
          "output_type": "stream",
          "text": [
            "[1, 2, 2]\n",
            "2\n",
            "[1, 2]\n"
          ],
          "name": "stdout"
        }
      ]
    },
    {
      "cell_type": "code",
      "metadata": {
        "colab": {
          "base_uri": "https://localhost:8080/"
        },
        "id": "tGerN1Z6uaOw",
        "outputId": "88e9aedf-6f29-4912-922b-7ff9231208c3"
      },
      "source": [
        "## 참고\n",
        "## 큐(queue) : first in first out \n",
        "queue = []\n",
        "queue.insert(0,1); queue.insert(0,2); queue.insert(0,3);\n",
        "print(queue) "
      ],
      "execution_count": 27,
      "outputs": [
        {
          "output_type": "stream",
          "text": [
            "[3, 2, 1]\n"
          ],
          "name": "stdout"
        }
      ]
    },
    {
      "cell_type": "code",
      "metadata": {
        "colab": {
          "base_uri": "https://localhost:8080/"
        },
        "id": "tOaWUKKhuwA7",
        "outputId": "49d5e645-e3a2-402b-8385-fd8bb57cd1c7"
      },
      "source": [
        "## 22.1.9 리스트에서 특정 값의 인덱스 구하기\n",
        "a = [10, 20, 30, 40 ,50]\n",
        "print(a.index(30))"
      ],
      "execution_count": 29,
      "outputs": [
        {
          "output_type": "stream",
          "text": [
            "2\n"
          ],
          "name": "stdout"
        }
      ]
    },
    {
      "cell_type": "code",
      "metadata": {
        "colab": {
          "base_uri": "https://localhost:8080/"
        },
        "id": "3WEyh0x5vmFC",
        "outputId": "68add353-4f2e-4d77-e054-d1fe828d359b"
      },
      "source": [
        "## 22.2.10 특정 값의 개수 구하기\n",
        "a = [10, 20, 30, 40 ,50, 20]\n",
        "print(a.count(20))"
      ],
      "execution_count": 31,
      "outputs": [
        {
          "output_type": "stream",
          "text": [
            "2\n"
          ],
          "name": "stdout"
        }
      ]
    },
    {
      "cell_type": "code",
      "metadata": {
        "colab": {
          "base_uri": "https://localhost:8080/"
        },
        "id": "vbyUFhy8v6Ch",
        "outputId": "c51c264e-8d79-4fa3-a238-2e89c7e9c3c8"
      },
      "source": [
        "## 22.1.11 리스트의 순서를 뒤집기\n",
        "a = [10, 20, 30, 40 ,50]\n",
        "a.reverse()\n",
        "print(a)"
      ],
      "execution_count": 34,
      "outputs": [
        {
          "output_type": "stream",
          "text": [
            "[50, 40, 30, 20, 10]\n"
          ],
          "name": "stdout"
        }
      ]
    },
    {
      "cell_type": "code",
      "metadata": {
        "colab": {
          "base_uri": "https://localhost:8080/"
        },
        "id": "yaaQUUSOwBBg",
        "outputId": "899050d0-1ebd-4e6b-e5a6-03a7a20404bf"
      },
      "source": [
        "## 22.1.12 리스트의 요소를 정렬하기\n",
        "# sort() 또는 sort(reverse=False): 리스트의 값을 작은 순서대로 정렬(오름차순)\n",
        "# sort(reverse=True): 리스트의 값을 큰 순서대로 정렬(내림차순)\n",
        "\n",
        "a = [10, 20, 30, 15, 20, 40]\n",
        "a.sort()\n",
        "print(a)\n",
        "a.sort(reverse=True)\n",
        "print(a)"
      ],
      "execution_count": 38,
      "outputs": [
        {
          "output_type": "stream",
          "text": [
            "[10, 15, 20, 20, 30, 40]\n",
            "[40, 30, 20, 20, 15, 10]\n"
          ],
          "name": "stdout"
        }
      ]
    },
    {
      "cell_type": "code",
      "metadata": {
        "colab": {
          "base_uri": "https://localhost:8080/"
        },
        "id": "TH9U9KDZw1WH",
        "outputId": "22f39f33-4f34-489b-d2a3-9f137b4b70e1"
      },
      "source": [
        "## 참고 : sort와 sorted\n",
        "# sort : 정렬을 바꾸고 저장\n",
        "# sorted : 정렬이 바뀐 새 리스트 생성\n",
        "a = [10, 20, 30, 15, 20, 40]\n",
        "a.sort()\n",
        "print(a)\n",
        "\n",
        "b = [10, 20, 30, 15, 20, 40]\n",
        "print(sorted(b))\n",
        "print(b)"
      ],
      "execution_count": 47,
      "outputs": [
        {
          "output_type": "stream",
          "text": [
            "[10, 15, 20, 20, 30, 40]\n",
            "[10, 15, 20, 20, 30, 40]\n",
            "[10, 20, 30, 15, 20, 40]\n"
          ],
          "name": "stdout"
        }
      ]
    },
    {
      "cell_type": "code",
      "metadata": {
        "colab": {
          "base_uri": "https://localhost:8080/"
        },
        "id": "Mc7OpDWUxO_5",
        "outputId": "c3918681-7841-40db-a27b-dd3bc62bcb4e"
      },
      "source": [
        "## 22.1.13 리스트의 모든 요소를 삭제하기\n",
        "a = [10, 20, 30]\n",
        "a.clear()\n",
        "print(a)"
      ],
      "execution_count": 44,
      "outputs": [
        {
          "output_type": "stream",
          "text": [
            "[]\n"
          ],
          "name": "stdout"
        }
      ]
    },
    {
      "cell_type": "code",
      "metadata": {
        "colab": {
          "base_uri": "https://localhost:8080/"
        },
        "id": "HpiV_aaBxirN",
        "outputId": "ea432cc6-a14b-44e6-8e9e-57e517a95612"
      },
      "source": [
        "a = [10, 20, 30]\n",
        "del a[:]\n",
        "print(a)"
      ],
      "execution_count": 46,
      "outputs": [
        {
          "output_type": "stream",
          "text": [
            "[]\n"
          ],
          "name": "stdout"
        }
      ]
    },
    {
      "cell_type": "markdown",
      "metadata": {
        "id": "4WvRtj2vyLrj"
      },
      "source": [
        "## 22.2 리스트의 할당과 복사 알아보기"
      ]
    },
    {
      "cell_type": "code",
      "metadata": {
        "colab": {
          "base_uri": "https://localhost:8080/"
        },
        "id": "xBT0zanAyOAB",
        "outputId": "8a52a672-6e12-4827-c34c-06ff9353b075"
      },
      "source": [
        "# shallow copy\n",
        "a = [0, 0, 0, 0, 0]\n",
        "b = a\n",
        "\n",
        "b[2] = 99\n",
        "print(a)    #b의 요소를 바꾸면 a도 바뀜"
      ],
      "execution_count": 51,
      "outputs": [
        {
          "output_type": "stream",
          "text": [
            "[0, 0, 99, 0, 0]\n"
          ],
          "name": "stdout"
        }
      ]
    },
    {
      "cell_type": "code",
      "metadata": {
        "colab": {
          "base_uri": "https://localhost:8080/"
        },
        "id": "ABlbHszRzlqk",
        "outputId": "ddb083c8-52d5-4810-a6ca-21ecbcc18c65"
      },
      "source": [
        "a = [0, 0, 0, 0]\n",
        "b = a.copy()\n",
        "\n",
        "b[2] = 99\n",
        "print(a)"
      ],
      "execution_count": 52,
      "outputs": [
        {
          "output_type": "stream",
          "text": [
            "[0, 0, 0, 0]\n"
          ],
          "name": "stdout"
        }
      ]
    },
    {
      "cell_type": "markdown",
      "metadata": {
        "id": "TBxwyJpJz_wH"
      },
      "source": [
        "## 22.3 반복문으로 리스트의 요소를 모두 출력하기"
      ]
    },
    {
      "cell_type": "code",
      "metadata": {
        "colab": {
          "base_uri": "https://localhost:8080/"
        },
        "id": "BZj7i2TizoxL",
        "outputId": "50d8bca5-9033-4366-e1d6-6745ec7895ae"
      },
      "source": [
        "## 22.3.1 for 반복문으로 요소 출력하기\n",
        "a = [38, 21, 53, 62, 19]\n",
        "for i in a :\n",
        "  print(i)"
      ],
      "execution_count": 54,
      "outputs": [
        {
          "output_type": "stream",
          "text": [
            "38\n",
            "21\n",
            "53\n",
            "62\n",
            "19\n"
          ],
          "name": "stdout"
        }
      ]
    },
    {
      "cell_type": "code",
      "metadata": {
        "colab": {
          "base_uri": "https://localhost:8080/"
        },
        "id": "CrJH-kqk3Upb",
        "outputId": "d3ee22bb-4fbc-4c31-f0af-c9c80b98f023"
      },
      "source": [
        "## 22.3.2 인덱스와 요소를 함께 출력하기\n",
        "for index, value in enumerate(a):\n",
        "  print(index, value)"
      ],
      "execution_count": 56,
      "outputs": [
        {
          "output_type": "stream",
          "text": [
            "0 38\n",
            "1 21\n",
            "2 53\n",
            "3 62\n",
            "4 19\n"
          ],
          "name": "stdout"
        }
      ]
    },
    {
      "cell_type": "code",
      "metadata": {
        "colab": {
          "base_uri": "https://localhost:8080/"
        },
        "id": "MVl2TEJx3iPR",
        "outputId": "83364994-2f6c-4599-8ec5-4f29751a4e30"
      },
      "source": [
        "# 만약 index를 1부터 출력하고 싶다면?\n",
        "\n",
        "for index, value in enumerate(a):\n",
        "  print(index+1, value)\n",
        "\n",
        "print()\n",
        "\n",
        "for index, value in enumerate(a, start=1):\n",
        "  print(index, value)"
      ],
      "execution_count": 60,
      "outputs": [
        {
          "output_type": "stream",
          "text": [
            "1 38\n",
            "2 21\n",
            "3 53\n",
            "4 62\n",
            "5 19\n",
            "\n",
            "1 38\n",
            "2 21\n",
            "3 53\n",
            "4 62\n",
            "5 19\n"
          ],
          "name": "stdout"
        }
      ]
    },
    {
      "cell_type": "markdown",
      "metadata": {
        "id": "Gtc4Ap8o4Sos"
      },
      "source": [
        "## 22.4 리스트의 가장 작은 수, 가장 큰 수, 합계 구하기"
      ]
    },
    {
      "cell_type": "code",
      "metadata": {
        "colab": {
          "base_uri": "https://localhost:8080/"
        },
        "id": "bgu0Kl9V3qc2",
        "outputId": "e4b75a06-0f0a-4643-d1fe-5f38beda61ef"
      },
      "source": [
        "## 22.4.1 가장 작은 수와 가장 큰 수 구하기\n",
        "a = [38, 21, 53, 62, 19]\n",
        "\n",
        "print(min(a))\n",
        "print(max(a))"
      ],
      "execution_count": 62,
      "outputs": [
        {
          "output_type": "stream",
          "text": [
            "19\n",
            "62\n"
          ],
          "name": "stdout"
        }
      ]
    },
    {
      "cell_type": "code",
      "metadata": {
        "colab": {
          "base_uri": "https://localhost:8080/"
        },
        "id": "vptTE-EK4jrF",
        "outputId": "60bb2ee6-aa75-4ee1-c63d-07513a309d99"
      },
      "source": [
        "## 22.4.2 요소의 합계 구하기\n",
        "a = [38, 21, 53, 62, 19]\n",
        "print(sum(a))"
      ],
      "execution_count": 63,
      "outputs": [
        {
          "output_type": "stream",
          "text": [
            "193\n"
          ],
          "name": "stdout"
        }
      ]
    },
    {
      "cell_type": "markdown",
      "metadata": {
        "id": "4SGBgr2R42u6"
      },
      "source": [
        "## 22.5 리스트 표현식 사용하기"
      ]
    },
    {
      "cell_type": "code",
      "metadata": {
        "colab": {
          "base_uri": "https://localhost:8080/"
        },
        "id": "L-95bXSd4sx5",
        "outputId": "802452d5-ba29-44ef-e102-ae218f1f801e"
      },
      "source": [
        "a = [i for i in range(10)]\n",
        "print(a)\n",
        "\n",
        "b = list(i for i in range(10))\n",
        "print(b)\n",
        "\n",
        "c = [i + 5 for i in range(10)]\n",
        "print(c)\n",
        "\n",
        "d = [i*2 for i in range(10)]\n",
        "print(d)"
      ],
      "execution_count": 71,
      "outputs": [
        {
          "output_type": "stream",
          "text": [
            "[0, 1, 2, 3, 4, 5, 6, 7, 8, 9]\n",
            "[0, 1, 2, 3, 4, 5, 6, 7, 8, 9]\n",
            "[5, 6, 7, 8, 9, 10, 11, 12, 13, 14]\n",
            "[0, 2, 4, 6, 8, 10, 12, 14, 16, 18]\n"
          ],
          "name": "stdout"
        }
      ]
    },
    {
      "cell_type": "code",
      "metadata": {
        "colab": {
          "base_uri": "https://localhost:8080/"
        },
        "id": "QS8QCeT662eA",
        "outputId": "f7fd56a3-94a6-487b-df24-f8e7c6f7f4b8"
      },
      "source": [
        "# 퀴즈 : 요소가 제곱인 리스트 만들기 \n",
        "a = [i*i for i in range(1,10)]\n",
        "print(a)"
      ],
      "execution_count": 78,
      "outputs": [
        {
          "output_type": "stream",
          "text": [
            "[1, 4, 9, 16, 25, 36, 49, 64, 81]\n"
          ],
          "name": "stdout"
        }
      ]
    },
    {
      "cell_type": "code",
      "metadata": {
        "colab": {
          "base_uri": "https://localhost:8080/"
        },
        "id": "ax0KHXJT5REc",
        "outputId": "22aeccc4-c438-42c0-af16-7f4c04130acd"
      },
      "source": [
        "## 22.5.1 리스트 표현식에서 if 조건문 사용하기\n",
        "a = [i for i in range(10) if i % 2 == 0]\n",
        "print(a)"
      ],
      "execution_count": 73,
      "outputs": [
        {
          "output_type": "stream",
          "text": [
            "[0, 2, 4, 6, 8]\n"
          ],
          "name": "stdout"
        }
      ]
    },
    {
      "cell_type": "code",
      "metadata": {
        "colab": {
          "base_uri": "https://localhost:8080/"
        },
        "id": "DH0qcBr_6C4b",
        "outputId": "6328e3ba-6baf-4eea-8a48-3f7cd43a2732"
      },
      "source": [
        "## 22.5.2 for 반복문과 if 조건문을 여러 번 사용하기\n",
        "a = [i*j for i in range(2,10)\n",
        "         for j in range(1,10)]\n",
        "print(a)"
      ],
      "execution_count": 75,
      "outputs": [
        {
          "output_type": "stream",
          "text": [
            "[2, 4, 6, 8, 10, 12, 14, 16, 18, 3, 6, 9, 12, 15, 18, 21, 24, 27, 4, 8, 12, 16, 20, 24, 28, 32, 36, 5, 10, 15, 20, 25, 30, 35, 40, 45, 6, 12, 18, 24, 30, 36, 42, 48, 54, 7, 14, 21, 28, 35, 42, 49, 56, 63, 8, 16, 24, 32, 40, 48, 56, 64, 72, 9, 18, 27, 36, 45, 54, 63, 72, 81]\n"
          ],
          "name": "stdout"
        }
      ]
    },
    {
      "cell_type": "markdown",
      "metadata": {
        "id": "vYPdjYWq7ezH"
      },
      "source": [
        "## 22.6 리스트에 map 사용하기"
      ]
    },
    {
      "cell_type": "code",
      "metadata": {
        "colab": {
          "base_uri": "https://localhost:8080/"
        },
        "id": "PstgRzwC6ldc",
        "outputId": "58ac272c-f684-4782-f6ef-2f72336108f3"
      },
      "source": [
        "a = [1.2, 2.5, 3.7, 4.6]\n",
        "a = list(map(int, a))\n",
        "print(a)"
      ],
      "execution_count": 80,
      "outputs": [
        {
          "output_type": "stream",
          "text": [
            "[1, 2, 3, 4]\n"
          ],
          "name": "stdout"
        }
      ]
    },
    {
      "cell_type": "code",
      "metadata": {
        "colab": {
          "base_uri": "https://localhost:8080/"
        },
        "id": "lHQJwJ6A7oGL",
        "outputId": "20527115-a9ec-4e7a-99f7-fad1bb812b4d"
      },
      "source": [
        "## 22.6.1 input().split()과 map\n",
        "a = list(map(int,input().split()))\n",
        "print(a)"
      ],
      "execution_count": 82,
      "outputs": [
        {
          "output_type": "stream",
          "text": [
            "10 23\n",
            "[10, 23]\n"
          ],
          "name": "stdout"
        }
      ]
    },
    {
      "cell_type": "markdown",
      "metadata": {
        "id": "pn-VXM_q9wS0"
      },
      "source": [
        "##  22.10 심사문제: 2의 거듭제곱 리스트 생성하기\n",
        "표준 입력으로 정수 두 개가 입력됩니다(첫 번째 입력 값의 범위는 1 ~ 20, 두 번째 입력 값의 범위는 10 ~ 30이며 첫 번째 입력 값은 두 번째 입력 값보다 항상 작습니다). 첫 번째 정수부터 두 번째 정수까지를 지수로 하는 2의 거듭제곱 리스트를 출력하는 프로그램을 만드세요(input에서 안내 문자열은 출력하지 않아야 합니다). 단, 리스트의 두 번째 요소와 뒤에서 두 번째 요소는 삭제한 뒤 출력하세요. 출력 결과는 리스트 형태라야 합니다."
      ]
    },
    {
      "cell_type": "code",
      "metadata": {
        "colab": {
          "base_uri": "https://localhost:8080/"
        },
        "id": "WloEZ7bX90r-",
        "outputId": "daed8fa6-511b-48ce-e72c-a2ce79c220cc"
      },
      "source": [
        "a, b = map(int,input().split())\n",
        "c = [2**i for i in range(a, b+1)]\n",
        "del c[1]\n",
        "del c[-2]\n",
        "print(c)"
      ],
      "execution_count": 88,
      "outputs": [
        {
          "output_type": "stream",
          "text": [
            "10 20\n",
            "[1024, 4096, 8192, 16384, 32768, 65536, 131072, 262144, 1048576]\n"
          ],
          "name": "stdout"
        }
      ]
    }
  ]
}