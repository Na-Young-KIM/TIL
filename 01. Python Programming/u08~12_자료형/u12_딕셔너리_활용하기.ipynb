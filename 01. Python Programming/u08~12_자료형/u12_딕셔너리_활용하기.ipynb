{
  "nbformat": 4,
  "nbformat_minor": 0,
  "metadata": {
    "colab": {
      "name": "u12_딕셔너리 활용하기.ipynb",
      "provenance": [],
      "collapsed_sections": []
    },
    "kernelspec": {
      "name": "python3",
      "display_name": "Python 3"
    },
    "language_info": {
      "name": "python"
    }
  },
  "cells": [
    {
      "cell_type": "markdown",
      "metadata": {
        "id": "yGJVgL5XWQ6v"
      },
      "source": [
        "# Unit 12. 딕셔너리 사용하기"
      ]
    },
    {
      "cell_type": "code",
      "metadata": {
        "colab": {
          "base_uri": "https://localhost:8080/"
        },
        "id": "eREeqNkUWYtC",
        "outputId": "eef62535-27d8-456d-aa3f-410f327003b8"
      },
      "source": [
        "lux = [490, 334, 550, 18.72]    # 리스트\n",
        "print(lux)\n",
        "\n",
        "lux = {'health': 490, 'mana': 334, 'melee': 550, 'armor': 18.72}    # 딕셔너리\n",
        "print(lux)"
      ],
      "execution_count": 4,
      "outputs": [
        {
          "output_type": "stream",
          "text": [
            "[490, 334, 550, 18.72]\n",
            "{'health': 490, 'mana': 334, 'melee': 550, 'armor': 18.72}\n"
          ],
          "name": "stdout"
        }
      ]
    },
    {
      "cell_type": "markdown",
      "metadata": {
        "id": "KJ9G423VWVrK"
      },
      "source": [
        "## 12.1 딕셔너리 만들기"
      ]
    },
    {
      "cell_type": "code",
      "metadata": {
        "colab": {
          "base_uri": "https://localhost:8080/"
        },
        "id": "KId9eyxHSLbl",
        "outputId": "ff3e6362-7015-49bc-cdca-34d1f64f171a"
      },
      "source": [
        "## 12.1.3 빈 딕셔너리 만들기\n",
        "a = {}\n",
        "b = dict()\n",
        "a, b"
      ],
      "execution_count": 1,
      "outputs": [
        {
          "output_type": "execute_result",
          "data": {
            "text/plain": [
              "({}, {})"
            ]
          },
          "metadata": {
            "tags": []
          },
          "execution_count": 1
        }
      ]
    },
    {
      "cell_type": "code",
      "metadata": {
        "colab": {
          "base_uri": "https://localhost:8080/"
        },
        "id": "HE-NXPzuV_bN",
        "outputId": "a5694686-fff9-4ee1-aff6-21b66371c2e7"
      },
      "source": [
        "## 12.1.4 dict로 딕셔너리 만들기\n",
        "a = set((1, 2, 3))\n",
        "print(a)\n",
        "\n",
        "a = ['a','b', 'c', 'd']\n",
        "b = [1, 2, 3, 4]\n",
        "print(dict(zip(a,b)))"
      ],
      "execution_count": 5,
      "outputs": [
        {
          "output_type": "stream",
          "text": [
            "{1, 2, 3}\n",
            "{'a': 1, 'b': 2, 'c': 3, 'd': 4}\n"
          ],
          "name": "stdout"
        }
      ]
    },
    {
      "cell_type": "markdown",
      "metadata": {
        "id": "4XpVu7jOXHGL"
      },
      "source": [
        "## 12.2 딕셔너리의 키에 접근하고 값 할당하기"
      ]
    },
    {
      "cell_type": "code",
      "metadata": {
        "colab": {
          "base_uri": "https://localhost:8080/"
        },
        "id": "RdNKoY4vWDFN",
        "outputId": "ffc21a4f-80df-4828-a247-dd724ac616bf"
      },
      "source": [
        "lux = {'health': 490, 'mana': 334, 'melee': 550, 'armor': 18.72}\n",
        "lux['health']"
      ],
      "execution_count": 6,
      "outputs": [
        {
          "output_type": "execute_result",
          "data": {
            "text/plain": [
              "490"
            ]
          },
          "metadata": {
            "tags": []
          },
          "execution_count": 6
        }
      ]
    },
    {
      "cell_type": "code",
      "metadata": {
        "colab": {
          "base_uri": "https://localhost:8080/"
        },
        "id": "-oP1HixMXOxS",
        "outputId": "fea55e81-9542-49b5-f0b9-e03b856c3a07"
      },
      "source": [
        "## 12.2.1 딕셔너리의 키에 값 할당하기\n",
        "lux = {'health': 490, 'mana': 334, 'melee': 550, 'armor': 18.72}\n",
        "lux['mana'] = 1184\n",
        "lux['new'] = 10       #없는 key값은 새로 추가됨.\n",
        "print(lux)"
      ],
      "execution_count": 8,
      "outputs": [
        {
          "output_type": "stream",
          "text": [
            "{'health': 490, 'mana': 1184, 'melee': 550, 'armor': 18.72, 'new': 10}\n"
          ],
          "name": "stdout"
        }
      ]
    },
    {
      "cell_type": "code",
      "metadata": {
        "colab": {
          "base_uri": "https://localhost:8080/"
        },
        "id": "g1uSVQBGXeRE",
        "outputId": "f01cfcd0-ff85-4b6a-c900-fb1955cc543a"
      },
      "source": [
        "## 12.2.2 딕셔너리에 키가 있는지 확인하기\n",
        "lux = {'health': 490, 'mana': 334, 'melee': 550, 'armor': 18.72}\n",
        "print('health' in lux)\n",
        "print('new' in lux)"
      ],
      "execution_count": 10,
      "outputs": [
        {
          "output_type": "stream",
          "text": [
            "True\n",
            "False\n"
          ],
          "name": "stdout"
        }
      ]
    },
    {
      "cell_type": "code",
      "metadata": {
        "colab": {
          "base_uri": "https://localhost:8080/"
        },
        "id": "_Y6pP-GPXu5q",
        "outputId": "a2f75f02-335a-4f00-ff98-ada07db73275"
      },
      "source": [
        "## 12.2.3 딕셔너리의 키 개수 구하기\n",
        "lux = {'health': 490, 'mana': 334, 'melee': 550, 'armor': 18.72}\n",
        "len(lux)"
      ],
      "execution_count": 11,
      "outputs": [
        {
          "output_type": "execute_result",
          "data": {
            "text/plain": [
              "4"
            ]
          },
          "metadata": {
            "tags": []
          },
          "execution_count": 11
        }
      ]
    },
    {
      "cell_type": "code",
      "metadata": {
        "colab": {
          "base_uri": "https://localhost:8080/"
        },
        "id": "Q-hlR1v-X91e",
        "outputId": "a76405ab-d406-43cf-ae86-25693cd5d94a"
      },
      "source": [
        "## 12.4 심사문제 : 딕셔너리에 게임 캐릭터 능력치 저장하기\n",
        "''' 표준 입력으로 문자열 여러 개와 숫자(실수) 여러 개가 두 줄로 입력됩니다. \n",
        "입력된 첫 번째 줄은 키, 두 번째 줄은 값으로 하여 딕셔너리를 생성한 뒤 딕셔너리를 출력하는 프로그램을 만드세요. \n",
        "input().split()의 결과를 변수 한 개에 저장하면 리스트로 저장됩니다. '''\n",
        "\n",
        "key = input().split()\n",
        "value = map(float, input().split())\n",
        "d = dict(zip(key, value))\n",
        "print(d)"
      ],
      "execution_count": 39,
      "outputs": [
        {
          "output_type": "stream",
          "text": [
            "health health_regen mana mana_regen\n",
            "575.6 1.7 338.8 1.63\n",
            "{'health': 575.6, 'health_regen': 1.7, 'mana': 338.8, 'mana_regen': 1.63}\n"
          ],
          "name": "stdout"
        }
      ]
    },
    {
      "cell_type": "code",
      "metadata": {
        "colab": {
          "base_uri": "https://localhost:8080/"
        },
        "id": "oxgHb_l0Yuw-",
        "outputId": "9ae197c0-2888-49c5-abd9-831554d32fba"
      },
      "source": [
        "d = dict(zip(key, value))\n",
        "print(d)"
      ],
      "execution_count": 38,
      "outputs": [
        {
          "output_type": "stream",
          "text": [
            "{'health': 575.6, 'health_regen': 1.7, 'mana': 338.8, 'mana_regen': 1.63}\n"
          ],
          "name": "stdout"
        }
      ]
    },
    {
      "cell_type": "code",
      "metadata": {
        "colab": {
          "base_uri": "https://localhost:8080/"
        },
        "id": "OMtdhz6kaQk5",
        "outputId": "5f24f903-8320-4b6c-e170-903c0fa53214"
      },
      "source": [
        "value = map(float, input().split())\n",
        "print(value)"
      ],
      "execution_count": 37,
      "outputs": [
        {
          "output_type": "stream",
          "text": [
            "575.6 1.7 338.8 1.63\n",
            "<map object at 0x7f6092e93b50>\n"
          ],
          "name": "stdout"
        }
      ]
    },
    {
      "cell_type": "code",
      "metadata": {
        "id": "FFl8l1qJaci7"
      },
      "source": [
        ""
      ],
      "execution_count": null,
      "outputs": []
    }
  ]
}