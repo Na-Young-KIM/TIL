{
  "nbformat": 4,
  "nbformat_minor": 0,
  "metadata": {
    "colab": {
      "name": "u08_불과 비교, 논리 연산자.ipynb",
      "provenance": [],
      "collapsed_sections": []
    },
    "kernelspec": {
      "name": "python3",
      "display_name": "Python 3"
    },
    "language_info": {
      "name": "python"
    }
  },
  "cells": [
    {
      "cell_type": "markdown",
      "metadata": {
        "id": "wa7SB1kZe4Sa"
      },
      "source": [
        "# Unit 8. 불과 비교, 논리 연산자 알아보기"
      ]
    },
    {
      "cell_type": "markdown",
      "metadata": {
        "id": "S54GzZiGe-p7"
      },
      "source": [
        "## 8.1 불과 비교 연산자 사용하기"
      ]
    },
    {
      "cell_type": "code",
      "metadata": {
        "colab": {
          "base_uri": "https://localhost:8080/"
        },
        "id": "iYlx9caaewu3",
        "outputId": "15ea9636-6331-4541-f94d-b28ceba9653a"
      },
      "source": [
        "(True, False)"
      ],
      "execution_count": null,
      "outputs": [
        {
          "output_type": "execute_result",
          "data": {
            "text/plain": [
              "(True, False)"
            ]
          },
          "metadata": {
            "tags": []
          },
          "execution_count": 3
        }
      ]
    },
    {
      "cell_type": "code",
      "metadata": {
        "colab": {
          "base_uri": "https://localhost:8080/"
        },
        "id": "tYXh2WSqfDZo",
        "outputId": "4f52d758-d991-46bf-9570-7550498a4007"
      },
      "source": [
        "# 8.1.1 비교 연산자의 판단 결과 \n",
        "3 > 1"
      ],
      "execution_count": null,
      "outputs": [
        {
          "output_type": "execute_result",
          "data": {
            "text/plain": [
              "True"
            ]
          },
          "metadata": {
            "tags": []
          },
          "execution_count": 5
        }
      ]
    },
    {
      "cell_type": "code",
      "metadata": {
        "colab": {
          "base_uri": "https://localhost:8080/"
        },
        "id": "ZJdQhDWufL64",
        "outputId": "e10d8450-eba5-4f9c-fe8d-3009c2870734"
      },
      "source": [
        "# 8.1.2 숫자가 같은지 다른지 비교하기\n",
        "print(10 == 10)   # 10과 10이 같은지 비교\n",
        "print(10 != 5)    # 10과 5가 다른지 비교"
      ],
      "execution_count": null,
      "outputs": [
        {
          "output_type": "stream",
          "text": [
            "True\n",
            "True\n"
          ],
          "name": "stdout"
        }
      ]
    },
    {
      "cell_type": "code",
      "metadata": {
        "colab": {
          "base_uri": "https://localhost:8080/"
        },
        "id": "iRmIPaUifZeX",
        "outputId": "a330b3ec-da72-48aa-c701-f9b786f8bc38"
      },
      "source": [
        "# 8.1.3 문자열이 같은지 다른지 비교하기\n",
        "print('python' == 'python')\n",
        "print('python' == 'Python')\n",
        "print('python' != 'Python') "
      ],
      "execution_count": null,
      "outputs": [
        {
          "output_type": "stream",
          "text": [
            "True\n",
            "False\n",
            "True\n"
          ],
          "name": "stdout"
        }
      ]
    },
    {
      "cell_type": "code",
      "metadata": {
        "colab": {
          "base_uri": "https://localhost:8080/"
        },
        "id": "8gOAr6wBfwoK",
        "outputId": "b2ebfab9-8e60-4435-8b08-7b18a0a3a9de"
      },
      "source": [
        "# 8.1.4 부등호 사용하기\n",
        "print(10 > 20)    # 10이 20보다 큰지 비교\n",
        "print(10 < 20)    # 10이 20보다 작은지 비교\n",
        "print(10 >= 10)    # 10이 10보다 크거나 같은지 비교\n",
        "print(10 <= 10)    # 10이 10보다 작거나 같은지 비교"
      ],
      "execution_count": null,
      "outputs": [
        {
          "output_type": "stream",
          "text": [
            "False\n",
            "True\n",
            "True\n",
            "True\n"
          ],
          "name": "stdout"
        }
      ]
    },
    {
      "cell_type": "code",
      "metadata": {
        "colab": {
          "base_uri": "https://localhost:8080/"
        },
        "id": "gYFckdL5f8mT",
        "outputId": "37cb71f3-76b9-4b39-ee21-49befed8ac35"
      },
      "source": [
        "# 8.1.5 객체가 같은지 다른지 비교하기\n",
        "print(1 == 1.0)\n",
        "print(1 is 1.0)\n",
        "print(1 is not 1.0)   # 값 비교에 'is' 사용하지 않기"
      ],
      "execution_count": null,
      "outputs": [
        {
          "output_type": "stream",
          "text": [
            "True\n",
            "False\n",
            "True\n"
          ],
          "name": "stdout"
        }
      ]
    },
    {
      "cell_type": "markdown",
      "metadata": {
        "id": "ZmU8PsXQgjRp"
      },
      "source": [
        "## 8.2 논리 연산자 사용하기"
      ]
    },
    {
      "cell_type": "code",
      "metadata": {
        "colab": {
          "base_uri": "https://localhost:8080/"
        },
        "id": "KFqbeajmgOhO",
        "outputId": "22d2244a-1c64-4528-a0d7-fb9fb09c2ccf"
      },
      "source": [
        "not True and False or not False   #((not True) and False) or (not False)"
      ],
      "execution_count": null,
      "outputs": [
        {
          "output_type": "execute_result",
          "data": {
            "text/plain": [
              "True"
            ]
          },
          "metadata": {
            "tags": []
          },
          "execution_count": 12
        }
      ]
    },
    {
      "cell_type": "code",
      "metadata": {
        "colab": {
          "base_uri": "https://localhost:8080/"
        },
        "id": "qhp6F80ek7Kw",
        "outputId": "3a2c73c4-24ca-4e19-ebcf-edc4f1ff6d35"
      },
      "source": [
        "# 8.2.1 논리 연산자와 비교 연산자를 함께 사용하기\n",
        "x = 6\n",
        "print(x > 5 and x < 10)\n",
        "print(5 < x < 10)"
      ],
      "execution_count": null,
      "outputs": [
        {
          "output_type": "stream",
          "text": [
            "True\n",
            "True\n"
          ],
          "name": "stdout"
        }
      ]
    },
    {
      "cell_type": "code",
      "metadata": {
        "colab": {
          "base_uri": "https://localhost:8080/"
        },
        "id": "XqTjLGGilbLS",
        "outputId": "9c162742-55bd-4340-e0a6-c46e1eae5783"
      },
      "source": [
        "# 참고: bool\n",
        "bool(1), bool(0), bool(4), bool('False'), bool('')"
      ],
      "execution_count": null,
      "outputs": [
        {
          "output_type": "execute_result",
          "data": {
            "text/plain": [
              "(True, False, True, True, False)"
            ]
          },
          "metadata": {
            "tags": []
          },
          "execution_count": 14
        }
      ]
    },
    {
      "cell_type": "code",
      "metadata": {
        "colab": {
          "base_uri": "https://localhost:8080/"
        },
        "id": "ZxDoj16mlgyF",
        "outputId": "2c9e1e15-4cbf-4c53-edbb-f051f05884d9"
      },
      "source": [
        "int(True), int(False)"
      ],
      "execution_count": null,
      "outputs": [
        {
          "output_type": "execute_result",
          "data": {
            "text/plain": [
              "(1, 0)"
            ]
          },
          "metadata": {
            "tags": []
          },
          "execution_count": 17
        }
      ]
    },
    {
      "cell_type": "code",
      "metadata": {
        "colab": {
          "base_uri": "https://localhost:8080/"
        },
        "id": "2on3-bhwl_Na",
        "outputId": "9e490e64-6f4b-46fd-99c3-d54328880f0d"
      },
      "source": [
        "# 참고 : 단락 평가 (short-circuit evalution)\n",
        "print(1 or 'python')\n",
        "print(0 or 'python')\n",
        "print(1 and 'python')\n",
        "print(0 and 'python')"
      ],
      "execution_count": null,
      "outputs": [
        {
          "output_type": "stream",
          "text": [
            "1\n",
            "python\n",
            "python\n",
            "0\n"
          ],
          "name": "stdout"
        }
      ]
    },
    {
      "cell_type": "code",
      "metadata": {
        "colab": {
          "base_uri": "https://localhost:8080/"
        },
        "id": "bISqg4QX0Zom",
        "outputId": "95223762-8fd7-453f-8853-72a43e681bed"
      },
      "source": [
        "# 8.5 심사문제\n",
        "kor, eng, math, sci = map(int, input().split())\n",
        "print(kor >= 90 and eng >= 80 and math > 85 and sci >= 80)"
      ],
      "execution_count": 2,
      "outputs": [
        {
          "output_type": "stream",
          "text": [
            "90 81 86 80\n",
            "True\n"
          ],
          "name": "stdout"
        }
      ]
    }
  ]
}