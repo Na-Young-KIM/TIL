{
  "nbformat": 4,
  "nbformat_minor": 0,
  "metadata": {
    "colab": {
      "name": "u11_시퀀스 자료형 활용하기.ipynb",
      "provenance": [],
      "collapsed_sections": []
    },
    "kernelspec": {
      "name": "python3",
      "display_name": "Python 3"
    },
    "language_info": {
      "name": "python"
    }
  },
  "cells": [
    {
      "cell_type": "markdown",
      "metadata": {
        "id": "Qhq84zB1twB7"
      },
      "source": [
        "# Unit 11. 시퀀스 자료형 활용하기"
      ]
    },
    {
      "cell_type": "markdown",
      "metadata": {
        "id": "HSnNzKYDt4ep"
      },
      "source": [
        "## 11.1 시퀀스 자료형의 공통기능 사용하기"
      ]
    },
    {
      "cell_type": "code",
      "metadata": {
        "colab": {
          "base_uri": "https://localhost:8080/"
        },
        "id": "HsJ139VYtqcQ",
        "outputId": "07a395d4-8659-40e7-9614-31bde4769cf9"
      },
      "source": [
        "## 11.1.1 특정 값이 있는지 확인하기\n",
        "a = list(range(0,100,10))\n",
        "\n",
        "print(30 in a)\n",
        "print(100 in a)\n",
        "\n",
        "print('P' in 'Hello, Python')"
      ],
      "execution_count": 7,
      "outputs": [
        {
          "output_type": "stream",
          "text": [
            "True\n",
            "False\n",
            "True\n"
          ],
          "name": "stdout"
        }
      ]
    },
    {
      "cell_type": "code",
      "metadata": {
        "colab": {
          "base_uri": "https://localhost:8080/"
        },
        "id": "BF3nwncVuVuS",
        "outputId": "062b5196-ca34-45a5-bc97-61ea27ed8458"
      },
      "source": [
        "## 11.1.2 시퀀스 객체 연결하기\n",
        "a = [0, 10, 20, 30]\n",
        "b = [9, 8 , 7, 6]\n",
        "a + b"
      ],
      "execution_count": 10,
      "outputs": [
        {
          "output_type": "execute_result",
          "data": {
            "text/plain": [
              "[0, 10, 20, 30, 9, 8, 7, 6]"
            ]
          },
          "metadata": {
            "tags": []
          },
          "execution_count": 10
        }
      ]
    },
    {
      "cell_type": "code",
      "metadata": {
        "colab": {
          "base_uri": "https://localhost:8080/"
        },
        "id": "qLquUbqAuspA",
        "outputId": "810250f9-da46-4fb8-c2ab-d0a998cb1568"
      },
      "source": [
        "## 11.1.2 시퀀스 객체 연결하기\n",
        "print(list(range(0,10)) + list(range(10,20)))\n",
        "print(tuple(range(0,10)) + tuple(range(10,20)))\n",
        "\n",
        "print('Hello, ' + 'world!')"
      ],
      "execution_count": 14,
      "outputs": [
        {
          "output_type": "stream",
          "text": [
            "[0, 1, 2, 3, 4, 5, 6, 7, 8, 9, 10, 11, 12, 13, 14, 15, 16, 17, 18, 19]\n",
            "(0, 1, 2, 3, 4, 5, 6, 7, 8, 9, 10, 11, 12, 13, 14, 15, 16, 17, 18, 19)\n",
            "Hello, world!\n"
          ],
          "name": "stdout"
        }
      ]
    },
    {
      "cell_type": "code",
      "metadata": {
        "colab": {
          "base_uri": "https://localhost:8080/"
        },
        "id": "5f-6ALmPvzGf",
        "outputId": "8770874c-d77e-43e2-f674-44ae4dc4869e"
      },
      "source": [
        "## 참고 : 문자열에 숫자 연결하기\n",
        "print('Hello, '+ str(10))   # str을 사용하여 정수를 문자열로 변환"
      ],
      "execution_count": 17,
      "outputs": [
        {
          "output_type": "stream",
          "text": [
            "Hello, 10\n"
          ],
          "name": "stdout"
        }
      ]
    },
    {
      "cell_type": "code",
      "metadata": {
        "colab": {
          "base_uri": "https://localhost:8080/"
        },
        "id": "RWHFMir7xBGb",
        "outputId": "6d1cf556-b16f-44eb-a181-9796408621da"
      },
      "source": [
        "# 파이썬 3.6부터를 formatted string 사용가능\n",
        "pi = 3.14\n",
        "print(f'Hello, {5:02d} : {pi:.4f}')"
      ],
      "execution_count": 28,
      "outputs": [
        {
          "output_type": "stream",
          "text": [
            "Hello, 05 : 3.1400\n"
          ],
          "name": "stdout"
        }
      ]
    },
    {
      "cell_type": "code",
      "metadata": {
        "colab": {
          "base_uri": "https://localhost:8080/"
        },
        "id": "m5JeI4tKwESJ",
        "outputId": "343d0d08-ceec-4f41-c97e-d182e63d6990"
      },
      "source": [
        "## 11.1.3 시퀀스 객체 반복하기\n",
        "a = [10, 20, 30 ,40]\n",
        "print(a*3)\n",
        "\n",
        "b = list(range(1,5))\n",
        "print(b*2)\n",
        "c = tuple(range(1,5))\n",
        "print(c*2)\n",
        "\n",
        "print('Hello '*2)"
      ],
      "execution_count": 23,
      "outputs": [
        {
          "output_type": "stream",
          "text": [
            "[10, 20, 30, 40, 10, 20, 30, 40, 10, 20, 30, 40]\n",
            "[1, 2, 3, 4, 1, 2, 3, 4]\n",
            "(1, 2, 3, 4, 1, 2, 3, 4)\n",
            "Hello Hello \n"
          ],
          "name": "stdout"
        }
      ]
    },
    {
      "cell_type": "markdown",
      "metadata": {
        "id": "uJ39kdgAwybE"
      },
      "source": [
        "## 11.2 시퀀스 객체의 요소 개수 구하기"
      ]
    },
    {
      "cell_type": "code",
      "metadata": {
        "colab": {
          "base_uri": "https://localhost:8080/"
        },
        "id": "_ji-LYX5wx4A",
        "outputId": "85df252f-8801-4d83-eb79-e8fe0075561b"
      },
      "source": [
        "## 11.2.1 리스트와 튜플의 요소 개수 구하기\n",
        "a = list(range(0,100,10))\n",
        "print(a)\n",
        "print(len(a))\n",
        "\n",
        "b = (38, 76, 43, 62, 19)\n",
        "print(len(b))"
      ],
      "execution_count": 29,
      "outputs": [
        {
          "output_type": "stream",
          "text": [
            "[0, 10, 20, 30, 40, 50, 60, 70, 80, 90]\n",
            "10\n",
            "5\n"
          ],
          "name": "stdout"
        }
      ]
    },
    {
      "cell_type": "code",
      "metadata": {
        "colab": {
          "base_uri": "https://localhost:8080/"
        },
        "id": "W7pPGg7kxn_G",
        "outputId": "9f003952-317e-4101-f3d3-e68fbe559a95"
      },
      "source": [
        "## 11.2.3 문자열의 길이 구하기\n",
        "len('Hello, world!')"
      ],
      "execution_count": 30,
      "outputs": [
        {
          "output_type": "execute_result",
          "data": {
            "text/plain": [
              "13"
            ]
          },
          "metadata": {
            "tags": []
          },
          "execution_count": 30
        }
      ]
    },
    {
      "cell_type": "markdown",
      "metadata": {
        "id": "KQj-A0V2yioe"
      },
      "source": [
        "## 11.3 인덱스 사용하기"
      ]
    },
    {
      "cell_type": "code",
      "metadata": {
        "colab": {
          "base_uri": "https://localhost:8080/"
        },
        "id": "zGRPgfolyktH",
        "outputId": "7849465d-495e-455b-ab87-23b16416d026"
      },
      "source": [
        "a = [38, 21, 53, 62, 19]\n",
        "\n",
        "print(a[0])\n",
        "print(a[2])\n",
        "\n",
        "b = (38, 21, 53, 62, 19)\n",
        "print(b[0])"
      ],
      "execution_count": 34,
      "outputs": [
        {
          "output_type": "stream",
          "text": [
            "38\n",
            "53\n",
            "38\n"
          ],
          "name": "stdout"
        }
      ]
    },
    {
      "cell_type": "code",
      "metadata": {
        "colab": {
          "base_uri": "https://localhost:8080/"
        },
        "id": "OOkXRhM2zC9_",
        "outputId": "5cca49b0-6182-481e-d881-8394150f705e"
      },
      "source": [
        "r = range(0, 10, 2)\n",
        "print(r[2])"
      ],
      "execution_count": 35,
      "outputs": [
        {
          "output_type": "stream",
          "text": [
            "4\n"
          ],
          "name": "stdout"
        }
      ]
    },
    {
      "cell_type": "code",
      "metadata": {
        "colab": {
          "base_uri": "https://localhost:8080/"
        },
        "id": "yEB7T9lnzL3z",
        "outputId": "5faaefeb-8544-4ae2-b3e2-7760b1ca8bbd"
      },
      "source": [
        "hello = 'Hello, world!'\n",
        "print(hello[2])"
      ],
      "execution_count": 38,
      "outputs": [
        {
          "output_type": "stream",
          "text": [
            "l\n"
          ],
          "name": "stdout"
        }
      ]
    },
    {
      "cell_type": "code",
      "metadata": {
        "colab": {
          "base_uri": "https://localhost:8080/"
        },
        "id": "52W4QQ0U2LyZ",
        "outputId": "a9c4dea9-d389-4fc4-8552-e2073d36a935"
      },
      "source": [
        "## 11.3.1 음수 인덱싱 지정하기\n",
        "a = [38, 21, 53, 62, 19]\n",
        "print(a[-1])\n",
        "\n",
        "b = (38, 21, 53, 62, 19)\n",
        "print(b[-1])\n",
        "\n",
        "r = range(0, 10, 2)\n",
        "print(r[-1])\n",
        "\n",
        "hello = 'Hello, world!'\n",
        "print(hello[-2])"
      ],
      "execution_count": 48,
      "outputs": [
        {
          "output_type": "stream",
          "text": [
            "19\n",
            "19\n",
            "8\n",
            "d\n"
          ],
          "name": "stdout"
        }
      ]
    },
    {
      "cell_type": "code",
      "metadata": {
        "colab": {
          "base_uri": "https://localhost:8080/"
        },
        "id": "MCztC6np3T2_",
        "outputId": "00a5f30d-abd2-4114-f3ab-b9c176a8ca5e"
      },
      "source": [
        "## 11.3.3 마지막 요소에 접근하기\n",
        "a = [38, 21, 53, 62, 19]\n",
        "print(a[len(a)-1])"
      ],
      "execution_count": 51,
      "outputs": [
        {
          "output_type": "stream",
          "text": [
            "19\n"
          ],
          "name": "stdout"
        }
      ]
    },
    {
      "cell_type": "code",
      "metadata": {
        "colab": {
          "base_uri": "https://localhost:8080/"
        },
        "id": "rrcs_XB73h7t",
        "outputId": "374a011f-efb3-4e01-9f42-0cb09df8b926"
      },
      "source": [
        "## 11.3.4 요소에 값 할당하기\n",
        "a = [0, 0, 0, 0, 0]\n",
        "a[0] = 38\n",
        "a[1] = 21\n",
        "a[2] = 53 \n",
        "a[3] = 62\n",
        "a[4] = 10\n",
        "print(a)"
      ],
      "execution_count": 54,
      "outputs": [
        {
          "output_type": "stream",
          "text": [
            "[38, 21, 53, 62, 10]\n"
          ],
          "name": "stdout"
        }
      ]
    },
    {
      "cell_type": "code",
      "metadata": {
        "colab": {
          "base_uri": "https://localhost:8080/",
          "height": 216
        },
        "id": "6lqdELV24Lvk",
        "outputId": "c36678e4-48da-4a11-88b6-a88b468b360f"
      },
      "source": [
        "## tuple과 range는 요소에 값 변경 불가\n",
        "b = (0, 0, 0, 0, 0)\n",
        "b[0] = 10"
      ],
      "execution_count": 55,
      "outputs": [
        {
          "output_type": "error",
          "ename": "TypeError",
          "evalue": "ignored",
          "traceback": [
            "\u001b[0;31m---------------------------------------------------------------------------\u001b[0m",
            "\u001b[0;31mTypeError\u001b[0m                                 Traceback (most recent call last)",
            "\u001b[0;32m<ipython-input-55-a0c4798295a2>\u001b[0m in \u001b[0;36m<module>\u001b[0;34m()\u001b[0m\n\u001b[1;32m      1\u001b[0m \u001b[0;31m## tuple과 range는 요소에 값 변경 불가\u001b[0m\u001b[0;34m\u001b[0m\u001b[0;34m\u001b[0m\u001b[0;34m\u001b[0m\u001b[0m\n\u001b[1;32m      2\u001b[0m \u001b[0mb\u001b[0m \u001b[0;34m=\u001b[0m \u001b[0;34m(\u001b[0m\u001b[0;36m0\u001b[0m\u001b[0;34m,\u001b[0m \u001b[0;36m0\u001b[0m\u001b[0;34m,\u001b[0m \u001b[0;36m0\u001b[0m\u001b[0;34m,\u001b[0m \u001b[0;36m0\u001b[0m\u001b[0;34m,\u001b[0m \u001b[0;36m0\u001b[0m\u001b[0;34m)\u001b[0m\u001b[0;34m\u001b[0m\u001b[0;34m\u001b[0m\u001b[0m\n\u001b[0;32m----> 3\u001b[0;31m \u001b[0mb\u001b[0m\u001b[0;34m[\u001b[0m\u001b[0;36m0\u001b[0m\u001b[0;34m]\u001b[0m \u001b[0;34m=\u001b[0m \u001b[0;36m10\u001b[0m\u001b[0;34m\u001b[0m\u001b[0;34m\u001b[0m\u001b[0m\n\u001b[0m",
            "\u001b[0;31mTypeError\u001b[0m: 'tuple' object does not support item assignment"
          ]
        }
      ]
    },
    {
      "cell_type": "code",
      "metadata": {
        "colab": {
          "base_uri": "https://localhost:8080/"
        },
        "id": "-RQsOyWe4XNd",
        "outputId": "2b3db3c3-00a6-44b2-ea0a-a3da5a488a8b"
      },
      "source": [
        "## 11.3.5 del로 요소 삭제하기 (*tuple, string, range 은 사용 불가)\n",
        "a = [38, 21, 53, 61, 10]\n",
        "del a[2]\n",
        "print(a) "
      ],
      "execution_count": 56,
      "outputs": [
        {
          "output_type": "stream",
          "text": [
            "[38, 21, 61, 10]\n"
          ],
          "name": "stdout"
        }
      ]
    },
    {
      "cell_type": "markdown",
      "metadata": {
        "id": "5K2N8C2V4mSj"
      },
      "source": [
        "## 11.4 슬라이스 사용하기"
      ]
    },
    {
      "cell_type": "code",
      "metadata": {
        "colab": {
          "base_uri": "https://localhost:8080/"
        },
        "id": "ZCl-ZCOy4qye",
        "outputId": "82fff9c0-68b1-46d5-e606-c48ed6fafe00"
      },
      "source": [
        "a = [0, 10, 20, 30, 40, 50, 60, 70, 80, 90]\n",
        "print(a[0:4])    # 인덱스 0부터 3까지 잘라서 새 리스트를 만듦\n",
        "print(a[1:1])\n",
        "print(a[1:2])"
      ],
      "execution_count": 60,
      "outputs": [
        {
          "output_type": "stream",
          "text": [
            "[0, 10, 20, 30]\n",
            "[]\n",
            "[10]\n"
          ],
          "name": "stdout"
        }
      ]
    },
    {
      "cell_type": "code",
      "metadata": {
        "colab": {
          "base_uri": "https://localhost:8080/"
        },
        "id": "CGe2EY6o5PMC",
        "outputId": "ce145fe2-d73f-4ee7-b455-65f75980c5b8"
      },
      "source": [
        "## 11.4.1 리스트의 중간부분 가져오기\n",
        "a = [0, 10, 20, 30, 40, 50, 60, 70, 80, 90]\n",
        "print(a[4:7])\n",
        "\n",
        "print(a[4:-1])  # # 인덱스 4부터 -2까지 요소 5개를 가져옴 "
      ],
      "execution_count": 66,
      "outputs": [
        {
          "output_type": "stream",
          "text": [
            "[40, 50, 60]\n",
            "[40, 50, 60, 70, 80]\n"
          ],
          "name": "stdout"
        }
      ]
    },
    {
      "cell_type": "code",
      "metadata": {
        "colab": {
          "base_uri": "https://localhost:8080/"
        },
        "id": "g3MsyUgV5nrN",
        "outputId": "e1368016-77c0-4cf5-a72c-060e7c3b7a67"
      },
      "source": [
        "## 11.4.2 인덱스 증가폭 사용하기\n",
        "a = [0, 10, 20, 30, 40, 50, 60, 70, 80, 90]\n",
        "a[2:8:3]"
      ],
      "execution_count": 67,
      "outputs": [
        {
          "output_type": "execute_result",
          "data": {
            "text/plain": [
              "[20, 50]"
            ]
          },
          "metadata": {
            "tags": []
          },
          "execution_count": 67
        }
      ]
    },
    {
      "cell_type": "code",
      "metadata": {
        "colab": {
          "base_uri": "https://localhost:8080/"
        },
        "id": "7ya76g6p5xRT",
        "outputId": "d5d8e750-f311-4188-c336-f2a9aa194ce2"
      },
      "source": [
        "## 11.4.3  인덱스 생략하기\n",
        "a = [0, 10, 20, 30, 40, 50, 60, 70, 80, 90]\n",
        "\n",
        "print(a[:7])\n",
        "print(a[7:])\n",
        "print(a[:])"
      ],
      "execution_count": 71,
      "outputs": [
        {
          "output_type": "stream",
          "text": [
            "[0, 10, 20, 30, 40, 50, 60]\n",
            "[70, 80, 90]\n",
            "[0, 10, 20, 30, 40, 50, 60, 70, 80, 90]\n"
          ],
          "name": "stdout"
        }
      ]
    },
    {
      "cell_type": "code",
      "metadata": {
        "colab": {
          "base_uri": "https://localhost:8080/"
        },
        "id": "Nc_v-B8Q55A5",
        "outputId": "0b8e63ee-352e-45a9-d5a2-3af6d7672a69"
      },
      "source": [
        "## 11.4.4  인덱스를 생략하면서 증가폭 사용하기\n",
        "a = [0, 10, 20, 30, 40, 50, 60, 70, 80, 90]\n",
        "\n",
        "print(a[:7:2])\n",
        "print(a[7::2])\n",
        "print(a[::2])"
      ],
      "execution_count": 75,
      "outputs": [
        {
          "output_type": "stream",
          "text": [
            "[0, 20, 40, 60]\n",
            "[70, 90]\n",
            "[0, 20, 40, 60, 80]\n"
          ],
          "name": "stdout"
        }
      ]
    },
    {
      "cell_type": "code",
      "metadata": {
        "colab": {
          "base_uri": "https://localhost:8080/"
        },
        "id": "Vax8Evkf6Whq",
        "outputId": "a7d43464-487a-47e3-e2c9-215dfe982ef4"
      },
      "source": [
        "## 참고 : 슬라이스의 인덱스 증가폭을 음수로 지정하면?\n",
        "a = [0, 10, 20, 30, 40, 50, 60, 70, 80, 90]\n",
        "print(a[5:1:-1])\n",
        "print(a[::-1])"
      ],
      "execution_count": 78,
      "outputs": [
        {
          "output_type": "stream",
          "text": [
            "[50, 40, 30, 20]\n",
            "[90, 80, 70, 60, 50, 40, 30, 20, 10, 0]\n"
          ],
          "name": "stdout"
        }
      ]
    },
    {
      "cell_type": "code",
      "metadata": {
        "colab": {
          "base_uri": "https://localhost:8080/"
        },
        "id": "DJNL_5bi6nEn",
        "outputId": "7f9ef27b-7140-4a4a-f60c-74dbe0a71bb5"
      },
      "source": [
        "## 11.4.5 len 응용하기\n",
        "a = [0, 10, 20, 30, 40, 50, 60, 70, 80, 90]\n",
        "print(a[0:len(a)])"
      ],
      "execution_count": 80,
      "outputs": [
        {
          "output_type": "stream",
          "text": [
            "[0, 10, 20, 30, 40, 50, 60, 70, 80, 90]\n"
          ],
          "name": "stdout"
        }
      ]
    },
    {
      "cell_type": "code",
      "metadata": {
        "colab": {
          "base_uri": "https://localhost:8080/"
        },
        "id": "65EW-vna-IV_",
        "outputId": "9d0b153a-322a-4f57-c15e-23dcae5a9152"
      },
      "source": [
        "## 11.4.7 슬라이스에 요소 할당하기\n",
        "a = [0, 10, 20, 30, 40, 50, 60, 70, 80, 90]\n",
        "a[2:5] = ['a', 'b', 'c'] \n",
        "print(a)"
      ],
      "execution_count": 82,
      "outputs": [
        {
          "output_type": "stream",
          "text": [
            "[0, 10, 'a', 'b', 'c', 50, 60, 70, 80, 90]\n"
          ],
          "name": "stdout"
        }
      ]
    },
    {
      "cell_type": "code",
      "metadata": {
        "colab": {
          "base_uri": "https://localhost:8080/"
        },
        "id": "icsRDCfu-eUQ",
        "outputId": "1d679f16-56a1-4ae8-fe21-8d2db1b65cfd"
      },
      "source": [
        "b = list(range(10))\n",
        "b[2:5] = [10, 20, 30, 40, 50]\n",
        "b"
      ],
      "execution_count": 84,
      "outputs": [
        {
          "output_type": "execute_result",
          "data": {
            "text/plain": [
              "[0, 1, 10, 20, 30, 40, 50, 5, 6, 7, 8, 9]"
            ]
          },
          "metadata": {
            "tags": []
          },
          "execution_count": 84
        }
      ]
    },
    {
      "cell_type": "code",
      "metadata": {
        "colab": {
          "base_uri": "https://localhost:8080/"
        },
        "id": "SlqbI6Gg-nRb",
        "outputId": "e9ee21e2-7eb9-42b6-f351-1bc54f76e76d"
      },
      "source": [
        "c = list(range(10))\n",
        "c[2] = [10, 20, 30]\n",
        "print(c)\n",
        "\n",
        "c = list(range(10))\n",
        "c[2:3] = [10, 20, 30]\n",
        "print(c)"
      ],
      "execution_count": 85,
      "outputs": [
        {
          "output_type": "stream",
          "text": [
            "[0, 1, [10, 20, 30], 3, 4, 5, 6, 7, 8, 9]\n",
            "[0, 1, 10, 20, 30, 3, 4, 5, 6, 7, 8, 9]\n"
          ],
          "name": "stdout"
        }
      ]
    },
    {
      "cell_type": "markdown",
      "metadata": {
        "id": "7Y0GkZ3DoSvF"
      },
      "source": [
        "## 11.8 심사문제 : 리스트의 마지막 부분 삭제하기\n",
        "표준 입력으로 숫자 또는 문자열 여러 개가 입력되어 리스트 x에 저장됩니다(입력되는 숫자 또는 문자열의 개수는 정해져 있지 않음). \n",
        "다음 소스 코드를 완성하여 리스트 x의 마지막 요소 5개를 삭제한 뒤 튜플로 출력되게 만드세요. "
      ]
    },
    {
      "cell_type": "code",
      "metadata": {
        "colab": {
          "base_uri": "https://localhost:8080/"
        },
        "id": "FYZPmcDQSHMB",
        "outputId": "d5257937-9c21-4b73-9d2e-e04af5dc62de"
      },
      "source": [
        "x = input().split()\n",
        "del x[-1:-6:-1]\n",
        "print(tuple(x))"
      ],
      "execution_count": 131,
      "outputs": [
        {
          "output_type": "stream",
          "text": [
            "oven bat pony total leak wreck curl crop space navy loss knee\n",
            "('oven', 'bat', 'pony', 'total', 'leak', 'wreck', 'curl')\n"
          ],
          "name": "stdout"
        }
      ]
    },
    {
      "cell_type": "markdown",
      "metadata": {
        "id": "o9qp0wxWom7w"
      },
      "source": [
        "## 11.9 심사문제 : 문자열에서 인덱스가 홀수인 문자와 짝수인 문자 연결하기\n",
        "표준 입력으로 문자열 두 개가 각 줄에 입력됩니다(문자열의 길이는 정해져 있지 않음). 첫 번째 문자열에서 인덱스가 홀수인 문자와 두 번째 문자열에서 인덱스가 짝수인 문자를 연결하여 출력하는 프로그램을 만드세요(input에서 안내 문자열은 출력하지 않아야 합니다). 연결 순서는 첫 번째 문자열, 두 번째 문자열 순입니다. 그리고 0은 짝수로 처리합니다."
      ]
    },
    {
      "cell_type": "code",
      "metadata": {
        "colab": {
          "base_uri": "https://localhost:8080/"
        },
        "id": "Hhtv5y7Qomop",
        "outputId": "fac78e3f-4420-4544-d958-9fc81dda6694"
      },
      "source": [
        "a = input()\n",
        "b = input()\n",
        "print(a[1::2]+b[::2])"
      ],
      "execution_count": 134,
      "outputs": [
        {
          "output_type": "stream",
          "text": [
            "apple\n",
            "strawberry\n",
            "plsrwer\n"
          ],
          "name": "stdout"
        }
      ]
    },
    {
      "cell_type": "code",
      "metadata": {
        "id": "VbrbZaNti2ka"
      },
      "source": [
        ""
      ],
      "execution_count": null,
      "outputs": []
    }
  ]
}