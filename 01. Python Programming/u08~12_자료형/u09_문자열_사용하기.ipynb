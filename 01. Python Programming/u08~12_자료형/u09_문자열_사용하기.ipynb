{
  "nbformat": 4,
  "nbformat_minor": 0,
  "metadata": {
    "colab": {
      "name": "u09_문자열 사용하기.ipynb",
      "provenance": []
    },
    "kernelspec": {
      "name": "python3",
      "display_name": "Python 3"
    },
    "language_info": {
      "name": "python"
    }
  },
  "cells": [
    {
      "cell_type": "markdown",
      "metadata": {
        "id": "E2F9L6R4cmm6"
      },
      "source": [
        "Unit9. 문자열 사용하기"
      ]
    },
    {
      "cell_type": "code",
      "metadata": {
        "colab": {
          "base_uri": "https://localhost:8080/"
        },
        "id": "T82L_wBUcEf2",
        "outputId": "aa0ef051-0d4f-4b07-8775-d7428c25a22d"
      },
      "source": [
        "hello = 'Hello, world!'\n",
        "hello2 = \"Hello, world!\"\n",
        "hello == hello2"
      ],
      "execution_count": 2,
      "outputs": [
        {
          "output_type": "execute_result",
          "data": {
            "text/plain": [
              "True"
            ]
          },
          "metadata": {
            "tags": []
          },
          "execution_count": 2
        }
      ]
    },
    {
      "cell_type": "code",
      "metadata": {
        "colab": {
          "base_uri": "https://localhost:8080/"
        },
        "id": "zqQYh0wbeIE5",
        "outputId": "aab8d58e-09f5-4166-9614-fcaced55acf6"
      },
      "source": [
        "# 9.1.1 여러 줄로 된 문자열 사용하기\n",
        "multiline= '''Hello\n",
        "world!'''\n",
        "multi = 'Hello\\nworld!'\n",
        "multiline == multi"
      ],
      "execution_count": 3,
      "outputs": [
        {
          "output_type": "execute_result",
          "data": {
            "text/plain": [
              "True"
            ]
          },
          "metadata": {
            "tags": []
          },
          "execution_count": 3
        }
      ]
    },
    {
      "cell_type": "code",
      "metadata": {
        "colab": {
          "base_uri": "https://localhost:8080/",
          "height": 36
        },
        "id": "r815Sx6WeboB",
        "outputId": "337753e6-8347-4b99-b073-f1603d4fcc18"
      },
      "source": [
        "# 9.1.2 문자열 안에 작은따옴표나 큰따옴표 포함하기\n",
        "s = \"Python isn't difficult\"\n",
        "s"
      ],
      "execution_count": 4,
      "outputs": [
        {
          "output_type": "execute_result",
          "data": {
            "application/vnd.google.colaboratory.intrinsic+json": {
              "type": "string"
            },
            "text/plain": [
              "\"Python isn't difficult\""
            ]
          },
          "metadata": {
            "tags": []
          },
          "execution_count": 4
        }
      ]
    },
    {
      "cell_type": "code",
      "metadata": {
        "colab": {
          "base_uri": "https://localhost:8080/",
          "height": 36
        },
        "id": "ZKOXDM89e89D",
        "outputId": "4ac639d7-21a9-4704-f47c-1b831b79ebc9"
      },
      "source": [
        "# 9.1.2 문자열 안에 작은따옴표나 큰따옴표 포함하기\n",
        "s = 'He said \"Python is easy\"'\n",
        "s"
      ],
      "execution_count": 5,
      "outputs": [
        {
          "output_type": "execute_result",
          "data": {
            "application/vnd.google.colaboratory.intrinsic+json": {
              "type": "string"
            },
            "text/plain": [
              "'He said \"Python is easy\"'"
            ]
          },
          "metadata": {
            "tags": []
          },
          "execution_count": 5
        }
      ]
    },
    {
      "cell_type": "code",
      "metadata": {
        "colab": {
          "base_uri": "https://localhost:8080/",
          "height": 36
        },
        "id": "cCElbZ5NfK2C",
        "outputId": "45810827-f77c-4fb2-b5f7-5b6ef31605af"
      },
      "source": [
        "# 9.1.2 문자열 안에 작은따옴표나 큰따옴표 포함하기\n",
        "s = 'Python isn\\'t difficult'\n",
        "s"
      ],
      "execution_count": 7,
      "outputs": [
        {
          "output_type": "execute_result",
          "data": {
            "application/vnd.google.colaboratory.intrinsic+json": {
              "type": "string"
            },
            "text/plain": [
              "\"Python isn't difficult\""
            ]
          },
          "metadata": {
            "tags": []
          },
          "execution_count": 7
        }
      ]
    }
  ]
}