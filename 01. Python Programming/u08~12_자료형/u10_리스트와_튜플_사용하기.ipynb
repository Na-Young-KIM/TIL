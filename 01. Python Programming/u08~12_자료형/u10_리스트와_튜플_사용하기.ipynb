{
  "nbformat": 4,
  "nbformat_minor": 0,
  "metadata": {
    "colab": {
      "name": "u10_리스트와 튜플 사용하기.ipynb",
      "provenance": [],
      "collapsed_sections": []
    },
    "kernelspec": {
      "name": "python3",
      "display_name": "Python 3"
    },
    "language_info": {
      "name": "python"
    }
  },
  "cells": [
    {
      "cell_type": "markdown",
      "metadata": {
        "id": "U9YyWfDFhvGn"
      },
      "source": [
        "# Unit 10. 리스트와 튜플 사용하기"
      ]
    },
    {
      "cell_type": "markdown",
      "metadata": {
        "id": "OGAjNcx_iCVl"
      },
      "source": [
        "## 10.1 리스트 만들기"
      ]
    },
    {
      "cell_type": "code",
      "metadata": {
        "colab": {
          "base_uri": "https://localhost:8080/"
        },
        "id": "ECSxr2qvhpnv",
        "outputId": "a1d337c9-8c0f-4e23-d5e9-d3edc6474f92"
      },
      "source": [
        "a = [38, 21, 53, 62, 19]\n",
        "a"
      ],
      "execution_count": 1,
      "outputs": [
        {
          "output_type": "execute_result",
          "data": {
            "text/plain": [
              "[38, 21, 53, 62, 19]"
            ]
          },
          "metadata": {
            "tags": []
          },
          "execution_count": 1
        }
      ]
    },
    {
      "cell_type": "code",
      "metadata": {
        "colab": {
          "base_uri": "https://localhost:8080/"
        },
        "id": "iVBSYEHfh9xU",
        "outputId": "61b5973a-0ff3-4c76-fef4-4281a0ea8fe1"
      },
      "source": [
        "## 10.1.1 리스트에 여러 가지 자료형 저장하기\n",
        "person = ['james', 17, 175.3, True, [120, 80]]    # 리스트\n",
        "person_dic = {'name':'James', 'age':19, 'height':175.3,\n",
        "              'is_male':True, 'bp':[120, 80]}     # 딕셔너리\n",
        "print(person)\n",
        "print(person_dic)"
      ],
      "execution_count": 8,
      "outputs": [
        {
          "output_type": "stream",
          "text": [
            "['james', 17, 175.3, True, [120, 80]]\n",
            "{'name': 'James', 'age': 19, 'height': 175.3, 'is_male': True, 'bp': [120, 80]}\n"
          ],
          "name": "stdout"
        }
      ]
    },
    {
      "cell_type": "code",
      "metadata": {
        "colab": {
          "base_uri": "https://localhost:8080/"
        },
        "id": "q5eQOfiMiR4Z",
        "outputId": "938b5ba2-33d0-4ac8-d614-c358134d9406"
      },
      "source": [
        "## 10.1.2 빈 리스트 만들기\n",
        "a = []\n",
        "b = list()\n",
        "a, b"
      ],
      "execution_count": 6,
      "outputs": [
        {
          "output_type": "execute_result",
          "data": {
            "text/plain": [
              "([], [])"
            ]
          },
          "metadata": {
            "tags": []
          },
          "execution_count": 6
        }
      ]
    },
    {
      "cell_type": "code",
      "metadata": {
        "colab": {
          "base_uri": "https://localhost:8080/"
        },
        "id": "FiOi1ZsdiftD",
        "outputId": "42bd1e84-9791-4f31-d84f-2cc6b69c090d"
      },
      "source": [
        "## 10.1.3 range를 사용하여 리스트 만들기\n",
        "a = list(range(10))\n",
        "print(a)\n",
        "\n",
        "b = list(range(5, 12))\n",
        "print(b)\n",
        "\n",
        "c = list(range(-4, 10, 2))\n",
        "print(c)\n",
        "\n",
        "d = list(range(10, 0 , -1))\n",
        "print(d)"
      ],
      "execution_count": 16,
      "outputs": [
        {
          "output_type": "stream",
          "text": [
            "[0, 1, 2, 3, 4, 5, 6, 7, 8, 9]\n",
            "[5, 6, 7, 8, 9, 10, 11]\n",
            "[-4, -2, 0, 2, 4, 6, 8]\n",
            "[10, 9, 8, 7, 6, 5, 4, 3, 2, 1]\n"
          ],
          "name": "stdout"
        }
      ]
    },
    {
      "cell_type": "markdown",
      "metadata": {
        "id": "c1w4Q6m3k24C"
      },
      "source": [
        "## 10.2 튜플 사용하기"
      ]
    },
    {
      "cell_type": "code",
      "metadata": {
        "colab": {
          "base_uri": "https://localhost:8080/"
        },
        "id": "qYd5pUtkkZX6",
        "outputId": "77880551-4b67-42a8-9374-c07d98ccb555"
      },
      "source": [
        "a = (38, 21, 53, 62, 19)\n",
        "print(a)\n",
        "b = 38, 21, 53, 62 ,19\n",
        "print(b)"
      ],
      "execution_count": 20,
      "outputs": [
        {
          "output_type": "stream",
          "text": [
            "(38, 21, 53, 62, 19)\n",
            "(38, 21, 53, 62, 19)\n"
          ],
          "name": "stdout"
        }
      ]
    },
    {
      "cell_type": "code",
      "metadata": {
        "colab": {
          "base_uri": "https://localhost:8080/"
        },
        "id": "qfximmPelBhp",
        "outputId": "a2457705-7645-48e3-a7fa-38cce7b2333e"
      },
      "source": [
        "person = ('james', 17, 175.3, True)\n",
        "print(person)"
      ],
      "execution_count": 21,
      "outputs": [
        {
          "output_type": "stream",
          "text": [
            "('james', 17, 175.3, True)\n"
          ],
          "name": "stdout"
        }
      ]
    },
    {
      "cell_type": "code",
      "metadata": {
        "colab": {
          "base_uri": "https://localhost:8080/"
        },
        "id": "W53WW53Nld9F",
        "outputId": "a10a8724-ed66-4583-d678-df55e45e1ece"
      },
      "source": [
        "## 10.2.1 요소가 한 개 들어있는 튜플 만들기\n",
        "a = (38, )\n",
        "b = 38,\n",
        "a, b"
      ],
      "execution_count": 26,
      "outputs": [
        {
          "output_type": "execute_result",
          "data": {
            "text/plain": [
              "((38,), (38,))"
            ]
          },
          "metadata": {
            "tags": []
          },
          "execution_count": 26
        }
      ]
    },
    {
      "cell_type": "code",
      "metadata": {
        "colab": {
          "base_uri": "https://localhost:8080/"
        },
        "id": "Dm2BvCqylkWS",
        "outputId": "77f3d38b-0a6f-460d-d571-fd3ecf5f9131"
      },
      "source": [
        "## 10.2.2 range를 사용하여 튜플 만들기\n",
        "a = tuple(range(10))\n",
        "a"
      ],
      "execution_count": 27,
      "outputs": [
        {
          "output_type": "execute_result",
          "data": {
            "text/plain": [
              "(0, 1, 2, 3, 4, 5, 6, 7, 8, 9)"
            ]
          },
          "metadata": {
            "tags": []
          },
          "execution_count": 27
        }
      ]
    },
    {
      "cell_type": "code",
      "metadata": {
        "colab": {
          "base_uri": "https://localhost:8080/"
        },
        "id": "Xwz1xOfeo7dD",
        "outputId": "1b60bf25-1cdb-412e-8839-037ce508fa61"
      },
      "source": [
        "## 10.2.3 튜플을 리스트로 만들고 리스트를 튜플로 만들기\n",
        "a = [1, 2, 3]\n",
        "print(tuple(a))\n",
        "\n",
        "b = (4, 5, 6)\n",
        "print(list(b))"
      ],
      "execution_count": 29,
      "outputs": [
        {
          "output_type": "stream",
          "text": [
            "(1, 2, 3)\n",
            "[4, 5, 6]\n"
          ],
          "name": "stdout"
        }
      ]
    },
    {
      "cell_type": "code",
      "metadata": {
        "colab": {
          "base_uri": "https://localhost:8080/"
        },
        "id": "Eebk6pHlpKXw",
        "outputId": "53ba73f2-d149-414d-b28c-40036a517022"
      },
      "source": [
        "## 참고 : list와 tuple 안에 문자열을 넣으면?\n",
        "print(list('Hello'))\n",
        "print(tuple('Python'))"
      ],
      "execution_count": 30,
      "outputs": [
        {
          "output_type": "stream",
          "text": [
            "['H', 'e', 'l', 'l', 'o']\n",
            "('P', 'y', 't', 'h', 'o', 'n')\n"
          ],
          "name": "stdout"
        }
      ]
    },
    {
      "cell_type": "code",
      "metadata": {
        "colab": {
          "base_uri": "https://localhost:8080/"
        },
        "id": "zxpa_gUwphJf",
        "outputId": "11e46ea9-9b26-40eb-b9ef-b3ed6869f57c"
      },
      "source": [
        "## 참고 : 리스트와 튜플로 변수 만들기 (패킹)\n",
        "a, b, c = [1, 2, 3]   \n",
        "print(a, b, c)\n",
        "\n",
        "d, e, f = (4, 5, 6)   \n",
        "print(d, e, f)"
      ],
      "execution_count": 32,
      "outputs": [
        {
          "output_type": "stream",
          "text": [
            "1 2 3\n",
            "4 5 6\n"
          ],
          "name": "stdout"
        }
      ]
    },
    {
      "cell_type": "code",
      "metadata": {
        "colab": {
          "base_uri": "https://localhost:8080/"
        },
        "id": "452eIX_Np5pm",
        "outputId": "2562853b-b3a6-4679-b5c4-17baaf49866c"
      },
      "source": [
        "## 참고 : ## 참고 : 리스트와 튜플로 변수 만들기 (언패킹)\n",
        "x = [1, 2, 3]   # 리스트 패킹\n",
        "a, b, c = x     # 리스트 언패킹\n",
        "print(a, b, c)\n",
        "\n",
        "y = (4, 5, 6)   # 튜플 패킹\n",
        "d, e, f = y     # 튜플 언패킹\n",
        "print(d, e, f)"
      ],
      "execution_count": 33,
      "outputs": [
        {
          "output_type": "stream",
          "text": [
            "1 2 3\n",
            "4 5 6\n"
          ],
          "name": "stdout"
        }
      ]
    },
    {
      "cell_type": "code",
      "metadata": {
        "colab": {
          "base_uri": "https://localhost:8080/"
        },
        "id": "KAdXUQPeqULU",
        "outputId": "cbd141c0-974c-4309-ad1c-0f758fc4a5a7"
      },
      "source": [
        "## 심사 문제 \n",
        "''' 표준 입력으로 정수가 입력됩니다. range의 시작하는 숫자는 -10, 끝나는 숫자는 10이며 \n",
        "입력된 정수만큼 증가하는 숫자가 들어가도록 튜플을 만들고, 해당 튜플을 출력하는 프로그램을 \n",
        "만드세요(input에서 안내 문자열은 출력하지 않아야 합니다). '''\n",
        "\n",
        "x = int(input())\n",
        "a = tuple(range(-10, 10, x))\n",
        "print(a)"
      ],
      "execution_count": 45,
      "outputs": [
        {
          "output_type": "stream",
          "text": [
            "2\n",
            "(-10, -8, -6, -4, -2, 0, 2, 4, 6, 8)\n"
          ],
          "name": "stdout"
        }
      ]
    }
  ]
}