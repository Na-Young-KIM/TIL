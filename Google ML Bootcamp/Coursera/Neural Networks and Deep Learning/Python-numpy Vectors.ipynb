{
 "cells": [
  {
   "cell_type": "code",
   "execution_count": 10,
   "id": "c6a28d96-0c50-4453-8314-3ab4cf4ba589",
   "metadata": {},
   "outputs": [
    {
     "name": "stdout",
     "output_type": "stream",
     "text": [
      "[ 0.69796661 -0.3852809  -0.76640886 -1.1543095  -0.17340509]\n",
      "(5,)\n"
     ]
    }
   ],
   "source": [
    "import numpy as np\n",
    "\n",
    "a = np.random.randn(5)\n",
    "\n",
    "print(a)\n",
    "print(a.shape)"
   ]
  },
  {
   "cell_type": "code",
   "execution_count": 11,
   "id": "c07395a1-2f80-4752-a067-77c8796c7db0",
   "metadata": {},
   "outputs": [
    {
     "name": "stdout",
     "output_type": "stream",
     "text": [
      "[ 0.69796661 -0.3852809  -0.76640886 -1.1543095  -0.17340509]\n",
      "(5,)\n"
     ]
    }
   ],
   "source": [
    "print(a.T)\n",
    "print(a.T.shape)\n",
    "# a와 a.T의 구조가 동일한 것을 확인 할 수 있음"
   ]
  },
  {
   "cell_type": "code",
   "execution_count": 14,
   "id": "4b34c796-fec1-4bb8-b280-87d20c59f595",
   "metadata": {},
   "outputs": [
    {
     "name": "stdout",
     "output_type": "stream",
     "text": [
      "2.585481036594212\n"
     ]
    }
   ],
   "source": [
    "print(np.dot(a, a.T)) # 값을 하나만 출력"
   ]
  },
  {
   "cell_type": "code",
   "execution_count": 15,
   "id": "01fbed4c-f2d5-4772-89c0-80f4666deafa",
   "metadata": {},
   "outputs": [
    {
     "name": "stdout",
     "output_type": "stream",
     "text": [
      "[[-0.68034765]\n",
      " [ 0.68538817]\n",
      " [ 1.9233162 ]\n",
      " [ 0.39838338]\n",
      " [-0.70388864]]\n",
      "(5, 1)\n"
     ]
    }
   ],
   "source": [
    "a = np.random.randn(5, 1)\n",
    "\n",
    "print(a)\n",
    "print(a.shape)"
   ]
  },
  {
   "cell_type": "code",
   "execution_count": 16,
   "id": "192c2fe7-5b9d-4717-a447-6557fd017549",
   "metadata": {},
   "outputs": [
    {
     "name": "stdout",
     "output_type": "stream",
     "text": [
      "[[-0.68034765  0.68538817  1.9233162   0.39838338 -0.70388864]]\n",
      "(1, 5)\n"
     ]
    }
   ],
   "source": [
    "print(a.T)\n",
    "print(a.T.shape)"
   ]
  },
  {
   "cell_type": "code",
   "execution_count": 18,
   "id": "efce48a6-a5fb-400c-a4f0-cc22d8d156f0",
   "metadata": {},
   "outputs": [
    {
     "name": "stdout",
     "output_type": "stream",
     "text": [
      "[[ 0.46287292 -0.46630223 -1.30852365 -0.27103919  0.47888898]\n",
      " [-0.46630223  0.46975694  1.31821817  0.27304725 -0.48243694]\n",
      " [-1.30852365  1.31821817  3.69914522  0.76621721 -1.35380043]\n",
      " [-0.27103919  0.27304725  0.76621721  0.15870932 -0.28041753]\n",
      " [ 0.47888898 -0.48243694 -1.35380043 -0.28041753  0.49545922]]\n"
     ]
    }
   ],
   "source": [
    "print(np.dot(a, a.T)) # 5*5의 행렬로 출력"
   ]
  },
  {
   "cell_type": "code",
   "execution_count": null,
   "id": "727b6326-70e2-431b-b080-1843345c8aa8",
   "metadata": {},
   "outputs": [],
   "source": [
    "# 결론적으로,\n",
    "a = np.random.randn(5)      # 은 사용하지 말고\n",
    "a = np.random.randn(5, 1)   # 사용(column vector)\n",
    "a = np.random.randn(1, 5)   # 사용(row vector)"
   ]
  }
 ],
 "metadata": {
  "kernelspec": {
   "display_name": "Python 3 (ipykernel)",
   "language": "python",
   "name": "python3"
  },
  "language_info": {
   "codemirror_mode": {
    "name": "ipython",
    "version": 3
   },
   "file_extension": ".py",
   "mimetype": "text/x-python",
   "name": "python",
   "nbconvert_exporter": "python",
   "pygments_lexer": "ipython3",
   "version": "3.9.12"
  }
 },
 "nbformat": 4,
 "nbformat_minor": 5
}
