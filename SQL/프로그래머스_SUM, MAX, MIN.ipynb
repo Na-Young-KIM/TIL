{
 "cells": [
  {
   "cell_type": "markdown",
   "id": "89e030fa-2f0f-407d-926e-2096c472d683",
   "metadata": {},
   "source": [
    "ANIMAL_INS 테이블은 동물 보호소에 들어온 동물의 정보를 담은 테이블입니다. ANIMAL_INS 테이블 구조는 다음과 같으며, ANIMAL_ID, ANIMAL_TYPE, DATETIME, INTAKE_CONDITION, NAME, SEX_UPON_INTAKE는 각각 동물의 아이디, 생물 종, 보호 시작일, 보호 시작 시 상태, 이름, 성별 및 중성화 여부를 나타냅니다.\n",
    "\n",
    "|NAME|TYPE|NULLABLE|\n",
    "|---|----|---|\n",
    "|ANIMAL_ID|VARCHAR(N)|FALSE|\n",
    "|ANIMAL_TYPE|VARCHAR(N)|FALSE|\n",
    "|DATETIME|DATETIME   |FALSE|\n",
    "|INTAKE_CONDITION|VARCHAR(N)|FALSE|\n",
    "|NAME|VARCHAR(N)|TRUE|\n",
    "|SEX_UPON_INTAKE |VARCHAR(N)|FALSE| "
   ]
  },
  {
   "cell_type": "markdown",
   "id": "3bfcf2f1-6d5a-4992-a2e0-5e14b21308c9",
   "metadata": {},
   "source": [
    "# 최댓값 구하기"
   ]
  },
  {
   "cell_type": "markdown",
   "id": "47d712a4-f6d2-4804-b580-e32467bc068c",
   "metadata": {
    "tags": []
   },
   "source": [
    "가장 최근에 들어온 동물은 언제 들어왔는지 조회하는 SQL 문을 작성해주세요.\n",
    "\n",
    "예를 들어 ANIMAL_INS 테이블이 다음과 같다면\n",
    "\n",
    "|ANIMAL_ID\t|ANIMAL_TYPE\t|DATETIME\t|INTAKE_CONDITION\t|NAME\t|SEX_UPON_INTAKE|\n",
    "|--|--|--|--|--|--|\n",
    "|A399552\t|Dog\t|2013-10-14 15:38:00\t|Normal\t|Jack\t|Neutered Male|\n",
    "|A379998\t|Dog\t|2013-10-23 11:42:00\t|Normal\t|Disciple\t|Intact Male|\n",
    "|A370852\t|Dog\t|2013-11-03 15:04:00\t|Normal\t|Katie\t|Spayed Female|\n",
    "|A403564\t|Dog\t|2013-11-18 17:03:00\t|Normal\t|Anna\t|Spayed Female|\n",
    "\n",
    "가장 늦게 들어온 동물은 Anna이고, Anna는 2013-11-18 17:03:00에 들어왔습니다. 따라서 SQL문을 실행하면 다음과 같이 나와야 합니다.\n",
    "\n",
    "|시간|\n",
    "|--|\n",
    "|2013-11-18 17:03:00|\n",
    "\n",
    "※ 컬럼 이름(위 예제에서는 \"시간\")은 일치하지 않아도 됩니다."
   ]
  },
  {
   "cell_type": "code",
   "execution_count": null,
   "id": "447f9234-454d-4221-8b0d-7ef361187eca",
   "metadata": {},
   "outputs": [],
   "source": [
    "SELECT DATETIME\n",
    "FROM ANIMAL_INS\n",
    "ORDER BY DATETIME DESC\n",
    "LIMIT 1\n",
    ";"
   ]
  },
  {
   "cell_type": "markdown",
   "id": "5e91819f-4a4c-4e4e-927d-4e17c7126af6",
   "metadata": {},
   "source": [
    "# 최솟값 구하기"
   ]
  },
  {
   "cell_type": "markdown",
   "id": "c0c832e1-b193-4bdf-bfab-0f31d8357c73",
   "metadata": {},
   "source": [
    "동물 보호소에 가장 먼저 들어온 동물은 언제 들어왔는지 조회하는 SQL 문을 작성해주세요.\n",
    "\n",
    "예를 들어 ANIMAL_INS 테이블이 다음과 같다면\n",
    "\n",
    "|ANIMAL_ID\t|ANIMAL_TYPE\t|DATETIME\t|INTAKE_CONDITION\t|NAME\t|SEX_UPON_INTAKE|\n",
    "|--|--|--|--|--|--|\n",
    "|A399552\t|Dog\t|2013-10-14 15:38:00\t|Normal\t|Jack\t|Neutered Male|\n",
    "|A379998\t|Dog\t|2013-10-23 11:42:00\t|Normal\t|Disciple\t|Intact Male|\n",
    "|A370852\t|Dog\t|2013-11-03 15:04:00\t|Normal\t|Katie\t|Spayed Female|\n",
    "|A403564\t|Dog\t|2013-11-18 17:03:00\t|Normal\t|Anna\t|Spayed Female|\n",
    "\n",
    "가장 먼저 들어온 동물은 Jack이고, Jack은 2013-10-14 15:38:00에 들어왔습니다. 따라서 SQL문을 실행하면 다음과 같이 나와야 합니다.\n",
    "\n",
    "|시간|\n",
    "|--|\n",
    "|2013-10-14 15:38:00|\n",
    "\n",
    "※ 컬럼 이름(위 예제에서는 \"시간\")은 일치하지 않아도 됩니다."
   ]
  },
  {
   "cell_type": "code",
   "execution_count": null,
   "id": "c4bbc184-8590-4f23-8fe2-39d2a65a7db5",
   "metadata": {},
   "outputs": [],
   "source": [
    "SELECT DATETIME\n",
    "FROM ANIMAL_INS\n",
    "ORDER BY DATETIME\n",
    "LIMIT 1\n",
    ";"
   ]
  },
  {
   "cell_type": "markdown",
   "id": "c0dce8ad-c7a9-4f89-a9d6-c6e4ec832144",
   "metadata": {},
   "source": [
    "# 동물 수 구하기"
   ]
  },
  {
   "cell_type": "markdown",
   "id": "a9ffc2b5-6e4f-435e-bc84-0ada8f08bac1",
   "metadata": {},
   "source": [
    "동물 보호소에 동물이 몇 마리 들어왔는지 조회하는 SQL 문을 작성해주세요.\n",
    "\n",
    "예를 들어 ANIMAL_INS 테이블이 다음과 같다면\n",
    "\n",
    "|ANIMAL_ID\t|ANIMAL_TYPE\t|DATETIME\t|INTAKE_CONDITION\t|NAME\t|SEX_UPON_INTAKE|\n",
    "|--|--|--|--|--|--|\n",
    "|A399552\t|Dog\t|2013-10-14 15:38:00\t|Normal\t|Jack\t|Neutered Male|\n",
    "|A379998\t|Dog\t|2013-10-23 11:42:00\t|Normal\t|Disciple\t|Intact Male|\n",
    "|A370852\t|Dog\t|2013-11-03 15:04:00\t|Normal\t|Katie\t|Spayed Female|\n",
    "|A403564\t|Dog\t|2013-11-18 17:03:00\t|Normal\t|Anna\t|Spayed Female|\n",
    "\n",
    "동물 보호소에 들어온 동물은 4마리입니다. 따라서 SQL문을 실행하면 다음과 같이 나와야 합니다.\n",
    "\n",
    "|count|\n",
    "|--|\n",
    "|4|\n",
    "\n",
    "※ 컬럼 이름(위 예제에서는 count)은 일치하지 않아도 됩니다."
   ]
  },
  {
   "cell_type": "code",
   "execution_count": null,
   "id": "15900d4e-03e8-4475-ada3-c3cc5906de47",
   "metadata": {},
   "outputs": [],
   "source": [
    "SELECT COUNT(*)\n",
    "FROM ANIMAL_INS\n",
    ";"
   ]
  },
  {
   "cell_type": "markdown",
   "id": "2ea1dbfe-c468-4616-a6b1-5f68c4e2b3ee",
   "metadata": {},
   "source": [
    "# 중복 제거하기"
   ]
  },
  {
   "cell_type": "markdown",
   "id": "c81849cb-4004-4ce8-a915-858e87f7b694",
   "metadata": {},
   "source": [
    "동물 보호소에 들어온 동물의 이름은 몇 개인지 조회하는 SQL 문을 작성해주세요. 이때 이름이 NULL인 경우는 집계하지 않으며 중복되는 이름은 하나로 칩니다.\n",
    "\n",
    "예를 들어 ANIMAL_INS 테이블이 다음과 같다면\n",
    "\n",
    "|ANIMAL_ID\t|ANIMAL_TYPE\t|DATETIME\t|INTAKE_CONDITION\t|NAME\t|SEX_UPON_INTAKE|\n",
    "|--|--|--|--|--|--|\n",
    "|A562649\t|Dog\t|2014-03-20 18:06:00\t|Sick\t|NULL\t|Spayed Female|\n",
    "|A412626\t|Dog\t|2016-03-13 11:17:00\t|Normal\t|*Sam\t|Neutered Male|\n",
    "|A563492\t|Dog\t|2014-10-24 14:45:00\t|Normal\t|*Sam\t|Neutered Male|\n",
    "|A513956\t|Dog\t|2017-06-14 11:54:00\t|Normal\t|*Sweetie\t|Spayed Female|\n",
    "\n",
    "보호소에 들어온 동물의 이름은 NULL(없음), *Sam, *Sam, *Sweetie입니다. 이 중 NULL과 중복되는 이름을 고려하면, 보호소에 들어온 동물 이름의 수는 2입니다. 따라서 SQL문을 실행하면 다음과 같이 나와야 합니다.\n",
    "\n",
    "|count|\n",
    "|--|\n",
    "|2|\n",
    "\n",
    "※ 컬럼 이름(위 예제에서는 count)은 일치하지 않아도 됩니다."
   ]
  },
  {
   "cell_type": "code",
   "execution_count": null,
   "id": "f21183e7-488b-4acb-96fd-e2f33d9f7794",
   "metadata": {},
   "outputs": [],
   "source": [
    "SELECT COUNT(DISTINCT(NAME))\n",
    "FROM ANIMAL_INS\n",
    ";"
   ]
  }
 ],
 "metadata": {
  "kernelspec": {
   "display_name": "",
   "name": ""
  },
  "language_info": {
   "name": ""
  }
 },
 "nbformat": 4,
 "nbformat_minor": 5
}
