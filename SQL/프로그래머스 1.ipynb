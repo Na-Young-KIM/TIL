{
 "cells": [
  {
   "cell_type": "code",
   "execution_count": null,
   "id": "50b6ee7c-79f5-41f6-80fe-22f30fc7453c",
   "metadata": {},
   "outputs": [],
   "source": [
    "###\n",
    "ANIMAL_INS 테이블은 동물 보호소에 들어온 동물의 정보를 담은 테이블입니다. ANIMAL_INS 테이블 구조는 다음과 같으며, ANIMAL_ID, ANIMAL_TYPE, DATETIME, INTAKE_CONDITION, NAME, SEX_UPON_INTAKE는 각각 동물의 아이디, 생물 종, 보호 시작일, 보호 시작 시 상태, 이름, 성별 및 중성화 여부를 나타냅니다.\n",
    "\n",
    "NAME\tTYPE\tNULLABLE\n",
    "ANIMAL_ID\tVARCHAR(N)\tFALSE\n",
    "ANIMAL_TYPE\tVARCHAR(N)\tFALSE\n",
    "DATETIME\tDATETIME\tFALSE\n",
    "INTAKE_CONDITION\tVARCHAR(N)\tFALSE\n",
    "NAME\tVARCHAR(N)\tTRUE\n",
    "SEX_UPON_INTAKE\tVARCHAR(N)\tFALSE\n",
    "동물 보호소에 들어온 모든 동물의 정보를 ANIMAL_ID순으로 조회하는 SQL문을 작성해주세요. SQL을 실행하면 다음과 같이 출력되어야 합니다.\n",
    "\n",
    "ANIMAL_ID\tANIMAL_TYPE\tDATETIME\tINTAKE_CONDITION\tNAME\tSEX_UPON_INTAKE\n",
    "A349996\tCat\t2018-01-22 14:32:00\tNormal\tSugar\tNeutered Male\n",
    "A350276\tCat\t2017-08-13 13:50:00\tNormal\tJewel\tSpayed Female\n",
    "A350375\tCat\t2017-03-06 15:01:00\tNormal\tMeo\tNeutered Male\n",
    "A352555\tDog\t2014-08-08 04:20:00\tNormal\n",
    "###"
   ]
  },
  {
   "cell_type": "code",
   "execution_count": null,
   "id": "f4fec585-c4e5-41d6-b15b-07ec334882c9",
   "metadata": {},
   "outputs": [],
   "source": [
    "SELECT *\n",
    "FROM ANIMAL_INS\n",
    "ORDER BY ANIMAL_ID\n",
    ";"
   ]
  },
  {
   "cell_type": "code",
   "execution_count": null,
   "id": "fb70964a-013f-47bf-8bc4-dccbc962a215",
   "metadata": {},
   "outputs": [],
   "source": []
  }
 ],
 "metadata": {
  "kernelspec": {
   "display_name": "",
   "name": ""
  },
  "language_info": {
   "name": ""
  }
 },
 "nbformat": 4,
 "nbformat_minor": 5
}
