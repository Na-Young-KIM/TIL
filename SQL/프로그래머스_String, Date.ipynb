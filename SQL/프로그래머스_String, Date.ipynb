{
 "cells": [
  {
   "cell_type": "markdown",
   "id": "a0f45cef-5d80-4609-9068-683be3e205bc",
   "metadata": {},
   "source": [
    "## ANIMAL_INS 테이블\n",
    "ANIMAL_INS 테이블은 동물 보호소에 들어온 동물의 정보를 담은 테이블입니다. ANIMAL_INS 테이블 구조는 다음과 같으며, ANIMAL_ID, ANIMAL_TYPE, DATETIME, INTAKE_CONDITION, NAME, SEX_UPON_INTAKE는 각각 동물의 아이디, 생물 종, 보호 시작일, 보호 시작 시 상태, 이름, 성별 및 중성화 여부를 나타냅니다.\n",
    "\n",
    "|NAME\t|TYPE\t|NULLABLE|\n",
    "|-|-|-|\n",
    "|ANIMAL_ID\t|VARCHAR(N)\t|FALSE|\n",
    "|ANIMAL_TYPE\t|VARCHAR(N)\t|FALSE|\n",
    "|DATETIME\t|DATETIME\t|FALSE|\n",
    "|INTAKE_CONDITION\t|VARCHAR(N)\t|FALSE|\n",
    "|NAME\t|VARCHAR(N)\t|TRUE|\n",
    "|SEX_UPON_INTAKE\t|VARCHAR(N)\t|FALSE|"
   ]
  },
  {
   "cell_type": "markdown",
   "id": "58266a60-f7e0-47d6-adf1-aa0b2e8cd527",
   "metadata": {},
   "source": [
    "## ANIMAL_OUTS 테이블\n",
    "ANIMAL_OUTS 테이블은 동물 보호소에서 입양 보낸 동물의 정보를 담은 테이블입니다. ANIMAL_OUTS 테이블 구조는 다음과 같으며, ANIMAL_ID, ANIMAL_TYPE, DATETIME, NAME, SEX_UPON_OUTCOME는 각각 동물의 아이디, 생물 종, 입양일, 이름, 성별 및 중성화 여부를 나타냅니다. ANIMAL_OUTS 테이블의 ANIMAL_ID는 ANIMAL_INS의 ANIMAL_ID의 외래 키입니다.\n",
    "\n",
    "|NAME\t|TYPE\t|NULLABLE|\n",
    "|-|-|-|\n",
    "ANIMAL_ID\t|VARCHAR(N)\t|FALSE\n",
    "ANIMAL_TYPE\t|VARCHAR(N)\t|FALSE\n",
    "DATETIME\t|DATETIME\t|FALSE\n",
    "NAME\t|VARCHAR(N)\t|TRUE\n",
    "SEX_UPON_OUTCOME\t|VARCHAR(N)\t|FALSE"
   ]
  },
  {
   "cell_type": "markdown",
   "id": "bd1d89a2-0aaf-4911-894c-eecf8c346823",
   "metadata": {},
   "source": [
    "### 루시와 엘라 찾기\n",
    "동물 보호소에 들어온 동물 중 이름이 Lucy, Ella, Pickle, Rogan, Sabrina, Mitty인 동물의 아이디와 이름, 성별 및 중성화 여부를 조회하는 SQL 문을 작성해주세요.\n",
    "\n",
    "예시  \n",
    "이때 결과는 아이디 순으로 조회해주세요. 예를 들어 ANIMAL_INS 테이블이 다음과 같다면\n",
    "\n",
    "|ANIMAL_ID\t|ANIMAL_TYPE\t|DATETIME\t|INTAKE_CONDITION\t|NAME\t|SEX_UPON_INTAKE\n",
    "|-|-|-|-|-|-|\n",
    "A373219\t|Cat\t|2014-07-29 11:43:00\t|Normal\t|Ella\t|Spayed Female\n",
    "A377750\t|Dog\t|2017-10-25 17:17:00\t|Normal\t|Lucy\t|Spayed Female\n",
    "A353259\t|Dog\t|2016-05-08 12:57:00\t|Injured\t|Bj\t|Neutered Male\n",
    "A354540\t|Cat\t|2014-12-11 11:48:00\t|Normal\t|Tux\t|Neutered Male\n",
    "A354597\t|Cat\t|2014-05-02 12:16:00\t|Normal\t|Ariel\t|Spayed Female\n",
    "\n",
    "SQL문을 실행하면 다음과 같이 나와야 합니다.\n",
    "\n",
    "|ANIMAL_ID\t|NAME\t|SEX_UPON_INTAKE|\n",
    "|-|-|-|\n",
    "A373219\t|Ella\t|Spayed Female\n",
    "A377750\t|Lucy\t|Spayed Female"
   ]
  },
  {
   "cell_type": "markdown",
   "id": "4195fa05-cba4-48bc-9ac4-5bcaf8cf0ed4",
   "metadata": {},
   "source": [
    "<풀이>\n",
    "```sql\n",
    "SELECT ANIMAL_ID, NAME, SEX_UPON_INTAKE\n",
    "FROM ANIMAL_INS\n",
    "WHERE NAME in ('Lucy', 'Ella', 'Pickle', 'Rogan', 'Sabrina', 'Mitty')\n",
    "ORDER BY ANIMAL_ID\n",
    ";\n",
    "```"
   ]
  },
  {
   "cell_type": "markdown",
   "id": "2254457c-f9cc-41d1-b931-d41f1a2e5e26",
   "metadata": {},
   "source": [
    "### 이름에 el이 들어가는 동물 찾기\n",
    "보호소에 돌아가신 할머니가 기르던 개를 찾는 사람이 찾아왔습니다. 이 사람이 말하길 할머니가 기르던 개는 이름에 'el'이 들어간다고 합니다. 동물 보호소에 들어온 동물 이름 중, 이름에 \"EL\"이 들어가는 개의 아이디와 이름을 조회하는 SQL문을 작성해주세요. 이때 결과는 이름 순으로 조회해주세요. 단, 이름의 대소문자는 구분하지 않습니다.\n",
    "\n",
    "예시  \n",
    "예를 들어 ANIMAL_INS 테이블이 다음과 같다면\n",
    "\n",
    "|ANIMAL_ID\t|ANIMAL_TYPE\t|DATETIME\t|INTAKE_CONDITION\t|NAME\t|SEX_UPON_INTAKE|\n",
    "|-|-|-|-|-|-|\n",
    "|A355753\t|Dog\t|2015-09-10 13:14:00\t|Normal\t|Elijah\t|Neutered Male\n",
    "|A352872\t|Dog\t|2015-07-09 17:51:00\t|Aged\t|Peanutbutter\t|Neutered Male\n",
    "|A353259\t|Dog\t|2016-05-08 12:57:00\t|Injured\t|Bj\t|Neutered Male\n",
    "|A373219\t|Cat\t|2014-07-29 11:43:00\t|Normal\t|Ella\t|Spayed Female\n",
    "|A382192\t|Dog\t|2015-03-13 13:14:00\t|Normal\t|Maxwell 2\t|Intact Male\n",
    "\n",
    "이름에 'el'이 들어가는 동물은 Elijah, Ella, Maxwell 2입니다.\n",
    "이 중, 개는 Elijah, Maxwell 2입니다.\n",
    "따라서 SQL문을 실행하면 다음과 같이 나와야 합니다.\n",
    "\n",
    "|ANIMAL_ID\t|NAME|\n",
    "|-|-|\n",
    "A355753\t|Elijah\n",
    "A382192\t|Maxwell 2"
   ]
  },
  {
   "cell_type": "markdown",
   "id": "ee92c549-5a5a-4ea6-952c-29d0ea45f44e",
   "metadata": {},
   "source": [
    "<풀이>\n",
    "```sql\n",
    "SELECT ANIMAL_ID, NAME\n",
    "FROM ANIMAL_INS\n",
    "WHERE NAME LIKE '%el%' AND ANIMAL_TYPE='Dog'\n",
    "ORDER BY NAME\n",
    ";\n",
    "```"
   ]
  },
  {
   "cell_type": "markdown",
   "id": "0b6bcfbf-3876-479d-af9b-cb3a3d96215e",
   "metadata": {},
   "source": [
    "### 중성화 여부 파악하기\n",
    "보호소의 동물이 중성화되었는지 아닌지 파악하려 합니다. 중성화된 동물은 SEX_UPON_INTAKE 컬럼에 'Neutered' 또는 'Spayed'라는 단어가 들어있습니다. 동물의 아이디와 이름, 중성화 여부를 아이디 순으로 조회하는 SQL문을 작성해주세요. 이때 중성화가 되어있다면 'O', 아니라면 'X'라고 표시해주세요.\n",
    "\n",
    "예시  \n",
    "예를 들어 ANIMAL_INS 테이블이 다음과 같다면\n",
    "\n",
    "|ANIMAL_ID\t|ANIMAL_TYPE\t|DATETIME\t|INTAKE_CONDITION\t|NAME\t|SEX_UPON_INTAKE|\n",
    "|-|-|-|-|-|-|\n",
    "A355753\t|Dog\t|2015-09-10 13:14:00\t|Normal\t|Elijah\t|Neutered Male\n",
    "A373219\t|Cat\t|2014-07-29 11:43:00\t|Normal\t|Ella\t|Spayed Female\n",
    "A382192\t|Dog\t|2015-03-13 13:14:00\t|Normal\t|Maxwell 2\t|Intact Male\n",
    "\n",
    "중성화한 동물: Elijah, Ella  \n",
    "중성화하지 않은 동물: Maxwell 2  \n",
    "따라서 SQL문을 실행하면 다음과 같이 나와야 합니다.  \n",
    "\n",
    "|ANIMAL_ID\t|NAME\t|중성화|\n",
    "|-|-|-|\n",
    "A355753\t|Elijah\t|O\n",
    "A373219\t|Ella\t|O\n",
    "A382192\t|Maxwell 2\t|X\n",
    "\n",
    "\n",
    "※ 컬럼 이름은 일치하지 않아도 됩니다."
   ]
  },
  {
   "cell_type": "markdown",
   "id": "4b675cea-49bb-4ca6-b946-68de102c5ef8",
   "metadata": {},
   "source": [
    "<풀이>\n",
    "```sql\n",
    "SELECT ANIMAL_ID, NAME, (CASE WHEN SEX_UPON_INTAKE LIKE '%Neutered%' THEN 'O' \n",
    "                         WHEN SEX_UPON_INTAKE LIKE '%Spayed%' THEN 'O' \n",
    "                         ELSE 'X' END) AS '중성화' \n",
    "FROM ANIMAL_INS\n",
    "ORDER BY ANIMAL_ID\n",
    ";\n",
    "```"
   ]
  },
  {
   "cell_type": "markdown",
   "id": "5b5b25c1-8e40-4424-8409-7b18a4fc9ec4",
   "metadata": {},
   "source": [
    "### 오랜 기간 보호한 동물(2)\n",
    "입양을 간 동물 중, 보호 기간이 가장 길었던 동물 두 마리의 아이디와 이름을 조회하는 SQL문을 작성해주세요. 이때 결과는 보호 기간이 긴 순으로 조회해야 합니다.\n",
    "\n",
    "예시  \n",
    "예를 들어, ANIMAL_INS 테이블과 ANIMAL_OUTS 테이블이 다음과 같다면\n",
    "\n",
    "ANIMAL_INS\n",
    "\n",
    "|ANIMAL_ID\t|ANIMAL_TYPE\t|DATETIME\t|INTAKE_CONDITION\t|NAME\t|SEX_UPON_INTAKE|\n",
    "|-|-|-|-|-|-|\n",
    "A354597\t|Cat\t|2014-05-02 12:16:00\t|Normal\t|Ariel\t|Spayed Female\n",
    "A362707\t|Dog\t|2016-01-27 12:27:00\t|Sick\t|Girly Girl\t|Spayed Female\n",
    "A370507\t|Cat\t|2014-10-27 14:43:00\t|Normal\t|Emily\t|Spayed Female\n",
    "A414513\t|Dog\t|2016-06-07 09:17:00\t|Normal\t|Rocky\t|Neutered Male\n",
    "\n",
    "ANIMAL_OUTS\n",
    "\n",
    "|ANIMAL_ID\t|ANIMAL_TYPE\t|DATETIME\t|NAME\t|SEX_UPON_OUTCOME|\n",
    "|-|-|-|-|-|\n",
    "A354597\t|Cat\t|2014-06-03 12:30:00\t|Ariel\t|Spayed Female\n",
    "A362707\t|Dog\t|2017-01-10 10:44:00\t|Girly Girl\t|Spayed Female\n",
    "A370507\t|Cat\t|2015-08-15 09:24:00\t|Emily\t|Spayed Female\n",
    "\n",
    "SQL문을 실행하면 다음과 같이 나와야 합니다.\n",
    "\n",
    "|ANIMAL_ID\t|NAME|\n",
    "|-|-|\n",
    "A362707\t|Girly Girl\n",
    "A370507\t|Emily\n",
    "\n",
    "※ 입양을 간 동물이 2마리 이상인 경우만 입력으로 주어집니다.\n",
    "\n"
   ]
  },
  {
   "cell_type": "markdown",
   "id": "919a289a-8f85-4d02-ac3d-851442e697f6",
   "metadata": {},
   "source": [
    "<풀이>\n",
    "```sql\n",
    "SELECT A.ANIMAL_ID, A.NAME\n",
    "FROM ANIMAL_INS AS A INNER JOIN ANIMAL_OUTS AS B\n",
    "ON A.ANIMAL_ID = B.ANIMAL_ID\n",
    "ORDER BY A.DATETIME-B.DATETIME\n",
    "LIMIT 2\n",
    ";\n",
    "```"
   ]
  },
  {
   "cell_type": "markdown",
   "id": "f34d0515-4e08-4f0e-b258-30841907e8a8",
   "metadata": {},
   "source": [
    "### DATETIME에서 DATE로 형 변환\n",
    "ANIMAL_INS 테이블에 등록된 모든 레코드에 대해, 각 동물의 아이디와 이름, 들어온 날짜1를 조회하는 SQL문을 작성해주세요. 이때 결과는 아이디 순으로 조회해야 합니다.\n",
    "\n",
    "예시  \n",
    "예를 들어, ANIMAL_INS 테이블이 다음과 같다면\n",
    "\n",
    "ANIMAL_INS\n",
    "\n",
    "|ANIMAL_ID\t|ANIMAL_TYPE\t|DATETIME\t|INTAKE_CONDITION\t|NAME\t|SEX_UPON_INTAKE|\n",
    "|-|-|-|-|-|-|\n",
    "A349996\t|Cat\t|2018-01-22 14:32:00\t|Normal\t|Sugar\t|Neutered Male\n",
    "A350276\t|Cat\t|2017-08-13 13:50:00\t|Normal\t|Jewel\t|Spayed Female\n",
    "A350375\t|Cat\t|2017-03-06 15:01:00\t|Normal\t|Meo\t|Neutered Male\n",
    "A352555\t|Dog\t|2014-08-08 04:20:00\t|Normal\t|Harley\t|Spayed Female\n",
    "A352713\t|Cat\t|2017-04-13 16:29:00\t|Normal\t|Gia\t|Spayed Female\n",
    "\n",
    "SQL문을 실행하면 다음과 같이 나와야 합니다.\n",
    "\n",
    "|ANIMAL_ID\t|NAME\t|날짜|\n",
    "|-|-|-|\n",
    "A349996\t|Sugar\t|2018-01-22\n",
    "A350276\t|Jewel\t|2017-08-13\n",
    "A350375\t|Meo\t|2017-03-06\n",
    "A352555\t|Harley\t|2014-08-08\n",
    "A352713\t|Gia\t|2017-04-13"
   ]
  },
  {
   "cell_type": "markdown",
   "id": "b7ee72ee-58b9-4497-9811-daf53a84ae97",
   "metadata": {},
   "source": [
    "<풀이>\n",
    "```sql\n",
    "SELECT ANIMAL_ID, NAME, DATE_FORMAT(DATETIME, '%Y-%m-%d') AS '날짜'\n",
    "FROM ANIMAL_INS\n",
    "ORDER BY ANIMAL_ID\n",
    ";\n",
    "```"
   ]
  }
 ],
 "metadata": {
  "kernelspec": {
   "display_name": "Python 3 (ipykernel)",
   "language": "python",
   "name": "python3"
  },
  "language_info": {
   "codemirror_mode": {
    "name": "ipython",
    "version": 3
   },
   "file_extension": ".py",
   "mimetype": "text/x-python",
   "name": "python",
   "nbconvert_exporter": "python",
   "pygments_lexer": "ipython3",
   "version": "3.9.7"
  }
 },
 "nbformat": 4,
 "nbformat_minor": 5
}
