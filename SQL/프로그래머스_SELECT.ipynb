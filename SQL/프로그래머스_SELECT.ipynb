{
 "cells": [
  {
   "cell_type": "markdown",
   "id": "62f05615-c0f2-43b1-b7b9-5fe7893e7e9e",
   "metadata": {},
   "source": [
    "ANIMAL_INS 테이블은 동물 보호소에 들어온 동물의 정보를 담은 테이블입니다. ANIMAL_INS 테이블 구조는 다음과 같으며, ANIMAL_ID, ANIMAL_TYPE, DATETIME, INTAKE_CONDITION, NAME, SEX_UPON_INTAKE는 각각 동물의 아이디, 생물 종, 보호 시작일, 보호 시작 시 상태, 이름, 성별 및 중성화 여부를 나타냅니다.\n",
    "\n",
    "|NAME|TYPE|NULLABLE|\n",
    "|---|----|---|\n",
    "|ANIMAL_ID|VARCHAR(N)|FALSE|\n",
    "|ANIMAL_TYPE|VARCHAR(N)|FALSE|\n",
    "|DATETIME|DATETIME   |FALSE|\n",
    "|INTAKE_CONDITION|VARCHAR(N)|FALSE|\n",
    "|NAME|VARCHAR(N)|TRUE|\n",
    "|SEX_UPON_INTAKE |VARCHAR(N)|FALSE|"
   ]
  },
  {
   "cell_type": "markdown",
   "id": "1e0e56c8-9022-4395-8693-47d3daac9b38",
   "metadata": {},
   "source": [
    "# 모든 레코드 조회하기"
   ]
  },
  {
   "cell_type": "markdown",
   "id": "e4c30a6e-7f1f-4c64-9655-c1a28e3864c0",
   "metadata": {
    "jp-MarkdownHeadingCollapsed": true,
    "tags": []
   },
   "source": [
    "동물 보호소에 들어온 모든 동물의 정보를 ANIMAL_ID순으로 조회하는 SQL문을 작성해주세요. SQL을 실행하면 다음과 같이 출력되어야 합니다.\n",
    "\n",
    "|ANIMAL_ID\t|ANIMAL_TYPE\t|DATETIME\t|INTAKE_CONDITION\t|NAME\t|SEX_UPON_INTAKE|\n",
    "|---|----|---|---|----|---|\n",
    "|A349996\t|Cat\t|2018-01-22 14:32:00\t|Normal\t|Sugar\t|Neutered Male|\n",
    "|A350276\t|Cat\t|2017-08-13 13:50:00\t|Normal\t|Jewel\t|Spayed Female|\n",
    "|A350375\t|Cat\t|2017-03-06 15:01:00\t|Normal\t|Meo\t|Neutered Male|\n",
    "|A352555\t|Dog\t|2014-08-08 04:20:00\t|Normal\t|Harley\t|Spayed Female|"
   ]
  },
  {
   "cell_type": "code",
   "execution_count": null,
   "id": "fb70964a-013f-47bf-8bc4-dccbc962a215",
   "metadata": {},
   "outputs": [],
   "source": [
    "SELECT *\n",
    "FROM ANIMAL_INS\n",
    "ORDER BY ANIMAL_ID\n",
    ";"
   ]
  },
  {
   "cell_type": "markdown",
   "id": "78e3e9ed-3a73-4b75-b654-1154ab994562",
   "metadata": {},
   "source": [
    "# 역순 정렬하기"
   ]
  },
  {
   "cell_type": "markdown",
   "id": "5afae574-2617-4fe7-b537-f2d0139923f1",
   "metadata": {},
   "source": [
    "동물 보호소에 들어온 모든 동물의 이름과 보호 시작일을 조회하는 SQL문을 작성해주세요. 이때 결과는 ANIMAL_ID 역순으로 보여주세요. SQL을 실행하면 다음과 같이 출력되어야 합니다.\n",
    "\n",
    "|NAME\t|DATETIME|\n",
    "|---|----|\n",
    "|Rocky\t|2016-06-07 09:17:00|\n",
    "|Shelly\t|2015-01-29 15:01:00|\n",
    "|Benji\t|2016-04-19 13:28:00|\n",
    "|Jackie\t|2016-01-03 16:25:00|\n",
    "|*Sam\t|2016-03-13 11:17:00|"
   ]
  },
  {
   "cell_type": "code",
   "execution_count": null,
   "id": "1b1eb8a5-a5f9-422f-af32-033a5f811b2d",
   "metadata": {},
   "outputs": [],
   "source": [
    "SELECT NAME, DATETIME\n",
    "FROM ANIMAL_INS\n",
    "ORDER BY ANIMAL_ID DESC\n",
    ";"
   ]
  },
  {
   "cell_type": "markdown",
   "id": "4c0af1a4-d339-4c31-93cc-07a09031017d",
   "metadata": {},
   "source": [
    "# 아픈 동물 찾기"
   ]
  },
  {
   "cell_type": "markdown",
   "id": "5130c1a5-cc68-4709-986e-787f8079ca1b",
   "metadata": {},
   "source": [
    "동물 보호소에 들어온 동물 중 아픈 동물1의 아이디와 이름을 조회하는 SQL 문을 작성해주세요. 이때 결과는 아이디 순으로 조회해주세요.\n",
    "\n",
    "예시\n",
    "예를 들어 ANIMAL_INS 테이블이 다음과 같다면\n",
    "\n",
    "|ANIMAL_ID\t|ANIMAL_TYPE\t|DATETIME\t|INTAKE_CONDITION\t|NAME\t|SEX_UPON_INTAKE|\n",
    "|--|--|--|--|--|--|\n",
    "|A365172\t|Dog\t|2014-08-26 12:53:00\t|Normal\t|Diablo\t|Neutered Male|\n",
    "|A367012\t|Dog\t|2015-09-16 09:06:00\t|Sick\t|Miller\t|Neutered Male|\n",
    "|A365302\t|Dog\t|2017-01-08 16:34:00\t|Aged\t|Minnie\t|Spayed Female|\n",
    "|A381217\t|Dog\t|2017-07-08 09:41:00\t|Sick\t|Cherokee\t|Neutered Male|\n",
    "\n",
    "이 중 아픈 동물은 Miller와 Cherokee입니다. 따라서 SQL문을 실행하면 다음과 같이 나와야 합니다.\n",
    "\n",
    "|ANIMAL_ID\t|NAME|\n",
    "|--|--|\n",
    "|A367012\t|Miller|\n",
    "|A381217\t|Cherokee|"
   ]
  },
  {
   "cell_type": "code",
   "execution_count": null,
   "id": "70d34779-0599-4de5-83dc-62ff1365cd85",
   "metadata": {},
   "outputs": [],
   "source": [
    "SELECT ANIMAL_ID, NAME\n",
    "FROM ANIMAL_INS\n",
    "WHERE INTAKE_CONDITION='Sick'\n",
    "ORDER BY ANIMAL_ID\n",
    ";"
   ]
  },
  {
   "cell_type": "markdown",
   "id": "8a5a6eb5-7bf1-4510-b4a9-dcb3fdba14b5",
   "metadata": {},
   "source": [
    "# 어린 동물 찾기"
   ]
  },
  {
   "cell_type": "markdown",
   "id": "ff411efb-0337-4d5e-8a88-a92b9df739a9",
   "metadata": {},
   "source": [
    "동물 보호소에 들어온 동물 중 젊은 동물1의 아이디와 이름을 조회하는 SQL 문을 작성해주세요. 이때 결과는 아이디 순으로 조회해주세요.\n",
    "\n",
    "예시\n",
    "예를 들어 ANIMAL_INS 테이블이 다음과 같다면\n",
    "\n",
    "|ANIMAL_ID\t|ANIMAL_TYPE\t|DATETIME\t|INTAKE_CONDITION\t|NAME\t|SEX_UPON_INTAKE|\n",
    "|--|--|--|--|--|--|\n",
    "|A365172\t|Dog\t|2014-08-26 12:53:00\t|Normal\t|Diablo\t|Neutered Male|\n",
    "|A367012\t|Dog\t|2015-09-16 09:06:00\t|Sick\t|Miller\t|Nutered Male|\n",
    "|A365302\t|Dog\t|2017-01-08 16:34:00\t|Aged\t|Minnie\t|Spayed Female|\n",
    "|A381217\t|Dog\t|2017-07-08 09:41:00\t|Sick\t|Cherokee\t|Neutered Male|\n",
    "\n",
    "이 중 젊은 동물은 Diablo, Miller, Cherokee입니다. 따라서 SQL문을 실행하면 다음과 같이 나와야 합니다.\n",
    "\n",
    "|ANIMAL_ID\t|NAM|\n",
    "|--|--|\n",
    "|A365172\t|Diablo|\n",
    "|A367012\t|Millerf|\n",
    "|A381217\t|Cherokee|"
   ]
  },
  {
   "cell_type": "code",
   "execution_count": null,
   "id": "82988e33-f2de-427a-afe8-c52e8fda70e4",
   "metadata": {},
   "outputs": [],
   "source": [
    "SELECT ANIMAL_ID, NAME\n",
    "FROM ANIMAL_INS\n",
    "WHERE INTAKE_CONDITION!='Aged'\n",
    "ORDER BY ANIMAL_ID\n",
    ";"
   ]
  },
  {
   "cell_type": "markdown",
   "id": "ac602361-b733-4620-8173-8cb70cb7b1dc",
   "metadata": {},
   "source": [
    "# 동물의 아이디와 이름 "
   ]
  },
  {
   "cell_type": "markdown",
   "id": "1a03e5aa-6383-4539-b0ee-0c2201cfec54",
   "metadata": {},
   "source": [
    "동물 보호소에 들어온 모든 동물의 아이디와 이름을 ANIMAL_ID순으로 조회하는 SQL문을 작성해주세요. SQL을 실행하면 다음과 같이 출력되어야 합니다.\n",
    "\n",
    "|ANIMAL_ID\t|NAME|\n",
    "|--|--|\n",
    "|A349996\t|Sugar|\n",
    "|A350276\t|Jewel|\n",
    "|A350375\t|Meo|\n",
    "|A352555\t|Harley|\n",
    "|A352713\t|Gia|\n",
    "|A352872\t|Peanutbutter|\n",
    "|A353259\t|Bjf|"
   ]
  },
  {
   "cell_type": "code",
   "execution_count": null,
   "id": "3154b8c1-87c2-47ee-88ab-0315f1e3ed74",
   "metadata": {},
   "outputs": [],
   "source": [
    "SELECT ANIMAL_ID, NAME\n",
    "FROM ANIMAL_INS\n",
    "ORDER BY ANIMAL_ID\n",
    ";"
   ]
  },
  {
   "cell_type": "markdown",
   "id": "ccfb446e-81ee-40d7-9954-60d5e4e2e3aa",
   "metadata": {},
   "source": [
    "# 여러 기준으로 정렬하기"
   ]
  },
  {
   "cell_type": "markdown",
   "id": "dd865199-0567-492c-a66c-e43ab61d7aa8",
   "metadata": {},
   "source": [
    "동물 보호소에 들어온 모든 동물의 아이디와 이름, 보호 시작일을 이름 순으로 조회하는 SQL문을 작성해주세요. 단, 이름이 같은 동물 중에서는 보호를 나중에 시작한 동물을 먼저 보여줘야 합니다.\n",
    "\n",
    "예를 들어, ANIMAL_INS 테이블이 다음과 같다면\n",
    "\n",
    "|ANIMAL_ID\t|ANIMAL_TYPE\t|DATETIME\t|INTAKE_CONDITION\t|NAME\t|SEX_UPON_INTAKE|\n",
    "|--|--|--|--|--|--|\n",
    "|A349996\t|Cat\t|2018-01-22 14:32:00\t|Normal\t|Sugar\t|Neutered Male|\n",
    "|A350276\t|Cat\t|2017-08-13 13:50:00\t|Normal\t|Jewel\t|Spayed Female|\n",
    "|A396810\t|Dog\t|2016-08-22 16:13:00\t|Injured\t|Raven\t|Spayed Female|\n",
    "|A410668\t|Cat\t|2015-11-19 13:41:00\t|Normal\t|Raven\t|Spayed Female|\n",
    "\n",
    "이름을 사전 순으로 정렬하면 다음과 같으며, 'Jewel', 'Raven', 'Sugar', 'Raven'이라는 이름을 가진 개와 고양이가 있으므로, 이 중에서는 보호를 나중에 시작한 개를 먼저 조회합니다.\n",
    "따라서 SQL문을 실행하면 다음과 같이 나와야 합니다.\n",
    "\n",
    "|ANIMAL_ID\t|NAME\t|DATETIME|\n",
    "|--|--|--|\n",
    "|A350276\t|Jewel\t|2017-08-13 13:50:00|\n",
    "|A396810\t|Raven\t|2016-08-22 16:13:00|\n",
    "|A410668\t|Raven\t|2015-11-19 13:41:00|\n",
    "|A349996\t|Sugar\t|2018-01-22 14:32:00|"
   ]
  },
  {
   "cell_type": "code",
   "execution_count": null,
   "id": "c7e08211-c9b1-4d6b-afdd-70990aee6f5d",
   "metadata": {},
   "outputs": [],
   "source": [
    "SELECT ANIMAL_ID, NAME, DATETIME\n",
    "FROM ANIMAL_INS\n",
    "ORDER BY NAME, DATETIME DESC\n",
    ";"
   ]
  },
  {
   "cell_type": "markdown",
   "id": "0982f464-6445-4c31-90da-1e2118ebfd0b",
   "metadata": {},
   "source": [
    "# 상위 n개 레코드"
   ]
  },
  {
   "cell_type": "markdown",
   "id": "88980747-979c-4695-b643-ee3dab27aa93",
   "metadata": {},
   "source": [
    "동물 보호소에 가장 먼저 들어온 동물의 이름을 조회하는 SQL 문을 작성해주세요.\n",
    "\n",
    "예를 들어 ANIMAL_INS 테이블이 다음과 같다면\n",
    "\n",
    "|ANIMAL_ID\t|ANIMAL_TYPE\t|DATETIME\t|INTAKE_CONDITION\t|NAME\t|SEX_UPON_INTAKE|\n",
    "|--|--|--|--|--|--|\n",
    "|A399552\t|Dog\t|2013-10-14 15:38:00\t|Normal\t|Jack\t|Neutered Male|\n",
    "|A379998\t|Dog\t|2013-10-23 11:42:00\t|Normal\t|Disciple\t|Intact Male|\n",
    "|A370852\t|Dog\t|2013-11-03 15:04:00\t|Normal\t|Katie\t|Spayed Female|\n",
    "|A403564\t|Dog\t|2013-11-18 17:03:00\t|Normal\t|Anna\t|Spayed Female|\n",
    "\n",
    "이 중 가장 보호소에 먼저 들어온 동물은 Jack입니다. 따라서 SQL문을 실행하면 다음과 같이 나와야 합니다.\n",
    "\n",
    "|NAME|\n",
    "|--|\n",
    "|Jack|\n",
    "\n",
    "※ 보호소에 가장 먼저 들어온 동물은 한 마리인 경우만 테스트 케이스로 주어집니다."
   ]
  },
  {
   "cell_type": "code",
   "execution_count": null,
   "id": "6f6a0c37-82cb-44e1-88fd-b5f70ec4ad48",
   "metadata": {},
   "outputs": [],
   "source": [
    "SELECT NAME\n",
    "FROM ANIMAL_INS\n",
    "ORDER BY DATETIME \n",
    "LIMIT 1\n",
    ";\n",
    "\n",
    "## MySQL에는 TOP -> LIMIT 을 사용함"
   ]
  }
 ],
 "metadata": {
  "kernelspec": {
   "display_name": "Python 3 (ipykernel)",
   "language": "python",
   "name": "python3"
  },
  "language_info": {
   "codemirror_mode": {
    "name": "ipython",
    "version": 3
   },
   "file_extension": ".py",
   "mimetype": "text/x-python",
   "name": "python",
   "nbconvert_exporter": "python",
   "pygments_lexer": "ipython3",
   "version": "3.9.7"
  }
 },
 "nbformat": 4,
 "nbformat_minor": 5
}
