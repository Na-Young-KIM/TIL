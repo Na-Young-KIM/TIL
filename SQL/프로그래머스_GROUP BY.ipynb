{
 "cells": [
  {
   "cell_type": "markdown",
   "id": "373977b7-d8fc-4b80-8457-6a756f8bacdd",
   "metadata": {},
   "source": [
    "# ANIMAL_INS 테이플\n",
    "ANIMAL_INS 테이블은 동물 보호소에 들어온 동물의 정보를 담은 테이블입니다. ANIMAL_INS 테이블 구조는 다음과 같으며, ANIMAL_ID, ANIMAL_TYPE, DATETIME, INTAKE_CONDITION, NAME, SEX_UPON_INTAKE는 각각 동물의 아이디, 생물 종, 보호 시작일, 보호 시작 시 상태, 이름, 성별 및 중성화 여부를 나타냅니다.\n",
    "\n",
    "|NAME|TYPE|NULLABLE|\n",
    "|---|----|---|\n",
    "|ANIMAL_ID|VARCHAR(N)|FALSE|\n",
    "|ANIMAL_TYPE|VARCHAR(N)|FALSE|\n",
    "|DATETIME|DATETIME   |FALSE|\n",
    "|INTAKE_CONDITION|VARCHAR(N)|FALSE|\n",
    "|NAME|VARCHAR(N)|TRUE|\n",
    "|SEX_UPON_INTAKE |VARCHAR(N)|FALSE| "
   ]
  },
  {
   "cell_type": "markdown",
   "id": "0e489fed-283d-4a4e-aedd-da8f890e75c9",
   "metadata": {},
   "source": [
    "## 고양이와 개는 몇 마리 있을까\n",
    "\n",
    "동물 보호소에 들어온 동물 중 고양이와 개가 각각 몇 마리인지 조회하는 SQL문을 작성해주세요. 이때 고양이를 개보다 먼저 조회해주세요.\n",
    "\n",
    "예를 들어 ANIMAL_INS 테이블이 다음과 같다면\n",
    "\n",
    "|ANIMAL_ID\t|ANIMAL_TYPE\t|DATETIME\t|INTAKE_CONDITION\t|NAME\t|SEX_UPON_INTAKE|\n",
    "|-|-|-|-|-|-|\n",
    "|A373219\t|Cat\t|2014-07-29 11:43:00\t|Normal\t|Ella\t|Spayed Female|\n",
    "|A377750\t|Dog\t|2017-10-25 17:17:00\t|Normal\t|Lucy\t|Spayed Female|\n",
    "|A354540\t|Cat\t|2014-12-11 11:48:00\t|Normal\t|Tux\t|Neutered Male|\n",
    "\n",
    "고양이는 2마리, 개는 1마리 들어왔습니다. 따라서 SQL문을 실행하면 다음과 같이 나와야 합니다.\n",
    "\n",
    "|ANIMAL_TYPE\t|count|\n",
    "|-|-|\n",
    "|Cat\t|2|\n",
    "|Dog\t|1|"
   ]
  },
  {
   "cell_type": "code",
   "execution_count": null,
   "id": "50ec68be-7e85-4d84-9d55-38493e936476",
   "metadata": {},
   "outputs": [],
   "source": [
    "SELECT ANIMAL_TYPE, count(ANIMAL_ID) as count\n",
    "FROM ANIMAL_INS\n",
    "GROUP BY ANIMAL_TYPE\n",
    "ORDER BY ANIMAL_TYPE\n",
    ";"
   ]
  },
  {
   "cell_type": "markdown",
   "id": "6cf1cb08-fdb4-470c-8339-49a9540ce4cb",
   "metadata": {
    "tags": []
   },
   "source": [
    "## 동명 동물 수 찾기\n",
    "\n",
    "동물 보호소에 들어온 동물 이름 중 두 번 이상 쓰인 이름과 해당 이름이 쓰인 횟수를 조회하는 SQL문을 작성해주세요. 이때 결과는 이름이 없는 동물은 집계에서 제외하며, 결과는 이름 순으로 조회해주세요.\n",
    "\n",
    "예를 들어 ANIMAL_INS 테이블이 다음과 같다면\n",
    "\n",
    "|ANIMAL_ID\t|ANIMAL_TYPE\t|DATETIME\t|INTAKE_CONDITION\t|NAME\t|SEX_UPON_INTAKE|\n",
    "|-|-|-|-|-|-|\n",
    "|A396810\t|Dog\t|2016-08-22 16:13:00\t|Injured\t|Raven\t|Spayed Female|\n",
    "|A377750\t|Dog\t|2017-10-25 17:17:00\t|Normal\t|Lucy\t|Spayed Female|\n",
    "|A355688\t|Dog\t|2014-01-26 13:48:00\t|Normal\t|Shadow\t|Neutered Male|\n",
    "|A399421\t|Dog\t|2015-08-25 14:08:00\t|Normal\t|Lucy\t|Spayed Female|\n",
    "|A400680\t|Dog\t|2017-06-17 13:29:00\t|Normal\t|Lucy\t|Spayed Female|\n",
    "|A410668\t|Cat\t|2015-11-19 13:41:00\t|Normal\t|Raven\t|Spayed Female|\n",
    "\n",
    "Raven 이름은 2번 쓰였습니다.\n",
    "Lucy 이름은 3번 쓰였습니다\n",
    "Shadow 이름은 1번 쓰였습니다.\n",
    "따라서 SQL문을 실행하면 다음과 같이 나와야 합니다.\n",
    "\n",
    "|NAME\t|COUNT|\n",
    "|-|-|\n",
    "|Lucy\t|3|\n",
    "|Raven\t|2|"
   ]
  },
  {
   "cell_type": "code",
   "execution_count": null,
   "id": "148bc888-c114-4b2b-9060-2086ce8bbdb8",
   "metadata": {},
   "outputs": [],
   "source": [
    "SELECT NAME, COUNT(ANIMAL_ID) as COUNT\n",
    "FROM ANIMAL_INS\n",
    "WHERE NAME is not NULL\n",
    "GROUP BY NAME\n",
    "HAVING COUNT>=2\n",
    "ORDER BY NAME\n",
    ";"
   ]
  },
  {
   "cell_type": "markdown",
   "id": "e1127292-8f5f-417b-88df-5027d10f4546",
   "metadata": {},
   "source": [
    "# ANIMAL_OUTS 테이블\n",
    "\n",
    "ANIMAL_OUTS 테이블은 동물 보호소에서 입양 보낸 동물의 정보를 담은 테이블입니다. ANIMAL_OUTS 테이블 구조는 다음과 같으며, ANIMAL_ID, ANIMAL_TYPE, DATETIME, NAME, SEX_UPON_OUTCOME는 각각 동물의 아이디, 생물 종, 입양일, 이름, 성별 및 중성화 여부를 나타냅니다.\n",
    "\n",
    "|NAME\t|TYPE\t|NULLABLE|\n",
    "|-|-|-|\n",
    "|ANIMAL_ID\t|VARCHAR(N)\t|FALSE|\n",
    "|ANIMAL_TYPE\t|VARCHAR(N)\t|FALSE|\n",
    "|DATETIME\t|DATETIME\t|FALSE|\n",
    "|NAME\t|VARCHAR(N)\t|TRUE|\n",
    "|SEX_UPON_OUTCOME\t|VARCHAR(N)\t|FALSE|"
   ]
  },
  {
   "cell_type": "markdown",
   "id": "964fd62c-d3a6-44d6-a2d3-acc5ab9ffc9f",
   "metadata": {},
   "source": [
    "## 입양 시각 구하기 (1)\n",
    "보호소에서는 몇 시에 입양이 가장 활발하게 일어나는지 알아보려 합니다. 09:00부터 19:59까지, 각 시간대별로 입양이 몇 건이나 발생했는지 조회하는 SQL문을 작성해주세요. 이때 결과는 시간대 순으로 정렬해야 합니다.\n",
    "\n",
    "SQL문을 실행하면 다음과 같이 나와야 합니다.\n",
    "\n",
    "|HOUR\t|COUNT|\n",
    "|-|-|\n",
    "|9\t|1|\n",
    "|10\t|2|\n",
    "|11\t|13|\n",
    "|12\t|10|\n",
    "|13\t|14|\n",
    "|14\t|9|\n",
    "|15\t|7|\n",
    "|16\t|10|\n",
    "|17\t|12\n",
    "|18\t|16\n",
    "|19\t|2"
   ]
  },
  {
   "cell_type": "code",
   "execution_count": null,
   "id": "395b1e2b-7a96-4077-926a-bc5b25daef00",
   "metadata": {},
   "outputs": [],
   "source": [
    "SELECT HOUR(DATETIME) as HOUR, COUNT(*) as COUNT\n",
    "FROM ANIMAL_OUTS\n",
    "WHERE HOUR(DATETIME)>=9 and HOUR(DATETIME)<20\n",
    "GROUP BY HOUR\n",
    "ORDER BY HOUR\n",
    ";"
   ]
  }
 ],
 "metadata": {
  "kernelspec": {
   "display_name": "Python 3 (ipykernel)",
   "language": "python",
   "name": "python3"
  },
  "language_info": {
   "codemirror_mode": {
    "name": "ipython",
    "version": 3
   },
   "file_extension": ".py",
   "mimetype": "text/x-python",
   "name": "python",
   "nbconvert_exporter": "python",
   "pygments_lexer": "ipython3",
   "version": "3.9.7"
  }
 },
 "nbformat": 4,
 "nbformat_minor": 5
}
