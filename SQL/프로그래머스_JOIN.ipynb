{
 "cells": [
  {
   "cell_type": "markdown",
   "id": "bae96e99-9aa3-48be-b40d-e263bb4384e9",
   "metadata": {
    "jp-MarkdownHeadingCollapsed": true,
    "tags": []
   },
   "source": [
    "# ANIMAL_INS 테이블\n",
    "\n",
    "ANIMAL_INS 테이블은 동물 보호소에 들어온 동물의 정보를 담은 테이블입니다. ANIMAL_INS 테이블 구조는 다음과 같으며, ANIMAL_ID, ANIMAL_TYPE, DATETIME, INTAKE_CONDITION, NAME, SEX_UPON_INTAKE는 각각 동물의 아이디, 생물 종, 보호 시작일, 보호 시작 시 상태, 이름, 성별 및 중성화 여부를 나타냅니다.  \n",
    "\n",
    "|NAME\t|TYPE\t|NULLABLE|\n",
    "|-|-|-|\n",
    "|ANIMAL_ID\t|VARCHAR(N)\t|FALSE|\n",
    "|ANIMAL_TYPE\t|VARCHAR(N)\t|FALSE|\n",
    "|DATETIME\t|DATETIME\t|FALSE|\n",
    "|INTAKE_CONDITION\t|VARCHAR(N)\t|FALSE|\n",
    "|NAME\t|VARCHAR(N)\t|TRUE|\n",
    "|SEX_UPON_INTAKE\t|VARCHAR(N)\t|FALSE|"
   ]
  },
  {
   "cell_type": "markdown",
   "id": "a5f15db8-f55f-4292-a03d-b64359d0b184",
   "metadata": {
    "tags": []
   },
   "source": [
    "# ANIMAL_OUTS 테이블\n",
    "ANIMAL_OUTS 테이블은 동물 보호소에서 입양 보낸 동물의 정보를 담은 테이블입니다. ANIMAL_OUTS 테이블 구조는 다음과 같으며, ANIMAL_ID, ANIMAL_TYPE, DATETIME, NAME, SEX_UPON_OUTCOME는 각각 동물의 아이디, 생물 종, 입양일, 이름, 성별 및 중성화 여부를 나타냅니다.  \n",
    "ANIMAL_OUTS 테이블의 ANIMAL_ID는 ANIMAL_INS의 ANIMAL_ID의 외래 키입니다.\n",
    "\n",
    "|NAME\t|TYPE\t|NULLABLE|\n",
    "|-|-|-|\n",
    "|ANIMAL_ID\t|VARCHAR(N)\t|FALSE|\n",
    "|ANIMAL_TYPE\t|VARCHAR(N)\t|FALSE|\n",
    "|DATETIME\t|DATETIME\t|FALSE|\n",
    "|NAME\t|VARCHAR(N)\t|TRUE|\n",
    "|SEX_UPON_OUTCOME\t|VARCHAR(N)\t|FALSE|"
   ]
  },
  {
   "cell_type": "markdown",
   "id": "bcc7a496-7b0b-4c01-99a7-593026c39940",
   "metadata": {},
   "source": [
    "## 1. 없어진 기록 찾기\n",
    "천재지변으로 인해 일부 데이터가 유실되었습니다. 입양을 간 기록은 있는데, 보호소에 들어온 기록이 없는 동물의 ID와 이름을 ID 순으로 조회하는 SQL문을 작성해주세요.\n",
    "\n",
    "<예시>  \n",
    "예를 들어, ANIMAL_INS 테이블과 ANIMAL_OUTS 테이블이 다음과 같다면\n",
    "\n",
    "ANIMAL_INS\n",
    "\n",
    "|ANIMAL_ID\t|ANIMAL_TYPE\t|DATETIME\t|INTAKE_CONDITION\t|NAME\t|SEX_UPON_INTAKE|\n",
    "|-|-|-|-|-|-|\n",
    "|A352713\t|Cat\t|2017-04-13 16:29:00\t|Normal\t|Gia\t|Spayed Female|\n",
    "|A350375\t|Cat\t|2017-03-06 15:01:00\t|Normal\t|Meo\t|Neutered Male|\n",
    "\n",
    "ANIMAL_OUTS\n",
    "\n",
    "|ANIMAL_ID\t|ANIMAL_TYPE\t|DATETIME\t|NAME\t|SEX_UPON_OUTCOME|\n",
    "|-|-|-|-|-|\n",
    "|A349733\t|Dog\t|2017-09-27 19:09:00\t|Allie\t|Spayed Female|\n",
    "|A352713\t|Cat\t|2017-04-25 12:25:00\t|Gia\t|Spayed Female|\n",
    "|A349990\t|Cat\t|2018-02-02 14:18:00\t|Spice\t|Spayed Female|\n",
    "\n",
    "ANIMAL_OUTS 테이블에서\n",
    "\n",
    "- Allie의 ID는 ANIMAL_INS에 없으므로, Allie의 데이터는 유실되었습니다.\n",
    "- Gia의 ID는 ANIMAL_INS에 있으므로, Gia의 데이터는 유실되지 않았습니다.\n",
    "- Spice의 ID는 ANIMAL_INS에 없으므로, Spice의 데이터는 유실되었습니다.  \n",
    "\n",
    "따라서 SQL문을 실행하면 다음과 같이 나와야 합니다.\n",
    "\n",
    "|ANIMAL_ID\t|NAME|\n",
    "|-|-|\n",
    "|A349733\tAllie|\n",
    "|A349990\tSpice|\n"
   ]
  },
  {
   "cell_type": "markdown",
   "id": "9c20efdf-aec6-4b9c-b526-8a4aea56f7af",
   "metadata": {},
   "source": [
    "< 풀이 > \n",
    "```sql\n",
    "SELECT B.ANIMAL_ID, B.NAME\n",
    "FROM ANIMAL_OUTS as B LEFT OUTER JOIN ANIMAL_INS as A\n",
    "ON A.ANIMAL_ID = B.ANIMAL_ID\n",
    "WHERE A.ANIMAL_ID IS NULL\n",
    "ORDER BY ANIMAL_ID\n",
    ";\n",
    "```"
   ]
  },
  {
   "cell_type": "markdown",
   "id": "0ac2ec70-7b42-4550-bf93-610fc5030038",
   "metadata": {},
   "source": [
    "## 2. 있었는데요 없었습니다\n",
    "관리자의 실수로 일부 동물의 입양일이 잘못 입력되었습니다. 보호 시작일보다 입양일이 더 빠른 동물의 아이디와 이름을 조회하는 SQL문을 작성해주세요. 이때 결과는 보호 시작일이 빠른 순으로 조회해야합니다.\n",
    "\n",
    "예시\n",
    "예를 들어, ANIMAL_INS 테이블과 ANIMAL_OUTS 테이블이 다음과 같다면\n",
    "\n",
    "ANIMAL_INS\n",
    "\n",
    "|ANIMAL_ID\t|ANIMAL_TYPE\t|DATETIME\t|INTAKE_CONDITION\t|NAME\t|SEX_UPON_INTAKE|\n",
    "|-|-|-|-|-|-|\n",
    "|A350276\t|Cat\t|2017-08-13 13:50:00\t|Normal\t|Jewel\t|Spayed Female|\n",
    "|A381217\t|Dog\t|2017-07-08 09:41:00\t|Sick\t|Cherokee\t|Neutered Male|\n",
    "\n",
    "ANIMAL_OUTS\n",
    "\n",
    "|ANIMAL_ID\t|ANIMAL_TYPE\t|DATETIME\t|NAME\t|SEX_UPON_OUTCOME|\n",
    "|-|-|-|-|-|\n",
    "|A350276\t|Cat\t|2018-01-28 17:51:00\t|Jewel\t|Spayed Female|\n",
    "|A381217\t|Dog\t|2017-06-09 18:51:00\t|Cherokee\t|Neutered Male|\n",
    "\n",
    "SQL문을 실행하면 다음과 같이 나와야 합니다.\n",
    "\n",
    "|ANIMAL_ID\t|NAME|\n",
    "|-|-|\n",
    "|A381217\t|Cherokee|"
   ]
  },
  {
   "cell_type": "markdown",
   "id": "13fd8ae2-6aaa-4adf-ab04-46127935fe13",
   "metadata": {},
   "source": [
    "<풀이>\n",
    "```sql\n",
    "SELECT B.ANIMAL_ID, B.NAME\n",
    "FROM ANIMAL_INS AS A INNER JOIN ANIMAL_OUTS AS B\n",
    "WHERE A.ANIMAL_ID=B.ANIMAL_ID AND A.DATETIME > B.DATETIME\n",
    "ORDER BY A.DATETIME\n",
    ";\n",
    "```"
   ]
  },
  {
   "cell_type": "markdown",
   "id": "f4358b70-6f8f-40be-9c3f-520f8deb3e22",
   "metadata": {
    "tags": []
   },
   "source": [
    "## 3. 오랜 기간 보호한 동물(1)\n",
    "아직 입양을 못 간 동물 중, 가장 오래 보호소에 있었던 동물 3마리의 이름과 보호 시작일을 조회하는 SQL문을 작성해주세요. 이때 결과는 보호 시작일 순으로 조회해야 합니다.\n",
    "\n",
    "예시\n",
    "예를 들어, ANIMAL_INS 테이블과 ANIMAL_OUTS 테이블이 다음과 같다면\n",
    "\n",
    "ANIMAL_INS  \n",
    "\n",
    "|ANIMAL_ID\t|ANIMAL_TYPE\t|DATETIME\t|INTAKE_CONDITION\t|NAME\t|SEX_UPON_INTAKE|\n",
    "|-|-|-|-|-|-|\n",
    "|A354597\t|Cat\t|2014-05-02 12:16:00\t|Normal\t|Ariel\t|Spayed Female|\n",
    "|A373687\t|Dog\t|2014-03-20 12:31:00\t|Normal\t|Rosie\t|Spayed Female|\n",
    "|A412697\t|Dog\t|2016-01-03 16:25:00\t|Normal\t|Jackie\t|Neutered Male|\n",
    "|A413789\t|Dog\t|2016-04-19 13:28:00\t|Normal\t|Benji\t|Spayed Female|\n",
    "|A414198\t|Dog\t|2015-01-29 15:01:00\t|Normal\t|Shelly\t|Spayed Female|\n",
    "|A368930\t|Dog\t|2014-06-08 13:20:00\t|Normal\t|\t|Spayed Female|\n",
    "\n",
    "ANIMAL_OUTS\n",
    "\n",
    "|ANIMAL_ID\t|ANIMAL_TYPE\t|DATETIME\t|NAME\t|SEX_UPON_OUTCOME|\n",
    "|-|-|-|-|-|\n",
    "|A354597\t|Cat\t|2014-05-02 12:16:00\t|Ariel\t|Spayed Female|\n",
    "|A373687\t|Dog\t|2014-03-20 12:31:00\t|Rosie\t|Spayed Female|\n",
    "|A368930\t|Dog\t|2014-06-13 15:52:00\t|\t|Spayed Female|\n",
    "\n",
    "SQL문을 실행하면 다음과 같이 나와야 합니다.\n",
    "\n",
    "|NAME\t|DATETIME|\n",
    "|-|-|\n",
    "|Shelly\t|2015-01-29 15:01:00|\n",
    "|Jackie\t|2016-01-03 16:25:00|\n",
    "|Benji\t|2016-04-19 13:28:00|\n",
    "\n",
    "※ 입양을 가지 못한 동물이 3마리 이상인 경우만 입력으로 주어집니다."
   ]
  },
  {
   "cell_type": "markdown",
   "id": "75f8ce77-8623-4393-a3b0-1dcc3a430099",
   "metadata": {},
   "source": [
    "<풀이>\n",
    "``` sql\n",
    "SELECT A.NAME, A.DATETIME\n",
    "FROM ANIMAL_INS AS A LEFT OUTER JOIN ANIMAL_OUTS as B\n",
    "ON A.ANIMAL_ID = B.ANIMAL_ID\n",
    "WHERE B.ANIMAL_ID IS NULL\n",
    "ORDER BY A.DATETIME\n",
    "LIMIT 3\n",
    ";\n",
    "```"
   ]
  },
  {
   "cell_type": "markdown",
   "id": "159c3e56-760b-4c78-b7f1-42ab1881398f",
   "metadata": {},
   "source": [
    "## 4. 보호소에서 중성화한 동물\n",
    "보호소에서 중성화 수술을 거친 동물 정보를 알아보려 합니다. 보호소에 들어올 당시에는 중성화1되지 않았지만, 보호소를 나갈 당시에는 중성화된 동물의 아이디와 생물 종, 이름을 조회하는 아이디 순으로 조회하는 SQL 문을 작성해주세요.\n",
    "\n",
    "예시\n",
    "예를 들어, ANIMAL_INS 테이블과 ANIMAL_OUTS 테이블이 다음과 같다면\n",
    "\n",
    "ANIMAL_INS\n",
    "\n",
    "|ANIMAL_ID\t|ANIMAL_TYPE\t|DATETIME\t|INTAKE_CONDITION\t|NAME\t|SEX_UPON_INTAKE|\n",
    "|-|-|-|-|-|-|\n",
    "|A367438\t|Dog\t|2015-09-10 16:01:00\t|Normal\t|Cookie\t|Spayed Female|\n",
    "|A382192\t|Dog\t|2015-03-13 13:14:00\t|Normal\t|Maxwell 2\t|Intact Male|\n",
    "|A405494\t|Dog\t|2014-05-16 14:17:00\t|Normal\t|Kaila\t|Spayed Female|\n",
    "|A410330\t|Dog\t|2016-09-11 14:09:00\t|Sick\t|Chewy\t|Intact Female|\n",
    "\n",
    "ANIMAL_OUTS\n",
    "\n",
    "|ANIMAL_ID\t|ANIMAL_TYPE\t|DATETIME\t|NAME\t|SEX_UPON_OUTCOME|\n",
    "|-|-|-|-|-|\n",
    "|A367438\t|Dog\t|2015-09-12 13:30:00\t|Cookie\t|Spayed Female|\n",
    "|A382192\t|Dog\t|2015-03-16 13:46:00\t|Maxwell 2\t|Neutered Male|\n",
    "|A405494\t|Dog\t|2014-05-20 11:44:00\t|Kaila\t|Spayed Female|\n",
    "|A410330\t|Dog\t|2016-09-13 13:46:00\t|Chewy\t|Spayed Female|\n",
    "\n",
    "Cookie는 보호소에 들어올 당시에 이미 중성화되어있었습니다.  \n",
    "Maxwell 2는 보호소에 들어온 후 중성화되었습니다.  \n",
    "Kaila는 보호소에 들어올 당시에 이미 중성화되어있었습니다.  \n",
    "Chewy는 보호소에 들어온 후 중성화되었습니다.  \n",
    "\n",
    "따라서 SQL문을 실행하면 다음과 같이 나와야 합니다.\n",
    "\n",
    "|ANIMAL_ID\t|ANIMAL_TYPE\t|NAME|\n",
    "|-|-|-|\n",
    "|A382192\t|Dog\t|Maxwell 2|\n",
    "|A410330\t|Dog\t|Chewy|"
   ]
  },
  {
   "cell_type": "markdown",
   "id": "f394f3d8-90da-412c-abb9-ab5fa33e9191",
   "metadata": {},
   "source": [
    "<풀이>\n",
    "``` sql\n",
    "SELECT A.ANIMAL_ID, A.ANIMAL_TYPE, A.NAME\n",
    "FROM ANIMAL_INS AS A INNER JOIN ANIMAL_OUTS AS B\n",
    "ON A.ANIMAL_ID = B.ANIMAL_ID\n",
    "WHERE A.SEX_UPON_INTAKE != B.SEX_UPON_OUTCOME\n",
    "ORDER BY ANIMAL_ID\n",
    ";\n",
    "```"
   ]
  }
 ],
 "metadata": {
  "kernelspec": {
   "display_name": "Python 3 (ipykernel)",
   "language": "python",
   "name": "python3"
  },
  "language_info": {
   "codemirror_mode": {
    "name": "ipython",
    "version": 3
   },
   "file_extension": ".py",
   "mimetype": "text/x-python",
   "name": "python",
   "nbconvert_exporter": "python",
   "pygments_lexer": "ipython3",
   "version": "3.9.7"
  }
 },
 "nbformat": 4,
 "nbformat_minor": 5
}
