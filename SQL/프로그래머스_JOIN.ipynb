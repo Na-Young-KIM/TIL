{
 "cells": [
  {
   "cell_type": "markdown",
   "id": "bae96e99-9aa3-48be-b40d-e263bb4384e9",
   "metadata": {
    "jp-MarkdownHeadingCollapsed": true,
    "tags": []
   },
   "source": [
    "# ANIMAL_INS 테이블\n",
    "\n",
    "ANIMAL_INS 테이블은 동물 보호소에 들어온 동물의 정보를 담은 테이블입니다. ANIMAL_INS 테이블 구조는 다음과 같으며, ANIMAL_ID, ANIMAL_TYPE, DATETIME, INTAKE_CONDITION, NAME, SEX_UPON_INTAKE는 각각 동물의 아이디, 생물 종, 보호 시작일, 보호 시작 시 상태, 이름, 성별 및 중성화 여부를 나타냅니다.  \n",
    "\n",
    "|NAME\t|TYPE\t|NULLABLE|\n",
    "|-|-|-|\n",
    "|ANIMAL_ID\t|VARCHAR(N)\t|FALSE|\n",
    "|ANIMAL_TYPE\t|VARCHAR(N)\t|FALSE|\n",
    "|DATETIME\t|DATETIME\t|FALSE|\n",
    "|INTAKE_CONDITION\t|VARCHAR(N)\t|FALSE|\n",
    "|NAME\t|VARCHAR(N)\t|TRUE|\n",
    "|SEX_UPON_INTAKE\t|VARCHAR(N)\t|FALSE|"
   ]
  },
  {
   "cell_type": "markdown",
   "id": "a5f15db8-f55f-4292-a03d-b64359d0b184",
   "metadata": {
    "tags": []
   },
   "source": [
    "# ANIMAL_OUTS\n",
    "ANIMAL_OUTS 테이블은 동물 보호소에서 입양 보낸 동물의 정보를 담은 테이블입니다. ANIMAL_OUTS 테이블 구조는 다음과 같으며, ANIMAL_ID, ANIMAL_TYPE, DATETIME, NAME, SEX_UPON_OUTCOME는 각각 동물의 아이디, 생물 종, 입양일, 이름, 성별 및 중성화 여부를 나타냅니다.  \n",
    "ANIMAL_OUTS 테이블의 ANIMAL_ID는 ANIMAL_INS의 ANIMAL_ID의 외래 키입니다.\n",
    "\n",
    "|NAME\t|TYPE\t|NULLABLE|\n",
    "|-|-|-|\n",
    "|ANIMAL_ID\t|VARCHAR(N)\t|FALSE|\n",
    "|ANIMAL_TYPE\t|VARCHAR(N)\t|FALSE|\n",
    "|DATETIME\t|DATETIME\t|FALSE|\n",
    "|NAME\t|VARCHAR(N)\t|TRUE|\n",
    "|SEX_UPON_OUTCOME\t|VARCHAR(N)\t|FALSE|"
   ]
  },
  {
   "cell_type": "markdown",
   "id": "bcc7a496-7b0b-4c01-99a7-593026c39940",
   "metadata": {},
   "source": [
    "## 없어진 기록 찾기\n",
    "천재지변으로 인해 일부 데이터가 유실되었습니다. 입양을 간 기록은 있는데, 보호소에 들어온 기록이 없는 동물의 ID와 이름을 ID 순으로 조회하는 SQL문을 작성해주세요.\n",
    "\n",
    "<예시>  \n",
    "예를 들어, ANIMAL_INS 테이블과 ANIMAL_OUTS 테이블이 다음과 같다면\n",
    "\n",
    "ANIMAL_INS\n",
    "\n",
    "|ANIMAL_ID\t|ANIMAL_TYPE\t|DATETIME\t|INTAKE_CONDITION\t|NAME\t|SEX_UPON_INTAKE|\n",
    "|-|-|-|-|-|-|\n",
    "|A352713\t|Cat\t|2017-04-13 16:29:00\t|Normal\t|Gia\t|Spayed Female|\n",
    "|A350375\t|Cat\t|2017-03-06 15:01:00\t|Normal\t|Meo\t|Neutered Male|\n",
    "\n",
    "ANIMAL_OUTS\n",
    "\n",
    "|ANIMAL_ID\t|ANIMAL_TYPE\t|DATETIME\t|NAME\t|SEX_UPON_OUTCOME|\n",
    "|-|-|-|-|-|\n",
    "|A349733\t|Dog\t|2017-09-27 19:09:00\t|Allie\t|Spayed Female|\n",
    "|A352713\t|Cat\t|2017-04-25 12:25:00\t|Gia\t|Spayed Female|\n",
    "|A349990\t|Cat\t|2018-02-02 14:18:00\t|Spice\t|Spayed Female|\n",
    "\n",
    "ANIMAL_OUTS 테이블에서\n",
    "\n",
    "- Allie의 ID는 ANIMAL_INS에 없으므로, Allie의 데이터는 유실되었습니다.\n",
    "- Gia의 ID는 ANIMAL_INS에 있으므로, Gia의 데이터는 유실되지 않았습니다.\n",
    "- Spice의 ID는 ANIMAL_INS에 없으므로, Spice의 데이터는 유실되었습니다.  \n",
    "\n",
    "따라서 SQL문을 실행하면 다음과 같이 나와야 합니다.\n",
    "\n",
    "|ANIMAL_ID\t|NAME|\n",
    "|-|-|\n",
    "|A349733\tAllie|\n",
    "|A349990\tSpice|\n"
   ]
  },
  {
   "cell_type": "markdown",
   "id": "9c20efdf-aec6-4b9c-b526-8a4aea56f7af",
   "metadata": {},
   "source": [
    "< 풀이 > \n",
    "```sql\n",
    "SELECT B.ANIMAL_ID, B.NAME\n",
    "FROM ANIMAL_OUTS as B LEFT OUTER JOIN ANIMAL_INS as A\n",
    "ON A.ANIMAL_ID = B.ANIMAL_ID\n",
    "WHERE A.ANIMAL_ID IS NULL\n",
    "ORDER BY ANIMAL_ID\n",
    ";\n",
    "```"
   ]
  },
  {
   "cell_type": "code",
   "execution_count": null,
   "id": "7e852682-a0ca-452a-901b-4f701ed043c0",
   "metadata": {},
   "outputs": [],
   "source": []
  }
 ],
 "metadata": {
  "kernelspec": {
   "display_name": "Python 3 (ipykernel)",
   "language": "python",
   "name": "python3"
  },
  "language_info": {
   "codemirror_mode": {
    "name": "ipython",
    "version": 3
   },
   "file_extension": ".py",
   "mimetype": "text/x-python",
   "name": "python",
   "nbconvert_exporter": "python",
   "pygments_lexer": "ipython3",
   "version": "3.9.7"
  }
 },
 "nbformat": 4,
 "nbformat_minor": 5
}
