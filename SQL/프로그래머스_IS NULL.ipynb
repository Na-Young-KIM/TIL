{
 "cells": [
  {
   "cell_type": "markdown",
   "id": "be02141b-f430-4ba6-b76a-8e36ac5c104a",
   "metadata": {},
   "source": [
    "# ANIMAL_INS 테이블\n",
    "ANIMAL_INS 테이블은 동물 보호소에 들어온 동물의 정보를 담은 테이블입니다. ANIMAL_INS 테이블 구조는 다음과 같으며, ANIMAL_ID, ANIMAL_TYPE, DATETIME, INTAKE_CONDITION, NAME, SEX_UPON_INTAKE는 각각 동물의 아이디, 생물 종, 보호 시작일, 보호 시작 시 상태, 이름, 성별 및 중성화 여부를 나타냅니다."
   ]
  },
  {
   "cell_type": "markdown",
   "id": "864e51d1-74ed-4bbd-8185-fe7b15150aaf",
   "metadata": {},
   "source": [
    "|NAME\t|TYPE\t|NULLABLE|\n",
    "|-|-|-|\n",
    "|ANIMAL_ID\t|VARCHAR(N)\t|FALSE|\n",
    "|ANIMAL_TYPE\t|VARCHAR(N)\t|FALSE|\n",
    "|DATETIME\t|DATETIME\t|FALSE|\n",
    "|INTAKE_CONDITION\t|VARCHAR(N)\t|FALSE|\n",
    "|NAME\t|VARCHAR(N)\t|TRUE|\n",
    "|SEX_UPON_INTAKE\t|VARCHAR(N)\t|FALSE|"
   ]
  },
  {
   "cell_type": "markdown",
   "id": "c7bbec9e-738e-4237-9925-f87972078d88",
   "metadata": {
    "tags": []
   },
   "source": [
    "## 이름이 없는 동물의 아이디\n",
    "동물 보호소에 들어온 동물 중, 이름이 없는 채로 들어온 동물의 ID를 조회하는 SQL 문을 작성해주세요. 단, ID는 오름차순 정렬되어야 합니다.\n",
    "\n",
    "<예시>\n",
    "\n",
    "예를 들어 ANIMAL_INS 테이블이 다음과 같다면\n",
    "\n",
    "|NIMAL_ID\t|ANIMAL_TYPE\t|DATETIME\t|INTAKE_CONDITION\t|NAME\t|SEX_UPON_INTAKE|\n",
    "|-|-|-|-|-|-|\n",
    "|368930\t|Dog\t|2014-06-08 13:20:00\t|Normal\t|NULL\t|Spayed Female|\n",
    "|524634\t|Dog\t|2015-01-02 18:54:00\t|Normal\t|*Belle\t|Intact Female|\n",
    "|465637\t|Dog\t|2017-06-04 08:17:00\t|Injured\t|*Commander\t|Neutered Male|\n",
    "\n",
    "이름이 없는 채로 들어온 동물의 ID는 A368930입니다. 따라서 SQL을 실행하면 다음과 같이 출력되어야 합니다.\n",
    "\n",
    "|ANIMAL_ID|\n",
    "|-|\n",
    "|A368930|"
   ]
  },
  {
   "cell_type": "markdown",
   "id": "49ad056f-2bb3-4ac3-9881-a29877c185d1",
   "metadata": {},
   "source": [
    "<풀이>\n",
    "```sql\n",
    "SELECT ANIMAL_ID\n",
    "FROM ANIMAL_INS\n",
    "WHERE NAME IS NULL\n",
    "ORDER BY ANIMAL_ID\n",
    ";\n",
    "```"
   ]
  },
  {
   "cell_type": "markdown",
   "id": "309aaabb-3095-415c-bb9e-27b476c646bf",
   "metadata": {},
   "source": [
    "## 이름이 있는 동물의 아이디\n",
    "\n",
    "동물 보호소에 들어온 동물 중, 이름이 있는 동물의 ID를 조회하는 SQL 문을 작성해주세요. 단, ID는 오름차순 정렬되어야 합니다.\n",
    "\n",
    "<예시>\n",
    "\n",
    "예를 들어 ANIMAL_INS 테이블이 다음과 같다면\n",
    "\n",
    "|ANIMAL_ID\t|ANIMAL_TYPE\t|DATETIME\t|INTAKE_CONDITION\t|NAME\t|SEX_UPON_INTAKE|\n",
    "|-|-|-|-|-|-|\n",
    "|A434523\t|Cat\t|2015-11-20 14:18:00\t|Normal\t|NULL\t|Spayed Female|\n",
    "A562649\t|Dog\t|2014-03-20 18:06:00\t|Sick\t|NULL\t|Spayed Female\n",
    "A524634\t|Dog\t|2015-01-02 18:54:00\t|Normal\t|*Belle\t|Intact Female\n",
    "A465637\t|Dog\t|2017-06-04 08:17:00\t|Injured\t|*Commander\t|Neutered Male\n",
    "\n",
    "이름이 있는 동물의 ID는 A524634와 A465637입니다. 따라서 SQL을 실행하면 다음과 같이 출력되어야 합니다.\n",
    "\n",
    "ANIMAL_ID\n",
    "A465637\n",
    "A524634"
   ]
  },
  {
   "cell_type": "markdown",
   "id": "5a9263bf-9fa5-4690-aed5-5c07ce7e4019",
   "metadata": {},
   "source": [
    "<풀이>\n",
    "```sql\n",
    "SELECT ANIMAL_ID\n",
    "FROM ANIMAL_INS\n",
    "WHERE NAME IS NOT NULL\n",
    "ORDER BY ANIMAL_ID\n",
    ";\n",
    "```"
   ]
  },
  {
   "cell_type": "markdown",
   "id": "8195a07e-86b2-4b8c-8e82-f0bea6c8223b",
   "metadata": {},
   "source": [
    "## NULL 처리하기\n",
    "\n",
    "입양 게시판에 동물 정보를 게시하려 합니다. 동물의 생물 종, 이름, 성별 및 중성화 여부를 아이디 순으로 조회하는 SQL문을 작성해주세요. 이때 프로그래밍을 모르는 사람들은 NULL이라는 기호를 모르기 때문에, 이름이 없는 동물의 이름은 \"No name\"으로 표시해 주세요.\n",
    "\n",
    "<예시>\n",
    "\n",
    "예를 들어 ANIMAL_INS 테이블이 다음과 같다면\n",
    "\n",
    "|ANIMAL_ID\t|ANIMAL_TYPE\t|DATETIME\t|INTAKE_CONDITION\t|NAME\t|SEX_UPON_INTAKE|\n",
    "|-|-|-|-|-|-|\n",
    "|A350276\t|Cat\t|2017-08-13 13:50:00\t|Normal\t|Jewel\t|Spayed Female|\n",
    "A350375\t|Cat\t|2017-03-06 15:01:00\t|Normal\t|Meo\t|Neutered Male\n",
    "A368930\t|Dog\t|2014-06-08 13:20:00\t|Normal\t|NULL\t|Spayed Female\n",
    "\n",
    "\n",
    "마지막 줄의 개는 이름이 없기 때문에, 이 개의 이름은 \"No name\"으로 표시합니다. 따라서 SQL문을 실행하면 다음과 같이 나와야 합니다.\n",
    "\n",
    "|ANIMAL_TYPE\t|NAME\t|SEX_UPON_INTAKE|\n",
    "|-|-|-|\n",
    "Cat\t|Jewel\t|Spayed Female\n",
    "Cat\t|Meo\t|Neutered Male\n",
    "Dog\t|No name\t|Spayed Female\n",
    "\n",
    "※ 컬럼 이름은 일치하지 않아도 됩니다."
   ]
  },
  {
   "cell_type": "markdown",
   "id": "ef459d40-0637-45e2-b6d1-06339aa59888",
   "metadata": {},
   "source": [
    "<풀이1 : IFNULL>\n",
    "```sql\n",
    "SELECT ANIMAL_TYPE, IFNULL(NAME, \"No name\") as NAME, SEX_UPON_INTAKE\n",
    "FROM ANIMAL_INS\n",
    "ORDER BY ANIMAL_ID\n",
    ";\n",
    "```"
   ]
  },
  {
   "cell_type": "markdown",
   "id": "b1a9b428-16a6-40c2-a734-337e0c9e6cb9",
   "metadata": {},
   "source": [
    "<풀이2 : CASE>\n",
    "``` sql\n",
    "SELECT ANIMAL_TYPE, CASE WHEN NAME IS NULL THEN \"No name\" ELSE NAME END, SEX_UPON_INTAKE\n",
    "FROM ANIMAL_INS\n",
    "ORDER BY ANIMAL_ID\n",
    ";\n",
    "```"
   ]
  },
  {
   "cell_type": "markdown",
   "id": "73452fb5-0b20-48ca-8d49-652819569e1f",
   "metadata": {},
   "source": [
    "<풀이3 : COALESCE>\n",
    "```sql\n",
    "SELECT ANIMAL_TYPE, COALESCE(NAME,\"No name\") as NAME, SEX_UPON_INTAKE\n",
    "FROM ANIMAL_INS\n",
    "ORDER BY ANIMAL_ID\n",
    ";\n",
    "```"
   ]
  },
  {
   "cell_type": "markdown",
   "id": "d59175bb-5aed-4e50-86e2-f948d7faee2b",
   "metadata": {},
   "source": [
    "<span style=\"color:red\"> ** 정리 ** </span>    \n",
    "**_MySQL에서 NULL인 경우 처리 : IFNULL, CASE, COALESCE_**\n",
    "- IF NULL : 해당 Column의 값이 NULL을 반환할 때, 다른 값으로 출력할 수 있도록 하는 함수\n",
    "\n",
    "  ```sql\n",
    "  SELECT IFNULL(Column명, \"Null일 경우 대체 값\") FROM 테이블명;\n",
    "  ```\n",
    "</br>\n",
    "- CASE : 해당 Column 값을 조건식을 통해 True, False를 판단하여 조건에 맞게 Column값을 변환할 때 사용하는 함수\n",
    "  ```sql\n",
    "  CASE \n",
    "    WHEN 조건식1 THEN 식1\n",
    "    WHEN 조건식2 THEN 식2\n",
    "    ELSE 조건에 맞는경우가 없는 경우 실행할 식\n",
    "  END\n",
    "  ```\n",
    "</br>\n",
    "- COALESCE : 정한 표현식들 중에 NULL이 아닌 첫 번째 값을 반환\n",
    "```sql\n",
    "SELECT COALESCE(Column명1, Column명1이 NULL인 경우 대체할 값)\n",
    "FROM 테이블명\n",
    "```"
   ]
  }
 ],
 "metadata": {
  "kernelspec": {
   "display_name": "Python 3 (ipykernel)",
   "language": "python",
   "name": "python3"
  },
  "language_info": {
   "codemirror_mode": {
    "name": "ipython",
    "version": 3
   },
   "file_extension": ".py",
   "mimetype": "text/x-python",
   "name": "python",
   "nbconvert_exporter": "python",
   "pygments_lexer": "ipython3",
   "version": "3.9.7"
  }
 },
 "nbformat": 4,
 "nbformat_minor": 5
}
