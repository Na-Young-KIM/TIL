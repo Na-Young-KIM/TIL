{
 "cells": [
  {
   "cell_type": "code",
   "execution_count": 1,
   "id": "71208c77-6702-4ed1-9b65-8def75c83596",
   "metadata": {},
   "outputs": [
    {
     "data": {
      "text/html": [
       "<div>\n",
       "<style scoped>\n",
       "    .dataframe tbody tr th:only-of-type {\n",
       "        vertical-align: middle;\n",
       "    }\n",
       "\n",
       "    .dataframe tbody tr th {\n",
       "        vertical-align: top;\n",
       "    }\n",
       "\n",
       "    .dataframe thead th {\n",
       "        text-align: right;\n",
       "    }\n",
       "</style>\n",
       "<table border=\"1\" class=\"dataframe\">\n",
       "  <thead>\n",
       "    <tr style=\"text-align: right;\">\n",
       "      <th></th>\n",
       "      <th>대여일자</th>\n",
       "      <th>대여시간</th>\n",
       "      <th>대여소번호</th>\n",
       "      <th>대여구분코드</th>\n",
       "      <th>성별</th>\n",
       "      <th>연령대코드</th>\n",
       "      <th>이용건수</th>\n",
       "      <th>운동량</th>\n",
       "      <th>탄소량</th>\n",
       "      <th>이동거리</th>\n",
       "      <th>사용시간</th>\n",
       "    </tr>\n",
       "  </thead>\n",
       "  <tbody>\n",
       "    <tr>\n",
       "      <th>0</th>\n",
       "      <td>2021-06-01</td>\n",
       "      <td>0</td>\n",
       "      <td>3541</td>\n",
       "      <td>정기권</td>\n",
       "      <td>F</td>\n",
       "      <td>~10대</td>\n",
       "      <td>1</td>\n",
       "      <td>0.00</td>\n",
       "      <td>0.00</td>\n",
       "      <td>0.00</td>\n",
       "      <td>8</td>\n",
       "    </tr>\n",
       "    <tr>\n",
       "      <th>1</th>\n",
       "      <td>2021-06-01</td>\n",
       "      <td>0</td>\n",
       "      <td>765</td>\n",
       "      <td>정기권</td>\n",
       "      <td>F</td>\n",
       "      <td>~10대</td>\n",
       "      <td>1</td>\n",
       "      <td>27.21</td>\n",
       "      <td>0.35</td>\n",
       "      <td>1526.81</td>\n",
       "      <td>19</td>\n",
       "    </tr>\n",
       "    <tr>\n",
       "      <th>2</th>\n",
       "      <td>2021-06-01</td>\n",
       "      <td>0</td>\n",
       "      <td>2637</td>\n",
       "      <td>정기권</td>\n",
       "      <td>F</td>\n",
       "      <td>~10대</td>\n",
       "      <td>1</td>\n",
       "      <td>41.40</td>\n",
       "      <td>0.37</td>\n",
       "      <td>1608.56</td>\n",
       "      <td>18</td>\n",
       "    </tr>\n",
       "    <tr>\n",
       "      <th>3</th>\n",
       "      <td>2021-06-01</td>\n",
       "      <td>0</td>\n",
       "      <td>2919</td>\n",
       "      <td>정기권</td>\n",
       "      <td>F</td>\n",
       "      <td>~10대</td>\n",
       "      <td>1</td>\n",
       "      <td>0.00</td>\n",
       "      <td>0.00</td>\n",
       "      <td>0.00</td>\n",
       "      <td>75</td>\n",
       "    </tr>\n",
       "    <tr>\n",
       "      <th>4</th>\n",
       "      <td>2021-06-01</td>\n",
       "      <td>0</td>\n",
       "      <td>549</td>\n",
       "      <td>정기권</td>\n",
       "      <td>F</td>\n",
       "      <td>~10대</td>\n",
       "      <td>1</td>\n",
       "      <td>13.04</td>\n",
       "      <td>0.17</td>\n",
       "      <td>731.55</td>\n",
       "      <td>6</td>\n",
       "    </tr>\n",
       "  </tbody>\n",
       "</table>\n",
       "</div>"
      ],
      "text/plain": [
       "         대여일자  대여시간  대여소번호 대여구분코드 성별 연령대코드  이용건수    운동량   탄소량     이동거리  사용시간\n",
       "0  2021-06-01     0   3541    정기권  F  ~10대     1   0.00  0.00     0.00     8\n",
       "1  2021-06-01     0    765    정기권  F  ~10대     1  27.21  0.35  1526.81    19\n",
       "2  2021-06-01     0   2637    정기권  F  ~10대     1  41.40  0.37  1608.56    18\n",
       "3  2021-06-01     0   2919    정기권  F  ~10대     1   0.00  0.00     0.00    75\n",
       "4  2021-06-01     0    549    정기권  F  ~10대     1  13.04  0.17   731.55     6"
      ]
     },
     "execution_count": 1,
     "metadata": {},
     "output_type": "execute_result"
    }
   ],
   "source": [
    "import pandas as pd\n",
    "df =pd.read_csv('https://raw.githubusercontent.com/Datamanim/datarepo/main/bicycle/seoul_bi.csv')\n",
    "df.head()"
   ]
  },
  {
   "cell_type": "code",
   "execution_count": 2,
   "id": "b4a8e43f-7b86-449c-bfe1-f864363e015e",
   "metadata": {},
   "outputs": [
    {
     "name": "stdout",
     "output_type": "stream",
     "text": [
      "          대여일자  데이터개수\n",
      "0   2021-06-01  48081\n",
      "1   2021-06-02  56100\n",
      "2   2021-06-03  18985\n",
      "3   2021-06-04  56788\n",
      "4   2021-06-05  52730\n",
      "5   2021-06-06  47787\n",
      "6   2021-06-07  52623\n",
      "7   2021-06-08  55623\n",
      "8   2021-06-09  54507\n",
      "9   2021-06-10  36992\n",
      "10  2021-06-11  52089\n",
      "11  2021-06-12  48569\n",
      "12  2021-06-13  43131\n",
      "13  2021-06-14  54945\n",
      "\n",
      "3    2021-06-04\n",
      "Name: 대여일자, dtype: object\n"
     ]
    }
   ],
   "source": [
    "## 대여일자별 데이터의 수를 데이터프레임으로 출력하고, 가장 많은 데이터가 있는 날짜를 출력하라\n",
    "\n",
    "df['데이터개수'] = 1\n",
    "result1 = df.groupby('대여일자').count().reset_index()[['대여일자', '데이터개수']]\n",
    "print(result1)\n",
    "print()\n",
    "result2 = result1[result1['데이터개수'] == result1['데이터개수'].max()]['대여일자']\n",
    "print(result2)"
   ]
  },
  {
   "cell_type": "code",
   "execution_count": 3,
   "id": "fc1608ae-6def-4627-84ec-dd59db67a44e",
   "metadata": {},
   "outputs": [
    {
     "data": {
      "text/plain": [
       "day_name\n",
       "Friday       108877\n",
       "Monday       107568\n",
       "Saturday     101299\n",
       "Sunday        90918\n",
       "Thursday      55977\n",
       "Tuesday      103704\n",
       "Wednesday    110607\n",
       "Name: 데이터개수, dtype: int64"
      ]
     },
     "execution_count": 3,
     "metadata": {},
     "output_type": "execute_result"
    }
   ],
   "source": [
    "## 각 일자의 요일을 표기하고 (‘Monday’ ~’Sunday’) ‘day_name’컬럼을 추가하고 이를 이용하여 각 요일별 이용 횟수의 총합을 데이터 프레임으로 출력하라\n",
    "\n",
    "def week_name(x):\n",
    "    week_list = ['Monday' ,'Tuesday', 'Wednesday', 'Thursday', 'Friday', 'Saturday', 'Sunday']\n",
    "    tmp = x.weekday()\n",
    "    return week_list[tmp]\n",
    "\n",
    "df['day_name'] = pd.to_datetime(df['대여일자']).apply(week_name)\n",
    "df.groupby('day_name').count()['데이터개수']"
   ]
  },
  {
   "cell_type": "code",
   "execution_count": 4,
   "id": "3c918aa5-6981-42b1-89f8-edcf8e84f5d7",
   "metadata": {},
   "outputs": [
    {
     "name": "stdout",
     "output_type": "stream",
     "text": [
      "        day_name  대여소번호  size\n",
      "0      Wednesday    502   282\n",
      "2402     Tuesday    502   267\n",
      "4801    Thursday   2715   137\n",
      "7197      Sunday    502   372\n",
      "9611    Saturday    502   378\n",
      "12031     Monday    502   242\n",
      "14453     Friday    502   277\n"
     ]
    }
   ],
   "source": [
    "## 각 요일별 가장 많이 이용한 대여소의 이용횟수와 대여소 번호를 데이터 프레임으로 출력하라\n",
    "\n",
    "tmp = df.groupby(['day_name', '대여소번호']).size().to_frame('size').sort_values(by=['day_name', 'size'], ascending=False).reset_index() \n",
    "result = tmp.drop_duplicates('day_name', keep='first')\n",
    "print(result)"
   ]
  },
  {
   "cell_type": "code",
   "execution_count": 5,
   "id": "f9f6f8c6-57fd-4af3-902b-4aa1d55c5e16",
   "metadata": {},
   "outputs": [
    {
     "data": {
      "text/plain": [
       "정기권         555593\n",
       "일일권         120328\n",
       "단체권           3018\n",
       "일일권(비회원)        11\n",
       "Name: 대여구분코드, dtype: int64"
      ]
     },
     "execution_count": 5,
     "metadata": {},
     "output_type": "execute_result"
    }
   ],
   "source": [
    "df['대여구분코드'].value_counts()"
   ]
  },
  {
   "cell_type": "code",
   "execution_count": 6,
   "id": "7cbb875b-6605-4646-a7e8-32a8468089a7",
   "metadata": {},
   "outputs": [
    {
     "name": "stdout",
     "output_type": "stream",
     "text": [
      "~10대\n"
     ]
    }
   ],
   "source": [
    "## 나이대별 대여구분 코드의 (일일권/전체횟수) 비율을 구한 후 가장 높은 비율을 가지는 나이대를 확인하라. 일일권의 경우 일일권 과 일일권(비회원)을 모두 포함하라\n",
    "\n",
    "# 일일권 개수 구하기\n",
    "tmp1 = df[(df['대여구분코드'] == '일일권') | (df['대여구분코드'] == \"일일권(비회원)\")] \n",
    "tmp1 = tmp1.groupby(['연령대코드']).size().to_frame('일일권').reset_index()\n",
    "\n",
    "# 전체 개수 구하기\n",
    "tmp2 = df.groupby(['연령대코드']).size().to_frame('total').reset_index()\n",
    "tmp2['일일권'] = tmp1['일일권']\n",
    "tmp2['일일권_ratio'] = tmp2['일일권'] / tmp2['total']\n",
    "\n",
    "result = tmp2.sort_values(by='일일권_ratio', ascending=False).iloc[0]['연령대코드']\n",
    "print(result)"
   ]
  },
  {
   "cell_type": "code",
   "execution_count": 7,
   "id": "49521f29-2636-4b2a-b4ae-93e4b137715b",
   "metadata": {},
   "outputs": [
    {
     "name": "stdout",
     "output_type": "stream",
     "text": [
      "  연령대코드         이동거리\n",
      "0   20대  3211.890552\n",
      "1   30대  3341.443859\n",
      "2   40대  3514.857416\n",
      "3   50대  3593.668100\n",
      "4   60대  3538.145737\n",
      "5  70대~  3085.039641\n",
      "6  ~10대  2634.426279\n"
     ]
    }
   ],
   "source": [
    "## 연령대별 평균 이동거리를 구하여라\n",
    "\n",
    "result = df.groupby(['연령대코드']).mean().reset_index()[['연령대코드', '이동거리']]\n",
    "print(result)"
   ]
  },
  {
   "cell_type": "code",
   "execution_count": 8,
   "id": "b44c9825-785d-4fc3-9704-fbd00207abd9",
   "metadata": {},
   "outputs": [
    {
     "name": "stdout",
     "output_type": "stream",
     "text": [
      "1.613\n"
     ]
    }
   ],
   "source": [
    "## 연령대 코드가 20대인 데이터를 추출하고,이동거리값이 추출한 데이터의 이동거리값의 평균 이상인 데이터를 추출한다.\n",
    "## 최종 추출된 데이터를 대여일자, 대여소 번호 순서로 내림차순 정렬 후 1행부터 200행까지의 탄소량의 평균을 소숫점 3째 자리까지 구하여라\n",
    "\n",
    "tmp20 = df[df['연령대코드'] == '20대'] \n",
    "tmp20_1 = tmp20[tmp20['이동거리'] >= tmp20['이동거리'].mean()]\n",
    "\n",
    "tmp20_2 = tmp20_1.sort_values(by=['대여일자', '대여소번호'], ascending=False).head(200)\n",
    "result = round(tmp20_2['탄소량'].astype(float).mean(), 3)\n",
    "print(result)"
   ]
  },
  {
   "cell_type": "code",
   "execution_count": 9,
   "id": "2153345e-2869-4bb2-8e6a-836e64c403e8",
   "metadata": {},
   "outputs": [
    {
     "name": "stdout",
     "output_type": "stream",
     "text": [
      "1.0\n"
     ]
    }
   ],
   "source": [
    "## 6월 7일 ~10대의 “이용건수”의 중앙값은?\n",
    "\n",
    "result = df[(df['대여일자']=='2021-06-07') & (df['연령대코드']=='~10대')]['이용건수'].median()\n",
    "print(result)"
   ]
  },
  {
   "cell_type": "code",
   "execution_count": 10,
   "id": "459e9d15-86f0-4095-a739-fd118d5f0cea",
   "metadata": {},
   "outputs": [
    {
     "data": {
      "text/html": [
       "<div>\n",
       "<style scoped>\n",
       "    .dataframe tbody tr th:only-of-type {\n",
       "        vertical-align: middle;\n",
       "    }\n",
       "\n",
       "    .dataframe tbody tr th {\n",
       "        vertical-align: top;\n",
       "    }\n",
       "\n",
       "    .dataframe thead th {\n",
       "        text-align: right;\n",
       "    }\n",
       "</style>\n",
       "<table border=\"1\" class=\"dataframe\">\n",
       "  <thead>\n",
       "    <tr style=\"text-align: right;\">\n",
       "      <th></th>\n",
       "      <th>대여시간</th>\n",
       "      <th>대여소번호</th>\n",
       "      <th>이용횟수</th>\n",
       "    </tr>\n",
       "  </thead>\n",
       "  <tbody>\n",
       "    <tr>\n",
       "      <th>5671</th>\n",
       "      <td>8</td>\n",
       "      <td>2701</td>\n",
       "      <td>119</td>\n",
       "    </tr>\n",
       "    <tr>\n",
       "      <th>4391</th>\n",
       "      <td>8</td>\n",
       "      <td>646</td>\n",
       "      <td>115</td>\n",
       "    </tr>\n",
       "    <tr>\n",
       "      <th>4748</th>\n",
       "      <td>8</td>\n",
       "      <td>1152</td>\n",
       "      <td>92</td>\n",
       "    </tr>\n",
       "    <tr>\n",
       "      <th>1893</th>\n",
       "      <td>7</td>\n",
       "      <td>259</td>\n",
       "      <td>104</td>\n",
       "    </tr>\n",
       "    <tr>\n",
       "      <th>1865</th>\n",
       "      <td>7</td>\n",
       "      <td>230</td>\n",
       "      <td>77</td>\n",
       "    </tr>\n",
       "    <tr>\n",
       "      <th>2245</th>\n",
       "      <td>7</td>\n",
       "      <td>726</td>\n",
       "      <td>77</td>\n",
       "    </tr>\n",
       "    <tr>\n",
       "      <th>1367</th>\n",
       "      <td>6</td>\n",
       "      <td>2744</td>\n",
       "      <td>45</td>\n",
       "    </tr>\n",
       "    <tr>\n",
       "      <th>626</th>\n",
       "      <td>6</td>\n",
       "      <td>1125</td>\n",
       "      <td>40</td>\n",
       "    </tr>\n",
       "    <tr>\n",
       "      <th>562</th>\n",
       "      <td>6</td>\n",
       "      <td>1028</td>\n",
       "      <td>36</td>\n",
       "    </tr>\n",
       "  </tbody>\n",
       "</table>\n",
       "</div>"
      ],
      "text/plain": [
       "      대여시간  대여소번호  이용횟수\n",
       "5671     8   2701   119\n",
       "4391     8    646   115\n",
       "4748     8   1152    92\n",
       "1893     7    259   104\n",
       "1865     7    230    77\n",
       "2245     7    726    77\n",
       "1367     6   2744    45\n",
       "626      6   1125    40\n",
       "562      6   1028    36"
      ]
     },
     "execution_count": 10,
     "metadata": {},
     "output_type": "execute_result"
    }
   ],
   "source": [
    "## 평일 (월~금) 출근 시간대(오전 6,7,8시)의 대여소별 이용 횟수를 구해서 데이터 프레임 형태로 표현한 후 각 대여시간별 이용 횟수의 상위 3개 대여소와 이용횟수를 출력하라\n",
    "\n",
    "tmp = df[(df['day_name']!='Saturday') & (df['day_name']!='Sunday') & (df['대여시간']>=6) & (df['대여시간']<=8)]\n",
    "tmp2 = tmp.groupby(['대여시간', '대여소번호']).count()['이용건수'].to_frame('이용횟수').reset_index()\n",
    "tmp2.sort_values(by=['대여시간', '이용횟수'], ascending=False).groupby('대여시간').head(3)"
   ]
  },
  {
   "cell_type": "code",
   "execution_count": 11,
   "id": "22b1e82e-1983-4bbd-baa3-49d9ea065e7d",
   "metadata": {},
   "outputs": [
    {
     "data": {
      "text/plain": [
       "5092.139707505305"
      ]
     },
     "execution_count": 11,
     "metadata": {},
     "output_type": "execute_result"
    }
   ],
   "source": [
    "## 이동거리의 평균 이상의 이동거리 값을 가지는 데이터를 추출하여 추출데이터의 이동거리의 표본표준편차 값을 구하여라\n",
    "\n",
    "tmp = df[df['이동거리'] >= df['이동거리'].mean()]\n",
    "tmp['이동거리'].std()"
   ]
  },
  {
   "cell_type": "code",
   "execution_count": 12,
   "id": "0679aafa-9bcc-4fce-a7a2-918e4c4a0040",
   "metadata": {},
   "outputs": [
    {
     "name": "stderr",
     "output_type": "stream",
     "text": [
      "C:\\Users\\ccmedia\\AppData\\Local\\Temp\\ipykernel_9996\\3536601244.py:5: SettingWithCopyWarning: \n",
      "A value is trying to be set on a copy of a slice from a DataFrame\n",
      "\n",
      "See the caveats in the documentation: https://pandas.pydata.org/pandas-docs/stable/user_guide/indexing.html#returning-a-view-versus-a-copy\n",
      "  df['성별'].iloc[i] = 'M'\n",
      "C:\\Users\\ccmedia\\AppData\\Local\\Temp\\ipykernel_9996\\3536601244.py:7: SettingWithCopyWarning: \n",
      "A value is trying to be set on a copy of a slice from a DataFrame\n",
      "\n",
      "See the caveats in the documentation: https://pandas.pydata.org/pandas-docs/stable/user_guide/indexing.html#returning-a-view-versus-a-copy\n",
      "  df['성별'].iloc[i] = 'F'\n"
     ]
    },
    {
     "name": "stdout",
     "output_type": "stream",
     "text": [
      "성별\n",
      "F    3468.575025\n",
      "M    3209.110871\n",
      "Name: 이동거리, dtype: float64\n"
     ]
    }
   ],
   "source": [
    "## 남성(‘M’ or ‘m’)과 여성(‘F’ or ‘f’)의 이동거리값의 평균값을 구하여라\n",
    "\n",
    "for i in range(len(df)):\n",
    "    if df['성별'].iloc[i] == 'm':\n",
    "        df['성별'].iloc[i] = 'M'\n",
    "    elif df['성별'].iloc[i] == 'f':\n",
    "        df['성별'].iloc[i] = 'F'\n",
    "\n",
    "result = df.groupby(['성별']).mean()['이동거리']\n",
    "print(result)"
   ]
  }
 ],
 "metadata": {
  "kernelspec": {
   "display_name": "Python 3 (ipykernel)",
   "language": "python",
   "name": "python3"
  },
  "language_info": {
   "codemirror_mode": {
    "name": "ipython",
    "version": 3
   },
   "file_extension": ".py",
   "mimetype": "text/x-python",
   "name": "python",
   "nbconvert_exporter": "python",
   "pygments_lexer": "ipython3",
   "version": "3.9.12"
  }
 },
 "nbformat": 4,
 "nbformat_minor": 5
}
