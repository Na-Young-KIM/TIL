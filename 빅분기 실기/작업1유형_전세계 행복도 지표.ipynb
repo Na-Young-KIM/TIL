{
 "cells": [
  {
   "cell_type": "code",
   "execution_count": 119,
   "id": "92138999-153f-4603-b6e9-dc5bf4810d62",
   "metadata": {},
   "outputs": [
    {
     "data": {
      "text/html": [
       "<div>\n",
       "<style scoped>\n",
       "    .dataframe tbody tr th:only-of-type {\n",
       "        vertical-align: middle;\n",
       "    }\n",
       "\n",
       "    .dataframe tbody tr th {\n",
       "        vertical-align: top;\n",
       "    }\n",
       "\n",
       "    .dataframe thead th {\n",
       "        text-align: right;\n",
       "    }\n",
       "</style>\n",
       "<table border=\"1\" class=\"dataframe\">\n",
       "  <thead>\n",
       "    <tr style=\"text-align: right;\">\n",
       "      <th></th>\n",
       "      <th>행복랭킹</th>\n",
       "      <th>나라명</th>\n",
       "      <th>점수</th>\n",
       "      <th>상대GDP</th>\n",
       "      <th>사회적지원</th>\n",
       "      <th>행복기대치</th>\n",
       "      <th>선택의 자유도</th>\n",
       "      <th>관대함</th>\n",
       "      <th>부패에 대한인식</th>\n",
       "      <th>년도</th>\n",
       "    </tr>\n",
       "  </thead>\n",
       "  <tbody>\n",
       "    <tr>\n",
       "      <th>0</th>\n",
       "      <td>1</td>\n",
       "      <td>Finland</td>\n",
       "      <td>7.769</td>\n",
       "      <td>1.340</td>\n",
       "      <td>1.587</td>\n",
       "      <td>0.986</td>\n",
       "      <td>0.596</td>\n",
       "      <td>0.153</td>\n",
       "      <td>0.393</td>\n",
       "      <td>2019</td>\n",
       "    </tr>\n",
       "    <tr>\n",
       "      <th>1</th>\n",
       "      <td>2</td>\n",
       "      <td>Denmark</td>\n",
       "      <td>7.600</td>\n",
       "      <td>1.383</td>\n",
       "      <td>1.573</td>\n",
       "      <td>0.996</td>\n",
       "      <td>0.592</td>\n",
       "      <td>0.252</td>\n",
       "      <td>0.410</td>\n",
       "      <td>2019</td>\n",
       "    </tr>\n",
       "    <tr>\n",
       "      <th>2</th>\n",
       "      <td>3</td>\n",
       "      <td>Norway</td>\n",
       "      <td>7.554</td>\n",
       "      <td>1.488</td>\n",
       "      <td>1.582</td>\n",
       "      <td>1.028</td>\n",
       "      <td>0.603</td>\n",
       "      <td>0.271</td>\n",
       "      <td>0.341</td>\n",
       "      <td>2019</td>\n",
       "    </tr>\n",
       "    <tr>\n",
       "      <th>3</th>\n",
       "      <td>4</td>\n",
       "      <td>Iceland</td>\n",
       "      <td>7.494</td>\n",
       "      <td>1.380</td>\n",
       "      <td>1.624</td>\n",
       "      <td>1.026</td>\n",
       "      <td>0.591</td>\n",
       "      <td>0.354</td>\n",
       "      <td>0.118</td>\n",
       "      <td>2019</td>\n",
       "    </tr>\n",
       "    <tr>\n",
       "      <th>4</th>\n",
       "      <td>5</td>\n",
       "      <td>Netherlands</td>\n",
       "      <td>7.488</td>\n",
       "      <td>1.396</td>\n",
       "      <td>1.522</td>\n",
       "      <td>0.999</td>\n",
       "      <td>0.557</td>\n",
       "      <td>0.322</td>\n",
       "      <td>0.298</td>\n",
       "      <td>2019</td>\n",
       "    </tr>\n",
       "  </tbody>\n",
       "</table>\n",
       "</div>"
      ],
      "text/plain": [
       "   행복랭킹          나라명     점수  상대GDP  사회적지원  행복기대치  선택의 자유도    관대함  부패에 대한인식  \\\n",
       "0     1      Finland  7.769  1.340  1.587  0.986    0.596  0.153     0.393   \n",
       "1     2      Denmark  7.600  1.383  1.573  0.996    0.592  0.252     0.410   \n",
       "2     3       Norway  7.554  1.488  1.582  1.028    0.603  0.271     0.341   \n",
       "3     4      Iceland  7.494  1.380  1.624  1.026    0.591  0.354     0.118   \n",
       "4     5  Netherlands  7.488  1.396  1.522  0.999    0.557  0.322     0.298   \n",
       "\n",
       "     년도  \n",
       "0  2019  \n",
       "1  2019  \n",
       "2  2019  \n",
       "3  2019  \n",
       "4  2019  "
      ]
     },
     "execution_count": 119,
     "metadata": {},
     "output_type": "execute_result"
    }
   ],
   "source": [
    "import pandas as pd\n",
    "df =pd.read_csv('https://raw.githubusercontent.com/Datamanim/datarepo/main/happy2/happiness.csv',encoding='utf-8')\n",
    "df.head()"
   ]
  },
  {
   "cell_type": "code",
   "execution_count": 2,
   "id": "45d852d5-d290-401a-b27a-db953802da9d",
   "metadata": {},
   "outputs": [
    {
     "name": "stdout",
     "output_type": "stream",
     "text": [
      "7.259\n"
     ]
    }
   ],
   "source": [
    "## 데이터는 2018년도와 2019년도의 전세계 행복 지수를 표현한다. 각년도의 행복랭킹 10위를 차지한 나라의 행복점수의 평균을 구하여라\n",
    "\n",
    "result = df[df['행복랭킹']==10]['점수'].mean()\n",
    "print(result)"
   ]
  },
  {
   "cell_type": "code",
   "execution_count": 3,
   "id": "d814e2d6-53fe-478d-87e1-d85329b3cd74",
   "metadata": {},
   "outputs": [
    {
     "data": {
      "text/html": [
       "<div>\n",
       "<style scoped>\n",
       "    .dataframe tbody tr th:only-of-type {\n",
       "        vertical-align: middle;\n",
       "    }\n",
       "\n",
       "    .dataframe tbody tr th {\n",
       "        vertical-align: top;\n",
       "    }\n",
       "\n",
       "    .dataframe thead th {\n",
       "        text-align: right;\n",
       "    }\n",
       "</style>\n",
       "<table border=\"1\" class=\"dataframe\">\n",
       "  <thead>\n",
       "    <tr style=\"text-align: right;\">\n",
       "      <th></th>\n",
       "      <th>년도</th>\n",
       "      <th>점수</th>\n",
       "    </tr>\n",
       "  </thead>\n",
       "  <tbody>\n",
       "    <tr>\n",
       "      <th>0</th>\n",
       "      <td>2018</td>\n",
       "      <td>6.64678</td>\n",
       "    </tr>\n",
       "    <tr>\n",
       "      <th>1</th>\n",
       "      <td>2019</td>\n",
       "      <td>6.67002</td>\n",
       "    </tr>\n",
       "  </tbody>\n",
       "</table>\n",
       "</div>"
      ],
      "text/plain": [
       "     년도       점수\n",
       "0  2018  6.64678\n",
       "1  2019  6.67002"
      ]
     },
     "execution_count": 3,
     "metadata": {},
     "output_type": "execute_result"
    }
   ],
   "source": [
    "## 데이터는 2018년도와 2019년도의 전세계 행복 지수를 표현한다. 각년도의 행복랭킹 50위이내의 나라들의 각각의 행복점수 평균을 데이터프레임으로 표시하라\n",
    "\n",
    "df[df['행복랭킹']<=50].groupby('년도').mean().reset_index()[['년도', '점수']]"
   ]
  },
  {
   "cell_type": "code",
   "execution_count": 4,
   "id": "920f4b5e-753b-4f42-92ee-e2be17f2d32b",
   "metadata": {},
   "outputs": [
    {
     "data": {
      "text/plain": [
       "0.40529152271510027"
      ]
     },
     "execution_count": 4,
     "metadata": {},
     "output_type": "execute_result"
    }
   ],
   "source": [
    "## 2018년도 데이터들만 추출하여 행복점수와 부패에 대한 인식에 대한 상관계수를 구하여라\n",
    "\n",
    "df_2018 = df[df['년도']==2018]\n",
    "df_2018[['점수', '부패에 대한인식']].corr().iloc[0,1]"
   ]
  },
  {
   "cell_type": "code",
   "execution_count": 5,
   "id": "ea40361a-f3aa-4307-8c51-0bc53939e710",
   "metadata": {},
   "outputs": [
    {
     "name": "stdout",
     "output_type": "stream",
     "text": [
      "15\n"
     ]
    }
   ],
   "source": [
    "## 2018년도와 2019년도의 행복랭킹이 변화하지 않은 나라명의 수를 구하여라\n",
    "\n",
    "tmp = df.groupby(['행복랭킹', '나라명']).count().reset_index()\n",
    "result = len(tmp[tmp['년도'] >= 2])\n",
    "print(result)"
   ]
  },
  {
   "cell_type": "code",
   "execution_count": 6,
   "id": "0e19218d-5864-46b8-8eb3-1f43b468a243",
   "metadata": {},
   "outputs": [
    {
     "name": "stdout",
     "output_type": "stream",
     "text": [
      "       v1     v2      corr\n",
      "38  행복기대치  상대GDP  0.835462\n",
      "19  상대GDP     점수  0.793883\n",
      "37  행복기대치     점수  0.779883\n",
      "28  사회적지원     점수  0.777058\n",
      "29  사회적지원  상대GDP  0.754906\n"
     ]
    }
   ],
   "source": [
    "## 2019년도 데이터들만 추출하여 각변수간 상관계수를 구하고 내림차순으로 정렬한 후 상위 5개를 데이터 프레임으로 출력하라. 컬럼명은 v1,v2,corr으로 표시하라\n",
    "\n",
    "df_2019 = df[df['년도'] == 2019]\n",
    "tmp = df_2019.corr().unstack().reset_index()\n",
    "tmp = pd.DataFrame({'v1': tmp['level_0'], 'v2': tmp['level_1'], 'corr': tmp[0]})\n",
    "tmp = tmp[tmp['corr']!=1.0]\n",
    "result = tmp.sort_values(by='corr', ascending=False).drop_duplicates('corr').head(5)\n",
    "print(result)"
   ]
  },
  {
   "cell_type": "code",
   "execution_count": 7,
   "id": "f5617232-017c-426f-83dc-29af1e21eae3",
   "metadata": {},
   "outputs": [
    {
     "name": "stdout",
     "output_type": "stream",
     "text": [
      "2018년: 3.1799999999999997\n",
      "2019년: 3.1407999999999996\n"
     ]
    }
   ],
   "source": [
    "## 각 년도별 하위 행복점수의 하위 5개 국가의 평균 행복점수를 구하여라\n",
    "\n",
    "tmp1 = df_2018.sort_values(by='행복랭킹').tail(5)\n",
    "tmp2 = df_2019.sort_values(by='행복랭킹').tail(5)\n",
    "print('2018년:', tmp1['점수'].mean())\n",
    "print('2019년:', tmp2['점수'].mean())"
   ]
  },
  {
   "cell_type": "code",
   "execution_count": 8,
   "id": "999f634b-a892-44ef-b04f-c244d78ef69b",
   "metadata": {},
   "outputs": [
    {
     "name": "stdout",
     "output_type": "stream",
     "text": [
      "1.3904839572192538\n"
     ]
    }
   ],
   "source": [
    "## 2019년 데이터를 추출하고 해당데이터의 상대 GDP 평균 이상의 나라들과 평균 이하의 나라들의 행복점수 평균을 각각 구하고 그 차이값을 출력하라\n",
    "\n",
    "gdp_avg = df_2019['상대GDP'].mean()\n",
    "upper_avg = df_2019[df_2019['상대GDP'] >= gdp_avg]\n",
    "lower_avg = df_2019[df_2019['상대GDP'] <= gdp_avg]\n",
    "\n",
    "result = upper_avg['점수'].mean()-lower_avg['점수'].mean()\n",
    "print(result)"
   ]
  },
  {
   "cell_type": "code",
   "execution_count": 32,
   "id": "f6f5d26c-3ddf-4f74-812e-6706915dec54",
   "metadata": {},
   "outputs": [
    {
     "data": {
      "text/html": [
       "<div>\n",
       "<style scoped>\n",
       "    .dataframe tbody tr th:only-of-type {\n",
       "        vertical-align: middle;\n",
       "    }\n",
       "\n",
       "    .dataframe tbody tr th {\n",
       "        vertical-align: top;\n",
       "    }\n",
       "\n",
       "    .dataframe thead th {\n",
       "        text-align: right;\n",
       "    }\n",
       "</style>\n",
       "<table border=\"1\" class=\"dataframe\">\n",
       "  <thead>\n",
       "    <tr style=\"text-align: right;\">\n",
       "      <th></th>\n",
       "      <th>년도</th>\n",
       "      <th>부패에 대한인식</th>\n",
       "    </tr>\n",
       "  </thead>\n",
       "  <tbody>\n",
       "    <tr>\n",
       "      <th>0</th>\n",
       "      <td>2018</td>\n",
       "      <td>0.3267</td>\n",
       "    </tr>\n",
       "    <tr>\n",
       "      <th>1</th>\n",
       "      <td>2019</td>\n",
       "      <td>0.3201</td>\n",
       "    </tr>\n",
       "  </tbody>\n",
       "</table>\n",
       "</div>"
      ],
      "text/plain": [
       "     년도  부패에 대한인식\n",
       "0  2018    0.3267\n",
       "1  2019    0.3201"
      ]
     },
     "execution_count": 32,
     "metadata": {},
     "output_type": "execute_result"
    }
   ],
   "source": [
    "## 각년도의 부패에 대한인식을 내림차순 정렬했을때 상위 20개 국가의 부패에 대한인식의 평균을 구하여라\n",
    "\n",
    "tmp = df.sort_values(by=['년도', '부패에 대한인식'], ascending=False).groupby(['년도']).head(20)\n",
    "tmp.groupby(['년도']).mean()['부패에 대한인식'].reset_index()"
   ]
  },
  {
   "cell_type": "code",
   "execution_count": 58,
   "id": "ace80ac9-d7f0-4e6b-89b2-137fe3a1469a",
   "metadata": {},
   "outputs": [
    {
     "name": "stdout",
     "output_type": "stream",
     "text": [
      "4\n"
     ]
    }
   ],
   "source": [
    "## 2018년도 행복랭킹 50위 이내에 포함됐다가 2019년 50위 밖으로 밀려난 국가의 숫자를 구하여라\n",
    "\n",
    "in50_2018 = list(df_2018[df_2018['행복랭킹']<=50]['나라명'])\n",
    "in50_2019 = list(df_2019[df_2019['행복랭킹']<=50]['나라명'])\n",
    "result = []\n",
    "\n",
    "for i in range(50):\n",
    "    if in50_2018[i] not in in50_2019:\n",
    "        result.append(in50_2018[i])\n",
    "print(len(result))"
   ]
  },
  {
   "cell_type": "code",
   "execution_count": 127,
   "id": "a77de8bc-9ec2-443d-b844-8b5f455ca41c",
   "metadata": {},
   "outputs": [],
   "source": [
    "## 2018년,2019년 모두 기록이 있는 나라들 중 년도별 행복점수가 가장 증가한 나라와 그 증가 수치는?\n",
    "\n",
    "# 2018, 2019년 모두 데이터가 있는 나라만 추출\n",
    "tmp = df.groupby('나라명').count().reset_index()\n",
    "country_list = list(tmp[tmp['년도'] == 2]['나라명'])\n",
    "df1 = df.copy()  \n",
    "for i in range(len(df)):\n",
    "    if df['나라명'].iloc[i] not in country_list:\n",
    "        df1.drop(i, inplace=True)\n",
    "    else:\n",
    "        pass\n",
    "\n",
    "# 더 쉬운 방법(2018, 2019년 모두 데이터가 있는 나라만 추출)\n",
    "df[df['나라명'].isin(country_list)]\n",
    "    \n",
    "# 2018년 점수를 -로 변환\n",
    "for i in range(len(df1)):\n",
    "    if df1['년도'].iloc[i] == 2018:\n",
    "        df1['점수'].iloc[i] = -df1['점수'].iloc[i]\n",
    "        \n",
    "# groupby로 sum하여 최종 결과 출력\n",
    "result = df1.groupby(['나라명']).sum().reset_index().sort_values(by='점수', ascending=False)\n",
    "result.iloc[0][['나라명', '점수']]"
   ]
  }
 ],
 "metadata": {
  "kernelspec": {
   "display_name": "Python 3 (ipykernel)",
   "language": "python",
   "name": "python3"
  },
  "language_info": {
   "codemirror_mode": {
    "name": "ipython",
    "version": 3
   },
   "file_extension": ".py",
   "mimetype": "text/x-python",
   "name": "python",
   "nbconvert_exporter": "python",
   "pygments_lexer": "ipython3",
   "version": "3.9.12"
  }
 },
 "nbformat": 4,
 "nbformat_minor": 5
}
