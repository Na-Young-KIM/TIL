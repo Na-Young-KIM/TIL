{
 "cells": [
  {
   "cell_type": "code",
   "execution_count": 1,
   "id": "dde861d4-99c7-41ef-a242-cc382631b053",
   "metadata": {},
   "outputs": [
    {
     "data": {
      "text/html": [
       "<div>\n",
       "<style scoped>\n",
       "    .dataframe tbody tr th:only-of-type {\n",
       "        vertical-align: middle;\n",
       "    }\n",
       "\n",
       "    .dataframe tbody tr th {\n",
       "        vertical-align: top;\n",
       "    }\n",
       "\n",
       "    .dataframe thead th {\n",
       "        text-align: right;\n",
       "    }\n",
       "</style>\n",
       "<table border=\"1\" class=\"dataframe\">\n",
       "  <thead>\n",
       "    <tr style=\"text-align: right;\">\n",
       "      <th></th>\n",
       "      <th>측정나이</th>\n",
       "      <th>측정회원성별</th>\n",
       "      <th>신장 : cm</th>\n",
       "      <th>체중 : kg</th>\n",
       "      <th>체지방율 : %</th>\n",
       "      <th>이완기혈압(최저) : mmHg</th>\n",
       "      <th>수축기혈압(최고) : mmHg</th>\n",
       "      <th>악력D : kg</th>\n",
       "      <th>앉아윗몸앞으로굽히기 : cm</th>\n",
       "      <th>교차윗몸일으키기 : 회</th>\n",
       "      <th>제자리 멀리뛰기 : cm</th>\n",
       "      <th>등급</th>\n",
       "    </tr>\n",
       "  </thead>\n",
       "  <tbody>\n",
       "    <tr>\n",
       "      <th>0</th>\n",
       "      <td>59.0</td>\n",
       "      <td>M</td>\n",
       "      <td>175.0</td>\n",
       "      <td>70.6</td>\n",
       "      <td>19.2</td>\n",
       "      <td>91.0</td>\n",
       "      <td>150.0</td>\n",
       "      <td>40.6</td>\n",
       "      <td>12.2</td>\n",
       "      <td>30.0</td>\n",
       "      <td>179.0</td>\n",
       "      <td>C</td>\n",
       "    </tr>\n",
       "    <tr>\n",
       "      <th>1</th>\n",
       "      <td>40.0</td>\n",
       "      <td>F</td>\n",
       "      <td>161.4</td>\n",
       "      <td>45.8</td>\n",
       "      <td>21.7</td>\n",
       "      <td>62.0</td>\n",
       "      <td>119.0</td>\n",
       "      <td>22.1</td>\n",
       "      <td>16.0</td>\n",
       "      <td>32.0</td>\n",
       "      <td>165.0</td>\n",
       "      <td>B</td>\n",
       "    </tr>\n",
       "    <tr>\n",
       "      <th>2</th>\n",
       "      <td>27.0</td>\n",
       "      <td>M</td>\n",
       "      <td>176.6</td>\n",
       "      <td>84.8</td>\n",
       "      <td>19.2</td>\n",
       "      <td>87.0</td>\n",
       "      <td>153.0</td>\n",
       "      <td>45.9</td>\n",
       "      <td>13.2</td>\n",
       "      <td>61.0</td>\n",
       "      <td>216.0</td>\n",
       "      <td>B</td>\n",
       "    </tr>\n",
       "    <tr>\n",
       "      <th>3</th>\n",
       "      <td>38.0</td>\n",
       "      <td>M</td>\n",
       "      <td>167.6</td>\n",
       "      <td>76.7</td>\n",
       "      <td>24.7</td>\n",
       "      <td>63.0</td>\n",
       "      <td>132.0</td>\n",
       "      <td>43.6</td>\n",
       "      <td>16.0</td>\n",
       "      <td>45.0</td>\n",
       "      <td>231.0</td>\n",
       "      <td>A</td>\n",
       "    </tr>\n",
       "    <tr>\n",
       "      <th>4</th>\n",
       "      <td>21.0</td>\n",
       "      <td>M</td>\n",
       "      <td>165.2</td>\n",
       "      <td>66.2</td>\n",
       "      <td>21.5</td>\n",
       "      <td>83.0</td>\n",
       "      <td>106.0</td>\n",
       "      <td>33.5</td>\n",
       "      <td>10.6</td>\n",
       "      <td>46.0</td>\n",
       "      <td>198.0</td>\n",
       "      <td>C</td>\n",
       "    </tr>\n",
       "  </tbody>\n",
       "</table>\n",
       "</div>"
      ],
      "text/plain": [
       "   측정나이 측정회원성별  신장 : cm  체중 : kg  체지방율 : %  이완기혈압(최저) : mmHg  \\\n",
       "0  59.0      M    175.0     70.6      19.2              91.0   \n",
       "1  40.0      F    161.4     45.8      21.7              62.0   \n",
       "2  27.0      M    176.6     84.8      19.2              87.0   \n",
       "3  38.0      M    167.6     76.7      24.7              63.0   \n",
       "4  21.0      M    165.2     66.2      21.5              83.0   \n",
       "\n",
       "   수축기혈압(최고) : mmHg  악력D : kg  앉아윗몸앞으로굽히기 : cm  교차윗몸일으키기 : 회  제자리 멀리뛰기 : cm 등급  \n",
       "0             150.0      40.6             12.2          30.0          179.0  C  \n",
       "1             119.0      22.1             16.0          32.0          165.0  B  \n",
       "2             153.0      45.9             13.2          61.0          216.0  B  \n",
       "3             132.0      43.6             16.0          45.0          231.0  A  \n",
       "4             106.0      33.5             10.6          46.0          198.0  C  "
      ]
     },
     "execution_count": 1,
     "metadata": {},
     "output_type": "execute_result"
    }
   ],
   "source": [
    "import pandas as pd\n",
    "df =pd.read_csv('https://raw.githubusercontent.com/Datamanim/datarepo/main/body/body.csv')\n",
    "df.head()"
   ]
  },
  {
   "cell_type": "code",
   "execution_count": 2,
   "id": "3f4f1f48-cc04-49fd-9a92-6f3388c7c4a4",
   "metadata": {},
   "outputs": [
    {
     "name": "stdout",
     "output_type": "stream",
     "text": [
      "52.19539414750672\n"
     ]
    }
   ],
   "source": [
    "## 전체데이터의 수축기혈압(최고) - 이완기혈압(최저)의 평균을 구하여라\n",
    "\n",
    "result = (df['수축기혈압(최고) : mmHg'] - df['이완기혈압(최저) : mmHg']).mean()\n",
    "print(result)"
   ]
  },
  {
   "cell_type": "code",
   "execution_count": 3,
   "id": "339a0265-82e4-4e21-8068-e8b5b507af1f",
   "metadata": {},
   "outputs": [
    {
     "name": "stdout",
     "output_type": "stream",
     "text": [
      "164.07490107405295\n"
     ]
    }
   ],
   "source": [
    "## 50~59세의 신장평균을 구하여라\n",
    "\n",
    "tmp = df[(df['측정나이']>=50) & (df['측정나이']<=59)]\n",
    "result = tmp['신장 : cm'].mean()\n",
    "print(result)"
   ]
  },
  {
   "cell_type": "code",
   "execution_count": 17,
   "id": "c97420cf-c51b-46c1-aa34-d10c0e4012a1",
   "metadata": {},
   "outputs": [
    {
     "name": "stdout",
     "output_type": "stream",
     "text": [
      "    나이대  count\n",
      "0  20.0   5831\n",
      "1  30.0   2660\n",
      "2  40.0   1801\n",
      "3  50.0   1769\n",
      "4  60.0   1335\n"
     ]
    }
   ],
   "source": [
    "## 연령대 (20~29 : 20대 …) 별 인원수를 구하여라\n",
    "\n",
    "df['나이대'] = df['측정나이']//10*10\n",
    "result = df.groupby('나이대').size().to_frame('count').reset_index()\n",
    "print(result)"
   ]
  },
  {
   "cell_type": "code",
   "execution_count": 21,
   "id": "ed9a30b7-b786-48ea-a655-7eaab091a28d",
   "metadata": {},
   "outputs": [
    {
     "name": "stdout",
     "output_type": "stream",
     "text": [
      "     나이대 등급  count\n",
      "0   20.0  A   1585\n",
      "1   20.0  B   1443\n",
      "2   20.0  C   1455\n",
      "3   20.0  D   1348\n",
      "4   30.0  A    743\n",
      "5   30.0  B    697\n",
      "6   30.0  C    626\n",
      "7   30.0  D    594\n",
      "8   40.0  A    386\n",
      "9   40.0  B    428\n",
      "10  40.0  C    455\n",
      "11  40.0  D    532\n",
      "12  50.0  A    321\n",
      "13  50.0  B    410\n",
      "14  50.0  C    474\n",
      "15  50.0  D    564\n",
      "16  60.0  A    314\n",
      "17  60.0  B    371\n",
      "18  60.0  C    339\n",
      "19  60.0  D    311\n"
     ]
    }
   ],
   "source": [
    "## 연령대 (20~29 : 20대 …) 별 등급의 숫자를 데이터 프레임으로 표현하라\n",
    "\n",
    "result = df.groupby(['나이대', '등급']).size().to_frame('count').reset_index()\n",
    "print(result)"
   ]
  },
  {
   "cell_type": "code",
   "execution_count": 25,
   "id": "d1c4057c-812a-4a3f-a4d7-11d100e7e696",
   "metadata": {},
   "outputs": [
    {
     "name": "stdout",
     "output_type": "stream",
     "text": [
      "7.932086486137457\n"
     ]
    }
   ],
   "source": [
    "## 남성 중 A등급과 D등급의 체지방률 평균의 차이(큰 값에서 작은 값의 차)를 구하여라\n",
    "\n",
    "tmp1 = df[(df['측정회원성별']=='M')&(df['등급']=='A')]\n",
    "tmp2 = df[(df['측정회원성별']=='M')&(df['등급']=='D')]\n",
    "result = abs(tmp1['체지방율 : %'].mean() - tmp2['체지방율 : %'].mean())\n",
    "print(result)"
   ]
  },
  {
   "cell_type": "code",
   "execution_count": 28,
   "id": "60bb3cfa-1279-438b-9890-510f45a157dc",
   "metadata": {},
   "outputs": [
    {
     "name": "stdout",
     "output_type": "stream",
     "text": [
      "5.176211590296511\n"
     ]
    }
   ],
   "source": [
    "## 여성 중 A등급과 D등급의 체중의 평균의 차이(큰 값에서 작은 값의 차)를 구하여라\n",
    "\n",
    "tmp1 = df[(df['측정회원성별']=='F')&(df['등급']=='A')]\n",
    "tmp2 = df[(df['측정회원성별']=='F')&(df['등급']=='D')]\n",
    "result = abs(tmp1['체중 : kg'].mean() - tmp2['체중 : kg'].mean())\n",
    "print(result)"
   ]
  },
  {
   "cell_type": "code",
   "execution_count": 33,
   "id": "deb78ad4-8e05-4993-ad97-d9fd150f3a64",
   "metadata": {},
   "outputs": [
    {
     "name": "stdout",
     "output_type": "stream",
     "text": [
      "24.461344098193027\n"
     ]
    }
   ],
   "source": [
    "## bmi는 자신의 몸무게(kg)를 키의 제곱(m)으로 나눈값이다. 데이터의 bmi 를 구한 새로운 컬럼을 만들고 남성의 bmi 평균을 구하여라\n",
    "df['bmi'] = df['체중 : kg']/((df['신장 : cm']*0.01)**2)\n",
    "tmp = df[df['측정회원성별']=='M']\n",
    "result = tmp['bmi'].mean()\n",
    "print(result)"
   ]
  },
  {
   "cell_type": "code",
   "execution_count": 37,
   "id": "7c5f3afc-e1be-42ad-a516-cdbf5f8a9e0a",
   "metadata": {},
   "outputs": [
    {
     "name": "stdout",
     "output_type": "stream",
     "text": [
      "61.740880639254314\n"
     ]
    }
   ],
   "source": [
    "## bmi보다 체지방율이 높은 사람들의 체중평균을 구하여라\n",
    "\n",
    "result = df[df['bmi'] < df['체지방율 : %']]['체중 : kg'].mean()\n",
    "print(result)"
   ]
  },
  {
   "cell_type": "code",
   "execution_count": 40,
   "id": "89f81ba6-16ee-4880-9a23-5210c6c1b14b",
   "metadata": {},
   "outputs": [
    {
     "name": "stdout",
     "output_type": "stream",
     "text": [
      "17.559541850474677\n"
     ]
    }
   ],
   "source": [
    "## 남성과 여성의 악력 평균의 차이를 구하여라\n",
    "\n",
    "result = df[df['측정회원성별']=='M']['악력D : kg'].mean() - df[df['측정회원성별']=='F']['악력D : kg'].mean()\n",
    "print(result)"
   ]
  },
  {
   "cell_type": "code",
   "execution_count": 42,
   "id": "be2d08c1-7663-4cff-aa32-8fc8402ad097",
   "metadata": {},
   "outputs": [
    {
     "name": "stdout",
     "output_type": "stream",
     "text": [
      "14.243156833157634\n"
     ]
    }
   ],
   "source": [
    "## 남성과 여성의 교차윗몸일으키기 횟수의 평균의 차이를 구하여라\n",
    "\n",
    "result = df[df['측정회원성별']=='M']['교차윗몸일으키기 : 회'].mean() - df[df['측정회원성별']=='F']['교차윗몸일으키기 : 회'].mean()\n",
    "print(result)"
   ]
  }
 ],
 "metadata": {
  "kernelspec": {
   "display_name": "Python 3 (ipykernel)",
   "language": "python",
   "name": "python3"
  },
  "language_info": {
   "codemirror_mode": {
    "name": "ipython",
    "version": 3
   },
   "file_extension": ".py",
   "mimetype": "text/x-python",
   "name": "python",
   "nbconvert_exporter": "python",
   "pygments_lexer": "ipython3",
   "version": "3.9.12"
  }
 },
 "nbformat": 4,
 "nbformat_minor": 5
}
