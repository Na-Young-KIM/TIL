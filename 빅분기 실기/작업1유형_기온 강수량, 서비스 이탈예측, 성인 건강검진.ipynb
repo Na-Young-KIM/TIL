{
 "cells": [
  {
   "cell_type": "markdown",
   "id": "8602fb9c-94c5-47a4-a95d-e88585ea4284",
   "metadata": {},
   "source": [
    "## 기온 강수량 데이터"
   ]
  },
  {
   "cell_type": "code",
   "execution_count": 1,
   "id": "0a116faf-8720-4149-95a3-ecf8f21b860a",
   "metadata": {},
   "outputs": [
    {
     "data": {
      "text/html": [
       "<div>\n",
       "<style scoped>\n",
       "    .dataframe tbody tr th:only-of-type {\n",
       "        vertical-align: middle;\n",
       "    }\n",
       "\n",
       "    .dataframe tbody tr th {\n",
       "        vertical-align: top;\n",
       "    }\n",
       "\n",
       "    .dataframe thead th {\n",
       "        text-align: right;\n",
       "    }\n",
       "</style>\n",
       "<table border=\"1\" class=\"dataframe\">\n",
       "  <thead>\n",
       "    <tr style=\"text-align: right;\">\n",
       "      <th></th>\n",
       "      <th>time</th>\n",
       "      <th>이화동강수</th>\n",
       "      <th>이화동기온</th>\n",
       "      <th>수영동강수</th>\n",
       "      <th>수영동기온</th>\n",
       "    </tr>\n",
       "  </thead>\n",
       "  <tbody>\n",
       "    <tr>\n",
       "      <th>0</th>\n",
       "      <td>2020-01-01 00:00:00</td>\n",
       "      <td>0.1</td>\n",
       "      <td>-3.9</td>\n",
       "      <td>0.0</td>\n",
       "      <td>2.5</td>\n",
       "    </tr>\n",
       "    <tr>\n",
       "      <th>1</th>\n",
       "      <td>2020-01-01 01:00:00</td>\n",
       "      <td>0.0</td>\n",
       "      <td>-3.1</td>\n",
       "      <td>0.0</td>\n",
       "      <td>3.4</td>\n",
       "    </tr>\n",
       "    <tr>\n",
       "      <th>2</th>\n",
       "      <td>2020-01-01 02:00:00</td>\n",
       "      <td>0.0</td>\n",
       "      <td>-1.8</td>\n",
       "      <td>0.0</td>\n",
       "      <td>3.8</td>\n",
       "    </tr>\n",
       "    <tr>\n",
       "      <th>3</th>\n",
       "      <td>2020-01-01 03:00:00</td>\n",
       "      <td>0.0</td>\n",
       "      <td>-0.8</td>\n",
       "      <td>0.0</td>\n",
       "      <td>4.6</td>\n",
       "    </tr>\n",
       "    <tr>\n",
       "      <th>4</th>\n",
       "      <td>2020-01-01 04:00:00</td>\n",
       "      <td>0.0</td>\n",
       "      <td>-0.1</td>\n",
       "      <td>0.0</td>\n",
       "      <td>5.1</td>\n",
       "    </tr>\n",
       "  </tbody>\n",
       "</table>\n",
       "</div>"
      ],
      "text/plain": [
       "                  time  이화동강수  이화동기온  수영동강수  수영동기온\n",
       "0  2020-01-01 00:00:00    0.1   -3.9    0.0    2.5\n",
       "1  2020-01-01 01:00:00    0.0   -3.1    0.0    3.4\n",
       "2  2020-01-01 02:00:00    0.0   -1.8    0.0    3.8\n",
       "3  2020-01-01 03:00:00    0.0   -0.8    0.0    4.6\n",
       "4  2020-01-01 04:00:00    0.0   -0.1    0.0    5.1"
      ]
     },
     "execution_count": 1,
     "metadata": {},
     "output_type": "execute_result"
    }
   ],
   "source": [
    "import pandas as pd\n",
    "df = pd.read_csv(\"https://raw.githubusercontent.com/Datamanim/datarepo/main/weather/weather2.csv\")\n",
    "df.head()"
   ]
  },
  {
   "cell_type": "code",
   "execution_count": 2,
   "id": "14400130-4bfb-4795-b7bf-b799e72e04a6",
   "metadata": {},
   "outputs": [
    {
     "name": "stdout",
     "output_type": "stream",
     "text": [
      "1415\n"
     ]
    }
   ],
   "source": [
    "## 여름철(6월,7월,8월) 이화동이 수영동보다 높은 기온을 가진 시간대는 몇개인가?\n",
    "\n",
    "df['time'] = pd.to_datetime(df['time'])\n",
    "df['month'] = df['time'].apply(lambda x: x.month)\n",
    "tmp = df[(6<=df['month']) & (df['month']<=8)]\n",
    "result = len(tmp[tmp['이화동기온'] > tmp['수영동기온']]['time'].apply(lambda x: x.hour))\n",
    "print(result)"
   ]
  },
  {
   "cell_type": "code",
   "execution_count": 3,
   "id": "5137b451-1e36-42b3-8041-250fcc116127",
   "metadata": {},
   "outputs": [
    {
     "name": "stdout",
     "output_type": "stream",
     "text": [
      "2020-09-30 09:00:00 2020-07-23 12:00:00\n"
     ]
    }
   ],
   "source": [
    "## 이화동과 수영동의 최대강수량의 시간대를 각각 구하여라\n",
    "\n",
    "result1 = df[df['이화동강수']==df['이화동강수'].max()]['time'].iloc[0]\n",
    "result2 = df[df['수영동강수']==df['수영동강수'].max()]['time'].iloc[0]\n",
    "print(result1, result2)"
   ]
  },
  {
   "cell_type": "markdown",
   "id": "5e128411-1460-4d74-a1ee-810ea3c15ad8",
   "metadata": {},
   "source": [
    "## 서비스 이탈예측"
   ]
  },
  {
   "cell_type": "code",
   "execution_count": 4,
   "id": "5a537651-434d-4412-83cc-1b2d6ecca287",
   "metadata": {},
   "outputs": [
    {
     "data": {
      "text/html": [
       "<div>\n",
       "<style scoped>\n",
       "    .dataframe tbody tr th:only-of-type {\n",
       "        vertical-align: middle;\n",
       "    }\n",
       "\n",
       "    .dataframe tbody tr th {\n",
       "        vertical-align: top;\n",
       "    }\n",
       "\n",
       "    .dataframe thead th {\n",
       "        text-align: right;\n",
       "    }\n",
       "</style>\n",
       "<table border=\"1\" class=\"dataframe\">\n",
       "  <thead>\n",
       "    <tr style=\"text-align: right;\">\n",
       "      <th></th>\n",
       "      <th>RowNumber</th>\n",
       "      <th>CustomerId</th>\n",
       "      <th>Surname</th>\n",
       "      <th>CreditScore</th>\n",
       "      <th>Geography</th>\n",
       "      <th>Gender</th>\n",
       "      <th>Age</th>\n",
       "      <th>Tenure</th>\n",
       "      <th>Balance</th>\n",
       "      <th>NumOfProducts</th>\n",
       "      <th>HasCrCard</th>\n",
       "      <th>IsActiveMember</th>\n",
       "      <th>EstimatedSalary</th>\n",
       "      <th>Exited</th>\n",
       "    </tr>\n",
       "  </thead>\n",
       "  <tbody>\n",
       "    <tr>\n",
       "      <th>0</th>\n",
       "      <td>6842</td>\n",
       "      <td>15793491</td>\n",
       "      <td>Cherkasova</td>\n",
       "      <td>714</td>\n",
       "      <td>Germany</td>\n",
       "      <td>Male</td>\n",
       "      <td>26</td>\n",
       "      <td>3</td>\n",
       "      <td>119545.48</td>\n",
       "      <td>2</td>\n",
       "      <td>1</td>\n",
       "      <td>0</td>\n",
       "      <td>65482.94</td>\n",
       "      <td>0</td>\n",
       "    </tr>\n",
       "    <tr>\n",
       "      <th>1</th>\n",
       "      <td>8963</td>\n",
       "      <td>15607874</td>\n",
       "      <td>Keane</td>\n",
       "      <td>687</td>\n",
       "      <td>France</td>\n",
       "      <td>Male</td>\n",
       "      <td>38</td>\n",
       "      <td>0</td>\n",
       "      <td>144450.58</td>\n",
       "      <td>1</td>\n",
       "      <td>0</td>\n",
       "      <td>1</td>\n",
       "      <td>137276.83</td>\n",
       "      <td>0</td>\n",
       "    </tr>\n",
       "    <tr>\n",
       "      <th>2</th>\n",
       "      <td>7047</td>\n",
       "      <td>15737627</td>\n",
       "      <td>Rivero</td>\n",
       "      <td>589</td>\n",
       "      <td>Germany</td>\n",
       "      <td>Female</td>\n",
       "      <td>20</td>\n",
       "      <td>2</td>\n",
       "      <td>121093.29</td>\n",
       "      <td>2</td>\n",
       "      <td>1</td>\n",
       "      <td>0</td>\n",
       "      <td>3529.72</td>\n",
       "      <td>0</td>\n",
       "    </tr>\n",
       "    <tr>\n",
       "      <th>3</th>\n",
       "      <td>7503</td>\n",
       "      <td>15697844</td>\n",
       "      <td>Whitehouse</td>\n",
       "      <td>721</td>\n",
       "      <td>Spain</td>\n",
       "      <td>Female</td>\n",
       "      <td>32</td>\n",
       "      <td>10</td>\n",
       "      <td>0.00</td>\n",
       "      <td>1</td>\n",
       "      <td>1</td>\n",
       "      <td>0</td>\n",
       "      <td>136119.96</td>\n",
       "      <td>1</td>\n",
       "    </tr>\n",
       "    <tr>\n",
       "      <th>4</th>\n",
       "      <td>3439</td>\n",
       "      <td>15722404</td>\n",
       "      <td>Carpenter</td>\n",
       "      <td>445</td>\n",
       "      <td>France</td>\n",
       "      <td>Female</td>\n",
       "      <td>30</td>\n",
       "      <td>3</td>\n",
       "      <td>0.00</td>\n",
       "      <td>2</td>\n",
       "      <td>1</td>\n",
       "      <td>1</td>\n",
       "      <td>127939.19</td>\n",
       "      <td>0</td>\n",
       "    </tr>\n",
       "  </tbody>\n",
       "</table>\n",
       "</div>"
      ],
      "text/plain": [
       "   RowNumber  CustomerId     Surname  CreditScore Geography  Gender  Age  \\\n",
       "0       6842    15793491  Cherkasova          714   Germany    Male   26   \n",
       "1       8963    15607874       Keane          687    France    Male   38   \n",
       "2       7047    15737627      Rivero          589   Germany  Female   20   \n",
       "3       7503    15697844  Whitehouse          721     Spain  Female   32   \n",
       "4       3439    15722404   Carpenter          445    France  Female   30   \n",
       "\n",
       "   Tenure    Balance  NumOfProducts  HasCrCard  IsActiveMember  \\\n",
       "0       3  119545.48              2          1               0   \n",
       "1       0  144450.58              1          0               1   \n",
       "2       2  121093.29              2          1               0   \n",
       "3      10       0.00              1          1               0   \n",
       "4       3       0.00              2          1               1   \n",
       "\n",
       "   EstimatedSalary  Exited  \n",
       "0         65482.94       0  \n",
       "1        137276.83       0  \n",
       "2          3529.72       0  \n",
       "3        136119.96       1  \n",
       "4        127939.19       0  "
      ]
     },
     "execution_count": 4,
     "metadata": {},
     "output_type": "execute_result"
    }
   ],
   "source": [
    "import pandas as pd\n",
    "#데이터 로드\n",
    "df = pd.read_csv(\"https://raw.githubusercontent.com/Datamanim/datarepo/main/churn/train.csv\")\n",
    "df.head()"
   ]
  },
  {
   "cell_type": "code",
   "execution_count": 5,
   "id": "773d2f86-f762-4402-b460-95c1bf027443",
   "metadata": {},
   "outputs": [
    {
     "name": "stdout",
     "output_type": "stream",
     "text": [
      "Geography     Germany\n",
      "CustomerId        287\n",
      "Name: 0, dtype: object\n"
     ]
    }
   ],
   "source": [
    "## 남성 이탈(Exited)이 가장 많은 국가(Geography)는 어디이고 이탈 인원은 몇명인가?\n",
    "\n",
    "tmp = df[(df['Gender']=='Male') & (df['Exited']==1)]\n",
    "result = tmp.groupby('Geography').count()[['CustomerId']].sort_values(by='CustomerId', ascending=False).reset_index().iloc[0]\n",
    "print(result)"
   ]
  },
  {
   "cell_type": "code",
   "execution_count": 6,
   "id": "f8862005-f298-4573-a92f-c0922dd28d41",
   "metadata": {},
   "outputs": [
    {
     "name": "stdout",
     "output_type": "stream",
     "text": [
      "39.6102\n"
     ]
    }
   ],
   "source": [
    "## 카드를 소유(HasCrCard ==1)하고 있으면서 활성멤버(IsActiveMember ==1) 인 고객들의 평균 나이를 소숫점이하 4자리까지 구하여라?\n",
    "\n",
    "tmp = df[(df['HasCrCard']==1) & (df['IsActiveMember']==1)]\n",
    "result = round(tmp['Age'].mean(), 4)\n",
    "print(result)"
   ]
  },
  {
   "cell_type": "code",
   "execution_count": 7,
   "id": "4ffdcbbf-e2bd-439e-9088-bb285aa88192",
   "metadata": {},
   "outputs": [
    {
     "name": "stdout",
     "output_type": "stream",
     "text": [
      "97.295\n"
     ]
    }
   ],
   "source": [
    "## Balance 값이 중간값 이상을 가지는 고객들의 CreditScore의 표준편차를 소숫점이하 3자리까지 구하여라\n",
    "\n",
    "tmp = df[df['Balance']>=df['Balance'].median()]\n",
    "result = round(tmp['CreditScore'].std(), 3)\n",
    "print(result)"
   ]
  },
  {
   "cell_type": "markdown",
   "id": "ed08052a-9a11-43e4-ab64-60d2c7dcd090",
   "metadata": {},
   "source": [
    "## 성인 건강검진 데이터"
   ]
  },
  {
   "cell_type": "code",
   "execution_count": 8,
   "id": "f679dbfa-4914-4d5e-b9bf-0cf94e4773a5",
   "metadata": {},
   "outputs": [
    {
     "data": {
      "text/html": [
       "<div>\n",
       "<style scoped>\n",
       "    .dataframe tbody tr th:only-of-type {\n",
       "        vertical-align: middle;\n",
       "    }\n",
       "\n",
       "    .dataframe tbody tr th {\n",
       "        vertical-align: top;\n",
       "    }\n",
       "\n",
       "    .dataframe thead th {\n",
       "        text-align: right;\n",
       "    }\n",
       "</style>\n",
       "<table border=\"1\" class=\"dataframe\">\n",
       "  <thead>\n",
       "    <tr style=\"text-align: right;\">\n",
       "      <th></th>\n",
       "      <th>성별코드</th>\n",
       "      <th>연령대코드(5세단위)</th>\n",
       "      <th>신장(5Cm단위)</th>\n",
       "      <th>체중(5Kg단위)</th>\n",
       "      <th>허리둘레</th>\n",
       "      <th>시력(좌)</th>\n",
       "      <th>시력(우)</th>\n",
       "      <th>청력(좌)</th>\n",
       "      <th>청력(우)</th>\n",
       "      <th>수축기혈압</th>\n",
       "      <th>...</th>\n",
       "      <th>혈색소</th>\n",
       "      <th>요단백</th>\n",
       "      <th>혈청크레아티닌</th>\n",
       "      <th>(혈청지오티)AST</th>\n",
       "      <th>(혈청지오티)ALT</th>\n",
       "      <th>감마지티피</th>\n",
       "      <th>흡연상태</th>\n",
       "      <th>구강검진수검여부</th>\n",
       "      <th>치아우식증유무</th>\n",
       "      <th>치석</th>\n",
       "    </tr>\n",
       "  </thead>\n",
       "  <tbody>\n",
       "    <tr>\n",
       "      <th>0</th>\n",
       "      <td>F</td>\n",
       "      <td>55</td>\n",
       "      <td>145</td>\n",
       "      <td>55</td>\n",
       "      <td>73.0</td>\n",
       "      <td>0.7</td>\n",
       "      <td>0.5</td>\n",
       "      <td>1.0</td>\n",
       "      <td>1.0</td>\n",
       "      <td>129.0</td>\n",
       "      <td>...</td>\n",
       "      <td>12.9</td>\n",
       "      <td>1.0</td>\n",
       "      <td>0.9</td>\n",
       "      <td>172.0</td>\n",
       "      <td>209.0</td>\n",
       "      <td>15.0</td>\n",
       "      <td>0</td>\n",
       "      <td>Y</td>\n",
       "      <td>0.0</td>\n",
       "      <td>Y</td>\n",
       "    </tr>\n",
       "    <tr>\n",
       "      <th>1</th>\n",
       "      <td>M</td>\n",
       "      <td>40</td>\n",
       "      <td>180</td>\n",
       "      <td>55</td>\n",
       "      <td>74.0</td>\n",
       "      <td>1.5</td>\n",
       "      <td>1.5</td>\n",
       "      <td>1.0</td>\n",
       "      <td>1.0</td>\n",
       "      <td>102.0</td>\n",
       "      <td>...</td>\n",
       "      <td>15.6</td>\n",
       "      <td>1.0</td>\n",
       "      <td>0.8</td>\n",
       "      <td>30.0</td>\n",
       "      <td>19.0</td>\n",
       "      <td>23.0</td>\n",
       "      <td>1</td>\n",
       "      <td>Y</td>\n",
       "      <td>0.0</td>\n",
       "      <td>Y</td>\n",
       "    </tr>\n",
       "    <tr>\n",
       "      <th>2</th>\n",
       "      <td>F</td>\n",
       "      <td>55</td>\n",
       "      <td>150</td>\n",
       "      <td>50</td>\n",
       "      <td>72.0</td>\n",
       "      <td>1.0</td>\n",
       "      <td>0.2</td>\n",
       "      <td>1.0</td>\n",
       "      <td>1.0</td>\n",
       "      <td>116.0</td>\n",
       "      <td>...</td>\n",
       "      <td>14.1</td>\n",
       "      <td>1.0</td>\n",
       "      <td>1.0</td>\n",
       "      <td>31.0</td>\n",
       "      <td>19.0</td>\n",
       "      <td>10.0</td>\n",
       "      <td>0</td>\n",
       "      <td>Y</td>\n",
       "      <td>0.0</td>\n",
       "      <td>N</td>\n",
       "    </tr>\n",
       "    <tr>\n",
       "      <th>3</th>\n",
       "      <td>M</td>\n",
       "      <td>40</td>\n",
       "      <td>170</td>\n",
       "      <td>85</td>\n",
       "      <td>89.0</td>\n",
       "      <td>1.0</td>\n",
       "      <td>0.8</td>\n",
       "      <td>1.0</td>\n",
       "      <td>1.0</td>\n",
       "      <td>124.0</td>\n",
       "      <td>...</td>\n",
       "      <td>16.7</td>\n",
       "      <td>1.0</td>\n",
       "      <td>1.0</td>\n",
       "      <td>26.0</td>\n",
       "      <td>38.0</td>\n",
       "      <td>108.0</td>\n",
       "      <td>1</td>\n",
       "      <td>Y</td>\n",
       "      <td>1.0</td>\n",
       "      <td>Y</td>\n",
       "    </tr>\n",
       "    <tr>\n",
       "      <th>4</th>\n",
       "      <td>F</td>\n",
       "      <td>40</td>\n",
       "      <td>155</td>\n",
       "      <td>45</td>\n",
       "      <td>62.0</td>\n",
       "      <td>0.5</td>\n",
       "      <td>1.0</td>\n",
       "      <td>1.0</td>\n",
       "      <td>1.0</td>\n",
       "      <td>127.0</td>\n",
       "      <td>...</td>\n",
       "      <td>12.9</td>\n",
       "      <td>1.0</td>\n",
       "      <td>0.7</td>\n",
       "      <td>20.0</td>\n",
       "      <td>11.0</td>\n",
       "      <td>13.0</td>\n",
       "      <td>0</td>\n",
       "      <td>Y</td>\n",
       "      <td>0.0</td>\n",
       "      <td>N</td>\n",
       "    </tr>\n",
       "  </tbody>\n",
       "</table>\n",
       "<p>5 rows × 26 columns</p>\n",
       "</div>"
      ],
      "text/plain": [
       "  성별코드  연령대코드(5세단위)  신장(5Cm단위)  체중(5Kg단위)  허리둘레  시력(좌)  시력(우)  청력(좌)  청력(우)  \\\n",
       "0    F           55        145         55  73.0    0.7    0.5    1.0    1.0   \n",
       "1    M           40        180         55  74.0    1.5    1.5    1.0    1.0   \n",
       "2    F           55        150         50  72.0    1.0    0.2    1.0    1.0   \n",
       "3    M           40        170         85  89.0    1.0    0.8    1.0    1.0   \n",
       "4    F           40        155         45  62.0    0.5    1.0    1.0    1.0   \n",
       "\n",
       "   수축기혈압  ...   혈색소  요단백  혈청크레아티닌  (혈청지오티)AST  (혈청지오티)ALT  감마지티피  흡연상태  \\\n",
       "0  129.0  ...  12.9  1.0      0.9       172.0       209.0   15.0     0   \n",
       "1  102.0  ...  15.6  1.0      0.8        30.0        19.0   23.0     1   \n",
       "2  116.0  ...  14.1  1.0      1.0        31.0        19.0   10.0     0   \n",
       "3  124.0  ...  16.7  1.0      1.0        26.0        38.0  108.0     1   \n",
       "4  127.0  ...  12.9  1.0      0.7        20.0        11.0   13.0     0   \n",
       "\n",
       "   구강검진수검여부  치아우식증유무  치석  \n",
       "0         Y      0.0   Y  \n",
       "1         Y      0.0   Y  \n",
       "2         Y      0.0   N  \n",
       "3         Y      1.0   Y  \n",
       "4         Y      0.0   N  \n",
       "\n",
       "[5 rows x 26 columns]"
      ]
     },
     "execution_count": 8,
     "metadata": {},
     "output_type": "execute_result"
    }
   ],
   "source": [
    "import pandas as pd\n",
    "df = pd.read_csv(\"https://raw.githubusercontent.com/Datamanim/datarepo/main/smoke/train.csv\")\n",
    "df.head()"
   ]
  },
  {
   "cell_type": "code",
   "execution_count": 9,
   "id": "6b1048e2-a161-425c-9b65-daa95db6428d",
   "metadata": {},
   "outputs": [
    {
     "name": "stdout",
     "output_type": "stream",
     "text": [
      "60\n"
     ]
    }
   ],
   "source": [
    "## 수축기혈압과 이완기 혈압기 수치의 차이를 새로운 컬럼(‘혈압차’) 으로 생성하고, 연령대 코드별 각 그룹 중 ‘혈압차’ 의 분산이 5번째로 큰 연령대 코드를 구하여라\n",
    "\n",
    "df['혈압차'] = df['수축기혈압'] - df['이완기혈압']\n",
    "result = df.groupby('연령대코드(5세단위)').var()['혈압차'].sort_values(ascending=False).reset_index()['연령대코드(5세단위)'].iloc[4]\n",
    "print(result)"
   ]
  },
  {
   "cell_type": "code",
   "execution_count": 10,
   "id": "baa2b65c-22d3-4332-83b3-02ea2f8e4190",
   "metadata": {},
   "outputs": [
    {
     "data": {
      "text/plain": [
       "1.1693877551020408"
      ]
     },
     "execution_count": 10,
     "metadata": {},
     "output_type": "execute_result"
    }
   ],
   "source": [
    "## 비만도를 나타내는 지표인 WHtR는 허리둘레 / 키로 표현한다. 일반적으로 0.58이상이면 비만으로 분류한다. 데이터중 WHtR 지표상 비만인 인원의 남/여 비율을 구하여라\n",
    "\n",
    "df['WHtR'] = df['허리둘레']/df['신장(5Cm단위)']\n",
    "tmp = df[df['WHtR']>=0.58]\n",
    "tmp.groupby('성별코드').size().reset_index()[0].iloc[1] / tmp.groupby('성별코드').size().reset_index()[0].iloc[0]"
   ]
  }
 ],
 "metadata": {
  "kernelspec": {
   "display_name": "Python 3 (ipykernel)",
   "language": "python",
   "name": "python3"
  },
  "language_info": {
   "codemirror_mode": {
    "name": "ipython",
    "version": 3
   },
   "file_extension": ".py",
   "mimetype": "text/x-python",
   "name": "python",
   "nbconvert_exporter": "python",
   "pygments_lexer": "ipython3",
   "version": "3.9.12"
  }
 },
 "nbformat": 4,
 "nbformat_minor": 5
}
