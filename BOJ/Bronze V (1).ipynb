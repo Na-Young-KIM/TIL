{
 "cells": [
  {
   "cell_type": "markdown",
   "id": "705ea349-f5d0-4257-8095-1213b4dff95c",
   "metadata": {},
   "source": [
    "## BOJ 1001 : A-B\n",
    "### 문제\n",
    "두 정수 A와 B를 입력받은 다음, A-B를 출력하는 프로그램을 작성하시오.\n",
    "\n",
    "### 입력\n",
    "첫째 줄에 A와 B가 주어진다. (0 < A, B < 10)\n",
    "\n",
    "### 출력\n",
    "첫째 줄에 A-B를 출력한다."
   ]
  },
  {
   "cell_type": "code",
   "execution_count": 1,
   "id": "225d79e7-e49d-4f9c-aa7f-01c926285658",
   "metadata": {},
   "outputs": [
    {
     "name": "stdin",
     "output_type": "stream",
     "text": [
      " 3 2\n"
     ]
    },
    {
     "name": "stdout",
     "output_type": "stream",
     "text": [
      "1\n"
     ]
    }
   ],
   "source": [
    "a,b = map(int, input().split())\n",
    "\n",
    "print(a-b)"
   ]
  },
  {
   "cell_type": "markdown",
   "id": "ce1aff8f-ff27-4cbf-bbe8-a7f5db076c7b",
   "metadata": {},
   "source": [
    "## BOJ 1271 : 엄청난 부자2\n",
    "### 문제\n",
    "갑부 최백준 조교는 동전을 최소로 바꾸는데 성공했으나 김재홍 조교가 그 돈을 발견해서 최백준 조교에게 그 돈을 나누자고 따진다.\n",
    "\n",
    "그 사실이 전 우주로 알려지자 우주에 있던 많은 생명체들이 자신들에게 돈을 분배해 달라고 당장 달려오기 시작했다.\n",
    "\n",
    "프로토스 중앙 우주 정부의 정책인, ‘모든 지적 생명체는 동등하다’라는 규칙에 입각해서 돈을 똑같이 분배하고자 한다.\n",
    "\n",
    "한 생명체에게 얼마씩 돈을 줄 수 있는가?\n",
    "\n",
    "또, 생명체들에게 동일하게 분배한 후 남는 돈은 얼마인가?\n",
    "\n",
    "### 입력\n",
    "첫째 줄에는 최백준 조교가 가진 돈 n과 돈을 받으러 온 생명체의 수 m이 주어진다. (1 ≤ m ≤ n ≤ 101000, m과 n은 10진수 정수)\n",
    "\n",
    "### 출력\n",
    "첫째 줄에 생명체 하나에게 돌아가는 돈의 양을 출력한다. 그리고 두 번째 줄에는 1원씩 분배할 수 없는 남는 돈을 출력한다."
   ]
  },
  {
   "cell_type": "code",
   "execution_count": 2,
   "id": "207150a1-544c-416c-b579-6186533e86c8",
   "metadata": {},
   "outputs": [
    {
     "name": "stdin",
     "output_type": "stream",
     "text": [
      " 1000 100\n"
     ]
    },
    {
     "name": "stdout",
     "output_type": "stream",
     "text": [
      "10\n",
      "0\n"
     ]
    }
   ],
   "source": [
    "a,b = map(int, input().split())\n",
    "\n",
    "print(a//b)\n",
    "print(a%b)"
   ]
  },
  {
   "cell_type": "markdown",
   "id": "bb1cd1a0-c05d-4eee-b90d-d7407783c8a9",
   "metadata": {},
   "source": [
    "## BOJ 1550 : 16진수\n",
    "### 문제\n",
    "16진수 수를 입력받아서 10진수로 출력하는 프로그램을 작성하시오.\n",
    "\n",
    "### 입력\n",
    "첫째 줄에 16진수 수가 주어진다. 이 수의 최대 길이는 6글자이다. 16진수 수는 0~9와 A~F로 이루어져 있고, A~F는 10~15를 뜻한다. 또, 이 수는 음이 아닌 정수이다.\n",
    "\n",
    "### 출력\n",
    "첫째 줄에 입력으로 주어진 16진수 수를 10진수로 변환해 출력한다."
   ]
  },
  {
   "cell_type": "code",
   "execution_count": 37,
   "id": "1b769fa6-0105-4dc6-9058-11ed3507e2bd",
   "metadata": {},
   "outputs": [
    {
     "name": "stdin",
     "output_type": "stream",
     "text": [
      " 400\n"
     ]
    },
    {
     "name": "stdout",
     "output_type": "stream",
     "text": [
      "1024\n"
     ]
    }
   ],
   "source": [
    "a = list(input())\n",
    "b = 0\n",
    "\n",
    "num_dic = {'0':0, '1':1, '2':2, '3':3, '4':4, '5':5, '6':6, '7':7, '8':8, '9':9, \n",
    "           'A':10, 'B':11, 'C':12, 'D':13, 'E':14, 'F':15}\n",
    "\n",
    "for i in range(len(a)):\n",
    "    b += num_dic[a[i]]*16**(len(a)-1-i)\n",
    "    \n",
    "print(b)"
   ]
  },
  {
   "cell_type": "code",
   "execution_count": 38,
   "id": "08fc8946-b872-4be3-b624-980a4f263808",
   "metadata": {},
   "outputs": [
    {
     "name": "stdin",
     "output_type": "stream",
     "text": [
      " 400\n"
     ]
    },
    {
     "name": "stdout",
     "output_type": "stream",
     "text": [
      "1024\n"
     ]
    }
   ],
   "source": [
    "print(int(input(), 16))"
   ]
  },
  {
   "cell_type": "markdown",
   "id": "8509bb79-928a-4d78-a950-a862d072255f",
   "metadata": {},
   "source": [
    "## BOJ 2338 : 긴자리 계산\n",
    "### 문제\n",
    "두 수 A, B를 입력받아, A+B, A-B, A×B를 구하는 프로그램을 작성하시오.\n",
    "\n",
    "### 입력\n",
    "첫째 줄에 A가, 둘째 줄에 B가 주어진다. 각각의 수는 10진수로 1,000자리를 넘지 않으며 양수와 음수가 모두 주어질 수 있다.\n",
    "\n",
    "### 출력\n",
    "첫째 줄에 A+B, 둘째 줄에 A-B, 셋째 줄에 A×B를 출력한다. 각각을 출력할 때, 답이 0인 경우를 제외하고는 0으로 시작하게 해서는 안 된다(1을 01로 출력하면 안 된다는 의미)."
   ]
  },
  {
   "cell_type": "code",
   "execution_count": 41,
   "id": "94263bce-b2f1-4bc8-aba1-cea417363688",
   "metadata": {},
   "outputs": [
    {
     "name": "stdin",
     "output_type": "stream",
     "text": [
      " 1\n",
      " -1\n"
     ]
    },
    {
     "name": "stdout",
     "output_type": "stream",
     "text": [
      "0\n",
      "2\n",
      "-1\n"
     ]
    }
   ],
   "source": [
    "a = int(input())\n",
    "b = int(input())\n",
    "\n",
    "print(f'{a+b}\\n{a-b}\\n{a*b}')"
   ]
  },
  {
   "cell_type": "markdown",
   "id": "56a68e3b-0abe-4a3d-ae80-9ea7c4bf4b21",
   "metadata": {},
   "source": [
    "## BOJ 2475 : 검증수\n",
    "### 문제\n",
    "컴퓨터를 제조하는 회사인 KOI 전자에서는 제조하는 컴퓨터마다 6자리의 고유번호를 매긴다. 고유번호의 처음 5자리에는 00000부터 99999까지의 수 중 하나가 주어지며 6번째 자리에는 검증수가 들어간다. 검증수는 고유번호의 처음 5자리에 들어가는 5개의 숫자를 각각 제곱한 수의 합을 10으로 나눈 나머지이다.\n",
    "\n",
    "예를 들어 고유번호의 처음 5자리의 숫자들이 04256이면, 각 숫자를 제곱한 수들의 합 0+16+4+25+36 = 81 을 10으로 나눈 나머지인 1이 검증수이다.\n",
    "\n",
    "### 입력\n",
    "첫째 줄에 고유번호의 처음 5자리의 숫자들이 빈칸을 사이에 두고 하나씩 주어진다.\n",
    "\n",
    "### 출력\n",
    "첫째 줄에 검증수를 출력한다."
   ]
  },
  {
   "cell_type": "code",
   "execution_count": 46,
   "id": "25d8cb0d-5b37-4225-ab79-bc86e5c3a91c",
   "metadata": {},
   "outputs": [
    {
     "name": "stdin",
     "output_type": "stream",
     "text": [
      " 0 4 2 5 6\n"
     ]
    },
    {
     "name": "stdout",
     "output_type": "stream",
     "text": [
      "1\n"
     ]
    }
   ],
   "source": [
    "a = list(map(int,input().split(' ')))\n",
    "b = 0\n",
    "\n",
    "for i in range(len(a)):\n",
    "    b += a[i]**2\n",
    "\n",
    "print(b%10)"
   ]
  },
  {
   "cell_type": "code",
   "execution_count": 49,
   "id": "033f3ab1-2031-4b35-b0ab-bf83d0e5e2f1",
   "metadata": {},
   "outputs": [
    {
     "name": "stdin",
     "output_type": "stream",
     "text": [
      " 0 4 2 5 6\n"
     ]
    },
    {
     "name": "stdout",
     "output_type": "stream",
     "text": [
      "1\n"
     ]
    }
   ],
   "source": [
    "b = [x**2 for x in map(int, input().split())]\n",
    "print(sum(b)%10)"
   ]
  }
 ],
 "metadata": {
  "kernelspec": {
   "display_name": "Python 3 (ipykernel)",
   "language": "python",
   "name": "python3"
  },
  "language_info": {
   "codemirror_mode": {
    "name": "ipython",
    "version": 3
   },
   "file_extension": ".py",
   "mimetype": "text/x-python",
   "name": "python",
   "nbconvert_exporter": "python",
   "pygments_lexer": "ipython3",
   "version": "3.9.7"
  }
 },
 "nbformat": 4,
 "nbformat_minor": 5
}
