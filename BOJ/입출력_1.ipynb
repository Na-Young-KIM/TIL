{
 "cells": [
  {
   "cell_type": "markdown",
   "id": "0be2ac12-b03b-455a-bf15-cafc11c7e53b",
   "metadata": {},
   "source": [
    "# BOJ 2557 : Hello World"
   ]
  },
  {
   "cell_type": "markdown",
   "id": "9e3aee32-a82b-4890-b989-c19c7f1789c0",
   "metadata": {},
   "source": [
    "- Hello World!를 출력하시오."
   ]
  },
  {
   "cell_type": "code",
   "execution_count": 1,
   "id": "d604432a-f716-4a0d-856f-e9cc756c9e10",
   "metadata": {},
   "outputs": [
    {
     "name": "stdout",
     "output_type": "stream",
     "text": [
      "Hello World!\n"
     ]
    }
   ],
   "source": [
    "print('Hello World!')"
   ]
  },
  {
   "cell_type": "markdown",
   "id": "4bc32284-a45f-4e48-8a98-3876a3a904a1",
   "metadata": {},
   "source": [
    "# BOJ 1000 : A+B"
   ]
  },
  {
   "cell_type": "markdown",
   "id": "23890e42-4460-4cef-bb25-8ba756f307a2",
   "metadata": {},
   "source": [
    "- 두 정수 A와 B를 입력받은 다음, A+B를 출력하는 프로그램을 작성하시오.\n",
    "- 첫째 줄에 A와 B가 주어진다. (0 < A, B < 10)"
   ]
  },
  {
   "cell_type": "code",
   "execution_count": 4,
   "id": "702e0f8e-e356-4e81-901b-8f0ce5a6d266",
   "metadata": {},
   "outputs": [
    {
     "name": "stdin",
     "output_type": "stream",
     "text": [
      " 1 2\n"
     ]
    },
    {
     "name": "stdout",
     "output_type": "stream",
     "text": [
      "3\n"
     ]
    }
   ],
   "source": [
    "a, b = map(int, input().split())\n",
    "print(a+b)"
   ]
  },
  {
   "cell_type": "markdown",
   "id": "bd275543-dbb1-43fb-92dd-b97fe3e7ae53",
   "metadata": {},
   "source": [
    "# BOJ 2558 : A+B - 2"
   ]
  },
  {
   "cell_type": "markdown",
   "id": "9d6ba672-007d-4a13-bca9-37af539c2003",
   "metadata": {},
   "source": [
    "- 두 정수 A와 B를 입력받은 다음, A+B를 출력하는 프로그램을 작성하시오.\n",
    "- 첫째 줄에 A, 둘째 줄에 B가 주어진다. (0 < A, B < 10)"
   ]
  },
  {
   "cell_type": "code",
   "execution_count": 6,
   "id": "5d343468-f173-4f33-b7e8-853d8c5ba3c2",
   "metadata": {},
   "outputs": [
    {
     "name": "stdin",
     "output_type": "stream",
     "text": [
      " 1\n",
      " 2\n"
     ]
    },
    {
     "name": "stdout",
     "output_type": "stream",
     "text": [
      "3\n"
     ]
    }
   ],
   "source": [
    "a = int(input())\n",
    "b = int(input())\n",
    "print(a+b)"
   ]
  },
  {
   "cell_type": "markdown",
   "id": "fdadf4a8-51fe-43f7-af84-973955cb1812",
   "metadata": {},
   "source": [
    "# BOJ 10950 : A+B - 3"
   ]
  },
  {
   "cell_type": "markdown",
   "id": "5667761c-5a2c-4a3b-b08d-78e067aac243",
   "metadata": {},
   "source": [
    "- 두 정수 A와 B를 입력받은 다음, A+B를 출력하는 프로그램을 작성하시오.\n",
    "- 첫째 줄에 테스트 케이스의 개수 T가 주어진다.\n",
    "- 각 테스트 케이스는 한 줄로 이루어져 있으며, 각 줄에 A와 B가 주어진다. (0 < A, B < 10)"
   ]
  },
  {
   "cell_type": "code",
   "execution_count": 8,
   "id": "8d738ee8-5a3c-4e9e-9959-efb53ea69d55",
   "metadata": {},
   "outputs": [
    {
     "name": "stdin",
     "output_type": "stream",
     "text": [
      " 5\n",
      " 1 1\n"
     ]
    },
    {
     "name": "stdout",
     "output_type": "stream",
     "text": [
      "2\n"
     ]
    },
    {
     "name": "stdin",
     "output_type": "stream",
     "text": [
      " 2 3\n"
     ]
    },
    {
     "name": "stdout",
     "output_type": "stream",
     "text": [
      "5\n"
     ]
    },
    {
     "name": "stdin",
     "output_type": "stream",
     "text": [
      " 3 4\n"
     ]
    },
    {
     "name": "stdout",
     "output_type": "stream",
     "text": [
      "7\n"
     ]
    },
    {
     "name": "stdin",
     "output_type": "stream",
     "text": [
      " 9 8\n"
     ]
    },
    {
     "name": "stdout",
     "output_type": "stream",
     "text": [
      "17\n"
     ]
    },
    {
     "name": "stdin",
     "output_type": "stream",
     "text": [
      " 5 2\n"
     ]
    },
    {
     "name": "stdout",
     "output_type": "stream",
     "text": [
      "7\n"
     ]
    }
   ],
   "source": [
    "num = int(input())\n",
    "for i in range(num):\n",
    "    a, b = map(int, input().split())\n",
    "    print(a+b)"
   ]
  },
  {
   "cell_type": "markdown",
   "id": "15832463-c2dc-4027-8f72-5a28831dff24",
   "metadata": {},
   "source": [
    "# BOJ 10951 : A+B - 4"
   ]
  },
  {
   "cell_type": "markdown",
   "id": "6059d88c-4239-40b1-9525-154fd6050992",
   "metadata": {},
   "source": [
    "- 두 정수 A와 B를 입력받은 다음, A+B를 출력하는 프로그램을 작성하시오.\n",
    "- 입력은 여러 개의 테스트 케이스로 이루어져 있다.\n",
    "- 각 테스트 케이스는 한 줄로 이루어져 있으며, 각 줄에 A와 B가 주어진다. (0 < A, B < 10)"
   ]
  },
  {
   "cell_type": "markdown",
   "id": "41f044e1-4a44-4e57-819d-5a51374afa65",
   "metadata": {
    "jp-MarkdownHeadingCollapsed": true,
    "tags": []
   },
   "source": [
    "##### a,b = map(int, input().split())\n",
    "print(a+b)"
   ]
  },
  {
   "cell_type": "code",
   "execution_count": null,
   "id": "e7fa5859-5c6d-463d-9818-3cf10cac1446",
   "metadata": {},
   "outputs": [],
   "source": []
  }
 ],
 "metadata": {
  "kernelspec": {
   "display_name": "Python 3 (ipykernel)",
   "language": "python",
   "name": "python3"
  },
  "language_info": {
   "codemirror_mode": {
    "name": "ipython",
    "version": 3
   },
   "file_extension": ".py",
   "mimetype": "text/x-python",
   "name": "python",
   "nbconvert_exporter": "python",
   "pygments_lexer": "ipython3",
   "version": "3.9.7"
  }
 },
 "nbformat": 4,
 "nbformat_minor": 5
}
