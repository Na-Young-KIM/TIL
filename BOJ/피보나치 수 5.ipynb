{
 "cells": [
  {
   "cell_type": "markdown",
   "id": "c22e6986-1399-4214-9c78-b377a778fde9",
   "metadata": {},
   "source": [
    "## BOJ 10870 : 피보나치 수 5"
   ]
  },
  {
   "cell_type": "markdown",
   "id": "cf4cadf6-8a9e-48a4-ba81-0b7c15da7eaf",
   "metadata": {},
   "source": [
    "피보나치 수는 0과 1로 시작한다. 0번째 피보나치 수는 0이고, 1번째 피보나치 수는 1이다. 그 다음 2번째 부터는 바로 앞 두 피보나치 수의 합이 된다.\n",
    "\n",
    "이를 식으로 써보면 Fn = Fn-1 + Fn-2 (n ≥ 2)가 된다.\n",
    "\n",
    "n=17일때 까지 피보나치 수를 써보면 다음과 같다.\n",
    "\n",
    "0, 1, 1, 2, 3, 5, 8, 13, 21, 34, 55, 89, 144, 233, 377, 610, 987, 1597\n",
    "\n",
    "n이 주어졌을 때, n번째 피보나치 수를 구하는 프로그램을 작성하시오."
   ]
  },
  {
   "cell_type": "code",
   "execution_count": 102,
   "id": "8b722856-7dad-402c-8b93-9dcf7650db0c",
   "metadata": {},
   "outputs": [
    {
     "name": "stdin",
     "output_type": "stream",
     "text": [
      " 10\n"
     ]
    },
    {
     "name": "stdout",
     "output_type": "stream",
     "text": [
      "55\n"
     ]
    }
   ],
   "source": [
    "## sol 1 \n",
    "n = int(input())\n",
    "\n",
    "a = 0\n",
    "b = 1\n",
    "c = a + b\n",
    "\n",
    "if n == 0 :\n",
    "    c = 0\n",
    "elif n == 1 :\n",
    "    c = 1\n",
    "elif n >= 2 :\n",
    "    for i in range(n-2):\n",
    "        a, b = b, c\n",
    "        c = a + b\n",
    "\n",
    "print(c)"
   ]
  },
  {
   "cell_type": "code",
   "execution_count": 98,
   "id": "04aca1d7-08c6-4bac-8d54-07d51973f267",
   "metadata": {},
   "outputs": [
    {
     "name": "stdin",
     "output_type": "stream",
     "text": [
      " 10\n"
     ]
    },
    {
     "name": "stdout",
     "output_type": "stream",
     "text": [
      "55\n"
     ]
    }
   ],
   "source": [
    "## sol 1-1\n",
    "n = int(input())\n",
    "\n",
    "if n < 2 :\n",
    "    c = n\n",
    "else :\n",
    "    a = 0\n",
    "    b = 1\n",
    "    for i in range(n-1):\n",
    "        c = a + b\n",
    "        a, b = b, c\n",
    "\n",
    "print(c)"
   ]
  },
  {
   "cell_type": "code",
   "execution_count": 103,
   "id": "c1593190-63ba-4cf8-89fd-19518ffc7a2f",
   "metadata": {},
   "outputs": [
    {
     "name": "stdin",
     "output_type": "stream",
     "text": [
      " 10\n"
     ]
    },
    {
     "name": "stdout",
     "output_type": "stream",
     "text": [
      "55\n"
     ]
    }
   ],
   "source": [
    "## sol 2\n",
    "def pivot(n):\n",
    "    if n == 0 :\n",
    "        return 0\n",
    "    elif n == 1 :\n",
    "        return 1\n",
    "    else :\n",
    "        return pivot(n-1)+pivot(n-2)\n",
    "\n",
    "n = int(input())\n",
    "print(pivot(n))"
   ]
  },
  {
   "cell_type": "code",
   "execution_count": 105,
   "id": "40bdc927-e5b4-4c31-a8ab-a0303dc62d96",
   "metadata": {},
   "outputs": [
    {
     "name": "stdin",
     "output_type": "stream",
     "text": [
      " 10\n"
     ]
    },
    {
     "name": "stdout",
     "output_type": "stream",
     "text": [
      "55\n"
     ]
    }
   ],
   "source": [
    "## sol 2-1\n",
    "\n",
    "def pivot(n):\n",
    "    if n<2 :\n",
    "        return n\n",
    "    else :\n",
    "        return pivot(n-1)+pivot(n-2)\n",
    "\n",
    "print(pivot(int(input())))"
   ]
  }
 ],
 "metadata": {
  "kernelspec": {
   "display_name": "Python 3 (ipykernel)",
   "language": "python",
   "name": "python3"
  },
  "language_info": {
   "codemirror_mode": {
    "name": "ipython",
    "version": 3
   },
   "file_extension": ".py",
   "mimetype": "text/x-python",
   "name": "python",
   "nbconvert_exporter": "python",
   "pygments_lexer": "ipython3",
   "version": "3.9.7"
  }
 },
 "nbformat": 4,
 "nbformat_minor": 5
}
