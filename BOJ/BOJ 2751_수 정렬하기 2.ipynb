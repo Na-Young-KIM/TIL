{
 "cells": [
  {
   "cell_type": "markdown",
   "id": "41e330cb-69cb-423e-b408-f65e2552f5a5",
   "metadata": {},
   "source": [
    "## BOJ 2751 : 수 정렬하기 2\n",
    "### 문제\n",
    "N개의 수가 주어졌을 때, 이를 오름차순으로 정렬하는 프로그램을 작성하시오.\n",
    "\n",
    "### 입력\n",
    "첫째 줄에 수의 개수 N(1 ≤ N ≤ 1,000,000)이 주어진다. 둘째 줄부터 N개의 줄에는 수가 주어진다. 이 수는 절댓값이 1,000,000보다 작거나 같은 정수이다. 수는 중복되지 않는다.\n",
    "\n",
    "### 출력\n",
    "첫째 줄부터 N개의 줄에 오름차순으로 정렬한 결과를 한 줄에 하나씩 출력한다."
   ]
  },
  {
   "cell_type": "code",
   "execution_count": 1,
   "id": "7021ac99-754e-4d28-84a2-98f4de56b99a",
   "metadata": {},
   "outputs": [
    {
     "name": "stdin",
     "output_type": "stream",
     "text": [
      " 5\n",
      " 5\n",
      " 4\n",
      " 3\n",
      " 2\n",
      " 1\n"
     ]
    },
    {
     "name": "stdout",
     "output_type": "stream",
     "text": [
      "1\n",
      "2\n",
      "3\n",
      "4\n",
      "5\n"
     ]
    }
   ],
   "source": [
    "a = int(input())\n",
    "b = []\n",
    "for i in range(a):\n",
    "    b.append(int(input()))\n",
    "    \n",
    "for i in range(len(b)):\n",
    "    for j in range(i+1, len(b)):\n",
    "        if b[j] < b[i] :\n",
    "            b[i],b[j] = b[j],b[i]\n",
    "    print(b[i])"
   ]
  },
  {
   "cell_type": "code",
   "execution_count": 13,
   "id": "1dc11b63-31cb-407f-b017-1348e1d1e4b2",
   "metadata": {},
   "outputs": [
    {
     "name": "stdout",
     "output_type": "stream",
     "text": [
      "1\n",
      "2\n",
      "3\n",
      "4\n",
      "5\n"
     ]
    }
   ],
   "source": [
    "## sol1 => 시간초과 \n",
    "import sys\n",
    "input = sys.stdin.readline\n",
    "\n",
    "a = int(input())\n",
    "b = []\n",
    "for i in range(a):\n",
    "    b.append(int(input()))\n",
    "    \n",
    "for i in range(len(b)):\n",
    "    for j in range(i+1, len(b)):\n",
    "        if b[j] < b[i] :\n",
    "            b[i],b[j] = b[j],b[i]\n",
    "    print(b[i])"
   ]
  },
  {
   "cell_type": "code",
   "execution_count": 1,
   "id": "64e8a052-70ce-470d-8c2f-b58a7b8ec99e",
   "metadata": {},
   "outputs": [
    {
     "name": "stdin",
     "output_type": "stream",
     "text": [
      " 5\n",
      " 5\n",
      " 4\n",
      " 3\n",
      " 2\n",
      " 1\n"
     ]
    },
    {
     "name": "stdout",
     "output_type": "stream",
     "text": [
      "1\n",
      "2\n",
      "3\n",
      "4\n",
      "5\n"
     ]
    }
   ],
   "source": [
    "## sol2 => sort 함수 사용\n",
    "import sys\n",
    "input = sys.stdin.readline\n",
    "\n",
    "a = int(input())\n",
    "b = []\n",
    "for i in range(a):\n",
    "    b.append(int(input()))\n",
    "\n",
    "b.sort(reverse=False)\n",
    "\n",
    "for i in range(len(b)):\n",
    "    print(b[i])"
   ]
  }
 ],
 "metadata": {
  "kernelspec": {
   "display_name": "Python 3 (ipykernel)",
   "language": "python",
   "name": "python3"
  },
  "language_info": {
   "codemirror_mode": {
    "name": "ipython",
    "version": 3
   },
   "file_extension": ".py",
   "mimetype": "text/x-python",
   "name": "python",
   "nbconvert_exporter": "python",
   "pygments_lexer": "ipython3",
   "version": "3.9.7"
  }
 },
 "nbformat": 4,
 "nbformat_minor": 5
}
