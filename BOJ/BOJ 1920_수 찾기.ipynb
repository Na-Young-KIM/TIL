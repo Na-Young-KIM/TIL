{
 "cells": [
  {
   "cell_type": "markdown",
   "id": "edda2b3b-bb7f-40c1-b336-9b88518dd989",
   "metadata": {},
   "source": [
    "## BOJ 1920: 수 찾기"
   ]
  },
  {
   "cell_type": "markdown",
   "id": "0fcf4e0b-6fb2-4320-87f5-9f3607f39e14",
   "metadata": {
    "tags": []
   },
   "source": [
    "### 문제\n",
    "N개의 정수 A[1], A[2], …, A[N]이 주어져 있을 때, 이 안에 X라는 정수가 존재하는지 알아내는 프로그램을 작성하시오.\n",
    "\n",
    "### 입력\n",
    "첫째 줄에 자연수 N(1 ≤ N ≤ 100,000)이 주어진다. 다음 줄에는 N개의 정수 A[1], A[2], …, A[N]이 주어진다. 다음 줄에는 M(1 ≤ M ≤ 100,000)이 주어진다. 다음 줄에는 M개의 수들이 주어지는데, 이 수들이 A안에 존재하는지 알아내면 된다. 모든 정수의 범위는 -231 보다 크거나 같고 231보다 작다.\n",
    "\n",
    "### 출력\n",
    "M개의 줄에 답을 출력한다. 존재하면 1을, 존재하지 않으면 0을 출력한다."
   ]
  },
  {
   "cell_type": "code",
   "execution_count": 3,
   "id": "455b71b3-1ca5-4429-bfbc-cbc3dec346e4",
   "metadata": {},
   "outputs": [
    {
     "name": "stdin",
     "output_type": "stream",
     "text": [
      " 5\n",
      " 4 1 5 2 3\n",
      " 5\n",
      " 1 3 7 9 5\n"
     ]
    },
    {
     "name": "stdout",
     "output_type": "stream",
     "text": [
      "1\n",
      "1\n",
      "0\n",
      "0\n",
      "1\n"
     ]
    }
   ],
   "source": [
    "## sol1 => 시간 초과\n",
    "a = int(input())\n",
    "a_num = list(map(int, input().split(' ')))\n",
    "\n",
    "b = int(input())\n",
    "b_num = list(map(int, input().split(' ')))\n",
    "\n",
    "for i in range(b):\n",
    "    if b_num[i] in a_num:\n",
    "        print(1)\n",
    "    else :\n",
    "        print(0)"
   ]
  },
  {
   "cell_type": "markdown",
   "id": "b646d177-08d5-4314-a902-cdbd205f9aca",
   "metadata": {},
   "source": [
    "'if a in b'를 진행하는 것이 시간을 오래 걸리게 하는 이유이다.\n",
    "\n",
    "- 'in' 연산자 시간 복잡도(time complexity) >\n",
    "    - list, tuple : 하나하나 순회하기 때문에 데이터의 크기만큼 시간 복잡도를 갖는다.\n",
    "    - set, dictionary : 내부적으로 hash를 통해 자료를 저장하기 때문에 시간 복잡도가 낮다."
   ]
  },
  {
   "cell_type": "code",
   "execution_count": 4,
   "id": "a22a8885-f744-42c1-9935-e4cfbcd137ab",
   "metadata": {},
   "outputs": [
    {
     "name": "stdin",
     "output_type": "stream",
     "text": [
      " 5\n",
      " 4 1 5 2 3\n",
      " 5\n",
      " 1 3 7 9 5\n"
     ]
    },
    {
     "name": "stdout",
     "output_type": "stream",
     "text": [
      "1\n",
      "1\n",
      "0\n",
      "0\n",
      "1\n"
     ]
    }
   ],
   "source": [
    "## sol2 : 정답\n",
    "a = int(input())\n",
    "a_num = set(map(int, input().split(' ')))\n",
    "\n",
    "b = int(input())\n",
    "b_num = list(map(int, input().split(' ')))\n",
    "\n",
    "for i in range(b):\n",
    "    print(1) if b_num[i] in a_num else print(0)"
   ]
  },
  {
   "cell_type": "markdown",
   "id": "968e8bd4-47fd-463e-8fa0-55ac8a83ce5c",
   "metadata": {
    "tags": []
   },
   "source": [
    "### sys.stdin.readline() \n",
    "- 반복문을 여러줄 입력받아야 할때 input()으로 입력 받으면 시간 초과가 발생할 수 있음. sys.stdin.readline()을 사용하면 시간초과를 방지할 수 있다.\n",
    "- 단, jupyter notebook에서는 작동하지 않음.\n",
    "- jupyter notebook에서 작동하지 않기 때문에 'input=sys.stdin.readline'으로 놓고 실행함."
   ]
  },
  {
   "cell_type": "code",
   "execution_count": 7,
   "id": "4343888a-b186-4053-811d-022935b99b99",
   "metadata": {},
   "outputs": [],
   "source": [
    "import sys\n",
    "\n",
    "## 한 개의 정수를 입력받을 때\n",
    "a = int(sys.stdin.readline())\n",
    "\n",
    "## 저앻진 개수의 정수를 한줄에 입력받을 때\n",
    "a,b,c = map(int, sys.stdin.readline().split())"
   ]
  },
  {
   "cell_type": "code",
   "execution_count": null,
   "id": "380d3e4b-29e5-4d91-b256-bd6d0abe47b9",
   "metadata": {},
   "outputs": [],
   "source": [
    "## sys library를 활용하여 문제풀기\n",
    "import sys\n",
    "input = sys.stdin.readline\n",
    "\n",
    "a = int(input())\n",
    "a_num = set(map(int, input().split(' ')))\n",
    "\n",
    "b = int(input())\n",
    "b_num = list(map(int, input().split(' ')))\n",
    "\n",
    "for i in range(b):\n",
    "    print(1) if b_num[i] in a_num else print(0)"
   ]
  }
 ],
 "metadata": {
  "kernelspec": {
   "display_name": "Python 3 (ipykernel)",
   "language": "python",
   "name": "python3"
  },
  "language_info": {
   "codemirror_mode": {
    "name": "ipython",
    "version": 3
   },
   "file_extension": ".py",
   "mimetype": "text/x-python",
   "name": "python",
   "nbconvert_exporter": "python",
   "pygments_lexer": "ipython3",
   "version": "3.9.7"
  }
 },
 "nbformat": 4,
 "nbformat_minor": 5
}
