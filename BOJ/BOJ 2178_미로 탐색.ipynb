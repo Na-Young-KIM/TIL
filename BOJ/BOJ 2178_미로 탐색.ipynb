{
 "cells": [
  {
   "cell_type": "markdown",
   "id": "f7718002-a4eb-49b4-91f2-c6d1d38561cc",
   "metadata": {},
   "source": [
    "## BOJ 2178 : 미로 탐색\n",
    "### 문제\n",
    "N×M크기의 배열로 표현되는 미로가 있다.\n",
    "\n",
    "1\t0\t1\t1\t1\t1  \n",
    "1\t0\t1\t0\t1\t0  \n",
    "1\t0\t1\t0\t1\t1  \n",
    "1\t1\t1\t0\t1\t1  \n",
    "미로에서 1은 이동할 수 있는 칸을 나타내고, 0은 이동할 수 없는 칸을 나타낸다. 이러한 미로가 주어졌을 때, (1, 1)에서 출발하여 (N, M)의 위치로 이동할 때 지나야 하는 최소의 칸 수를 구하는 프로그램을 작성하시오. 한 칸에서 다른 칸으로 이동할 때, 서로 인접한 칸으로만 이동할 수 있다.\n",
    "\n",
    "위의 예에서는 15칸을 지나야 (N, M)의 위치로 이동할 수 있다. 칸을 셀 때에는 시작 위치와 도착 위치도 포함한다.\n",
    "\n",
    "### 입력\n",
    "첫째 줄에 두 정수 N, M(2 ≤ N, M ≤ 100)이 주어진다. 다음 N개의 줄에는 M개의 정수로 미로가 주어진다. 각각의 수들은 붙어서 입력으로 주어진다.\n",
    "\n",
    "### 출력\n",
    "첫째 줄에 지나야 하는 최소의 칸 수를 출력한다. 항상 도착위치로 이동할 수 있는 경우만 입력으로 주어진다."
   ]
  },
  {
   "cell_type": "code",
   "execution_count": 1,
   "id": "debeee61-89bb-4678-8bcb-5c1346f84010",
   "metadata": {},
   "outputs": [
    {
     "name": "stdin",
     "output_type": "stream",
     "text": [
      " 4 6\n",
      " 101111\n",
      " 101010\n",
      " 101011\n",
      " 111011\n"
     ]
    }
   ],
   "source": [
    "N, M = map(int, input().split())\n",
    "\n",
    "graph = []\n",
    "\n",
    "for _ in range(N):\n",
    "    graph.append(list(map(int, input())))"
   ]
  },
  {
   "cell_type": "code",
   "execution_count": 2,
   "id": "d1548e7a-c446-42e0-9f11-57c9cc2ffef4",
   "metadata": {},
   "outputs": [
    {
     "data": {
      "text/plain": [
       "[[1, 0, 1, 1, 1, 1],\n",
       " [1, 0, 1, 0, 1, 0],\n",
       " [1, 0, 1, 0, 1, 1],\n",
       " [1, 1, 1, 0, 1, 1]]"
      ]
     },
     "execution_count": 2,
     "metadata": {},
     "output_type": "execute_result"
    }
   ],
   "source": [
    "graph"
   ]
  },
  {
   "cell_type": "code",
   "execution_count": 9,
   "id": "48dbf7c4-8ef3-49a0-bac5-bffdc8eb988d",
   "metadata": {},
   "outputs": [],
   "source": [
    "from collections import deque\n",
    "def sol(x,y):\n",
    "    ## 상하좌우\n",
    "    dx = [-1,1,0,0]\n",
    "    dy = [0,0,-1,1]\n",
    "    \n",
    "    ## que 만들기\n",
    "    que = deque()\n",
    "    que.append((x,y))\n",
    "    \n",
    "    while que :\n",
    "        x, y = que.popleft()\n",
    "    \n",
    "        ## 상하좌우로 이동\n",
    "        for i in range(4):\n",
    "            nx = x + dx[i]\n",
    "            ny = y + dy[i]\n",
    "            \n",
    "            ## graph를 벗어나면 안됨\n",
    "            if nx<0 or nx>=N or ny<0 or ny>=M:\n",
    "                continue\n",
    "\n",
    "            ## 0이면 벽이므로 진행불가\n",
    "            if graph[nx][ny] == 0:\n",
    "                continue\n",
    "\n",
    "            ## 1이면 벽이 아니므로 진행가능\n",
    "            if graph[nx][ny] == 1:\n",
    "                graph[nx][ny] = graph[x][y] + 1\n",
    "                que.append((nx,ny))\n",
    "\n",
    "    return graph[N-1][M-1]"
   ]
  },
  {
   "cell_type": "code",
   "execution_count": 10,
   "id": "987e716a-f233-4fe0-ac2f-7e23f0cdf03f",
   "metadata": {},
   "outputs": [
    {
     "data": {
      "text/plain": [
       "15"
      ]
     },
     "execution_count": 10,
     "metadata": {},
     "output_type": "execute_result"
    }
   ],
   "source": [
    "sol(0,0)"
   ]
  },
  {
   "cell_type": "code",
   "execution_count": 40,
   "id": "6a607413-50d6-4fb5-b8d0-33da9f75cbc6",
   "metadata": {},
   "outputs": [
    {
     "name": "stdin",
     "output_type": "stream",
     "text": [
      " 1 2\n"
     ]
    },
    {
     "data": {
      "text/plain": [
       "[1, 2]"
      ]
     },
     "execution_count": 40,
     "metadata": {},
     "output_type": "execute_result"
    }
   ],
   "source": [
    "list(map(int, input().split()))"
   ]
  },
  {
   "cell_type": "code",
   "execution_count": 66,
   "id": "da75f9de-b73f-410f-81bf-7e3f466fc340",
   "metadata": {},
   "outputs": [],
   "source": [
    "from collections import deque\n",
    "def sol(x,y):\n",
    "    ## queue\n",
    "    que = deque()\n",
    "    que.append((x,y))\n",
    "    \n",
    "    ## 상하좌우\n",
    "    dx = [-1,1,0,0]\n",
    "    dy = [0,0,-1,1]\n",
    "    \n",
    "    while que : \n",
    "        x,y = que.popleft()\n",
    "        \n",
    "        ## 상하좌우로 이동\n",
    "        for i in range(4):\n",
    "            nx = x + dx[i]\n",
    "            ny = y + dy[i]\n",
    "        \n",
    "            ## graph를 벗어나면 안됨\n",
    "            if nx<0 or nx>=N or ny<0 or ny>=N:\n",
    "                continue\n",
    "            \n",
    "            ## 0이면 벽이므로 진행불가\n",
    "            if graph[nx][ny]==0 :\n",
    "                continue\n",
    "            \n",
    "            ## 1이면 벽이 아니므로 진행\n",
    "            if graph[nx][ny]==1 : \n",
    "                graph[nx][ny] = graph[x][y] + 1\n",
    "                que.append((nx,ny))\n",
    "        \n",
    "        return graph"
   ]
  },
  {
   "cell_type": "code",
   "execution_count": 67,
   "id": "71630bc1-c9dd-456b-b36a-038c542cadcf",
   "metadata": {},
   "outputs": [
    {
     "name": "stdout",
     "output_type": "stream",
     "text": [
      "[[1, 0, 1, 1, 1, 1], [2, 0, 1, 0, 1, 0], [1, 0, 1, 0, 1, 1], [1, 1, 1, 0, 1, 1]]\n"
     ]
    }
   ],
   "source": [
    "print(sol(0,0))"
   ]
  },
  {
   "cell_type": "code",
   "execution_count": null,
   "id": "35fc9a79-81d5-4694-bb8d-cf18c62a8e4a",
   "metadata": {},
   "outputs": [],
   "source": [
    "dd"
   ]
  }
 ],
 "metadata": {
  "kernelspec": {
   "display_name": "Python 3 (ipykernel)",
   "language": "python",
   "name": "python3"
  },
  "language_info": {
   "codemirror_mode": {
    "name": "ipython",
    "version": 3
   },
   "file_extension": ".py",
   "mimetype": "text/x-python",
   "name": "python",
   "nbconvert_exporter": "python",
   "pygments_lexer": "ipython3",
   "version": "3.9.7"
  }
 },
 "nbformat": 4,
 "nbformat_minor": 5
}
