{
 "cells": [
  {
   "cell_type": "markdown",
   "id": "aa0909e4-7705-4fdf-a44b-4322041feb35",
   "metadata": {},
   "source": [
    "## BOJ 2748 : 피보나치 수 2"
   ]
  },
  {
   "cell_type": "markdown",
   "id": "1abd4a82-e3d1-4e35-bd49-4ed76e9282c4",
   "metadata": {},
   "source": [
    "### 문제\n",
    "피보나치 수는 0과 1로 시작한다. 0번째 피보나치 수는 0이고, 1번째 피보나치 수는 1이다. 그 다음 2번째 부터는 바로 앞 두 피보나치 수의 합이 된다.\n",
    "\n",
    "이를 식으로 써보면 Fn = Fn-1 + Fn-2 (n ≥ 2)가 된다.\n",
    "\n",
    "n=17일때 까지 피보나치 수를 써보면 다음과 같다.\n",
    "\n",
    "0, 1, 1, 2, 3, 5, 8, 13, 21, 34, 55, 89, 144, 233, 377, 610, 987, 1597\n",
    "\n",
    "n이 주어졌을 때, n번째 피보나치 수를 구하는 프로그램을 작성하시오.\n",
    "\n",
    "### 입력\n",
    "첫째 줄에 n이 주어진다. n은 90보다 작거나 같은 자연수이다.\n",
    "\n",
    "### 출력\n",
    "첫째 줄에 n번째 피보나치 수를 출력한다."
   ]
  },
  {
   "cell_type": "code",
   "execution_count": 4,
   "id": "991a56b1-e0f6-4b31-a31a-0030e4689acb",
   "metadata": {},
   "outputs": [
    {
     "name": "stdin",
     "output_type": "stream",
     "text": [
      " 10\n"
     ]
    },
    {
     "name": "stdout",
     "output_type": "stream",
     "text": [
      "55\n"
     ]
    }
   ],
   "source": [
    "## sol1 : 재귀 => 시간초과 에러 \n",
    "\n",
    "def fibo(n):\n",
    "    if n<2 :\n",
    "        return n\n",
    "    else : \n",
    "        return fibo(n-1)+fibo(n-2)\n",
    "    \n",
    "n = int(input())\n",
    "print(fibo(n))"
   ]
  },
  {
   "cell_type": "markdown",
   "id": "21cbd9e2-ec87-4f18-9a9a-c04243b9c0cd",
   "metadata": {},
   "source": [
    "앞서 BOJ 10870(피보나치 수 5)에서는 생기지 않았던 시간초과 에러가 발생한다. <br/>\n",
    "입력 n이 20보다 작거나 같은 수에서 90보다 작거나 같은 수로 커졌기 때문에 재귀로 풀었을때 시간 초과가 발생한다. <br/>\n",
    "이는 피보나치 수 5에서 sol1과 같이 for 문을 반복해서 수행하면 해결할 수 있다. "
   ]
  },
  {
   "cell_type": "code",
   "execution_count": 10,
   "id": "e27727f3-d325-4209-9e12-4c6a21900869",
   "metadata": {},
   "outputs": [
    {
     "name": "stdin",
     "output_type": "stream",
     "text": [
      " 10\n"
     ]
    },
    {
     "name": "stdout",
     "output_type": "stream",
     "text": [
      "55\n"
     ]
    }
   ],
   "source": [
    "## sol2 : 리스트로 풀기\n",
    "\n",
    "fibo = [0,1]\n",
    "n = int(input())\n",
    "\n",
    "for i in range(n-1):\n",
    "    fibo.append(fibo[i]+fibo[i+1])\n",
    "    \n",
    "print(fibo[n])"
   ]
  },
  {
   "cell_type": "markdown",
   "id": "a81b4e25-d32a-4944-bbd9-8832dd21d344",
   "metadata": {},
   "source": [
    "재귀 함수 알고리즘의 문제점은 엄청 많은 중복 호출을 발생시킨다는 점이다. => Top-down 방식 <br/>\n",
    "이를 해결하기 위해 Bottom-up 방식을 사용하여 문제를 해결했다. "
   ]
  }
 ],
 "metadata": {
  "kernelspec": {
   "display_name": "Python 3 (ipykernel)",
   "language": "python",
   "name": "python3"
  },
  "language_info": {
   "codemirror_mode": {
    "name": "ipython",
    "version": 3
   },
   "file_extension": ".py",
   "mimetype": "text/x-python",
   "name": "python",
   "nbconvert_exporter": "python",
   "pygments_lexer": "ipython3",
   "version": "3.9.7"
  }
 },
 "nbformat": 4,
 "nbformat_minor": 5
}
