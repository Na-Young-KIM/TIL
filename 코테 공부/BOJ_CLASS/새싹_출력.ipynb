{
 "cells": [
  {
   "cell_type": "markdown",
   "id": "83516bb2-ae65-4fa9-8bcb-f1426550d88d",
   "metadata": {},
   "source": [
    "## BOJ 2557 : Hello World"
   ]
  },
  {
   "cell_type": "code",
   "execution_count": 1,
   "id": "c8dc5c0e-ac4f-4fd5-91f0-8c4f955fc049",
   "metadata": {},
   "outputs": [
    {
     "name": "stdout",
     "output_type": "stream",
     "text": [
      "Hello World!\n"
     ]
    }
   ],
   "source": [
    "print('Hello World!')"
   ]
  },
  {
   "cell_type": "markdown",
   "id": "e6bccc1b-9c95-4b43-88f8-693c306f24e4",
   "metadata": {},
   "source": [
    "## BOJ 10699 : 오늘 날짜"
   ]
  },
  {
   "cell_type": "code",
   "execution_count": 13,
   "id": "d6b7c638-178b-43ed-bdac-64e8b56c4b3e",
   "metadata": {},
   "outputs": [
    {
     "name": "stdout",
     "output_type": "stream",
     "text": [
      "2023-01-03\n"
     ]
    }
   ],
   "source": [
    "from datetime import datetime\n",
    "\n",
    "date = datetime.today().strftime('%Y-%m-%d')\n",
    "print(date)"
   ]
  },
  {
   "cell_type": "markdown",
   "id": "e4d91e71-7468-43ef-9286-7b35f474e76e",
   "metadata": {},
   "source": [
    "## BOJ 7287 : 등록 "
   ]
  },
  {
   "cell_type": "code",
   "execution_count": 21,
   "id": "37bdf475-bf51-47f2-9e31-6e8f46ee9d75",
   "metadata": {},
   "outputs": [
    {
     "name": "stdout",
     "output_type": "stream",
     "text": [
      "49\n",
      "nadud970203\n"
     ]
    }
   ],
   "source": [
    "print('49\\nnadud970203')"
   ]
  },
  {
   "cell_type": "markdown",
   "id": "987a5b85-98f0-450f-b919-208c79cefbcf",
   "metadata": {
    "tags": []
   },
   "source": [
    "## BOJ 10171 : 고양이 "
   ]
  },
  {
   "cell_type": "code",
   "execution_count": 29,
   "id": "45cfc5c5-c85e-4278-bc2c-b9b6e796c061",
   "metadata": {},
   "outputs": [
    {
     "name": "stdout",
     "output_type": "stream",
     "text": [
      "\\    /\\\n",
      " )  ( ')\n",
      "(  /  )\n",
      " \\(__)|\n"
     ]
    }
   ],
   "source": [
    "print(\"\\    /\\\\\")\n",
    "print(\" )  ( ')\")\n",
    "print('(  /  )')\n",
    "print(' \\(__)|')"
   ]
  },
  {
   "cell_type": "markdown",
   "id": "f6b0d654-da59-4368-be04-68bade88cf97",
   "metadata": {},
   "source": [
    "## BOJ 10172 : 개"
   ]
  },
  {
   "cell_type": "code",
   "execution_count": 33,
   "id": "53f35ccf-6fe4-49e5-8c63-781c8cd722b2",
   "metadata": {},
   "outputs": [
    {
     "name": "stdout",
     "output_type": "stream",
     "text": [
      "|\\_/|\n",
      "|q p|   /}\n",
      "( 0 )\"\"\"\\\n",
      "|\"^\"`    |\n",
      "||_/=\\\\__|\n"
     ]
    }
   ],
   "source": [
    "print('|\\_/|')\n",
    "print('|q p|   /}')\n",
    "print('( 0 )\"\"\"\\\\')\n",
    "print('|\"^\"`    |')\n",
    "print('||_/=\\\\\\\\__|')"
   ]
  },
  {
   "cell_type": "markdown",
   "id": "cb53eb0b-fd9b-4924-bf59-5f4cae37f5b6",
   "metadata": {},
   "source": [
    "## BOJ 25083 : 새싹"
   ]
  },
  {
   "cell_type": "code",
   "execution_count": 37,
   "id": "25a1ed24-05dd-4352-adb7-abe72ff1c505",
   "metadata": {},
   "outputs": [
    {
     "name": "stdout",
     "output_type": "stream",
     "text": [
      "         ,r'\"7\n",
      "r`-_   ,'  ,/\n",
      " \\. \". L_r'\n",
      "   `~\\/\n",
      "      |\n",
      "      |\n"
     ]
    }
   ],
   "source": [
    "print('         ,r\\'\"7')\n",
    "print(\"r`-_   ,'  ,/\")\n",
    "print(\" \\. \\\". L_r'\")\n",
    "print(\"   `~\\/\")\n",
    "print(\"      |\")\n",
    "print(\"      |\")"
   ]
  }
 ],
 "metadata": {
  "kernelspec": {
   "display_name": "Python 3 (ipykernel)",
   "language": "python",
   "name": "python3"
  },
  "language_info": {
   "codemirror_mode": {
    "name": "ipython",
    "version": 3
   },
   "file_extension": ".py",
   "mimetype": "text/x-python",
   "name": "python",
   "nbconvert_exporter": "python",
   "pygments_lexer": "ipython3",
   "version": "3.9.12"
  }
 },
 "nbformat": 4,
 "nbformat_minor": 5
}
