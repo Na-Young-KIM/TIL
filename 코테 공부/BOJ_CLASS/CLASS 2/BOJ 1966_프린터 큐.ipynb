{
 "cells": [
  {
   "cell_type": "markdown",
   "id": "841e8b41-e5bb-4b62-9c49-3eeb243a32ea",
   "metadata": {},
   "source": [
    "## BOJ 1966 : 프린터 큐\n",
    "### 문제\n",
    "여러분도 알다시피 여러분의 프린터 기기는 여러분이 인쇄하고자 하는 문서를 인쇄 명령을 받은 ‘순서대로’, 즉 먼저 요청된 것을 먼저 인쇄한다. 여러 개의 문서가 쌓인다면 Queue 자료구조에 쌓여서 FIFO - First In First Out - 에 따라 인쇄가 되게 된다. 하지만 상근이는 새로운 프린터기 내부 소프트웨어를 개발하였는데, 이 프린터기는 다음과 같은 조건에 따라 인쇄를 하게 된다.\n",
    "\n",
    "1. 현재 Queue의 가장 앞에 있는 문서의 ‘중요도’를 확인한다.\n",
    "2. 나머지 문서들 중 현재 문서보다 중요도가 높은 문서가 하나라도 있다면, 이 문서를 인쇄하지 않고 Queue의 가장 뒤에 재배치 한다. 그렇지 않다면 바로 인쇄를 한다.\n",
    "예를 들어 Queue에 4개의 문서(A B C D)가 있고, 중요도가 2 1 4 3 라면 C를 인쇄하고, 다음으로 D를 인쇄하고 A, B를 인쇄하게 된다.\n",
    "\n",
    "여러분이 할 일은, 현재 Queue에 있는 문서의 수와 중요도가 주어졌을 때, 어떤 한 문서가 몇 번째로 인쇄되는지 알아내는 것이다. 예를 들어 위의 예에서 C문서는 1번째로, A문서는 3번째로 인쇄되게 된다.\n",
    "### 입력\n",
    "첫 줄에 테스트케이스의 수가 주어진다. 각 테스트케이스는 두 줄로 이루어져 있다.\n",
    "\n",
    "테스트케이스의 첫 번째 줄에는 문서의 개수 N(1 ≤ N ≤ 100)과, 몇 번째로 인쇄되었는지 궁금한 문서가 현재 Queue에서 몇 번째에 놓여 있는지를 나타내는 정수 M(0 ≤ M < N)이 주어진다. 이때 맨 왼쪽은 0번째라고 하자. 두 번째 줄에는 N개 문서의 중요도가 차례대로 주어진다. 중요도는 1 이상 9 이하의 정수이고, 중요도가 같은 문서가 여러 개 있을 수도 있다.\n",
    "### 출력\n",
    "각 테스트 케이스에 대해 문서가 몇 번째로 인쇄되는지 출력한다."
   ]
  },
  {
   "cell_type": "markdown",
   "id": "aae2007e-ee1d-4903-b1e7-1c65f0653520",
   "metadata": {},
   "source": [
    "### 풀이방법\n",
    "- M의 자리수를 이동해가면서 (M-1)\n",
    "- queue의 맨 앞의 수가 최대값이 아니면 맨 뒤로 옮기고 (que.append(que.popleft()))\n",
    "- queue의 맨 앞의 수가 최대값이면 인쇄한다. (que.popleft())\n",
    "    - 결과값 +1 을 한다 (aws+=1)\n",
    "    - 이때 맨 앞의 수가 찾고자 하는 M이면 반복문을 멈춘다"
   ]
  },
  {
   "cell_type": "code",
   "execution_count": 145,
   "id": "0b344945-d974-49c6-ad44-fe7949f3a99d",
   "metadata": {},
   "outputs": [
    {
     "name": "stdin",
     "output_type": "stream",
     "text": [
      " 3\n",
      " 1 0\n",
      " 5\n"
     ]
    },
    {
     "name": "stdout",
     "output_type": "stream",
     "text": [
      "1\n"
     ]
    },
    {
     "name": "stdin",
     "output_type": "stream",
     "text": [
      " 4 2\n",
      " 1 2 3 4\n"
     ]
    },
    {
     "name": "stdout",
     "output_type": "stream",
     "text": [
      "2\n"
     ]
    },
    {
     "name": "stdin",
     "output_type": "stream",
     "text": [
      " 6 0 \n",
      " 1 1 9 1 1 1 \n"
     ]
    },
    {
     "name": "stdout",
     "output_type": "stream",
     "text": [
      "5\n"
     ]
    }
   ],
   "source": [
    "from collections import deque\n",
    "\n",
    "## 입력받기 \n",
    "T = int(input())\n",
    "for i in range(T):\n",
    "    ans = 0\n",
    "    N, M = map(int, input().split())\n",
    "    que = deque(list(map(int, input().split())))\n",
    "    \n",
    "    ## 알고리즘 계산 \n",
    "    while len(que)>0:\n",
    "        # 맨앞의 수가 최대값이 아니면 맨 뒤로 옮긴다\n",
    "        if max(que)!=que[0]:\n",
    "            que.append(que.popleft())\n",
    "        # 맨 앞의 수가 최대값이면 출력하고, ans에 1를 더한다\n",
    "        else:\n",
    "            que.popleft()\n",
    "            ans += 1 \n",
    "            # 최대값이 우리가 원하는 수면 while문을 멈춘다\n",
    "            if M==0:\n",
    "                break\n",
    "        # 우리가 원하는 수의 위치가 계속 변한다 \n",
    "        M -= 1 \n",
    "        if M<0:\n",
    "            M += len(que)\n",
    "    ## 결과 출력 \n",
    "    print(ans)"
   ]
  }
 ],
 "metadata": {
  "kernelspec": {
   "display_name": "Python 3 (ipykernel)",
   "language": "python",
   "name": "python3"
  },
  "language_info": {
   "codemirror_mode": {
    "name": "ipython",
    "version": 3
   },
   "file_extension": ".py",
   "mimetype": "text/x-python",
   "name": "python",
   "nbconvert_exporter": "python",
   "pygments_lexer": "ipython3",
   "version": "3.9.12"
  }
 },
 "nbformat": 4,
 "nbformat_minor": 5
}
