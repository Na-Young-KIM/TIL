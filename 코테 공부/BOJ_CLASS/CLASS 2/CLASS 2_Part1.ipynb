{
 "cells": [
  {
   "cell_type": "markdown",
   "id": "2a529efa-5e69-4194-8f8b-d386f1f68c0a",
   "metadata": {},
   "source": [
    "## BOJ 1085 : 직사각형에서 탈출\n",
    "한수는 지금 (x, y)에 있다. 직사각형은 각 변이 좌표축에 평행하고, 왼쪽 아래 꼭짓점은 (0, 0), 오른쪽 위 꼭짓점은 (w, h)에 있다. 직사각형의 경계선까지 가는 거리의 최솟값을 구하는 프로그램을 작성하시오."
   ]
  },
  {
   "cell_type": "code",
   "execution_count": 7,
   "id": "4a0f0310-2174-44ce-8259-65d883b8982c",
   "metadata": {},
   "outputs": [
    {
     "name": "stdin",
     "output_type": "stream",
     "text": [
      " 1 1 5 5\n"
     ]
    },
    {
     "name": "stdout",
     "output_type": "stream",
     "text": [
      "1\n"
     ]
    }
   ],
   "source": [
    "# 입력 받기\n",
    "x, y, w, h = map(int, input().split())\n",
    "\n",
    "# 좌표에서 꼭짓점까지의 거리 계산\n",
    "w, h = w-x, h-y\n",
    "\n",
    "# 최솟값 출력\n",
    "result = min(x, y, w, h)\n",
    "print(result)"
   ]
  },
  {
   "cell_type": "markdown",
   "id": "d9d5cd5c-020c-48e9-ae58-e89c7aaab809",
   "metadata": {},
   "source": [
    "## BOJ 4153 : 직각삼각형\n",
    "과거 이집트인들은 각 변들의 길이가 3, 4, 5인 삼각형이 직각 삼각형인것을 알아냈다. 주어진 세변의 길이로 삼각형이 직각인지 아닌지 구분하시오."
   ]
  },
  {
   "cell_type": "code",
   "execution_count": 9,
   "id": "0b670d92-3275-4304-97d6-4041c7636281",
   "metadata": {},
   "outputs": [
    {
     "name": "stdin",
     "output_type": "stream",
     "text": [
      " 5 12 13\n"
     ]
    },
    {
     "name": "stdout",
     "output_type": "stream",
     "text": [
      "right\n"
     ]
    },
    {
     "name": "stdin",
     "output_type": "stream",
     "text": [
      " 13 5 12\n"
     ]
    },
    {
     "name": "stdout",
     "output_type": "stream",
     "text": [
      "right\n"
     ]
    },
    {
     "name": "stdin",
     "output_type": "stream",
     "text": [
      " 12 13 5\n"
     ]
    },
    {
     "name": "stdout",
     "output_type": "stream",
     "text": [
      "right\n"
     ]
    },
    {
     "name": "stdin",
     "output_type": "stream",
     "text": [
      " 0 0 0\n"
     ]
    }
   ],
   "source": [
    "while True:\n",
    "    a, b, c = map(int, input().split())\n",
    "    if (a==0)&(b==0)&(c==0):\n",
    "        break\n",
    "    if a**2 + b**2 == c**2 :\n",
    "        print('right')\n",
    "    elif b**2 + c**2 == a**2:\n",
    "        print('right')\n",
    "    elif a**2 + c**2 == b**2:\n",
    "        print('right')\n",
    "    else:\n",
    "        print('wrong')"
   ]
  },
  {
   "cell_type": "markdown",
   "id": "409bd789-084b-42e2-a744-6bd02cfd2dfe",
   "metadata": {},
   "source": [
    "## BOJ 10250 : ACM 호텔\n",
    "호텔 정문으로부터 걷는 거리가 가장 짧도록 방을 배정하는 프로그램을 작성하고자 한다."
   ]
  },
  {
   "cell_type": "code",
   "execution_count": 24,
   "id": "9710eaae-3b6f-4623-8a42-a8ea913cbc0a",
   "metadata": {},
   "outputs": [
    {
     "data": {
      "text/plain": [
       "46"
      ]
     },
     "execution_count": 24,
     "metadata": {},
     "output_type": "execute_result"
    }
   ],
   "source": [
    "T = int(input())\n",
    "for i in range(T):\n",
    "    h, w, n = map(int, input().split())\n",
    "\n",
    "    a = n % h\n",
    "    b = n // h + 1\n",
    "    if a==0:\n",
    "        a = h\n",
    "        b -= 1\n",
    "    if len(str(b))>=2:\n",
    "        print(str(a)+str(b))\n",
    "    else:\n",
    "        print(str(a)+'0'+str(b))"
   ]
  },
  {
   "cell_type": "markdown",
   "id": "2bef76b8-1aa4-4827-8dba-75cb8bf46be2",
   "metadata": {},
   "source": [
    "## BOJ 2231 : 분해합\n",
    "어떤 자연수 N이 있을 때, 그 자연수 N의 분해합은 N과 N을 이루는 각 자리수의 합을 의미한다. 어떤 자연수 M의 분해합이 N인 경우, M을 N의 생성자라 한다. 예를 들어, 245의 분해합은 256(=245+2+4+5)이 된다. 따라서 245는 256의 생성자가 된다. 물론, 어떤 자연수의 경우에는 생성자가 없을 수도 있다. 반대로, 생성자가 여러 개인 자연수도 있을 수 있다.\n",
    "\n",
    "자연수 N이 주어졌을 때, N의 가장 작은 생성자를 구해내는 프로그램을 작성하시오."
   ]
  },
  {
   "cell_type": "markdown",
   "id": "c18a4af7-602f-41f5-9651-3cc15ad75049",
   "metadata": {},
   "source": [
    "### 첫번째 접근방법\n",
    "- \"101*a + 11*b + 2*c\" 라는 수식으로 생성자를 계산하려고 하였음.\n",
    "- 그러나, 실제로 입력의 자연수는 1,000,000자리의 수 이므로, 위의 수식보다 훨씬 복잡한 수식이 필요하여 다른 방법을 모색함"
   ]
  },
  {
   "cell_type": "code",
   "execution_count": 29,
   "id": "aa9efcff-670c-4057-98da-496c1f2dc679",
   "metadata": {},
   "outputs": [
    {
     "name": "stdin",
     "output_type": "stream",
     "text": [
      " 216\n"
     ]
    },
    {
     "name": "stdout",
     "output_type": "stream",
     "text": [
      "198\n"
     ]
    }
   ],
   "source": [
    "# 입력받기 \n",
    "n = int(input())\n",
    "\n",
    "# 생성자 계산 \n",
    "m_list = [] \n",
    "for a in range(10):\n",
    "    for b in range(10):\n",
    "        for c in range(10):\n",
    "            if 101*a + 11*b + 2*c == n:\n",
    "                m_list.append(100*a+10*b+c)\n",
    "\n",
    "# 출력\n",
    "if len(m_list)>=1:\n",
    "    print(m_list[0])\n",
    "else:\n",
    "    print(0)"
   ]
  },
  {
   "cell_type": "markdown",
   "id": "e5e33475-d688-41c2-8b37-bfa6523f25f9",
   "metadata": {},
   "source": [
    "### 최종 풀이\n",
    "- 아래 풀이에서 for문을 사용하지 않고, \"sum(map(int, str(1234566)))\"의 코드를 사용하면 더 깔끔하고, 시간도 적게 걸릴 듯."
   ]
  },
  {
   "cell_type": "code",
   "execution_count": 28,
   "id": "f40492e0-9393-4197-a11b-a5acabb06a39",
   "metadata": {
    "tags": []
   },
   "outputs": [
    {
     "name": "stdin",
     "output_type": "stream",
     "text": [
      " 216\n"
     ]
    },
    {
     "name": "stdout",
     "output_type": "stream",
     "text": [
      "198\n"
     ]
    }
   ],
   "source": [
    "# 입력받기 \n",
    "n = int(input())\n",
    "a = 0\n",
    "\n",
    "# 생성자 계산 \n",
    "while True:\n",
    "    m = a\n",
    "    for i in str(m):\n",
    "        m += int(i)\n",
    "    \n",
    "    # 결과 출력 \n",
    "    if m == n:\n",
    "        print(a)\n",
    "        break\n",
    "    elif a==n:\n",
    "        print(0)\n",
    "        break\n",
    "        \n",
    "    a += 1"
   ]
  }
 ],
 "metadata": {
  "kernelspec": {
   "display_name": "Python 3 (ipykernel)",
   "language": "python",
   "name": "python3"
  },
  "language_info": {
   "codemirror_mode": {
    "name": "ipython",
    "version": 3
   },
   "file_extension": ".py",
   "mimetype": "text/x-python",
   "name": "python",
   "nbconvert_exporter": "python",
   "pygments_lexer": "ipython3",
   "version": "3.9.12"
  }
 },
 "nbformat": 4,
 "nbformat_minor": 5
}
