{
 "cells": [
  {
   "cell_type": "markdown",
   "id": "8f2e5293-211f-4e8a-9d94-f3c8d7cba110",
   "metadata": {},
   "source": [
    "## BOJ 1018 : 체스판 다시 칠하기\n",
    "### 문제\n",
    "지민이는 자신의 저택에서 MN개의 단위 정사각형으로 나누어져 있는 M×N 크기의 보드를 찾았다. 어떤 정사각형은 검은색으로 칠해져 있고, 나머지는 흰색으로 칠해져 있다. 지민이는 이 보드를 잘라서 8×8 크기의 체스판으로 만들려고 한다.\n",
    "\n",
    "체스판은 검은색과 흰색이 번갈아서 칠해져 있어야 한다. 구체적으로, 각 칸이 검은색과 흰색 중 하나로 색칠되어 있고, 변을 공유하는 두 개의 사각형은 다른 색으로 칠해져 있어야 한다. 따라서 이 정의를 따르면 체스판을 색칠하는 경우는 두 가지뿐이다. 하나는 맨 왼쪽 위 칸이 흰색인 경우, 하나는 검은색인 경우이다.\n",
    "\n",
    "보드가 체스판처럼 칠해져 있다는 보장이 없어서, 지민이는 8×8 크기의 체스판으로 잘라낸 후에 몇 개의 정사각형을 다시 칠해야겠다고 생각했다. 당연히 8*8 크기는 아무데서나 골라도 된다. 지민이가 다시 칠해야 하는 정사각형의 최소 개수를 구하는 프로그램을 작성하시오.\n",
    "### 입력\n",
    "첫째 줄에 N과 M이 주어진다. N과 M은 8보다 크거나 같고, 50보다 작거나 같은 자연수이다. 둘째 줄부터 N개의 줄에는 보드의 각 행의 상태가 주어진다. B는 검은색이며, W는 흰색이다.\n",
    "### 출력\n",
    "첫째 줄에 지민이가 다시 칠해야 하는 정사각형 개수의 최솟값을 출력한다."
   ]
  },
  {
   "cell_type": "markdown",
   "id": "21bf345f-2086-4b92-806e-4076c6c0911f",
   "metadata": {},
   "source": [
    "### 풀이방법\n",
    "- W와 B로 시작하는 정답셋을 각각 만든다. \n",
    "- 정답셋과 입력받은 값들을 하나씩 비교해가면서 차이를 계산한 후\n",
    "- 차이값이 가장 적은 것을 출력한다."
   ]
  },
  {
   "cell_type": "code",
   "execution_count": 241,
   "id": "1d01fb83-08de-48a4-9db9-9f875f5de3e3",
   "metadata": {},
   "outputs": [
    {
     "name": "stdin",
     "output_type": "stream",
     "text": [
      " 9 23\n",
      " BBBBBBBBBBBBBBBBBBBBBBB\n",
      " BBBBBBBBBBBBBBBBBBBBBBB\n",
      " BBBBBBBBBBBBBBBBBBBBBBB\n",
      " BBBBBBBBBBBBBBBBBBBBBBB\n",
      " BBBBBBBBBBBBBBBBBBBBBBB\n",
      " BBBBBBBBBBBBBBBBBBBBBBB\n",
      " BBBBBBBBBBBBBBBBBBBBBBB\n",
      " BBBBBBBBBBBBBBBBBBBBBBB\n",
      " BBBBBBBBBBBBBBBBBBBBBBW\n"
     ]
    },
    {
     "name": "stdout",
     "output_type": "stream",
     "text": [
      "31\n"
     ]
    }
   ],
   "source": [
    "## 정답 결과셋 만들기\n",
    "N1 = 8\n",
    "# 정답셋 1\n",
    "ans1 = [[0 for i in range(N1)] for j in range(N1)]\n",
    "for i in range(N1):\n",
    "    for j in range(N1):\n",
    "        if (i+j)%2==0:\n",
    "            ans1[i][j] = 'W'\n",
    "        else: \n",
    "            ans1[i][j] = 'B'\n",
    "# 정답셋 2\n",
    "ans2 = [[0 for i in range(N1)] for i in range(N1)]\n",
    "for i in range(N1):\n",
    "    for j in range(N1):\n",
    "        if (i+j)%2==0:\n",
    "            ans2[i][j] = 'B'\n",
    "        else: \n",
    "            ans2[i][j] = 'W'\n",
    "            \n",
    "## 입력받기\n",
    "N, M = map(int, input().split())\n",
    "n_list = []\n",
    "for i in range(N):\n",
    "    n_list.append(list(input()))\n",
    "    \n",
    "## 알고리즘 계산\n",
    "min_res = []\n",
    "for n in range(N-N1+1):\n",
    "    for m in range(M-N1+1):\n",
    "        res1, res2 = 0, 0\n",
    "        for i in range(n, n+8):\n",
    "            for j in range(m, m+8):\n",
    "                if n_list[i][j] != ans1[i-n][j-m]:\n",
    "                    res1 += 1\n",
    "                if n_list[i][j] != ans2[i-n][j-m]:\n",
    "                    res2 += 1\n",
    "        min_res.append(min(res1, res2))\n",
    "\n",
    "## 출력하기\n",
    "print(min(min_res))"
   ]
  }
 ],
 "metadata": {
  "kernelspec": {
   "display_name": "Python 3 (ipykernel)",
   "language": "python",
   "name": "python3"
  },
  "language_info": {
   "codemirror_mode": {
    "name": "ipython",
    "version": 3
   },
   "file_extension": ".py",
   "mimetype": "text/x-python",
   "name": "python",
   "nbconvert_exporter": "python",
   "pygments_lexer": "ipython3",
   "version": "3.9.12"
  }
 },
 "nbformat": 4,
 "nbformat_minor": 5
}
