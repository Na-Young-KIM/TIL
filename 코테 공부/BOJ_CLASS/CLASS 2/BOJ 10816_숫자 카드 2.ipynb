{
 "cells": [
  {
   "cell_type": "markdown",
   "id": "d0641200-00db-4d4e-8ea8-e124ff7b8ba2",
   "metadata": {},
   "source": [
    "## BOJ 10816 : 숫자 카드 2\n",
    "### 문제\n",
    "숫자 카드는 정수 하나가 적혀져 있는 카드이다. 상근이는 숫자 카드 N개를 가지고 있다. 정수 M개가 주어졌을 때, 이 수가 적혀있는 숫자 카드를 상근이가 몇 개 가지고 있는지 구하는 프로그램을 작성하시오.\n",
    "### 입력\n",
    "첫째 줄에 상근이가 가지고 있는 숫자 카드의 개수 N(1 ≤ N ≤ 500,000)이 주어진다. 둘째 줄에는 숫자 카드에 적혀있는 정수가 주어진다. 숫자 카드에 적혀있는 수는 -10,000,000보다 크거나 같고, 10,000,000보다 작거나 같다.\n",
    "\n",
    "셋째 줄에는 M(1 ≤ M ≤ 500,000)이 주어진다. 넷째 줄에는 상근이가 몇 개 가지고 있는 숫자 카드인지 구해야 할 M개의 정수가 주어지며, 이 수는 공백으로 구분되어져 있다. 이 수도 -10,000,000보다 크거나 같고, 10,000,000보다 작거나 같다.\n",
    "### 출력\n",
    "첫째 줄에 입력으로 주어진 M개의 수에 대해서, 각 수가 적힌 숫자 카드를 상근이가 몇 개 가지고 있는지를 공백으로 구분해 출력한다."
   ]
  },
  {
   "cell_type": "markdown",
   "id": "78f20192-3811-479d-959a-9b62ab0a86b1",
   "metadata": {},
   "source": [
    "### 풀이방법\n",
    "- 데이터를 list형태로 받는다.\n",
    "- dictionary를 생성한 후, list에 있는 갯수만큼 +1한다.\n",
    "- dictionary에 값이 있으면 갯수를 출력하고, 없으면 0을 출력한다."
   ]
  },
  {
   "cell_type": "code",
   "execution_count": 38,
   "id": "f1ff3468-b7b0-4f1a-91f0-709de9b2cf23",
   "metadata": {},
   "outputs": [
    {
     "name": "stdin",
     "output_type": "stream",
     "text": [
      " 10\n",
      " 6 3 2 10 10 10 -10 -10 7 3\n",
      " 8\n",
      " 10 9 -5 2 3 4 5 -10\n"
     ]
    },
    {
     "name": "stdout",
     "output_type": "stream",
     "text": [
      "3 0 0 1 2 0 0 2 "
     ]
    }
   ],
   "source": [
    "## 입력받기\n",
    "N = int(input())\n",
    "n_list = list(map(int, input().split()))\n",
    "M = int(input())\n",
    "m_list = list(map(int, input().split()))\n",
    "n_dic = {}\n",
    "\n",
    "## n의 개수를 dictionary로 생성\n",
    "for n in n_list:\n",
    "    if n in n_dic:\n",
    "        n_dic[n] += 1\n",
    "    else:\n",
    "        n_dic[n] = 1\n",
    "\n",
    "## 출력하기\n",
    "for m in m_list:\n",
    "    if m in n_dic:\n",
    "        print(n_dic[m], end=' ')\n",
    "    else:\n",
    "        print(0, end=' ')"
   ]
  },
  {
   "cell_type": "markdown",
   "id": "c95a60b6-b67e-43b5-9e37-30eef80aaceb",
   "metadata": {},
   "source": [
    "### 풀이방법 2 \n",
    "- Counter 함수를 이용하는 방법 "
   ]
  },
  {
   "cell_type": "code",
   "execution_count": 46,
   "id": "33752a66-9e03-4efc-b0eb-54e95f3c200f",
   "metadata": {},
   "outputs": [
    {
     "name": "stdin",
     "output_type": "stream",
     "text": [
      " 10\n",
      " 6 3 2 10 10 10 -10 -10 7 3\n",
      " 8\n",
      " 10 9 -5 2 3 4 5 -10\n"
     ]
    }
   ],
   "source": [
    "from collections import Counter\n",
    "N = int(input())\n",
    "n_list = input().split()\n",
    "M = int(input())\n",
    "m_list = input().split()\n",
    "\n",
    "C = Counter(n_list)\n",
    "for m in m_list:\n",
    "    if m in C:\n",
    "        print(C[m], end=' ')\n",
    "    else:\n",
    "        print(0, end=' ')"
   ]
  }
 ],
 "metadata": {
  "kernelspec": {
   "display_name": "Python 3 (ipykernel)",
   "language": "python",
   "name": "python3"
  },
  "language_info": {
   "codemirror_mode": {
    "name": "ipython",
    "version": 3
   },
   "file_extension": ".py",
   "mimetype": "text/x-python",
   "name": "python",
   "nbconvert_exporter": "python",
   "pygments_lexer": "ipython3",
   "version": "3.9.12"
  }
 },
 "nbformat": 4,
 "nbformat_minor": 5
}
