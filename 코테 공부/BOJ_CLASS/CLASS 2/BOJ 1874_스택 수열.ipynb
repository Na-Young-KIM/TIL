{
 "cells": [
  {
   "cell_type": "markdown",
   "id": "1bfc5549-5833-4a07-beb9-169d43d6a37f",
   "metadata": {},
   "source": [
    "## BOJ 1874 : 스택 수열\n",
    "### 문제\n",
    "스택 (stack)은 기본적인 자료구조 중 하나로, 컴퓨터 프로그램을 작성할 때 자주 이용되는 개념이다. 스택은 자료를 넣는 (push) 입구와 자료를 뽑는 (pop) 입구가 같아 제일 나중에 들어간 자료가 제일 먼저 나오는 (LIFO, Last in First out) 특성을 가지고 있다.\n",
    "\n",
    "1부터 n까지의 수를 스택에 넣었다가 뽑아 늘어놓음으로써, 하나의 수열을 만들 수 있다. 이때, 스택에 push하는 순서는 반드시 오름차순을 지키도록 한다고 하자. 임의의 수열이 주어졌을 때 스택을 이용해 그 수열을 만들 수 있는지 없는지, 있다면 어떤 순서로 push와 pop 연산을 수행해야 하는지를 알아낼 수 있다. 이를 계산하는 프로그램을 작성하라.\n",
    "### 입력\n",
    "첫 줄에 n (1 ≤ n ≤ 100,000)이 주어진다. 둘째 줄부터 n개의 줄에는 수열을 이루는 1이상 n이하의 정수가 하나씩 순서대로 주어진다. 물론 같은 정수가 두 번 나오는 일은 없다.\n",
    "### 출력\n",
    "입력된 수열을 만들기 위해 필요한 연산을 한 줄에 한 개씩 출력한다. push연산은 +로, pop 연산은 -로 표현하도록 한다. 불가능한 경우 NO를 출력한다."
   ]
  },
  {
   "cell_type": "code",
   "execution_count": 23,
   "id": "6dd364eb-8999-4af4-a511-b3e0172b98bd",
   "metadata": {},
   "outputs": [
    {
     "name": "stdin",
     "output_type": "stream",
     "text": [
      " 8\n",
      " 4\n",
      " 3\n",
      " 6\n",
      " 8\n",
      " 7\n",
      " 5\n",
      " 2\n",
      " 1\n"
     ]
    },
    {
     "name": "stdout",
     "output_type": "stream",
     "text": [
      "+\n",
      "+\n",
      "+\n",
      "+\n",
      "-\n",
      "-\n",
      "+\n",
      "+\n",
      "-\n",
      "+\n",
      "+\n",
      "-\n",
      "-\n",
      "-\n",
      "-\n",
      "-\n",
      "\n"
     ]
    }
   ],
   "source": [
    "from collections import deque\n",
    "import sys\n",
    "# input = sys.stdin.readline\n",
    "## 입력받기\n",
    "N = int(input())\n",
    "queue = deque()\n",
    "queue = [i for i in range(N+1)]\n",
    "num = [_ for _ in range(N)]\n",
    "for i in range(N):\n",
    "    num[i] = int(input())\n",
    "\n",
    "## 알고리즘 계산\n",
    "ans = []\n",
    "try:\n",
    "    loc = 0\n",
    "    for n in range(N):\n",
    "        search_num = num[n]\n",
    "        while queue[loc]!=search_num:\n",
    "            ans.append('+')\n",
    "            loc += 1 \n",
    "        ans.append('-')\n",
    "        queue.remove(search_num)\n",
    "        loc -= 1\n",
    "    ## 출력하기 \n",
    "    answer = ''\n",
    "    for a in ans:\n",
    "        answer += str(a) + '\\n'\n",
    "    print(answer)\n",
    "except:\n",
    "    print('NO')"
   ]
  },
  {
   "cell_type": "code",
   "execution_count": 22,
   "id": "27557c96-6f4f-4001-84f3-092052befe18",
   "metadata": {},
   "outputs": [
    {
     "data": {
      "text/plain": [
       "[0, 1, 2, 3, 4, 5, 6, 7, 4, 3, 6, 8, 7, 5, 2, 1]"
      ]
     },
     "execution_count": 22,
     "metadata": {},
     "output_type": "execute_result"
    }
   ],
   "source": [
    "num"
   ]
  },
  {
   "cell_type": "code",
   "execution_count": 3,
   "id": "7ebcc249-5e2a-4971-b008-ebe7a439444f",
   "metadata": {},
   "outputs": [
    {
     "data": {
      "text/plain": [
       "['+', '-', '+', '-', '-', '-', 'NO']"
      ]
     },
     "execution_count": 3,
     "metadata": {},
     "output_type": "execute_result"
    }
   ],
   "source": [
    "ans"
   ]
  },
  {
   "cell_type": "markdown",
   "id": "ecb8ae1d-87eb-40ad-8695-1647304adf04",
   "metadata": {
    "tags": []
   },
   "source": [
    "4\n",
    "#### "
   ]
  },
  {
   "cell_type": "code",
   "execution_count": 4,
   "id": "43735dbf-be27-442e-a6f3-d2a30fe9e42f",
   "metadata": {},
   "outputs": [
    {
     "data": {
      "text/plain": [
       "deque([1, 2, 3])"
      ]
     },
     "execution_count": 4,
     "metadata": {},
     "output_type": "execute_result"
    }
   ],
   "source": [
    "queue"
   ]
  },
  {
   "cell_type": "code",
   "execution_count": null,
   "id": "e3f4734a-0b7d-4f73-9ae5-bac8f5532b39",
   "metadata": {},
   "outputs": [],
   "source": [
    "try:\n",
    "    a = int(input())\n",
    "    for i in range(a):\n",
    "        queue.push(i+1)\n",
    "except:\n",
    "    print('NO')"
   ]
  },
  {
   "cell_type": "code",
   "execution_count": null,
   "id": "63e256ec-8c95-4f65-bdd6-7503a265240e",
   "metadata": {},
   "outputs": [
    {
     "name": "stdin",
     "output_type": "stream",
     "text": [
      " 4\n"
     ]
    },
    {
     "name": "stdout",
     "output_type": "stream",
     "text": [
      "+ 0\n",
      "+ 1\n",
      "+ 2\n",
      "+ 3\n",
      "- 4\n"
     ]
    },
    {
     "name": "stdin",
     "output_type": "stream",
     "text": [
      " 3\n"
     ]
    },
    {
     "name": "stdout",
     "output_type": "stream",
     "text": [
      "- 3\n"
     ]
    },
    {
     "name": "stdin",
     "output_type": "stream",
     "text": [
      " 6\n"
     ]
    },
    {
     "name": "stdout",
     "output_type": "stream",
     "text": [
      "+ 2\n",
      "+ 3\n",
      "+ 4\n",
      "+ 5\n",
      "- 6\n"
     ]
    }
   ],
   "source": [
    "i = 0\n",
    "for j in range(N):\n",
    "    a = int(input())\n",
    "    while True:\n",
    "        if queue[i]==a:\n",
    "            print('-', i)\n",
    "            i -= 1\n",
    "            break\n",
    "        else:\n",
    "            print('+', i)\n",
    "            i += 1"
   ]
  },
  {
   "cell_type": "code",
   "execution_count": 16,
   "id": "88487a13-6129-492e-a6c9-78da622622d8",
   "metadata": {},
   "outputs": [
    {
     "data": {
      "text/plain": [
       "8"
      ]
     },
     "execution_count": 16,
     "metadata": {},
     "output_type": "execute_result"
    }
   ],
   "source": [
    "i"
   ]
  },
  {
   "cell_type": "code",
   "execution_count": null,
   "id": "2a41bc98-d2dd-4b6c-a270-8e89f456cfa7",
   "metadata": {},
   "outputs": [],
   "source": []
  }
 ],
 "metadata": {
  "kernelspec": {
   "display_name": "Python 3 (ipykernel)",
   "language": "python",
   "name": "python3"
  },
  "language_info": {
   "codemirror_mode": {
    "name": "ipython",
    "version": 3
   },
   "file_extension": ".py",
   "mimetype": "text/x-python",
   "name": "python",
   "nbconvert_exporter": "python",
   "pygments_lexer": "ipython3",
   "version": "3.9.12"
  }
 },
 "nbformat": 4,
 "nbformat_minor": 5
}
