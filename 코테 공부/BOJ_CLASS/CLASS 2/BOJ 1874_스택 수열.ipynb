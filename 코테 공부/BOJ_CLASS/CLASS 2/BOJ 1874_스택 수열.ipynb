{
 "cells": [
  {
   "cell_type": "markdown",
   "id": "1bfc5549-5833-4a07-beb9-169d43d6a37f",
   "metadata": {},
   "source": [
    "## BOJ 1874 : 스택 수열\n",
    "### 문제\n",
    "스택 (stack)은 기본적인 자료구조 중 하나로, 컴퓨터 프로그램을 작성할 때 자주 이용되는 개념이다. 스택은 자료를 넣는 (push) 입구와 자료를 뽑는 (pop) 입구가 같아 제일 나중에 들어간 자료가 제일 먼저 나오는 (LIFO, Last in First out) 특성을 가지고 있다.\n",
    "\n",
    "1부터 n까지의 수를 스택에 넣었다가 뽑아 늘어놓음으로써, 하나의 수열을 만들 수 있다. 이때, 스택에 push하는 순서는 반드시 오름차순을 지키도록 한다고 하자. 임의의 수열이 주어졌을 때 스택을 이용해 그 수열을 만들 수 있는지 없는지, 있다면 어떤 순서로 push와 pop 연산을 수행해야 하는지를 알아낼 수 있다. 이를 계산하는 프로그램을 작성하라.\n",
    "### 입력\n",
    "첫 줄에 n (1 ≤ n ≤ 100,000)이 주어진다. 둘째 줄부터 n개의 줄에는 수열을 이루는 1이상 n이하의 정수가 하나씩 순서대로 주어진다. 물론 같은 정수가 두 번 나오는 일은 없다.\n",
    "### 출력\n",
    "입력된 수열을 만들기 위해 필요한 연산을 한 줄에 한 개씩 출력한다. push연산은 +로, pop 연산은 -로 표현하도록 한다. 불가능한 경우 NO를 출력한다."
   ]
  },
  {
   "cell_type": "markdown",
   "id": "7bf77d35-45ff-4129-b048-49aac5936daa",
   "metadata": {},
   "source": [
    "## 풀이방법 1 \n",
    "- 정답 스택을 만들고, input 값이 들어오면 정답 스택에서 삭제하는 방식으로 진행\n",
    "- 시간 초과가 떠서 시간을줄일 수 있는 방법을 다 찾아서 시도 해봤지만 계속 시간 초과가 됨. (시간초과 +7)"
   ]
  },
  {
   "cell_type": "code",
   "execution_count": 1,
   "id": "6dd364eb-8999-4af4-a511-b3e0172b98bd",
   "metadata": {},
   "outputs": [
    {
     "name": "stdin",
     "output_type": "stream",
     "text": [
      " 8\n",
      " 4\n",
      " 3\n",
      " 6\n",
      " 8\n",
      " 7\n",
      " 5\n",
      " 2\n",
      " 1\n"
     ]
    },
    {
     "name": "stdout",
     "output_type": "stream",
     "text": [
      "+\n",
      "+\n",
      "+\n",
      "+\n",
      "-\n",
      "-\n",
      "+\n",
      "+\n",
      "-\n",
      "+\n",
      "+\n",
      "-\n",
      "-\n",
      "-\n",
      "-\n",
      "-\n"
     ]
    }
   ],
   "source": [
    "from collections import deque\n",
    "import sys\n",
    "# input = sys.stdin.readline\n",
    "## 입력받기\n",
    "N = int(input())\n",
    "queue = deque()\n",
    "queue = [i for i in range(N+1)]\n",
    "num = [0 for _ in range(N)]\n",
    "\n",
    "for i in range(N):\n",
    "    num[i] = int(input())\n",
    "\n",
    "## 알고리즘 계산\n",
    "ans = []\n",
    "try:\n",
    "    loc = 0\n",
    "    for n in range(N):\n",
    "        search_num = num[n]\n",
    "        while queue[loc]!=search_num:\n",
    "            ans.append('+')\n",
    "            loc += 1 \n",
    "        ans.append('-')\n",
    "        queue.remove(search_num)\n",
    "        loc -= 1\n",
    "    ## 출력하기 \n",
    "    for i in ans:\n",
    "#        sys.stdout.write(str(i)+'\\n')\n",
    "        print(i)\n",
    "except:\n",
    "    print('NO')"
   ]
  },
  {
   "cell_type": "markdown",
   "id": "abb37cf5-7b78-415d-a91c-b6bec1479cd7",
   "metadata": {},
   "source": [
    "## 풀이방법 2\n",
    "- 풀이방법 1이 계속 시간초과가 떠서 결국 다른사람들 풀이방법을 찾아보았다. \n",
    "- 정답스택을 만드는 것이 아니라, 입력 받는 순서대로 스택을 구현하는 방법\n",
    "- cnt라는 변수를 생성하여, (1) 입력 받은 숫자까지 '+'을 추가하고, (2) 이전의 입력받은 숫자보다 클때만 '+'를 추가하도록 한다. \n",
    "- flag라는 변수를 생성하여 for문을 구현할때 오류가 생기면 'NO'를 출력하도록한다. "
   ]
  },
  {
   "cell_type": "code",
   "execution_count": 16,
   "id": "d0062f34-8830-498a-a409-79410fc45baa",
   "metadata": {},
   "outputs": [
    {
     "name": "stdin",
     "output_type": "stream",
     "text": [
      " 8\n",
      " 4\n",
      " 3\n",
      " 6\n",
      " 8\n",
      " 7\n",
      " 5\n",
      " 2\n",
      " 1\n"
     ]
    },
    {
     "name": "stdout",
     "output_type": "stream",
     "text": [
      "+\n",
      "+\n",
      "+\n",
      "+\n",
      "-\n",
      "-\n",
      "+\n",
      "+\n",
      "-\n",
      "+\n",
      "+\n",
      "-\n",
      "-\n",
      "-\n",
      "-\n",
      "-\n"
     ]
    }
   ],
   "source": [
    "from collections import deque\n",
    "import sys\n",
    "# input = sys.stdin.readline\n",
    "## 입력받기\n",
    "N = int(input())\n",
    "stack = deque()\n",
    "ans = []\n",
    "cnt = 1\n",
    "flag = 0\n",
    "for n in range(N):\n",
    "    num = int(input())\n",
    "    # 입력한 숫자까지 stack에 push\n",
    "    while cnt<=num: \n",
    "        stack.append(cnt)\n",
    "        ans.append('+')\n",
    "        cnt += 1\n",
    "    # stack의 TOP이 입력한 숫자와 같다면 pop\n",
    "    if stack[-1]==num:\n",
    "        stack.pop()\n",
    "        ans.append('-')\n",
    "    # stack의 순서대로 이루어지지 않았으면 'NO'를 출력하도록\n",
    "    else:\n",
    "        flag = 1 \n",
    "\n",
    "if flag==0:\n",
    "    for a in ans:\n",
    "        print(a)\n",
    "else:\n",
    "    print('NO')"
   ]
  }
 ],
 "metadata": {
  "kernelspec": {
   "display_name": "Python 3 (ipykernel)",
   "language": "python",
   "name": "python3"
  },
  "language_info": {
   "codemirror_mode": {
    "name": "ipython",
    "version": 3
   },
   "file_extension": ".py",
   "mimetype": "text/x-python",
   "name": "python",
   "nbconvert_exporter": "python",
   "pygments_lexer": "ipython3",
   "version": "3.9.12"
  }
 },
 "nbformat": 4,
 "nbformat_minor": 5
}
