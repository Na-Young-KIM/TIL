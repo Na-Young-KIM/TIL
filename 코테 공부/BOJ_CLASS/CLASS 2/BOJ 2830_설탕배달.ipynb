{
 "cells": [
  {
   "cell_type": "markdown",
   "id": "5e47b650-0b87-4137-98d5-c28e0fb0c1f4",
   "metadata": {},
   "source": [
    "## BOJ 2839 : 설탕 배달\n",
    "### 문제\n",
    "상근이는 요즘 설탕공장에서 설탕을 배달하고 있다. 상근이는 지금 사탕가게에 설탕을 정확하게 N킬로그램을 배달해야 한다. 설탕공장에서 만드는 설탕은 봉지에 담겨져 있다. 봉지는 3킬로그램 봉지와 5킬로그램 봉지가 있다.\n",
    "\n",
    "상근이는 귀찮기 때문에, 최대한 적은 봉지를 들고 가려고 한다. 예를 들어, 18킬로그램 설탕을 배달해야 할 때, 3킬로그램 봉지 6개를 가져가도 되지만, 5킬로그램 3개와 3킬로그램 1개를 배달하면, 더 적은 개수의 봉지를 배달할 수 있다.\n",
    "\n",
    "상근이가 설탕을 정확하게 N킬로그램 배달해야 할 때, 봉지 몇 개를 가져가면 되는지 그 수를 구하는 프로그램을 작성하시오.\n",
    "### 입력\n",
    "첫째 줄에 N이 주어진다. (3 ≤ N ≤ 5000)\n",
    "### 출력\n",
    "상근이가 배달하는 봉지의 최소 개수를 출력한다. 만약, 정확하게 N킬로그램을 만들 수 없다면 -1을 출력한다."
   ]
  },
  {
   "cell_type": "code",
   "execution_count": 18,
   "id": "8cf43aca-7851-43fc-ba3d-f90ca0c08c4e",
   "metadata": {},
   "outputs": [
    {
     "name": "stdin",
     "output_type": "stream",
     "text": [
      " 11\n"
     ]
    },
    {
     "name": "stdout",
     "output_type": "stream",
     "text": [
      "3\n"
     ]
    }
   ],
   "source": [
    "## 입력받기\n",
    "N = int(input())\n",
    "ans = 0\n",
    "\n",
    "## 알고리즘 계산 \n",
    "# 5로 나눠서 떨어지면 그대로 출력\n",
    "# 5로 나눠서 안떨어지면 -3한후, 5로 나눠서 떨어지는지 확인\n",
    "if N%5==0:\n",
    "    ans = N//5\n",
    "    N = 0\n",
    "else:\n",
    "    while N>2:\n",
    "        N -= 3\n",
    "        ans += 1\n",
    "        if N%5==0:\n",
    "            ans += N//5\n",
    "            N = 0\n",
    "# 5와 3으로 무게 분할이 불가능한 경우 -1출력 \n",
    "if N!=0:\n",
    "    ans = -1\n",
    "    \n",
    "print(ans)"
   ]
  }
 ],
 "metadata": {
  "kernelspec": {
   "display_name": "Python 3 (ipykernel)",
   "language": "python",
   "name": "python3"
  },
  "language_info": {
   "codemirror_mode": {
    "name": "ipython",
    "version": 3
   },
   "file_extension": ".py",
   "mimetype": "text/x-python",
   "name": "python",
   "nbconvert_exporter": "python",
   "pygments_lexer": "ipython3",
   "version": "3.9.12"
  }
 },
 "nbformat": 4,
 "nbformat_minor": 5
}
