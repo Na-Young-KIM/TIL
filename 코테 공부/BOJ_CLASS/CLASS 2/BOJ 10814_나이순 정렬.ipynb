{
 "cells": [
  {
   "cell_type": "markdown",
   "id": "c0f634e7-9eb5-4855-9693-2888bbff77f9",
   "metadata": {},
   "source": [
    "## BOJ 10814 : 나이순 정렬\n",
    "### 문제 \n",
    "온라인 저지에 가입한 사람들의 나이와 이름이 가입한 순서대로 주어진다. 이때, 회원들을 나이가 증가하는 순으로, 나이가 같으면 먼저 가입한 사람이 앞에 오는 순서로 정렬하는 프로그램을 작성하시오.\n",
    "### 입력\n",
    "첫째 줄에 온라인 저지 회원의 수 N이 주어진다. (1 ≤ N ≤ 100,000)\n",
    "\n",
    "둘째 줄부터 N개의 줄에는 각 회원의 나이와 이름이 공백으로 구분되어 주어진다. 나이는 1보다 크거나 같으며, 200보다 작거나 같은 정수이고, 이름은 알파벳 대소문자로 이루어져 있고, 길이가 100보다 작거나 같은 문자열이다. 입력은 가입한 순서로 주어진다.\n",
    "### 출력\n",
    "첫째 줄부터 총 N개의 줄에 걸쳐 온라인 저지 회원을 나이 순, 나이가 같으면 가입한 순으로 한 줄에 한 명씩 나이와 이름을 공백으로 구분해 출력한다."
   ]
  },
  {
   "cell_type": "code",
   "execution_count": 1,
   "id": "d6a92f38-cf9a-4761-8ebb-3293429bab9a",
   "metadata": {},
   "outputs": [
    {
     "name": "stdin",
     "output_type": "stream",
     "text": [
      " 3\n",
      " 21 Junkyu\n",
      " 21 Dohyun\n",
      " 20 Sunyoung\n"
     ]
    }
   ],
   "source": [
    "## 입력받기 \n",
    "N = int(input())\n",
    "p_list = []\n",
    "for _ in range(N):\n",
    "    p_list.append(input().split())"
   ]
  },
  {
   "cell_type": "code",
   "execution_count": 17,
   "id": "ae95d023-e480-496c-8544-9943efd51b04",
   "metadata": {},
   "outputs": [
    {
     "name": "stdout",
     "output_type": "stream",
     "text": [
      "20 Sunyoung \n",
      "21 Junkyu \n",
      "21 Dohyun \n"
     ]
    }
   ],
   "source": [
    "# 1부터 나이서치\n",
    "for i in range(1, 201):\n",
    "    for n in range(N):\n",
    "        # 리스트의 나이와 같다면 출력\n",
    "        if int(p_list[n][0])==i:\n",
    "            for p in p_list[n]:\n",
    "                print(p, end=' ')\n",
    "            print('')"
   ]
  }
 ],
 "metadata": {
  "kernelspec": {
   "display_name": "Python 3 (ipykernel)",
   "language": "python",
   "name": "python3"
  },
  "language_info": {
   "codemirror_mode": {
    "name": "ipython",
    "version": 3
   },
   "file_extension": ".py",
   "mimetype": "text/x-python",
   "name": "python",
   "nbconvert_exporter": "python",
   "pygments_lexer": "ipython3",
   "version": "3.9.12"
  }
 },
 "nbformat": 4,
 "nbformat_minor": 5
}
