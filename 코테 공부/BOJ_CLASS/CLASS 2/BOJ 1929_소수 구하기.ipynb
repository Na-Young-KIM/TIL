{
 "cells": [
  {
   "cell_type": "markdown",
   "id": "0934cbbe-2b0a-4511-8d71-aed429bed36a",
   "metadata": {},
   "source": [
    "## BOJ 1929 : 소수 구하기\n",
    "### 문제 \n",
    "M이상 N이하의 소수를 모두 출력하는 프로그램을 작성하시오.\n",
    "### 입력\n",
    "첫째 줄에 자연수 M과 N이 빈 칸을 사이에 두고 주어진다. (1 ≤ M ≤ N ≤ 1,000,000) M이상 N이하의 소수가 하나 이상 있는 입력만 주어진다.\n",
    "### 출력\n",
    "한 줄에 하나씩, 증가하는 순서대로 소수를 출력한다."
   ]
  },
  {
   "cell_type": "markdown",
   "id": "2fe9852b-fa91-48d7-bafc-22aa2fbf8cff",
   "metadata": {},
   "source": [
    "### 풀이방법 1 (실\n",
    "- (m, n)의 범위에서 (1~m)까지 나눴을때 나머지가 0인 것들을 리스트에 추가한 후, 리스트의 갯수가 2이면 출력한다.\n",
    "- 이 방법은 N의 수가 백만까지 되기 때문에 시간초과가 됨 \n",
    "- (m, n)에서 짝수를 제외하고, n_list가 2보다 크면 break를 거는 방법도 생각했지만 이것도 시간초과가 됨\n",
    "- 개념을 찾아보니 [1]정수론 [2]에라토스테네스의 체 두가지의 방법을 사용하여 풀 수 있을 것 같다\n",
    "- sys.stdin.readline()을 사용해도 시간초과 문제 발생"
   ]
  },
  {
   "cell_type": "code",
   "execution_count": 1,
   "id": "f44714f1-7688-418f-bee8-a14f5d2547f2",
   "metadata": {},
   "outputs": [
    {
     "name": "stdin",
     "output_type": "stream",
     "text": [
      " 3 16\n"
     ]
    },
    {
     "name": "stdout",
     "output_type": "stream",
     "text": [
      "3\n",
      "5\n",
      "7\n",
      "11\n",
      "13\n"
     ]
    }
   ],
   "source": [
    "import sys\n",
    "\n",
    "## 입력받기 \n",
    "# m, n = map(int, sys.stdin.readline().split())\n",
    "m, n = map(int, input().split())\n",
    "\n",
    "## 알고리즘 계산 \n",
    "for i in range(m, n, 2):\n",
    "    n_list = []\n",
    "    for j in range(1, i+1):\n",
    "        if i%j==0:\n",
    "            n_list.append(j)\n",
    "            if len(n_list)>2:\n",
    "                break\n",
    "    ## 출력하기 \n",
    "    if len(n_list)==2:\n",
    "        print(i)"
   ]
  },
  {
   "cell_type": "markdown",
   "id": "ced1a488-25a4-44ff-ba80-9a1c84be3a04",
   "metadata": {},
   "source": [
    "### 풀이방법 2 : 정수론 활용 \n",
    "- 정수론에서 $n$까지의 소수를 알려면, $2\\sqrt{n}$ 범위의 자연수들을 확인해보면 소수인지 판별할 수 있음이 알려져있다.\n",
    "- 이 방법의 시간 복잡도 : $O(N^{1/2})$\n",
    "- sys.stdin.readline()까지 같이 사용해야 시간초과 문제 해경 가능"
   ]
  },
  {
   "cell_type": "code",
   "execution_count": 1,
   "id": "4549b66e-59f6-4e89-a6be-cf59d2e21f48",
   "metadata": {},
   "outputs": [
    {
     "name": "stdin",
     "output_type": "stream",
     "text": [
      " 3 16\n"
     ]
    },
    {
     "name": "stdout",
     "output_type": "stream",
     "text": [
      "3\n",
      "5\n",
      "7\n",
      "11\n",
      "13\n"
     ]
    }
   ],
   "source": [
    "import sys\n",
    "import math \n",
    "\n",
    "## 입력받기 \n",
    "# m, n = map(int, sys.stdin.readline().split())\n",
    "m, n = map(int, input().split())\n",
    "\n",
    "## 알고리즘 계산 \n",
    "for i in range(m, n+1):\n",
    "    check = 1\n",
    "    for j in range(2, int(math.sqrt(i))+1):\n",
    "        if i%j==0:\n",
    "            check = 0\n",
    "            break\n",
    "    ## 출력하기 \n",
    "    if (check!=0)&(i!=1):\n",
    "        print(i)"
   ]
  },
  {
   "cell_type": "markdown",
   "id": "5bc55279-fbba-493f-9968-ff9d4adce0b4",
   "metadata": {},
   "source": [
    "### 풀이방법 3 : 에라토스테네스의 체 \n",
    "- 가장 먼저 소수를 판별할 범위만큼 배열을 할당한 후, 값을 하나씩 지워나가는 방법을 이용한다.\n",
    "1. 배열을 생성한 후, 할당한다\n",
    "2. 2부터 시작해서 특정 수의 배수에 해당하는 수를 모두 지운다. (지울 때 자기자신은 지우지 않고, 이미 지워진 수는 건너뛴다.)\n",
    "3. 2부터 시작하여 남아있는 수를 모두 출력한다."
   ]
  },
  {
   "cell_type": "code",
   "execution_count": 2,
   "id": "1f0c3d89-73be-470e-bd47-08ad6e8bd981",
   "metadata": {},
   "outputs": [
    {
     "name": "stdin",
     "output_type": "stream",
     "text": [
      " 3 16\n"
     ]
    }
   ],
   "source": [
    "import sys\n",
    "\n",
    "## 입력받기 \n",
    "# m, n = map(int, sys.stdin.readline().split())\n",
    "m, n = map(int, input().split())\n",
    "\n",
    "## 알고리즘 계산\n",
    "n_list = [i for i in range(m, n+1)]  # 배열 할당\n"
   ]
  },
  {
   "cell_type": "code",
   "execution_count": 6,
   "id": "881aec95-5286-4234-b00c-1d4297315009",
   "metadata": {},
   "outputs": [
    {
     "name": "stdout",
     "output_type": "stream",
     "text": [
      "3\n",
      "4\n",
      "5\n",
      "6\n",
      "7\n",
      "8\n",
      "9\n",
      "10\n",
      "11\n",
      "12\n",
      "13\n",
      "14\n",
      "15\n",
      "16\n"
     ]
    }
   ],
   "source": [
    "for i in range(len(n_list)):\n",
    "    n_list[i]*"
   ]
  },
  {
   "cell_type": "code",
   "execution_count": null,
   "id": "dd62701f-1016-4161-bc21-7f6d0df4f81b",
   "metadata": {},
   "outputs": [],
   "source": []
  }
 ],
 "metadata": {
  "kernelspec": {
   "display_name": "Python 3 (ipykernel)",
   "language": "python",
   "name": "python3"
  },
  "language_info": {
   "codemirror_mode": {
    "name": "ipython",
    "version": 3
   },
   "file_extension": ".py",
   "mimetype": "text/x-python",
   "name": "python",
   "nbconvert_exporter": "python",
   "pygments_lexer": "ipython3",
   "version": "3.9.12"
  }
 },
 "nbformat": 4,
 "nbformat_minor": 5
}
