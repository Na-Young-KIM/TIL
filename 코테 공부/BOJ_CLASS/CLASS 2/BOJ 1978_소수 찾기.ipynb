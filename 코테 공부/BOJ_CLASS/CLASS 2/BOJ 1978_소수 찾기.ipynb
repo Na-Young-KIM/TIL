{
 "cells": [
  {
   "cell_type": "markdown",
   "id": "d8534195-b906-41e0-98e3-7c408d2a3818",
   "metadata": {},
   "source": [
    "## BOJ 1978 : 소수 찾기\n",
    "### 문제 \n",
    "주어진 수 N개 중에서 소수가 몇 개인지 찾아서 출력하는 프로그램을 작성하시오.\n",
    "### 입력\n",
    "첫 줄에 수의 개수 N이 주어진다. N은 100이하이다. 다음으로 N개의 수가 주어지는데 수는 1,000 이하의 자연수이다.\n",
    "### 출력\n",
    "주어진 수들 중 소수의 개수를 출력한다."
   ]
  },
  {
   "cell_type": "code",
   "execution_count": null,
   "id": "80789b1a-f3a4-4399-bc1a-2fd0e27297f9",
   "metadata": {},
   "outputs": [
    {
     "name": "stdin",
     "output_type": "stream",
     "text": [
      " 4\n",
      " 1 3 5 7\n"
     ]
    },
    {
     "name": "stdout",
     "output_type": "stream",
     "text": [
      "3\n"
     ]
    }
   ],
   "source": [
    "## 입력받기 \n",
    "N = int(input())\n",
    "n_list = list(map(int, input().split()))\n",
    "\n",
    "## 소수인지 확인해서 소수면 1, 아니면 0을 출력하는 함수\n",
    "def prime_number(n):\n",
    "    ans = 0\n",
    "    for i in range(1, n+1):\n",
    "        if n%i == 0:\n",
    "            ans += 1 \n",
    "    if ans == 2:\n",
    "        return 1 \n",
    "    else:\n",
    "        return 0 \n",
    "    \n",
    "## 소수의 갯수를 세서 결과 출력 \n",
    "result = 0 \n",
    "for n in n_list:\n",
    "    result += prime_number(n)\n",
    "print(result)   "
   ]
  }
 ],
 "metadata": {
  "kernelspec": {
   "display_name": "Python 3 (ipykernel)",
   "language": "python",
   "name": "python3"
  },
  "language_info": {
   "codemirror_mode": {
    "name": "ipython",
    "version": 3
   },
   "file_extension": ".py",
   "mimetype": "text/x-python",
   "name": "python",
   "nbconvert_exporter": "python",
   "pygments_lexer": "ipython3",
   "version": "3.9.12"
  }
 },
 "nbformat": 4,
 "nbformat_minor": 5
}
