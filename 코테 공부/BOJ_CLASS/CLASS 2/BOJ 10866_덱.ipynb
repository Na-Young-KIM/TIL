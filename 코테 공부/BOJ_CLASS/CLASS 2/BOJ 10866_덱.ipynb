{
 "cells": [
  {
   "cell_type": "markdown",
   "id": "3f9b67e4-eb12-46c9-b570-a52e816ce6ee",
   "metadata": {},
   "source": [
    "## BOJ 10866 : 덱\n",
    "### 문제\n",
    "정수를 저장하는 덱(Deque)를 구현한 다음, 입력으로 주어지는 명령을 처리하는 프로그램을 작성하시오.\n",
    "\n",
    "명령은 총 여덟 가지이다.\n",
    "\n",
    "- push_front X: 정수 X를 덱의 앞에 넣는다.\n",
    "- push_back X: 정수 X를 덱의 뒤에 넣는다.\n",
    "- pop_front: 덱의 가장 앞에 있는 수를 빼고, 그 수를 출력한다. 만약, 덱에 들어있는 정수가 없는 경우에는 -1을 출력한다.\n",
    "- pop_back: 덱의 가장 뒤에 있는 수를 빼고, 그 수를 출력한다. 만약, 덱에 들어있는 정수가 없는 경우에는 -1을 출력한다.\n",
    "- size: 덱에 들어있는 정수의 개수를 출력한다.\n",
    "- empty: 덱이 비어있으면 1을, 아니면 0을 출력한다.\n",
    "- front: 덱의 가장 앞에 있는 정수를 출력한다. 만약 덱에 들어있는 정수가 없는 경우에는 -1을 출력한다.\n",
    "- back: 덱의 가장 뒤에 있는 정수를 출력한다. 만약 덱에 들어있는 정수가 없는 경우에는 -1을 출력한다.\n",
    "### 입력\n",
    "첫째 줄에 주어지는 명령의 수 N (1 ≤ N ≤ 10,000)이 주어진다. 둘째 줄부터 N개의 줄에는 명령이 하나씩 주어진다. 주어지는 정수는 1보다 크거나 같고, 100,000보다 작거나 같다. 문제에 나와있지 않은 명령이 주어지는 경우는 없다.\n",
    "### 출력\n",
    "출력해야하는 명령이 주어질 때마다, 한 줄에 하나씩 출력한다."
   ]
  },
  {
   "cell_type": "code",
   "execution_count": 4,
   "id": "b2371fda-3208-4d33-84b2-19847df4c213",
   "metadata": {},
   "outputs": [
    {
     "name": "stdin",
     "output_type": "stream",
     "text": [
      " push_front x\n"
     ]
    },
    {
     "name": "stdout",
     "output_type": "stream",
     "text": [
      "['push_front', 'x']\n"
     ]
    }
   ],
   "source": [
    "a = input().split()\n",
    "print(a)"
   ]
  },
  {
   "cell_type": "code",
   "execution_count": 5,
   "id": "fc73141a-78d6-4868-afe1-f252caeaa946",
   "metadata": {},
   "outputs": [],
   "source": [
    "a[0] = a[0].split('_')"
   ]
  },
  {
   "cell_type": "code",
   "execution_count": 8,
   "id": "209511d1-091e-4cca-80f3-7d0634ef7bbb",
   "metadata": {},
   "outputs": [
    {
     "data": {
      "text/plain": [
       "'x'"
      ]
     },
     "execution_count": 8,
     "metadata": {},
     "output_type": "execute_result"
    }
   ],
   "source": [
    "a[1]"
   ]
  },
  {
   "cell_type": "code",
   "execution_count": 4,
   "id": "2ce1af51-381d-4696-9202-d7cd598e8e02",
   "metadata": {},
   "outputs": [
    {
     "name": "stdin",
     "output_type": "stream",
     "text": [
      " 15\n",
      " push_back 1\n",
      " push_front 2\n",
      " front\n"
     ]
    },
    {
     "name": "stdout",
     "output_type": "stream",
     "text": [
      "2\n"
     ]
    },
    {
     "name": "stdin",
     "output_type": "stream",
     "text": [
      " back\n"
     ]
    },
    {
     "name": "stdout",
     "output_type": "stream",
     "text": [
      "1\n"
     ]
    },
    {
     "name": "stdin",
     "output_type": "stream",
     "text": [
      " size\n"
     ]
    },
    {
     "name": "stdout",
     "output_type": "stream",
     "text": [
      "2\n"
     ]
    },
    {
     "name": "stdin",
     "output_type": "stream",
     "text": [
      " empty\n"
     ]
    },
    {
     "name": "stdout",
     "output_type": "stream",
     "text": [
      "0\n"
     ]
    },
    {
     "name": "stdin",
     "output_type": "stream",
     "text": [
      " pop_front\n"
     ]
    },
    {
     "name": "stdout",
     "output_type": "stream",
     "text": [
      "2\n"
     ]
    },
    {
     "name": "stdin",
     "output_type": "stream",
     "text": [
      " pop_back\n"
     ]
    },
    {
     "name": "stdout",
     "output_type": "stream",
     "text": [
      "1\n"
     ]
    },
    {
     "name": "stdin",
     "output_type": "stream",
     "text": [
      " pop_front\n"
     ]
    },
    {
     "name": "stdout",
     "output_type": "stream",
     "text": [
      "-1\n"
     ]
    },
    {
     "name": "stdin",
     "output_type": "stream",
     "text": [
      " size\n"
     ]
    },
    {
     "name": "stdout",
     "output_type": "stream",
     "text": [
      "0\n"
     ]
    },
    {
     "name": "stdin",
     "output_type": "stream",
     "text": [
      " empty\n"
     ]
    },
    {
     "name": "stdout",
     "output_type": "stream",
     "text": [
      "1\n"
     ]
    },
    {
     "name": "stdin",
     "output_type": "stream",
     "text": [
      " pop_back\n"
     ]
    },
    {
     "name": "stdout",
     "output_type": "stream",
     "text": [
      "-1\n"
     ]
    },
    {
     "name": "stdin",
     "output_type": "stream",
     "text": [
      " push_front 3\n",
      " empty\n"
     ]
    },
    {
     "name": "stdout",
     "output_type": "stream",
     "text": [
      "0\n"
     ]
    },
    {
     "name": "stdin",
     "output_type": "stream",
     "text": [
      " front\n"
     ]
    },
    {
     "name": "stdout",
     "output_type": "stream",
     "text": [
      "3\n"
     ]
    }
   ],
   "source": [
    "from collections import deque\n",
    "# import sys\n",
    "# input = sys.stdin.readline\n",
    "N = int(input())\n",
    "queue = deque()\n",
    "\n",
    "for i in range(N):\n",
    "    a = input().split()\n",
    "    if (a[0]=='push_front')|(a[0]=='push_back'):\n",
    "        a[0] = a[0].split('_')\n",
    "        if a[0][1]=='front':\n",
    "            queue.appendleft(a[1])\n",
    "        else:\n",
    "            queue.append(a[1])\n",
    "    elif (a[0]=='pop_front')|(a[0]=='pop_back'):\n",
    "        a[0] = a[0].split('_')\n",
    "        if a[0][1]=='front':\n",
    "            print(queue.popleft() if len(queue)>=1 else -1)\n",
    "        else:\n",
    "            print(queue.pop() if len(queue)>=1 else -1)\n",
    "    elif a[0]=='size':\n",
    "        print(len(queue))\n",
    "    elif a[0]=='empty':\n",
    "        print(1 if len(queue)==0 else 0)\n",
    "    elif a[0]=='front':\n",
    "        print(queue[0] if len(queue)!=0 else -1)\n",
    "    elif a[0]=='back':\n",
    "        print(queue[len(queue)-1] if len(queue)!=0 else -1)"
   ]
  }
 ],
 "metadata": {
  "kernelspec": {
   "display_name": "Python 3 (ipykernel)",
   "language": "python",
   "name": "python3"
  },
  "language_info": {
   "codemirror_mode": {
    "name": "ipython",
    "version": 3
   },
   "file_extension": ".py",
   "mimetype": "text/x-python",
   "name": "python",
   "nbconvert_exporter": "python",
   "pygments_lexer": "ipython3",
   "version": "3.9.12"
  }
 },
 "nbformat": 4,
 "nbformat_minor": 5
}
