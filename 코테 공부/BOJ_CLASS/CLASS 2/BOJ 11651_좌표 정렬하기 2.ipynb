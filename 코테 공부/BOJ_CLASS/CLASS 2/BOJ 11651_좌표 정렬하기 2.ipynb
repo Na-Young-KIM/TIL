{
 "cells": [
  {
   "cell_type": "markdown",
   "id": "a7121ab7-6101-400d-91f9-288c97f28c9a",
   "metadata": {},
   "source": [
    "## BOJ 11651 : 좌표 정렬하기 2\n",
    "### 문제\n",
    "2차원 평면 위의 점 N개가 주어진다. 좌표를 y좌표가 증가하는 순으로, y좌표가 같으면 x좌표가 증가하는 순서로 정렬한 다음 출력하는 프로그램을 작성하시오.\n",
    "### 입력\n",
    "째 줄에 점의 개수 N (1 ≤ N ≤ 100,000)이 주어진다. 둘째 줄부터 N개의 줄에는 i번점의 위치 xi와 yi가 주어진다. (-100,000 ≤ xi, yi ≤ 100,000) 좌표는 항상 정수이고, 위치가 같은 두 점은 없다.\n",
    "### 출력\n",
    "첫째 줄부터 N개의 줄에 점을 정렬한 결과를 출력한다."
   ]
  },
  {
   "cell_type": "markdown",
   "id": "095a466f-f6b0-4916-a4cf-1b123d4a436e",
   "metadata": {},
   "source": [
    "### 풀이방법\n",
    "- sort(key = lambda x:x[0])를 사용하면, 각 리스트의 1번째의 값으로 sort를 해줌 \n",
    "- sort(key = lambda x:x[1])를 사용하면, 각 리스트의 2번째의 값으로 sort를 해줌 "
   ]
  },
  {
   "cell_type": "code",
   "execution_count": 24,
   "id": "e0b16b7b-4abd-453e-9392-6802dae6d07a",
   "metadata": {},
   "outputs": [
    {
     "name": "stdin",
     "output_type": "stream",
     "text": [
      " 5\n",
      " 0 4\n",
      " 1 2\n",
      " 1 -1\n",
      " 2 2\n",
      " 3 3\n"
     ]
    },
    {
     "name": "stdout",
     "output_type": "stream",
     "text": [
      "1 -1 \n",
      "1 2 \n",
      "2 2 \n",
      "3 3 \n",
      "0 4 \n"
     ]
    }
   ],
   "source": [
    "## 입력받기\n",
    "N = int(input())\n",
    "n_list = []\n",
    "for i in range(N):\n",
    "    n_list.append(list(map(int, input().split())))\n",
    "\n",
    "## 좌표 정렬 \n",
    "n_list.sort(key=lambda x:x[0])\n",
    "n_list.sort(key=lambda x:x[1])\n",
    "\n",
    "## 출력하기\n",
    "for i in range(N):\n",
    "    for j in range(2):\n",
    "        print(n_list[i][j], end=' ')\n",
    "    print()"
   ]
  }
 ],
 "metadata": {
  "kernelspec": {
   "display_name": "Python 3 (ipykernel)",
   "language": "python",
   "name": "python3"
  },
  "language_info": {
   "codemirror_mode": {
    "name": "ipython",
    "version": 3
   },
   "file_extension": ".py",
   "mimetype": "text/x-python",
   "name": "python",
   "nbconvert_exporter": "python",
   "pygments_lexer": "ipython3",
   "version": "3.9.12"
  }
 },
 "nbformat": 4,
 "nbformat_minor": 5
}
