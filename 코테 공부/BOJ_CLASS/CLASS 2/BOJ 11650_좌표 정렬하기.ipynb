{
 "cells": [
  {
   "cell_type": "markdown",
   "id": "3d0a7e87-64c6-4181-b884-652a20b1fcff",
   "metadata": {},
   "source": [
    "## BOJ 11650 : 좌표 정렬하기\n",
    "### 문제\n",
    "2차원 평면 위의 점 N개가 주어진다. 좌표를 x좌표가 증가하는 순으로, x좌표가 같으면 y좌표가 증가하는 순서로 정렬한 다음 출력하는 프로그램을 작성하시오.\n",
    "### 입력\n",
    "첫째 줄에 점의 개수 N (1 ≤ N ≤ 100,000)이 주어진다. 둘째 줄부터 N개의 줄에는 i번점의 위치 xi와 yi가 주어진다. (-100,000 ≤ xi, yi ≤ 100,000) 좌표는 항상 정수이고, 위치가 같은 두 점은 없다.\n",
    "### 출력\n",
    "첫째 줄부터 N개의 줄에 점을 정렬한 결과를 출력한다."
   ]
  },
  {
   "cell_type": "markdown",
   "id": "138379d1-a003-4595-98ee-a1dd30533b44",
   "metadata": {},
   "source": [
    "### 풀이방법\n",
    "- sys.stdin.readline을 사용하지 않았을 때, 시간 초과가 떠서 어떻게 수정해야하나 막막했는데, sys 패키지 사용하니 바로 해결되었음!"
   ]
  },
  {
   "cell_type": "code",
   "execution_count": 4,
   "id": "0f74d9fa-1f87-49be-9961-f6673a2e3866",
   "metadata": {},
   "outputs": [
    {
     "name": "stdin",
     "output_type": "stream",
     "text": [
      " 5\n",
      " 3 4 \n",
      " 1 1\n",
      " 1 -1\n",
      " 2 2\n",
      " 3 3\n"
     ]
    }
   ],
   "source": [
    "import sys\n",
    "input = sys.stdin.readline\n",
    "\n",
    "N = int(input())\n",
    "n_list = []\n",
    "\n",
    "for _ in range(N):\n",
    "    n_list.append(list(map(int, input().split())))\n",
    "    \n",
    "n_list.sort()\n",
    "for i in range(N):\n",
    "    print(n_list[i][0], end=' ')\n",
    "    print(n_list[i][1], end=' ')\n",
    "    print()"
   ]
  }
 ],
 "metadata": {
  "kernelspec": {
   "display_name": "Python 3 (ipykernel)",
   "language": "python",
   "name": "python3"
  },
  "language_info": {
   "codemirror_mode": {
    "name": "ipython",
    "version": 3
   },
   "file_extension": ".py",
   "mimetype": "text/x-python",
   "name": "python",
   "nbconvert_exporter": "python",
   "pygments_lexer": "ipython3",
   "version": "3.9.12"
  }
 },
 "nbformat": 4,
 "nbformat_minor": 5
}
