{
 "cells": [
  {
   "cell_type": "markdown",
   "id": "50c46267-d4ba-45fb-952f-a84740f9df38",
   "metadata": {},
   "source": [
    "## BOJ 1654 : 랜선 자르기\n",
    "### 문제\n",
    "집에서 시간을 보내던 오영식은 박성원의 부름을 받고 급히 달려왔다. 박성원이 캠프 때 쓸 N개의 랜선을 만들어야 하는데 너무 바빠서 영식이에게 도움을 청했다.\n",
    "\n",
    "이미 오영식은 자체적으로 K개의 랜선을 가지고 있다. 그러나 K개의 랜선은 길이가 제각각이다. 박성원은 랜선을 모두 N개의 같은 길이의 랜선으로 만들고 싶었기 때문에 K개의 랜선을 잘라서 만들어야 한다. 예를 들어 300cm 짜리 랜선에서 140cm 짜리 랜선을 두 개 잘라내면 20cm는 버려야 한다. (이미 자른 랜선은 붙일 수 없다.)\n",
    "\n",
    "편의를 위해 랜선을 자르거나 만들 때 손실되는 길이는 없다고 가정하며, 기존의 K개의 랜선으로 N개의 랜선을 만들 수 없는 경우는 없다고 가정하자. 그리고 자를 때는 항상 센티미터 단위로 정수길이만큼 자른다고 가정하자. N개보다 많이 만드는 것도 N개를 만드는 것에 포함된다. 이때 만들 수 있는 최대 랜선의 길이를 구하는 프로그램을 작성하시오.\n",
    "### 입력\n",
    "첫째 줄에는 오영식이 이미 가지고 있는 랜선의 개수 K, 그리고 필요한 랜선의 개수 N이 입력된다. K는 1이상 10,000이하의 정수이고, N은 1이상 1,000,000이하의 정수이다. 그리고 항상 K ≦ N 이다. 그 후 K줄에 걸쳐 이미 가지고 있는 각 랜선의 길이가 센티미터 단위의 정수로 입력된다. 랜선의 길이는 $2^{31}-1$보다 작거나 같은 자연수이다.\n",
    "### 출력\n",
    "첫째 줄에 N개를 만들 수 있는 랜선의 최대 길이를 센티미터 단위의 정수로 출력한다."
   ]
  },
  {
   "cell_type": "code",
   "execution_count": 5,
   "id": "e4fa5524-7353-49f7-86ac-110ebba82826",
   "metadata": {},
   "outputs": [
    {
     "name": "stdin",
     "output_type": "stream",
     "text": [
      " 4 11\n",
      " 802\n",
      " 743\n",
      " 457\n",
      " 539\n"
     ]
    },
    {
     "name": "stdout",
     "output_type": "stream",
     "text": [
      "200\n"
     ]
    }
   ],
   "source": [
    "import sys\n",
    "input = sys.stdin.readline\n",
    "\n",
    "## 입력받기\n",
    "K, N = map(int, input().split())\n",
    "k_list = [int(input()) for _ in range(K)]\n",
    "\n",
    "## 알고리즘 계산 \n",
    "s, e = 1, max(k_list)\n",
    "while s<=e:\n",
    "    m = int((s+e)/2)\n",
    "    cnt = 0\n",
    "    for k in k_list:\n",
    "        cnt += k//m\n",
    "    # n = sum(map(lambda x:x//m, k_list))\n",
    "    if cnt>=N:\n",
    "        s = m+1\n",
    "    else:\n",
    "        e = m-1\n",
    "\n",
    "## 결과 출력\n",
    "print(e)"
   ]
  },
  {
   "cell_type": "code",
   "execution_count": 9,
   "id": "6a117b77-6812-4a05-aa1f-03a04eeeac91",
   "metadata": {},
   "outputs": [
    {
     "name": "stdin",
     "output_type": "stream",
     "text": [
      " 4 11\n",
      " 802\n",
      " 743\n",
      " 457\n",
      " 539\n"
     ]
    },
    {
     "name": "stdout",
     "output_type": "stream",
     "text": [
      "200\n"
     ]
    }
   ],
   "source": [
    "import sys\n",
    "input = sys.stdin.readline\n",
    "\n",
    "## 입력받기\n",
    "K, N = map(int, input().split())\n",
    "k_list = [int(input()) for _ in range(K)]\n",
    "\n",
    "## 알고리즘 계산 \n",
    "s, e = 1, max(k_list)\n",
    "while s<=e:\n",
    "    m = int((s+e)/2)\n",
    "    n = sum(map(lambda x:x//m, k_list))\n",
    "    if n>=N:\n",
    "        s = m+1\n",
    "    else:\n",
    "        e = m-1\n",
    "\n",
    "## 결과 출력\n",
    "print(e)"
   ]
  }
 ],
 "metadata": {
  "kernelspec": {
   "display_name": "Python 3 (ipykernel)",
   "language": "python",
   "name": "python3"
  },
  "language_info": {
   "codemirror_mode": {
    "name": "ipython",
    "version": 3
   },
   "file_extension": ".py",
   "mimetype": "text/x-python",
   "name": "python",
   "nbconvert_exporter": "python",
   "pygments_lexer": "ipython3",
   "version": "3.9.12"
  }
 },
 "nbformat": 4,
 "nbformat_minor": 5
}
