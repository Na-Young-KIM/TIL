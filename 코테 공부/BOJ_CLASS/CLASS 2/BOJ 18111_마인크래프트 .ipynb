{
 "cells": [
  {
   "cell_type": "markdown",
   "id": "6d278021-7404-4fee-a640-f459845af448",
   "metadata": {},
   "source": [
    "## BOJ 18111: 마인크래프트\n",
    "### 문제\n",
    "팀 레드시프트는 대회 준비를 하다가 지루해져서 샌드박스 게임인 ‘마인크래프트’를 켰다. 마인크래프트는 1 × 1 × 1(세로, 가로, 높이) 크기의 블록들로 이루어진 3차원 세계에서 자유롭게 땅을 파거나 집을 지을 수 있는 게임이다.\n",
    "\n",
    "목재를 충분히 모은 lvalue는 집을 짓기로 하였다. 하지만 고르지 않은 땅에는 집을 지을 수 없기 때문에 땅의 높이를 모두 동일하게 만드는 ‘땅 고르기’ 작업을 해야 한다.\n",
    "\n",
    "lvalue는 세로 N, 가로 M 크기의 집터를 골랐다. 집터 맨 왼쪽 위의 좌표는 (0, 0)이다. 우리의 목적은 이 집터 내의 땅의 높이를 일정하게 바꾸는 것이다. 우리는 다음과 같은 두 종류의 작업을 할 수 있다.\n",
    "\n",
    "1. 좌표 (i, j)의 가장 위에 있는 블록을 제거하여 인벤토리에 넣는다.\n",
    "2. 인벤토리에서 블록 하나를 꺼내어 좌표 (i, j)의 가장 위에 있는 블록 위에 놓는다.  \n",
    "1번 작업은 2초가 걸리며, 2번 작업은 1초가 걸린다. 밤에는 무서운 몬스터들이 나오기 때문에 최대한 빨리 땅 고르기 작업을 마쳐야 한다. ‘땅 고르기’ 작업에 걸리는 최소 시간과 그 경우 땅의 높이를 출력하시오.\n",
    "\n",
    "단, 집터 아래에 동굴 등 빈 공간은 존재하지 않으며, 집터 바깥에서 블록을 가져올 수 없다. 또한, 작업을 시작할 때 인벤토리에는 B개의 블록이 들어 있다. 땅의 높이는 256블록을 초과할 수 없으며, 음수가 될 수 없다.\n",
    "### 입력\n",
    "첫째 줄에 N, M, B가 주어진다. (1 ≤ M, N ≤ 500, 0 ≤ B ≤ 6.4 × 107)\n",
    "\n",
    "둘째 줄부터 N개의 줄에 각각 M개의 정수로 땅의 높이가 주어진다. (i + 2)번째 줄의 (j + 1)번째 수는 좌표 (i, j)에서의 땅의 높이를 나타낸다. 땅의 높이는 256보다 작거나 같은 자연수 또는 0이다.\n",
    "### 출력\n",
    "첫째 줄에 땅을 고르는 데 걸리는 시간과 땅의 높이를 출력하시오. 답이 여러 개 있다면 그중에서 땅의 높이가 가장 높은 것을 출력하시오."
   ]
  },
  {
   "cell_type": "markdown",
   "id": "ecd3eebc-a2a5-4a1f-9dad-bdbf4f1acd5f",
   "metadata": {},
   "source": [
    "### 풀이방법1 (틀림)\n",
    "- 예시 입출력이 배열의 min, max 값으로만 구성되어 있어서 다른 출력이 나올거라는 생각을 못했다. \n",
    "- 땅의 높이는 배열의 min, max 값으로만 나온다고 생각하고 문제를 풀어서 틀렸다"
   ]
  },
  {
   "cell_type": "code",
   "execution_count": null,
   "id": "1c2ca778-4bbe-4955-b0e4-b080a5d57225",
   "metadata": {},
   "outputs": [
    {
     "name": "stdout",
     "output_type": "stream",
     "text": [
      "2 0\n"
     ]
    }
   ],
   "source": [
    "## 리스트의 최대, 최소값 찾기 \n",
    "max_n = max(map(max, n_list))\n",
    "min_n = min(map(min, n_list))\n",
    "\n",
    "diff_1, diff_2 = 0, 0 \n",
    "ans_t, ans_h = 0, 0\n",
    "\n",
    "## 알고리즘 계산 \n",
    "if max_n!=min_n:\n",
    "    for n in range(N):\n",
    "        for m in range(M):\n",
    "            diff_1 += n_list[n][m]-min_n\n",
    "            diff_2 += max_n-n_list[n][m]\n",
    "    ## 1번 작업 \n",
    "    ans_t = diff_1*2\n",
    "    ans_h = min_n\n",
    "    ## 2번 작업 \n",
    "    if (diff_2<=B) & (diff_2<ans_t):\n",
    "        ans_t = diff_2\n",
    "        ans_h = max_n\n",
    "\n",
    "print(ans_t, ans_h)"
   ]
  },
  {
   "cell_type": "markdown",
   "id": "21bf9810-3065-4b2f-b68f-803fa9a98b3e",
   "metadata": {},
   "source": [
    "### 풀이방법2 (시간초과)\n",
    "- 풀이방법1에서 틀렸다는 결과가 나와서 다시 생각해보니, 땅의 높이는 배열의 최대,최소값이 아니라 최소~최대값 중에 존재하게된다는 것을 깨달았다. \n",
    "- 그래서 이에 맞게 3중 for문을 구현했고, 이번에는 시간초과가 됐다. \n",
    "- input = sys.stdin.readline & PyPy3 를 모두 사용해도 시간 초과가 되었다. "
   ]
  },
  {
   "cell_type": "code",
   "execution_count": 5,
   "id": "87eea615-2d1f-4111-b124-c41e366e4490",
   "metadata": {},
   "outputs": [
    {
     "name": "stdin",
     "output_type": "stream",
     "text": [
      " 2 2 68\n",
      " 120 90\n",
      " 250 170\n"
     ]
    },
    {
     "name": "stdout",
     "output_type": "stream",
     "text": [
      "290 170\n"
     ]
    }
   ],
   "source": [
    "# import sys\n",
    "# input = sys.stdin.readline\n",
    "## 입력받기\n",
    "N, M, B = map(int, input().split())\n",
    "n_list = [list(map(int, input().split())) for _ in range(N)]\n",
    "\n",
    "## 알고리즘 계산 \n",
    "# 리스트의 최대, 최소값 찾기 \n",
    "max_n = max(map(max, n_list))\n",
    "min_n = min(map(min, n_list))\n",
    "\n",
    "ans_t = 999999999  # 초기화 \n",
    "ans_h = 0\n",
    "for i in range(min_n, max_n+1):\n",
    "    tmp_t1, tmp_t2, b = 0, 0, B \n",
    "    for n in range(N):\n",
    "        for m in range(M):\n",
    "            # 1번 작업 \n",
    "            if n_list[n][m]>i:\n",
    "                tmp_t1 += (n_list[n][m]-i)*2\n",
    "                b += n_list[n][m]-i\n",
    "            # 2번 작업\n",
    "            if n_list[n][m]<i:\n",
    "                tmp_t2 += i-n_list[n][m]\n",
    "                b -= i-n_list[n][m]\n",
    "    if b>=0:\n",
    "        ans_t = min(ans_t, tmp_t1+tmp_t2)\n",
    "        if ans_t==tmp_t1+tmp_t2:\n",
    "            ans_h = i\n",
    "\n",
    "## 결과 출력 \n",
    "print(ans_t, ans_h)"
   ]
  },
  {
   "cell_type": "markdown",
   "id": "f864df73-735a-4fb9-94d8-05d966333ccb",
   "metadata": {},
   "source": [
    "### 풀이방법3(정답)\n",
    "- 시간초과 문제를 해결하기 위해서는 3중 for문 이라는 숙제를 풀어야했다. \n",
    "- 문제에서 (i, j)라는 좌표는 중요하지 않고, 가장 중요한 것은 height이다. \n",
    "- 입력을 (i, j)의 이중 배열로 받지 않고 리스트 형식으로 이어서 받아서 2중 for문만 돌게 만들었다.\n",
    "- Python3로는 시간초과가 되지만, PyPy3로는 정답이 되었다. "
   ]
  },
  {
   "cell_type": "code",
   "execution_count": 5,
   "id": "4458011a-dc7b-4c4f-9ac6-4de373987089",
   "metadata": {},
   "outputs": [
    {
     "name": "stdout",
     "output_type": "stream",
     "text": [
      "2 0\n"
     ]
    }
   ],
   "source": [
    "# import sys\n",
    "# input = sys.stdin.readline\n",
    "## 입력받기\n",
    "N, M, B = map(int, input().split())\n",
    "n_list = []\n",
    "for _ in range(N):\n",
    "    n_list += map(int, input().split())\n",
    "\n",
    "## 알고리즘 계산 \n",
    "max_n, min_n = max(n_list), min(n_list)  # 리스트의 최대, 최소값 저장 \n",
    "ans_h, ans_t = 0, 999999999  # 초기화 \n",
    "\n",
    "# 최소값~최대값으로만 for문이 돌도록 실행 \n",
    "for i in range(min_n, max_n+1):\n",
    "    tmp_t1, tmp_t2, b = 0, 0, B \n",
    "    for n in range(len(n_list)):\n",
    "        # 1번 작업 \n",
    "        if n_list[n]>i:\n",
    "            tmp_t1 += (n_list[n]-i)*2\n",
    "            b += n_list[n]-i\n",
    "        # 2번 작업\n",
    "        if n_list[n]<i:\n",
    "            tmp_t2 += i-n_list[n]\n",
    "            b -= i-n_list[n]\n",
    "    # 인벤토리가 0이상일때만 가능\n",
    "    if b>=0:\n",
    "        ans_t = min(ans_t, tmp_t1+tmp_t2)  # 최소 시간으로 업데이트\n",
    "        # 시간이 업데이트될때만 heigth도 업데이트\n",
    "        if ans_t==tmp_t1+tmp_t2:\n",
    "            ans_h = i\n",
    "\n",
    "## 결과 출력 \n",
    "print(ans_t, ans_h)"
   ]
  }
 ],
 "metadata": {
  "kernelspec": {
   "display_name": "Python 3 (ipykernel)",
   "language": "python",
   "name": "python3"
  },
  "language_info": {
   "codemirror_mode": {
    "name": "ipython",
    "version": 3
   },
   "file_extension": ".py",
   "mimetype": "text/x-python",
   "name": "python",
   "nbconvert_exporter": "python",
   "pygments_lexer": "ipython3",
   "version": "3.9.12"
  }
 },
 "nbformat": 4,
 "nbformat_minor": 5
}
