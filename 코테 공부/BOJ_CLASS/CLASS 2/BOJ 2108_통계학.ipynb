{
 "cells": [
  {
   "cell_type": "markdown",
   "id": "1a920e3e-c3e7-4724-85d8-9400a98e5564",
   "metadata": {},
   "source": [
    "## BOJ 2108 : 통계학\n",
    "### 문제\n",
    "수를 처리하는 것은 통계학에서 상당히 중요한 일이다. 통계학에서 N개의 수를 대표하는 기본 통계값에는 다음과 같은 것들이 있다. 단, N은 홀수라고 가정하자.\n",
    "\n",
    "1. 산술평균 : N개의 수들의 합을 N으로 나눈 값\n",
    "2. 중앙값 : N개의 수들을 증가하는 순서로 나열했을 경우 그 중앙에 위치하는 값\n",
    "3. 최빈값 : N개의 수들 중 가장 많이 나타나는 값\n",
    "4. 범위 : N개의 수들 중 최댓값과 최솟값의 차이  \n",
    "\n",
    "N개의 수가 주어졌을 때, 네 가지 기본 통계값을 구하는 프로그램을 작성하시오.\n",
    "### 입력\n",
    "첫째 줄에 수의 개수 N(1 ≤ N ≤ 500,000)이 주어진다. 단, N은 홀수이다. 그 다음 N개의 줄에는 정수들이 주어진다. 입력되는 정수의 절댓값은 4,000을 넘지 않는다.\n",
    "### 출력\n",
    "첫째 줄에는 산술평균을 출력한다. 소수점 이하 첫째 자리에서 반올림한 값을 출력한다.\n",
    "\n",
    "둘째 줄에는 중앙값을 출력한다.\n",
    "\n",
    "셋째 줄에는 최빈값을 출력한다. 여러 개 있을 때에는 최빈값 중 두 번째로 작은 값을 출력한다.\n",
    "\n",
    "넷째 줄에는 범위를 출력한다."
   ]
  },
  {
   "cell_type": "code",
   "execution_count": 5,
   "id": "78de291c-6009-4231-afd5-40443e74bcf5",
   "metadata": {},
   "outputs": [
    {
     "name": "stdin",
     "output_type": "stream",
     "text": [
      " 5\n",
      " 1\n",
      " 3\n",
      " 8\n",
      " -2\n",
      " 2\n"
     ]
    },
    {
     "name": "stdout",
     "output_type": "stream",
     "text": [
      "2\n",
      "2\n",
      "1\n",
      "10\n"
     ]
    }
   ],
   "source": [
    "import sys\n",
    "input = sys.stdin.readline\n",
    "\n",
    "# 입력받기\n",
    "N = int(input())\n",
    "n_list = []\n",
    "for i in range(N):\n",
    "    n = int(input())\n",
    "    n_list.append(n)\n",
    "n_list.sort()\n",
    "\n",
    "## 알고리즘 계산 \n",
    "# 산술평균\n",
    "print(int(round(sum(n_list)/len(n_list), 0)))\n",
    "# 중앙값 \n",
    "import math\n",
    "a = math.ceil(len(n_list)/2)\n",
    "print(n_list[a-1])\n",
    "# 최빈값\n",
    "from collections import Counter\n",
    "cnt = Counter(n_list).most_common()\n",
    "if len(cnt)>=2:\n",
    "    if cnt[0][1]==cnt[1][1]:\n",
    "        print(cnt[1][0])\n",
    "    else:\n",
    "        print(cnt[0][0])\n",
    "else:\n",
    "    print(cnt[0][0])\n",
    "# 범위 \n",
    "print(n_list[-1] - n_list[0])"
   ]
  },
  {
   "cell_type": "code",
   "execution_count": 4,
   "id": "4ef22386-94e7-4d06-bea4-31c39b69de64",
   "metadata": {},
   "outputs": [
    {
     "name": "stdout",
     "output_type": "stream",
     "text": [
      "[(-2, 1), (1, 1)]\n"
     ]
    }
   ],
   "source": [
    "# 최빈값\n",
    "from collections import Counter\n",
    "cnt = Counter(n_list)\n",
    "if len(cnt.most_common())>=2:\n",
    "    print(cnt.most_common(2))"
   ]
  },
  {
   "cell_type": "code",
   "execution_count": 13,
   "id": "26aa844f-1832-4a5a-864b-6b20d6f1c255",
   "metadata": {},
   "outputs": [
    {
     "data": {
      "text/plain": [
       "[(4000, 1)]"
      ]
     },
     "execution_count": 13,
     "metadata": {},
     "output_type": "execute_result"
    }
   ],
   "source": [
    "cnt.most_common(2)"
   ]
  },
  {
   "cell_type": "code",
   "execution_count": 45,
   "id": "d5f57ec9-a44a-44f4-9faf-4d3da167c946",
   "metadata": {},
   "outputs": [],
   "source": []
  },
  {
   "cell_type": "code",
   "execution_count": 47,
   "id": "fa058865-3283-4941-b27c-3b4ee6281d60",
   "metadata": {},
   "outputs": [
    {
     "name": "stdout",
     "output_type": "stream",
     "text": [
      "10\n"
     ]
    }
   ],
   "source": []
  },
  {
   "cell_type": "code",
   "execution_count": null,
   "id": "17c866c7-7ed4-4b41-83ce-991f6bc8dc50",
   "metadata": {},
   "outputs": [],
   "source": []
  }
 ],
 "metadata": {
  "kernelspec": {
   "display_name": "Python 3 (ipykernel)",
   "language": "python",
   "name": "python3"
  },
  "language_info": {
   "codemirror_mode": {
    "name": "ipython",
    "version": 3
   },
   "file_extension": ".py",
   "mimetype": "text/x-python",
   "name": "python",
   "nbconvert_exporter": "python",
   "pygments_lexer": "ipython3",
   "version": "3.9.12"
  }
 },
 "nbformat": 4,
 "nbformat_minor": 5
}
