{
 "cells": [
  {
   "cell_type": "markdown",
   "id": "d84264b4-42ea-4ec4-8761-293d029402cb",
   "metadata": {},
   "source": [
    "## BOJ 2164 : 카드 2 \n",
    "### 문제\n",
    "N장의 카드가 있다. 각각의 카드는 차례로 1부터 N까지의 번호가 붙어 있으며, 1번 카드가 제일 위에, N번 카드가 제일 아래인 상태로 순서대로 카드가 놓여 있다.\n",
    "\n",
    "이제 다음과 같은 동작을 카드가 한 장 남을 때까지 반복하게 된다. 우선, 제일 위에 있는 카드를 바닥에 버린다. 그 다음, 제일 위에 있는 카드를 제일 아래에 있는 카드 밑으로 옮긴다.\n",
    "\n",
    "예를 들어 N=4인 경우를 생각해 보자. 카드는 제일 위에서부터 1234 의 순서로 놓여있다. 1을 버리면 234가 남는다. 여기서 2를 제일 아래로 옮기면 342가 된다. 3을 버리면 42가 되고, 4를 밑으로 옮기면 24가 된다. 마지막으로 2를 버리고 나면, 남는 카드는 4가 된다.\n",
    "\n",
    "N이 주어졌을 때, 제일 마지막에 남게 되는 카드를 구하는 프로그램을 작성하시오.\n",
    "### 입력\n",
    "첫째 줄에 정수 N(1 ≤ N ≤ 500,000)이 주어진다.\n",
    "### 출력\n",
    "첫째 줄에 남게 되는 카드의 번호를 출력한다."
   ]
  },
  {
   "cell_type": "markdown",
   "id": "d11bfeb5-57eb-4b2e-896a-94ae63d3d365",
   "metadata": {},
   "source": [
    "### 풀이 1 \n",
    "- 자료를 queue의 형태로 받아서 1.버림 2.위의 카드를 아래로 옮김 3.버림 의 순서대로 진행하는 알고리즘 생성\n",
    "- 입력이 50만이므로 많은 횟수를 시행해야함에 반해, 시간이 2초로 짧아서 시간초과가 나타남"
   ]
  },
  {
   "cell_type": "code",
   "execution_count": 30,
   "id": "4fa03729-6570-47c2-b474-f2dfccf186c6",
   "metadata": {},
   "outputs": [
    {
     "name": "stdin",
     "output_type": "stream",
     "text": [
      " 6\n"
     ]
    },
    {
     "name": "stdout",
     "output_type": "stream",
     "text": [
      "4\n"
     ]
    }
   ],
   "source": [
    "import sys\n",
    "input = sys.stdin.readline\n",
    "\n",
    "## 입력 받기\n",
    "N = int(input())\n",
    "queue = list(i+1 for i in range(N)) # 리스트 생성\n",
    "\n",
    "while len(queue)>=2:\n",
    "    queue.pop(0)\n",
    "    queue.append(queue[0])\n",
    "    queue.pop(0)\n",
    "\n",
    "## 출력\n",
    "print(queue[0])"
   ]
  },
  {
   "cell_type": "markdown",
   "id": "87e1daac-b1bf-4ade-98c1-4cd94cff6fe0",
   "metadata": {},
   "source": [
    "### 풀이 2\n",
    "- 성공한 풀이\n",
    "- collections 패키지의 deque 사용\n",
    "- list를 이용하여 queue를 구현하는 것보다 성능면에서 뛰어남"
   ]
  },
  {
   "cell_type": "code",
   "execution_count": 12,
   "id": "aa07bd9e-b1fe-4a2e-a285-3601ebdcf675",
   "metadata": {},
   "outputs": [
    {
     "name": "stdin",
     "output_type": "stream",
     "text": [
      " 6\n"
     ]
    },
    {
     "name": "stdout",
     "output_type": "stream",
     "text": [
      "4\n"
     ]
    }
   ],
   "source": [
    "from collections import deque\n",
    "\n",
    "## 입력 받기\n",
    "N = int(input())\n",
    "queue = deque(i+1 for i in range(N))\n",
    "\n",
    "while len(queue)>=2:\n",
    "    queue.popleft()\n",
    "    queue.append(queue[0])\n",
    "    queue.popleft()\n",
    "\n",
    "print(queue[0])"
   ]
  }
 ],
 "metadata": {
  "kernelspec": {
   "display_name": "Python 3 (ipykernel)",
   "language": "python",
   "name": "python3"
  },
  "language_info": {
   "codemirror_mode": {
    "name": "ipython",
    "version": 3
   },
   "file_extension": ".py",
   "mimetype": "text/x-python",
   "name": "python",
   "nbconvert_exporter": "python",
   "pygments_lexer": "ipython3",
   "version": "3.9.12"
  }
 },
 "nbformat": 4,
 "nbformat_minor": 5
}
