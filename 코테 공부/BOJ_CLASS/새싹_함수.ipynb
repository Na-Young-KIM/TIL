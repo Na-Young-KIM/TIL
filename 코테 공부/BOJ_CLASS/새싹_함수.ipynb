{
 "cells": [
  {
   "cell_type": "markdown",
   "id": "cf3d34ed-af1e-4d85-96a0-2e894d94ff72",
   "metadata": {},
   "source": [
    "## BOJ 15964 : 이상한 기호\n",
    "연산자의 기호는 ＠으로, A＠B = (A+B)×(A-B)으로 정의내리기로 했다.  \n",
    "효진이를 도와 정수 A, B가 주어지면 A＠B를 계산하는 프로그램을 만들어주자!"
   ]
  },
  {
   "cell_type": "code",
   "execution_count": 2,
   "id": "9b2ce588-c2b1-4ddf-8c41-63e5542a5378",
   "metadata": {},
   "outputs": [
    {
     "name": "stdin",
     "output_type": "stream",
     "text": [
      " 3 4\n"
     ]
    },
    {
     "name": "stdout",
     "output_type": "stream",
     "text": [
      "-7\n"
     ]
    }
   ],
   "source": [
    "# 함수 생성\n",
    "def strage_col(a, b):\n",
    "    result = (a+b)*(a-b)\n",
    "    print(result)\n",
    "\n",
    "# 입력 받기\n",
    "a, b = map(int, input().split())\n",
    "\n",
    "# 결과 출력 \n",
    "strage_col(a, b)"
   ]
  },
  {
   "cell_type": "markdown",
   "id": "e812da88-7b9d-471b-9b8a-5bcb1eaa9331",
   "metadata": {},
   "source": [
    "## BOJ 2475 : 검증수\n",
    "고유번호의 처음 5자리의 숫자들이 04256이면, 각 숫자를 제곱한 수들의 합 0+16+4+25+36 = 81 을 10으로 나눈 나머지인 1이 검증수이다."
   ]
  },
  {
   "cell_type": "code",
   "execution_count": 4,
   "id": "df2b2337-5bd1-458e-9a81-d116ac1808f4",
   "metadata": {},
   "outputs": [
    {
     "name": "stdin",
     "output_type": "stream",
     "text": [
      " 0 4 2 5 6\n"
     ]
    }
   ],
   "source": [
    "# 입력 받기\n",
    "n_list = list(map(int, input().split()))\n",
    "\n",
    "# 검증수 계산\n",
    "sum = 0\n",
    "for n in n_list:\n",
    "    sum += n*n\n",
    "\n",
    "# 결과 출력\n",
    "print(sum%10)"
   ]
  },
  {
   "cell_type": "code",
   "execution_count": 8,
   "id": "553f4031-6a40-40c3-a672-2ca0de7fa791",
   "metadata": {},
   "outputs": [
    {
     "name": "stdout",
     "output_type": "stream",
     "text": [
      "1\n"
     ]
    }
   ],
   "source": []
  },
  {
   "cell_type": "code",
   "execution_count": 7,
   "id": "410964af-50cb-4ad1-8f65-1243e0656d53",
   "metadata": {},
   "outputs": [
    {
     "data": {
      "text/plain": [
       "81"
      ]
     },
     "execution_count": 7,
     "metadata": {},
     "output_type": "execute_result"
    }
   ],
   "source": [
    "sum"
   ]
  },
  {
   "cell_type": "code",
   "execution_count": null,
   "id": "21e985f7-04d4-4653-b71d-77dbe9647bfb",
   "metadata": {},
   "outputs": [],
   "source": []
  }
 ],
 "metadata": {
  "kernelspec": {
   "display_name": "Python 3 (ipykernel)",
   "language": "python",
   "name": "python3"
  },
  "language_info": {
   "codemirror_mode": {
    "name": "ipython",
    "version": 3
   },
   "file_extension": ".py",
   "mimetype": "text/x-python",
   "name": "python",
   "nbconvert_exporter": "python",
   "pygments_lexer": "ipython3",
   "version": "3.9.12"
  }
 },
 "nbformat": 4,
 "nbformat_minor": 5
}
