{
 "cells": [
  {
   "cell_type": "markdown",
   "id": "37a0ea2e-2e50-4500-a89e-d0d1b5a6c895",
   "metadata": {},
   "source": [
    "## BOJ 1330 : 두 수 비교하기"
   ]
  },
  {
   "cell_type": "code",
   "execution_count": 2,
   "id": "36c6ee87-0f47-4721-8534-70e07af1c00d",
   "metadata": {},
   "outputs": [
    {
     "name": "stdin",
     "output_type": "stream",
     "text": [
      " 10 2\n"
     ]
    },
    {
     "name": "stdout",
     "output_type": "stream",
     "text": [
      ">\n"
     ]
    }
   ],
   "source": [
    "a, b = map(int, input().split())\n",
    "\n",
    "if a < b:\n",
    "    print('<')\n",
    "elif a > b:\n",
    "    print('>')\n",
    "else:\n",
    "    print('==')"
   ]
  },
  {
   "cell_type": "markdown",
   "id": "9c581057-f3cd-49d3-844f-bbfad38434de",
   "metadata": {},
   "source": [
    "## BOJ 9498 : 시험 성적\n",
    "시험 점수를 입력받아 90 ~ 100점은 A, 80 ~ 89점은 B, 70 ~ 79점은 C, 60 ~ 69점은 D, 나머지 점수는 F를 출력하는 프로그램을 작성하시오."
   ]
  },
  {
   "cell_type": "code",
   "execution_count": 5,
   "id": "b8906622-0cc5-4511-ba3a-6ec3e64e41ea",
   "metadata": {},
   "outputs": [
    {
     "name": "stdin",
     "output_type": "stream",
     "text": [
      " 100\n"
     ]
    },
    {
     "name": "stdout",
     "output_type": "stream",
     "text": [
      "A\n"
     ]
    }
   ],
   "source": [
    "s = int(input())\n",
    "\n",
    "if s >= 90:\n",
    "    print('A')\n",
    "elif s >= 80:\n",
    "    print('B')\n",
    "elif s >= 70:\n",
    "    print('C')\n",
    "elif s >= 60:\n",
    "    print('D')\n",
    "else:\n",
    "    print('F')"
   ]
  },
  {
   "cell_type": "markdown",
   "id": "a12e1c5f-2208-4fab-968a-1da4d73a4510",
   "metadata": {},
   "source": [
    "## BOJ 14681 : 사분면 고르기\n",
    "점의 좌표를 입력받아 그 점이 어느 사분면에 속하는지 알아내는 프로그램을 작성하시오. 단, x좌표와 y좌표는 모두 양수나 음수라고 가정한다."
   ]
  },
  {
   "cell_type": "code",
   "execution_count": 9,
   "id": "f12e9e2d-6517-4412-a755-c5dae09c5a5d",
   "metadata": {},
   "outputs": [
    {
     "name": "stdin",
     "output_type": "stream",
     "text": [
      " 9\n",
      " -13\n"
     ]
    },
    {
     "name": "stdout",
     "output_type": "stream",
     "text": [
      "4\n"
     ]
    }
   ],
   "source": [
    "x = int(input())\n",
    "y = int(input())\n",
    "\n",
    "if x > 0:\n",
    "    if y > 0:\n",
    "        print(1)\n",
    "    else:\n",
    "        print(4)\n",
    "else:\n",
    "    if y > 0:\n",
    "        print(2)\n",
    "    else:\n",
    "        print(3)"
   ]
  },
  {
   "cell_type": "markdown",
   "id": "0d6b8f3f-e79a-4958-aecd-8d45e9355626",
   "metadata": {},
   "source": [
    "## BOJ 2753 : 윤년\n",
    "연도가 주어졌을 때, 윤년이면 1, 아니면 0을 출력하는 프로그램을 작성하시오.  \n",
    "윤년은 연도가 4의 배수이면서, 100의 배수가 아닐 때 또는 400의 배수일 때이다."
   ]
  },
  {
   "cell_type": "code",
   "execution_count": 13,
   "id": "17bd7eb9-5d32-4cb5-8da7-d763284e94d2",
   "metadata": {},
   "outputs": [
    {
     "name": "stdin",
     "output_type": "stream",
     "text": [
      " 2012\n"
     ]
    },
    {
     "name": "stdout",
     "output_type": "stream",
     "text": [
      "1\n"
     ]
    }
   ],
   "source": [
    "y = int(input())\n",
    "\n",
    "if (y%4==0) & (y%100!=0):\n",
    "    print(1)\n",
    "elif (y%4==0) & (y%400==0):\n",
    "    print(1)\n",
    "else:\n",
    "    print(0)"
   ]
  },
  {
   "cell_type": "markdown",
   "id": "df816884-8933-49d7-9f5c-53a4d097d9c5",
   "metadata": {},
   "source": [
    "## BOJ 2420 : 사파리월드\n",
    "두 유명도의 차이 (|N-M|)을 출력한다."
   ]
  },
  {
   "cell_type": "code",
   "execution_count": 14,
   "id": "814e7c17-4e4d-4a56-82cc-48134658d8d6",
   "metadata": {},
   "outputs": [
    {
     "name": "stdin",
     "output_type": "stream",
     "text": [
      " -2 5\n"
     ]
    },
    {
     "name": "stdout",
     "output_type": "stream",
     "text": [
      "7\n"
     ]
    }
   ],
   "source": [
    "a, b = map(int, input().split())\n",
    "result = abs(a-b)\n",
    "print(result)"
   ]
  }
 ],
 "metadata": {
  "kernelspec": {
   "display_name": "Python 3 (ipykernel)",
   "language": "python",
   "name": "python3"
  },
  "language_info": {
   "codemirror_mode": {
    "name": "ipython",
    "version": 3
   },
   "file_extension": ".py",
   "mimetype": "text/x-python",
   "name": "python",
   "nbconvert_exporter": "python",
   "pygments_lexer": "ipython3",
   "version": "3.9.12"
  }
 },
 "nbformat": 4,
 "nbformat_minor": 5
}
