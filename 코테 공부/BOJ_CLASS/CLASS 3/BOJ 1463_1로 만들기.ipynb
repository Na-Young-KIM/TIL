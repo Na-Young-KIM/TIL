{
 "cells": [
  {
   "cell_type": "markdown",
   "id": "fd6a9c72-0464-4c65-91e1-50af4fa401b7",
   "metadata": {},
   "source": [
    "## BOJ 1463 : 1로 만들기\n",
    "### 문제\n",
    "정수 X에 사용할 수 있는 연산은 다음과 같이 세 가지 이다.\n",
    "\n",
    "1. X가 3으로 나누어 떨어지면, 3으로 나눈다.\n",
    "2. X가 2로 나누어 떨어지면, 2로 나눈다.\n",
    "3. 1을 뺀다.  \n",
    "\n",
    "정수 N이 주어졌을 때, 위와 같은 연산 세 개를 적절히 사용해서 1을 만들려고 한다. 연산을 사용하는 횟수의 최솟값을 출력하시오.\n",
    "### 입력\n",
    "첫째 줄에 1보다 크거나 같고, 106보다 작거나 같은 정수 N이 주어진다.\n",
    "### 출력\n",
    "첫째 줄에 연산을 하는 횟수의 최솟값을 출력한다."
   ]
  },
  {
   "cell_type": "markdown",
   "id": "439c8120-e93c-4d38-b4bf-e1b60fbdb67d",
   "metadata": {},
   "source": [
    "### 풀이방법1 (실패)\n",
    "- 다이나믹 프로그래밍을 사용한 방법(bottom-up)\n",
    "- 58% 부근에서 실패했는데, input=642, ouput=11, answer=10의 반례를 찾았다.\n",
    "- 이는 3과 2로 모두 나누어 떨어졌을 때 발생하는 이슈인데, 당연히 3으로 나눴을 때가 더 적게 계산할 줄 알았으나, 아닐수도 있다는 결과를 얻었다. (참고 : https://www.acmicpc.net/board/view/91838)"
   ]
  },
  {
   "cell_type": "code",
   "execution_count": 5,
   "id": "7a67b2e2-8ac9-4027-b1f9-ed12c30fe88e",
   "metadata": {},
   "outputs": [
    {
     "name": "stdin",
     "output_type": "stream",
     "text": [
      " 642\n"
     ]
    },
    {
     "name": "stdout",
     "output_type": "stream",
     "text": [
      "11\n"
     ]
    }
   ],
   "source": [
    "N = int(input())\n",
    "dp = [0 for _ in range(10**7)]\n",
    "dp[1] = 0\n",
    "dp[2] = 1\n",
    "dp[3] = 1\n",
    "\n",
    "for n in range(4, N+1):\n",
    "    if n%3==0:\n",
    "        dp[n] = min(dp[n//3]+1, dp[n-1]+1)\n",
    "    elif n%2==0:\n",
    "        dp[n] = min(dp[n//2]+1, dp[n-1]+1)\n",
    "    else:\n",
    "        dp[n] = dp[n-1] + 1 \n",
    "\n",
    "print(dp[N])"
   ]
  },
  {
   "cell_type": "markdown",
   "id": "0c032afc-7afd-4550-aad5-299388e3e9ef",
   "metadata": {},
   "source": [
    "### 풀이방법2 (정답)\n",
    "- 3과 2로 모두 나누어 떨어졌을 때의 case를 하나 더 추가한다. \n",
    "- 두개 중에 더 적은 걸로 값을 채택한다. "
   ]
  },
  {
   "cell_type": "code",
   "execution_count": 6,
   "id": "a9c12b9b-9386-4c8f-b0c2-de4e51dd091d",
   "metadata": {},
   "outputs": [
    {
     "name": "stdin",
     "output_type": "stream",
     "text": [
      " 642\n"
     ]
    },
    {
     "name": "stdout",
     "output_type": "stream",
     "text": [
      "10\n"
     ]
    }
   ],
   "source": [
    "N = int(input())\n",
    "dp = [0 for _ in range(10**7)]\n",
    "dp[1] = 0\n",
    "dp[2] = 1\n",
    "dp[3] = 1\n",
    "\n",
    "for n in range(4, N+1):\n",
    "    if (n%3==0)&(n%2==0):\n",
    "        dp[n] = min(dp[n//3]+1, dp[n//2]+1)\n",
    "    elif n%3==0:\n",
    "        dp[n] = min(dp[n//3]+1, dp[n-1]+1)\n",
    "    elif n%2==0:\n",
    "        dp[n] = min(dp[n//2]+1, dp[n-1]+1)\n",
    "    else:\n",
    "        dp[n] = dp[n-1] + 1 \n",
    "\n",
    "print(dp[N])"
   ]
  }
 ],
 "metadata": {
  "kernelspec": {
   "display_name": "Python 3 (ipykernel)",
   "language": "python",
   "name": "python3"
  },
  "language_info": {
   "codemirror_mode": {
    "name": "ipython",
    "version": 3
   },
   "file_extension": ".py",
   "mimetype": "text/x-python",
   "name": "python",
   "nbconvert_exporter": "python",
   "pygments_lexer": "ipython3",
   "version": "3.9.12"
  }
 },
 "nbformat": 4,
 "nbformat_minor": 5
}
