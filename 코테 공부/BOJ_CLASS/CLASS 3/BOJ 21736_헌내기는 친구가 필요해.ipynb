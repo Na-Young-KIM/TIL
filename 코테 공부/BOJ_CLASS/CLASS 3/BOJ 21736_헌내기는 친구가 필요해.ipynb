{
 "cells": [
  {
   "cell_type": "markdown",
   "id": "c09dff9e-e4fa-4e13-ad71-9b7ab3b035f2",
   "metadata": {},
   "source": [
    "## BOJ 21736 : 헌내기는 친구가 필요해\n",
    "### 문제\n",
    "2020년에 입학한 헌내기 도연이가 있다. 도연이는 비대면 수업 때문에 학교에 가지 못해 학교에 아는 친구가 없었다. 드디어 대면 수업을 하게 된 도연이는 어서 캠퍼스 내의 사람들과 친해지고 싶다. \n",
    "\n",
    "도연이가 다니는 대학의 캠퍼스는 \n",
    "$N \\times M$ 크기이며 캠퍼스에서 이동하는 방법은 벽이 아닌 상하좌우로 이동하는 것이다. 예를 들어, 도연이가 (\n",
    "$x$, \n",
    "$y$)에 있다면 이동할 수 있는 곳은 (\n",
    "$x+1$, \n",
    "$y$), (\n",
    "$x$, \n",
    "$y+1$), (\n",
    "$x-1$, \n",
    "$y$), (\n",
    "$x$, \n",
    "$y-1$)이다. 단, 캠퍼스의 밖으로 이동할 수는 없다.\n",
    "\n",
    "불쌍한 도연이를 위하여 캠퍼스에서 도연이가 만날 수 있는 사람의 수를 출력하는 프로그램을 작성해보자.\n",
    "\n",
    "### 입력\n",
    "첫째 줄에는 캠퍼스의 크기를 나타내는 두 정수 \n",
    "$N$ (\n",
    "$ 1 \\leq N \\leq 600$), \n",
    "$M$ (\n",
    "$ 1 \\leq M \\leq 600$)이 주어진다.\n",
    "\n",
    "둘째 줄부터 \n",
    "$N$개의 줄에는 캠퍼스의 정보들이 주어진다. O는 빈 공간, X는 벽, I는 도연이, P는 사람이다. I가 한 번만 주어짐이 보장된다.\n",
    "### 출력\n",
    "첫째 줄에 도연이가 만날 수 있는 사람의 수를 출력한다. 단, 아무도 만나지 못한 경우 TT를 출력한다."
   ]
  },
  {
   "cell_type": "code",
   "execution_count": 4,
   "id": "e7ac35ac-42e1-4592-a80c-0b9180ffa638",
   "metadata": {},
   "outputs": [
    {
     "name": "stdin",
     "output_type": "stream",
     "text": [
      " 3 5\n",
      " OOOPO\n",
      " OIOOX\n",
      " OOOXP\n"
     ]
    },
    {
     "name": "stdout",
     "output_type": "stream",
     "text": [
      "1\n"
     ]
    }
   ],
   "source": [
    "from collections import deque\n",
    "\n",
    "## bfs 알고리즘 만들기 \n",
    "dx = [-1, 1, 0, 0]\n",
    "dy = [0, 0, -1, 1]\n",
    "queue = deque()\n",
    "def bfs(x, y, visited):\n",
    "    global cnt\n",
    "    queue.append((x, y))\n",
    "    visited[x][y] = True\n",
    "    while queue:\n",
    "        x, y = queue.popleft()\n",
    "        # 상, 하, 좌, 우 탐색 \n",
    "        for i in range(4):\n",
    "            nx = x+dx[i]\n",
    "            ny = y+dy[i]\n",
    "            # graph 범위를 벗어나면 안됨 \n",
    "            if (nx<0)|(ny<0)|(nx>=N)|(ny>=M):\n",
    "                continue\n",
    "            # 좌표가 'X'면 안되고, 방문했던 곳이면 안됨 \n",
    "            if (graph[nx][ny]!='X')&(visited[nx][ny]==False):\n",
    "                queue.append((nx, ny))\n",
    "                visited[nx][ny]=True\n",
    "                if (graph[nx][ny]=='P'):\n",
    "                    cnt += 1 \n",
    "    return cnt\n",
    "\n",
    "## 입력 받기 \n",
    "N, M = map(int, input().split())\n",
    "graph = [list(input()) for _ in range(N)]\n",
    "visited = [[False]*M for _ in range(N)]\n",
    "cnt = 0 \n",
    "\n",
    "## 처음 위치 찾기 \n",
    "ans = 0\n",
    "for n in range(N):\n",
    "    for m in range(M):\n",
    "        if graph[n][m]=='I':\n",
    "            ans += bfs(n, m, visited)\n",
    "## 결과 출력 \n",
    "if ans==0:\n",
    "    print('TT')\n",
    "else:\n",
    "    print(ans)"
   ]
  }
 ],
 "metadata": {
  "kernelspec": {
   "display_name": "Python 3 (ipykernel)",
   "language": "python",
   "name": "python3"
  },
  "language_info": {
   "codemirror_mode": {
    "name": "ipython",
    "version": 3
   },
   "file_extension": ".py",
   "mimetype": "text/x-python",
   "name": "python",
   "nbconvert_exporter": "python",
   "pygments_lexer": "ipython3",
   "version": "3.9.12"
  }
 },
 "nbformat": 4,
 "nbformat_minor": 5
}
