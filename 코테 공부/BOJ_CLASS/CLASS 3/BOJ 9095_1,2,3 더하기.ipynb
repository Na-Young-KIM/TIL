{
 "cells": [
  {
   "cell_type": "markdown",
   "id": "2d0bfe23-b511-4f89-9f57-a163d601a91d",
   "metadata": {},
   "source": [
    "## BOJ 9095 : 1, 2, 3 더하기\n",
    "### 문제\n",
    "정수 4를 1, 2, 3의 합으로 나타내는 방법은 총 7가지가 있다. 합을 나타낼 때는 수를 1개 이상 사용해야 한다.\n",
    "\n",
    "- 1+1+1+1\n",
    "- 1+1+2\n",
    "- 1+2+1\n",
    "- 2+1+1\n",
    "- 2+2\n",
    "- 1+3\n",
    "- 3+1\n",
    "\n",
    "정수 n이 주어졌을 때, n을 1, 2, 3의 합으로 나타내는 방법의 수를 구하는 프로그램을 작성하시오.\n",
    "### 입력\n",
    "첫째 줄에 테스트 케이스의 개수 T가 주어진다. 각 테스트 케이스는 한 줄로 이루어져 있고, 정수 n이 주어진다. n은 양수이며 11보다 작다.\n",
    "### 출력\n",
    "각 테스트 케이스마다, n을 1, 2, 3의 합으로 나타내는 방법의 수를 출력한다."
   ]
  },
  {
   "cell_type": "code",
   "execution_count": 1,
   "id": "f4cbc284-61ff-4f45-9db0-a1c5f184ac14",
   "metadata": {},
   "outputs": [],
   "source": [
    "## DP 알고리즘 \n",
    "dp = [0 for _ in range(11)]\n",
    "dp[1] = 1\n",
    "dp[2] = 2\n",
    "dp[3] = 4\n",
    "for i in range(4, 11):\n",
    "    dp[i] = dp[i-3] + dp[i-2] + dp[i-1]\n",
    "\n",
    "T = int(input())\n",
    "for _ in range(T):\n",
    "    print(dp[int(input())])"
   ]
  }
 ],
 "metadata": {
  "kernelspec": {
   "display_name": "Python 3 (ipykernel)",
   "language": "python",
   "name": "python3"
  },
  "language_info": {
   "codemirror_mode": {
    "name": "ipython",
    "version": 3
   },
   "file_extension": ".py",
   "mimetype": "text/x-python",
   "name": "python",
   "nbconvert_exporter": "python",
   "pygments_lexer": "ipython3",
   "version": "3.9.12"
  }
 },
 "nbformat": 4,
 "nbformat_minor": 5
}
