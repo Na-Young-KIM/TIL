{
 "cells": [
  {
   "attachments": {
    "a5def2e8-23f8-4b3d-96fc-e1b10b343e35.png": {
     "image/png": "[encoded data removed]"
    }
   },
   "cell_type": "markdown",
   "id": "027a051d-573f-4296-92f9-7722290da047",
   "metadata": {},
   "source": [
    "## BOJ 11727 : 2×n 타일링 2\n",
    "### 문제\n",
    "2×n 직사각형을 1×2, 2×1과 2×2 타일로 채우는 방법의 수를 구하는 프로그램을 작성하시오.\n",
    "\n",
    "아래 그림은 2×17 직사각형을 채운 한가지 예이다.\n",
    "![image.png](attachment:a5def2e8-23f8-4b3d-96fc-e1b10b343e35.png)\n",
    "\n",
    "### 입력\n",
    "첫째 줄에 n이 주어진다. (1 ≤ n ≤ 1,000)\n",
    "### 출력\n",
    "첫째 줄에 2×n 크기의 직사각형을 채우는 방법의 수를 10,007로 나눈 나머지를 출력한다."
   ]
  },
  {
   "cell_type": "code",
   "execution_count": 11,
   "id": "e68e3999-2286-4fbf-8f1d-e232e76e9f57",
   "metadata": {},
   "outputs": [
    {
     "name": "stdin",
     "output_type": "stream",
     "text": [
      " 1000\n"
     ]
    },
    {
     "name": "stdout",
     "output_type": "stream",
     "text": [
      "7326\n"
     ]
    }
   ],
   "source": [
    "dp = [0 for _ in range(1001)]\n",
    "dp[1], dp[2] = 1, 3\n",
    "\n",
    "n = int(input())\n",
    "for i in range(3, n+1):\n",
    "    dp[i] = dp[i-2]*2+dp[i-1]\n",
    "print(dp[n]%10007)"
   ]
  }
 ],
 "metadata": {
  "kernelspec": {
   "display_name": "Python 3 (ipykernel)",
   "language": "python",
   "name": "python3"
  },
  "language_info": {
   "codemirror_mode": {
    "name": "ipython",
    "version": 3
   },
   "file_extension": ".py",
   "mimetype": "text/x-python",
   "name": "python",
   "nbconvert_exporter": "python",
   "pygments_lexer": "ipython3",
   "version": "3.9.12"
  }
 },
 "nbformat": 4,
 "nbformat_minor": 5
}
