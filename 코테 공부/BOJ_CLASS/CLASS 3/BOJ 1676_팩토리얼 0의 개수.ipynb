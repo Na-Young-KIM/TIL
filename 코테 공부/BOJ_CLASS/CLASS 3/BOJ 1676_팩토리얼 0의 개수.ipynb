{
 "cells": [
  {
   "cell_type": "markdown",
   "id": "0ec90fa8-8aaa-4d82-a559-41bafefeb6e5",
   "metadata": {},
   "source": [
    "## BOJ 1676 : 팩토리얼 0의 개수\n",
    "### 문제 \n",
    "N!에서 뒤에서부터 처음 0이 아닌 숫자가 나올 때까지 0의 개수를 구하는 프로그램을 작성하시오.\n",
    "### 입력\n",
    "첫째 줄에 N이 주어진다. (0 ≤ N ≤ 500)\n",
    "### 출력\n",
    "첫째 줄에 구한 0의 개수를 출력한다."
   ]
  },
  {
   "cell_type": "code",
   "execution_count": 52,
   "id": "c5020f55-cdcf-4728-8e63-b2b05ad6f90b",
   "metadata": {},
   "outputs": [
    {
     "name": "stdin",
     "output_type": "stream",
     "text": [
      " 10\n"
     ]
    },
    {
     "name": "stdout",
     "output_type": "stream",
     "text": [
      "2\n"
     ]
    }
   ],
   "source": [
    "## 입력받기\n",
    "N = int(input())\n",
    "\n",
    "## 알고리즘 계산\n",
    "fac, ans = 1, 0  # 변수 초기화 \n",
    "# 0!은 1이므로 결과 = 0 \n",
    "if N==0:\n",
    "    ans = 0\n",
    "# 0을 제외한 숫자\n",
    "else: \n",
    "    # 팩토리얼 계산 \n",
    "    for n in range(N, 0, -1):\n",
    "        fac *= n\n",
    "    # 끝부터 돌아가면서 0이면 answer += 1 \n",
    "    for i in range(len(str(fac))-1, -1, -1):\n",
    "        if str(fac)[i]=='0':\n",
    "            ans += 1 \n",
    "        else:\n",
    "            break\n",
    "## 결과출력  \n",
    "print(ans)"
   ]
  }
 ],
 "metadata": {
  "kernelspec": {
   "display_name": "Python 3 (ipykernel)",
   "language": "python",
   "name": "python3"
  },
  "language_info": {
   "codemirror_mode": {
    "name": "ipython",
    "version": 3
   },
   "file_extension": ".py",
   "mimetype": "text/x-python",
   "name": "python",
   "nbconvert_exporter": "python",
   "pygments_lexer": "ipython3",
   "version": "3.9.12"
  }
 },
 "nbformat": 4,
 "nbformat_minor": 5
}
