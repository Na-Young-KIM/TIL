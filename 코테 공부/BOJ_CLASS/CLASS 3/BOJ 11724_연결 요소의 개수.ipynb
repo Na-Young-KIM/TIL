{
 "cells": [
  {
   "cell_type": "markdown",
   "id": "f2377c8f-fe57-4bdd-9ee6-d0001fe8f578",
   "metadata": {},
   "source": [
    "## BOJ 11724 : 연결 요소의 개수\n",
    "### 문제\n",
    "방향 없는 그래프가 주어졌을 때, 연결 요소 (Connected Component)의 개수를 구하는 프로그램을 작성하시오.\n",
    "### 입력\n",
    "첫째 줄에 정점의 개수 N과 간선의 개수 M이 주어진다. (1 ≤ N ≤ 1,000, 0 ≤ M ≤ N×(N-1)/2) 둘째 줄부터 M개의 줄에 간선의 양 끝점 u와 v가 주어진다. (1 ≤ u, v ≤ N, u ≠ v) 같은 간선은 한 번만 주어진다.\n",
    "### 출력\n",
    "첫째 줄에 연결 요소의 개수를 출력한다."
   ]
  },
  {
   "cell_type": "code",
   "execution_count": 25,
   "id": "5f464d15-61a8-488b-9ad7-d6754a8c21c7",
   "metadata": {},
   "outputs": [
    {
     "name": "stdin",
     "output_type": "stream",
     "text": [
      " 6 5\n",
      " 1 2\n",
      " 2 5\n",
      " 5 1\n",
      " 3 4\n",
      " 4 6\n"
     ]
    },
    {
     "name": "stdout",
     "output_type": "stream",
     "text": [
      "2\n"
     ]
    }
   ],
   "source": [
    "import sys\n",
    "sys.setrecursionlimit(10000)\n",
    "\n",
    "N, M = map(int, input().split())\n",
    "graph = [[] for _ in range(N+1)]\n",
    "visited = [False]*(N+1)\n",
    "for m in range(M):\n",
    "    a, b = map(int, input().split())\n",
    "    graph[a].append(b)\n",
    "    graph[b].append(a)\n",
    "    \n",
    "def dfs(graph, root):\n",
    "    visited[root] = True\n",
    "    for i in graph[root]:\n",
    "        if visited[i]==False:\n",
    "            dfs(graph, i)\n",
    "\n",
    "cnt = 0\n",
    "for i in range(1, N+1):\n",
    "    if visited[i]==False:\n",
    "        cnt += 1 \n",
    "        dfs(graph, i)\n",
    "print(cnt)"
   ]
  }
 ],
 "metadata": {
  "kernelspec": {
   "display_name": "Python 3 (ipykernel)",
   "language": "python",
   "name": "python3"
  },
  "language_info": {
   "codemirror_mode": {
    "name": "ipython",
    "version": 3
   },
   "file_extension": ".py",
   "mimetype": "text/x-python",
   "name": "python",
   "nbconvert_exporter": "python",
   "pygments_lexer": "ipython3",
   "version": "3.9.12"
  }
 },
 "nbformat": 4,
 "nbformat_minor": 5
}
