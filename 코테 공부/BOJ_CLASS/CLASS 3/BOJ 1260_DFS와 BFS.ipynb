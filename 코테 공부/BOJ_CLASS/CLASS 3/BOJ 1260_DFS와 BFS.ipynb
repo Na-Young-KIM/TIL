{
 "cells": [
  {
   "cell_type": "markdown",
   "id": "870b9bf5-87c8-4021-adb4-94f7e797fa47",
   "metadata": {},
   "source": [
    "## BOJ 1260 : DFS와 BFS \n",
    "### 문제\n",
    "그래프를 DFS로 탐색한 결과와 BFS로 탐색한 결과를 출력하는 프로그램을 작성하시오. 단, 방문할 수 있는 정점이 여러 개인 경우에는 정점 번호가 작은 것을 먼저 방문하고, 더 이상 방문할 수 있는 점이 없는 경우 종료한다. 정점 번호는 1번부터 N번까지이다.\n",
    "### 입력\n",
    "첫째 줄에 정점의 개수 N(1 ≤ N ≤ 1,000), 간선의 개수 M(1 ≤ M ≤ 10,000), 탐색을 시작할 정점의 번호 V가 주어진다. 다음 M개의 줄에는 간선이 연결하는 두 정점의 번호가 주어진다. 어떤 두 정점 사이에 여러 개의 간선이 있을 수 있다. 입력으로 주어지는 간선은 양방향이다.\n",
    "### 출력\n",
    "첫째 줄에 DFS를 수행한 결과를, 그 다음 줄에는 BFS를 수행한 결과를 출력한다. V부터 방문된 점을 순서대로 출력하면 된다."
   ]
  },
  {
   "cell_type": "markdown",
   "id": "61f9393f-c0c9-4659-80b4-c3750ecbab35",
   "metadata": {},
   "source": [
    "### 풀이방법 \n",
    "- DFS와 BFS를 알아야하는 문제이므로, DFS&BFS 알고리즘에 대해서 공부했다. \n",
    "- tmp 리스트를 만들어서, graph를 sort한 값을 저장하여 사용하였다. \n",
    "- 리스트의 원소를 하나씩 출력하고 싶을 때는 앞에 \"*\"를 붙여주면 된다. "
   ]
  },
  {
   "cell_type": "code",
   "execution_count": 120,
   "id": "567a269b-dfd4-4c94-8ad1-16ca62a64099",
   "metadata": {},
   "outputs": [
    {
     "name": "stdin",
     "output_type": "stream",
     "text": [
      " 4 5 1\n",
      " 1 2\n",
      " 1 3\n",
      " 1 4\n",
      " 2 4\n",
      " 3 4\n"
     ]
    }
   ],
   "source": [
    "N, M, V = map(int, input().split())\n",
    "graph = [[] for _ in range(N+1)]\n",
    "for _ in range(M):\n",
    "    a, b = map(int, input().split())\n",
    "    graph[a].append(b)\n",
    "    graph[b].append(a)\n",
    "    \n",
    "def dfs(graph, root, visited):\n",
    "    tmp = graph\n",
    "    visited.append(root)\n",
    "    tmp[root] = sorted(graph[root])\n",
    "    for i in tmp[root]:\n",
    "        if i not in visited:\n",
    "            dfs(graph, i, visited)\n",
    "    return visited \n",
    "\n",
    "from collections import deque\n",
    "queue = deque()\n",
    "def bfs(graph, root, visited):\n",
    "    tmp = graph \n",
    "    queue = deque([V])\n",
    "    visited = []\n",
    "    while queue:\n",
    "        n = queue.popleft()\n",
    "        if n not in visited:\n",
    "            visited.append(n)\n",
    "            tmp = sorted(graph[n])\n",
    "            queue += tmp\n",
    "    return visited"
   ]
  },
  {
   "cell_type": "code",
   "execution_count": 121,
   "id": "63815042-fb95-4708-85cd-c3dac46d55c7",
   "metadata": {},
   "outputs": [
    {
     "name": "stdout",
     "output_type": "stream",
     "text": [
      "1 2 4 3\n",
      "1 2 3 4\n"
     ]
    }
   ],
   "source": [
    "visited = []\n",
    "print(*dfs(graph, V, visited), sep=' ')\n",
    "print(*bfs(graph, V, visited), sep=' ')"
   ]
  }
 ],
 "metadata": {
  "kernelspec": {
   "display_name": "Python 3 (ipykernel)",
   "language": "python",
   "name": "python3"
  },
  "language_info": {
   "codemirror_mode": {
    "name": "ipython",
    "version": 3
   },
   "file_extension": ".py",
   "mimetype": "text/x-python",
   "name": "python",
   "nbconvert_exporter": "python",
   "pygments_lexer": "ipython3",
   "version": "3.9.12"
  }
 },
 "nbformat": 4,
 "nbformat_minor": 5
}
