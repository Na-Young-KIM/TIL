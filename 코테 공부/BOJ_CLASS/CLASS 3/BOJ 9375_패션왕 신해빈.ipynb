{
 "cells": [
  {
   "cell_type": "markdown",
   "id": "ef1ad4c9-302f-4cb8-a75e-27671ecae19b",
   "metadata": {},
   "source": [
    "## BOJ 9375 : 패션왕 신해빈\n",
    "### 문제\n",
    "해빈이는 패션에 매우 민감해서 한번 입었던 옷들의 조합을 절대 다시 입지 않는다. 예를 들어 오늘 해빈이가 안경, 코트, 상의, 신발을 입었다면, 다음날은 바지를 추가로 입거나 안경대신 렌즈를 착용하거나 해야한다. 해빈이가 가진 의상들이 주어졌을때 과연 해빈이는 알몸이 아닌 상태로 며칠동안 밖에 돌아다닐 수 있을까?\n",
    "### 입력\n",
    "첫째 줄에 테스트 케이스가 주어진다. 테스트 케이스는 최대 100이다.\n",
    "\n",
    "- 각 테스트 케이스의 첫째 줄에는 해빈이가 가진 의상의 수 n(0 ≤ n ≤ 30)이 주어진다.\n",
    "- 다음 n개에는 해빈이가 가진 의상의 이름과 의상의 종류가 공백으로 구분되어 주어진다. 같은 종류의 의상은 하나만 입을 수 있다.\n",
    "\n",
    "모든 문자열은 1이상 20이하의 알파벳 소문자로 이루어져있으며 같은 이름을 가진 의상은 존재하지 않는다.\n",
    "### 출력\n",
    "각 테스트 케이스에 대해 해빈이가 알몸이 아닌 상태로 의상을 입을 수 있는 경우를 출력하시오."
   ]
  },
  {
   "cell_type": "code",
   "execution_count": 1,
   "id": "572eaf3c-ed50-41d4-b98b-604af2bf4691",
   "metadata": {},
   "outputs": [
    {
     "name": "stdin",
     "output_type": "stream",
     "text": [
      " 2\n",
      " 3\n",
      " hat headgear\n",
      " sunglasses eyewear\n",
      " turban headgear\n"
     ]
    },
    {
     "name": "stdout",
     "output_type": "stream",
     "text": [
      "5\n"
     ]
    },
    {
     "name": "stdin",
     "output_type": "stream",
     "text": [
      " 3\n",
      " mask face\n",
      " sunglasses face\n",
      " makeup face\n"
     ]
    },
    {
     "name": "stdout",
     "output_type": "stream",
     "text": [
      "3\n"
     ]
    }
   ],
   "source": [
    "# import sys\n",
    "# input = sys.stdin.readline\n",
    "\n",
    "N = int(input())\n",
    "for n in range(N):\n",
    "    M = int(input())\n",
    "    t_dict = dict()\n",
    "    for m in range(M):\n",
    "        # value, key = input().rstrip().split()\n",
    "        value, key = input().split()\n",
    "        ## key값이 dictionary에 없으면 새로 만듦 \n",
    "        if key not in t_dict:\n",
    "            t_dict[key] = []\n",
    "        t_dict[key].append(value)\n",
    "\n",
    "    ans = 1\n",
    "    for k in t_dict.keys():\n",
    "        ans *= len(t_dict[k])+1\n",
    "    print(ans-1)"
   ]
  },
  {
   "cell_type": "code",
   "execution_count": 27,
   "id": "c6fecc0e-38e5-4e43-80f5-455532276bc5",
   "metadata": {},
   "outputs": [
    {
     "name": "stdin",
     "output_type": "stream",
     "text": [
      " hat headgear\n",
      " sunglasses eyewear\n",
      " turban headgear\n"
     ]
    }
   ],
   "source": []
  },
  {
   "cell_type": "code",
   "execution_count": 92,
   "id": "497a698a-f332-4609-ab78-58ae4929791e",
   "metadata": {},
   "outputs": [],
   "source": []
  },
  {
   "cell_type": "code",
   "execution_count": 93,
   "id": "ac9a0d25-cf43-4a5e-9fa2-2b19c5a29b77",
   "metadata": {},
   "outputs": [
    {
     "data": {
      "text/plain": [
       "6"
      ]
     },
     "execution_count": 93,
     "metadata": {},
     "output_type": "execute_result"
    }
   ],
   "source": [
    "ans"
   ]
  },
  {
   "cell_type": "code",
   "execution_count": null,
   "id": "f74d0816-931a-4bd3-8ab3-809536282b1a",
   "metadata": {},
   "outputs": [],
   "source": []
  }
 ],
 "metadata": {
  "kernelspec": {
   "display_name": "Python 3 (ipykernel)",
   "language": "python",
   "name": "python3"
  },
  "language_info": {
   "codemirror_mode": {
    "name": "ipython",
    "version": 3
   },
   "file_extension": ".py",
   "mimetype": "text/x-python",
   "name": "python",
   "nbconvert_exporter": "python",
   "pygments_lexer": "ipython3",
   "version": "3.9.12"
  }
 },
 "nbformat": 4,
 "nbformat_minor": 5
}
