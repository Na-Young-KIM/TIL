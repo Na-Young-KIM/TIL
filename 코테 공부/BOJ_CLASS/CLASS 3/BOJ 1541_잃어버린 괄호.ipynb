{
 "cells": [
  {
   "cell_type": "markdown",
   "id": "f51421be-9457-42f0-bace-23156c66b7bf",
   "metadata": {},
   "source": [
    "## BOJ 1541 : 잃어버린 괄호\n",
    "### 문제\n",
    " 세준이는 양수와 +, -, 그리고 괄호를 가지고 식을 만들었다. 그리고 나서 세준이는 괄호를 모두 지웠다.\n",
    "\n",
    "그리고 나서 세준이는 괄호를 적절히 쳐서 이 식의 값을 최소로 만들려고 한다.\n",
    "\n",
    "괄호를 적절히 쳐서 이 식의 값을 최소로 만드는 프로그램을 작성하시오.\n",
    "### 입력\n",
    "첫째 줄에 식이 주어진다. 식은 ‘0’~‘9’, ‘+’, 그리고 ‘-’만으로 이루어져 있고, 가장 처음과 마지막 문자는 숫자이다. 그리고 연속해서 두 개 이상의 연산자가 나타나지 않고, 5자리보다 많이 연속되는 숫자는 없다. 수는 0으로 시작할 수 있다. 입력으로 주어지는 식의 길이는 50보다 작거나 같다.\n",
    "### 출력\n",
    "첫째 줄에 정답을 출력한다."
   ]
  },
  {
   "cell_type": "markdown",
   "id": "9fe15c71-1307-467d-8d89-4329bb0e3dab",
   "metadata": {},
   "source": [
    "### 풀이방법 \n",
    "- 마이너스(-)를 기준으로 문자를 분리한 후, 값들을 다 더해준다"
   ]
  },
  {
   "cell_type": "code",
   "execution_count": 37,
   "id": "d44f3140-ef60-4cfe-a79e-bd9128e9e467",
   "metadata": {},
   "outputs": [
    {
     "name": "stdin",
     "output_type": "stream",
     "text": [
      " 0009-0009\n"
     ]
    },
    {
     "name": "stdout",
     "output_type": "stream",
     "text": [
      "0\n"
     ]
    }
   ],
   "source": [
    "a = input()\n",
    "b = a.split('-')\n",
    "ans = sum(map(int, b[0].split('+')))\n",
    "for i in range(1, len(b)):\n",
    "    ans -= sum(map(int, b[i].split('+')))\n",
    "\n",
    "print(ans)"
   ]
  }
 ],
 "metadata": {
  "kernelspec": {
   "display_name": "Python 3 (ipykernel)",
   "language": "python",
   "name": "python3"
  },
  "language_info": {
   "codemirror_mode": {
    "name": "ipython",
    "version": 3
   },
   "file_extension": ".py",
   "mimetype": "text/x-python",
   "name": "python",
   "nbconvert_exporter": "python",
   "pygments_lexer": "ipython3",
   "version": "3.9.12"
  }
 },
 "nbformat": 4,
 "nbformat_minor": 5
}
