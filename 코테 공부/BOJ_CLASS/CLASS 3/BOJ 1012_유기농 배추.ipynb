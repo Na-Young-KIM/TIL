{
 "cells": [
  {
   "attachments": {
    "f6ff38b4-55ae-4a92-8992-f4fc617687ee.png": {
     "image/png": "[encoded data removed]"
    }
   },
   "cell_type": "markdown",
   "id": "5ede0148-e45d-40cf-82a2-134b83b5987b",
   "metadata": {},
   "source": [
    "## BOJ 1012 : 유기농 배추\n",
    "### 문제\n",
    " 차세대 영농인 한나는 강원도 고랭지에서 유기농 배추를 재배하기로 하였다. 농약을 쓰지 않고 배추를 재배하려면 배추를 해충으로부터 보호하는 것이 중요하기 때문에, 한나는 해충 방지에 효과적인 배추흰지렁이를 구입하기로 결심한다. 이 지렁이는 배추근처에 서식하며 해충을 잡아 먹음으로써 배추를 보호한다. 특히, 어떤 배추에 배추흰지렁이가 한 마리라도 살고 있으면 이 지렁이는 인접한 다른 배추로 이동할 수 있어, 그 배추들 역시 해충으로부터 보호받을 수 있다. 한 배추의 상하좌우 네 방향에 다른 배추가 위치한 경우에 서로 인접해있는 것이다.\n",
    "\n",
    "한나가 배추를 재배하는 땅은 고르지 못해서 배추를 군데군데 심어 놓았다. 배추들이 모여있는 곳에는 배추흰지렁이가 한 마리만 있으면 되므로 서로 인접해있는 배추들이 몇 군데에 퍼져있는지 조사하면 총 몇 마리의 지렁이가 필요한지 알 수 있다. 예를 들어 배추밭이 아래와 같이 구성되어 있으면 최소 5마리의 배추흰지렁이가 필요하다. 0은 배추가 심어져 있지 않은 땅이고, 1은 배추가 심어져 있는 땅을 나타낸다.\n",
    "\n",
    "![image.png](attachment:f6ff38b4-55ae-4a92-8992-f4fc617687ee.png)\n",
    "\n",
    "### 입력\n",
    "입력의 첫 줄에는 테스트 케이스의 개수 T가 주어진다. 그 다음 줄부터 각각의 테스트 케이스에 대해 첫째 줄에는 배추를 심은 배추밭의 가로길이 M(1 ≤ M ≤ 50)과 세로길이 N(1 ≤ N ≤ 50), 그리고 배추가 심어져 있는 위치의 개수 K(1 ≤ K ≤ 2500)이 주어진다. 그 다음 K줄에는 배추의 위치 X(0 ≤ X ≤ M-1), Y(0 ≤ Y ≤ N-1)가 주어진다. 두 배추의 위치가 같은 경우는 없다.\n",
    "\n",
    "### 출력\n",
    "각 테스트 케이스에 대해 필요한 최소의 배추흰지렁이 마리 수를 출력한다."
   ]
  },
  {
   "cell_type": "markdown",
   "id": "512b767c-3f2c-4fe7-8e6e-cf53010ee701",
   "metadata": {
    "tags": []
   },
   "source": [
    "### 풀이방법\n",
    "- 런타임에러 해결 방법\n",
    "    - sys.stdin.readline 사용\n",
    "    - sys.setrecursionlimit(10000) 사용"
   ]
  },
  {
   "cell_type": "code",
   "execution_count": 1,
   "id": "32c2d57e-aa12-428b-8235-10652bc7aa3d",
   "metadata": {},
   "outputs": [
    {
     "name": "stdin",
     "output_type": "stream",
     "text": [
      " 1\n",
      " 5 3 6\n",
      " 0 2\n",
      " 1 2\n",
      " 2 2\n",
      " 3 2\n",
      " 4 2\n",
      " 4 0\n"
     ]
    },
    {
     "name": "stdout",
     "output_type": "stream",
     "text": [
      "2\n"
     ]
    }
   ],
   "source": [
    "## dfs 함수 만들기 \n",
    "def dfs(graph, x, y):\n",
    "    # cnt의 값이 재귀를 시도한 수\n",
    "    cnt = 0\n",
    "    if (x>=0) & (y>=0) & (x<=M-1) & (y<=N-1):\n",
    "        # graph의 좌표가 1이면 좌표를 0으로 바꾸고, cnt+=1 하고, 상하좌우로 dfs 시도\n",
    "        if graph[x][y] == 1:\n",
    "            graph[x][y] = 0 \n",
    "            cnt += 1\n",
    "            dfs(graph, x+1, y) # 우\n",
    "            dfs(graph, x-1, y) # 좌\n",
    "            dfs(graph, x, y+1) # 상\n",
    "            dfs(graph, x, y-1) # 하\n",
    "    return cnt\n",
    "\n",
    "\n",
    "import sys\n",
    "input = sys.stdin.readline\n",
    "sys.setrecursionlimit(10000)\n",
    "\n",
    "## 입력받기 \n",
    "T = int(input())\n",
    "for _ in range(T):\n",
    "    M, N, K = map(int, input().rstrip().split())\n",
    "    graph = [[0]*N for _ in range(M)]\n",
    "    for _ in range(K):\n",
    "        a, b = map(int, input().rstrip().split())\n",
    "        graph[a][b] = 1\n",
    "   \n",
    "    ## 출력하기 \n",
    "    ans = 0 \n",
    "    for x in range(M):\n",
    "        for y in range(N):\n",
    "            ans += dfs(graph, x, y)\n",
    "    print(ans)"
   ]
  }
 ],
 "metadata": {
  "kernelspec": {
   "display_name": "Python 3 (ipykernel)",
   "language": "python",
   "name": "python3"
  },
  "language_info": {
   "codemirror_mode": {
    "name": "ipython",
    "version": 3
   },
   "file_extension": ".py",
   "mimetype": "text/x-python",
   "name": "python",
   "nbconvert_exporter": "python",
   "pygments_lexer": "ipython3",
   "version": "3.9.12"
  }
 },
 "nbformat": 4,
 "nbformat_minor": 5
}
