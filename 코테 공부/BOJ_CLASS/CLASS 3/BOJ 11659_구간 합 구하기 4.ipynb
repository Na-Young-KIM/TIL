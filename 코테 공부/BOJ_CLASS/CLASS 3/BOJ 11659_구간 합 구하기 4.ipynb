{
 "cells": [
  {
   "cell_type": "markdown",
   "id": "37965ab2-34cf-4a94-9a21-0bbc9d76f202",
   "metadata": {},
   "source": [
    "## BOJ 11659 : 구간 합 구하기 4\n",
    "### 문제\n",
    "수 N개가 주어졌을 때, i번째 수부터 j번째 수까지 합을 구하는 프로그램을 작성하시오.\n",
    "### 입력\n",
    "첫째 줄에 수의 개수 N과 합을 구해야 하는 횟수 M이 주어진다. 둘째 줄에는 N개의 수가 주어진다. 수는 1,000보다 작거나 같은 자연수이다. 셋째 줄부터 M개의 줄에는 합을 구해야 하는 구간 i와 j가 주어진다.\n",
    "### 출력\n",
    "총 M개의 줄에 입력으로 주어진 i번째 수부터 j번째 수까지 합을 출력한다."
   ]
  },
  {
   "cell_type": "markdown",
   "id": "58e15082-fddd-40da-a347-c5116885820a",
   "metadata": {},
   "source": [
    "### 풀이방법\n",
    "- 처음에는 list에 i, j 값을 입력받아서 더하는 식으로 값을 출력했는데, 그러면 시간초과가 나온다.\n",
    "- DP 형식으로 문제를 풀어도 시간초과가 됐고, input=sys.stdin.readline & pypy3로 제출 두가지 모두 해주어야 시간초과가 되지 않는다."
   ]
  },
  {
   "cell_type": "code",
   "execution_count": 6,
   "id": "d44e4e61-03d2-4372-a39e-6eb1540e30a8",
   "metadata": {},
   "outputs": [
    {
     "name": "stdin",
     "output_type": "stream",
     "text": [
      " 5 3\n",
      " 5 4 3 2 1\n",
      " 1 3\n"
     ]
    },
    {
     "name": "stdout",
     "output_type": "stream",
     "text": [
      "12\n"
     ]
    },
    {
     "name": "stdin",
     "output_type": "stream",
     "text": [
      " 2 4\n"
     ]
    },
    {
     "name": "stdout",
     "output_type": "stream",
     "text": [
      "9\n"
     ]
    },
    {
     "name": "stdin",
     "output_type": "stream",
     "text": [
      " 5 5\n"
     ]
    },
    {
     "name": "stdout",
     "output_type": "stream",
     "text": [
      "1\n"
     ]
    }
   ],
   "source": [
    "import sys\n",
    "input = sys.stdin.readline \n",
    "N, M = map(int, input().rstrip().split())\n",
    "n_list = list(map(int, input().rstrip().split()))\n",
    "\n",
    "dp = [0 for _ in range(100001)]\n",
    "dp[0], dp[1] = 0, n_list[0]\n",
    "for n in range(N+1):\n",
    "    dp[n] = dp[n-1] + n_list[n-1]\n",
    "\n",
    "for _ in range(M):\n",
    "    i, j = map(int, input().rstrip().split())\n",
    "    print(dp[j]-dp[i-1])"
   ]
  },
  {
   "cell_type": "code",
   "execution_count": 8,
   "id": "da38310c-c25d-4d38-bd48-d1625ce0c3d2",
   "metadata": {},
   "outputs": [
    {
     "data": {
      "text/plain": [
       "1"
      ]
     },
     "execution_count": 8,
     "metadata": {},
     "output_type": "execute_result"
    }
   ],
   "source": [
    "dp[j]-dp[i]+n_list[j-1]"
   ]
  },
  {
   "cell_type": "code",
   "execution_count": 7,
   "id": "eafdb415-2a03-4894-9af7-ee3703218072",
   "metadata": {},
   "outputs": [],
   "source": []
  },
  {
   "cell_type": "code",
   "execution_count": 8,
   "id": "e74eca91-42dc-400c-9797-e384f5ebe895",
   "metadata": {},
   "outputs": [
    {
     "data": {
      "text/plain": [
       "12"
      ]
     },
     "execution_count": 8,
     "metadata": {},
     "output_type": "execute_result"
    }
   ],
   "source": [
    "ans"
   ]
  },
  {
   "cell_type": "code",
   "execution_count": null,
   "id": "dfcc8012-5060-49b5-8495-f027910485c3",
   "metadata": {},
   "outputs": [],
   "source": []
  }
 ],
 "metadata": {
  "kernelspec": {
   "display_name": "Python 3 (ipykernel)",
   "language": "python",
   "name": "python3"
  },
  "language_info": {
   "codemirror_mode": {
    "name": "ipython",
    "version": 3
   },
   "file_extension": ".py",
   "mimetype": "text/x-python",
   "name": "python",
   "nbconvert_exporter": "python",
   "pygments_lexer": "ipython3",
   "version": "3.9.12"
  }
 },
 "nbformat": 4,
 "nbformat_minor": 5
}
