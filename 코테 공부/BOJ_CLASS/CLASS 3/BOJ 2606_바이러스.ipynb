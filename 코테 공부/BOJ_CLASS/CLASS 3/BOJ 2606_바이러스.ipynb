{
 "cells": [
  {
   "attachments": {
    "63d2dde9-ae47-4bad-82a4-ea1bb863c8f9.png": {
     "image/png": "[encoded data removed]"
    }
   },
   "cell_type": "markdown",
   "id": "9e4a18e6-c27d-46b5-acbb-4f973676685a",
   "metadata": {},
   "source": [
    "## BOJ 2606 : 바이러스\n",
    "### 문제\n",
    "신종 바이러스인 웜 바이러스는 네트워크를 통해 전파된다. 한 컴퓨터가 웜 바이러스에 걸리면 그 컴퓨터와 네트워크 상에서 연결되어 있는 모든 컴퓨터는 웜 바이러스에 걸리게 된다.\n",
    "\n",
    "예를 들어 7대의 컴퓨터가 <그림 1>과 같이 네트워크 상에서 연결되어 있다고 하자. 1번 컴퓨터가 웜 바이러스에 걸리면 웜 바이러스는 2번과 5번 컴퓨터를 거쳐 3번과 6번 컴퓨터까지 전파되어 2, 3, 5, 6 네 대의 컴퓨터는 웜 바이러스에 걸리게 된다. 하지만 4번과 7번 컴퓨터는 1번 컴퓨터와 네트워크상에서 연결되어 있지 않기 때문에 영향을 받지 않는다.\n",
    "\n",
    "![image.png](attachment:63d2dde9-ae47-4bad-82a4-ea1bb863c8f9.png)\n",
    "\n",
    "어느 날 1번 컴퓨터가 웜 바이러스에 걸렸다. 컴퓨터의 수와 네트워크 상에서 서로 연결되어 있는 정보가 주어질 때, 1번 컴퓨터를 통해 웜 바이러스에 걸리게 되는 컴퓨터의 수를 출력하는 프로그램을 작성하시오.\n",
    "\n",
    "### 입력\n",
    "첫째 줄에는 컴퓨터의 수가 주어진다. 컴퓨터의 수는 100 이하이고 각 컴퓨터에는 1번 부터 차례대로 번호가 매겨진다. 둘째 줄에는 네트워크 상에서 직접 연결되어 있는 컴퓨터 쌍의 수가 주어진다. 이어서 그 수만큼 한 줄에 한 쌍씩 네트워크 상에서 직접 연결되어 있는 컴퓨터의 번호 쌍이 주어진다.\n",
    "\n",
    "### 출력\n",
    "1번 컴퓨터가 웜 바이러스에 걸렸을 때, 1번 컴퓨터를 통해 웜 바이러스에 걸리게 되는 컴퓨터의 수를 첫째 줄에 출력한다."
   ]
  },
  {
   "cell_type": "markdown",
   "id": "b0de4641-8c70-4c57-9328-29b624d02d00",
   "metadata": {},
   "source": [
    "### 풀이방법\n",
    "- dfs 방법을 활용하여 문제 풀이\n",
    "- 마지막 출력할때 N==1일때를 고려하지 않아도 정답처리 됨 "
   ]
  },
  {
   "cell_type": "code",
   "execution_count": 63,
   "id": "977f3b2b-b7ef-4aa1-9555-8e455d3535c9",
   "metadata": {},
   "outputs": [
    {
     "name": "stdin",
     "output_type": "stream",
     "text": [
      " 1\n",
      " 1\n",
      " 1 1\n"
     ]
    },
    {
     "name": "stdout",
     "output_type": "stream",
     "text": [
      "0\n"
     ]
    }
   ],
   "source": [
    "# import sys\n",
    "# input = sys.stdin.readline\n",
    "## 입력받기\n",
    "N = int(input())\n",
    "M = int(input())\n",
    "\n",
    "## graph로 입력받기\n",
    "graph = [[] for _ in range(N+1)]    # N+1만큼의 정점을 생성하여 graph[N]이 N번째 정점을 의미하도록 한다. \n",
    "for _ in range(M):\n",
    "    x, y = map(int, input().split())\n",
    "    # x, y가 서로를 가지도록 graph 생성 \n",
    "    graph[x].append(y)    # x정점에 y를 넣어주고\n",
    "    graph[y].append(x)    # y정점에 x를 넣어준다. \n",
    "\n",
    "## dfs 함수 만들기 \n",
    "def dfs(v, visited=[]):\n",
    "    visited.append(v)\n",
    "    for i in graph[v]:\n",
    "        if not i in visited:\n",
    "            visited = dfs(i, visited)\n",
    "    return visited\n",
    "\n",
    "if N==1:\n",
    "    print(1)\n",
    "else:\n",
    "    print(len(dfs(1))-1)"
   ]
  }
 ],
 "metadata": {
  "kernelspec": {
   "display_name": "Python 3 (ipykernel)",
   "language": "python",
   "name": "python3"
  },
  "language_info": {
   "codemirror_mode": {
    "name": "ipython",
    "version": 3
   },
   "file_extension": ".py",
   "mimetype": "text/x-python",
   "name": "python",
   "nbconvert_exporter": "python",
   "pygments_lexer": "ipython3",
   "version": "3.9.12"
  }
 },
 "nbformat": 4,
 "nbformat_minor": 5
}
