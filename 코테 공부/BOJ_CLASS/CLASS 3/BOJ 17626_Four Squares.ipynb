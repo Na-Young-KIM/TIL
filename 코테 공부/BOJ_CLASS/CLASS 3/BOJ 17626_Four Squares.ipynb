{
 "cells": [
  {
   "cell_type": "markdown",
   "id": "352db429-2b0c-4961-af99-d7237b1407e0",
   "metadata": {},
   "source": [
    "## BOJ 17626 : Four Squares\n",
    "### 문제\n",
    "라그랑주는 1770년에 모든 자연수는 넷 혹은 그 이하의 제곱수의 합으로 표현할 수 있다고 증명하였다. 어떤 자연수는 복수의 방법으로 표현된다. 예를 들면, 26은 5^2과 1^2의 합이다; 또한 4^2 + 3^2 + 1^2으로 표현할 수도 있다. 역사적으로 암산의 명수들에게 공통적으로 주어지는 문제가 바로 자연수를 넷 혹은 그 이하의 제곱수 합으로 나타내라는 것이었다. 1900년대 초반에 한 암산가가 15663 = 125^2 + 6^2 + 1^2 + 1^2라는 해를 구하는데 8초가 걸렸다는 보고가 있다. 좀 더 어려운 문제에 대해서는 56초가 걸렸다: 11339 = 105^2 + 15^2 + 8^2 + 5^2.\n",
    "\n",
    "자연수 n이 주어질 때, n을 최소 개수의 제곱수 합으로 표현하는 컴퓨터 프로그램을 작성하시오.\n",
    "### 입력\n",
    "입력은 표준입력을 사용한다. 입력은 자연수 n을 포함하는 한 줄로 구성된다. 여기서, 1 ≤ n ≤ 50,000이다.\n",
    "### 출력\n",
    "출력은 표준출력을 사용한다. 합이 n과 같게 되는 제곱수들의 최소 개수를 한 줄에 출력한다."
   ]
  },
  {
   "cell_type": "markdown",
   "id": "58fa32ca-d260-47a6-80a0-517e05eb3ace",
   "metadata": {},
   "source": [
    "### 풀이방법 \n",
    "- dp방법으로 풀이 \n",
    "- pypy3로 제출해야 시간초과가 되지 않음. "
   ]
  },
  {
   "cell_type": "code",
   "execution_count": null,
   "id": "533c0d9a-54a2-43c9-b485-c5e8c7269c43",
   "metadata": {},
   "outputs": [],
   "source": [
    "import sys\n",
    "input = sys.stdin.readline\n",
    "\n",
    "dp = [0 for _ in range(50001)]\n",
    "dp[1] = 1\n",
    "n = int(input())\n",
    "for i in range(2, n+1):\n",
    "    j = 1\n",
    "    res = [] \n",
    "    while j*j<=i:\n",
    "        res.append(dp[i-j*j] +1)\n",
    "        j += 1\n",
    "    dp[i] = min(res)\n",
    "print(dp[n])"
   ]
  }
 ],
 "metadata": {
  "kernelspec": {
   "display_name": "Python 3 (ipykernel)",
   "language": "python",
   "name": "python3"
  },
  "language_info": {
   "codemirror_mode": {
    "name": "ipython",
    "version": 3
   },
   "file_extension": ".py",
   "mimetype": "text/x-python",
   "name": "python",
   "nbconvert_exporter": "python",
   "pygments_lexer": "ipython3",
   "version": "3.9.12"
  }
 },
 "nbformat": 4,
 "nbformat_minor": 5
}
