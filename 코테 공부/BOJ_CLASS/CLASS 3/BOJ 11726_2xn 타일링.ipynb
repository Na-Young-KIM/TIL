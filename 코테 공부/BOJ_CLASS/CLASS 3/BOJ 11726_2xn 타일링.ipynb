{
 "cells": [
  {
   "cell_type": "markdown",
   "id": "554890fe-9613-4db5-85ec-aa7dc7aff38a",
   "metadata": {},
   "source": [
    "## BOJ 11726 : 2×n 타일링\n",
    "### 문제\n",
    "2×n 크기의 직사각형을 1×2, 2×1 타일로 채우는 방법의 수를 구하는 프로그램을 작성하시오.\n",
    "\n",
    "아래 그림은 2×5 크기의 직사각형을 채운 한 가지 방법의 예이다.\n",
    "### 입력\n",
    "첫째 줄에 n이 주어진다. (1 ≤ n ≤ 1,000)\n",
    "### 출력\n",
    "첫째 줄에 2×n 크기의 직사각형을 채우는 방법의 수를 10,007로 나눈 나머지를 출력한다."
   ]
  },
  {
   "cell_type": "code",
   "execution_count": 13,
   "id": "93d74aab-959e-44d4-811b-00b4ed278346",
   "metadata": {},
   "outputs": [
    {
     "name": "stdin",
     "output_type": "stream",
     "text": [
      " 21\n"
     ]
    },
    {
     "name": "stdout",
     "output_type": "stream",
     "text": [
      "7704\n"
     ]
    }
   ],
   "source": [
    "# import sys\n",
    "# input = sys.stdin.readline \n",
    "\n",
    "N = int(input())\n",
    "\n",
    "dp = [0 for _ in range(1001)]\n",
    "dp[0], dp[1], dp[2] = 0, 1, 2\n",
    "for n in range(3, N+1):\n",
    "    dp[n] = dp[n-1] + dp[n-2]\n",
    "    \n",
    "print(dp[N]%10007)"
   ]
  }
 ],
 "metadata": {
  "kernelspec": {
   "display_name": "Python 3 (ipykernel)",
   "language": "python",
   "name": "python3"
  },
  "language_info": {
   "codemirror_mode": {
    "name": "ipython",
    "version": 3
   },
   "file_extension": ".py",
   "mimetype": "text/x-python",
   "name": "python",
   "nbconvert_exporter": "python",
   "pygments_lexer": "ipython3",
   "version": "3.9.12"
  }
 },
 "nbformat": 4,
 "nbformat_minor": 5
}
