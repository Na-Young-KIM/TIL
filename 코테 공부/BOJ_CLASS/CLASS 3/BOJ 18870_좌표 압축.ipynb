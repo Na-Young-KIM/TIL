{
 "cells": [
  {
   "cell_type": "markdown",
   "id": "4c867916-8d96-4464-9149-984dd166de0e",
   "metadata": {},
   "source": [
    "## BOJ 18870 : 좌표 압축\n",
    "### 문제\n",
    "수직선 위에 N개의 좌표 X1, X2, ..., XN이 있다. 이 좌표에 좌표 압축을 적용하려고 한다.\n",
    "\n",
    "Xi를 좌표 압축한 결과 X'i의 값은 Xi > Xj를 만족하는 서로 다른 좌표 Xj의 개수와 같아야 한다.\n",
    "\n",
    "X1, X2, ..., XN에 좌표 압축을 적용한 결과 X'1, X'2, ..., X'N를 출력해보자.\n",
    "### 입력\n",
    "첫째 줄에 N이 주어진다.\n",
    "\n",
    "둘째 줄에는 공백 한 칸으로 구분된 X1, X2, ..., XN이 주어진다.\n",
    "### 출력\n",
    "첫째 줄에 X'1, X'2, ..., X'N을 공백 한 칸으로 구분해서 출력한다."
   ]
  },
  {
   "cell_type": "code",
   "execution_count": 35,
   "id": "9350aa72-7026-4945-9614-f9243c7fb80e",
   "metadata": {},
   "outputs": [
    {
     "name": "stdin",
     "output_type": "stream",
     "text": [
      " 6\n",
      " 1000 999 1000 999 1000 999\n"
     ]
    }
   ],
   "source": [
    "## 입력받기\n",
    "N = int(input())\n",
    "n_list = list(map(int, input().split()))\n",
    "\n",
    "## 알고리즘 계산\n",
    "# 입력받은 리스트의 중복값을 제거하고, 순서대로 나열한다\n",
    "n_list2 = sorted(list(set(n_list)))\n",
    "# 생성한 리스트에 인덱스값을 빠르게 할 수 있는 방법 => 딕셔너리 생성 \n",
    "n_dic = {n_list2[i]: i for i in range(len(n_list2))}\n",
    "\n",
    "## 출력하기 \n",
    "for i in n_list:\n",
    "    print(n_dic[i], end=' ')"
   ]
  }
 ],
 "metadata": {
  "kernelspec": {
   "display_name": "Python 3 (ipykernel)",
   "language": "python",
   "name": "python3"
  },
  "language_info": {
   "codemirror_mode": {
    "name": "ipython",
    "version": 3
   },
   "file_extension": ".py",
   "mimetype": "text/x-python",
   "name": "python",
   "nbconvert_exporter": "python",
   "pygments_lexer": "ipython3",
   "version": "3.9.12"
  }
 },
 "nbformat": 4,
 "nbformat_minor": 5
}
