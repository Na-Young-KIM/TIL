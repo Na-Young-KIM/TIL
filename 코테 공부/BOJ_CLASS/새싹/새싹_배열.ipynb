{
 "cells": [
  {
   "cell_type": "markdown",
   "id": "30cbb3f5-1835-4cc4-a785-9beb81f26c71",
   "metadata": {},
   "source": [
    "## BOJ 10871 : X보다 작은 수 \n",
    "정수 N개로 이루어진 수열 A와 정수 X가 주어진다. 이때, A에서 X보다 작은 수를 모두 출력하는 프로그램을 작성하시오."
   ]
  },
  {
   "cell_type": "code",
   "execution_count": 12,
   "id": "487dd2d7-6513-478d-a839-fdd68627c3dc",
   "metadata": {},
   "outputs": [
    {
     "name": "stdin",
     "output_type": "stream",
     "text": [
      " 10 5\n",
      " 1 10 4 9 2 3 8 5 7 6\n"
     ]
    },
    {
     "name": "stdout",
     "output_type": "stream",
     "text": [
      "1 4 2 3 "
     ]
    }
   ],
   "source": [
    "import sys\n",
    "# input = sys.stdin.readline\n",
    "\n",
    "n, x = map(int, input().split())\n",
    "n = list(map(int, input().split()))\n",
    "\n",
    "for i in n:\n",
    "    if i<x:\n",
    "        print(i, end=' ')"
   ]
  },
  {
   "cell_type": "markdown",
   "id": "8f18977a-a720-4e6e-9e3b-a92aab629116",
   "metadata": {},
   "source": [
    "## BOJ 10807 : 개수 세기\n",
    "총 N개의 정수가 주어졌을 때, 정수 v가 몇 개인지 구하는 프로그램을 작성하시오."
   ]
  },
  {
   "cell_type": "code",
   "execution_count": 15,
   "id": "d23ff152-3f80-4f2a-8beb-7f9c2559904e",
   "metadata": {},
   "outputs": [
    {
     "name": "stdin",
     "output_type": "stream",
     "text": [
      " 11\n",
      " 1 4 1 2 4 2 4 2 3 4 4\n",
      " 2\n"
     ]
    },
    {
     "name": "stdout",
     "output_type": "stream",
     "text": [
      "3\n"
     ]
    }
   ],
   "source": [
    "n = int(input())\n",
    "a = list(map(int, input().split()))\n",
    "v = int(input())\n",
    "\n",
    "s = 0\n",
    "for i in a:\n",
    "    if i==v:\n",
    "        s += 1\n",
    "print(s)"
   ]
  },
  {
   "cell_type": "markdown",
   "id": "559f413e-ea9a-4176-ab6a-917f3ccd4e17",
   "metadata": {},
   "source": [
    "## BOJ 5597 : 과제 안 내신 분..?\n",
    "X대학 M교수님은 프로그래밍 수업을 맡고 있다. 교실엔 학생이 30명이 있는데, 학생 명부엔 각 학생별로 1번부터 30번까지 출석번호가 붙어 있다.  \n",
    "교수님이 내준 특별과제를 28명이 제출했는데, 그 중에서 제출 안 한 학생 2명의 출석번호를 구하는 프로그램을 작성하시오."
   ]
  },
  {
   "cell_type": "code",
   "execution_count": 19,
   "id": "e0937221-502d-4f43-98f2-7baa79589807",
   "metadata": {},
   "outputs": [
    {
     "name": "stdin",
     "output_type": "stream",
     "text": [
      " 3\n",
      " 1\n",
      " 4\n",
      " 5\n",
      " 7\n",
      " 9\n",
      " 6\n",
      " 10\n",
      " 11\n",
      " 12\n",
      " 13\n",
      " 14\n",
      " 15\n",
      " 16\n",
      " 17\n",
      " 18\n",
      " 19\n",
      " 20\n",
      " 21\n",
      " 22\n",
      " 23\n",
      " 24\n",
      " 25\n",
      " 26\n",
      " 27\n",
      " 28\n",
      " 29\n",
      " 30\n"
     ]
    }
   ],
   "source": [
    "n = []\n",
    "for i in range(28):\n",
    "    n.append(int(input()))\n",
    "\n",
    "for i in range(30):\n",
    "    if (i+1) not in n:\n",
    "        print(i+1)"
   ]
  },
  {
   "cell_type": "markdown",
   "id": "7cd71c18-d89a-4a45-9133-87790aecedbe",
   "metadata": {},
   "source": [
    "## BOJ 2738 : 행렬 덧셈\n",
    "N*M크기의 두 행렬 A와 B가 주어졌을 때, 두 행렬을 더하는 프로그램을 작성하시오"
   ]
  },
  {
   "cell_type": "code",
   "execution_count": 45,
   "id": "113febae-205b-457f-be88-c5e7b7674840",
   "metadata": {},
   "outputs": [
    {
     "name": "stdin",
     "output_type": "stream",
     "text": [
      " 3 3\n",
      " 1 1 1\n",
      " 2 2 2\n",
      " 0 1 0\n",
      " 3 3 3\n",
      " 4 4 4\n",
      " 5 5 100\n"
     ]
    },
    {
     "name": "stdout",
     "output_type": "stream",
     "text": [
      "4 4 4 \n",
      "6 6 6 \n",
      "5 6 100 \n"
     ]
    }
   ],
   "source": [
    "import sys\n",
    "# input = sys.stdin.readline\n",
    "\n",
    "n, m = map(int, input().split())\n",
    "a, b = [0]*n, [0]*n\n",
    "# 행렬 입력받기 \n",
    "for i in range(n):\n",
    "    a[i] = list(map(int, input().split()))\n",
    "for i in range(n):\n",
    "    b[i] = list(map(int, input().split()))\n",
    "    \n",
    "# 결과값 출력\n",
    "for i in range(n):\n",
    "    for j in range(m):\n",
    "        print(a[i][j]+b[i][j], end=' ')\n",
    "    print()"
   ]
  }
 ],
 "metadata": {
  "kernelspec": {
   "display_name": "Python 3 (ipykernel)",
   "language": "python",
   "name": "python3"
  },
  "language_info": {
   "codemirror_mode": {
    "name": "ipython",
    "version": 3
   },
   "file_extension": ".py",
   "mimetype": "text/x-python",
   "name": "python",
   "nbconvert_exporter": "python",
   "pygments_lexer": "ipython3",
   "version": "3.9.12"
  }
 },
 "nbformat": 4,
 "nbformat_minor": 5
}
