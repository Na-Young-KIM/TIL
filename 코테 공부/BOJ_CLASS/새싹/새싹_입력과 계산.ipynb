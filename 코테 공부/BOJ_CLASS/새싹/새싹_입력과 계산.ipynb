{
 "cells": [
  {
   "cell_type": "markdown",
   "id": "6eedae98-1f02-4db2-ab92-f581a6cf1358",
   "metadata": {},
   "source": [
    "## BOJ 1000 : A+B"
   ]
  },
  {
   "cell_type": "code",
   "execution_count": 2,
   "id": "93903b8b-fd34-402e-aa84-d0551f06abff",
   "metadata": {},
   "outputs": [
    {
     "name": "stdin",
     "output_type": "stream",
     "text": [
      " 1 2\n"
     ]
    },
    {
     "name": "stdout",
     "output_type": "stream",
     "text": [
      "3\n"
     ]
    }
   ],
   "source": [
    "a, b = map(int, input().split())\n",
    "print(a+b)"
   ]
  },
  {
   "cell_type": "markdown",
   "id": "8f663f6b-5567-4131-b792-e82dffb18b09",
   "metadata": {
    "tags": []
   },
   "source": [
    "## BOJ 1001 : A-B"
   ]
  },
  {
   "cell_type": "code",
   "execution_count": 3,
   "id": "098ec3ab-db9a-4e2a-acc3-042ae7247112",
   "metadata": {},
   "outputs": [
    {
     "name": "stdin",
     "output_type": "stream",
     "text": [
      " 3 2\n"
     ]
    },
    {
     "name": "stdout",
     "output_type": "stream",
     "text": [
      "1\n"
     ]
    }
   ],
   "source": [
    "a, b = map(int, input().split())\n",
    "print(a-b)"
   ]
  },
  {
   "cell_type": "markdown",
   "id": "db1b5c02-c12d-4049-ac84-4ca7ef689108",
   "metadata": {},
   "source": [
    "## BOJ 10998 : AxB"
   ]
  },
  {
   "cell_type": "code",
   "execution_count": 4,
   "id": "c151ce0d-1a91-46e3-aaa0-a366eafa7bb8",
   "metadata": {},
   "outputs": [
    {
     "name": "stdin",
     "output_type": "stream",
     "text": [
      " 1 2\n"
     ]
    },
    {
     "name": "stdout",
     "output_type": "stream",
     "text": [
      "2\n"
     ]
    }
   ],
   "source": [
    "a, b = map(int, input().split())\n",
    "print(a*b)"
   ]
  },
  {
   "cell_type": "markdown",
   "id": "0f14d8e9-495d-4256-b56e-c0cca94662f2",
   "metadata": {},
   "source": [
    "## BOJ 10869 : 사칙연산"
   ]
  },
  {
   "cell_type": "code",
   "execution_count": 6,
   "id": "f98936fa-0c09-4d6d-944c-4c910d4036e8",
   "metadata": {},
   "outputs": [
    {
     "name": "stdin",
     "output_type": "stream",
     "text": [
      " 7 3\n"
     ]
    },
    {
     "name": "stdout",
     "output_type": "stream",
     "text": [
      "10\n",
      "4\n",
      "21\n",
      "2\n",
      "1\n"
     ]
    }
   ],
   "source": [
    "a, b = map(int, input().split())\n",
    "\n",
    "print(a+b)\n",
    "print(a-b)\n",
    "print(a*b)\n",
    "print(a//b)\n",
    "print(a%b)"
   ]
  },
  {
   "cell_type": "markdown",
   "id": "ef23a558-de03-4e66-99e1-fd92d45075bd",
   "metadata": {},
   "source": [
    "## BOJ 1008 : A/B"
   ]
  },
  {
   "cell_type": "code",
   "execution_count": 7,
   "id": "3d9b7aea-9fa5-48de-94e1-bed7eff03509",
   "metadata": {},
   "outputs": [
    {
     "name": "stdin",
     "output_type": "stream",
     "text": [
      " 1 3\n"
     ]
    },
    {
     "name": "stdout",
     "output_type": "stream",
     "text": [
      "0.3333333333333333\n"
     ]
    }
   ],
   "source": [
    "a, b = map(int, input().split())\n",
    "print(a/b)"
   ]
  },
  {
   "cell_type": "markdown",
   "id": "ae5bb37b-b551-4938-a741-e5df3cc9e669",
   "metadata": {},
   "source": [
    "## BOJ 11382 : 꼬마 정민"
   ]
  },
  {
   "cell_type": "code",
   "execution_count": 9,
   "id": "4f5e5a96-b81c-43bf-a10d-48863e27b0f6",
   "metadata": {},
   "outputs": [
    {
     "name": "stdin",
     "output_type": "stream",
     "text": [
      " 77 77 7777\n"
     ]
    },
    {
     "name": "stdout",
     "output_type": "stream",
     "text": [
      "7931\n"
     ]
    }
   ],
   "source": [
    "a, b, c = map(int, input().split())\n",
    "result = a + b + c\n",
    "print(result)"
   ]
  }
 ],
 "metadata": {
  "kernelspec": {
   "display_name": "Python 3 (ipykernel)",
   "language": "python",
   "name": "python3"
  },
  "language_info": {
   "codemirror_mode": {
    "name": "ipython",
    "version": 3
   },
   "file_extension": ".py",
   "mimetype": "text/x-python",
   "name": "python",
   "nbconvert_exporter": "python",
   "pygments_lexer": "ipython3",
   "version": "3.9.12"
  }
 },
 "nbformat": 4,
 "nbformat_minor": 5
}
