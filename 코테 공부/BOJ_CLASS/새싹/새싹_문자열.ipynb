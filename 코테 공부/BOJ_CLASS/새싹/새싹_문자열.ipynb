{
 "cells": [
  {
   "cell_type": "markdown",
   "id": "69c78c8d-bb98-4dd6-bcb9-e6f1cd8b6fc9",
   "metadata": {},
   "source": [
    "## BOJ 11654 : 아스키 코드\n",
    "알파벳 소문자, 대문자, 숫자 0-9중 하나가 주어졌을 때, 주어진 글자의 아스키 코드값을 출력하는 프로그램을 작성하시오."
   ]
  },
  {
   "cell_type": "code",
   "execution_count": 8,
   "id": "006684b2-9e47-447f-a29a-f3cfa37a01d2",
   "metadata": {},
   "outputs": [
    {
     "name": "stdin",
     "output_type": "stream",
     "text": [
      " 0\n"
     ]
    },
    {
     "name": "stdout",
     "output_type": "stream",
     "text": [
      "48\n"
     ]
    }
   ],
   "source": [
    "a = input()\n",
    "print(ord(a))"
   ]
  },
  {
   "cell_type": "markdown",
   "id": "471a5937-1e37-4391-9a5c-18c87414f4c0",
   "metadata": {},
   "source": [
    "## BOJ 2743 : 단어 길이 재기\n",
    "알파벳으로만 이루어진 단어를 입력받아, 그 길이를 출력하는 프로그램을 작성하시오."
   ]
  },
  {
   "cell_type": "code",
   "execution_count": 11,
   "id": "095bf528-51b9-4b7f-9cc1-39dd79023e7e",
   "metadata": {},
   "outputs": [
    {
     "name": "stdin",
     "output_type": "stream",
     "text": [
      " pulljima\n"
     ]
    },
    {
     "name": "stdout",
     "output_type": "stream",
     "text": [
      "8\n"
     ]
    }
   ],
   "source": [
    "s = input()\n",
    "print(len(s))"
   ]
  },
  {
   "cell_type": "markdown",
   "id": "fa37da3d-930b-4377-adc6-257944c392a4",
   "metadata": {},
   "source": [
    "## BOJ 2744 : 대소문자 바꾸기\n",
    "영어 소문자와 대문자로 이루어진 단어를 입력받은 뒤, 대문자는 소문자로, 소문자는 대문자로 바꾸어 출력하는 프로그램을 작성하시오."
   ]
  },
  {
   "cell_type": "code",
   "execution_count": 14,
   "id": "e47bcd4f-92ad-415e-aa60-13f9a036e704",
   "metadata": {},
   "outputs": [
    {
     "name": "stdin",
     "output_type": "stream",
     "text": [
      " WrongAnswer\n"
     ]
    },
    {
     "name": "stdout",
     "output_type": "stream",
     "text": [
      "wRONGaNSWER"
     ]
    }
   ],
   "source": [
    "s = input()\n",
    "for i in s:\n",
    "    if i.isupper() is True:\n",
    "        print(i.lower(), end='')\n",
    "    else:\n",
    "        print(i.upper(), end='')"
   ]
  },
  {
   "cell_type": "markdown",
   "id": "c9b52a1f-bd90-4243-a15a-0f39fbe121a9",
   "metadata": {},
   "source": [
    "## BOJ 2754 : 학점계산\n",
    "어떤 사람의 C언어 성적이 주어졌을 때, 평점은 몇 점인지 출력하는 프로그램을 작성하시오.  \n",
    "A+: 4.3, A0: 4.0, A-: 3.7  \n",
    "B+: 3.3, B0: 3.0, B-: 2.7  \n",
    "C+: 2.3, C0: 2.0, C-: 1.7  \n",
    "D+: 1.3, D0: 1.0, D-: 0.7  \n",
    "F: 0.0"
   ]
  },
  {
   "cell_type": "code",
   "execution_count": 19,
   "id": "bed37ba9-d996-4219-8f82-2d030845dde4",
   "metadata": {},
   "outputs": [
    {
     "name": "stdin",
     "output_type": "stream",
     "text": [
      " A0\n"
     ]
    },
    {
     "name": "stdout",
     "output_type": "stream",
     "text": [
      "4.0\n"
     ]
    }
   ],
   "source": [
    "s_dic = {'A+':4.3, 'A0':4.0, 'A-': 3.7,  \n",
    "        'B+': 3.3, 'B0': 3.0, 'B-': 2.7,   \n",
    "        'C+': 2.3, 'C0': 2.0, 'C-': 1.7,   \n",
    "        'D+': 1.3, 'D0': 1.0, 'D-': 0.7, 'F': 0.0}\n",
    "\n",
    "g = input()\n",
    "print(s_dic[g])"
   ]
  },
  {
   "cell_type": "markdown",
   "id": "f3029b6e-b6d3-42d3-b2be-305847fe1f79",
   "metadata": {},
   "source": [
    "## BOJ 10809 : 알파벳 찾기\n",
    "알파벳 소문자로만 이루어진 단어 S가 주어진다. 각각의 알파벳에 대해서, 단어에 포함되어 있는 경우에는 처음 등장하는 위치를, 포함되어 있지 않은 경우에는 -1을 출력하는 프로그램을 작성하시오."
   ]
  },
  {
   "cell_type": "code",
   "execution_count": 50,
   "id": "672496a4-9145-427f-8bea-5a29ec3de0dc",
   "metadata": {
    "scrolled": true,
    "tags": []
   },
   "outputs": [
    {
     "name": "stdin",
     "output_type": "stream",
     "text": [
      " baekjoon\n"
     ]
    },
    {
     "name": "stdout",
     "output_type": "stream",
     "text": [
      "1 0 -1 -1 2 -1 -1 -1 -1 4 3 -1 -1 7 5 -1 -1 -1 -1 -1 -1 -1 -1 -1 -1 -1 "
     ]
    }
   ],
   "source": [
    "from string import ascii_lowercase\n",
    "\n",
    "s = input()\n",
    "# 알파벳 딕셔너리 생성\n",
    "alpha_dic = {}\n",
    "for i in ascii_lowercase:\n",
    "    if i in s:\n",
    "        alpha_dic[i] = s.index(i)\n",
    "    else:\n",
    "        alpha_dic[i] = -1\n",
    "        \n",
    "for v in alpha_dic.values():\n",
    "    print(v, end=' ')"
   ]
  },
  {
   "cell_type": "markdown",
   "id": "d1a10957-4ef4-447d-a72a-bc352e2bca54",
   "metadata": {},
   "source": [
    "## BOJ 11718 : 그대로 출력하기"
   ]
  },
  {
   "cell_type": "code",
   "execution_count": 54,
   "id": "44499616-f342-49e7-bba6-1d35d2fe4c20",
   "metadata": {},
   "outputs": [],
   "source": [
    "while True:\n",
    "    try:\n",
    "        s = input()\n",
    "        print(s)\n",
    "    except EOFError:\n",
    "        break"
   ]
  },
  {
   "cell_type": "markdown",
   "id": "85d25bc7-ee6e-44e6-988b-a2213fbeec48",
   "metadata": {},
   "source": [
    "## BOJ 9086 : 문자열\n",
    "문자열을 입력으로 주면 문자열의 첫 글자와 마지막 글자를 출력하는 프로그램을 작성하시오."
   ]
  },
  {
   "cell_type": "code",
   "execution_count": 58,
   "id": "04e87b8f-963b-4009-a875-a12cf11ed28f",
   "metadata": {},
   "outputs": [
    {
     "name": "stdin",
     "output_type": "stream",
     "text": [
      " 3\n",
      " ACDKJFOWIEGHE\n"
     ]
    },
    {
     "name": "stdout",
     "output_type": "stream",
     "text": [
      "AE\n"
     ]
    },
    {
     "name": "stdin",
     "output_type": "stream",
     "text": [
      " O\n"
     ]
    },
    {
     "name": "stdout",
     "output_type": "stream",
     "text": [
      "OO\n"
     ]
    },
    {
     "name": "stdin",
     "output_type": "stream",
     "text": [
      " AB\n"
     ]
    },
    {
     "name": "stdout",
     "output_type": "stream",
     "text": [
      "AB\n"
     ]
    }
   ],
   "source": [
    "t = int(input())\n",
    "for i in range(t):\n",
    "    s = input()\n",
    "    print(f'{s[0]}{s[-1]}')"
   ]
  }
 ],
 "metadata": {
  "kernelspec": {
   "display_name": "Python 3 (ipykernel)",
   "language": "python",
   "name": "python3"
  },
  "language_info": {
   "codemirror_mode": {
    "name": "ipython",
    "version": 3
   },
   "file_extension": ".py",
   "mimetype": "text/x-python",
   "name": "python",
   "nbconvert_exporter": "python",
   "pygments_lexer": "ipython3",
   "version": "3.9.12"
  }
 },
 "nbformat": 4,
 "nbformat_minor": 5
}
