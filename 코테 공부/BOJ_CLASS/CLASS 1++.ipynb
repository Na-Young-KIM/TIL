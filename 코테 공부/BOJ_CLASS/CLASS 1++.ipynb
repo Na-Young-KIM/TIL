{
 "cells": [
  {
   "cell_type": "markdown",
   "id": "871e7599-ee83-4e8c-9db0-1bc377610571",
   "metadata": {},
   "source": [
    "## BOJ 1152 : 단어의 개수\n",
    "영어 대소문자와 공백으로 이루어진 문자열이 주어진다. 이 문자열에는 몇 개의 단어가 있을까? 이를 구하는 프로그램을 작성하시오. 단, 한 단어가 여러 번 등장하면 등장한 횟수만큼 모두 세어야 한다."
   ]
  },
  {
   "cell_type": "code",
   "execution_count": 25,
   "id": "dfd7d7a7-6314-410b-ab6a-f41be97eea0a",
   "metadata": {},
   "outputs": [
    {
     "name": "stdin",
     "output_type": "stream",
     "text": [
      " The Curious Case of Benjamin Button \n"
     ]
    },
    {
     "name": "stdout",
     "output_type": "stream",
     "text": [
      "6\n"
     ]
    }
   ],
   "source": [
    "# 입력 받기 \n",
    "s = input()\n",
    "\n",
    "# 공백으로 분리 후, 공백 제거 \n",
    "s_list = s.split(' ')\n",
    "s_list = [s for s in s_list if s not in ''] \n",
    "\n",
    "# 결과 출력\n",
    "result = len(s_list)\n",
    "print(result)"
   ]
  },
  {
   "cell_type": "markdown",
   "id": "0430e53c-5c19-4b58-9b9a-df0f1e8ac0fe",
   "metadata": {},
   "source": [
    "## BOJ 1157 : 단어 공부\n",
    "알파벳 대소문자로 된 단어가 주어지면, 이 단어에서 가장 많이 사용된 알파벳이 무엇인지 알아내는 프로그램을 작성하시오. 단, 대문자와 소문자를 구분하지 않는다."
   ]
  },
  {
   "cell_type": "code",
   "execution_count": 48,
   "id": "6e5acf3d-ff3f-4b47-9cbc-31f824687dad",
   "metadata": {},
   "outputs": [
    {
     "name": "stdin",
     "output_type": "stream",
     "text": [
      " z\n"
     ]
    },
    {
     "name": "stdout",
     "output_type": "stream",
     "text": [
      "Z\n"
     ]
    }
   ],
   "source": [
    "from collections import Counter\n",
    "# 입력 받기\n",
    "s = list(input().upper())\n",
    "\n",
    "# 결과 출력 \n",
    "try:\n",
    "    if Counter(s).most_common()[0][1]==Counter(s).most_common()[1][1]:\n",
    "        print('?')\n",
    "    else:\n",
    "        print(Counter(s).most_common()[0][0])\n",
    "except:\n",
    "    print(Counter(s).most_common()[0][0])"
   ]
  },
  {
   "cell_type": "markdown",
   "id": "36698309-9937-4b0a-a273-fadbddc4fe53",
   "metadata": {},
   "source": [
    "## BOJ 1546 : 평균\n",
    "세준이는 자기 점수 중에 최댓값을 골랐다. 이 값을 M이라고 한다. 그리고 나서 모든 점수를 점수/M*100으로 고쳤다.  \n",
    "예를 들어, 세준이의 최고점이 70이고, 수학점수가 50이었으면 수학점수는 50/70*100이 되어 71.43점이 된다.  \n",
    "세준이의 성적을 위의 방법대로 새로 계산했을 때, 새로운 평균을 구하는 프로그램을 작성하시오.  "
   ]
  },
  {
   "cell_type": "code",
   "execution_count": 79,
   "id": "035fa790-7799-4070-8ac5-43c7cfd5450b",
   "metadata": {},
   "outputs": [
    {
     "name": "stdin",
     "output_type": "stream",
     "text": [
      " 4\n",
      " 1 100 100 100\n"
     ]
    },
    {
     "name": "stdout",
     "output_type": "stream",
     "text": [
      "75.25\n"
     ]
    }
   ],
   "source": [
    "# 입력 받기\n",
    "N = int(input())\n",
    "s_list = list(map(int, input().split()))\n",
    "\n",
    "s_list = [s/max(s_list)*100 for s in s_list ]\n",
    "\n",
    "# 결과 출력\n",
    "result = sum(s_list)/len(s_list)\n",
    "print(result)"
   ]
  },
  {
   "cell_type": "markdown",
   "id": "a91a60a9-2172-4b04-9f76-a9e75b931c88",
   "metadata": {},
   "source": [
    "## BOJ 2439 : 별 찍기 -2\n",
    "첫째 줄에는 별 1개, 둘째 줄에는 별 2개, N번째 줄에는 별 N개를 찍는 문제\n",
    "\n",
    "하지만, 오른쪽을 기준으로 정렬한 별(예제 참고)을 출력하시오."
   ]
  },
  {
   "cell_type": "code",
   "execution_count": 98,
   "id": "ab6e0b19-fcd7-4e93-8d5d-b5b025e3f472",
   "metadata": {},
   "outputs": [
    {
     "name": "stdin",
     "output_type": "stream",
     "text": [
      " 5\n"
     ]
    },
    {
     "name": "stdout",
     "output_type": "stream",
     "text": [
      "    *\n",
      "   **\n",
      "  ***\n",
      " ****\n",
      "*****\n"
     ]
    }
   ],
   "source": [
    "N = int(input())\n",
    "\n",
    "for i in range(1, N+1):\n",
    "    print(' ' * (N-(i)), end = '')\n",
    "    print('*' * i, end='')\n",
    "    print()"
   ]
  },
  {
   "cell_type": "markdown",
   "id": "599257dd-9c5d-4ec0-970d-12a39ff5ffda",
   "metadata": {},
   "source": [
    "## BOJ 2577 : 숫자의 개수\n",
    "세 개의 자연수 A, B, C가 주어질 때 A × B × C를 계산한 결과에 0부터 9까지 각각의 숫자가 몇 번씩 쓰였는지를 구하는 프로그램을 작성하시오.\n",
    "\n",
    "예를 들어 A = 150, B = 266, C = 427 이라면 A × B × C = 150 × 266 × 427 = 17037300 이 되고, 계산한 결과 17037300 에는 0이 3번, 1이 1번, 3이 2번, 7이 2번 쓰였다."
   ]
  },
  {
   "cell_type": "code",
   "execution_count": 99,
   "id": "a062a91c-cd9d-412b-8baf-b01affbcbf91",
   "metadata": {},
   "outputs": [
    {
     "name": "stdin",
     "output_type": "stream",
     "text": [
      " 150\n",
      " 266\n",
      " 427\n"
     ]
    }
   ],
   "source": [
    "from collections import Counter\n",
    "import sys \n",
    "# input = sys.stdin.readlines\n",
    "\n",
    "a = int(input())\n",
    "b = int(input())\n",
    "c = int(input())\n",
    "\n",
    "n = list(str(a*b*c))\n",
    "\n",
    "for i in range(10):\n",
    "    print(Counter(n)[str(i)])"
   ]
  },
  {
   "cell_type": "markdown",
   "id": "71a9c994-bdaa-4585-9845-0e5704f6d9c6",
   "metadata": {},
   "source": [
    "## BOJ 2742 : 기찍 N\n",
    "자연수 N이 주어졌을 때, N부터 1까지 한 줄에 하나씩 출력하는 프로그램을 작성하시오."
   ]
  },
  {
   "cell_type": "code",
   "execution_count": 154,
   "id": "780f0b05-ab17-4c42-9c2b-4ddff20dee96",
   "metadata": {},
   "outputs": [
    {
     "name": "stdin",
     "output_type": "stream",
     "text": [
      " 5\n"
     ]
    },
    {
     "name": "stdout",
     "output_type": "stream",
     "text": [
      "5\n",
      "4\n",
      "3\n",
      "2\n",
      "1\n"
     ]
    }
   ],
   "source": [
    "N = int(input())\n",
    "for i in range(N):\n",
    "    print(N-i)"
   ]
  },
  {
   "cell_type": "markdown",
   "id": "3eb44590-f833-4499-beb8-aff2e775aed2",
   "metadata": {},
   "source": [
    "## BOJ 2884 : 알람 시계"
   ]
  },
  {
   "cell_type": "code",
   "execution_count": 169,
   "id": "93d59e91-0d22-41bc-b8f7-929dc63c3c4b",
   "metadata": {},
   "outputs": [
    {
     "name": "stdin",
     "output_type": "stream",
     "text": [
      " 23 40\n"
     ]
    },
    {
     "name": "stdout",
     "output_type": "stream",
     "text": [
      "22 55\n"
     ]
    }
   ],
   "source": [
    "H, M = map(int, input().split())\n",
    "\n",
    "M -= 45\n",
    "if M<0:\n",
    "    H -= 1 \n",
    "    M += 60\n",
    "if H<0:\n",
    "    H += 24\n",
    "    \n",
    "print(H, M)"
   ]
  },
  {
   "cell_type": "markdown",
   "id": "561ec9fe-5980-4074-a9e0-2d950a2aad78",
   "metadata": {},
   "source": [
    "## BOJ 2908 : 상수\n",
    "상수는 수를 다른 사람과 다르게 거꾸로 읽는다. 예를 들어, 734와 893을 칠판에 적었다면, 상수는 이 수를 437과 398로 읽는다. 따라서, 상수는 두 수중 큰 수인 437을 큰 수라고 말할 것이다.\n",
    "\n",
    "두 수가 주어졌을 때, 상수의 대답을 출력하는 프로그램을 작성하시오."
   ]
  },
  {
   "cell_type": "code",
   "execution_count": 226,
   "id": "abf5dfb7-045c-43d4-ab00-531368e38ff3",
   "metadata": {},
   "outputs": [
    {
     "name": "stdin",
     "output_type": "stream",
     "text": [
      " 839 237\n"
     ]
    },
    {
     "name": "stdout",
     "output_type": "stream",
     "text": [
      "938\n"
     ]
    }
   ],
   "source": [
    "# 입력 받기\n",
    "a, b = input().split()\n",
    "\n",
    "# 순서 바꾸기\n",
    "a = int(''.join([a[-(i+1)] for i in range(len(a))]))\n",
    "b = int(''.join([b[-(i+1)] for i in range(len(b))]))\n",
    "\n",
    "# 결과 출력\n",
    "if a>b:\n",
    "    print(a)\n",
    "else:\n",
    "    print(b)"
   ]
  },
  {
   "cell_type": "markdown",
   "id": "959fb0cc-4f3f-4613-9006-007253463da8",
   "metadata": {},
   "source": [
    "## BOJ 3052 : 나머지\n",
    "수 10개를 입력받은 뒤, 이를 42로 나눈 나머지를 구한다. 그 다음 서로 다른 값이 몇 개 있는지 출력하는 프로그램을 작성하시오."
   ]
  },
  {
   "cell_type": "code",
   "execution_count": 249,
   "id": "abb226c4-9318-4633-8cdc-b9e843185f43",
   "metadata": {},
   "outputs": [
    {
     "name": "stdin",
     "output_type": "stream",
     "text": [
      " 42\n",
      " 84\n",
      " 252\n",
      " 420\n",
      " 840\n",
      " 126\n",
      " 42\n",
      " 84\n",
      " 420\n",
      " 126\n"
     ]
    },
    {
     "name": "stdout",
     "output_type": "stream",
     "text": [
      "1\n"
     ]
    }
   ],
   "source": [
    "n_list = []\n",
    "for i in range(10):\n",
    "    n_list.append(int(input())%42)\n",
    "\n",
    "result = len(set(n_list))\n",
    "print(result)"
   ]
  }
 ],
 "metadata": {
  "kernelspec": {
   "display_name": "Python 3 (ipykernel)",
   "language": "python",
   "name": "python3"
  },
  "language_info": {
   "codemirror_mode": {
    "name": "ipython",
    "version": 3
   },
   "file_extension": ".py",
   "mimetype": "text/x-python",
   "name": "python",
   "nbconvert_exporter": "python",
   "pygments_lexer": "ipython3",
   "version": "3.9.12"
  }
 },
 "nbformat": 4,
 "nbformat_minor": 5
}
