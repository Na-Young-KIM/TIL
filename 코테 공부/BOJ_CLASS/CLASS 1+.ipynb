{
 "cells": [
  {
   "cell_type": "markdown",
   "id": "0a38f967-4bbf-44d9-b419-10ff74092e92",
   "metadata": {},
   "source": [
    "## BOJ 2562 : 최댓값\n",
    "9개의 서로 다른 자연수가 주어질 때, 이들 중 최댓값을 찾고 그 최댓값이 몇 번째 수인지를 구하는 프로그램을 작성하시오."
   ]
  },
  {
   "cell_type": "code",
   "execution_count": 14,
   "id": "648a861d-015f-466c-bd03-2f210e352fad",
   "metadata": {},
   "outputs": [
    {
     "name": "stdin",
     "output_type": "stream",
     "text": [
      " 3\n",
      " 29\n",
      " 38\n",
      " 12\n",
      " 57\n",
      " 74\n",
      " 40\n",
      " 85\n",
      " 61\n"
     ]
    },
    {
     "name": "stdout",
     "output_type": "stream",
     "text": [
      "85\n",
      "8\n"
     ]
    }
   ],
   "source": [
    "n_list =  []\n",
    "for i in range(9):\n",
    "    n_list.append(int(input()))\n",
    "    \n",
    "print(max(n_list))\n",
    "print(n_list.index(max(n_list)) + 1)"
   ]
  },
  {
   "cell_type": "markdown",
   "id": "56d2f115-8d94-419d-bce3-36b873747f82",
   "metadata": {},
   "source": [
    "## BOJ 2675 : 문자열 반복\n",
    "문자열 S를 입력받은 후에, 각 문자를 R번 반복해 새 문자열 P를 만든 후 출력하는 프로그램을 작성하시오. "
   ]
  },
  {
   "cell_type": "code",
   "execution_count": 38,
   "id": "b97fd021-d018-4e78-b5d7-19f7e2a397a4",
   "metadata": {},
   "outputs": [
    {
     "name": "stdin",
     "output_type": "stream",
     "text": [
      " 2\n",
      " 3 123\n"
     ]
    },
    {
     "name": "stdout",
     "output_type": "stream",
     "text": [
      "111222333\n"
     ]
    },
    {
     "name": "stdin",
     "output_type": "stream",
     "text": [
      " 2 24\n"
     ]
    },
    {
     "name": "stdout",
     "output_type": "stream",
     "text": [
      "2244\n"
     ]
    }
   ],
   "source": [
    "t = int(input())\n",
    "\n",
    "for _ in range(t):\n",
    "    R, S = input().split()\n",
    "    for s in S:\n",
    "        print(s * int(R), end='')\n",
    "    print()"
   ]
  },
  {
   "cell_type": "markdown",
   "id": "6fcb1f0c-9e93-45b4-80d4-0d87fa2293cf",
   "metadata": {},
   "source": [
    "## BOJ 2920 : 음계\n",
    "다장조는 c d e f g a b C, 총 8개 음으로 이루어져있다. 이 문제에서 8개 음은 다음과 같이 숫자로 바꾸어 표현한다. c는 1로, d는 2로, ..., C를 8로 바꾼다."
   ]
  },
  {
   "cell_type": "code",
   "execution_count": 63,
   "id": "5f102cab-1550-4b3e-a1c4-5bb5a276e61a",
   "metadata": {},
   "outputs": [
    {
     "name": "stdin",
     "output_type": "stream",
     "text": [
      " 1 2 3 4 5 6 7 8\n"
     ]
    },
    {
     "name": "stdout",
     "output_type": "stream",
     "text": [
      "ascending\n"
     ]
    }
   ],
   "source": [
    "# 입력\n",
    "a = list(map(int, input().split()))\n",
    "\n",
    "# 결과 출력\n",
    "if sorted(a)==a:\n",
    "    print('ascending')\n",
    "elif sorted(a, reverse=True)==a:\n",
    "    print('descending')\n",
    "else:\n",
    "    print('mixed')"
   ]
  },
  {
   "cell_type": "markdown",
   "id": "4914efb2-9251-4e6d-829a-828beb4a2042",
   "metadata": {},
   "source": [
    "## BOJ 8958 : OX퀴즈\n",
    "\"OOXXOXXOOO\"와 같은 OX퀴즈의 결과가 있다. O는 문제를 맞은 것이고, X는 문제를 틀린 것이다. 문제를 맞은 경우 그 문제의 점수는 그 문제까지 연속된 O의 개수가 된다. 예를 들어, 10번 문제의 점수는 3이 된다."
   ]
  },
  {
   "cell_type": "code",
   "execution_count": 86,
   "id": "633a294b-79f0-4730-bfaa-2828f30214ca",
   "metadata": {},
   "outputs": [
    {
     "name": "stdin",
     "output_type": "stream",
     "text": [
      " 5\n",
      " OOXXOXXOOO\n"
     ]
    },
    {
     "name": "stdout",
     "output_type": "stream",
     "text": [
      "10\n"
     ]
    },
    {
     "name": "stdin",
     "output_type": "stream",
     "text": [
      " OOXXOOXXOO\n"
     ]
    },
    {
     "name": "stdout",
     "output_type": "stream",
     "text": [
      "9\n"
     ]
    },
    {
     "name": "stdin",
     "output_type": "stream",
     "text": [
      " OXOXOXOXOXOXOX\n"
     ]
    },
    {
     "name": "stdout",
     "output_type": "stream",
     "text": [
      "7\n"
     ]
    },
    {
     "name": "stdin",
     "output_type": "stream",
     "text": [
      " OOOOOOOOOO\n"
     ]
    },
    {
     "name": "stdout",
     "output_type": "stream",
     "text": [
      "55\n"
     ]
    },
    {
     "name": "stdin",
     "output_type": "stream",
     "text": [
      " OOOOXOOOOXOOOOX\n"
     ]
    },
    {
     "name": "stdout",
     "output_type": "stream",
     "text": [
      "30\n"
     ]
    }
   ],
   "source": [
    "T = int(input())\n",
    "\n",
    "for _ in range(T):\n",
    "    a = input()\n",
    "    \n",
    "    score = 0\n",
    "    for i in a.split('X'):\n",
    "        for j in range(len(i)):\n",
    "            score += j+1\n",
    "    print(score)"
   ]
  },
  {
   "cell_type": "markdown",
   "id": "f436cad6-698d-4870-88bc-9db4b5130555",
   "metadata": {},
   "source": [
    "## BOJ 10818 : 최소, 최대\n",
    "N개의 정수가 주어진다. 이때, 최솟값과 최댓값을 구하는 프로그램을 작성하시오."
   ]
  },
  {
   "cell_type": "code",
   "execution_count": 91,
   "id": "862187c5-0e96-4771-b13d-24540eb76954",
   "metadata": {},
   "outputs": [
    {
     "name": "stdin",
     "output_type": "stream",
     "text": [
      " 5\n",
      " 20 10 35 30 7\n"
     ]
    },
    {
     "name": "stdout",
     "output_type": "stream",
     "text": [
      "7 35\n"
     ]
    }
   ],
   "source": [
    "N = int(input())\n",
    "n_list = list(map(int, input().split()))\n",
    "print(min(n_list), max(n_list))"
   ]
  },
  {
   "cell_type": "markdown",
   "id": "3e86459f-6964-419a-936e-7ae0b55eb9c7",
   "metadata": {},
   "source": [
    "## BOJ 11720 : 숫자의 합\n",
    "N개의 숫자가 공백 없이 쓰여있다. 이 숫자를 모두 합해서 출력하는 프로그램을 작성하시오."
   ]
  },
  {
   "cell_type": "code",
   "execution_count": 99,
   "id": "11d5e7ab-7100-4f8a-8dc0-db5ef159a055",
   "metadata": {},
   "outputs": [
    {
     "name": "stdin",
     "output_type": "stream",
     "text": [
      " 11\n",
      " 10987654321\n"
     ]
    },
    {
     "name": "stdout",
     "output_type": "stream",
     "text": [
      "46\n"
     ]
    }
   ],
   "source": [
    "N = input()\n",
    "n_list = list(map(int, input()))\n",
    "\n",
    "sum = 0\n",
    "for n in n_list:\n",
    "    sum += n\n",
    "print(sum)"
   ]
  },
  {
   "cell_type": "code",
   "execution_count": 95,
   "id": "1e77d32b-697c-4e68-bdb2-5734b83b4d9a",
   "metadata": {},
   "outputs": [
    {
     "data": {
      "text/plain": [
       "[1, 2, 3, 4, 5]"
      ]
     },
     "execution_count": 95,
     "metadata": {},
     "output_type": "execute_result"
    }
   ],
   "source": [
    "list(n_list)"
   ]
  },
  {
   "cell_type": "code",
   "execution_count": null,
   "id": "3eb3897b-f2da-443b-98ba-8a1bcfc5485e",
   "metadata": {},
   "outputs": [],
   "source": []
  }
 ],
 "metadata": {
  "kernelspec": {
   "display_name": "Python 3 (ipykernel)",
   "language": "python",
   "name": "python3"
  },
  "language_info": {
   "codemirror_mode": {
    "name": "ipython",
    "version": 3
   },
   "file_extension": ".py",
   "mimetype": "text/x-python",
   "name": "python",
   "nbconvert_exporter": "python",
   "pygments_lexer": "ipython3",
   "version": "3.9.12"
  }
 },
 "nbformat": 4,
 "nbformat_minor": 5
}
