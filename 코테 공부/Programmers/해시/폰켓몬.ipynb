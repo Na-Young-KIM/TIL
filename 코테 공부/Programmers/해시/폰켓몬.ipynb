{
 "cells": [
  {
   "cell_type": "markdown",
   "id": "38b56691-f44a-48da-bead-e16418e56e43",
   "metadata": {},
   "source": [
    "## 폰켓몬\n",
    "### 문제설명\n",
    "당신은 폰켓몬을 잡기 위한 오랜 여행 끝에, 홍 박사님의 연구실에 도착했습니다. 홍 박사님은 당신에게 자신의 연구실에 있는 총 N 마리의 폰켓몬 중에서 N/2마리를 가져가도 좋다고 했습니다.\n",
    "홍 박사님 연구실의 폰켓몬은 종류에 따라 번호를 붙여 구분합니다. 따라서 같은 종류의 폰켓몬은 같은 번호를 가지고 있습니다. 예를 들어 연구실에 총 4마리의 폰켓몬이 있고, 각 폰켓몬의 종류 번호가 [3번, 1번, 2번, 3번]이라면 이는 3번 폰켓몬 두 마리, 1번 폰켓몬 한 마리, 2번 폰켓몬 한 마리가 있음을 나타냅니다. 이때, 4마리의 폰켓몬 중 2마리를 고르는 방법은 다음과 같이 6가지가 있습니다.\n",
    "\n",
    "1. 첫 번째(3번), 두 번째(1번) 폰켓몬을 선택\n",
    "2. 첫 번째(3번), 세 번째(2번) 폰켓몬을 선택\n",
    "3. 첫 번째(3번), 네 번째(3번) 폰켓몬을 선택\n",
    "4. 두 번째(1번), 세 번째(2번) 폰켓몬을 선택\n",
    "5. 두 번째(1번), 네 번째(3번) 폰켓몬을 선택\n",
    "6. 세 번째(2번), 네 번째(3번) 폰켓몬을 선택    \n",
    "\n",
    "이때, 첫 번째(3번) 폰켓몬과 네 번째(3번) 폰켓몬을 선택하는 방법은 한 종류(3번 폰켓몬 두 마리)의 폰켓몬만 가질 수 있지만, 다른 방법들은 모두 두 종류의 폰켓몬을 가질 수 있습니다. 따라서 위 예시에서 가질 수 있는 폰켓몬 종류 수의 최댓값은 2가 됩니다.   \n",
    "당신은 최대한 다양한 종류의 폰켓몬을 가지길 원하기 때문에, 최대한 많은 종류의 폰켓몬을 포함해서 N/2마리를 선택하려 합니다. N마리 폰켓몬의 종류 번호가 담긴 배열 nums가 매개변수로 주어질 때, N/2마리의 폰켓몬을 선택하는 방법 중, 가장 많은 종류의 폰켓몬을 선택하는 방법을 찾아, 그때의 폰켓몬 종류 번호의 개수를 return 하도록 solution 함수를 완성해주세요.\n",
    "\n",
    "### 제한사항\n",
    "- nums는 폰켓몬의 종류 번호가 담긴 1차원 배열입니다.\n",
    "- nums의 길이(N)는 1 이상 10,000 이하의 자연수이며, 항상 짝수로 주어집니다.\n",
    "- 폰켓몬의 종류 번호는 1 이상 200,000 이하의 자연수로 나타냅니다.\n",
    "- 가장 많은 종류의 폰켓몬을 선택하는 방법이 여러 가지인 경우에도, 선택할 수 있는 폰켓몬 종류 개수의 최댓값 하나만 return 하면 됩니다.\n",
    "\n",
    "### 입출력 예\n",
    "|nums\t|result|\n",
    "|-|-|\n",
    "|[3,1,2,3]\t|2|\n",
    "|[3,3,3,2,2,4]\t|3|\n",
    "|[3,3,3,2,2,2]\t|2|\n",
    "\n",
    "### 입출력 예 설명\n",
    "입출력 예 #1   \n",
    "문제의 예시와 같습니다.\n",
    "\n",
    "입출력 예 #2    \n",
    "6마리의 폰켓몬이 있으므로, 3마리의 폰켓몬을 골라야 합니다.\n",
    "가장 많은 종류의 폰켓몬을 고르기 위해서는 3번 폰켓몬 한 마리, 2번 폰켓몬 한 마리, 4번 폰켓몬 한 마리를 고르면 되며, 따라서 3을 return 합니다.\n",
    "\n",
    "입출력 예 #3   \n",
    "6마리의 폰켓몬이 있으므로, 3마리의 폰켓몬을 골라야 합니다.\n",
    "가장 많은 종류의 폰켓몬을 고르기 위해서는 3번 폰켓몬 한 마리와 2번 폰켓몬 두 마리를 고르거나, 혹은 3번 폰켓몬 두 마리와 2번 폰켓몬 한 마리를 고르면 됩니다. 따라서 최대 고를 수 있는 폰켓몬 종류의 수는 2입니다."
   ]
  },
  {
   "cell_type": "markdown",
   "id": "0e8483a6-140b-41da-b789-b913b0c895ae",
   "metadata": {
    "tags": []
   },
   "source": [
    "### 방법1 : 정확성 30% (시간초과)"
   ]
  },
  {
   "cell_type": "code",
   "execution_count": 54,
   "id": "2c426a0e-eb27-44b5-9c8b-fbc8d7acb306",
   "metadata": {},
   "outputs": [],
   "source": [
    "import itertools\n",
    "def solution(nums):\n",
    "    comb = list(itertools.combinations(nums, len(nums)//2))\n",
    "    answer = max(list(map(lambda x: len(set(x)), comb)))\n",
    "    return answer"
   ]
  },
  {
   "cell_type": "markdown",
   "id": "5bbbb62b-3070-45fe-93b4-9692c014caf6",
   "metadata": {},
   "source": [
    "### 방법2 : 정확성 100% \n",
    "- collections의 Counter 함수를 사용\n",
    "- 1. key값의 개수가 선택해야하는 개수보다 크거나 같으면 => 선택해야하는 개수가 정답\n",
    "- 2. key값의 개수가 선택해야하는 개수보다 작으면 => key값의 개수가 정답"
   ]
  },
  {
   "cell_type": "code",
   "execution_count": 65,
   "id": "84077b10-f591-466e-a922-9e0298b6477f",
   "metadata": {},
   "outputs": [],
   "source": [
    "from collections import Counter \n",
    "import itertools\n",
    "def solution(nums):\n",
    "    answer = 0\n",
    "    counter = Counter(nums)\n",
    "    if len(counter.keys()) >= len(nums)//2:\n",
    "        answer = len(nums)//2\n",
    "    else: \n",
    "        answer = len(counter.keys())\n",
    "    return answer"
   ]
  },
  {
   "cell_type": "markdown",
   "id": "998a12c8-f798-4596-bcf4-14c8886cc044",
   "metadata": {},
   "source": [
    "## 다른사람 풀이\n",
    "- 굳이 Counter 함수까지 사용하지 않아도 됨.\n",
    "- nums의 unique값의 개수와 선택해야하는 갯수(=len(nums)//2)중더 작은 값을 선택하면 됨. "
   ]
  },
  {
   "cell_type": "code",
   "execution_count": 73,
   "id": "45f96fab-04a9-43e8-a394-9bcd4e8e6f7f",
   "metadata": {},
   "outputs": [],
   "source": [
    "def solution(nums):\n",
    "    return min(len(set(nums)), len(nums)//2)"
   ]
  }
 ],
 "metadata": {
  "kernelspec": {
   "display_name": "Python 3 (ipykernel)",
   "language": "python",
   "name": "python3"
  },
  "language_info": {
   "codemirror_mode": {
    "name": "ipython",
    "version": 3
   },
   "file_extension": ".py",
   "mimetype": "text/x-python",
   "name": "python",
   "nbconvert_exporter": "python",
   "pygments_lexer": "ipython3",
   "version": "3.9.12"
  }
 },
 "nbformat": 4,
 "nbformat_minor": 5
}
