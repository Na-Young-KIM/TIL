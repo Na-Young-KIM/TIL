{
 "cells": [
  {
   "cell_type": "markdown",
   "id": "4aeef491-91c2-429b-8b61-70744a748390",
   "metadata": {},
   "source": [
    "## 6009 : [기초-입출력] 문자 1개 입력받아 그대로 출력하기"
   ]
  },
  {
   "cell_type": "code",
   "execution_count": 1,
   "id": "9b9509c9-0614-410e-b88f-623fa0b2b0aa",
   "metadata": {},
   "outputs": [
    {
     "name": "stdin",
     "output_type": "stream",
     "text": [
      " a\n"
     ]
    },
    {
     "name": "stdout",
     "output_type": "stream",
     "text": [
      "a\n"
     ]
    }
   ],
   "source": [
    "c = input()\n",
    "print(c)"
   ]
  },
  {
   "cell_type": "markdown",
   "id": "a12c9d13-1d7f-41bc-8a99-7ece0ad3ce96",
   "metadata": {},
   "source": [
    "## 6010 : [기초-입출력] 정수 1개 입력받아 int로 변환하여 출력하기"
   ]
  },
  {
   "cell_type": "code",
   "execution_count": 2,
   "id": "3a3b987f-014b-44e0-8822-6bf9e22b0984",
   "metadata": {},
   "outputs": [
    {
     "name": "stdin",
     "output_type": "stream",
     "text": [
      " 1\n"
     ]
    },
    {
     "name": "stdout",
     "output_type": "stream",
     "text": [
      "1\n"
     ]
    }
   ],
   "source": [
    "n = int(input())\n",
    "print(n)"
   ]
  },
  {
   "cell_type": "markdown",
   "id": "5831494c-3540-48e7-966c-3aa782a64d5f",
   "metadata": {},
   "source": [
    "## 6011 : [기초-입출력] 실수 1개 입력받아 변환하여 출력하기"
   ]
  },
  {
   "cell_type": "code",
   "execution_count": 3,
   "id": "159bf923-19c4-47ef-b959-1f5b269acfd6",
   "metadata": {},
   "outputs": [
    {
     "name": "stdin",
     "output_type": "stream",
     "text": [
      " 3.14\n"
     ]
    },
    {
     "name": "stdout",
     "output_type": "stream",
     "text": [
      "3.14\n"
     ]
    }
   ],
   "source": [
    "f = float(input())\n",
    "print(f)"
   ]
  },
  {
   "cell_type": "markdown",
   "id": "e44dea45-82a6-4f38-b71c-6279a8ec2d94",
   "metadata": {},
   "source": [
    "## 6012 : [기초-입출력] 정수 2개 입력받아 그대로 출력하기1"
   ]
  },
  {
   "cell_type": "code",
   "execution_count": 4,
   "id": "921dc351-1a8d-47e7-919c-0c0665695fd6",
   "metadata": {},
   "outputs": [
    {
     "name": "stdin",
     "output_type": "stream",
     "text": [
      " 1\n",
      " 2\n"
     ]
    },
    {
     "name": "stdout",
     "output_type": "stream",
     "text": [
      "1\n",
      "2\n"
     ]
    }
   ],
   "source": [
    "a = int(input())\n",
    "b = int(input())\n",
    "print(a)\n",
    "print(b)"
   ]
  },
  {
   "cell_type": "markdown",
   "id": "f91ee487-f226-4750-b100-82424e32e958",
   "metadata": {},
   "source": [
    "## 6013 : [기초-입출력] 문자 2개 입력받아 순서 바꿔 출력하기1"
   ]
  },
  {
   "cell_type": "code",
   "execution_count": 5,
   "id": "ce7d8fc3-7d72-4563-9883-8eff563633e4",
   "metadata": {},
   "outputs": [
    {
     "name": "stdin",
     "output_type": "stream",
     "text": [
      " a\n",
      " b\n"
     ]
    },
    {
     "name": "stdout",
     "output_type": "stream",
     "text": [
      "b\n",
      "a\n"
     ]
    }
   ],
   "source": [
    "a = input()\n",
    "b = input()\n",
    "print(b)\n",
    "print(a)"
   ]
  },
  {
   "cell_type": "markdown",
   "id": "2e2bc708-19e9-458c-8620-6f85d771b512",
   "metadata": {},
   "source": [
    "## 6014 : [기초-입출력] 실수 1개 입력받아 3번 출력하기"
   ]
  },
  {
   "cell_type": "code",
   "execution_count": 6,
   "id": "f813e124-7eb0-463c-aa44-07ab66d2df85",
   "metadata": {},
   "outputs": [
    {
     "name": "stdin",
     "output_type": "stream",
     "text": [
      " 3.14\n"
     ]
    },
    {
     "name": "stdout",
     "output_type": "stream",
     "text": [
      "3.14\n",
      "3.14\n",
      "3.14\n"
     ]
    }
   ],
   "source": [
    "f = float(input())\n",
    "print(f)\n",
    "print(f)\n",
    "print(f)"
   ]
  },
  {
   "cell_type": "markdown",
   "id": "89dc473d-e672-4632-a96b-ea47f364b88c",
   "metadata": {
    "tags": []
   },
   "source": [
    "## 6015 : [기초-입출력] 정수 2개 입력받아 그대로 출력하기2"
   ]
  },
  {
   "cell_type": "code",
   "execution_count": 8,
   "id": "33aed614-4346-47e5-aae4-d170833e0109",
   "metadata": {},
   "outputs": [
    {
     "name": "stdin",
     "output_type": "stream",
     "text": [
      " 1 2\n"
     ]
    },
    {
     "name": "stdout",
     "output_type": "stream",
     "text": [
      "1\n",
      "2\n"
     ]
    }
   ],
   "source": [
    "a, b = map(int, input().split())\n",
    "print(a)\n",
    "print(b)"
   ]
  },
  {
   "cell_type": "markdown",
   "id": "e2289783-8440-4b4e-b0a7-71773d7fda70",
   "metadata": {},
   "source": [
    "## 6016 : [기초-입출력] 문자 2개 입력받아 순서 바꿔 출력하기2"
   ]
  },
  {
   "cell_type": "code",
   "execution_count": 9,
   "id": "1fa59388-2836-40bf-adcb-4430a1279eb2",
   "metadata": {},
   "outputs": [
    {
     "name": "stdin",
     "output_type": "stream",
     "text": [
      " c d\n"
     ]
    },
    {
     "name": "stdout",
     "output_type": "stream",
     "text": [
      "d c\n"
     ]
    }
   ],
   "source": [
    "a, b = input().split()\n",
    "print(b, a)"
   ]
  },
  {
   "cell_type": "markdown",
   "id": "098c15b4-db1b-4475-9ff6-a7dc3d6d5769",
   "metadata": {},
   "source": [
    "## 6017 : [기초-입출력] 문장 1개 입력받아 3번 출력하기"
   ]
  },
  {
   "cell_type": "code",
   "execution_count": 10,
   "id": "5517b37d-5efb-4476-9a79-ae59bd63f587",
   "metadata": {},
   "outputs": [
    {
     "name": "stdin",
     "output_type": "stream",
     "text": [
      " comuter science\n"
     ]
    },
    {
     "name": "stdout",
     "output_type": "stream",
     "text": [
      "comuter science comuter science comuter science\n"
     ]
    }
   ],
   "source": [
    "s = input()\n",
    "print(s, s, s) "
   ]
  },
  {
   "cell_type": "markdown",
   "id": "bc626dca-fd6f-4871-9957-a6a360cc4e66",
   "metadata": {},
   "source": [
    "## 6018 : [기초-입출력] 시간 입력받아 그대로 출력하기"
   ]
  },
  {
   "cell_type": "code",
   "execution_count": 12,
   "id": "ea4652e9-258f-42f2-b69b-bdf04ffd2916",
   "metadata": {},
   "outputs": [
    {
     "name": "stdin",
     "output_type": "stream",
     "text": [
      " 12:24\n"
     ]
    },
    {
     "name": "stdout",
     "output_type": "stream",
     "text": [
      "12:24\n"
     ]
    }
   ],
   "source": [
    "a, b = input().split(':')\n",
    "print(a+':'+b)"
   ]
  },
  {
   "cell_type": "markdown",
   "id": "724a965f-0b3e-4d25-b4a8-39e887677147",
   "metadata": {},
   "source": [
    "## 6019 : [기초-입출력] 연월일 입력받아 순서 바꿔 출력하기"
   ]
  },
  {
   "cell_type": "code",
   "execution_count": 13,
   "id": "226f914e-fd97-4041-84cd-fa071d5a81ac",
   "metadata": {},
   "outputs": [
    {
     "name": "stdin",
     "output_type": "stream",
     "text": [
      " 2021.03.15\n"
     ]
    },
    {
     "name": "stdout",
     "output_type": "stream",
     "text": [
      "15-3-2021\n"
     ]
    }
   ],
   "source": [
    "year, month, day = map(int, input().split('.'))\n",
    "print(day, month, year, sep='-')"
   ]
  },
  {
   "cell_type": "markdown",
   "id": "7d30ba90-51a1-497e-9f1f-10ff3a89272c",
   "metadata": {},
   "source": [
    "## 6020 : [기초-입출력] 주민번호 입력받아 형태 바꿔 출력하기"
   ]
  },
  {
   "cell_type": "code",
   "execution_count": 17,
   "id": "7ba9e62d-bfe3-4594-8a76-80deb9991163",
   "metadata": {},
   "outputs": [
    {
     "name": "stdin",
     "output_type": "stream",
     "text": [
      " 123456-123456\n"
     ]
    },
    {
     "name": "stdout",
     "output_type": "stream",
     "text": [
      "123456123456\n"
     ]
    }
   ],
   "source": [
    "front, end = input().split('-')\n",
    "print(front, end, sep='')"
   ]
  },
  {
   "cell_type": "markdown",
   "id": "9e8181d5-98f5-4554-a444-2f89d983d1f7",
   "metadata": {},
   "source": [
    "## 6021 : [기초-입출력] 단어 1개 입력받아 나누어 출력하기"
   ]
  },
  {
   "cell_type": "code",
   "execution_count": 23,
   "id": "601e5a70-3487-43a1-abd3-20d1d7319722",
   "metadata": {},
   "outputs": [
    {
     "name": "stdin",
     "output_type": "stream",
     "text": [
      " hello\n"
     ]
    },
    {
     "name": "stdout",
     "output_type": "stream",
     "text": [
      "h\n",
      "e\n",
      "l\n",
      "l\n",
      "o\n"
     ]
    }
   ],
   "source": [
    "s = input()\n",
    "\n",
    "for i in s:\n",
    "    print(i)"
   ]
  },
  {
   "cell_type": "markdown",
   "id": "076406d3-68e5-429c-9d1c-a4e744783411",
   "metadata": {},
   "source": [
    "## 6022 : [기초-입출력] 연월일 입력받아 나누어 출력하기"
   ]
  },
  {
   "cell_type": "code",
   "execution_count": 27,
   "id": "99f0bbf2-15df-4e7f-a473-194b067af109",
   "metadata": {},
   "outputs": [
    {
     "name": "stdin",
     "output_type": "stream",
     "text": [
      " 220315\n"
     ]
    },
    {
     "name": "stdout",
     "output_type": "stream",
     "text": [
      "22 03 15\n"
     ]
    }
   ],
   "source": [
    "a = input()\n",
    "print(a[:2], a[2:4], a[4:])"
   ]
  },
  {
   "cell_type": "markdown",
   "id": "f6d9cd25-bf4f-4a06-a295-ed74b6e787ae",
   "metadata": {},
   "source": [
    "## 6023 : [기초-입출력] 시분초 입력받아 분만 출력하기"
   ]
  },
  {
   "cell_type": "code",
   "execution_count": 28,
   "id": "38657c97-cbb3-403c-8e06-708cda460e31",
   "metadata": {},
   "outputs": [
    {
     "name": "stdin",
     "output_type": "stream",
     "text": [
      " 12:13:14\n"
     ]
    },
    {
     "name": "stdout",
     "output_type": "stream",
     "text": [
      "13\n"
     ]
    }
   ],
   "source": [
    "hour, minute, second = input().split(':')\n",
    "print(minute)"
   ]
  },
  {
   "cell_type": "markdown",
   "id": "717002bf-afe6-4e35-89c7-db990b45d883",
   "metadata": {
    "tags": []
   },
   "source": [
    "## 6024 : [기초-입출력] 단어 2개 입력받아 이어 붙이기"
   ]
  },
  {
   "cell_type": "code",
   "execution_count": 29,
   "id": "47984013-456e-4408-9d17-9a94e79033b0",
   "metadata": {},
   "outputs": [
    {
     "name": "stdin",
     "output_type": "stream",
     "text": [
      " hello world\n"
     ]
    },
    {
     "name": "stdout",
     "output_type": "stream",
     "text": [
      "helloworld\n"
     ]
    }
   ],
   "source": [
    "a, b = input().split()\n",
    "print(a+b)"
   ]
  }
 ],
 "metadata": {
  "kernelspec": {
   "display_name": "Python 3 (ipykernel)",
   "language": "python",
   "name": "python3"
  },
  "language_info": {
   "codemirror_mode": {
    "name": "ipython",
    "version": 3
   },
   "file_extension": ".py",
   "mimetype": "text/x-python",
   "name": "python",
   "nbconvert_exporter": "python",
   "pygments_lexer": "ipython3",
   "version": "3.9.7"
  }
 },
 "nbformat": 4,
 "nbformat_minor": 5
}
