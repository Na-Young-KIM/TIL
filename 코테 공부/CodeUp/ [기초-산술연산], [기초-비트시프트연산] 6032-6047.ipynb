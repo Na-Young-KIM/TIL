{
 "cells": [
  {
   "cell_type": "markdown",
   "id": "7ccf78e1-a5ad-4ba8-af76-bad517c53824",
   "metadata": {},
   "source": [
    "## 6032 : [기초-산술연산] 정수 1개 입력받아 부호 바꾸기"
   ]
  },
  {
   "cell_type": "code",
   "execution_count": 1,
   "id": "14f62cf7-cb6b-480d-9505-6bfe4cebeea7",
   "metadata": {},
   "outputs": [
    {
     "name": "stdin",
     "output_type": "stream",
     "text": [
      " 10\n"
     ]
    },
    {
     "name": "stdout",
     "output_type": "stream",
     "text": [
      "-10\n"
     ]
    }
   ],
   "source": [
    "a = int(input())\n",
    "print(-a)"
   ]
  },
  {
   "cell_type": "markdown",
   "id": "6ad1bc3a-34d8-4ff1-a5c0-dc52f5ec179a",
   "metadata": {},
   "source": [
    "## 6033 : [기초-산술연산] 문자 1개 입력받아 다음 문자 출력하기"
   ]
  },
  {
   "cell_type": "code",
   "execution_count": 14,
   "id": "34ad47a4-46a4-4597-8a73-fc829320b205",
   "metadata": {},
   "outputs": [
    {
     "name": "stdin",
     "output_type": "stream",
     "text": [
      " a\n"
     ]
    },
    {
     "name": "stdout",
     "output_type": "stream",
     "text": [
      "b\n"
     ]
    }
   ],
   "source": [
    "a = ord(input())\n",
    "print(chr(a+1))"
   ]
  },
  {
   "cell_type": "markdown",
   "id": "4cd15d2e-331f-42a9-8c6f-3e22f2ba84c9",
   "metadata": {},
   "source": [
    "## 6034 : [기초-산술연산] 정수 2개 입력받아 차 계산하기"
   ]
  },
  {
   "cell_type": "code",
   "execution_count": 15,
   "id": "01d1ed56-9468-464c-b669-9f4c692cc68c",
   "metadata": {},
   "outputs": [
    {
     "name": "stdin",
     "output_type": "stream",
     "text": [
      " 123 -123\n"
     ]
    },
    {
     "name": "stdout",
     "output_type": "stream",
     "text": [
      "246\n"
     ]
    }
   ],
   "source": [
    "a, b = map(int, input().split())\n",
    "print(a-b)"
   ]
  },
  {
   "cell_type": "markdown",
   "id": "062cde80-f70b-4d23-8df2-97cd97357aa9",
   "metadata": {},
   "source": [
    "## 6035 : [기초-산술연산] 실수 2개 입력받아 곱 계산하기"
   ]
  },
  {
   "cell_type": "code",
   "execution_count": 17,
   "id": "8af0da44-bc18-4f45-ae46-8d9c77fbffb2",
   "metadata": {},
   "outputs": [
    {
     "name": "stdin",
     "output_type": "stream",
     "text": [
      " 0.5 2.0\n"
     ]
    },
    {
     "name": "stdout",
     "output_type": "stream",
     "text": [
      "1.0\n"
     ]
    }
   ],
   "source": [
    "a, b = map(float, input().split())\n",
    "print(a*b)"
   ]
  },
  {
   "cell_type": "markdown",
   "id": "f39d4bf4-49c8-4476-9bd4-41215577190c",
   "metadata": {},
   "source": [
    "## 6036 : [기초-산술연산] 단어 여러 번 출력하기"
   ]
  },
  {
   "cell_type": "code",
   "execution_count": 18,
   "id": "3fe83a35-e82e-40a6-a692-797893a52c82",
   "metadata": {},
   "outputs": [
    {
     "name": "stdin",
     "output_type": "stream",
     "text": [
      " love 3\n"
     ]
    },
    {
     "name": "stdout",
     "output_type": "stream",
     "text": [
      "lovelovelove\n"
     ]
    }
   ],
   "source": [
    "s, n = input().split()\n",
    "n = int(n)\n",
    "\n",
    "print(s*n)"
   ]
  },
  {
   "cell_type": "markdown",
   "id": "b096ea17-ef2d-4b18-9d17-95ae1e9fd585",
   "metadata": {},
   "source": [
    "## 6037 : [기초-산술연산] 문장 여러 번 출력하기"
   ]
  },
  {
   "cell_type": "code",
   "execution_count": 19,
   "id": "44861463-d14a-4d3f-a462-4a2df98ffe8a",
   "metadata": {},
   "outputs": [
    {
     "name": "stdin",
     "output_type": "stream",
     "text": [
      " 3\n",
      " I love CS\n"
     ]
    },
    {
     "name": "stdout",
     "output_type": "stream",
     "text": [
      "I love CSI love CSI love CS\n"
     ]
    }
   ],
   "source": [
    "n = int(input())\n",
    "s = input()\n",
    "print(s*n)"
   ]
  },
  {
   "cell_type": "markdown",
   "id": "e3062dd1-1fcd-4bfa-8924-cf01309d8aae",
   "metadata": {},
   "source": [
    "## 6038 : [기초-산술연산] 정수 2개 입력받아 거듭제곱 계산하기"
   ]
  },
  {
   "cell_type": "code",
   "execution_count": 20,
   "id": "9f83cb68-ff3d-4cb1-8031-7d47822d6d56",
   "metadata": {},
   "outputs": [
    {
     "name": "stdin",
     "output_type": "stream",
     "text": [
      " 2 10\n"
     ]
    },
    {
     "name": "stdout",
     "output_type": "stream",
     "text": [
      "1024\n"
     ]
    }
   ],
   "source": [
    "a, b = map(int, input().split())\n",
    "print(a**b)"
   ]
  },
  {
   "cell_type": "markdown",
   "id": "797fe177-0cbb-4d05-9214-cc52cb0f8e1b",
   "metadata": {},
   "source": [
    "## 6039 : [기초-산술연산] 실수 2개 입력받아 거듭제곱 계산하기"
   ]
  },
  {
   "cell_type": "code",
   "execution_count": 21,
   "id": "2964f1c4-a86e-483a-88a8-5de1eed2d2f0",
   "metadata": {},
   "outputs": [
    {
     "name": "stdin",
     "output_type": "stream",
     "text": [
      " 4.0 2.0\n"
     ]
    },
    {
     "name": "stdout",
     "output_type": "stream",
     "text": [
      "16.0\n"
     ]
    }
   ],
   "source": [
    "a, b = map(float, input().split())\n",
    "print(a**b)"
   ]
  },
  {
   "cell_type": "markdown",
   "id": "b9823905-8477-4494-bdc3-31bd9bc60d9b",
   "metadata": {},
   "source": [
    "## 6040 : [기초-산술연산] 정수 2개 입력받아 나눈 몫 계산하기"
   ]
  },
  {
   "cell_type": "code",
   "execution_count": 24,
   "id": "3c142c44-2631-4c92-906c-5f3c2fdd03ae",
   "metadata": {},
   "outputs": [
    {
     "name": "stdin",
     "output_type": "stream",
     "text": [
      " 10 3\n"
     ]
    },
    {
     "name": "stdout",
     "output_type": "stream",
     "text": [
      "3\n"
     ]
    }
   ],
   "source": [
    "a, b = map(int, input().split())\n",
    "print(a//b)"
   ]
  },
  {
   "cell_type": "markdown",
   "id": "5ddb6016-aaf4-44f7-a47f-569ebc8049c0",
   "metadata": {},
   "source": [
    "## 6041 : [기초-산술연산] 정수 2개 입력받아 나눈 나머지 계산하기"
   ]
  },
  {
   "cell_type": "code",
   "execution_count": 25,
   "id": "faa98f75-cc5c-4772-88fd-565bae236ccc",
   "metadata": {},
   "outputs": [
    {
     "name": "stdin",
     "output_type": "stream",
     "text": [
      " 10 3\n"
     ]
    },
    {
     "name": "stdout",
     "output_type": "stream",
     "text": [
      "1\n"
     ]
    }
   ],
   "source": [
    "a, b = map(int, input().split())\n",
    "print(a%b)"
   ]
  },
  {
   "cell_type": "markdown",
   "id": "2b0f4250-184e-4170-9302-079d2029263a",
   "metadata": {},
   "source": [
    "## 6043 : [기초-산술연산] 실수 2개 입력받아 나눈 결과 계산하기"
   ]
  },
  {
   "cell_type": "code",
   "execution_count": 30,
   "id": "ac434e22-3bf5-40b1-ac48-939d009466d3",
   "metadata": {},
   "outputs": [
    {
     "name": "stdin",
     "output_type": "stream",
     "text": [
      " 10.0 3.0\n"
     ]
    },
    {
     "name": "stdout",
     "output_type": "stream",
     "text": [
      "3.333\n"
     ]
    }
   ],
   "source": [
    "a, b = map(float, input().split())\n",
    "print(f'{a/b:.3f}')"
   ]
  },
  {
   "cell_type": "markdown",
   "id": "7c15f2c8-e1e1-4616-9e82-43b73198f2c5",
   "metadata": {},
   "source": [
    "## 6044 : [기초-산술연산] 정수 2개 입력받아 자동 계산하기"
   ]
  },
  {
   "cell_type": "code",
   "execution_count": 31,
   "id": "210736fc-023e-4591-a21a-20c8097a3d0e",
   "metadata": {},
   "outputs": [
    {
     "name": "stdin",
     "output_type": "stream",
     "text": [
      " 10 3\n"
     ]
    },
    {
     "name": "stdout",
     "output_type": "stream",
     "text": [
      "13\n",
      "7\n",
      "30\n",
      "3\n",
      "1\n",
      "3.33\n"
     ]
    }
   ],
   "source": [
    "a, b = map(int, input().split())\n",
    "print(a+b)\n",
    "print(a-b)\n",
    "print(a*b)\n",
    "print(a//b)\n",
    "print(a%b)\n",
    "print(f'{a/b:.2f}')"
   ]
  },
  {
   "cell_type": "markdown",
   "id": "33f52e33-24ec-4b2d-bccc-99ceb08982ac",
   "metadata": {},
   "source": [
    "## 6045 : [기초-산술연산] 정수 3개 입력받아 합과 평균 출력하기"
   ]
  },
  {
   "cell_type": "code",
   "execution_count": 37,
   "id": "13d36aa0-d83c-4419-8789-5b8494e6caa2",
   "metadata": {},
   "outputs": [
    {
     "name": "stdin",
     "output_type": "stream",
     "text": [
      " 3 8 9\n"
     ]
    },
    {
     "name": "stdout",
     "output_type": "stream",
     "text": [
      "20 6.67\n"
     ]
    }
   ],
   "source": [
    "a, b, c = map(int, input().split())\n",
    "h = a+b+c\n",
    "m = h/3\n",
    "print(h, f'{m:.2f}')"
   ]
  },
  {
   "cell_type": "markdown",
   "id": "982ec6f4-934d-4791-abaa-b77ab38a9f62",
   "metadata": {},
   "source": [
    "## 6046 : [기초-비트시프트연산] 정수 1개 입력받아 2배 곱해 출력하기\n",
    "참고   \n",
    "*2 를 계산한 값을 출력해도 되지만,  \n",
    "정수를 2배로 곱하거나 나누어 계산해 주는 비트단위시프트연산자 <<, >>를 이용할 수 있다.  \n",
    "컴퓨터 내부에는 2진수 형태로 값들이 저장되기 때문에,  \n",
    "2진수 형태로 저장되어 있는 값들을 왼쪽(<<)이나 오른쪽(>>)으로 지정한 비트 수만큼 밀어주면 2배씩 늘어나거나 1/2로 줄어드는데,  \n",
    "  \n",
    "왼쪽 비트시프트(<<)가 될 때에는 오른쪽에 0이 주어진 개수만큼 추가되고,  \n",
    "오른쪽 비트시프트(>>)가 될 때에는 왼쪽에 0(0 또는 양의 정수인 경우)이나 1(음의 정수인 경우)이 개수만큼 추가되고,  \n",
    "가장 오른쪽에 있는 1비트는 사라진다.  \n",
    "\n",
    "예시  \n",
    "n = 10  \n",
    "print(n<<1)  #10을 2배 한 값인 20 이 출력된다.  \n",
    "print(n>>1)  #10을 반으로 나눈 값인 5 가 출력된다.  \n",
    "print(n<<2)  #10을 4배 한 값인 40 이 출력된다.  \n",
    "print(n>>2)  #10을 반으로 나눈 후 다시 반으로 나눈 값인 2 가 출력된다.  "
   ]
  },
  {
   "cell_type": "code",
   "execution_count": 42,
   "id": "db025f2c-495f-4181-80fb-170c38ff0a6d",
   "metadata": {},
   "outputs": [
    {
     "name": "stdin",
     "output_type": "stream",
     "text": [
      " 1024\n"
     ]
    },
    {
     "name": "stdout",
     "output_type": "stream",
     "text": [
      "2048\n",
      "2048\n"
     ]
    }
   ],
   "source": [
    "n = int(input())\n",
    "print(n*2)\n",
    "print(n<<1)"
   ]
  },
  {
   "cell_type": "markdown",
   "id": "1cd3fe10-50db-4b1d-a363-a147b2fa268a",
   "metadata": {},
   "source": [
    "## 6047 : [기초-비트시프트연산] 2의 거듭제곱 배로 곱해 출력하기"
   ]
  },
  {
   "cell_type": "code",
   "execution_count": 1,
   "id": "55659e20-0da4-49d7-81d9-5db9de8665f3",
   "metadata": {},
   "outputs": [
    {
     "name": "stdin",
     "output_type": "stream",
     "text": [
      " 1 3\n"
     ]
    },
    {
     "name": "stdout",
     "output_type": "stream",
     "text": [
      "8\n"
     ]
    }
   ],
   "source": [
    "a, b = map(int, input().split())\n",
    "print(a<<b)"
   ]
  }
 ],
 "metadata": {
  "kernelspec": {
   "display_name": "Python 3 (ipykernel)",
   "language": "python",
   "name": "python3"
  },
  "language_info": {
   "codemirror_mode": {
    "name": "ipython",
    "version": 3
   },
   "file_extension": ".py",
   "mimetype": "text/x-python",
   "name": "python",
   "nbconvert_exporter": "python",
   "pygments_lexer": "ipython3",
   "version": "3.9.7"
  }
 },
 "nbformat": 4,
 "nbformat_minor": 5
}
