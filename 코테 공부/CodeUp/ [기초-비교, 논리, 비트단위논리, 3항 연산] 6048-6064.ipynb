{
 "cells": [
  {
   "cell_type": "markdown",
   "id": "1e5684ca-d251-4032-9a34-9e8024f8bc30",
   "metadata": {},
   "source": [
    "## 6048 : [기초-비교연산] 정수 2개 입력받아 비교하기1"
   ]
  },
  {
   "cell_type": "code",
   "execution_count": 1,
   "id": "5b432207-c479-4460-b16f-2003c5f0c2fb",
   "metadata": {},
   "outputs": [
    {
     "name": "stdin",
     "output_type": "stream",
     "text": [
      " 1 9\n"
     ]
    },
    {
     "name": "stdout",
     "output_type": "stream",
     "text": [
      "True\n"
     ]
    }
   ],
   "source": [
    "a, b = map(int, input().split())\n",
    "print(a<b)"
   ]
  },
  {
   "cell_type": "markdown",
   "id": "977e553f-a476-4d3e-9800-6e03bf11751d",
   "metadata": {},
   "source": [
    "## 6049 : [기초-비교연산] 정수 2개 입력받아 비교하기2"
   ]
  },
  {
   "cell_type": "code",
   "execution_count": 4,
   "id": "d95fa38b-ea3e-4671-81e8-c45a9e864686",
   "metadata": {},
   "outputs": [
    {
     "name": "stdin",
     "output_type": "stream",
     "text": [
      " 0 1\n"
     ]
    },
    {
     "name": "stdout",
     "output_type": "stream",
     "text": [
      "False\n"
     ]
    }
   ],
   "source": [
    "a, b = map(int, input().split())\n",
    "print(a==b)"
   ]
  },
  {
   "cell_type": "markdown",
   "id": "dbc06594-d1ed-471c-ac67-f3f93db6de6b",
   "metadata": {},
   "source": [
    "## 6050 : [기초-비교연산] 정수 2개 입력받아 비교하기3"
   ]
  },
  {
   "cell_type": "code",
   "execution_count": 5,
   "id": "284a2ff8-7bff-44c6-9f80-8c4e72315b51",
   "metadata": {},
   "outputs": [
    {
     "name": "stdin",
     "output_type": "stream",
     "text": [
      " 0 -1\n"
     ]
    },
    {
     "name": "stdout",
     "output_type": "stream",
     "text": [
      "False\n"
     ]
    }
   ],
   "source": [
    "a, b = map(int, input().split())\n",
    "print(a<=b)"
   ]
  },
  {
   "cell_type": "markdown",
   "id": "168bf64e-9b2a-45ab-9991-844cb480493c",
   "metadata": {},
   "source": [
    "## 6051 : [기초-비교연산] 정수 2개 입력받아 비교하기4"
   ]
  },
  {
   "cell_type": "code",
   "execution_count": 6,
   "id": "8775bbcc-e0a1-4d2e-957f-d209002c2f41",
   "metadata": {},
   "outputs": [
    {
     "name": "stdin",
     "output_type": "stream",
     "text": [
      " 0 1\n"
     ]
    },
    {
     "name": "stdout",
     "output_type": "stream",
     "text": [
      "True\n"
     ]
    }
   ],
   "source": [
    "a, b = map(int, input().split())\n",
    "print(a!=b)"
   ]
  },
  {
   "cell_type": "markdown",
   "id": "0b4296f4-8ec4-4892-904a-903a8a10320d",
   "metadata": {},
   "source": [
    "## 6052 : [기초-논리연산] 정수 입력받아 참 거짓 평가하기"
   ]
  },
  {
   "cell_type": "code",
   "execution_count": 8,
   "id": "9ec72058-05d9-4329-b89c-d66732a15c7f",
   "metadata": {},
   "outputs": [
    {
     "name": "stdin",
     "output_type": "stream",
     "text": [
      " 1\n"
     ]
    },
    {
     "name": "stdout",
     "output_type": "stream",
     "text": [
      "True\n"
     ]
    }
   ],
   "source": [
    "n = int(input())\n",
    "print(n!=0)"
   ]
  },
  {
   "cell_type": "markdown",
   "id": "005f6264-1d11-4904-92d0-07c0cb8f3609",
   "metadata": {},
   "source": [
    "## 6053 : [기초-논리연산] 참 거짓 바꾸기"
   ]
  },
  {
   "cell_type": "code",
   "execution_count": 11,
   "id": "cfd94702-86a4-42d5-b09a-a261eb6bf17a",
   "metadata": {},
   "outputs": [
    {
     "name": "stdin",
     "output_type": "stream",
     "text": [
      " 1\n"
     ]
    },
    {
     "name": "stdout",
     "output_type": "stream",
     "text": [
      "False\n"
     ]
    }
   ],
   "source": [
    "n = bool(int(input()))\n",
    "print(not n)"
   ]
  },
  {
   "cell_type": "markdown",
   "id": "76a9ef6d-fdd1-4623-8f70-ed3403669999",
   "metadata": {},
   "source": [
    "## 6054 : [기초-논리연산] 둘 다 참일 경우만 참 출력하기"
   ]
  },
  {
   "cell_type": "code",
   "execution_count": 15,
   "id": "a8c319c8-a333-4192-8f9e-34acd6ba6ed1",
   "metadata": {},
   "outputs": [
    {
     "name": "stdin",
     "output_type": "stream",
     "text": [
      " 1 1\n"
     ]
    },
    {
     "name": "stdout",
     "output_type": "stream",
     "text": [
      "True\n"
     ]
    }
   ],
   "source": [
    "a, b = map(bool, map(int, input().split()))\n",
    "print(a and b)"
   ]
  },
  {
   "cell_type": "markdown",
   "id": "022a1bba-0ce1-4e78-ab9d-af0db3cbcf03",
   "metadata": {},
   "source": [
    "## 6055 : [기초-논리연산] 하나라도 참이면 참 출력하기"
   ]
  },
  {
   "cell_type": "code",
   "execution_count": 16,
   "id": "b11ec030-2ecd-4d03-b97d-df4c6daf8b81",
   "metadata": {},
   "outputs": [
    {
     "name": "stdin",
     "output_type": "stream",
     "text": [
      " 1 0\n"
     ]
    },
    {
     "name": "stdout",
     "output_type": "stream",
     "text": [
      "True\n"
     ]
    }
   ],
   "source": [
    "a, b = map(bool, map(int, input().split()))\n",
    "print(a or b)"
   ]
  },
  {
   "cell_type": "markdown",
   "id": "23d64708-060d-4415-854f-ba5547637191",
   "metadata": {},
   "source": [
    "## 6056 : [기초-논리연산] 참/거짓이 서로 다를 때에만 참 출력하기"
   ]
  },
  {
   "cell_type": "code",
   "execution_count": 20,
   "id": "1896059e-e766-4b27-ae04-c129f0f7fd19",
   "metadata": {},
   "outputs": [
    {
     "name": "stdin",
     "output_type": "stream",
     "text": [
      " 0 1\n"
     ]
    },
    {
     "name": "stdout",
     "output_type": "stream",
     "text": [
      "True\n"
     ]
    }
   ],
   "source": [
    "a, b = map(bool, map(int, input().split()))\n",
    "print(a!=b)"
   ]
  },
  {
   "cell_type": "markdown",
   "id": "564e275f-c4d7-4b83-b5c6-704df9051d90",
   "metadata": {},
   "source": [
    "## 6057 : [기초-논리연산] 참/거짓이 서로 같을 때에만 참 출력하기"
   ]
  },
  {
   "cell_type": "code",
   "execution_count": 23,
   "id": "220b9939-3cb1-4279-b371-b5947e4bc118",
   "metadata": {},
   "outputs": [
    {
     "name": "stdin",
     "output_type": "stream",
     "text": [
      " 1 0\n"
     ]
    },
    {
     "name": "stdout",
     "output_type": "stream",
     "text": [
      "False\n"
     ]
    }
   ],
   "source": [
    "a, b = map(bool, map(int, input().split()))\n",
    "print(a==b)"
   ]
  },
  {
   "cell_type": "markdown",
   "id": "6e608926-5f0a-4452-8dd5-abcc4c168d42",
   "metadata": {},
   "source": [
    "## 6058 : [기초-논리연산] 둘 다 거짓일 경우만 참 출력하기"
   ]
  },
  {
   "cell_type": "code",
   "execution_count": 28,
   "id": "c0e7bcb5-bb1a-48a1-8975-83e84d5f164c",
   "metadata": {},
   "outputs": [
    {
     "name": "stdin",
     "output_type": "stream",
     "text": [
      " 0 1\n"
     ]
    },
    {
     "name": "stdout",
     "output_type": "stream",
     "text": [
      "False\n"
     ]
    }
   ],
   "source": [
    "a, b = map(bool, map(int, input().split()))\n",
    "print(not a and not b)"
   ]
  },
  {
   "cell_type": "markdown",
   "id": "152c517a-ec74-45c5-89b8-489ef97bf8d6",
   "metadata": {},
   "source": [
    "## 6059 : [기초-비트단위논리연산] 비트단위로 NOT 하여 출력하기"
   ]
  },
  {
   "cell_type": "code",
   "execution_count": 30,
   "id": "6a20981d-f064-4f50-94a9-a425616e3199",
   "metadata": {},
   "outputs": [
    {
     "name": "stdin",
     "output_type": "stream",
     "text": [
      " 2\n"
     ]
    },
    {
     "name": "stdout",
     "output_type": "stream",
     "text": [
      "-3\n"
     ]
    }
   ],
   "source": [
    "n = int(input())\n",
    "print(~n)"
   ]
  },
  {
   "cell_type": "markdown",
   "id": "ea4fe736-87c1-4c3d-be70-9e2a42f199b8",
   "metadata": {},
   "source": [
    "## 6060 : [기초-비트단위논리연산] 비트단위로 AND 하여 출력하기"
   ]
  },
  {
   "cell_type": "code",
   "execution_count": 40,
   "id": "ffa31dfb-bfa3-4ef4-9166-c612259b1338",
   "metadata": {},
   "outputs": [
    {
     "name": "stdin",
     "output_type": "stream",
     "text": [
      " 3 5\n"
     ]
    },
    {
     "name": "stdout",
     "output_type": "stream",
     "text": [
      "1\n"
     ]
    }
   ],
   "source": [
    "a, b = map(int, input().split())\n",
    "print(a&b)"
   ]
  },
  {
   "cell_type": "markdown",
   "id": "dfa6a767-8a9b-4cd1-93e6-c4c8d5e0c274",
   "metadata": {},
   "source": [
    "## 6061 : [기초-비트단위논리연산] 비트단위로 OR 하여 출력하기"
   ]
  },
  {
   "cell_type": "code",
   "execution_count": 41,
   "id": "3fb746ab-9393-427b-b8e0-7d75432bb346",
   "metadata": {},
   "outputs": [
    {
     "name": "stdin",
     "output_type": "stream",
     "text": [
      " 3 5\n"
     ]
    },
    {
     "name": "stdout",
     "output_type": "stream",
     "text": [
      "7\n"
     ]
    }
   ],
   "source": [
    "a, b = map(int, input().split())\n",
    "print(a|b)"
   ]
  },
  {
   "cell_type": "markdown",
   "id": "5d706c9f-ccb4-4085-87fe-de1d5b274907",
   "metadata": {},
   "source": [
    "## 6062 : [기초-비트단위논리연산] 비트단위로 XOR 하여 출력하기"
   ]
  },
  {
   "cell_type": "code",
   "execution_count": 42,
   "id": "2d8f7488-a109-4b83-9c29-dd6abdc3ecb1",
   "metadata": {},
   "outputs": [
    {
     "name": "stdin",
     "output_type": "stream",
     "text": [
      " 3 5\n"
     ]
    },
    {
     "name": "stdout",
     "output_type": "stream",
     "text": [
      "6\n"
     ]
    }
   ],
   "source": [
    "a, b = map(int, input().split())\n",
    "print(a^b)"
   ]
  },
  {
   "cell_type": "markdown",
   "id": "f2e0bd45-720c-4506-8939-c3747d00a591",
   "metadata": {},
   "source": [
    "## 6063 : [기초-3항연산] 정수 2개 입력받아 큰 값 출력하기"
   ]
  },
  {
   "cell_type": "code",
   "execution_count": 43,
   "id": "a7aa42ee-0413-40d0-a167-c25178fea527",
   "metadata": {},
   "outputs": [
    {
     "name": "stdin",
     "output_type": "stream",
     "text": [
      " 123 456\n"
     ]
    },
    {
     "name": "stdout",
     "output_type": "stream",
     "text": [
      "456\n"
     ]
    }
   ],
   "source": [
    "a, b = map(int, input().split())\n",
    "if a<=b :\n",
    "    print(b)\n",
    "else :\n",
    "    print(a)"
   ]
  },
  {
   "cell_type": "code",
   "execution_count": 45,
   "id": "c057fa41-5d4d-4740-b811-ce6ef14bac26",
   "metadata": {},
   "outputs": [
    {
     "name": "stdin",
     "output_type": "stream",
     "text": [
      " 456 123\n"
     ]
    },
    {
     "name": "stdout",
     "output_type": "stream",
     "text": [
      "456\n"
     ]
    }
   ],
   "source": [
    "a, b = map(int, input().split())\n",
    "print(b if a<=b else a)"
   ]
  },
  {
   "cell_type": "markdown",
   "id": "b1ed61de-bd27-4ce2-ace8-841946aba5bd",
   "metadata": {},
   "source": [
    "## 6064 : [기초-3항연산] 정수 3개 입력받아 가장 작은 값 출력하기"
   ]
  },
  {
   "cell_type": "code",
   "execution_count": 48,
   "id": "436fd5e0-77c0-4711-98eb-1944b450c911",
   "metadata": {},
   "outputs": [
    {
     "name": "stdin",
     "output_type": "stream",
     "text": [
      " 2 1 9\n"
     ]
    },
    {
     "name": "stdout",
     "output_type": "stream",
     "text": [
      "1\n"
     ]
    }
   ],
   "source": [
    "a, b, c = map(int, input().split())\n",
    "if a<=b :\n",
    "    if a<=c : \n",
    "        print(a)\n",
    "    else :\n",
    "        print(c)\n",
    "else :\n",
    "    if b<=c :\n",
    "        print(b)\n",
    "    else :\n",
    "        print(c)"
   ]
  },
  {
   "cell_type": "code",
   "execution_count": 61,
   "id": "d9f53763-bf23-41b8-99db-a578ba02a57d",
   "metadata": {},
   "outputs": [
    {
     "name": "stdin",
     "output_type": "stream",
     "text": [
      " 3 2 1\n"
     ]
    },
    {
     "name": "stdout",
     "output_type": "stream",
     "text": [
      "1\n"
     ]
    }
   ],
   "source": [
    "a, b, c = map(int, input().split())\n",
    "print((a if a<=c else c) if (a<=b) else (b if b<=c else c))"
   ]
  }
 ],
 "metadata": {
  "kernelspec": {
   "display_name": "Python 3 (ipykernel)",
   "language": "python",
   "name": "python3"
  },
  "language_info": {
   "codemirror_mode": {
    "name": "ipython",
    "version": 3
   },
   "file_extension": ".py",
   "mimetype": "text/x-python",
   "name": "python",
   "nbconvert_exporter": "python",
   "pygments_lexer": "ipython3",
   "version": "3.9.7"
  }
 },
 "nbformat": 4,
 "nbformat_minor": 5
}
