{
 "cells": [
  {
   "cell_type": "markdown",
   "id": "4c9aa237-3d7c-4de7-b8b2-55ac490c4d45",
   "metadata": {},
   "source": [
    "## 6077 : [기초-종합] 짝수 합 구하기"
   ]
  },
  {
   "cell_type": "code",
   "execution_count": 7,
   "id": "d53a3b78-a907-49d5-876b-4b5d71dc3c01",
   "metadata": {},
   "outputs": [
    {
     "name": "stdin",
     "output_type": "stream",
     "text": [
      " 6\n"
     ]
    },
    {
     "name": "stdout",
     "output_type": "stream",
     "text": [
      "12\n"
     ]
    }
   ],
   "source": [
    "n = int(input())\n",
    "hap = 0\n",
    "\n",
    "for i in range(1, n+1):\n",
    "    if i%2==0:\n",
    "        hap += i\n",
    "\n",
    "print(hap)"
   ]
  },
  {
   "cell_type": "markdown",
   "id": "bcd92ea6-9655-4a7d-ba28-203d22696f54",
   "metadata": {},
   "source": [
    "## 6078 : [기초-종합] 원하는 문자가 입력될 때까지 반복 출력하기"
   ]
  },
  {
   "cell_type": "code",
   "execution_count": 4,
   "id": "95693a25-9257-4761-b2af-878c6fd8389f",
   "metadata": {},
   "outputs": [
    {
     "name": "stdin",
     "output_type": "stream",
     "text": [
      " s\n"
     ]
    },
    {
     "name": "stdout",
     "output_type": "stream",
     "text": [
      "s\n"
     ]
    },
    {
     "name": "stdin",
     "output_type": "stream",
     "text": [
      " f\n"
     ]
    },
    {
     "name": "stdout",
     "output_type": "stream",
     "text": [
      "f\n"
     ]
    },
    {
     "name": "stdin",
     "output_type": "stream",
     "text": [
      " q\n"
     ]
    },
    {
     "name": "stdout",
     "output_type": "stream",
     "text": [
      "q\n"
     ]
    }
   ],
   "source": [
    "while True:\n",
    "    s = input()\n",
    "    print(s)\n",
    "    if s=='q':\n",
    "        break"
   ]
  },
  {
   "cell_type": "markdown",
   "id": "7d45773d-90e2-4ee1-8753-e692d2325c43",
   "metadata": {},
   "source": [
    "## 6079 : [기초-종합] 언제까지 더해야 할까?"
   ]
  },
  {
   "cell_type": "code",
   "execution_count": 12,
   "id": "45930c6e-7c55-4beb-b755-916c1989ba19",
   "metadata": {},
   "outputs": [
    {
     "name": "stdin",
     "output_type": "stream",
     "text": [
      " 55\n"
     ]
    },
    {
     "name": "stdout",
     "output_type": "stream",
     "text": [
      "10\n"
     ]
    }
   ],
   "source": [
    "hap = int(input())\n",
    "n = 1\n",
    "a = 0\n",
    "\n",
    "while a<hap:\n",
    "    a += n\n",
    "    n += 1\n",
    "\n",
    "print(n-1)"
   ]
  },
  {
   "cell_type": "markdown",
   "id": "daafef5a-4fde-4ba6-91bd-9d3451444f69",
   "metadata": {},
   "source": [
    "## 6080 : [기초-종합] 주사위 2개 던지기"
   ]
  },
  {
   "cell_type": "code",
   "execution_count": 15,
   "id": "22333224-3d73-435e-a021-a13ef30085b0",
   "metadata": {},
   "outputs": [
    {
     "name": "stdin",
     "output_type": "stream",
     "text": [
      " 2 3\n"
     ]
    },
    {
     "name": "stdout",
     "output_type": "stream",
     "text": [
      "1 1\n",
      "1 2\n",
      "1 3\n",
      "2 1\n",
      "2 2\n",
      "2 3\n"
     ]
    }
   ],
   "source": [
    "a, b = map(int, input().split())\n",
    "for i in range(1, a+1):\n",
    "    for j in range(1, b+1):\n",
    "        print(i, j)"
   ]
  },
  {
   "cell_type": "markdown",
   "id": "e6c0b7a8-cd87-43ca-835c-2981cc2f4989",
   "metadata": {},
   "source": [
    "## 6081 : [기초-종합] 16진수 구구단 출력하기"
   ]
  },
  {
   "cell_type": "code",
   "execution_count": 54,
   "id": "c6098e1d-6670-4a30-a2d8-b175d8fe24cf",
   "metadata": {},
   "outputs": [
    {
     "name": "stdin",
     "output_type": "stream",
     "text": [
      " B\n"
     ]
    },
    {
     "name": "stdout",
     "output_type": "stream",
     "text": [
      "B*1=B\n",
      "B*2=16\n",
      "B*3=21\n",
      "B*4=2C\n",
      "B*5=37\n",
      "B*6=42\n",
      "B*7=4D\n",
      "B*8=58\n",
      "B*9=63\n",
      "B*A=6E\n",
      "B*B=79\n",
      "B*C=84\n",
      "B*D=8F\n",
      "B*E=9A\n",
      "B*F=A5\n"
     ]
    }
   ],
   "source": [
    "n = input()\n",
    "\n",
    "for i in range(1, 16):\n",
    "    print(f'{n}*{i:X}={int(n, 16)*i:X}')"
   ]
  },
  {
   "cell_type": "markdown",
   "id": "12378ee1-d141-45af-83c5-10e432c01d2e",
   "metadata": {},
   "source": [
    "## 6082 : [기초-종합] 3 6 9 게임의 왕이 되자"
   ]
  },
  {
   "cell_type": "code",
   "execution_count": 70,
   "id": "ff86ed65-5ae3-4fcc-a3ce-615d1cf28ec6",
   "metadata": {},
   "outputs": [
    {
     "name": "stdin",
     "output_type": "stream",
     "text": [
      " 29\n"
     ]
    },
    {
     "name": "stdout",
     "output_type": "stream",
     "text": [
      "1 2 X 4 5 X 7 8 X 10 11 12 X 14 15 X 17 18 X 20 21 22 X 24 25 X 27 28 X "
     ]
    }
   ],
   "source": [
    "n = int(input())\n",
    "for i in range(1, n+1):\n",
    "    if i%10==3 or i%10==6 or i%10==9:\n",
    "        print('X', end=' ')\n",
    "    else: \n",
    "        print(i, end=' ')"
   ]
  },
  {
   "cell_type": "markdown",
   "id": "5ed3bd2f-7081-4ed4-8a1e-7034202e9a0c",
   "metadata": {},
   "source": [
    "## 6083 : [기초-종합] 빛 섞어 색 만들기"
   ]
  },
  {
   "cell_type": "code",
   "execution_count": 74,
   "id": "0b5a428e-215b-41c2-b479-dffe5c73b256",
   "metadata": {},
   "outputs": [
    {
     "name": "stdin",
     "output_type": "stream",
     "text": [
      " 2 2 2\n"
     ]
    },
    {
     "name": "stdout",
     "output_type": "stream",
     "text": [
      "0 0 0\n",
      "0 0 1\n",
      "0 1 0\n",
      "0 1 1\n",
      "1 0 0\n",
      "1 0 1\n",
      "1 1 0\n",
      "1 1 1\n",
      "8\n"
     ]
    }
   ],
   "source": [
    "a, b, c = map(int, input().split())\n",
    "for i in range(a):\n",
    "    for j in range(b):\n",
    "        for k in range(c):\n",
    "            print(i, j, k)\n",
    "\n",
    "print(a*b*c)"
   ]
  },
  {
   "cell_type": "markdown",
   "id": "48e12dfa-3ad0-41dc-adc7-35339fd3179e",
   "metadata": {},
   "source": [
    "## 6084 : [기초-종합] 소리 파일 저장용량 계산하기"
   ]
  },
  {
   "cell_type": "code",
   "execution_count": 80,
   "id": "3eba6596-2c84-49ae-9f57-529b44b94f31",
   "metadata": {},
   "outputs": [
    {
     "name": "stdin",
     "output_type": "stream",
     "text": [
      " 44100 16 2 10\n"
     ]
    },
    {
     "name": "stdout",
     "output_type": "stream",
     "text": [
      "1.7 MB\n"
     ]
    }
   ],
   "source": [
    "h, b, c, s = map(int, input().split())\n",
    "print(f'{h*b*c*s/8/1024/1024:.1f} MB')"
   ]
  },
  {
   "cell_type": "markdown",
   "id": "2fb93c2d-9a7a-4614-bded-615224681ab6",
   "metadata": {},
   "source": [
    "## 6085 : [기초-종합] 그림 파일 저장용량 계산하기"
   ]
  },
  {
   "cell_type": "code",
   "execution_count": 82,
   "id": "e4d0ce1a-3f48-4da7-9d2d-378e1e796c8b",
   "metadata": {},
   "outputs": [
    {
     "name": "stdin",
     "output_type": "stream",
     "text": [
      " 1024 768 24\n"
     ]
    },
    {
     "name": "stdout",
     "output_type": "stream",
     "text": [
      "2.25 MB\n"
     ]
    }
   ],
   "source": [
    "w, h, b = map(int, input().split())\n",
    "print(f'{w*h*b/8/1024/1024:.2f} MB') "
   ]
  },
  {
   "cell_type": "markdown",
   "id": "51adbc10-95cd-4da4-bc15-524489f38b96",
   "metadata": {},
   "source": [
    "## 6086 : [기초-종합] 거기까지! 이제 그만~"
   ]
  },
  {
   "cell_type": "code",
   "execution_count": 87,
   "id": "36e0f629-ee14-4409-9a4e-8931dd288ca4",
   "metadata": {},
   "outputs": [
    {
     "name": "stdin",
     "output_type": "stream",
     "text": [
      " 57\n"
     ]
    },
    {
     "name": "stdout",
     "output_type": "stream",
     "text": [
      "66\n"
     ]
    }
   ],
   "source": [
    "n = int(input())\n",
    "a = 1\n",
    "hap = 0\n",
    "while hap<n:\n",
    "    hap += a\n",
    "    a += 1\n",
    "print(hap)"
   ]
  },
  {
   "cell_type": "markdown",
   "id": "7d38e2a8-d568-44ef-b0c3-2fed793613a2",
   "metadata": {},
   "source": [
    "## 6087 : [기초-종합] 3의 배수는 통과"
   ]
  },
  {
   "cell_type": "code",
   "execution_count": 90,
   "id": "0acae70a-5fd7-481b-aacd-3712487146ed",
   "metadata": {},
   "outputs": [
    {
     "name": "stdin",
     "output_type": "stream",
     "text": [
      " 10\n"
     ]
    },
    {
     "name": "stdout",
     "output_type": "stream",
     "text": [
      "1 2 4 5 7 8 10 "
     ]
    }
   ],
   "source": [
    "n = int(input())\n",
    "for i in range(1, n+1):\n",
    "    if i%3==0:\n",
    "        continue\n",
    "    else:\n",
    "        print(i, end=' ')"
   ]
  },
  {
   "cell_type": "markdown",
   "id": "ca2f7b78-bc89-4a9e-8706-d05dacb8583c",
   "metadata": {},
   "source": [
    "## 6088 : [기초-종합] 수 나열하기1"
   ]
  },
  {
   "cell_type": "code",
   "execution_count": 91,
   "id": "ea8838e0-c30e-4aab-8b0a-c086bd092214",
   "metadata": {},
   "outputs": [
    {
     "name": "stdin",
     "output_type": "stream",
     "text": [
      " 1 3 5\n"
     ]
    },
    {
     "name": "stdout",
     "output_type": "stream",
     "text": [
      "13\n"
     ]
    }
   ],
   "source": [
    "a, d, n = map(int, input().split())\n",
    "print(a+d*(n-1))"
   ]
  },
  {
   "cell_type": "markdown",
   "id": "f8f18327-8616-40a4-8edb-dd7f8753b0bd",
   "metadata": {
    "tags": []
   },
   "source": [
    "## 6089 : [기초-종합] 수 나열하기2"
   ]
  },
  {
   "cell_type": "code",
   "execution_count": 93,
   "id": "4aac1df2-4426-4a06-8158-5b44a69b87aa",
   "metadata": {},
   "outputs": [
    {
     "name": "stdin",
     "output_type": "stream",
     "text": [
      " 2 3 7\n"
     ]
    },
    {
     "name": "stdout",
     "output_type": "stream",
     "text": [
      "1458\n"
     ]
    }
   ],
   "source": [
    "a, r, n = map(int, input().split())\n",
    "print(a*r**(n-1))"
   ]
  },
  {
   "cell_type": "markdown",
   "id": "afbba798-91a9-409a-9279-105b520af1d5",
   "metadata": {},
   "source": [
    "## 6090 : [기초-종합] 수 나열하기3"
   ]
  },
  {
   "cell_type": "code",
   "execution_count": 99,
   "id": "08e8b927-1ecd-473a-b112-fd5be74612f7",
   "metadata": {},
   "outputs": [
    {
     "name": "stdin",
     "output_type": "stream",
     "text": [
      " 1 -2 1 8\n"
     ]
    },
    {
     "name": "stdout",
     "output_type": "stream",
     "text": [
      "-85\n"
     ]
    }
   ],
   "source": [
    "a, m, d, n = map(int, input().split())\n",
    "hap = 0\n",
    "for i in range(n-1):\n",
    "    a = a*m+d\n",
    "print(a)"
   ]
  },
  {
   "cell_type": "markdown",
   "id": "a40b07b8-e83f-4e62-ae7c-95af93cb73b8",
   "metadata": {},
   "source": [
    "## 6091 : [기초-종합] 함께 문제 푸는 날"
   ]
  },
  {
   "cell_type": "code",
   "execution_count": 101,
   "id": "d1c6a336-8482-496f-80c3-70efa95680d4",
   "metadata": {},
   "outputs": [
    {
     "name": "stdin",
     "output_type": "stream",
     "text": [
      " 3 7 9\n"
     ]
    },
    {
     "name": "stdout",
     "output_type": "stream",
     "text": [
      "63\n"
     ]
    }
   ],
   "source": [
    "a, b, c = map(int, input().split())\n",
    "d = 1\n",
    "while True:\n",
    "    if (d%a==0) and (d%b==0) and (d%c==0):\n",
    "        print(d)\n",
    "        break\n",
    "    d += 1"
   ]
  }
 ],
 "metadata": {
  "kernelspec": {
   "display_name": "Python 3 (ipykernel)",
   "language": "python",
   "name": "python3"
  },
  "language_info": {
   "codemirror_mode": {
    "name": "ipython",
    "version": 3
   },
   "file_extension": ".py",
   "mimetype": "text/x-python",
   "name": "python",
   "nbconvert_exporter": "python",
   "pygments_lexer": "ipython3",
   "version": "3.9.7"
  }
 },
 "nbformat": 4,
 "nbformat_minor": 5
}
