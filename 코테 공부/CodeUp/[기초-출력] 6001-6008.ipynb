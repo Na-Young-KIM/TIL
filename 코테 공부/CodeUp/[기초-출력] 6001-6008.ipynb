{
 "cells": [
  {
   "cell_type": "markdown",
   "id": "0234560b-c26b-4897-a92e-c6cd356771d6",
   "metadata": {},
   "source": [
    "## 6001 : [기초-출력] 출력하기01"
   ]
  },
  {
   "cell_type": "code",
   "execution_count": 1,
   "id": "07b85822-b802-4be9-bfcf-e0d70ef5a73a",
   "metadata": {},
   "outputs": [
    {
     "name": "stdout",
     "output_type": "stream",
     "text": [
      "Hello\n"
     ]
    }
   ],
   "source": [
    "print(\"Hello\")"
   ]
  },
  {
   "cell_type": "markdown",
   "id": "8d594e95-76b7-45f5-99c7-538385f39dc2",
   "metadata": {},
   "source": [
    "## 6002 : [기초-출력] 출력하기02"
   ]
  },
  {
   "cell_type": "code",
   "execution_count": 2,
   "id": "35eadf23-c60e-4494-927a-cc4951340603",
   "metadata": {},
   "outputs": [
    {
     "name": "stdout",
     "output_type": "stream",
     "text": [
      "Hello World\n"
     ]
    }
   ],
   "source": [
    "print(\"Hello World\")"
   ]
  },
  {
   "cell_type": "markdown",
   "id": "27acb907-89c1-4af3-a8e9-c3ef48738f2e",
   "metadata": {},
   "source": [
    "## 6003 : [기초-출력] 출력하기03"
   ]
  },
  {
   "cell_type": "code",
   "execution_count": 3,
   "id": "1eb3d3d6-a13d-44ba-a937-b265fd94b3ab",
   "metadata": {},
   "outputs": [
    {
     "name": "stdout",
     "output_type": "stream",
     "text": [
      "Hello\n",
      "World\n"
     ]
    }
   ],
   "source": [
    "print(\"Hello\") \n",
    "print(\"World\")"
   ]
  },
  {
   "cell_type": "markdown",
   "id": "20ea3616-db5e-4043-a811-99e8cfd7b67e",
   "metadata": {},
   "source": [
    "## 6004 : [기초-출력] 출력하기04"
   ]
  },
  {
   "cell_type": "code",
   "execution_count": 4,
   "id": "21618041-c57b-432f-9d9e-5d7ac0ebcff7",
   "metadata": {},
   "outputs": [
    {
     "name": "stdout",
     "output_type": "stream",
     "text": [
      "'Hello'\n"
     ]
    }
   ],
   "source": [
    "print(\"'Hello'\")"
   ]
  },
  {
   "cell_type": "markdown",
   "id": "f1dca03d-f8f5-4039-badd-6e21787e32cf",
   "metadata": {},
   "source": [
    "## 6005 : [기초-출력] 출력하기05"
   ]
  },
  {
   "cell_type": "code",
   "execution_count": 5,
   "id": "b5791a42-bef4-4b62-ab49-4e2429f418a7",
   "metadata": {},
   "outputs": [
    {
     "name": "stdout",
     "output_type": "stream",
     "text": [
      "\"Hello World\"\n"
     ]
    }
   ],
   "source": [
    "print('\"Hello World\"')"
   ]
  },
  {
   "cell_type": "markdown",
   "id": "04946bba-cba2-4aac-8b56-6cd38a3785f5",
   "metadata": {},
   "source": [
    "## 6006 : [기초-출력] 출력하기06"
   ]
  },
  {
   "cell_type": "code",
   "execution_count": 9,
   "id": "1009e1d8-46ce-4ac4-a26b-bd833d7467ae",
   "metadata": {},
   "outputs": [
    {
     "name": "stdout",
     "output_type": "stream",
     "text": [
      "\"!@#$%^&*()'\n"
     ]
    }
   ],
   "source": [
    "print(\"\\\"!@#$%^&*()\\'\")"
   ]
  },
  {
   "cell_type": "markdown",
   "id": "605dbaf1-e333-4c03-a4e8-b5f1b28543b0",
   "metadata": {},
   "source": [
    "## 6007 : [기초-출력] 출력하기07"
   ]
  },
  {
   "cell_type": "code",
   "execution_count": 16,
   "id": "99a715c7-e4b1-45ae-8d3a-3873d9ca8086",
   "metadata": {},
   "outputs": [
    {
     "name": "stdout",
     "output_type": "stream",
     "text": [
      "\"C:\\Download\\'hello'.py\"\n"
     ]
    }
   ],
   "source": [
    "print(\"\\\"C:\\\\Download\\\\\\'hello'.py\\\"\")"
   ]
  },
  {
   "cell_type": "markdown",
   "id": "08cce4a0-a0c9-44d5-8c92-63073228df4e",
   "metadata": {},
   "source": [
    "## 6008 : [기초-출력] 출력하기08"
   ]
  },
  {
   "cell_type": "code",
   "execution_count": 25,
   "id": "f29f849b-20ac-447e-925c-b35adcafb555",
   "metadata": {},
   "outputs": [
    {
     "name": "stdout",
     "output_type": "stream",
     "text": [
      "print(\"Hello\\nWorld\")\n"
     ]
    }
   ],
   "source": [
    "print(\"print(\\\"Hello\\\\nWorld\\\")\")"
   ]
  }
 ],
 "metadata": {
  "kernelspec": {
   "display_name": "Python 3 (ipykernel)",
   "language": "python",
   "name": "python3"
  },
  "language_info": {
   "codemirror_mode": {
    "name": "ipython",
    "version": 3
   },
   "file_extension": ".py",
   "mimetype": "text/x-python",
   "name": "python",
   "nbconvert_exporter": "python",
   "pygments_lexer": "ipython3",
   "version": "3.9.7"
  }
 },
 "nbformat": 4,
 "nbformat_minor": 5
}
