{
 "cells": [
  {
   "cell_type": "markdown",
   "id": "188da03d-901b-4c82-b404-31c575edce48",
   "metadata": {},
   "source": [
    "## 6092 : [기초-리스트] 이상한 출석 번호 부르기1("
   ]
  },
  {
   "cell_type": "code",
   "execution_count": 11,
   "id": "6127c215-17f3-43d3-bf46-3e166173fae3",
   "metadata": {},
   "outputs": [
    {
     "name": "stdin",
     "output_type": "stream",
     "text": [
      " 10\n",
      " 1 3 2 2 5 6 7 4 5 9\n"
     ]
    },
    {
     "name": "stdout",
     "output_type": "stream",
     "text": [
      "1 2 1 1 2 1 1 0 1 0 0 0 0 0 0 0 0 0 0 0 0 0 0 "
     ]
    }
   ],
   "source": [
    "n = int(input())\n",
    "a = list(map(int, input().split()))\n",
    "b = [0]*23\n",
    "\n",
    "for i in range(n):\n",
    "    b[a[i]-1] += 1\n",
    "    \n",
    "for i in b:\n",
    "    print(i, end=' ')"
   ]
  },
  {
   "cell_type": "markdown",
   "id": "52bb4925-c017-45b4-baca-5be7dad99d9a",
   "metadata": {},
   "source": [
    "## 6093 : [기초-리스트] 이상한 출석 번호 부르기2"
   ]
  },
  {
   "cell_type": "code",
   "execution_count": 16,
   "id": "e6c334be-75ad-4c90-9de2-9fdf7c3d3c5c",
   "metadata": {},
   "outputs": [
    {
     "name": "stdin",
     "output_type": "stream",
     "text": [
      " 10\n",
      " 10 4 2 3 6 6 7 9 8 5\n"
     ]
    },
    {
     "name": "stdout",
     "output_type": "stream",
     "text": [
      "5 8 9 7 6 6 3 2 4 10 "
     ]
    }
   ],
   "source": [
    "n = int(input())\n",
    "a = list(map(int, input().split()))\n",
    "\n",
    "for i in range(len(a)):\n",
    "    print(a[len(a)-(i+1)], end=' ')"
   ]
  },
  {
   "cell_type": "markdown",
   "id": "7e01750d-5d6d-4e4f-b25c-8cf6e3c98127",
   "metadata": {},
   "source": [
    "## 6094 : [기초-리스트] 이상한 출석 번호 부르기3"
   ]
  },
  {
   "cell_type": "code",
   "execution_count": 69,
   "id": "83544f69-6f4f-4444-943f-eb35c9a63bc0",
   "metadata": {},
   "outputs": [
    {
     "name": "stdin",
     "output_type": "stream",
     "text": [
      " 10\n",
      " -5 -4 -3 -2 -1 1 2 3 4 5\n"
     ]
    }
   ],
   "source": [
    "n = int(input())\n",
    "a = list(map(int, input().split()))\n",
    "print(min(a))"
   ]
  },
  {
   "cell_type": "markdown",
   "id": "5227b49d-1d64-40ae-8dc7-7031f0d149e3",
   "metadata": {
    "tags": []
   },
   "source": [
    "## 6095 : [기초-리스트] 바둑판에 흰 돌 놓기"
   ]
  },
  {
   "cell_type": "code",
   "execution_count": 101,
   "id": "5653b167-a4c7-4290-bb95-a832ffa96d55",
   "metadata": {},
   "outputs": [],
   "source": [
    "d = [[0 for j in range(20)] for i in range(20)]"
   ]
  },
  {
   "cell_type": "code",
   "execution_count": 103,
   "id": "da3184f6-d9c1-4424-bc1a-d39f47a3d40d",
   "metadata": {},
   "outputs": [
    {
     "name": "stdin",
     "output_type": "stream",
     "text": [
      " 5\n",
      " 1 1\n",
      " 2 2\n",
      " 3 3\n",
      " 4 4\n",
      " 5 5\n"
     ]
    }
   ],
   "source": [
    "n = int(input())\n",
    "\n",
    "for i in range(n):\n",
    "    x, y = map(int, input().split())\n",
    "    d[x-1][y-1] = 1"
   ]
  },
  {
   "cell_type": "code",
   "execution_count": 107,
   "id": "aff9566f-df3d-4b16-bcc0-40e5b62a81f1",
   "metadata": {},
   "outputs": [
    {
     "name": "stdout",
     "output_type": "stream",
     "text": [
      "1 0 0 0 0 0 0 0 0 0 0 0 0 0 0 0 0 0 0 \n",
      "0 1 0 0 0 0 0 0 0 0 0 0 0 0 0 0 0 0 0 \n",
      "0 0 1 0 0 0 0 0 0 0 0 0 0 0 0 0 0 0 0 \n",
      "0 0 0 1 0 0 0 0 0 0 0 0 0 0 0 0 0 0 0 \n",
      "0 0 0 0 1 0 0 0 0 0 0 0 0 0 0 0 0 0 0 \n",
      "0 0 0 0 0 0 0 0 0 0 0 0 0 0 0 0 0 0 0 \n",
      "0 0 0 0 0 0 0 0 0 0 0 0 0 0 0 0 0 0 0 \n",
      "0 0 0 0 0 0 0 0 0 0 0 0 0 0 0 0 0 0 0 \n",
      "0 0 0 0 0 0 0 0 0 0 0 0 0 0 0 0 0 0 0 \n",
      "0 0 0 0 0 0 0 0 0 0 0 0 0 0 0 0 0 0 0 \n",
      "0 0 0 0 0 0 0 0 0 0 0 0 0 0 0 0 0 0 0 \n",
      "0 0 0 0 0 0 0 0 0 0 0 0 0 0 0 0 0 0 0 \n",
      "0 0 0 0 0 0 0 0 0 0 0 0 0 0 0 0 0 0 0 \n",
      "0 0 0 0 0 0 0 0 0 0 0 0 0 0 0 0 0 0 0 \n",
      "0 0 0 0 0 0 0 0 0 0 0 0 0 0 0 0 0 0 0 \n",
      "0 0 0 0 0 0 0 0 0 0 0 0 0 0 0 0 0 0 0 \n",
      "0 0 0 0 0 0 0 0 0 0 0 0 0 0 0 0 0 0 0 \n",
      "0 0 0 0 0 0 0 0 0 0 0 0 0 0 0 0 0 0 0 \n",
      "0 0 0 0 0 0 0 0 0 0 0 0 0 0 0 0 0 0 0 \n"
     ]
    }
   ],
   "source": [
    "for i in range(19):\n",
    "    for j in range(19):\n",
    "        print(d[i][j], end=' ')\n",
    "    print()"
   ]
  },
  {
   "cell_type": "markdown",
   "id": "b30bac09-19da-447a-9611-0ba80aa7f061",
   "metadata": {},
   "source": [
    "## 6096 : [기초-리스트] 바둑알 십자 뒤집기"
   ]
  },
  {
   "cell_type": "code",
   "execution_count": 118,
   "id": "91bcdf86-a4dd-475c-8374-8ec97fd1d38f",
   "metadata": {},
   "outputs": [
    {
     "name": "stdin",
     "output_type": "stream",
     "text": [
      " 0 0 0 0 0 0 0 0 0 1 0 1 0 0 0 0 0 0 0\n",
      " 0 0 0 0 0 0 0 0 0 1 0 1 0 0 0 0 0 0 0\n",
      " 0 0 0 0 0 0 0 0 0 1 0 1 0 0 0 0 0 0 0\n",
      " 0 0 0 0 0 0 0 0 0 1 0 1 0 0 0 0 0 0 0\n",
      " 0 0 0 0 0 0 0 0 0 1 0 1 0 0 0 0 0 0 0\n",
      " 0 0 0 0 0 0 0 0 0 1 0 1 0 0 0 0 0 0 0\n",
      " 0 0 0 0 0 0 0 0 0 1 0 1 0 0 0 0 0 0 0\n",
      " 0 0 0 0 0 0 0 0 0 1 0 1 0 0 0 0 0 0 0\n",
      " 0 0 0 0 0 0 0 0 0 1 0 1 0 0 0 0 0 0 0\n",
      " 1 1 1 1 1 1 1 1 1 1 1 1 1 1 1 1 1 1 1\n",
      " 0 0 0 0 0 0 0 0 0 1 0 1 0 0 0 0 0 0 0\n",
      " 1 1 1 1 1 1 1 1 1 1 1 1 1 1 1 1 1 1 1\n",
      " 0 0 0 0 0 0 0 0 0 1 0 1 0 0 0 0 0 0 0\n",
      " 0 0 0 0 0 0 0 0 0 1 0 1 0 0 0 0 0 0 0\n",
      " 0 0 0 0 0 0 0 0 0 1 0 1 0 0 0 0 0 0 0\n",
      " 0 0 0 0 0 0 0 0 0 1 0 1 0 0 0 0 0 0 0\n",
      " 0 0 0 0 0 0 0 0 0 1 0 1 0 0 0 0 0 0 0\n",
      " 0 0 0 0 0 0 0 0 0 1 0 1 0 0 0 0 0 0 0\n",
      " 0 0 0 0 0 0 0 0 0 1 0 1 0 0 0 0 0 0 0\n"
     ]
    }
   ],
   "source": [
    "d = [0]*19\n",
    "for i in range(19):\n",
    "    d[i]=list(map(int, input().split()))"
   ]
  },
  {
   "cell_type": "code",
   "execution_count": 131,
   "id": "7d73ff42-f943-49bc-af4f-39c2d6031b74",
   "metadata": {},
   "outputs": [
    {
     "name": "stdin",
     "output_type": "stream",
     "text": [
      " 2\n",
      " 10 10\n",
      " 12 12\n"
     ]
    }
   ],
   "source": [
    "n = int(input())\n",
    "for i in range(n):\n",
    "    x, y = map(int, input().split())\n",
    "    for j in range(19):\n",
    "        if d[x-1][j-1]==0:\n",
    "            d[x-1][j-1]=1\n",
    "        else:\n",
    "            d[x-1][j-1]=0\n",
    "        if d[j-1][y-1]==0:\n",
    "            d[j-1][y-1]=1\n",
    "        else:\n",
    "            d[j-1][y-1]=0"
   ]
  },
  {
   "cell_type": "code",
   "execution_count": 133,
   "id": "e358081b-f66d-4fa5-9dba-bef3d0a6545c",
   "metadata": {},
   "outputs": [
    {
     "name": "stdout",
     "output_type": "stream",
     "text": [
      "0 0 0 0 0 0 0 0 0 0 0 0 0 0 0 0 0 0 0 \n",
      "0 0 0 0 0 0 0 0 0 0 0 0 0 0 0 0 0 0 0 \n",
      "0 0 0 0 0 0 0 0 0 0 0 0 0 0 0 0 0 0 0 \n",
      "0 0 0 0 0 0 0 0 0 0 0 0 0 0 0 0 0 0 0 \n",
      "0 0 0 0 0 0 0 0 0 0 0 0 0 0 0 0 0 0 0 \n",
      "0 0 0 0 0 0 0 0 0 0 0 0 0 0 0 0 0 0 0 \n",
      "0 0 0 0 0 0 0 0 0 0 0 0 0 0 0 0 0 0 0 \n",
      "0 0 0 0 0 0 0 0 0 0 0 0 0 0 0 0 0 0 0 \n",
      "0 0 0 0 0 0 0 0 0 0 0 0 0 0 0 0 0 0 0 \n",
      "0 0 0 0 0 0 0 0 0 1 0 1 0 0 0 0 0 0 0 \n",
      "0 0 0 0 0 0 0 0 0 0 0 0 0 0 0 0 0 0 0 \n",
      "0 0 0 0 0 0 0 0 0 1 0 1 0 0 0 0 0 0 0 \n",
      "0 0 0 0 0 0 0 0 0 0 0 0 0 0 0 0 0 0 0 \n",
      "0 0 0 0 0 0 0 0 0 0 0 0 0 0 0 0 0 0 0 \n",
      "0 0 0 0 0 0 0 0 0 0 0 0 0 0 0 0 0 0 0 \n",
      "0 0 0 0 0 0 0 0 0 0 0 0 0 0 0 0 0 0 0 \n",
      "0 0 0 0 0 0 0 0 0 0 0 0 0 0 0 0 0 0 0 \n",
      "0 0 0 0 0 0 0 0 0 0 0 0 0 0 0 0 0 0 0 \n",
      "0 0 0 0 0 0 0 0 0 0 0 0 0 0 0 0 0 0 0 \n"
     ]
    }
   ],
   "source": [
    "for i in range(19):\n",
    "    for j in range(19):\n",
    "        print(d[i][j], end=' ')\n",
    "    print()"
   ]
  },
  {
   "cell_type": "markdown",
   "id": "563fe8b5-4b73-47d7-b4d4-382f0209a47e",
   "metadata": {},
   "source": [
    "## 6097 : [기초-리스트] 설탕과자 뽑기"
   ]
  },
  {
   "cell_type": "code",
   "execution_count": 143,
   "id": "8c31f34e-3126-4a04-8e44-87a99a55c364",
   "metadata": {},
   "outputs": [
    {
     "name": "stdin",
     "output_type": "stream",
     "text": [
      " 5 5\n"
     ]
    }
   ],
   "source": [
    "h, w = map(int, input().split())\n",
    "a = [[0 for j in range(w)] for i in range(h)]"
   ]
  },
  {
   "cell_type": "code",
   "execution_count": 144,
   "id": "56ee697b-2db0-49b8-9a9c-46c233f69409",
   "metadata": {},
   "outputs": [
    {
     "name": "stdin",
     "output_type": "stream",
     "text": [
      " 3\n",
      " 2 0 1 1\n",
      " 3 1 2 3\n",
      " 4 1 2 5\n"
     ]
    }
   ],
   "source": [
    "n = int(input())\n",
    "for i in range(n):\n",
    "    l, d, x, y = map(int, input().split())\n",
    "    if d==0:\n",
    "        for j in range(l):\n",
    "            a[x-1][y-1] = 1\n",
    "            y += 1\n",
    "    else:\n",
    "        for j in range(l):\n",
    "            a[x-1][y-1] = 1\n",
    "            x += 1"
   ]
  },
  {
   "cell_type": "code",
   "execution_count": 145,
   "id": "b8a4e2e4-ec62-490d-9762-4614257158fe",
   "metadata": {},
   "outputs": [
    {
     "name": "stdout",
     "output_type": "stream",
     "text": [
      "1 1 0 0 0 \n",
      "0 0 1 0 1 \n",
      "0 0 1 0 1 \n",
      "0 0 1 0 1 \n",
      "0 0 0 0 1 \n"
     ]
    }
   ],
   "source": [
    "for i in range(h):\n",
    "    for j in range(w):\n",
    "        print(a[i][j], end=' ')\n",
    "    print()"
   ]
  },
  {
   "cell_type": "markdown",
   "id": "8c7745ee-0475-427f-a9bb-7caecdfb964b",
   "metadata": {},
   "source": [
    "## 6098 : [기초-리스트] 성실한 개미"
   ]
  },
  {
   "cell_type": "code",
   "execution_count": 162,
   "id": "7cb3b252-4087-4e0e-8959-529a836346b2",
   "metadata": {},
   "outputs": [
    {
     "name": "stdin",
     "output_type": "stream",
     "text": [
      " 1 1 1 1 1 1 1 1 1 1\n",
      " 1 0 0 1 0 0 0 0 0 1\n",
      " 1 0 0 1 1 1 0 0 0 1\n",
      " 1 0 0 0 0 0 0 1 0 1\n",
      " 1 0 0 0 0 0 0 1 0 1\n",
      " 1 0 0 0 0 1 0 1 0 1\n",
      " 1 0 0 0 0 1 2 1 0 1\n",
      " 1 0 0 0 0 1 0 0 0 1\n",
      " 1 0 0 0 0 0 0 0 0 1\n",
      " 1 1 1 1 1 1 1 1 1 1\n"
     ]
    }
   ],
   "source": [
    "d = [0]*10\n",
    "for i in range(10):\n",
    "    d[i] = list(map(int, input().split()))"
   ]
  },
  {
   "cell_type": "code",
   "execution_count": 164,
   "id": "0a40e792-0cdb-4932-9dee-1e89e5d4e628",
   "metadata": {},
   "outputs": [],
   "source": [
    "x, y = 2, 2\n",
    "d[x-1][y-1] = 9"
   ]
  },
  {
   "cell_type": "code",
   "execution_count": 167,
   "id": "c995700e-9c0c-4c58-a29a-48e2af214170",
   "metadata": {},
   "outputs": [],
   "source": [
    "while True :\n",
    "    if d[x-1][y]==0:\n",
    "        d[x-1][y]=9\n",
    "        y += 1 \n",
    "    elif d[x][y-1]==0:\n",
    "        d[x][y-1]=9\n",
    "        x += 1\n",
    "    elif d[x-1][y]==2:\n",
    "        d[x-1][y]=9\n",
    "        break\n",
    "    elif d[x][y-1]==2:\n",
    "        d[x][y-1]=9\n",
    "        break\n",
    "    else:\n",
    "        break"
   ]
  },
  {
   "cell_type": "code",
   "execution_count": 168,
   "id": "a421fc4a-a0cd-46fb-af0b-6f0e4de4abb1",
   "metadata": {},
   "outputs": [
    {
     "name": "stdout",
     "output_type": "stream",
     "text": [
      "1 1 1 1 1 1 1 1 1 1 \n",
      "1 9 9 1 0 0 0 0 0 1 \n",
      "1 0 9 1 1 1 0 0 0 1 \n",
      "1 0 9 9 9 9 9 1 0 1 \n",
      "1 0 0 0 0 0 9 1 0 1 \n",
      "1 0 0 0 0 1 9 1 0 1 \n",
      "1 0 0 0 0 1 9 1 0 1 \n",
      "1 0 0 0 0 1 0 0 0 1 \n",
      "1 0 0 0 0 0 0 0 0 1 \n",
      "1 1 1 1 1 1 1 1 1 1 \n"
     ]
    }
   ],
   "source": [
    "for i in range(10):\n",
    "    for j in range(10):\n",
    "        print(d[i][j], end=' ')\n",
    "    print()"
   ]
  },
  {
   "cell_type": "code",
   "execution_count": 99,
   "id": "fbc19590-6548-45b5-a5de-9e125b790d81",
   "metadata": {},
   "outputs": [
    {
     "name": "stdout",
     "output_type": "stream",
     "text": [
      "1 0 0 0 0 0 0 0 0 0 0 0 0 0 0 0 0 0 0 0 \n",
      "0 1 0 0 0 0 0 0 0 0 0 0 0 0 0 0 0 0 0 0 \n",
      "0 0 1 0 0 0 0 0 0 0 0 0 0 0 0 0 0 0 0 0 \n",
      "0 0 0 1 0 0 0 0 0 0 0 0 0 0 0 0 0 0 0 0 \n",
      "0 0 0 0 1 0 0 0 0 0 0 0 0 0 0 0 0 0 0 0 \n",
      "0 0 0 0 0 0 0 0 0 0 0 0 0 0 0 0 0 0 0 0 \n",
      "0 0 0 0 0 0 0 0 0 0 0 0 0 0 0 0 0 0 0 0 \n",
      "0 0 0 0 0 0 0 0 0 0 0 0 0 0 0 0 0 0 0 0 \n",
      "0 0 0 0 0 0 0 0 0 0 0 0 0 0 0 0 0 0 0 0 \n",
      "0 0 0 0 0 0 0 0 0 0 0 0 0 0 0 0 0 0 0 0 \n",
      "0 0 0 0 0 0 0 0 0 0 0 0 0 0 0 0 0 0 0 0 \n",
      "0 0 0 0 0 0 0 0 0 0 0 0 0 0 0 0 0 0 0 0 \n",
      "0 0 0 0 0 0 0 0 0 0 0 0 0 0 0 0 0 0 0 0 \n",
      "0 0 0 0 0 0 0 0 0 0 0 0 0 0 0 0 0 0 0 0 \n",
      "0 0 0 0 0 0 0 0 0 0 0 0 0 0 0 0 0 0 0 0 \n",
      "0 0 0 0 0 0 0 0 0 0 0 0 0 0 0 0 0 0 0 0 \n",
      "0 0 0 0 0 0 0 0 0 0 0 0 0 0 0 0 0 0 0 0 \n",
      "0 0 0 0 0 0 0 0 0 0 0 0 0 0 0 0 0 0 0 0 \n",
      "0 0 0 0 0 0 0 0 0 0 0 0 0 0 0 0 0 0 0 0 \n",
      "0 0 0 0 0 0 0 0 0 0 0 0 0 0 0 0 0 0 0 0 \n"
     ]
    }
   ],
   "source": [
    "for i in range(20):\n",
    "    for j in range(20):\n",
    "        print(d[i][j], end=' ')\n",
    "    print()"
   ]
  },
  {
   "cell_type": "code",
   "execution_count": null,
   "id": "6274a05f-5e24-43ae-ba38-8472c2a614fd",
   "metadata": {},
   "outputs": [],
   "source": []
  }
 ],
 "metadata": {
  "kernelspec": {
   "display_name": "Python 3 (ipykernel)",
   "language": "python",
   "name": "python3"
  },
  "language_info": {
   "codemirror_mode": {
    "name": "ipython",
    "version": 3
   },
   "file_extension": ".py",
   "mimetype": "text/x-python",
   "name": "python",
   "nbconvert_exporter": "python",
   "pygments_lexer": "ipython3",
   "version": "3.9.7"
  }
 },
 "nbformat": 4,
 "nbformat_minor": 5
}
