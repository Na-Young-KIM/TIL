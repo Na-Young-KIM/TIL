{
 "cells": [
  {
   "cell_type": "markdown",
   "id": "8a2d5967-0297-42f2-9695-ef101aeb9674",
   "metadata": {},
   "source": [
    "## 6025 : [기초-값변환] 정수 2개 입력받아 합 계산하기"
   ]
  },
  {
   "cell_type": "code",
   "execution_count": 1,
   "id": "61111b1a-505e-4e40-b7b7-9d2088b3eae9",
   "metadata": {},
   "outputs": [
    {
     "name": "stdin",
     "output_type": "stream",
     "text": [
      " 123 123\n"
     ]
    },
    {
     "name": "stdout",
     "output_type": "stream",
     "text": [
      "246\n"
     ]
    }
   ],
   "source": [
    "a, b = map(int, input().split())\n",
    "print(a+b)"
   ]
  },
  {
   "cell_type": "markdown",
   "id": "859b6e54-aa5f-4c17-aaac-f5d8186d37a7",
   "metadata": {},
   "source": [
    "## 6026 : [기초-값변환] 실수 2개 입력받아 합 계산하기"
   ]
  },
  {
   "cell_type": "code",
   "execution_count": 3,
   "id": "c4466793-42e0-4da9-819e-7f6c458e1f1c",
   "metadata": {},
   "outputs": [
    {
     "name": "stdin",
     "output_type": "stream",
     "text": [
      " 0.1\n",
      " 0.9\n"
     ]
    },
    {
     "name": "stdout",
     "output_type": "stream",
     "text": [
      "1.0\n"
     ]
    }
   ],
   "source": [
    "a = float(input())\n",
    "b = float(input())\n",
    "print(a+b)"
   ]
  },
  {
   "cell_type": "markdown",
   "id": "6fa9bf84-d93f-46e0-979f-b174e8ec07ca",
   "metadata": {},
   "source": [
    "## 6027 : [기초-출력변환] 10진 정수 입력받아 16진수로 출력하기1"
   ]
  },
  {
   "cell_type": "code",
   "execution_count": 9,
   "id": "e452ed1f-b73a-4020-a3ca-a9d030b44f4d",
   "metadata": {},
   "outputs": [
    {
     "name": "stdin",
     "output_type": "stream",
     "text": [
      " 255\n"
     ]
    },
    {
     "name": "stdout",
     "output_type": "stream",
     "text": [
      "ff\n"
     ]
    }
   ],
   "source": [
    "a = int(input())\n",
    "print('%x' %a)\n",
    "\n",
    "## %x:16진수, %o:8진수"
   ]
  },
  {
   "cell_type": "markdown",
   "id": "10d4b148-0cac-4f8e-96cc-207db2668272",
   "metadata": {},
   "source": [
    "## 6028 : [기초-출력변환] 10진 정수 입력받아 16진수로 출력하기2"
   ]
  },
  {
   "cell_type": "code",
   "execution_count": 18,
   "id": "854d40a3-7b31-426c-8d1a-4435696c0fbc",
   "metadata": {},
   "outputs": [
    {
     "name": "stdin",
     "output_type": "stream",
     "text": [
      " 255\n"
     ]
    },
    {
     "name": "stdout",
     "output_type": "stream",
     "text": [
      "FF\n"
     ]
    }
   ],
   "source": [
    "a = int(input())\n",
    "print('%X' %a)"
   ]
  },
  {
   "cell_type": "markdown",
   "id": "e1ae0971-87bc-4ec1-9b9a-d42eb429237b",
   "metadata": {},
   "source": [
    "## 6029 : [기초-값변환] 16진 정수 입력받아 8진수로 출력하기"
   ]
  },
  {
   "cell_type": "code",
   "execution_count": 25,
   "id": "213a8e86-c8e4-42b1-8aa8-b70116b10647",
   "metadata": {},
   "outputs": [
    {
     "name": "stdin",
     "output_type": "stream",
     "text": [
      " f\n"
     ]
    },
    {
     "name": "stdout",
     "output_type": "stream",
     "text": [
      "15\n",
      "17\n"
     ]
    }
   ],
   "source": [
    "a = input()\n",
    "a = int(a, 16)\n",
    "print('%o' %a)"
   ]
  },
  {
   "cell_type": "markdown",
   "id": "b1603441-a4f8-4765-bf10-4383f8a72939",
   "metadata": {},
   "source": [
    "## 6030 : [기초-값변환] 영문자 1개 입력받아 10진수로 변환하기"
   ]
  },
  {
   "cell_type": "code",
   "execution_count": 26,
   "id": "4772e2c2-aaa2-45b2-b207-d5db78a2d589",
   "metadata": {},
   "outputs": [
    {
     "name": "stdin",
     "output_type": "stream",
     "text": [
      " A\n"
     ]
    },
    {
     "name": "stdout",
     "output_type": "stream",
     "text": [
      "65\n"
     ]
    }
   ],
   "source": [
    "a = ord(input())\n",
    "print(a)"
   ]
  },
  {
   "cell_type": "markdown",
   "id": "02e0fa7e-a772-4957-b030-0ec34ab5f5e7",
   "metadata": {},
   "source": [
    "## 6031 : [기초-값변환] 정수 입력받아 유니코드 문자로 변환하기"
   ]
  },
  {
   "cell_type": "code",
   "execution_count": 27,
   "id": "88b5100f-4aa2-4ef1-a878-371172fe160f",
   "metadata": {},
   "outputs": [
    {
     "name": "stdin",
     "output_type": "stream",
     "text": [
      " 65\n"
     ]
    },
    {
     "name": "stdout",
     "output_type": "stream",
     "text": [
      "A\n"
     ]
    }
   ],
   "source": [
    "a = int(input())\n",
    "print(chr(a))"
   ]
  },
  {
   "cell_type": "markdown",
   "id": "9412b51a-7c6e-453a-802a-9bcf8c59e9e5",
   "metadata": {},
   "source": [
    "## 6042 : [기초-값변환] 실수 1개 입력받아 소숫점이하 자리 변환하기"
   ]
  },
  {
   "cell_type": "code",
   "execution_count": 31,
   "id": "ccfba7e4-fc15-476c-9448-0fdfb9516ec1",
   "metadata": {},
   "outputs": [
    {
     "name": "stdin",
     "output_type": "stream",
     "text": [
      " 3.141592\n"
     ]
    },
    {
     "name": "stdout",
     "output_type": "stream",
     "text": [
      "3.14\n"
     ]
    }
   ],
   "source": [
    "a = float(input())\n",
    "print(f'{a:.2f}')"
   ]
  }
 ],
 "metadata": {
  "kernelspec": {
   "display_name": "Python 3 (ipykernel)",
   "language": "python",
   "name": "python3"
  },
  "language_info": {
   "codemirror_mode": {
    "name": "ipython",
    "version": 3
   },
   "file_extension": ".py",
   "mimetype": "text/x-python",
   "name": "python",
   "nbconvert_exporter": "python",
   "pygments_lexer": "ipython3",
   "version": "3.9.7"
  }
 },
 "nbformat": 4,
 "nbformat_minor": 5
}
