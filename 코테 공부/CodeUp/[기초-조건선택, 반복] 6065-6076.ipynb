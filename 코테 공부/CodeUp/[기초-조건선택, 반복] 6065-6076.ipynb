{
 "cells": [
  {
   "cell_type": "markdown",
   "id": "0c7801b8-6be5-4902-a5c2-003a496a4174",
   "metadata": {},
   "source": [
    "## 6065 : [기초-조건/선택실행구조] 정수 3개 입력받아 짝수만 출력하기"
   ]
  },
  {
   "cell_type": "code",
   "execution_count": 2,
   "id": "ea50122f-a863-4770-817d-d4b39cf8b7e7",
   "metadata": {},
   "outputs": [
    {
     "name": "stdin",
     "output_type": "stream",
     "text": [
      " 1 2 4\n"
     ]
    },
    {
     "name": "stdout",
     "output_type": "stream",
     "text": [
      "2\n",
      "4\n"
     ]
    }
   ],
   "source": [
    "a = list(map(int, input().split()))\n",
    "for i in range(len(a)) :\n",
    "    if a[i]%2==0 :\n",
    "        print(a[i])"
   ]
  },
  {
   "cell_type": "markdown",
   "id": "fef50ebd-1e15-4148-8b71-e6085cc83807",
   "metadata": {},
   "source": [
    "## 6066 : [기초-조건/선택실행구조] 정수 3개 입력받아 짝/홀 출력하기"
   ]
  },
  {
   "cell_type": "code",
   "execution_count": 3,
   "id": "4cd3752c-d885-44c7-8dcc-e7093b854a83",
   "metadata": {},
   "outputs": [
    {
     "name": "stdin",
     "output_type": "stream",
     "text": [
      " 1 2 8\n"
     ]
    },
    {
     "name": "stdout",
     "output_type": "stream",
     "text": [
      "odd\n",
      "even\n",
      "even\n"
     ]
    }
   ],
   "source": [
    "a = list(map(int, input().split()))\n",
    "for i in range(len(a)) :\n",
    "    print(\"even\" if a[i]%2==0 else \"odd\")"
   ]
  },
  {
   "cell_type": "markdown",
   "id": "eb350d1b-4cc2-4164-a0b8-2da20feec405",
   "metadata": {},
   "source": [
    "## 6067 : [기초-조건/선택실행구조] 정수 1개 입력받아 분류하기"
   ]
  },
  {
   "cell_type": "code",
   "execution_count": 11,
   "id": "5e5e30f8-3f94-4db5-baea-aafb64631fc1",
   "metadata": {},
   "outputs": [
    {
     "name": "stdin",
     "output_type": "stream",
     "text": [
      " -2\n"
     ]
    },
    {
     "name": "stdout",
     "output_type": "stream",
     "text": [
      "A\n"
     ]
    }
   ],
   "source": [
    "n = int(input())\n",
    "\n",
    "if n<0 :\n",
    "    if n%2==0 : \n",
    "        print(\"A\")\n",
    "    else :\n",
    "        print(\"B\")\n",
    "else :\n",
    "    if n%2==0 : \n",
    "        print(\"C\")\n",
    "    else :\n",
    "        print(\"D\")"
   ]
  },
  {
   "cell_type": "markdown",
   "id": "f8b3a7e5-d788-4fe7-9fa5-9012cbc41fd4",
   "metadata": {},
   "source": [
    "## 6068 : [기초-조건/선택실행구조] 점수 입력받아 평가 출력하기"
   ]
  },
  {
   "cell_type": "code",
   "execution_count": 13,
   "id": "64279caa-ea29-4353-a756-1fbbdc4747ef",
   "metadata": {},
   "outputs": [
    {
     "name": "stdin",
     "output_type": "stream",
     "text": [
      " 73\n"
     ]
    },
    {
     "name": "stdout",
     "output_type": "stream",
     "text": [
      "B\n"
     ]
    }
   ],
   "source": [
    "score = int(input())\n",
    "\n",
    "if score>=90 :\n",
    "    print(\"A\")\n",
    "elif score>=70 :\n",
    "    print(\"B\")\n",
    "elif score>=40 :\n",
    "    print(\"C\")\n",
    "else :\n",
    "    print(\"D\")"
   ]
  },
  {
   "cell_type": "markdown",
   "id": "30842b27-4a5f-450f-a945-b334f6628a37",
   "metadata": {},
   "source": [
    "## 6069 : [기초-조건/선택실행구조] 평가 입력받아 다르게 출력하기"
   ]
  },
  {
   "cell_type": "code",
   "execution_count": 15,
   "id": "a4341072-b725-41ed-b806-a0960fba7745",
   "metadata": {},
   "outputs": [
    {
     "name": "stdin",
     "output_type": "stream",
     "text": [
      " B\n"
     ]
    },
    {
     "name": "stdout",
     "output_type": "stream",
     "text": [
      "good!!\n"
     ]
    }
   ],
   "source": [
    "s = input()\n",
    "\n",
    "if s=='A' :\n",
    "    print('best!!!')\n",
    "elif s=='B' :\n",
    "    print('good!!')\n",
    "elif s=='C' :\n",
    "    print('run!')\n",
    "elif s=='D' :\n",
    "    print('slowly~')\n",
    "else :\n",
    "    print('what?')"
   ]
  },
  {
   "cell_type": "markdown",
   "id": "0721e647-1775-491b-bd95-54727f786b03",
   "metadata": {},
   "source": [
    "## 6070 : [기초-조건/선택실행구조] 월 입력받아 계절 출력하기"
   ]
  },
  {
   "cell_type": "code",
   "execution_count": 19,
   "id": "a49bbe77-1c7c-4b50-a759-ef430b761fb3",
   "metadata": {},
   "outputs": [
    {
     "name": "stdin",
     "output_type": "stream",
     "text": [
      " 8\n"
     ]
    },
    {
     "name": "stdout",
     "output_type": "stream",
     "text": [
      "summer\n"
     ]
    }
   ],
   "source": [
    "m = int(input())\n",
    "if m//3==1 :\n",
    "    print('spring')\n",
    "elif m//3==2 :\n",
    "    print('summer')\n",
    "elif m//3==3 :\n",
    "    print('fall')\n",
    "else :\n",
    "    print('winter')"
   ]
  },
  {
   "cell_type": "markdown",
   "id": "5daedecf-d772-4349-bdd8-711a88f66a55",
   "metadata": {},
   "source": [
    "## 6071 : [기초-반복실행구조] 0 입력될 때까지 무한 출력하기"
   ]
  },
  {
   "cell_type": "code",
   "execution_count": 20,
   "id": "67f8afdb-60a2-4443-8692-ddc17a08b03a",
   "metadata": {},
   "outputs": [
    {
     "name": "stdin",
     "output_type": "stream",
     "text": [
      " 2\n"
     ]
    },
    {
     "name": "stdout",
     "output_type": "stream",
     "text": [
      "2\n"
     ]
    },
    {
     "name": "stdin",
     "output_type": "stream",
     "text": [
      " 3\n"
     ]
    },
    {
     "name": "stdout",
     "output_type": "stream",
     "text": [
      "3\n"
     ]
    },
    {
     "name": "stdin",
     "output_type": "stream",
     "text": [
      " 0\n"
     ]
    }
   ],
   "source": [
    "while True :\n",
    "    n = int(input())\n",
    "    if n==0 :\n",
    "        break\n",
    "    else :\n",
    "        print(n)"
   ]
  },
  {
   "cell_type": "markdown",
   "id": "9bc47804-e3e6-4ca5-98f8-0a055112b0c9",
   "metadata": {},
   "source": [
    "## 6072 : [기초-반복실행구조] 정수 1개 입력받아 카운트다운 출력하기1"
   ]
  },
  {
   "cell_type": "code",
   "execution_count": 21,
   "id": "23daf48d-0764-4b6a-ab5d-b48b62da759a",
   "metadata": {},
   "outputs": [
    {
     "name": "stdin",
     "output_type": "stream",
     "text": [
      " 5\n"
     ]
    },
    {
     "name": "stdout",
     "output_type": "stream",
     "text": [
      "5\n",
      "4\n",
      "3\n",
      "2\n",
      "1\n"
     ]
    }
   ],
   "source": [
    "n = int(input())\n",
    "while n :\n",
    "    print(n)\n",
    "    n -= 1"
   ]
  },
  {
   "cell_type": "markdown",
   "id": "50c4a1b7-2fcc-4c6f-abb2-550e2f29cef1",
   "metadata": {},
   "source": [
    "## 6073 : [기초-반복실행구조] 정수 1개 입력받아 카운트다운 출력하기2"
   ]
  },
  {
   "cell_type": "code",
   "execution_count": 22,
   "id": "d38a6af7-ce89-4df1-a957-351f981db6a2",
   "metadata": {},
   "outputs": [
    {
     "name": "stdin",
     "output_type": "stream",
     "text": [
      " 5\n"
     ]
    },
    {
     "name": "stdout",
     "output_type": "stream",
     "text": [
      "4\n",
      "3\n",
      "2\n",
      "1\n",
      "0\n"
     ]
    }
   ],
   "source": [
    "n = int(input())\n",
    "while n :\n",
    "    print(n-1)\n",
    "    n -= 1"
   ]
  },
  {
   "cell_type": "markdown",
   "id": "53d06301-6ab8-4af5-87f2-68b46b384ffd",
   "metadata": {},
   "source": [
    "## 6074 : [기초-반복실행구조] 문자 1개 입력받아 알파벳 출력하기"
   ]
  },
  {
   "cell_type": "code",
   "execution_count": 27,
   "id": "fe44247c-78bb-479d-a0cc-b2bd0d8455e5",
   "metadata": {},
   "outputs": [
    {
     "name": "stdin",
     "output_type": "stream",
     "text": [
      " f\n"
     ]
    },
    {
     "name": "stdout",
     "output_type": "stream",
     "text": [
      "a b c d e f "
     ]
    }
   ],
   "source": [
    "s = ord(input())\n",
    "a = ord('a')\n",
    "\n",
    "while a<=s :\n",
    "    print(chr(a), end=' ')\n",
    "    a += 1"
   ]
  },
  {
   "cell_type": "markdown",
   "id": "a940359f-7f9e-4a7b-9e35-91d343cd1814",
   "metadata": {},
   "source": [
    "## 6075 : [기초-반복실행구조] 정수 1개 입력받아 그 수까지 출력하기1"
   ]
  },
  {
   "cell_type": "code",
   "execution_count": 28,
   "id": "2ba3aedf-9a9f-4a56-8788-1ed2ded41ef3",
   "metadata": {},
   "outputs": [
    {
     "name": "stdin",
     "output_type": "stream",
     "text": [
      " 4\n"
     ]
    },
    {
     "name": "stdout",
     "output_type": "stream",
     "text": [
      "0\n",
      "1\n",
      "2\n",
      "3\n",
      "4\n"
     ]
    }
   ],
   "source": [
    "n = int(input())\n",
    "a = 0 \n",
    "\n",
    "while a<=n :\n",
    "    print(a)\n",
    "    a += 1"
   ]
  },
  {
   "cell_type": "markdown",
   "id": "606de621-9e2a-4251-9204-5b951878ada6",
   "metadata": {},
   "source": [
    "## 6076 : [기초-반복실행구조] 정수 1개 입력받아 그 수까지 출력하기2"
   ]
  },
  {
   "cell_type": "code",
   "execution_count": 30,
   "id": "b32d5501-f2fc-47ba-b5ee-fa070a6b8d71",
   "metadata": {},
   "outputs": [
    {
     "name": "stdin",
     "output_type": "stream",
     "text": [
      " 4\n"
     ]
    },
    {
     "name": "stdout",
     "output_type": "stream",
     "text": [
      "0\n",
      "1\n",
      "2\n",
      "3\n",
      "4\n"
     ]
    }
   ],
   "source": [
    "n = int(input())\n",
    "\n",
    "for i in range(n+1):\n",
    "    print(i)"
   ]
  }
 ],
 "metadata": {
  "kernelspec": {
   "display_name": "Python 3 (ipykernel)",
   "language": "python",
   "name": "python3"
  },
  "language_info": {
   "codemirror_mode": {
    "name": "ipython",
    "version": 3
   },
   "file_extension": ".py",
   "mimetype": "text/x-python",
   "name": "python",
   "nbconvert_exporter": "python",
   "pygments_lexer": "ipython3",
   "version": "3.9.7"
  }
 },
 "nbformat": 4,
 "nbformat_minor": 5
}
