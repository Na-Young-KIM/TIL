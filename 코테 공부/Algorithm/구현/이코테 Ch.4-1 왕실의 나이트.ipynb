{
 "cells": [
  {
   "cell_type": "markdown",
   "id": "a42fc89b-79dd-4d94-bd3b-704f15298fbd",
   "metadata": {
    "tags": []
   },
   "source": [
    "# 왕실의 나이트  \n",
    "행복 왕국의 왕실 정원은 체스판과 같은 8x8 좌표 평면이다. 왕실 정원의 특정한 한 칸에 나이트가 서 있다. 나이트는 매우 충성스러운 신하로서 매일 무술을 연마한다.  \n",
    "나이트는 말을 타고 잇기 때문에 이동을 할 때는 L자 형태로만 이동할 수 있으며 정원 밖으로는 나갈 수 없다. 나이트는 특정한 위치에서 다음과 같은 2가지 경우로 이동할 수 있다.\n",
    "1. 수평으로 두 칸 이동한 뒤에 수직으로 한 칸 이동하기\n",
    "2. 수직으로 두 칸 이동한 뒤에 수평으로 한 칸 이동하기 \n",
    "\n",
    "이처럼 8x8좌표 평면상에서 나이트의 위치가 주어졌을 때 나이트가 이동할 수 있는 경우의 수를 출력한느 프로그램을 작성하시오. 이때 왕실의 정원에서 행 위치를 표현할 때는 1부터 8로 표현하며, 열 위치를 표현할 때는 a부터 h로 표현한다.    \n",
    "예를 들어 만약 나이트가 a1에 있을 때 이동할 수 있는 경우의 수는 다음 2가지이다. a1의 위치는 좌표 평면에서 구석의 위치에 해당하며 나이트는 정원의 밖으로 나갈 수 없기 때문이다.   \n",
    "1. 오른쪽으로 두 칸 이동 후 아래로 한 칸 이동하기(c2)\n",
    "2. 아래로 두 칸 이동 후 오른쪽으로 한 칸 이동하기(b3)\n",
    "또 다른 예로 나이트가 c3에 위치해 있다면 나이트가 이동할 수 있는 경우의 수는 6가지이다. \n",
    "\n",
    "## 입력예시\n",
    "a1\n",
    "## 출력예시 \n",
    "2"
   ]
  },
  {
   "cell_type": "markdown",
   "id": "74ba791d-5214-42c1-9dc4-bdb584185b96",
   "metadata": {},
   "source": [
    "## 내가 푼 풀이\n",
    "- row와 column이 8보다 작은 경우를 생각하지 않아서 틀렸음.."
   ]
  },
  {
   "cell_type": "code",
   "execution_count": 50,
   "id": "de1770cc-e2da-4432-8691-c4042833f99a",
   "metadata": {},
   "outputs": [
    {
     "name": "stdin",
     "output_type": "stream",
     "text": [
      " c2\n"
     ]
    },
    {
     "name": "stdout",
     "output_type": "stream",
     "text": [
      "6\n"
     ]
    }
   ],
   "source": [
    "## 현재 나이트의 위치 입력받기\n",
    "input_data = input()\n",
    "column = int(ord(input_data[0])) - int(ord('a'))+1\n",
    "row = int(input_data[1])\n",
    "\n",
    "## 나이트가 이동할 수 있는 8가지 방향 정의 \n",
    "steps = [(2,1), (2,-1), (-2,1), (-2,-1), (1,2), (1,-2), (-1,2), (-1,-2)]\n",
    "\n",
    "## 내가 푼 풀이\n",
    "count = 0\n",
    "for step in steps:\n",
    "    if column+step[0] > 0:\n",
    "        if row+step[1] > 0:\n",
    "            count += 1\n",
    "            \n",
    "print(count)"
   ]
  },
  {
   "cell_type": "markdown",
   "id": "04b0ca59-f590-45bd-8325-069995985ece",
   "metadata": {},
   "source": [
    "## 4-3.py 답안 예시"
   ]
  },
  {
   "cell_type": "code",
   "execution_count": 49,
   "id": "caea6808-7dce-4f80-9845-dc0a8d18f65b",
   "metadata": {},
   "outputs": [
    {
     "name": "stdin",
     "output_type": "stream",
     "text": [
      " a1\n"
     ]
    },
    {
     "name": "stdout",
     "output_type": "stream",
     "text": [
      "2\n"
     ]
    }
   ],
   "source": [
    "## 현재 나이트의 위치 입력받기\n",
    "input_data = input()\n",
    "column = int(ord(input_data[0])) - int(ord('a'))+1\n",
    "row = int(input_data[1])\n",
    "\n",
    "## 나이트가 이동할 수 있는 8가지 방향 정의 \n",
    "steps = [(2,1), (2,-1), (-2,1), (-2,-1), (1,2), (1,-2), (-1,2), (-1,-2)]\n",
    "\n",
    "## 8가지 방향에 대하여 각 위치로 이동이 가능한지 확인\n",
    "result = 0\n",
    "for step in steps:\n",
    "    # 이동하고자하는 위치 확인\n",
    "    next_row = row + step[0]\n",
    "    next_column = column + step[1]\n",
    "    # 해당 위치로 이동이 가능하다면 카운트 증가\n",
    "    if next_row >= 1 and next_row <= 8 and next_column >=1 and next_column <= 8:\n",
    "        result += 1\n",
    "\n",
    "print(result) # 최종 결과 출력"
   ]
  }
 ],
 "metadata": {
  "kernelspec": {
   "display_name": "Python 3 (ipykernel)",
   "language": "python",
   "name": "python3"
  },
  "language_info": {
   "codemirror_mode": {
    "name": "ipython",
    "version": 3
   },
   "file_extension": ".py",
   "mimetype": "text/x-python",
   "name": "python",
   "nbconvert_exporter": "python",
   "pygments_lexer": "ipython3",
   "version": "3.9.12"
  }
 },
 "nbformat": 4,
 "nbformat_minor": 5
}
