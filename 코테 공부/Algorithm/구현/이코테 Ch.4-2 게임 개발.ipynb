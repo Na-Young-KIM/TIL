{
 "cells": [
  {
   "cell_type": "markdown",
   "id": "236db626-655a-43d6-afe6-0566bedca4f8",
   "metadata": {
    "tags": []
   },
   "source": [
    "# 게임 개발\n",
    "현민이는 게임 캐릭터가 맵 안에서 움직이는 시스템을 개발 중이다. 캐릭터가 있는 장소는 1x1크기의 정사각형으로 이뤄진 NxM 크기의 직사각형으로, 각각의 칸은 육지 또는 바다이다. 캐릭터는 동서남북 중 한 곳을 바라본다.  \n",
    "맵의 각 칸은 (A, B)로 나타낼 수 있고, A는 북쪽으로부터 떨어진 칸의 개수, B는 서쪽으로부터 떨어진 칸의 개수이다. 캐릭터는 상하좌우로 움직일 수 있고, 바다로 되어 있는 공간에는 갈 수 없다. 캐릭터의 움직임을 설정하기 위해 정해 놓은 매뉴얼은 이러하다.  \n",
    "1. 현재 위치에서 현재 방향을 기준으로 왼쪽 방향(반시계 방향으로 90도 회전한 방향)부터 차례대로 갈 곳을 정한다.\n",
    "2. 캐릭터의 바로 왼쪽 방향에 아직 가보지 않은 칸이 존재한다면, 왼쪽 방향으로 회전한 다음 왼쪽으로 한 칸을 전진한다. 왼쪽 방향에 가보지 않은 칸이 없다면, 왼쪽 방향으로 회전만 수행하고 1단계로 돌아간다. \n",
    "3. 만약 네 방향 모두 이미 가본 칸이거나 바다로 되어 있는 칸인 경우에는, 바라보는 방향을 유지한 채로 한 칸 뒤로 가고 1단계로 돌아간다. 단, 이때 뒤쪽 방향이 바다인 칸이라 뒤로 갈 수 없는 경우에는 움직임을 멈춘다. \n",
    "\n",
    "현민이는 위 과정을 반복적으로 수행하면서 캐릭터의 움직임에 이상이 있는지 테스트하려고 한다.   \n",
    "매뉴엘어 따라 캐릭터를 이동시킨 뒤에, 캐릭터가 방문한 칸의 수를 출력하는 프로그램을 만드시오.  \n",
    "\n",
    "## 입력조건\n",
    "- 첫째 줄에 맵의 세로 크기 N과 가로 크기 M을 공백으로 구분하여 입력한다. (3<=N,M<=50)\n",
    "- 둘째 줄에 게임 캐릭터가 있는 칸의 좌표 (A, B)와 바라보는 방향 d가 각각 서로 공백으로 구분하여 주어진다. 방향 d의 값으로는 다음과 같이 4가지가 존재한다. \n",
    "    - 0 : 북쪽\n",
    "    - 1 : 동쪽\n",
    "    - 2 : 남쪽\n",
    "    - 3 : 서쪽\n",
    "- 셋째 줄부터 맵의 육지인지 바다인지에 대한 정보가 주어진다. N개의 줄에 맵의 상태가 북쪽부터 남쪽 순서대로, 각 줄의 데이터는 서쪽부터 동쪽 순서대로 주어진다. 맵의 외곽은 항상 바다로 되어 있다.\n",
    "    - 0 : 육지\n",
    "    - 1 : 바다\n",
    "- 처음에 게임 캐릭터가 위치한 칸의 상태는 항상 육지이다. \n",
    "\n",
    "## 출력조건\n",
    "- 첫째 줄에 이동을 마친 후 캐릭터가 방문한 칸의 수를 출력한다.\n",
    "\n",
    "## 입력 예시\n",
    "4 4      # 4x4 맵 생성  \n",
    "1 1 0    # (1,1)에 북쪽(0)을 바라보고 서있는 캐릭터  \n",
    "1 1 1 1  # 첫 줄은 모두 바다  \n",
    "1 0 0 1  # 둘째 줄은 바다/육지/육지/바다  \n",
    "1 1 0 1  # 셋째 줄은 바다/바다/육지/바다  \n",
    "1 1 1 1  # 넷째 줄은 모두 바다  \n",
    "\n",
    "## 출력 예시\n",
    "3"
   ]
  },
  {
   "cell_type": "markdown",
   "id": "60a21939-8a42-4ca1-9390-13fa94dc9e28",
   "metadata": {},
   "source": [
    "## 내가 푼 풀이"
   ]
  },
  {
   "cell_type": "code",
   "execution_count": 17,
   "id": "4be053a5-7d07-406b-b23f-d4996044529f",
   "metadata": {},
   "outputs": [
    {
     "name": "stdin",
     "output_type": "stream",
     "text": [
      " 4 4\n",
      " 1 1 0\n",
      " 1 1 1 1\n",
      " 1 0 0 1\n",
      " 1 1 0 1\n",
      " 1 1 1 1\n"
     ]
    }
   ],
   "source": [
    "## 입력 받기 \n",
    "n, m = map(int, input().split())\n",
    "x, y, d = map(int, input().split())\n",
    "loc = []\n",
    "for i in range(n):\n",
    "    loc.append(list(map(int, input().split())))\n",
    "    \n",
    "## 북, 동, 남, 서 방향 정의 \n",
    "dx = [0, 1, 0, -1]\n",
    "dy = [1, 0, -1, 0]\n",
    "\n",
    "## 왼쪽으로 회전하는 함수\n",
    "def turn_left():\n",
    "    global d\n",
    "    d -= 1\n",
    "    if d < 0:\n",
    "        d = 3\n",
    "        \n",
    "## 방문한 위치 저장\n",
    "location = [[0]*n for _ in range(m)] \n",
    "location[x][y] = 1\n",
    "\n",
    "## 최종 구현\n",
    "result = 1 # 첫 번째 위치는 무조건 가므로 1부터 시작  \n",
    "turn_count = 0 # 회전 횟수 \n",
    "while True:\n",
    "    turn_left()\n",
    "    nx = x + dx[d]\n",
    "    ny = y + dy[d]\n",
    "    turn_count += 1\n",
    "    # 육지이고, 안가본 칸이면 이동\n",
    "    if (loc[nx][ny] == 0) & (location[nx][ny] == 0):\n",
    "        x, y = nx, ny\n",
    "        location[x][y] = 1\n",
    "        turn_count = 0\n",
    "        result += 1 \n",
    "    # 사방이 모두 막혀있으면 \n",
    "    if turn_count == 4:\n",
    "        break\n",
    "\n",
    "print(result) # 최종 결과 출력"
   ]
  },
  {
   "cell_type": "markdown",
   "id": "839f429d-b6e7-4857-b114-7f0a6614eb86",
   "metadata": {},
   "source": [
    "## 책에 있는 풀이"
   ]
  },
  {
   "cell_type": "code",
   "execution_count": 27,
   "id": "f1fdb964-ab55-40d9-bbfa-054af66ea102",
   "metadata": {},
   "outputs": [
    {
     "name": "stdin",
     "output_type": "stream",
     "text": [
      " 4 4 \n",
      " 1 1 0\n",
      " 1 1 1 1\n",
      " 1 1 0 1\n",
      " 1 0 0 1\n",
      " 1 1 1 1\n"
     ]
    },
    {
     "name": "stdout",
     "output_type": "stream",
     "text": [
      "4\n"
     ]
    }
   ],
   "source": [
    "# N, M을 공백을 기준으로 구분하여 입력받기\n",
    "n, m = map(int, input().split())\n",
    "\n",
    "# 방문한 위치를 저장하기 위한 맵을 생성하여 0으로 초기화\n",
    "d = [[0] * m for _ in range(n)]\n",
    "# 현재 캐릭터의 X 좌표, Y 좌표, 방향을 입력받기\n",
    "x, y, direction = map(int, input().split())\n",
    "d[x][y] = 1 # 현재 좌표 방문 처리\n",
    "\n",
    "# 전체 맵 정보를 입력받기\n",
    "array = []\n",
    "for i in range(n):\n",
    "    array.append(list(map(int, input().split())))\n",
    "\n",
    "# 북, 동, 남, 서 방향 정의\n",
    "dx = [-1, 0, 1, 0]\n",
    "dy = [0, 1, 0, -1]\n",
    "\n",
    "# 왼쪽으로 회전\n",
    "def turn_left():\n",
    "    global direction\n",
    "    direction -= 1\n",
    "    if direction == -1:\n",
    "        direction = 3\n",
    "\n",
    "# 시뮬레이션 시작\n",
    "count = 1\n",
    "turn_time = 0\n",
    "while True:\n",
    "    # 왼쪽으로 회전\n",
    "    turn_left()\n",
    "    nx = x + dx[direction]\n",
    "    ny = y + dy[direction]\n",
    "    # 회전한 이후 정면에 가보지 않은 칸이 존재하는 경우 이동\n",
    "    if d[nx][ny] == 0 and array[nx][ny] == 0:\n",
    "        d[nx][ny] = 1\n",
    "        x = nx\n",
    "        y = ny\n",
    "        count += 1\n",
    "        turn_time = 0\n",
    "        continue\n",
    "    # 회전한 이후 정면에 가보지 않은 칸이 없거나 바다인 경우\n",
    "    else:\n",
    "        turn_time += 1\n",
    "    # 네 방향 모두 갈 수 없는 경우\n",
    "    if turn_time == 4:\n",
    "        nx = x - dx[direction]\n",
    "        ny = y - dy[direction]\n",
    "        # 뒤로 갈 수 있다면 이동하기\n",
    "        if array[nx][ny] == 0:\n",
    "            x = nx\n",
    "            y = ny\n",
    "        # 뒤가 바다로 막혀있는 경우\n",
    "        else:\n",
    "            break\n",
    "        turn_time = 0\n",
    "\n",
    "# 정답 출력\n",
    "print(count)"
   ]
  }
 ],
 "metadata": {
  "kernelspec": {
   "display_name": "Python 3 (ipykernel)",
   "language": "python",
   "name": "python3"
  },
  "language_info": {
   "codemirror_mode": {
    "name": "ipython",
    "version": 3
   },
   "file_extension": ".py",
   "mimetype": "text/x-python",
   "name": "python",
   "nbconvert_exporter": "python",
   "pygments_lexer": "ipython3",
   "version": "3.9.12"
  }
 },
 "nbformat": 4,
 "nbformat_minor": 5
}
