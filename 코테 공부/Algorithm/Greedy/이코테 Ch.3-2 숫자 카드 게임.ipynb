{
 "cells": [
  {
   "cell_type": "markdown",
   "id": "0b1a6976-1b58-4706-9eed-0f5b0a450d4a",
   "metadata": {},
   "source": [
    "# 숫자 카드 게임\n",
    "## 입력 조건 \n",
    "- 첫째 줄에 숫자 카드들이 놓인 행의 개수 N과 열의 개수 M이 공백을 기준으로 하여 각각 자연수로 주어진다. (1<=N, M<=100)\n",
    "- 둘째 줄부터 N개의 줄에 걸쳐 각 카드에 적힌 숫자가 주어진다. 각 숫자는 1이상 10,000이하의 자연수이다.\n",
    "\n",
    "## 출력조건\n",
    "- 첫째 줄에 게임의 룰에 맞게 선택한 카드에 적힌 숫자를 출력한다\n",
    "\n",
    "## 입력예시1\n",
    "3 3  \n",
    "3 1 2  \n",
    "4 1 4  \n",
    "2 2 2  \n",
    "\n",
    "## 출력예시1\n",
    "2\n",
    "\n",
    "## 입력예시2\n",
    "2 4  \n",
    "7 3 1 8  \n",
    "3 3 3 4 \n",
    "\n",
    "## 출력예시2\n",
    "3"
   ]
  },
  {
   "cell_type": "markdown",
   "id": "ffd0723f-3ec8-42c5-9555-5fd13229ed6f",
   "metadata": {},
   "source": [
    "## 내가 푼 풀이"
   ]
  },
  {
   "cell_type": "code",
   "execution_count": 12,
   "id": "3e1b79cd-2c3a-48d8-95d5-1b47797b36ca",
   "metadata": {},
   "outputs": [
    {
     "name": "stdin",
     "output_type": "stream",
     "text": [
      " 3 3\n",
      " 3 1 2\n",
      " 4 1 4\n",
      " 2 2 2\n"
     ]
    },
    {
     "name": "stdout",
     "output_type": "stream",
     "text": [
      "2\n"
     ]
    }
   ],
   "source": [
    "# N, M을 공백으로 구분하여 입력받기\n",
    "n, m = map(int, input().split())\n",
    "\n",
    "data = [0]*n\n",
    "row_min = []\n",
    "\n",
    "# 한 줄씩 입력받기 \n",
    "for i in range(n):\n",
    "    data[i] = list(map(int, input().split()))\n",
    "    # 각 행에서 가장 작은 값만 리스트에 추가\n",
    "    row_min.append(min(data[i]))\n",
    "\n",
    "# 가장 작은 값들이 있는 리스트 중 가장 큰 값 선택\n",
    "print(max(row_min)) # 최종 답안 출력"
   ]
  },
  {
   "cell_type": "markdown",
   "id": "3fa3be80-074d-49e9-a02e-674e911ac1bd",
   "metadata": {},
   "source": [
    "## 3-3.py min() 함수를 이용하는 답안 예시"
   ]
  },
  {
   "cell_type": "code",
   "execution_count": 13,
   "id": "ee01782a-9877-4588-9615-9b87b51f9ea8",
   "metadata": {},
   "outputs": [
    {
     "name": "stdin",
     "output_type": "stream",
     "text": [
      " 2 4 \n",
      " 7 3 1 8\n",
      " 3 3 3 4\n"
     ]
    },
    {
     "name": "stdout",
     "output_type": "stream",
     "text": [
      "3\n"
     ]
    }
   ],
   "source": [
    "# N, M을 공백으로 구분하여 입력받기\n",
    "n, m = map(int, input().split())\n",
    "\n",
    "result = 0\n",
    "# 한 줄씩 입력받아 확인\n",
    "for i in range(n):\n",
    "    data = list(map(int, input().split()))\n",
    "    # 현재 줄에서 '가장 작은 수' 찾기\n",
    "    min_value = min(data) \n",
    "    # '가장 작은 수'들 중에서 가장 큰 수 찾기\n",
    "    result = max(result, min_value)\n",
    "    \n",
    "print(result) # 최종 답안 출력"
   ]
  },
  {
   "cell_type": "markdown",
   "id": "b9ca5ebb-d15a-4e9d-9f0c-e9e6fe3f32a6",
   "metadata": {},
   "source": [
    "## 3-4.py 2중 반복문 구조를 이용한느 답안 예시"
   ]
  },
  {
   "cell_type": "code",
   "execution_count": 14,
   "id": "be2455db-6f73-46bf-a30e-d1515cb8a824",
   "metadata": {},
   "outputs": [
    {
     "name": "stdin",
     "output_type": "stream",
     "text": [
      " 3 3\n",
      " 3 1 2\n",
      " 4 9 3\n",
      " 4 7 2\n"
     ]
    },
    {
     "name": "stdout",
     "output_type": "stream",
     "text": [
      "3\n"
     ]
    }
   ],
   "source": [
    "# N, M을 공백으로 구분하여 입력받기\n",
    "n, m = map(int, input().split())\n",
    "\n",
    "result = 0\n",
    "# 한 줄씩 입력받아 확인\n",
    "for i in range(n):\n",
    "    data = list(map(int, input().split()))\n",
    "    # 현재 줄에서 '가장 작은 수' 찾기\n",
    "    min_value = 1001\n",
    "    for a in data:\n",
    "        min_value = min(min_value, a)\n",
    "    # '가장 작은 수'들 중에서 가장 큰 수 찾기\n",
    "    result = max(result, min_value)\n",
    "\n",
    "print(result) # 최종 답안 출력"
   ]
  }
 ],
 "metadata": {
  "kernelspec": {
   "display_name": "Python 3 (ipykernel)",
   "language": "python",
   "name": "python3"
  },
  "language_info": {
   "codemirror_mode": {
    "name": "ipython",
    "version": 3
   },
   "file_extension": ".py",
   "mimetype": "text/x-python",
   "name": "python",
   "nbconvert_exporter": "python",
   "pygments_lexer": "ipython3",
   "version": "3.9.12"
  }
 },
 "nbformat": 4,
 "nbformat_minor": 5
}
