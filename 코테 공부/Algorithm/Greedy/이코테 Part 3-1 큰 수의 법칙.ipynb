{
 "cells": [
  {
   "cell_type": "markdown",
   "id": "4168398f-c3cb-44fc-ab51-e5f64034091f",
   "metadata": {},
   "source": [
    "# 큰 수의 법칙"
   ]
  },
  {
   "cell_type": "markdown",
   "id": "4fa30d5a-f3d1-4974-bb53-81811d7a0319",
   "metadata": {},
   "source": [
    "## 입력조건\n",
    "- 첫째 줄에 N(2<=N<=1,000), M(1<=M<=10,000), K(1<=K<=10,000)의 자연수가 주어지며, 각 자연수는 공백으로 구분한다.\n",
    "- 둘째 줄에 N개의 자연수가 주어진다. 각 자연수는 공백으로 구분한다. 단, 각각의 자연수는 1 이상 10,000이하의 수로 주어진다.\n",
    "- 입력으로 주어지는 K는 항상 M보다 작거나 같다.\n",
    "\n",
    "## 출력조건\n",
    "- 첫째 줄에 동빈이의 큰 수의 법칙에 따라 더해진 답을 출력한다.\n",
    "\n",
    "## 입력예시\n",
    "5 8 3  \n",
    "2 4 5 4 6\n",
    "\n",
    "## 출력예시\n",
    "46"
   ]
  },
  {
   "cell_type": "markdown",
   "id": "ec02aedf-9d6b-420b-bf27-fc1b3ab5fbce",
   "metadata": {},
   "source": [
    "## 내가 푼 풀이\n",
    "- 다른 테스트 케이스에서는 작동하지 않는 것 확인. (max 값이 들어갈 수 있는 개수 계산 잘못함)"
   ]
  },
  {
   "cell_type": "code",
   "execution_count": 131,
   "id": "ec9d13cd-7932-4ba4-8e67-3b387b83d821",
   "metadata": {},
   "outputs": [
    {
     "name": "stdin",
     "output_type": "stream",
     "text": [
      " 5 8 3\n",
      " 2 4 5 4 6\n"
     ]
    },
    {
     "name": "stdout",
     "output_type": "stream",
     "text": [
      "46\n"
     ]
    }
   ],
   "source": [
    "## 데이터 입력\n",
    "n, m, k = map(int, input().split())\n",
    "n_list = list(map(int, input().split()))\n",
    "\n",
    "## 출력 값 초기화\n",
    "result = 0\n",
    "\n",
    "## 가장 큰 값이 들어갈 수 있는 개수 = m//k*k\n",
    "result += (m//k*k) * max(n_list)\n",
    "\n",
    "## 가장 값 list에서 삭제\n",
    "n_list.remove(max(n_list))\n",
    "\n",
    "## 두번째로 큰 값이 들어가야 하는 개수 = (m-m//k*k)\n",
    "result += (m-m//k*k) * max(n_list)\n",
    "\n",
    "print(result)"
   ]
  },
  {
   "cell_type": "markdown",
   "id": "3a34b0cf-56da-4231-8e76-29490821dab8",
   "metadata": {},
   "source": [
    "## 단순하게 푸는 답안 예시\n",
    "- M이 10,000이하이므로 이 방식으로도 문제 해결 가능하지만, M의 크기가 100억 이상처럼 커지면 시간 초과 "
   ]
  },
  {
   "cell_type": "code",
   "execution_count": 124,
   "id": "9c392dbe-f539-4769-9564-d2a79e7f3d1d",
   "metadata": {},
   "outputs": [
    {
     "name": "stdin",
     "output_type": "stream",
     "text": [
      " 5 8 3\n",
      " 2 4 5 4 6\n"
     ]
    },
    {
     "name": "stdout",
     "output_type": "stream",
     "text": [
      "46\n"
     ]
    }
   ],
   "source": [
    "# N, M, K를 공백으로 구분하여 입력받기\n",
    "n, m, k = map(int, input().split())\n",
    "# N개의 수를 공백으로 구분하여 입력받기\n",
    "data = list(map(int, input().split()))\n",
    "\n",
    "data.sort() # 입력받은 수들 정렬하기\n",
    "first = data[-1] # 가장 큰 수\n",
    "second = data[-2] # 두 번째로 큰 수\n",
    "\n",
    "result = 0\n",
    "\n",
    "while True: \n",
    "    for i in range(k): # 가장 큰 수를 k번 더하기\n",
    "        if m == 0: # m이 0이라면 반복문 탈출\n",
    "            break\n",
    "        result += first\n",
    "        m -= 1 # 더할 때마다 1씩 빼기\n",
    "    if m == 0: # m이 0이라면 반복문 탈출\n",
    "        break\n",
    "    else:\n",
    "        result += second # 두 번째로 큰 수를 한 번 더하기\n",
    "        m -= 1 # 더할 때마다 1씩 빼기\n",
    "\n",
    "print(result) # 최종 답안 출력"
   ]
  },
  {
   "cell_type": "markdown",
   "id": "408c503f-d957-4de5-a941-5fb788dea576",
   "metadata": {},
   "source": [
    "## 3-2.py 답안 예시\n",
    "- 반복되는 수열에 대해 파악하는 방법 (K + 1)마다 수열이 반복됨/"
   ]
  },
  {
   "cell_type": "code",
   "execution_count": 132,
   "id": "3b2572b2-9c5c-4ef8-bbcc-7856b62ebb15",
   "metadata": {},
   "outputs": [
    {
     "name": "stdin",
     "output_type": "stream",
     "text": [
      " 5 8 3\n",
      " 2 4 5 4 6\n"
     ]
    },
    {
     "name": "stdout",
     "output_type": "stream",
     "text": [
      "6\n",
      "6\n",
      "46\n"
     ]
    }
   ],
   "source": [
    "# N, M, K를 공백으로 구분하여 입력받기\n",
    "n, m, k = map(int, input().split())\n",
    "# N개의 수를 공백으로 구분하여 입력받기\n",
    "data = list(map(int, input().split()))\n",
    "\n",
    "data.sort() # 입력받은 수들 정렬하기\n",
    "first = data[-1] # 가장 큰 수\n",
    "second = data[-2] # 두 번째로 큰 수\n",
    "\n",
    "# 가장 큰 수가 더해지는 횟수 계산\n",
    "count = int(m / (k + 1)) * k\n",
    "count += m % (k + 1)\n",
    "\n",
    "result = 0\n",
    "result += (count) * first # 가장 큰 수 더하기\n",
    "result += (m - count) * second # 두번째로 큰 수 더하기\n",
    "\n",
    "print(result)"
   ]
  }
 ],
 "metadata": {
  "kernelspec": {
   "display_name": "Python 3 (ipykernel)",
   "language": "python",
   "name": "python3"
  },
  "language_info": {
   "codemirror_mode": {
    "name": "ipython",
    "version": 3
   },
   "file_extension": ".py",
   "mimetype": "text/x-python",
   "name": "python",
   "nbconvert_exporter": "python",
   "pygments_lexer": "ipython3",
   "version": "3.9.12"
  }
 },
 "nbformat": 4,
 "nbformat_minor": 5
}
