{
 "cells": [
  {
   "cell_type": "markdown",
   "id": "0092b0bb-e1a7-4a13-920b-b7ea704c189d",
   "metadata": {
    "jp-MarkdownHeadingCollapsed": true,
    "tags": []
   },
   "source": [
    "# BOJ 10162: 전자레인지\n",
    "\n",
    "## 문제\n",
    "3개의 시간조절용 버튼 A B C가 달린 전자레인지가 있다. 각 버튼마다 일정한 시간이 지정되어 있어 해당 버튼을 한번 누를 때마다 그 시간이 동작시간에 더해진다. 버튼 A, B, C에 지정된 시간은 각각 5분, 1분, 10초이다.\n",
    "\n",
    "냉동음식마다 전자레인지로 요리해야할 시간 T가 초단위로 표시되어 있다. 우리는 A, B, C 3개의 버튼을 적절히 눌러서 그 시간의 합이 정확히 T초가 되도록 해야 한다. 단 버튼 A, B, C를 누른 횟수의 합은 항상 최소가 되어야 한다. 이것을 최소버튼 조작이라고 한다. \n",
    "\n",
    "만일 요리시간이 100초라고 하면(T=100) B를 1번, C는 4번 누르면 된다. 이와 다르게 C를 10번 눌러도 100초가 되지만 이 경우 10번은 최소 횟수가 아니기 때문이 답이 될 수 없다. 이 경우 B 1번, C 4번, 총 5번이 최소버튼 조작이다. 그리고 T=234와 같이 3개의 버튼으로 시간을 정확히 맞출 수 없는 경우도 있다. \n",
    "\n",
    "여러분은 주어진 요리시간 T초를 맞추기 위한 최소버튼 조작 방법을 구하는 프로그램을 작성해야 한다. \n",
    "\n",
    "## 입력\n",
    "첫 번째 줄에는 요리시간 T(초)가 정수로 주어져 있으며 그 범위는 1 ≤ T ≤ 10,000 이다. \n",
    "\n",
    "## 출력\n",
    "여러분은 T초를 위한 최소버튼 조작의 A B C 횟수를 첫 줄에 차례대로 출력해야 한다. 각각의 횟수 사이에는 빈 칸을 둔다. 해당 버튼을 누르지 않는 경우에는 숫자 0을 출력해야한다. 만일 제시된 3개의 버튼으로 T초를 맞출 수 없으면 음수 -1을 첫 줄에 출력해야 한다. \n",
    "\n",
    "## 예제 입력1 \n",
    "100\n",
    "\n",
    "## 예체 출력1\n",
    "0 1 4\n",
    "\n",
    "## 예제 입력2\n",
    "189\n",
    "\n",
    "## 예제 출력 2\n",
    "-1"
   ]
  },
  {
   "cell_type": "markdown",
   "id": "1d40dbb6-ba16-444c-aa0a-2e4fb43eaad5",
   "metadata": {},
   "source": [
    "## 내가 푼 풀이"
   ]
  },
  {
   "cell_type": "code",
   "execution_count": 1,
   "id": "a9f39a3f-c06d-4631-8c97-82667c623cd9",
   "metadata": {
    "tags": []
   },
   "outputs": [
    {
     "name": "stdin",
     "output_type": "stream",
     "text": [
      " 100\n"
     ]
    },
    {
     "name": "stdout",
     "output_type": "stream",
     "text": [
      "0 1 4 "
     ]
    }
   ],
   "source": [
    "# 요리시간 t 입력 받음 \n",
    "t = int(input())\n",
    "\n",
    "a, b, c = 300, 60, 10 # a, b, c 버튼 지정된 시간  \n",
    "button = []\n",
    "\n",
    "## t가 0이 아닐때 반복\n",
    "while t != 0:\n",
    "    # 큰 시간 버튼으로 나누어주고 계산\n",
    "    button.append(t//a)\n",
    "    t %= a\n",
    "    button.append(t//b)\n",
    "    t %= b\n",
    "    button.append(t//c)\n",
    "    t %= c\n",
    "    \n",
    "    ## t가 0으로 나누어 떨어질 때는 button 횟수 출력, 아닐때는 -1 출력\n",
    "    if t != 0:\n",
    "        print(-1)\n",
    "        break\n",
    "    else:\n",
    "        for i in range(len(button)):\n",
    "            print(button[i], end=' ')"
   ]
  },
  {
   "cell_type": "markdown",
   "id": "0dbe45b0-1551-4dd4-9129-6a4d6dc54130",
   "metadata": {},
   "source": [
    "## 다른 사람 풀이\n",
    "- 반복문을 사용하지 않고 계산하였음 "
   ]
  },
  {
   "cell_type": "code",
   "execution_count": null,
   "id": "240f6253-0cb3-49e5-aaf8-da1784a8713a",
   "metadata": {},
   "outputs": [],
   "source": [
    "## sol 1 \n",
    "T = int(input())\n",
    "\n",
    "A = T//300\n",
    "T %= 300\n",
    "B = T//60\n",
    "T %= 60\n",
    "\n",
    "print(-1) if T%10 != 0 else print(A, B, T//10)"
   ]
  },
  {
   "cell_type": "code",
   "execution_count": null,
   "id": "d56cd175-9318-4bdb-846a-e85d84c4cc6c",
   "metadata": {},
   "outputs": [],
   "source": [
    "## sol 2\n",
    "T = int(input())\n",
    "\n",
    "if T % 10:\n",
    "    print(-1)\n",
    "else:\n",
    "    print(f'{T//300} {T%300//60} {T%300%60//10}')"
   ]
  }
 ],
 "metadata": {
  "kernelspec": {
   "display_name": "Python 3 (ipykernel)",
   "language": "python",
   "name": "python3"
  },
  "language_info": {
   "codemirror_mode": {
    "name": "ipython",
    "version": 3
   },
   "file_extension": ".py",
   "mimetype": "text/x-python",
   "name": "python",
   "nbconvert_exporter": "python",
   "pygments_lexer": "ipython3",
   "version": "3.9.12"
  }
 },
 "nbformat": 4,
 "nbformat_minor": 5
}
