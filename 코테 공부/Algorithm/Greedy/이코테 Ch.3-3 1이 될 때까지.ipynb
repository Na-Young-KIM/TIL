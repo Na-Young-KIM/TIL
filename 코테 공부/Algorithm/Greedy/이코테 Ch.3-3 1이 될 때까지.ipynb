{
 "cells": [
  {
   "cell_type": "markdown",
   "id": "3a832157-92b2-4a69-948f-3e27cd421e15",
   "metadata": {},
   "source": [
    "# 1이 될 때까지 \n",
    ": 어떠한 수 N이 1이 될 때까지 다음의 두 과정 중 하나를 반복적으로 선택하여 수행하려고 하낟. 단, 두 번째 연산은 N이 K로 나누어 떨어질 때만 선택할 수 있다. \n",
    "1. N에서 1을 뺀다.\n",
    "2. N을 K로 나눈다.\n",
    "\n",
    "## 입력조건\n",
    "- 첫째 줄에 N(2<=N<=100,000)과 K(2<=K<=100,000)가 공백으로 구분되며 각각 자연수로 주어진다. 이때 입력으로 주어지는 N은 항상 K보다 크거나 같다.\n",
    "\n",
    "## 출력조건\n",
    "- 첫째 줄에 N이 1이 될때까지 1번 혹은 2번의 과정을 수행해야 하는 횟수의 최솟값을 출력한다.\n",
    "\n",
    "## 입력예시\n",
    "25 5\n",
    "\n",
    "## 출력예시\n",
    "2"
   ]
  },
  {
   "cell_type": "markdown",
   "id": "bc8ffb93-4abf-467d-8a4b-e5e794a1b8b7",
   "metadata": {},
   "source": [
    "## 내가 푼 방법"
   ]
  },
  {
   "cell_type": "code",
   "execution_count": 3,
   "id": "0df41bd5-e228-4a6e-be6d-01e17677c140",
   "metadata": {},
   "outputs": [
    {
     "name": "stdin",
     "output_type": "stream",
     "text": [
      " 25 3\n"
     ]
    },
    {
     "name": "stdout",
     "output_type": "stream",
     "text": [
      "6\n"
     ]
    }
   ],
   "source": [
    "# N과 K를 띄어쓰기를 기준으로 입력 받음\n",
    "n, k = map(int, input().split())\n",
    "\n",
    "result = 0\n",
    "\n",
    "# n이 1이 될때까지 반복\n",
    "while n != 1:\n",
    "    # n을 k로 나눌 때 나머지가 0이면 나누어 줌\n",
    "    if n % k == 0:\n",
    "        n /= k\n",
    "        result += 1\n",
    "    # n을 k로 나눌 때 나머지가 0이 아니면 -1 \n",
    "    else:\n",
    "        n -= 1\n",
    "        result += 1\n",
    "\n",
    "print(result) # 최종 답안 출력"
   ]
  },
  {
   "cell_type": "markdown",
   "id": "fb738a9e-cfcc-4c6e-9678-5b4a3329531c",
   "metadata": {},
   "source": [
    "## 3-5.py 단순하게 푸는 답안 예시"
   ]
  },
  {
   "cell_type": "code",
   "execution_count": 4,
   "id": "b37069f2-ecac-4815-a816-9aa0a073d0a4",
   "metadata": {},
   "outputs": [
    {
     "name": "stdin",
     "output_type": "stream",
     "text": [
      " 25 3\n"
     ]
    },
    {
     "name": "stdout",
     "output_type": "stream",
     "text": [
      "6\n"
     ]
    }
   ],
   "source": [
    "n, k = map(int, input().split())\n",
    "result = 0\n",
    "\n",
    "# N이 K 이상이라면 K로 계속 나누기\n",
    "while n >= k:\n",
    "    # N이 K로 나누어 떨어지지 않는다면 N에서 1씩 빼기\n",
    "    while n % k != 0:\n",
    "        n -= 1\n",
    "        result += 1\n",
    "    # K로 나누기\n",
    "    n //= k\n",
    "    result += 1\n",
    "    \n",
    "# 마지막으로 남은 수에 대하여 1씩 빼기\n",
    "while n > 1:\n",
    "    n -= 1\n",
    "    result += 1\n",
    "\n",
    "print(result)"
   ]
  },
  {
   "cell_type": "markdown",
   "id": "440c1454-1087-4fd3-8d23-f1f67e793f70",
   "metadata": {},
   "source": [
    "## 3-6.py 답안 예시"
   ]
  },
  {
   "cell_type": "code",
   "execution_count": 5,
   "id": "fb5d1607-fc8e-4fc8-99d5-c95345176b4f",
   "metadata": {},
   "outputs": [
    {
     "name": "stdin",
     "output_type": "stream",
     "text": [
      " 25 3\n"
     ]
    },
    {
     "name": "stdout",
     "output_type": "stream",
     "text": [
      "6\n"
     ]
    }
   ],
   "source": [
    "# N, K를 공백으로 구분하여 입력받기\n",
    "n, k = map(int, input().split())\n",
    "result = 0\n",
    "\n",
    "while True:\n",
    "    # (N == K로 나누어떨어지는 수)가 될 때까지 1씩 빼기\n",
    "    target = (n // k) * k\n",
    "    result += (n - target)\n",
    "    n = target\n",
    "    # N이 K보다 작을 때(더 이상 나눌 수 없을 때) 반복문 탈출\n",
    "    if n < k:\n",
    "        break\n",
    "    # K로 나누기 \n",
    "    result += 1\n",
    "    n //= k\n",
    "    \n",
    "# 마지막으로 남은 수에 대하여 1씩 빼기 \n",
    "result += (n - 1)\n",
    "print(result)"
   ]
  }
 ],
 "metadata": {
  "kernelspec": {
   "display_name": "Python 3 (ipykernel)",
   "language": "python",
   "name": "python3"
  },
  "language_info": {
   "codemirror_mode": {
    "name": "ipython",
    "version": 3
   },
   "file_extension": ".py",
   "mimetype": "text/x-python",
   "name": "python",
   "nbconvert_exporter": "python",
   "pygments_lexer": "ipython3",
   "version": "3.9.12"
  }
 },
 "nbformat": 4,
 "nbformat_minor": 5
}
