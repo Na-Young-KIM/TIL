{
 "cells": [
  {
   "cell_type": "markdown",
   "id": "642e4df9-5f51-4c10-8bb1-c4e321098ec7",
   "metadata": {},
   "source": [
    "## 문제 02. 배열 제어하기\n",
    "- 정수 배열을 하나 받습니다. 배열의 중복값을 제거하고 배열 데이터를 내림차순으로 정렬해서 반환하는 solution() 함수를 구현하세요.\n",
    "- 제약 조건\n",
    "    - 배열 길이는 2이상 1,000이하입니다.\n",
    "    - 각 배열의 데이터 값은 -100,000이상 100,000이하입니다. "
   ]
  },
  {
   "cell_type": "code",
   "execution_count": 1,
   "id": "928a2eed-8cef-45f2-abfc-9e51429f1c02",
   "metadata": {},
   "outputs": [],
   "source": [
    "## 시간복잡도 : O(N) + O(NlogN) = O(NlogN)\n",
    "def solution(num_list):\n",
    "    # 중복값 제거 => O(N)\n",
    "    num_list2 = list(set(num_list))  \n",
    "    # 내림차순 정렬 => O(NlogN)\n",
    "    num_list2.sort(reverse=True)\n",
    "    return num_list2"
   ]
  },
  {
   "cell_type": "code",
   "execution_count": 2,
   "id": "0fe3bf84-09ec-42c5-b298-5e5413c497a7",
   "metadata": {},
   "outputs": [
    {
     "data": {
      "text/plain": [
       "[4, 3, 2, 1]"
      ]
     },
     "execution_count": 2,
     "metadata": {},
     "output_type": "execute_result"
    }
   ],
   "source": [
    "# test1\n",
    "test_list1 = [4, 2, 2, 1, 3, 4]\n",
    "solution(test_list1)"
   ]
  },
  {
   "cell_type": "code",
   "execution_count": 3,
   "id": "08d53182-f408-42eb-b5fc-eb9d5b5ede41",
   "metadata": {},
   "outputs": [
    {
     "data": {
      "text/plain": [
       "[5, 4, 3, 2, 1]"
      ]
     },
     "execution_count": 3,
     "metadata": {},
     "output_type": "execute_result"
    }
   ],
   "source": [
    "# test2\n",
    "test_list2 = [2, 1, 1, 3, 2, 5, 4]\n",
    "solution(test_list2)"
   ]
  }
 ],
 "metadata": {
  "kernelspec": {
   "display_name": "Python 3 (ipykernel)",
   "language": "python",
   "name": "python3"
  },
  "language_info": {
   "codemirror_mode": {
    "name": "ipython",
    "version": 3
   },
   "file_extension": ".py",
   "mimetype": "text/x-python",
   "name": "python",
   "nbconvert_exporter": "python",
   "pygments_lexer": "ipython3",
   "version": "3.9.7"
  }
 },
 "nbformat": 4,
 "nbformat_minor": 5
}
