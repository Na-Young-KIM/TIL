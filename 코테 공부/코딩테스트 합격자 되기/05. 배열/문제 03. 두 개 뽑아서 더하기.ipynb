{
 "cells": [
  {
   "cell_type": "markdown",
   "id": "54ba0aba-eda9-47ba-b20f-1604f98096b1",
   "metadata": {},
   "source": [
    "### 문제 03. 두 개 뽑아서 더하기\n",
    "- 문제 \n",
    "    - 정수 배열 numbers가 주어집니다. numbers에서 서로 다른 인덱스에 있는 2개의 수를 봅아 더해 만들 수 있는 모든 수를 배열에 오름차순으로 담아 반환하는 solution()함수를 완성하세요.\n",
    "- 제약조건\n",
    "    - numbers의 길이는 2이상 100이하입니다.\n",
    "    - numbers의 모든 수는 0이상 100이하입니다. "
   ]
  },
  {
   "cell_type": "code",
   "execution_count": 43,
   "id": "36fc0501-a170-4aab-bb1f-c2c8e036f80e",
   "metadata": {},
   "outputs": [],
   "source": [
    "# 시간복잡도 : O(N^2*log(N^2))\n",
    "def solution(numbers):\n",
    "    # 빈 리스트 생성 \n",
    "    result = []\n",
    "    # 두 수를 선택하는 모든 경우를 구함 \n",
    "    for i in range(len(numbers)):\n",
    "        for j in range(i+1, len(numbers)):\n",
    "            # 두 수를 더한 결과를 리스트에 추가 \n",
    "            result.append(numbers[i]+numbers[j])\n",
    "    # 중복값을 없애고, 오름차순으로 정렬 \n",
    "    result = list(set(result))\n",
    "    result.sort()\n",
    "    return result"
   ]
  },
  {
   "cell_type": "code",
   "execution_count": 41,
   "id": "a100eb9b-3b3b-4c36-9dd1-0e3db0439c26",
   "metadata": {},
   "outputs": [
    {
     "data": {
      "text/plain": [
       "[2, 3, 4, 5, 6, 7]"
      ]
     },
     "execution_count": 41,
     "metadata": {},
     "output_type": "execute_result"
    }
   ],
   "source": [
    "test1 = [2, 1, 3, 4, 1]\n",
    "solution(test1)"
   ]
  },
  {
   "cell_type": "code",
   "execution_count": 42,
   "id": "572021dc-1ff1-4de5-92c0-022817db2c38",
   "metadata": {},
   "outputs": [
    {
     "data": {
      "text/plain": [
       "[2, 5, 7, 9, 12]"
      ]
     },
     "execution_count": 42,
     "metadata": {},
     "output_type": "execute_result"
    }
   ],
   "source": [
    "test2 = [5, 0, 2, 7]\n",
    "solution(test2)"
   ]
  }
 ],
 "metadata": {
  "kernelspec": {
   "display_name": "Python 3 (ipykernel)",
   "language": "python",
   "name": "python3"
  },
  "language_info": {
   "codemirror_mode": {
    "name": "ipython",
    "version": 3
   },
   "file_extension": ".py",
   "mimetype": "text/x-python",
   "name": "python",
   "nbconvert_exporter": "python",
   "pygments_lexer": "ipython3",
   "version": "3.9.12"
  }
 },
 "nbformat": 4,
 "nbformat_minor": 5
}
