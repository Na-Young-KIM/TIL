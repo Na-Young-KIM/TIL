{
 "cells": [
  {
   "cell_type": "markdown",
   "id": "18773368-0b14-4979-8183-d246ff434c46",
   "metadata": {},
   "source": [
    "## 문제 06. 실패율\n",
    "### 문제\n",
    "슈퍼 게임 개발자 오렐리는 큰 고민에 빠졌다. 그녀가 만든 프랜즈 오천성이 대성공을 거뒀지만, 요즘 신규 사용자의 수가 급감한 것이다. 원인은 신규 사용자와 기존 사용자 사이에 스테이지 차이가 너무 큰 것이 문제였다.\n",
    "\n",
    "이 문제를 어떻게 할까 고민 한 그녀는 동적으로 게임 시간을 늘려서 난이도를 조절하기로 했다. 역시 슈퍼 개발자라 대부분의 로직은 쉽게 구현했지만, 실패율을 구하는 부분에서 위기에 빠지고 말았다. 오렐리를 위해 실패율을 구하는 코드를 완성하라.\n",
    "\n",
    "실패율은 다음과 같이 정의한다.\n",
    "- 스테이지에 도달했으나 아직 클리어하지 못한 플레이어의 수 / 스테이지에 도달한 플레이어 수\n",
    "\n",
    "전체 스테이지의 개수 N, 게임을 이용하는 사용자가 현재 멈춰있는 스테이지의 번호가 담긴 배열 stages가 매개변수로 주어질 때, 실패율이 높은 스테이지부터 내림차순으로 스테이지의 번호가 담겨있는 배열을 return 하도록 solution 함수를 완성하라.\n",
    "\n",
    "### 제한사항\n",
    "- 스테이지의 개수 N은 1 이상 500 이하의 자연수이다.\n",
    "- stages의 길이는 1 이상 200,000 이하이다.\n",
    "- stages에는 1 이상 N + 1 이하의 자연수가 담겨있다.\n",
    "    - 각 자연수는 사용자가 현재 도전 중인 스테이지의 번호를 나타낸다.\n",
    "    - 단, N + 1 은 마지막 스테이지(N 번째 스테이지) 까지 클리어 한 사용자를 나타낸다.\n",
    "- 만약 실패율이 같은 스테이지가 있다면 작은 번호의 스테이지가 먼저 오도록 하면 된다.\n",
    "- 스테이지에 도달한 유저가 없는 경우 해당 스테이지의 실패율은 0 으로 정의한다."
   ]
  },
  {
   "cell_type": "code",
   "execution_count": 17,
   "id": "2c1a25ac-e5a0-4083-84a0-62b60c50c372",
   "metadata": {},
   "outputs": [],
   "source": [
    "## 나의 풀이 : 시간복잡도 O(N^2+2*NlogN)\n",
    "from collections import Counter\n",
    "\n",
    "def solution(N, stages):\n",
    "    counts = Counter(stages)\n",
    "    for i in range(1, N+1):\n",
    "        # 클리어하지 못한 사람의 수 구하기 \n",
    "        not_clear = counts[i]\n",
    "        # 도전한 사람의 수 구하기 \n",
    "        try_num = 0\n",
    "        for j in range(i, max(counts)+1):\n",
    "            try_num += counts[j]\n",
    "        # 실패율 구하기\n",
    "        try:\n",
    "            counts[i] = not_clear/try_num\n",
    "        except:\n",
    "            counts[i] = 0\n",
    "            \n",
    "    counts[N+1] = -1\n",
    "    ## 실패율이 높은 스테이지부터 N개 출력\n",
    "    counts = sorted(counts.items(), key = lambda x : x)  # key 순으로 정렬 \n",
    "    answer = sorted(dict(counts).items(), key = lambda x: x[1], reverse = True)\n",
    "    answer = list(dict(answer).keys())[:N]\n",
    "    \n",
    "    return answer"
   ]
  },
  {
   "cell_type": "code",
   "execution_count": 18,
   "id": "a106931c-9ad8-4d3a-ad4c-841dbc09d15a",
   "metadata": {},
   "outputs": [
    {
     "data": {
      "text/plain": [
       "[3, 4, 2, 1, 5]"
      ]
     },
     "execution_count": 18,
     "metadata": {},
     "output_type": "execute_result"
    }
   ],
   "source": [
    "## test 1 \n",
    "N = 5\n",
    "stages = [2, 1, 2, 6, 2, 4, 3, 3]\n",
    "\n",
    "solution(N, stages)"
   ]
  },
  {
   "cell_type": "code",
   "execution_count": 19,
   "id": "7012bfa4-c348-4d6f-8dc5-75858fcc1458",
   "metadata": {},
   "outputs": [
    {
     "data": {
      "text/plain": [
       "[4, 1, 2, 3]"
      ]
     },
     "execution_count": 19,
     "metadata": {},
     "output_type": "execute_result"
    }
   ],
   "source": [
    "## test 2\n",
    "N = 4\n",
    "stages = [4,4,4,4,4]\n",
    "\n",
    "solution(N, stages)"
   ]
  },
  {
   "cell_type": "markdown",
   "id": "1d74531f-6aca-455b-bf41-aee498254c82",
   "metadata": {},
   "source": [
    "## 책 풀이법\n",
    "- stages가 20만까지 입력될 수 있으므로 시간 초과를 방지하기 위해서 시간 복잡도는 O(NlogN)이여야 한다. 시간 복잡도가 O(N^2)이면 시간 초과가 발생할 수 있다. \n",
    "- 정렮 문제는 정렬 구현을 시간들여 고민하는 대신 파있너 제공 함수를 바로 사용해보는 것도 좋다\n",
    "- N(스테이지의 개수), M(stages의 길이)라고 할 때, 최종 시간 복잡도는 O(M+NlogN)\n",
    "    - 도전자 수를 계산할 때의 시간 복잡도 : O(N+M)\n",
    "    - 스테이지별 실패율 계산할 때의 시간 복잡도 : O(N)\n",
    "    - 실패율을 기준으로 스테이지를 정렬할때의 복잡도 : O(2*N+M+NlogN)"
   ]
  },
  {
   "cell_type": "code",
   "execution_count": 7,
   "id": "275768b3-b569-4fb0-9e24-0c95d5dce143",
   "metadata": {},
   "outputs": [],
   "source": [
    "def solution(N, stages):\n",
    "    # 스테이지별 현재 도전중인 도전자 수를 구함\n",
    "    challenger = [0] * (N+2)\n",
    "    for stage in stages:\n",
    "        challenger[stage] += 1\n",
    "        \n",
    "    # 스테이지별 실패한 사용자 수 계산\n",
    "    fails = {}\n",
    "    total = len(stages)\n",
    "    \n",
    "    # 각 스테이지를 순회하며, 실패율 계산\n",
    "    for i in range(1, N+1):\n",
    "        if challenge[i] == 0:  # 도전한 사람이 없는 경우 실패율은 0\n",
    "            fails[i] = 0\n",
    "        else:\n",
    "            fail[i] = challenger[i] / total  # 실패율 구함\n",
    "            total -= challenger[i]  # 다음 스테이지 실패율을 구하기 위해 현재 스테이지의 인원을 뺌\n",
    "    \n",
    "    # 실패율이 높은 스테이지부터 내림차순으로 정렬\n",
    "    result = sorted(fails, key=lambda x:fails[x], reverse=True)\n",
    "    \n",
    "    return result"
   ]
  },
  {
   "cell_type": "code",
   "execution_count": 20,
   "id": "9fd6cc28-54d5-4b56-b66c-551a9938276c",
   "metadata": {},
   "outputs": [
    {
     "data": {
      "text/plain": [
       "[3, 4, 2, 1, 5]"
      ]
     },
     "execution_count": 20,
     "metadata": {},
     "output_type": "execute_result"
    }
   ],
   "source": [
    "## test 1 \n",
    "N = 5\n",
    "stages = [2, 1, 2, 6, 2, 4, 3, 3]\n",
    "\n",
    "solution(N, stages)"
   ]
  },
  {
   "cell_type": "code",
   "execution_count": 21,
   "id": "b611b9ea-a433-484f-96c5-9dca45973463",
   "metadata": {},
   "outputs": [
    {
     "data": {
      "text/plain": [
       "[4, 1, 2, 3]"
      ]
     },
     "execution_count": 21,
     "metadata": {},
     "output_type": "execute_result"
    }
   ],
   "source": [
    "## test 2\n",
    "N = 4\n",
    "stages = [4,4,4,4,4]\n",
    "\n",
    "solution(N, stages)"
   ]
  }
 ],
 "metadata": {
  "kernelspec": {
   "display_name": "Python 3 (ipykernel)",
   "language": "python",
   "name": "python3"
  },
  "language_info": {
   "codemirror_mode": {
    "name": "ipython",
    "version": 3
   },
   "file_extension": ".py",
   "mimetype": "text/x-python",
   "name": "python",
   "nbconvert_exporter": "python",
   "pygments_lexer": "ipython3",
   "version": "3.9.7"
  }
 },
 "nbformat": 4,
 "nbformat_minor": 5
}
