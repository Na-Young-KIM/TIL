{
 "cells": [
  {
   "cell_type": "markdown",
   "id": "a4b4b7d1-939d-47f2-9d2e-c1b5a2968c9d",
   "metadata": {},
   "source": [
    "# 05. 배열"
   ]
  },
  {
   "cell_type": "markdown",
   "id": "e197464b-a376-4606-ba7f-138bad45c264",
   "metadata": {},
   "source": [
    "## 05-2. 배열의 효율성 \n",
    "- 데이터 삽입의 시간 복잡도 확인 \n",
    "    - 맨 뒤에 새로운 값을 삽일할 경우 : 시간복잡도 O(1)\n",
    "    - 맨 앞에 새로운 값을 삽입할 경우 : 밀어야하는 값의 갯수가 N개이면 시간복잡고 O(N)\n",
    "    - 중간에 새로운 값을 삽입할 경우 : 밀어야하는 값의 갯수가 N개이면 시간복잡도 O(N)\n",
    "- 배열을 선택할 때 고려할 점 \n",
    "    - 할당할 수 있는 메모리 크기를 확인\n",
    "    - 중간에 데이터 삽입이 많은지 확인 "
   ]
  },
  {
   "cell_type": "markdown",
   "id": "27eeb6e7-3f6d-4b1a-85b4-07464c75d5f1",
   "metadata": {},
   "source": [
    "## 05-3. 자주 사용하는 리스트 기법\n",
    "### 리스트에 데이터 추가"
   ]
  },
  {
   "cell_type": "code",
   "execution_count": 1,
   "id": "6afa3f7c-a35f-4af6-87c2-1ae65156bec7",
   "metadata": {},
   "outputs": [
    {
     "name": "stdout",
     "output_type": "stream",
     "text": [
      "[1, 2, 3, 4]\n"
     ]
    }
   ],
   "source": [
    "# append()메서드로 데이터 추가\n",
    "my_list = [1, 2, 3]\n",
    "my_list.append(4)\n",
    "print(my_list)"
   ]
  },
  {
   "cell_type": "code",
   "execution_count": 2,
   "id": "35102510-81c1-496d-b353-2cee7b325ca9",
   "metadata": {},
   "outputs": [
    {
     "name": "stdout",
     "output_type": "stream",
     "text": [
      "[1, 2, 3, 4, 5]\n"
     ]
    }
   ],
   "source": [
    "# 연산자로 데이터 추가\n",
    "my_list = [1, 2, 3]\n",
    "my_list += [4, 5]\n",
    "print(my_list)"
   ]
  },
  {
   "cell_type": "code",
   "execution_count": 3,
   "id": "ad12508b-0277-4978-971f-518bf5459833",
   "metadata": {},
   "outputs": [
    {
     "name": "stdout",
     "output_type": "stream",
     "text": [
      "[1, 2, 999, 3]\n"
     ]
    }
   ],
   "source": [
    "# insert() 메서드로 데이터 삽입\n",
    "my_list = [1, 2, 3]\n",
    "my_list.insert(2, 999)\n",
    "print(my_list)"
   ]
  },
  {
   "cell_type": "markdown",
   "id": "e78e70a1-c1b4-44d6-ae7e-da7a5673ffda",
   "metadata": {},
   "source": [
    "### 리스트에 데이터 삭제"
   ]
  },
  {
   "cell_type": "code",
   "execution_count": 4,
   "id": "dec652d9-d3c4-457e-96a7-94b435775227",
   "metadata": {},
   "outputs": [
    {
     "name": "stdout",
     "output_type": "stream",
     "text": [
      "3\n",
      "[1, 2, 4, 5]\n"
     ]
    }
   ],
   "source": [
    "# pop() 메서드로 특정 위치의 데이터 팝\n",
    "my_list = [1, 2, 3, 4, 5]\n",
    "poped_element = my_list.pop(2)\n",
    "print(poped_element)\n",
    "print(my_list)"
   ]
  },
  {
   "cell_type": "code",
   "execution_count": 5,
   "id": "b309bdcd-5e75-438a-ade5-158a8ff836ce",
   "metadata": {},
   "outputs": [
    {
     "name": "stdout",
     "output_type": "stream",
     "text": [
      "[1, 3, 2, 4, 5]\n"
     ]
    }
   ],
   "source": [
    "# remove() 메서드로 특정 데이터 삭제 \n",
    "my_list = [1, 2, 3, 2, 4, 5]\n",
    "my_list.remove(2)\n",
    "print(my_list)"
   ]
  }
 ],
 "metadata": {
  "kernelspec": {
   "display_name": "Python 3 (ipykernel)",
   "language": "python",
   "name": "python3"
  },
  "language_info": {
   "codemirror_mode": {
    "name": "ipython",
    "version": 3
   },
   "file_extension": ".py",
   "mimetype": "text/x-python",
   "name": "python",
   "nbconvert_exporter": "python",
   "pygments_lexer": "ipython3",
   "version": "3.9.12"
  }
 },
 "nbformat": 4,
 "nbformat_minor": 5
}
