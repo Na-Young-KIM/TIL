{
 "cells": [
  {
   "cell_type": "markdown",
   "id": "f2d99088-e1f2-41ce-a2e9-88014b528c05",
   "metadata": {},
   "source": [
    "## 문제 05. 행렬의 곱셈\n",
    "### 문제\n",
    "- 2차원 행렬 arr1과 arr2를 입력받아 arr1에 arr2를 곱한 결과를 반환하는 solution() 함수를 완성하세요.\n",
    "### 제약조건\n",
    "- 행렬 arr1, arr2의 행과 열의 길이는 2 이상 100 이하입니다.\n",
    "- 행렬 arr1, arr2의 데이터는 -10 이상 20 이하인 자연수입니다.\n",
    "- 곱할 수 있는 배열만 주어집니다"
   ]
  },
  {
   "cell_type": "code",
   "execution_count": 80,
   "id": "db51221f-71d7-4bff-9e40-ec2265156fc2",
   "metadata": {},
   "outputs": [],
   "source": [
    "def solution(arr1, arr2):\n",
    "    ## arr1, arr2의 행, 열의 수 구하기 \n",
    "    r1, c1 = len(arr1), len(arr1[0])\n",
    "    r2, c2 = len(arr2), len(arr2[0])\n",
    "\n",
    "    ## 정답 행렬 만들기\n",
    "    res = [[0]*c2 for _ in range(r1)]\n",
    "\n",
    "    ## 행렬 계산하기 \n",
    "    for i in range(r1):\n",
    "        for j in range(c2):\n",
    "            for k in range(c1):\n",
    "                res[i][j] += arr1[i][k]*arr2[k][j]\n",
    "                \n",
    "    return res"
   ]
  },
  {
   "cell_type": "code",
   "execution_count": 81,
   "id": "a8e4c792-b39f-440f-a544-82b251ee4e40",
   "metadata": {},
   "outputs": [
    {
     "data": {
      "text/plain": [
       "[[15, 15], [15, 15], [15, 15]]"
      ]
     },
     "execution_count": 81,
     "metadata": {},
     "output_type": "execute_result"
    }
   ],
   "source": [
    "arr1 = [[1,4], [3,2], [4,1]]\n",
    "arr2 = [[3,3], [3,3]]\n",
    "solution(arr1, arr2)"
   ]
  },
  {
   "cell_type": "code",
   "execution_count": 82,
   "id": "a3003ba0-8519-4216-8196-c18f3d4c6c76",
   "metadata": {},
   "outputs": [
    {
     "data": {
      "text/plain": [
       "[[22, 22, 11], [36, 28, 18], [29, 20, 14]]"
      ]
     },
     "execution_count": 82,
     "metadata": {},
     "output_type": "execute_result"
    }
   ],
   "source": [
    "arr1 = [[2,3,2], [4,2,4], [3,1,4]]\n",
    "arr2 = [[5,4,3], [2,4,1], [3,1,1]]\n",
    "solution(arr1, arr2)"
   ]
  }
 ],
 "metadata": {
  "kernelspec": {
   "display_name": "Python 3 (ipykernel)",
   "language": "python",
   "name": "python3"
  },
  "language_info": {
   "codemirror_mode": {
    "name": "ipython",
    "version": 3
   },
   "file_extension": ".py",
   "mimetype": "text/x-python",
   "name": "python",
   "nbconvert_exporter": "python",
   "pygments_lexer": "ipython3",
   "version": "3.9.12"
  }
 },
 "nbformat": 4,
 "nbformat_minor": 5
}
