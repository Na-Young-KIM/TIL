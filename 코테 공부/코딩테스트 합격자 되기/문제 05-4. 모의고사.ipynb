{
 "cells": [
  {
   "cell_type": "markdown",
   "id": "5560aa70-5454-427e-9894-7c9805ce3a27",
   "metadata": {},
   "source": [
    "### 문제 04. 모의고사\n",
    "- 문제\n",
    "    - 수포자는 수학을 포기한 사람을 줄인 표현입니다. 수포자 삼인방은 모의고사에 수학 문제를 저눕 찍으려 합니다. 수포자는 1번 문제부터 마지막 문제까지 다음과 같이 찍습니다. \n",
    "    - 1번 수포자가 찍는 방식 : 1 2 3 4 5 1 2 3 4 5 ... \n",
    "    - 2번 수포자가 찍는 방식 : 2 1 2 3 2 4 2 5 2 1 2 3 2 4 2 5 ...\n",
    "    - 3번 수포자가 찍는 방식 : 3 3 1 1 2 2 4 4 5 5 3 3 1 1 2 2 4 4 5 5 ... \n",
    "    - 1번 문제부터 마지막 문제까지의 정답이 순서대로 저장된 배열 answers가 주어졌을 때 가장 많은 문제를 맞힌 사람이 누구인지 배열에 담아 반환하도록 solution() 함수를 작성하세요.\n",
    "- 제약조건\n",
    "    - 시험은 최대 10,000 문제로 구성되어 있습니다.\n",
    "    - 문제의 정답은 1, 2, 3, 4, 5 중 하나입니다.\n",
    "    - 가장 높은 점수를 받은 사람이 여럿이라면 반환하는 값을 오름차순으로 정렬하세요."
   ]
  },
  {
   "cell_type": "code",
   "execution_count": 2,
   "id": "5a49943d-efc0-4eb4-99eb-fb37fc88809a",
   "metadata": {},
   "outputs": [],
   "source": [
    "## 내 풀이 방식의 시간복잡도 : O(10000)\n",
    "def solution(answers):\n",
    "    # 수포자의 찍는 방식 \n",
    "    person1 = [1, 2, 3, 4, 5]\n",
    "    person2 = [2, 1, 2, 3, 2, 4, 2, 5] \n",
    "    person3 = [3, 3, 1, 1, 2, 2, 4, 4, 5, 5]\n",
    "\n",
    "    # 10,000문제에 대한 수포자들의 찍는 방식 \n",
    "    person1 *= int(10000/len(person1))\n",
    "    person2 *= int(10000/len(person2))\n",
    "    person3 *= int(10000/len(person3))\n",
    "\n",
    "    # 수포자의 답안 리스트와실제 답안을 비교하여 맞힌 문제 수 카운트\n",
    "    count1 = 0; count2 = 0; count3 = 0\n",
    "    for i in range(len(answers)):\n",
    "        if answers[i]==person1[i]:\n",
    "            count1 += 1 \n",
    "        if answers[i]==person2[i]:\n",
    "            count2 += 1 \n",
    "        if answers[i]==person3[i]:\n",
    "            count3 += 1 \n",
    "\n",
    "    # 가장 높은 점수를 받은 사람 출력\n",
    "    count = [count1, count2, count3]\n",
    "    result = []\n",
    "    max_value = max(count)\n",
    "    for i in range(3):\n",
    "        if count[i]==max_value:\n",
    "            # 오름차순 \n",
    "            result.append(i+1)\n",
    "    \n",
    "    return result"
   ]
  },
  {
   "cell_type": "code",
   "execution_count": 3,
   "id": "6c566517-420d-43f6-93a7-4eb46b98dcf7",
   "metadata": {},
   "outputs": [
    {
     "data": {
      "text/plain": [
       "[1]"
      ]
     },
     "execution_count": 3,
     "metadata": {},
     "output_type": "execute_result"
    }
   ],
   "source": [
    "answers1 = [1, 2, 3, 4, 5]\n",
    "solution(answers1)"
   ]
  },
  {
   "cell_type": "code",
   "execution_count": 4,
   "id": "4d6806a1-17c2-402d-864a-65e8c6455931",
   "metadata": {
    "tags": []
   },
   "outputs": [
    {
     "data": {
      "text/plain": [
       "[1, 2, 3]"
      ]
     },
     "execution_count": 4,
     "metadata": {},
     "output_type": "execute_result"
    }
   ],
   "source": [
    "answers2 = [1, 3, 2, 4, 2]\n",
    "solution(answers2)"
   ]
  },
  {
   "cell_type": "code",
   "execution_count": 29,
   "id": "13c5c2f0-855d-4781-9f74-d29a604d8835",
   "metadata": {},
   "outputs": [],
   "source": [
    "## 책 풀이의 시간 복잡도 : O(N)\n",
    "def solution(answers):\n",
    "    # 수포자들의 패턴\n",
    "    patterns = [[1, 2, 3, 4, 5],\n",
    "                [2, 1, 2, 3, 2, 4, 2, 5],\n",
    "                [1, 1, 2, 2, 3, 3, 4, 4, 5, 5]]\n",
    "    # 수포자들의 점수를 저장할 리스트\n",
    "    scores = [0] * 3\n",
    "    # 각 수포자의 패턴과 정답이 얼마나 일치하는지 확인\n",
    "    for i, answer in enumerate(answers):\n",
    "        for j, pattern in enumerate(patterns):\n",
    "            if answer == pattern[i % len(pattern)]:\n",
    "                scores[j] += 1\n",
    "    # 가장 높은 점수 저장\n",
    "    max_score = max(scores)\n",
    "    # 가장 높은 점수를 가진 수포자들의 번호를 찾아서 리스트에 담음\n",
    "    highest_scores = []\n",
    "    for i, score in enumerate(scores):\n",
    "        if score == max_score:\n",
    "            highest_scores.append(i+1)\n",
    "    return highest_scores"
   ]
  },
  {
   "cell_type": "code",
   "execution_count": 30,
   "id": "203dd400-5088-43e2-a405-b4384b1c115c",
   "metadata": {},
   "outputs": [
    {
     "data": {
      "text/plain": [
       "[1]"
      ]
     },
     "execution_count": 30,
     "metadata": {},
     "output_type": "execute_result"
    }
   ],
   "source": [
    "answers1 = [1, 2, 3, 4, 5]\n",
    "solution(answers1)"
   ]
  },
  {
   "cell_type": "code",
   "execution_count": 31,
   "id": "17512aaf-2e7d-4bbc-a993-348a224e9e0b",
   "metadata": {},
   "outputs": [
    {
     "data": {
      "text/plain": [
       "[1, 2, 3]"
      ]
     },
     "execution_count": 31,
     "metadata": {},
     "output_type": "execute_result"
    }
   ],
   "source": [
    "answers2 = [1, 3, 2, 4, 2]\n",
    "solution(answers2)"
   ]
  }
 ],
 "metadata": {
  "kernelspec": {
   "display_name": "Python 3 (ipykernel)",
   "language": "python",
   "name": "python3"
  },
  "language_info": {
   "codemirror_mode": {
    "name": "ipython",
    "version": 3
   },
   "file_extension": ".py",
   "mimetype": "text/x-python",
   "name": "python",
   "nbconvert_exporter": "python",
   "pygments_lexer": "ipython3",
   "version": "3.9.12"
  }
 },
 "nbformat": 4,
 "nbformat_minor": 5
}
