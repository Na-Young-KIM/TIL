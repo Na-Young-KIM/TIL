{
 "cells": [
  {
   "cell_type": "markdown",
   "id": "0aae5675-dc50-4ec6-951a-49c1d50ba845",
   "metadata": {},
   "source": [
    "## 문제 01. 배열 정렬하기\n",
    "- 정수 배열을 정렬해서 반환하는 solution() 함수를 완성하세요.\n",
    "\n",
    "- 제약조건\n",
    "  - 정수 배열의 길이는 2이상 10^5 이하입니다. \n",
    "  - 정수 배열의 각 데이터 값은 -100,000이상 100,000이하입니다. "
   ]
  },
  {
   "cell_type": "code",
   "execution_count": 1,
   "id": "b4a04fed-4146-4d81-8693-8cb713d62b3b",
   "metadata": {},
   "outputs": [],
   "source": [
    "## 시간 복잡도 : O(NlogN)\n",
    "def solution(num_list):\n",
    "    num_list.sort()\n",
    "    return num_list"
   ]
  },
  {
   "cell_type": "code",
   "execution_count": 2,
   "id": "289d796b-16a4-458f-a17a-22e378bf7593",
   "metadata": {},
   "outputs": [
    {
     "data": {
      "text/plain": [
       "[-5, 1, 2, 3, 4]"
      ]
     },
     "execution_count": 2,
     "metadata": {},
     "output_type": "execute_result"
    }
   ],
   "source": [
    "# test 1 \n",
    "num_list1 = [1, -5, 2, 4, 3]\n",
    "solution(num_list1)"
   ]
  },
  {
   "cell_type": "code",
   "execution_count": 3,
   "id": "ea50733e-2fe6-473a-8bab-b32a761781c7",
   "metadata": {},
   "outputs": [
    {
     "data": {
      "text/plain": [
       "[1, 1, 2, 2, 3, 4, 5]"
      ]
     },
     "execution_count": 3,
     "metadata": {},
     "output_type": "execute_result"
    }
   ],
   "source": [
    "# test 2 \n",
    "num_list2 = [2, 1, 1, 3, 2, 5, 4]\n",
    "solution(num_list2)"
   ]
  },
  {
   "cell_type": "code",
   "execution_count": 4,
   "id": "35b1bab8-ed7e-460c-98f6-a16568671755",
   "metadata": {},
   "outputs": [
    {
     "data": {
      "text/plain": [
       "[1, 6, 7]"
      ]
     },
     "execution_count": 4,
     "metadata": {},
     "output_type": "execute_result"
    }
   ],
   "source": [
    "# test 3 \n",
    "num_list3 = [6, 1, 7]\n",
    "solution(num_list3)"
   ]
  }
 ],
 "metadata": {
  "kernelspec": {
   "display_name": "Python 3 (ipykernel)",
   "language": "python",
   "name": "python3"
  },
  "language_info": {
   "codemirror_mode": {
    "name": "ipython",
    "version": 3
   },
   "file_extension": ".py",
   "mimetype": "text/x-python",
   "name": "python",
   "nbconvert_exporter": "python",
   "pygments_lexer": "ipython3",
   "version": "3.9.7"
  }
 },
 "nbformat": 4,
 "nbformat_minor": 5
}
