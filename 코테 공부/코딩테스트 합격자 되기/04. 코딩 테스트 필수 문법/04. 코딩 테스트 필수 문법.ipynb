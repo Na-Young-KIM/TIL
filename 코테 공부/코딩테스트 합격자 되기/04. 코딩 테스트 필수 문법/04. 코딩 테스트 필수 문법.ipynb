{
 "cells": [
  {
   "cell_type": "markdown",
   "id": "c879440c-370d-488b-8f58-085cbd0b5996",
   "metadata": {
    "tags": []
   },
   "source": [
    "# 04. 코딩 테스트 필수 문법"
   ]
  },
  {
   "cell_type": "markdown",
   "id": "143107aa-4bff-4dd1-b121-e6fdfa10a944",
   "metadata": {},
   "source": [
    "## 04-1. 빌트인 데이터 타입"
   ]
  },
  {
   "cell_type": "markdown",
   "id": "f77988f3-e144-4971-8960-ee960b6ac78e",
   "metadata": {},
   "source": [
    "### 정수"
   ]
  },
  {
   "cell_type": "code",
   "execution_count": 8,
   "id": "966190dd-84da-452a-8bc4-51acfa4c341b",
   "metadata": {},
   "outputs": [
    {
     "name": "stdout",
     "output_type": "stream",
     "text": [
      "4\n",
      "13\n",
      "9\n",
      "-14\n",
      "52\n",
      "6\n"
     ]
    }
   ],
   "source": [
    "## 정수형 비트 연산\n",
    "\n",
    "a = 13\n",
    "b = 4\n",
    "\n",
    "print(a&b)    # and / 4\n",
    "print(a|b)    # or / 13\n",
    "print(a^b)    # xor / 9\n",
    "print(~a)     # not / - 14\n",
    "              # ~a+1 => a에 부호를 바꾸는 것 \n",
    "print(a<<2)   # 왼쪽 시프트 (a에 2^2를 곱한 것) / 52\n",
    "print(a>>1)   # 오른쪽 시프트 (a에 2^1을 나눈 몫) / 6"
   ]
  },
  {
   "cell_type": "code",
   "execution_count": 16,
   "id": "da5f0f60-28ef-41ec-a9c9-79f095879adc",
   "metadata": {},
   "outputs": [
    {
     "name": "stdout",
     "output_type": "stream",
     "text": [
      "4\n",
      "13\n",
      "False\n",
      "True\n"
     ]
    }
   ],
   "source": [
    "## 정수형 논리 연산\n",
    "\n",
    "a = 13\n",
    "b = 4\n",
    "\n",
    "print(a and b)    # 논리연산 and / 4\n",
    "print(a or b)     # 논리연산 or / 13\n",
    "print(not a); print(not 0)    # 논리연산 not(0이면 1, 0이외엔 0)"
   ]
  },
  {
   "cell_type": "markdown",
   "id": "6a7ed9fe-a796-47e7-a30f-ef9d48bfff29",
   "metadata": {},
   "source": [
    "### 부동소수형"
   ]
  },
  {
   "cell_type": "code",
   "execution_count": 21,
   "id": "e725d5db-1063-4688-a960-5deb088a3037",
   "metadata": {},
   "outputs": [
    {
     "name": "stdout",
     "output_type": "stream",
     "text": [
      "7.199999999999999\n",
      "0.39999999999999947\n"
     ]
    }
   ],
   "source": [
    "## 유의해야할 점\n",
    "# float형을 사용할 때, 오차(앱실론) 때문에 값이 떨어지지 않을 수 있다.\n",
    "\n",
    "print(1.5*4.8)    # 7.199999999999999\n",
    "print(10.0%3.2)   # 0.39999999999999947"
   ]
  },
  {
   "cell_type": "code",
   "execution_count": 25,
   "id": "e4835a93-c497-4c77-9dbb-4d6877e4d1b3",
   "metadata": {},
   "outputs": [
    {
     "name": "stdout",
     "output_type": "stream",
     "text": [
      "2.220446049250313e-16\n",
      "5.551115123125783e-17\n",
      "a와 b가 같은 값입니다.\n"
     ]
    }
   ],
   "source": [
    "## 앱실론을 포함한 연산\n",
    "\n",
    "import sys\n",
    "\n",
    "# 앱실론 출력\n",
    "print(sys.float_info.epsilon)    # 2.220446049250313e-16\n",
    "\n",
    "# 부동소수점 수의 오차 검사\n",
    "a = 0.1 + 0.1 + 0.1\n",
    "b = 0.3\n",
    "print(a-b)    # 5.551115123125783e-17\n",
    "\n",
    "if abs(a-b) < sys.float_info.epsilon:\n",
    "    print(\"a와 b가 같은 값입니다.\")\n",
    "else:\n",
    "    print(\"a와 b는 다른 값입니다.\")"
   ]
  },
  {
   "cell_type": "markdown",
   "id": "8e46f536-47ac-4136-a2c4-2427d80a86ae",
   "metadata": {},
   "source": [
    "## 04-2 컬렉션 데이터 타입"
   ]
  },
  {
   "cell_type": "markdown",
   "id": "1b273ae1-0614-4157-a0dc-df635a52e74f",
   "metadata": {},
   "source": [
    "### 리스트"
   ]
  },
  {
   "cell_type": "code",
   "execution_count": 34,
   "id": "19391068-5be7-49f2-86da-902a8ad430a6",
   "metadata": {},
   "outputs": [
    {
     "name": "stdout",
     "output_type": "stream",
     "text": [
      "[1, 2, 3, 4, 5]\n",
      "[1, 3, 5, 7, 9]\n",
      "[1, 2, 3, 4, 5]\n"
     ]
    }
   ],
   "source": [
    "# 리스트 선언\n",
    "my_list = [1, 2, 3, 4, 5]\n",
    "my_list2 = [1, 3, 5] + [7, 9]\n",
    "my_list3 = list(my_list)\n",
    "\n",
    "print(my_list)    # [1, 2, 3, 4, 5]\n",
    "print(my_list2)   # [1, 3, 5, 7, 9]\n",
    "print(my_list3)   # [1, 2, 3, 4, 5]"
   ]
  },
  {
   "cell_type": "markdown",
   "id": "0486c5d9-c833-4cc6-9798-b461bc8c86e0",
   "metadata": {},
   "source": [
    "## 04-3 함수"
   ]
  },
  {
   "cell_type": "markdown",
   "id": "0705b379-db3b-4aac-b57c-27ce0ea14ca7",
   "metadata": {},
   "source": [
    "### 람다식\n",
    "- 람다식은 두가지 패턴으로 주로 사용함\n",
    "    1. 람다식을 변수로 사용 : 변수(a,b)로 사용 가능 \n",
    "    2. 람다식을 인수로 사용"
   ]
  },
  {
   "cell_type": "code",
   "execution_count": 35,
   "id": "3d85b294-ee8e-4b2f-9316-dcec4b9e2f1a",
   "metadata": {},
   "outputs": [
    {
     "name": "stdout",
     "output_type": "stream",
     "text": [
      "9\n"
     ]
    }
   ],
   "source": [
    "# 람다를 이용한 간단한 함수 정의\n",
    "add = lambda x, y: x+y\n",
    "print(add(5, 4))"
   ]
  },
  {
   "cell_type": "code",
   "execution_count": 37,
   "id": "d459670f-0104-4573-a4e4-0c5068f8d828",
   "metadata": {},
   "outputs": [
    {
     "name": "stdout",
     "output_type": "stream",
     "text": [
      "[1, 4, 9, 16, 25]\n"
     ]
    }
   ],
   "source": [
    "# 람다식을 인수로 넘기기 \n",
    "num = [1, 2, 3, 4, 5]\n",
    "squares = list(map(lambda x: x**2, num))    # map함수에 lambda식 넘기기\n",
    "print(squares)"
   ]
  },
  {
   "cell_type": "markdown",
   "id": "34997458-b182-46da-8073-5700cc9b981d",
   "metadata": {},
   "source": [
    "## 04-4 코딩 테스트 코드 구현 노하우"
   ]
  },
  {
   "cell_type": "markdown",
   "id": "6d5de37b-fb0e-4665-beaa-207b30a7bf03",
   "metadata": {},
   "source": [
    "### 조기반환 \n",
    "- 코드 실행 과정이 함수 끝까지 도달하기 전에 반환하는 방식\n",
    "- 코드 가독성을 높임 & 예외를 깔끔하고 빠르게 처리 가능"
   ]
  },
  {
   "cell_type": "code",
   "execution_count": 40,
   "id": "8774be3f-3d3a-4873-b812-264d2aea9b68",
   "metadata": {},
   "outputs": [
    {
     "name": "stdout",
     "output_type": "stream",
     "text": [
      "180.0\n"
     ]
    }
   ],
   "source": [
    "def total_price(quantity, price):\n",
    "    total = quantity * price\n",
    "    if total > 100:\n",
    "        return total * 0.9   # 조기반환\n",
    "    return total\n",
    "\n",
    "print(total_price(4, 50))"
   ]
  },
  {
   "cell_type": "markdown",
   "id": "db79a4c3-611f-4bc6-a891-be89c6ce6edd",
   "metadata": {},
   "source": [
    "### 보호 구문\n",
    "- 로직을 진행하기 전 예외처리 코드를 추가하는 기법\n",
    "- 구현부에서 입력값에 대한 예외를 고려하지 않아도 됨 "
   ]
  },
  {
   "cell_type": "code",
   "execution_count": 41,
   "id": "35aff2b4-0b20-47c1-9393-8aa178efe810",
   "metadata": {},
   "outputs": [],
   "source": [
    "def calculate_average(numbers):\n",
    "    if numbers is None:    # 예외처리 : 값이 없으면 종료\n",
    "        return None\n",
    "    \n",
    "    if not isinstance(numbers, list):    # 예외처리 : numbers가 list가 아니면 종료\n",
    "        return None \n",
    "    \n",
    "    if len(numbers)==0:    # 예외처리 : numbers의 길이가 0이면 종료\n",
    "        return None\n",
    "    \n",
    "    totla = sum(numbers)\n",
    "    average = total/len(numbers)\n",
    "    return average"
   ]
  },
  {
   "cell_type": "markdown",
   "id": "1aa4f9be-528f-4de4-8e22-4116a89f2916",
   "metadata": {},
   "source": [
    "### 합성 함수\n",
    "- 2개 이상의 함수를 활용해서 함수를 추가로 만드는 기법\n",
    "- 작은 기능을 분리해서 코드를 관리하므로 쉽게 관리할 수 있음"
   ]
  },
  {
   "cell_type": "code",
   "execution_count": 44,
   "id": "b09b174f-ca37-4e21-afbe-d24fbab0a12d",
   "metadata": {},
   "outputs": [
    {
     "name": "stdout",
     "output_type": "stream",
     "text": [
      "36\n"
     ]
    }
   ],
   "source": [
    "def add_three(x):\n",
    "    return x + 3\n",
    "\n",
    "def sqaure(x):\n",
    "    return x * x\n",
    "\n",
    "composed_function = lambda x : sqaure(add_three(x))\n",
    "print(composed_function(3))"
   ]
  }
 ],
 "metadata": {
  "kernelspec": {
   "display_name": "Python 3 (ipykernel)",
   "language": "python",
   "name": "python3"
  },
  "language_info": {
   "codemirror_mode": {
    "name": "ipython",
    "version": 3
   },
   "file_extension": ".py",
   "mimetype": "text/x-python",
   "name": "python",
   "nbconvert_exporter": "python",
   "pygments_lexer": "ipython3",
   "version": "3.9.7"
  }
 },
 "nbformat": 4,
 "nbformat_minor": 5
}
